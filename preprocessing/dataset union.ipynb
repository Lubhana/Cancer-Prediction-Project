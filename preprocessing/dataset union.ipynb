{
 "cells": [
  {
   "cell_type": "code",
   "execution_count": 3,
   "id": "66a24bb5",
   "metadata": {},
   "outputs": [
    {
     "name": "stdout",
     "output_type": "stream",
     "text": [
      "Rows match: 10459 rows\n",
      "Number of overlapping gene columns: 4557\n",
      "Saved union dataset to: /Users/arujatiwary/Desktop/DL+IS-2/dataset_union.csv\n",
      "Union shape (rows, cols): (10459, 13470)\n"
     ]
    }
   ],
   "source": [
    "import pandas as pd\n",
    "from pathlib import Path\n",
    "\n",
    "# paths - change to your file paths\n",
    "f1 = Path('/Users/arujatiwary/Desktop/DL+IS-2/Multi GA.csv')\n",
    "f2 = Path('/Users/arujatiwary/Desktop/DL+IS-2/Binary GA.csv')\n",
    "out = Path('/Users/arujatiwary/Desktop/DL+IS-2/dataset_union.csv')\n",
    "\n",
    "# 1) load without using any column as index (rows are patients in order)\n",
    "df1 = pd.read_csv(f1, header=0)   # header assumed present: gene names in first row\n",
    "df2 = pd.read_csv(f2, header=0)\n",
    "\n",
    "# 2) quick sanity check on number of rows (patients)\n",
    "if df1.shape[0] != df2.shape[0]:\n",
    "    raise ValueError(f\"Row counts differ: df1 has {df1.shape[0]} rows, df2 has {df2.shape[0]} rows. \"\n",
    "                     \"Since you said rows are the same serials, check ordering or missing rows.\")\n",
    "\n",
    "print(\"Rows match:\", df1.shape[0], \"rows\")\n",
    "\n",
    "# 3) handle overlapping gene columns\n",
    "overlap = df1.columns.intersection(df2.columns).tolist()\n",
    "print(\"Number of overlapping gene columns:\", len(overlap))\n",
    "\n",
    "# If genes overlap, combine by mean across the two datasets (row-wise)\n",
    "combined = df1.copy()\n",
    "\n",
    "if overlap:\n",
    "    # compute mean for overlapping genes\n",
    "    for g in overlap:\n",
    "        # take mean across the two series (works even if NaNs exist)\n",
    "        combined[g] = pd.concat([df1[g], df2[g]], axis=1).mean(axis=1)\n",
    "    # drop overlapping columns from df2 before concatenation\n",
    "    df2_nonoverlap = df2.drop(columns=overlap)\n",
    "else:\n",
    "    df2_nonoverlap = df2\n",
    "\n",
    "# 4) concatenate the remaining (non-overlapping) genes from df2\n",
    "df_union = pd.concat([combined, df2_nonoverlap], axis=1)\n",
    "\n",
    "# Optional: re-order columns (alphabetical) or keep as-is\n",
    "# df_union = df_union.reindex(sorted(df_union.columns), axis=1)\n",
    "\n",
    "# 5) save\n",
    "df_union.to_csv(out, index=False)\n",
    "print(\"Saved union dataset to:\", out)\n",
    "print(\"Union shape (rows, cols):\", df_union.shape)\n"
   ]
  }
 ],
 "metadata": {
  "kernelspec": {
   "display_name": "Python 3",
   "language": "python",
   "name": "python3"
  },
  "language_info": {
   "codemirror_mode": {
    "name": "ipython",
    "version": 3
   },
   "file_extension": ".py",
   "mimetype": "text/x-python",
   "name": "python",
   "nbconvert_exporter": "python",
   "pygments_lexer": "ipython3",
   "version": "3.12.8"
  }
 },
 "nbformat": 4,
 "nbformat_minor": 5
}
