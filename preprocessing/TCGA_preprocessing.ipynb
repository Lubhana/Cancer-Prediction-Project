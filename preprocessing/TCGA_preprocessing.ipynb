{
 "cells": [
  {
   "cell_type": "code",
   "execution_count": 22,
   "id": "e2ae09c7",
   "metadata": {},
   "outputs": [
    {
     "name": "stdout",
     "output_type": "stream",
     "text": [
      "Found 10459 sample columns in header.\n",
      "Saved labels to: /Users/arujatiwary/Desktop/DL+IS-2/tcga_exon_with_labels.csv\n",
      "Tumor samples: 9732, Normal samples: 727\n"
     ]
    }
   ],
   "source": [
    "# derive_labels_from_unzipped.py\n",
    "# Requirements: Python 3.7+, pandas (optional)\n",
    "import os\n",
    "from pathlib import Path\n",
    "import csv\n",
    "\n",
    "IN_PATH = \"/Users/arujatiwary/Desktop/DL+IS-2/tcga_exon_expression.tsv\"  # your unzipped file\n",
    "OUT_CSV = \"/Users/arujatiwary/Desktop/DL+IS-2/tcga_exon_with_labels.csv\"\n",
    "\n",
    "def normalize_barcode(b):\n",
    "    return b.replace('.', '-')\n",
    "\n",
    "def barcode_to_patient_id(barcode):\n",
    "    parts = barcode.split('-')\n",
    "    if len(parts) < 3:\n",
    "        return barcode\n",
    "    return '-'.join(parts[:3])\n",
    "\n",
    "def is_normal_from_barcode(barcode):\n",
    "    parts = barcode.split('-')\n",
    "    if len(parts) < 4:\n",
    "        return False\n",
    "    code = parts[3][:2]\n",
    "    return code == '11'\n",
    "\n",
    "def read_header_samples(path):\n",
    "    # Read only the first line to get header\n",
    "    with open(path, 'rt', errors='replace') as f:\n",
    "        header = f.readline().rstrip(\"\\n\\r\")\n",
    "    cols = header.split(\"\\t\")\n",
    "    # first column is row identifier; the rest are samples\n",
    "    return cols[1:]\n",
    "\n",
    "def main():\n",
    "    path = Path(IN_PATH)\n",
    "    if not path.exists():\n",
    "        raise FileNotFoundError(f\"Expression file not found: {path}\")\n",
    "\n",
    "    sample_ids = read_header_samples(path)\n",
    "    print(f\"Found {len(sample_ids)} sample columns in header.\")\n",
    "\n",
    "    rows = []\n",
    "    tumor_count = 0\n",
    "    normal_count = 0\n",
    "    for sid in sample_ids:\n",
    "        sid_norm = normalize_barcode(sid)\n",
    "        patient = barcode_to_patient_id(sid_norm)\n",
    "        binary = 0 if is_normal_from_barcode(sid_norm) else 1\n",
    "        if binary == 1:\n",
    "            tumor_count += 1\n",
    "        else:\n",
    "            normal_count += 1\n",
    "        rows.append((sid, sid_norm, patient, binary))\n",
    "\n",
    "    # Write CSV\n",
    "    with open(OUT_CSV, 'w', newline='') as csvfile:\n",
    "        w = csv.writer(csvfile)\n",
    "        w.writerow([\"original_sample_id\", \"normalized_sample_id\", \"patient_id\", \"binary_label\"])\n",
    "        for r in rows:\n",
    "            w.writerow(r)\n",
    "\n",
    "    print(f\"Saved labels to: {OUT_CSV}\")\n",
    "    print(f\"Tumor samples: {tumor_count}, Normal samples: {normal_count}\")\n",
    "\n",
    "if __name__ == \"__main__\":\n",
    "    main()"
   ]
  },
  {
   "cell_type": "code",
   "execution_count": 24,
   "id": "adee6582",
   "metadata": {},
   "outputs": [
    {
     "name": "stdout",
     "output_type": "stream",
     "text": [
      "Unique patient IDs: 9706\n"
     ]
    },
    {
     "name": "stderr",
     "output_type": "stream",
     "text": [
      "Querying GDC: 100%|██████████| 98/98 [02:59<00:00,  1.83s/it]"
     ]
    },
    {
     "name": "stdout",
     "output_type": "stream",
     "text": [
      "Missing project for 5 samples.\n",
      "Saved updated file with cancer type labels → /Users/arujatiwary/Documents/local_tcga/tcga_sample_labels_with_cancer_type.csv\n",
      "  original_sample_id normalized_sample_id    patient_id  binary_label  \\\n",
      "0    TCGA-S9-A7J2-01      TCGA-S9-A7J2-01  TCGA-S9-A7J2             1   \n",
      "1    TCGA-G3-A3CH-11      TCGA-G3-A3CH-11  TCGA-G3-A3CH             0   \n",
      "2    TCGA-EK-A2RE-01      TCGA-EK-A2RE-01  TCGA-EK-A2RE             1   \n",
      "3    TCGA-44-6778-01      TCGA-44-6778-01  TCGA-44-6778             1   \n",
      "4    TCGA-VM-A8C8-01      TCGA-VM-A8C8-01  TCGA-VM-A8C8             1   \n",
      "\n",
      "  project_id  \n",
      "0   TCGA-LGG  \n",
      "1  TCGA-LIHC  \n",
      "2  TCGA-CESC  \n",
      "3  TCGA-LUAD  \n",
      "4   TCGA-LGG  \n"
     ]
    },
    {
     "name": "stderr",
     "output_type": "stream",
     "text": [
      "\n"
     ]
    }
   ],
   "source": [
    "import pandas as pd\n",
    "import requests\n",
    "import json\n",
    "import time\n",
    "from tqdm import tqdm\n",
    "\n",
    "# Input / output paths\n",
    "IN_CSV = \"/Users/arujatiwary/Desktop/DL+IS-2/tcga_exon_with_labels.csv\"     # your existing labels file\n",
    "OUT_CSV = \"/Users/arujatiwary/Documents/local_tcga/tcga_sample_labels_with_cancer_type.csv\"\n",
    "BATCH_SIZE = 100\n",
    "\n",
    "# Load your existing labels\n",
    "df = pd.read_csv(IN_CSV)\n",
    "patient_ids = df[\"patient_id\"].unique().tolist()\n",
    "print(f\"Unique patient IDs: {len(patient_ids)}\")\n",
    "\n",
    "def query_gdc_for_projects(batch):\n",
    "    \"\"\"Query GDC Cases endpoint for project info\"\"\"\n",
    "    url = \"https://api.gdc.cancer.gov/cases\"\n",
    "    filters = {\n",
    "        \"op\": \"in\",\n",
    "        \"content\": {\n",
    "            \"field\": \"cases.submitter_id\",\n",
    "            \"value\": batch\n",
    "        }\n",
    "    }\n",
    "    params = {\n",
    "        \"filters\": json.dumps(filters),\n",
    "        \"fields\": \"submitter_id,project.project_id\",\n",
    "        \"format\": \"JSON\",\n",
    "        \"size\": len(batch)\n",
    "    }\n",
    "    r = requests.get(url, params=params, timeout=60)\n",
    "    r.raise_for_status()\n",
    "    data = r.json()\n",
    "    hits = data.get(\"data\", {}).get(\"hits\", [])\n",
    "    mapping = {}\n",
    "    for h in hits:\n",
    "        sid = h.get(\"submitter_id\")\n",
    "        proj = None\n",
    "        proj_obj = h.get(\"project\")\n",
    "        if isinstance(proj_obj, dict):\n",
    "            proj = proj_obj.get(\"project_id\")\n",
    "        elif isinstance(proj_obj, list) and len(proj_obj) > 0:\n",
    "            proj = proj_obj[0].get(\"project_id\")\n",
    "        mapping[sid] = proj\n",
    "    return mapping\n",
    "\n",
    "# Query GDC in batches\n",
    "patient_to_project = {}\n",
    "for i in tqdm(range(0, len(patient_ids), BATCH_SIZE), desc=\"Querying GDC\"):\n",
    "    batch = patient_ids[i:i+BATCH_SIZE]\n",
    "    try:\n",
    "        mapping = query_gdc_for_projects(batch)\n",
    "        patient_to_project.update(mapping)\n",
    "    except Exception as e:\n",
    "        print(f\"Error querying batch {i}: {e}\")\n",
    "        for pid in batch:\n",
    "            patient_to_project[pid] = None\n",
    "    time.sleep(0.2)\n",
    "\n",
    "# Map projects back into dataframe\n",
    "df[\"project_id\"] = df[\"patient_id\"].map(patient_to_project)\n",
    "missing = df[\"project_id\"].isna().sum()\n",
    "print(f\"Missing project for {missing} samples.\")\n",
    "\n",
    "# Save updated file\n",
    "df.to_csv(OUT_CSV, index=False)\n",
    "print(f\"Saved updated file with cancer type labels → {OUT_CSV}\")\n",
    "print(df.head())"
   ]
  },
  {
   "cell_type": "code",
   "execution_count": 1,
   "id": "a13f790f",
   "metadata": {},
   "outputs": [
    {
     "name": "stdout",
     "output_type": "stream",
     "text": [
      "Reading dataset header...\n",
      "Found 10459 samples.\n",
      "Loading label file...\n",
      "Reordering labels to match dataset sample order...\n",
      "Labels missing for 0 samples (they’ll be blank).\n",
      "Appending label rows to output file...\n"
     ]
    },
    {
     "name": "stderr",
     "output_type": "stream",
     "text": [
      "Copying original dataset: 239323it [01:47, 2229.13it/s]\n"
     ]
    },
    {
     "name": "stdout",
     "output_type": "stream",
     "text": [
      "\n",
      "Done! File saved as: /Users/arujatiwary/Desktop/DL+IS-2/tcga_exon_with_labels.tsv\n",
      "You can now transpose and process later as needed.\n"
     ]
    }
   ],
   "source": [
    "import pandas as pd\n",
    "from tqdm import tqdm\n",
    "import csv\n",
    "\n",
    "# ---------- CONFIG ----------\n",
    "EXON_FILE = \"/Users/arujatiwary/Desktop/DL+IS-2/TCGA.PANCAN.sampleMap_HiSeqV2_exon\"   # original dataset\n",
    "LABELS_FILE = \"/Users/arujatiwary/Desktop/DL+IS-2/tcga_sample_labels_with_cancer_type.csv\"                    # your labels file\n",
    "OUT_FILE = \"/Users/arujatiwary/Desktop/DL+IS-2/tcga_exon_with_labels.tsv\"                                     # output merged file\n",
    "# ----------------------------\n",
    "\n",
    "def read_header(path):\n",
    "    with open(path, \"r\", errors=\"replace\") as f:\n",
    "        header = f.readline().strip()\n",
    "    cols = header.split(\"\\t\")\n",
    "    sample_ids = cols[1:]\n",
    "    return header, sample_ids\n",
    "\n",
    "def main():\n",
    "    print(\"Reading dataset header...\")\n",
    "    header, sample_ids = read_header(EXON_FILE)\n",
    "    print(f\"Found {len(sample_ids)} samples.\")\n",
    "\n",
    "    print(\"Loading label file...\")\n",
    "    labels = pd.read_csv(LABELS_FILE, dtype=str)\n",
    "    labels[\"normalized_sample_id\"] = labels[\"normalized_sample_id\"].str.replace(\".\", \"-\")\n",
    "\n",
    "    # Build lookup dictionaries\n",
    "    binary_dict = dict(zip(labels[\"normalized_sample_id\"], labels[\"binary_label\"]))\n",
    "    cancer_dict = dict(zip(labels[\"normalized_sample_id\"], labels[\"project_id\"]))\n",
    "\n",
    "    print(\"Reordering labels to match dataset sample order...\")\n",
    "    binary_row = [\"binary_label\"]\n",
    "    cancer_row = [\"project_id\"]\n",
    "\n",
    "    missing = 0\n",
    "    for sid in sample_ids:\n",
    "        sid_norm = sid.replace(\".\", \"-\")\n",
    "        b = binary_dict.get(sid_norm, \"\")\n",
    "        c = cancer_dict.get(sid_norm, \"\")\n",
    "        if b == \"\" or c == \"\":\n",
    "            missing += 1\n",
    "        binary_row.append(b)\n",
    "        cancer_row.append(c)\n",
    "\n",
    "    print(f\"Labels missing for {missing} samples (they’ll be blank).\")\n",
    "\n",
    "    # Now copy the original dataset and append two rows\n",
    "    print(\"Appending label rows to output file...\")\n",
    "    with open(OUT_FILE, \"w\", newline=\"\", errors=\"replace\") as out_f, open(EXON_FILE, \"r\", errors=\"replace\") as in_f:\n",
    "        # Copy the original file\n",
    "        for line in tqdm(in_f, desc=\"Copying original dataset\"):\n",
    "            out_f.write(line)\n",
    "        # Append our two new rows\n",
    "        writer = csv.writer(out_f, delimiter=\"\\t\")\n",
    "        writer.writerow(binary_row)\n",
    "        writer.writerow(cancer_row)\n",
    "\n",
    "    print(f\"\\nDone! File saved as: {OUT_FILE}\")\n",
    "    print(\"You can now transpose and process later as needed.\")\n",
    "\n",
    "if __name__ == \"__main__\":\n",
    "    main()"
   ]
  },
  {
   "cell_type": "code",
   "execution_count": 7,
   "id": "b5dda615",
   "metadata": {},
   "outputs": [
    {
     "name": "stdout",
     "output_type": "stream",
     "text": [
      "                            id  TCGA-EK-A2RE-01  TCGA-C8-A1HL-01  \\\n",
      "0     chr3:52007981-52008646:-           0.8145           1.4589   \n",
      "1   chr1:215901372-215901726:-           0.0000           0.0000   \n",
      "2    chr17:49268962-49270377:-           0.5150           0.7109   \n",
      "3   chr4:147214081-147214132:-           2.2705           1.3928   \n",
      "4     chr1:16074041-16074475:+           0.0000           0.8644   \n",
      "5   chr3:195599147-195599341:-           3.6112           3.0232   \n",
      "6    chr17:30351730-30351801:+           1.0323           1.6862   \n",
      "7  chr14:106521424-106521433:-           0.0000           0.0000   \n",
      "8    chr15:42032104-42032401:+           1.2345           0.8384   \n",
      "9     chr1:94485138-94485315:-           0.0846           0.0000   \n",
      "\n",
      "   TCGA-R6-A8WC-01  TCGA-L5-A4OH-01  TCGA-A2-A3XX-01  TCGA-DQ-5624-01  \\\n",
      "0           2.3137           1.0703           2.0839           1.2306   \n",
      "1           0.0000           0.0000           0.0000           0.0000   \n",
      "2           1.5549           1.2892           0.8336           0.3369   \n",
      "3           2.5050           2.7334           1.5784           2.3099   \n",
      "4           0.6300           2.0709           0.0000           0.0000   \n",
      "5           4.4168           4.2987           3.6880           3.6964   \n",
      "6           2.3605           2.9775           2.7352           0.5622   \n",
      "7           0.0000           0.0000           0.0000           0.0000   \n",
      "8           3.5919           2.5614           0.6040           1.0717   \n",
      "9           0.0000           0.0000           0.5691           0.0392   \n",
      "\n",
      "   TCGA-HG-A2PA-01  TCGA-06-5412-01  TCGA-BH-A0BQ-11  ...  TCGA-AN-A0XT-01  \\\n",
      "0           1.3152           1.6899           2.3733  ...           1.6165   \n",
      "1           0.0000           0.0000           0.0000  ...           0.0000   \n",
      "2           0.7191           0.4764           1.6922  ...           1.1008   \n",
      "3           2.7794           2.1010           1.9583  ...           2.4715   \n",
      "4           0.0000           0.0000           0.0000  ...           0.0816   \n",
      "5           4.1904           3.4954           4.1781  ...           4.3131   \n",
      "6           1.2274           1.0919           1.2567  ...           0.5549   \n",
      "7           0.0000           0.0000           0.0000  ...           0.0000   \n",
      "8           1.5581           0.4093           2.4752  ...           1.4480   \n",
      "9           1.5427           0.2973           0.3573  ...           0.6500   \n",
      "\n",
      "   TCGA-C5-A1BJ-01  TCGA-G2-AA3C-01  TCGA-CR-6470-01  TCGA-2H-A9GM-01  \\\n",
      "0           0.8929           1.0916           2.0683           0.8926   \n",
      "1           0.0000           0.0000           0.0000           0.0000   \n",
      "2           0.8615           0.0904           0.9341           1.5204   \n",
      "3           2.5037           1.5644           2.5809           2.9264   \n",
      "4           0.0748           0.0660           0.0000           1.1703   \n",
      "5           4.4133           2.5624           3.7164           3.6545   \n",
      "6           1.4403           0.0000           1.2260           2.2892   \n",
      "7           0.0000           0.0000           0.0000           0.0000   \n",
      "8           1.6305           0.0000           2.4080           1.8782   \n",
      "9           0.0908           0.4857           0.5925           0.0000   \n",
      "\n",
      "   TCGA-CM-4751-01  TCGA-AO-A0J4-01  TCGA-CF-A9FF-01  TCGA-A2-A0YK-01  \\\n",
      "0           2.1131           1.1236           0.7582           2.0830   \n",
      "1           0.0000           0.0000           0.0460           0.0000   \n",
      "2           0.8497           1.5949           0.3973           1.3236   \n",
      "3           2.6478           2.2038           1.0751           2.8832   \n",
      "4           1.8744           0.0286           0.0000           0.0451   \n",
      "5           4.8989           3.3901           4.5685           4.2772   \n",
      "6           1.2954           1.7496           1.6222           2.2746   \n",
      "7           0.0000           0.0000           0.0000           0.0000   \n",
      "8           0.8350           2.2246           0.5109           2.0703   \n",
      "9           0.0000           0.5515           0.0000           1.2140   \n",
      "\n",
      "   TCGA-A8-A09K-01  \n",
      "0           2.2840  \n",
      "1           0.0000  \n",
      "2           2.4780  \n",
      "3           3.0066  \n",
      "4           0.2011  \n",
      "5           5.1114  \n",
      "6           0.6459  \n",
      "7           0.0000  \n",
      "8           1.9092  \n",
      "9           0.0000  \n",
      "\n",
      "[10 rows x 3476 columns]\n"
     ]
    }
   ],
   "source": [
    "import pandas as pd\n",
    "\n",
    "path = \"/Users/arujatiwary/Desktop/DL+IS-2/subsets/subset_1.tsv\"\n",
    "df = pd.read_csv(path, sep=\"\\t\", nrows=10)\n",
    "print(df.head(10))"
   ]
  },
  {
   "cell_type": "code",
   "execution_count": 3,
   "id": "9afe8a87",
   "metadata": {},
   "outputs": [
    {
     "name": "stdout",
     "output_type": "stream",
     "text": [
      "🚀 Starting resumable collapse exons -> genes\n",
      "Temp dir: /Users/arujatiwary/duckdb_temp, max temp 18 GB, memory limit 4GB, threads 1\n",
      "DuckDB configured with PRAGMAs.\n",
      "Loading probe map (this is small)...\n",
      "Probe map table created in DuckDB.\n",
      "exons_raw already exists; skipping view creation.\n",
      "Detected exon ID column: Sample\n",
      "exons_long already exists; skipping UNPIVOT. (If you want to recompute, delete exons_long table first.)\n",
      "Total unique genes from probe map: 23547\n",
      "Created accumulator table gene_expr_long_accum.\n",
      "Aggregating in batches: 1000 genes per batch -> 24 batches total.\n",
      "Batch 1/24 - processing genes 1..1000 (count processed in this batch so far: 0)\n"
     ]
    },
    {
     "data": {
      "application/vnd.jupyter.widget-view+json": {
       "model_id": "497cab3142fe42e7976ce0d5bd4d2a7a",
       "version_major": 2,
       "version_minor": 0
      },
      "text/plain": [
       "FloatProgress(value=0.0, layout=Layout(width='auto'), style=ProgressStyle(bar_color='black'))"
      ]
     },
     "metadata": {},
     "output_type": "display_data"
    },
    {
     "data": {
      "application/vnd.jupyter.widget-view+json": {
       "model_id": "de28870716044338b156b167e9e380f8",
       "version_major": 2,
       "version_minor": 0
      },
      "text/plain": [
       "FloatProgress(value=0.0, layout=Layout(width='auto'), style=ProgressStyle(bar_color='black'))"
      ]
     },
     "metadata": {},
     "output_type": "display_data"
    },
    {
     "name": "stdout",
     "output_type": "stream",
     "text": [
      "Batch 1 appended to accumulator. Accum size now ~ 10459000 rows\n",
      "Batch 2/24 - processing genes 1001..2000 (count processed in this batch so far: 0)\n"
     ]
    },
    {
     "data": {
      "application/vnd.jupyter.widget-view+json": {
       "model_id": "9673905796bb4a5f9c8e8c5b8d01b82e",
       "version_major": 2,
       "version_minor": 0
      },
      "text/plain": [
       "FloatProgress(value=0.0, layout=Layout(width='auto'), style=ProgressStyle(bar_color='black'))"
      ]
     },
     "metadata": {},
     "output_type": "display_data"
    },
    {
     "data": {
      "application/vnd.jupyter.widget-view+json": {
       "model_id": "6691b0921a064e9f82d4903bb279d939",
       "version_major": 2,
       "version_minor": 0
      },
      "text/plain": [
       "FloatProgress(value=0.0, layout=Layout(width='auto'), style=ProgressStyle(bar_color='black'))"
      ]
     },
     "metadata": {},
     "output_type": "display_data"
    },
    {
     "name": "stdout",
     "output_type": "stream",
     "text": [
      "Batch 2 appended to accumulator. Accum size now ~ 20918000 rows\n",
      "Batch 3/24 - processing genes 2001..3000 (count processed in this batch so far: 0)\n"
     ]
    },
    {
     "data": {
      "application/vnd.jupyter.widget-view+json": {
       "model_id": "d1ac8ca40c804ab0ab4e8bfb32cbe14a",
       "version_major": 2,
       "version_minor": 0
      },
      "text/plain": [
       "FloatProgress(value=0.0, layout=Layout(width='auto'), style=ProgressStyle(bar_color='black'))"
      ]
     },
     "metadata": {},
     "output_type": "display_data"
    },
    {
     "data": {
      "application/vnd.jupyter.widget-view+json": {
       "model_id": "d625527ea16249619ebe43168a8834f6",
       "version_major": 2,
       "version_minor": 0
      },
      "text/plain": [
       "FloatProgress(value=0.0, layout=Layout(width='auto'), style=ProgressStyle(bar_color='black'))"
      ]
     },
     "metadata": {},
     "output_type": "display_data"
    },
    {
     "name": "stdout",
     "output_type": "stream",
     "text": [
      "Batch 3 appended to accumulator. Accum size now ~ 31377000 rows\n",
      "Batch 4/24 - processing genes 3001..4000 (count processed in this batch so far: 0)\n"
     ]
    },
    {
     "data": {
      "application/vnd.jupyter.widget-view+json": {
       "model_id": "2d48ab5973054b369ba1f7e6c83dcf2f",
       "version_major": 2,
       "version_minor": 0
      },
      "text/plain": [
       "FloatProgress(value=0.0, layout=Layout(width='auto'), style=ProgressStyle(bar_color='black'))"
      ]
     },
     "metadata": {},
     "output_type": "display_data"
    },
    {
     "data": {
      "application/vnd.jupyter.widget-view+json": {
       "model_id": "ee8509e65db9482eaec63f5e6017c6d4",
       "version_major": 2,
       "version_minor": 0
      },
      "text/plain": [
       "FloatProgress(value=0.0, layout=Layout(width='auto'), style=ProgressStyle(bar_color='black'))"
      ]
     },
     "metadata": {},
     "output_type": "display_data"
    },
    {
     "name": "stdout",
     "output_type": "stream",
     "text": [
      "Batch 4 appended to accumulator. Accum size now ~ 41836000 rows\n",
      "Batch 5/24 - processing genes 4001..5000 (count processed in this batch so far: 0)\n"
     ]
    },
    {
     "data": {
      "application/vnd.jupyter.widget-view+json": {
       "model_id": "21f23675bea2443081de2aafcb774cc6",
       "version_major": 2,
       "version_minor": 0
      },
      "text/plain": [
       "FloatProgress(value=0.0, layout=Layout(width='auto'), style=ProgressStyle(bar_color='black'))"
      ]
     },
     "metadata": {},
     "output_type": "display_data"
    },
    {
     "data": {
      "application/vnd.jupyter.widget-view+json": {
       "model_id": "06519b26305044e49c5b9b7e01a5c8da",
       "version_major": 2,
       "version_minor": 0
      },
      "text/plain": [
       "FloatProgress(value=0.0, layout=Layout(width='auto'), style=ProgressStyle(bar_color='black'))"
      ]
     },
     "metadata": {},
     "output_type": "display_data"
    },
    {
     "name": "stdout",
     "output_type": "stream",
     "text": [
      "Batch 5 appended to accumulator. Accum size now ~ 52295000 rows\n",
      "Writing checkpoint parquet for accum -> /Users/arujatiwary/duckdb_temp/gene_expr_long_accum_checkpoint_batch5.parquet\n"
     ]
    },
    {
     "data": {
      "application/vnd.jupyter.widget-view+json": {
       "model_id": "7cb0289e74234613aa3c6ec9bbea4aa0",
       "version_major": 2,
       "version_minor": 0
      },
      "text/plain": [
       "FloatProgress(value=0.0, layout=Layout(width='auto'), style=ProgressStyle(bar_color='black'))"
      ]
     },
     "metadata": {},
     "output_type": "display_data"
    },
    {
     "name": "stdout",
     "output_type": "stream",
     "text": [
      "Checkpoint written.\n",
      "Batch 6/24 - processing genes 5001..6000 (count processed in this batch so far: 0)\n"
     ]
    },
    {
     "data": {
      "application/vnd.jupyter.widget-view+json": {
       "model_id": "d18d5cb350ae4ca7922edee1e9baac2d",
       "version_major": 2,
       "version_minor": 0
      },
      "text/plain": [
       "FloatProgress(value=0.0, layout=Layout(width='auto'), style=ProgressStyle(bar_color='black'))"
      ]
     },
     "metadata": {},
     "output_type": "display_data"
    },
    {
     "data": {
      "application/vnd.jupyter.widget-view+json": {
       "model_id": "8f2e587e229943ce97f8cc3c7cb4f3c4",
       "version_major": 2,
       "version_minor": 0
      },
      "text/plain": [
       "FloatProgress(value=0.0, layout=Layout(width='auto'), style=ProgressStyle(bar_color='black'))"
      ]
     },
     "metadata": {},
     "output_type": "display_data"
    },
    {
     "name": "stdout",
     "output_type": "stream",
     "text": [
      "Batch 6 appended to accumulator. Accum size now ~ 62754000 rows\n",
      "Batch 7/24 - processing genes 6001..7000 (count processed in this batch so far: 0)\n"
     ]
    },
    {
     "data": {
      "application/vnd.jupyter.widget-view+json": {
       "model_id": "18529011d1d44a9eb78c5f1cb991b03b",
       "version_major": 2,
       "version_minor": 0
      },
      "text/plain": [
       "FloatProgress(value=0.0, layout=Layout(width='auto'), style=ProgressStyle(bar_color='black'))"
      ]
     },
     "metadata": {},
     "output_type": "display_data"
    },
    {
     "data": {
      "application/vnd.jupyter.widget-view+json": {
       "model_id": "1ed105f9d8b5439f80c0a2a0878283ef",
       "version_major": 2,
       "version_minor": 0
      },
      "text/plain": [
       "FloatProgress(value=0.0, layout=Layout(width='auto'), style=ProgressStyle(bar_color='black'))"
      ]
     },
     "metadata": {},
     "output_type": "display_data"
    },
    {
     "name": "stdout",
     "output_type": "stream",
     "text": [
      "Batch 7 appended to accumulator. Accum size now ~ 73213000 rows\n",
      "Batch 8/24 - processing genes 7001..8000 (count processed in this batch so far: 0)\n"
     ]
    },
    {
     "data": {
      "application/vnd.jupyter.widget-view+json": {
       "model_id": "7a2e3be0304e41809c8707b39e3732b1",
       "version_major": 2,
       "version_minor": 0
      },
      "text/plain": [
       "FloatProgress(value=0.0, layout=Layout(width='auto'), style=ProgressStyle(bar_color='black'))"
      ]
     },
     "metadata": {},
     "output_type": "display_data"
    },
    {
     "data": {
      "application/vnd.jupyter.widget-view+json": {
       "model_id": "8552e0b25bd4486d890305eaca80b3db",
       "version_major": 2,
       "version_minor": 0
      },
      "text/plain": [
       "FloatProgress(value=0.0, layout=Layout(width='auto'), style=ProgressStyle(bar_color='black'))"
      ]
     },
     "metadata": {},
     "output_type": "display_data"
    },
    {
     "name": "stdout",
     "output_type": "stream",
     "text": [
      "Batch 8 appended to accumulator. Accum size now ~ 83672000 rows\n",
      "Batch 9/24 - processing genes 8001..9000 (count processed in this batch so far: 0)\n"
     ]
    },
    {
     "data": {
      "application/vnd.jupyter.widget-view+json": {
       "model_id": "d12098e3bfa74a0288aa26f7ae3ac798",
       "version_major": 2,
       "version_minor": 0
      },
      "text/plain": [
       "FloatProgress(value=0.0, layout=Layout(width='auto'), style=ProgressStyle(bar_color='black'))"
      ]
     },
     "metadata": {},
     "output_type": "display_data"
    },
    {
     "data": {
      "application/vnd.jupyter.widget-view+json": {
       "model_id": "8d7562f9db8849ae8459f100fdea1dfa",
       "version_major": 2,
       "version_minor": 0
      },
      "text/plain": [
       "FloatProgress(value=0.0, layout=Layout(width='auto'), style=ProgressStyle(bar_color='black'))"
      ]
     },
     "metadata": {},
     "output_type": "display_data"
    },
    {
     "name": "stdout",
     "output_type": "stream",
     "text": [
      "Batch 9 appended to accumulator. Accum size now ~ 94131000 rows\n",
      "Batch 10/24 - processing genes 9001..10000 (count processed in this batch so far: 0)\n"
     ]
    },
    {
     "data": {
      "application/vnd.jupyter.widget-view+json": {
       "model_id": "2cc6e923500544da930b994b67b06af5",
       "version_major": 2,
       "version_minor": 0
      },
      "text/plain": [
       "FloatProgress(value=0.0, layout=Layout(width='auto'), style=ProgressStyle(bar_color='black'))"
      ]
     },
     "metadata": {},
     "output_type": "display_data"
    },
    {
     "data": {
      "application/vnd.jupyter.widget-view+json": {
       "model_id": "08370dd20903468a83c70713d1e0910a",
       "version_major": 2,
       "version_minor": 0
      },
      "text/plain": [
       "FloatProgress(value=0.0, layout=Layout(width='auto'), style=ProgressStyle(bar_color='black'))"
      ]
     },
     "metadata": {},
     "output_type": "display_data"
    },
    {
     "name": "stdout",
     "output_type": "stream",
     "text": [
      "Batch 10 appended to accumulator. Accum size now ~ 104590000 rows\n",
      "Writing checkpoint parquet for accum -> /Users/arujatiwary/duckdb_temp/gene_expr_long_accum_checkpoint_batch10.parquet\n"
     ]
    },
    {
     "data": {
      "application/vnd.jupyter.widget-view+json": {
       "model_id": "eea18311535c4530a8851c45413ce400",
       "version_major": 2,
       "version_minor": 0
      },
      "text/plain": [
       "FloatProgress(value=0.0, layout=Layout(width='auto'), style=ProgressStyle(bar_color='black'))"
      ]
     },
     "metadata": {},
     "output_type": "display_data"
    },
    {
     "name": "stdout",
     "output_type": "stream",
     "text": [
      "Checkpoint written.\n",
      "Batch 11/24 - processing genes 10001..11000 (count processed in this batch so far: 0)\n"
     ]
    },
    {
     "data": {
      "application/vnd.jupyter.widget-view+json": {
       "model_id": "60d27e690abd407abd689d4e21a34d63",
       "version_major": 2,
       "version_minor": 0
      },
      "text/plain": [
       "FloatProgress(value=0.0, layout=Layout(width='auto'), style=ProgressStyle(bar_color='black'))"
      ]
     },
     "metadata": {},
     "output_type": "display_data"
    },
    {
     "data": {
      "application/vnd.jupyter.widget-view+json": {
       "model_id": "9bfb1ff4f4934974bc17de4e6880ac49",
       "version_major": 2,
       "version_minor": 0
      },
      "text/plain": [
       "FloatProgress(value=0.0, layout=Layout(width='auto'), style=ProgressStyle(bar_color='black'))"
      ]
     },
     "metadata": {},
     "output_type": "display_data"
    },
    {
     "name": "stdout",
     "output_type": "stream",
     "text": [
      "Batch 11 appended to accumulator. Accum size now ~ 115049000 rows\n",
      "Batch 12/24 - processing genes 11001..12000 (count processed in this batch so far: 0)\n"
     ]
    },
    {
     "data": {
      "application/vnd.jupyter.widget-view+json": {
       "model_id": "da344191e7da4dc4b2c88c893aac3e3f",
       "version_major": 2,
       "version_minor": 0
      },
      "text/plain": [
       "FloatProgress(value=0.0, layout=Layout(width='auto'), style=ProgressStyle(bar_color='black'))"
      ]
     },
     "metadata": {},
     "output_type": "display_data"
    },
    {
     "data": {
      "application/vnd.jupyter.widget-view+json": {
       "model_id": "645d6147e8784778ba3f59ec75f8e80d",
       "version_major": 2,
       "version_minor": 0
      },
      "text/plain": [
       "FloatProgress(value=0.0, layout=Layout(width='auto'), style=ProgressStyle(bar_color='black'))"
      ]
     },
     "metadata": {},
     "output_type": "display_data"
    },
    {
     "name": "stdout",
     "output_type": "stream",
     "text": [
      "Batch 12 appended to accumulator. Accum size now ~ 125508000 rows\n",
      "Batch 13/24 - processing genes 12001..13000 (count processed in this batch so far: 0)\n"
     ]
    },
    {
     "data": {
      "application/vnd.jupyter.widget-view+json": {
       "model_id": "da5cf91398dc467dab3855e06f321f6d",
       "version_major": 2,
       "version_minor": 0
      },
      "text/plain": [
       "FloatProgress(value=0.0, layout=Layout(width='auto'), style=ProgressStyle(bar_color='black'))"
      ]
     },
     "metadata": {},
     "output_type": "display_data"
    },
    {
     "data": {
      "application/vnd.jupyter.widget-view+json": {
       "model_id": "7d6fc97cd29b4804afc4a1549e4ee45b",
       "version_major": 2,
       "version_minor": 0
      },
      "text/plain": [
       "FloatProgress(value=0.0, layout=Layout(width='auto'), style=ProgressStyle(bar_color='black'))"
      ]
     },
     "metadata": {},
     "output_type": "display_data"
    },
    {
     "name": "stdout",
     "output_type": "stream",
     "text": [
      "Batch 13 appended to accumulator. Accum size now ~ 135967000 rows\n",
      "Batch 14/24 - processing genes 13001..14000 (count processed in this batch so far: 0)\n"
     ]
    },
    {
     "data": {
      "application/vnd.jupyter.widget-view+json": {
       "model_id": "f814bf5ef83940deb24858e401e61f59",
       "version_major": 2,
       "version_minor": 0
      },
      "text/plain": [
       "FloatProgress(value=0.0, layout=Layout(width='auto'), style=ProgressStyle(bar_color='black'))"
      ]
     },
     "metadata": {},
     "output_type": "display_data"
    },
    {
     "data": {
      "application/vnd.jupyter.widget-view+json": {
       "model_id": "b7f57378ae374e7f82a15052135fa007",
       "version_major": 2,
       "version_minor": 0
      },
      "text/plain": [
       "FloatProgress(value=0.0, layout=Layout(width='auto'), style=ProgressStyle(bar_color='black'))"
      ]
     },
     "metadata": {},
     "output_type": "display_data"
    },
    {
     "name": "stdout",
     "output_type": "stream",
     "text": [
      "Batch 14 appended to accumulator. Accum size now ~ 146426000 rows\n",
      "Batch 15/24 - processing genes 14001..15000 (count processed in this batch so far: 0)\n"
     ]
    },
    {
     "data": {
      "application/vnd.jupyter.widget-view+json": {
       "model_id": "5eca157b46014359b11862969ad1c579",
       "version_major": 2,
       "version_minor": 0
      },
      "text/plain": [
       "FloatProgress(value=0.0, layout=Layout(width='auto'), style=ProgressStyle(bar_color='black'))"
      ]
     },
     "metadata": {},
     "output_type": "display_data"
    },
    {
     "data": {
      "application/vnd.jupyter.widget-view+json": {
       "model_id": "6e819bb488324b50a0bb4ad75dd38ca2",
       "version_major": 2,
       "version_minor": 0
      },
      "text/plain": [
       "FloatProgress(value=0.0, layout=Layout(width='auto'), style=ProgressStyle(bar_color='black'))"
      ]
     },
     "metadata": {},
     "output_type": "display_data"
    },
    {
     "name": "stdout",
     "output_type": "stream",
     "text": [
      "Batch 15 appended to accumulator. Accum size now ~ 156885000 rows\n",
      "Writing checkpoint parquet for accum -> /Users/arujatiwary/duckdb_temp/gene_expr_long_accum_checkpoint_batch15.parquet\n"
     ]
    },
    {
     "data": {
      "application/vnd.jupyter.widget-view+json": {
       "model_id": "7ed7f3b9d21841068b676c2f74c81793",
       "version_major": 2,
       "version_minor": 0
      },
      "text/plain": [
       "FloatProgress(value=0.0, layout=Layout(width='auto'), style=ProgressStyle(bar_color='black'))"
      ]
     },
     "metadata": {},
     "output_type": "display_data"
    },
    {
     "name": "stdout",
     "output_type": "stream",
     "text": [
      "Checkpoint written.\n",
      "Batch 16/24 - processing genes 15001..16000 (count processed in this batch so far: 0)\n"
     ]
    },
    {
     "data": {
      "application/vnd.jupyter.widget-view+json": {
       "model_id": "8b8ffd9170e040fd901ca45ef47f189a",
       "version_major": 2,
       "version_minor": 0
      },
      "text/plain": [
       "FloatProgress(value=0.0, layout=Layout(width='auto'), style=ProgressStyle(bar_color='black'))"
      ]
     },
     "metadata": {},
     "output_type": "display_data"
    },
    {
     "data": {
      "application/vnd.jupyter.widget-view+json": {
       "model_id": "8b88502ee6224935917b3fa6bb30ff3d",
       "version_major": 2,
       "version_minor": 0
      },
      "text/plain": [
       "FloatProgress(value=0.0, layout=Layout(width='auto'), style=ProgressStyle(bar_color='black'))"
      ]
     },
     "metadata": {},
     "output_type": "display_data"
    },
    {
     "name": "stdout",
     "output_type": "stream",
     "text": [
      "Batch 16 appended to accumulator. Accum size now ~ 167344000 rows\n",
      "Batch 17/24 - processing genes 16001..17000 (count processed in this batch so far: 0)\n"
     ]
    },
    {
     "data": {
      "application/vnd.jupyter.widget-view+json": {
       "model_id": "a73154df289c40e3848c925c58eb959e",
       "version_major": 2,
       "version_minor": 0
      },
      "text/plain": [
       "FloatProgress(value=0.0, layout=Layout(width='auto'), style=ProgressStyle(bar_color='black'))"
      ]
     },
     "metadata": {},
     "output_type": "display_data"
    },
    {
     "data": {
      "application/vnd.jupyter.widget-view+json": {
       "model_id": "c23599ac553f4759a314ae72711059a6",
       "version_major": 2,
       "version_minor": 0
      },
      "text/plain": [
       "FloatProgress(value=0.0, layout=Layout(width='auto'), style=ProgressStyle(bar_color='black'))"
      ]
     },
     "metadata": {},
     "output_type": "display_data"
    },
    {
     "name": "stdout",
     "output_type": "stream",
     "text": [
      "Batch 17 appended to accumulator. Accum size now ~ 177803000 rows\n",
      "Batch 18/24 - processing genes 17001..18000 (count processed in this batch so far: 0)\n"
     ]
    },
    {
     "data": {
      "application/vnd.jupyter.widget-view+json": {
       "model_id": "0afc1735e3d04482822fe9b019e8d5c1",
       "version_major": 2,
       "version_minor": 0
      },
      "text/plain": [
       "FloatProgress(value=0.0, layout=Layout(width='auto'), style=ProgressStyle(bar_color='black'))"
      ]
     },
     "metadata": {},
     "output_type": "display_data"
    },
    {
     "data": {
      "application/vnd.jupyter.widget-view+json": {
       "model_id": "7f8facaf327d487cab43b4509b2dab7c",
       "version_major": 2,
       "version_minor": 0
      },
      "text/plain": [
       "FloatProgress(value=0.0, layout=Layout(width='auto'), style=ProgressStyle(bar_color='black'))"
      ]
     },
     "metadata": {},
     "output_type": "display_data"
    },
    {
     "name": "stdout",
     "output_type": "stream",
     "text": [
      "Batch 18 appended to accumulator. Accum size now ~ 188262000 rows\n",
      "Batch 19/24 - processing genes 18001..19000 (count processed in this batch so far: 0)\n"
     ]
    },
    {
     "data": {
      "application/vnd.jupyter.widget-view+json": {
       "model_id": "852c065d8fe24e1ab4029615fc46fe92",
       "version_major": 2,
       "version_minor": 0
      },
      "text/plain": [
       "FloatProgress(value=0.0, layout=Layout(width='auto'), style=ProgressStyle(bar_color='black'))"
      ]
     },
     "metadata": {},
     "output_type": "display_data"
    },
    {
     "data": {
      "application/vnd.jupyter.widget-view+json": {
       "model_id": "2dc32ba39528450882798e8d7f5e0cc8",
       "version_major": 2,
       "version_minor": 0
      },
      "text/plain": [
       "FloatProgress(value=0.0, layout=Layout(width='auto'), style=ProgressStyle(bar_color='black'))"
      ]
     },
     "metadata": {},
     "output_type": "display_data"
    },
    {
     "name": "stdout",
     "output_type": "stream",
     "text": [
      "Batch 19 appended to accumulator. Accum size now ~ 198721000 rows\n",
      "Batch 20/24 - processing genes 19001..20000 (count processed in this batch so far: 0)\n"
     ]
    },
    {
     "data": {
      "application/vnd.jupyter.widget-view+json": {
       "model_id": "fa8e8f57322b4965b74e85281e313542",
       "version_major": 2,
       "version_minor": 0
      },
      "text/plain": [
       "FloatProgress(value=0.0, layout=Layout(width='auto'), style=ProgressStyle(bar_color='black'))"
      ]
     },
     "metadata": {},
     "output_type": "display_data"
    },
    {
     "data": {
      "application/vnd.jupyter.widget-view+json": {
       "model_id": "a23eee8e1ca64278bc29c7f19ab740f8",
       "version_major": 2,
       "version_minor": 0
      },
      "text/plain": [
       "FloatProgress(value=0.0, layout=Layout(width='auto'), style=ProgressStyle(bar_color='black'))"
      ]
     },
     "metadata": {},
     "output_type": "display_data"
    },
    {
     "name": "stdout",
     "output_type": "stream",
     "text": [
      "Batch 20 appended to accumulator. Accum size now ~ 209180000 rows\n",
      "Writing checkpoint parquet for accum -> /Users/arujatiwary/duckdb_temp/gene_expr_long_accum_checkpoint_batch20.parquet\n"
     ]
    },
    {
     "data": {
      "application/vnd.jupyter.widget-view+json": {
       "model_id": "97cb71a73ec444f9a374dc076a98661d",
       "version_major": 2,
       "version_minor": 0
      },
      "text/plain": [
       "FloatProgress(value=0.0, layout=Layout(width='auto'), style=ProgressStyle(bar_color='black'))"
      ]
     },
     "metadata": {},
     "output_type": "display_data"
    },
    {
     "name": "stdout",
     "output_type": "stream",
     "text": [
      "Checkpoint written.\n",
      "Batch 21/24 - processing genes 20001..21000 (count processed in this batch so far: 0)\n"
     ]
    },
    {
     "data": {
      "application/vnd.jupyter.widget-view+json": {
       "model_id": "0a27ca807f7145578967a1ccc7823291",
       "version_major": 2,
       "version_minor": 0
      },
      "text/plain": [
       "FloatProgress(value=0.0, layout=Layout(width='auto'), style=ProgressStyle(bar_color='black'))"
      ]
     },
     "metadata": {},
     "output_type": "display_data"
    },
    {
     "data": {
      "application/vnd.jupyter.widget-view+json": {
       "model_id": "0f1edb9e60654649b8e3201902d916d1",
       "version_major": 2,
       "version_minor": 0
      },
      "text/plain": [
       "FloatProgress(value=0.0, layout=Layout(width='auto'), style=ProgressStyle(bar_color='black'))"
      ]
     },
     "metadata": {},
     "output_type": "display_data"
    },
    {
     "name": "stdout",
     "output_type": "stream",
     "text": [
      "Batch 21 appended to accumulator. Accum size now ~ 219639000 rows\n",
      "Batch 22/24 - processing genes 21001..22000 (count processed in this batch so far: 0)\n"
     ]
    },
    {
     "data": {
      "application/vnd.jupyter.widget-view+json": {
       "model_id": "7353c4fd90d940ce8628f18e4222018a",
       "version_major": 2,
       "version_minor": 0
      },
      "text/plain": [
       "FloatProgress(value=0.0, layout=Layout(width='auto'), style=ProgressStyle(bar_color='black'))"
      ]
     },
     "metadata": {},
     "output_type": "display_data"
    },
    {
     "data": {
      "application/vnd.jupyter.widget-view+json": {
       "model_id": "7f75015391e74bd5afa433f150ed3769",
       "version_major": 2,
       "version_minor": 0
      },
      "text/plain": [
       "FloatProgress(value=0.0, layout=Layout(width='auto'), style=ProgressStyle(bar_color='black'))"
      ]
     },
     "metadata": {},
     "output_type": "display_data"
    },
    {
     "name": "stdout",
     "output_type": "stream",
     "text": [
      "Batch 22 appended to accumulator. Accum size now ~ 230098000 rows\n",
      "Batch 23/24 - processing genes 22001..23000 (count processed in this batch so far: 0)\n"
     ]
    },
    {
     "data": {
      "application/vnd.jupyter.widget-view+json": {
       "model_id": "c436259358204f1d83016ed3ad911513",
       "version_major": 2,
       "version_minor": 0
      },
      "text/plain": [
       "FloatProgress(value=0.0, layout=Layout(width='auto'), style=ProgressStyle(bar_color='black'))"
      ]
     },
     "metadata": {},
     "output_type": "display_data"
    },
    {
     "data": {
      "application/vnd.jupyter.widget-view+json": {
       "model_id": "281aa567ecc744009f4276115b407861",
       "version_major": 2,
       "version_minor": 0
      },
      "text/plain": [
       "FloatProgress(value=0.0, layout=Layout(width='auto'), style=ProgressStyle(bar_color='black'))"
      ]
     },
     "metadata": {},
     "output_type": "display_data"
    },
    {
     "name": "stdout",
     "output_type": "stream",
     "text": [
      "Batch 23 appended to accumulator. Accum size now ~ 240557000 rows\n",
      "Batch 24/24 - processing genes 23001..23547 (count processed in this batch so far: 0)\n"
     ]
    },
    {
     "data": {
      "application/vnd.jupyter.widget-view+json": {
       "model_id": "93c3ce152f6b4d4f80ef26d663f039a7",
       "version_major": 2,
       "version_minor": 0
      },
      "text/plain": [
       "FloatProgress(value=0.0, layout=Layout(width='auto'), style=ProgressStyle(bar_color='black'))"
      ]
     },
     "metadata": {},
     "output_type": "display_data"
    },
    {
     "data": {
      "application/vnd.jupyter.widget-view+json": {
       "model_id": "ff0c4727f92c41828ddc456d95232be9",
       "version_major": 2,
       "version_minor": 0
      },
      "text/plain": [
       "FloatProgress(value=0.0, layout=Layout(width='auto'), style=ProgressStyle(bar_color='black'))"
      ]
     },
     "metadata": {},
     "output_type": "display_data"
    },
    {
     "name": "stdout",
     "output_type": "stream",
     "text": [
      "Batch 24 appended to accumulator. Accum size now ~ 246278073 rows\n",
      "Writing checkpoint parquet for accum -> /Users/arujatiwary/duckdb_temp/gene_expr_long_accum_checkpoint_batch24.parquet\n"
     ]
    },
    {
     "data": {
      "application/vnd.jupyter.widget-view+json": {
       "model_id": "895c9844188a4b49889a897e9664ff01",
       "version_major": 2,
       "version_minor": 0
      },
      "text/plain": [
       "FloatProgress(value=0.0, layout=Layout(width='auto'), style=ProgressStyle(bar_color='black'))"
      ]
     },
     "metadata": {},
     "output_type": "display_data"
    },
    {
     "name": "stdout",
     "output_type": "stream",
     "text": [
      "Checkpoint written.\n",
      "All batches processed. Final accumulator size: 246278073\n",
      "Creating gene_matrix (mapping genes -> map structure per sample)...\n"
     ]
    },
    {
     "ename": "CatalogException",
     "evalue": "Catalog Error: Scalar Function with name map_aggregate does not exist!\nDid you mean \"map_entries\"?\n\nLINE 4:        map_aggregate(gene_symbol, expr_mean) AS gene_map\n               ^",
     "output_type": "error",
     "traceback": [
      "\u001b[31m---------------------------------------------------------------------------\u001b[39m",
      "\u001b[31mCatalogException\u001b[39m                          Traceback (most recent call last)",
      "\u001b[36mCell\u001b[39m\u001b[36m \u001b[39m\u001b[32mIn[3]\u001b[39m\u001b[32m, line 221\u001b[39m\n\u001b[32m    218\u001b[39m     con.close()\n\u001b[32m    220\u001b[39m \u001b[38;5;28;01mif\u001b[39;00m \u001b[34m__name__\u001b[39m == \u001b[33m\"\u001b[39m\u001b[33m__main__\u001b[39m\u001b[33m\"\u001b[39m:\n\u001b[32m--> \u001b[39m\u001b[32m221\u001b[39m     \u001b[43mrun\u001b[49m\u001b[43m(\u001b[49m\u001b[43m)\u001b[49m\n",
      "\u001b[36mCell\u001b[39m\u001b[36m \u001b[39m\u001b[32mIn[3]\u001b[39m\u001b[32m, line 182\u001b[39m, in \u001b[36mrun\u001b[39m\u001b[34m()\u001b[39m\n\u001b[32m    180\u001b[39m \u001b[38;5;28;01mif\u001b[39;00m \u001b[38;5;129;01mnot\u001b[39;00m table_exists(con, \u001b[33m\"\u001b[39m\u001b[33mgene_matrix\u001b[39m\u001b[33m\"\u001b[39m):\n\u001b[32m    181\u001b[39m     \u001b[38;5;28mprint\u001b[39m(\u001b[33m\"\u001b[39m\u001b[33mCreating gene_matrix (mapping genes -> map structure per sample)...\u001b[39m\u001b[33m\"\u001b[39m)\n\u001b[32m--> \u001b[39m\u001b[32m182\u001b[39m     \u001b[43mcon\u001b[49m\u001b[43m.\u001b[49m\u001b[43mexecute\u001b[49m\u001b[43m(\u001b[49m\u001b[43mdedent\u001b[49m\u001b[43m(\u001b[49m\u001b[33;43m\"\"\"\u001b[39;49m\n\u001b[32m    183\u001b[39m \u001b[33;43m        CREATE TABLE gene_matrix AS\u001b[39;49m\n\u001b[32m    184\u001b[39m \u001b[33;43m        SELECT sample_id,\u001b[39;49m\n\u001b[32m    185\u001b[39m \u001b[33;43m               map_aggregate(gene_symbol, expr_mean) AS gene_map\u001b[39;49m\n\u001b[32m    186\u001b[39m \u001b[33;43m        FROM gene_expr_long_accum\u001b[39;49m\n\u001b[32m    187\u001b[39m \u001b[33;43m        GROUP BY sample_id;\u001b[39;49m\n\u001b[32m    188\u001b[39m \u001b[33;43m    \u001b[39;49m\u001b[33;43m\"\"\"\u001b[39;49m\u001b[43m)\u001b[49m\u001b[43m)\u001b[49m\n\u001b[32m    189\u001b[39m     \u001b[38;5;28mprint\u001b[39m(\u001b[33m\"\u001b[39m\u001b[33mgene_matrix created.\u001b[39m\u001b[33m\"\u001b[39m)\n\u001b[32m    190\u001b[39m \u001b[38;5;28;01melse\u001b[39;00m:\n",
      "\u001b[31mCatalogException\u001b[39m: Catalog Error: Scalar Function with name map_aggregate does not exist!\nDid you mean \"map_entries\"?\n\nLINE 4:        map_aggregate(gene_symbol, expr_mean) AS gene_map\n               ^"
     ]
    }
   ],
   "source": [
    "#!/usr/bin/env python3\n",
    "\"\"\"\n",
    "collapse_exons_to_genes_resumable.py\n",
    "\n",
    "Resumable, batch-aggregation pipeline:\n",
    "1) Stream exon TSV as a view (no full in-RAM load)\n",
    "2) UNPIVOT -> exons_long (materialized)\n",
    "3) Batch-aggregate exon -> gene means into gene_expr_long_accum\n",
    "   (saves checkpoint parquet during the loop)\n",
    "4) Build gene_matrix (samples x genes) from accumulated table\n",
    "5) Flatten and write final gene CSV\n",
    "\n",
    "Designed for 8GB RAM + ~35GB free disk. Safe to re-run; it will resume where it left off.\n",
    "\"\"\"\n",
    "\n",
    "import duckdb, pandas as pd, os, time, math\n",
    "from textwrap import dedent\n",
    "\n",
    "# ---------- CONFIG ----------\n",
    "EXON_TSV   = \"/Users/arujatiwary/Desktop/DL+IS-2/tcga_exon_expression.tsv\"   # big input\n",
    "PROBE_MAP  = \"/Users/arujatiwary/Desktop/DL+IS-2/unc_v2_exon_hg19_probe_TCGA\"\n",
    "DB_PATH    = \"/Users/arujatiwary/Desktop/DL+IS-2/tcga_gene_collapse.duckdb\"\n",
    "OUT_CSV    = \"/Users/arujatiwary/Desktop/DL+IS-2/tcga_gene_expression.csv\"\n",
    "TEMP_DIR   = \"/Users/arujatiwary/duckdb_temp\"   # must exist or will be created\n",
    "MAX_TEMP_GB = 18                                # keep below free disk (you had ~35GB free)\n",
    "MEM_LIMIT  = '4GB'                              # safe for 8GB RAM\n",
    "THREADS    = 1\n",
    "BATCH_SIZE = 1000                               # number of genes per batch (tune if needed)\n",
    "CHECKPOINT_FREQ = 5                             # save accum parquet every N batches\n",
    "# -----------------------------\n",
    "\n",
    "os.makedirs(TEMP_DIR, exist_ok=True)\n",
    "\n",
    "def table_exists(con, name):\n",
    "    try:\n",
    "        rows = con.execute(f\"PRAGMA table_info('{name}')\").fetchall()\n",
    "        return len(rows) > 0\n",
    "    except Exception:\n",
    "        return False\n",
    "\n",
    "def run():\n",
    "    t0 = time.time()\n",
    "    print(\"🚀 Starting resumable collapse exons -> genes\")\n",
    "    print(f\"Temp dir: {TEMP_DIR}, max temp {MAX_TEMP_GB} GB, memory limit {MEM_LIMIT}, threads {THREADS}\")\n",
    "    if os.path.exists(DB_PATH):\n",
    "        # keep DB (we will re-use it) — do not remove so we can resume between runs\n",
    "        pass\n",
    "\n",
    "    # Connect and set PRAGMAs immediately (before any other duckdb actions)\n",
    "    con = duckdb.connect(DB_PATH)\n",
    "    con.execute(f\"PRAGMA temp_directory='{TEMP_DIR}';\")\n",
    "    con.execute(f\"PRAGMA max_temp_directory_size='{MAX_TEMP_GB}GB';\")\n",
    "    con.execute(f\"SET memory_limit='{MEM_LIMIT}';\")\n",
    "    con.execute(f\"SET threads={THREADS};\")\n",
    "    con.execute(\"SET preserve_insertion_order=false;\")\n",
    "    print(\"DuckDB configured with PRAGMAs.\")\n",
    "\n",
    "    # Load probe map into DuckDB (small)\n",
    "    if not table_exists(con, \"probe_map\"):\n",
    "        print(\"Loading probe map (this is small)...\")\n",
    "        probe_df = pd.read_csv(PROBE_MAP, sep=\"\\t\", dtype=str, low_memory=False)\n",
    "        # normalize columns: first col -> id, second -> gene\n",
    "        probe_df = probe_df.rename(columns={probe_df.columns[0]: \"id\", probe_df.columns[1]: \"gene\"})\n",
    "        probe_df = probe_df.dropna(subset=[\"id\", \"gene\"]).drop_duplicates()\n",
    "        con.register(\"probe_map\", probe_df)  # register in current session only\n",
    "        con.execute(\"CREATE OR REPLACE TABLE probe_map AS SELECT * FROM probe_map;\")\n",
    "        print(\"Probe map table created in DuckDB.\")\n",
    "    else:\n",
    "        print(\"probe_map table already exists in DB; skipping loading.\")\n",
    "\n",
    "    # 1) Create view exons_raw if not present\n",
    "    if not table_exists(con, \"exons_raw\"):\n",
    "        print(\"Registering exon TSV as streamed view (no full load)...\")\n",
    "        con.execute(dedent(f\"\"\"\n",
    "            CREATE OR REPLACE VIEW exons_raw AS\n",
    "            SELECT * FROM read_csv(\n",
    "                '{EXON_TSV}',\n",
    "                delim='\\\\t',\n",
    "                header=TRUE,\n",
    "                AUTO_DETECT=TRUE,\n",
    "                SAMPLE_SIZE=10000,\n",
    "                ALL_VARCHAR=TRUE\n",
    "            );\n",
    "        \"\"\"))\n",
    "        print(\"exons_raw view created.\")\n",
    "    else:\n",
    "        print(\"exons_raw already exists; skipping view creation.\")\n",
    "\n",
    "    # 2) detect id column name\n",
    "    cols = con.execute(\"PRAGMA table_info('exons_raw')\").fetchall()\n",
    "    if not cols:\n",
    "        raise RuntimeError(\"exons_raw has no columns; confirm EXON_TSV path and header.\")\n",
    "    id_col = cols[0][1]\n",
    "    print(f\"Detected exon ID column: {id_col}\")\n",
    "\n",
    "    # 3) create exons_long if not exists\n",
    "    if not table_exists(con, \"exons_long\"):\n",
    "        print(\"Creating exons_long (UNPIVOT)... This will materialize exons_long table in DB.\")\n",
    "        con.execute(dedent(f\"\"\"\n",
    "            CREATE OR REPLACE TABLE exons_long AS\n",
    "            SELECT *\n",
    "            FROM exons_raw\n",
    "            UNPIVOT (expression FOR sample_id IN (COLUMNS(* EXCLUDE \"{id_col}\")));\n",
    "        \"\"\"))\n",
    "        print(\"exons_long created.\")\n",
    "        # checkpoint exons_long (optional parquet) - can be big, but useful for resume\n",
    "        ex_long_parquet = os.path.join(TEMP_DIR, \"exons_long.parquet\")\n",
    "        print(f\"Writing checkpoint exons_long -> {ex_long_parquet} (parquet) ...\")\n",
    "        con.execute(f\"COPY (SELECT * FROM exons_long) TO '{ex_long_parquet}' (FORMAT PARQUET);\")\n",
    "        print(\"Checkpoint exons_long saved.\")\n",
    "    else:\n",
    "        print(\"exons_long already exists; skipping UNPIVOT. (If you want to recompute, delete exons_long table first.)\")\n",
    "\n",
    "    # 4) Prepare gene list from probe_map table (unique genes)\n",
    "    genes = [r[0] for r in con.execute(\"SELECT DISTINCT gene FROM probe_map WHERE gene IS NOT NULL ORDER BY gene\").fetchall()]\n",
    "    print(f\"Total unique genes from probe map: {len(genes)}\")\n",
    "\n",
    "    # 5) create accumulator table if not exists\n",
    "    if not table_exists(con, \"gene_expr_long_accum\"):\n",
    "        con.execute(\"CREATE TABLE gene_expr_long_accum(gene_symbol VARCHAR, sample_id VARCHAR, expr_mean DOUBLE);\")\n",
    "        print(\"Created accumulator table gene_expr_long_accum.\")\n",
    "    else:\n",
    "        existing = con.execute(\"SELECT COUNT(*) FROM gene_expr_long_accum\").fetchone()[0]\n",
    "        print(f\"gene_expr_long_accum already exists with {existing} rows; will append missing genes.\")\n",
    "\n",
    "    # 6) Batch-aggregate genes -> append into gene_expr_long_accum\n",
    "    total_genes = len(genes)\n",
    "    batches = math.ceil(total_genes / BATCH_SIZE)\n",
    "    print(f\"Aggregating in batches: {BATCH_SIZE} genes per batch -> {batches} batches total.\")\n",
    "\n",
    "    for i in range(0, total_genes, BATCH_SIZE):\n",
    "        batch_genes = genes[i:i+BATCH_SIZE]\n",
    "        # prepare SQL-safe quoted list\n",
    "        batch_list = \",\".join([\"'\" + g.replace(\"'\", \"''\") + \"'\" for g in batch_genes])\n",
    "\n",
    "        # check whether any genes from this batch already processed\n",
    "        q = con.execute(f\"SELECT COUNT(DISTINCT gene_symbol) FROM gene_expr_long_accum WHERE gene_symbol IN ({batch_list});\").fetchone()[0]\n",
    "        if q == len(batch_genes):\n",
    "            print(f\"Batch {i//BATCH_SIZE + 1}/{batches} - all genes already processed; skipping.\")\n",
    "            continue\n",
    "        else:\n",
    "            print(f\"Batch {i//BATCH_SIZE + 1}/{batches} - processing genes {i+1}..{i+len(batch_genes)} (count processed in this batch so far: {q})\")\n",
    "\n",
    "        # compute batch_result for this set of genes\n",
    "        # We join probe_map to exons_long using the proper id column name\n",
    "        # Use a small, explicit temp table name for this batch and then insert into accum\n",
    "        batch_tbl = f\"batch_result_{i//BATCH_SIZE + 1}\"\n",
    "        # drop if exists\n",
    "        if table_exists(con, batch_tbl):\n",
    "            con.execute(f\"DROP TABLE {batch_tbl};\")\n",
    "\n",
    "        sql = dedent(f\"\"\"\n",
    "            CREATE TABLE {batch_tbl} AS\n",
    "            SELECT p.gene AS gene_symbol,\n",
    "                   el.sample_id AS sample_id,\n",
    "                   AVG(CAST(el.expression AS DOUBLE)) AS expr_mean\n",
    "            FROM exons_long el\n",
    "            JOIN probe_map p\n",
    "              ON el.\"{id_col}\" = p.id\n",
    "            WHERE p.gene IN ({batch_list})\n",
    "            GROUP BY p.gene, el.sample_id;\n",
    "        \"\"\")\n",
    "        con.execute(sql)\n",
    "        # append into accumulator but avoid duplicates just in case\n",
    "        con.execute(f\"INSERT INTO gene_expr_long_accum SELECT * FROM {batch_tbl} WHERE (gene_symbol, sample_id) NOT IN (SELECT gene_symbol, sample_id FROM gene_expr_long_accum);\")\n",
    "        con.execute(f\"DROP TABLE {batch_tbl};\")\n",
    "        print(f\"Batch {i//BATCH_SIZE + 1} appended to accumulator. Accum size now ~ {con.execute('SELECT COUNT(*) FROM gene_expr_long_accum').fetchone()[0]} rows\")\n",
    "\n",
    "        # checkpoint occasionally: write the accum table to parquet\n",
    "        batch_no = (i // BATCH_SIZE) + 1\n",
    "        if batch_no % CHECKPOINT_FREQ == 0 or batch_no == batches:\n",
    "            accum_parquet = os.path.join(TEMP_DIR, f\"gene_expr_long_accum_checkpoint_batch{batch_no}.parquet\")\n",
    "            print(f\"Writing checkpoint parquet for accum -> {accum_parquet}\")\n",
    "            con.execute(f\"COPY (SELECT * FROM gene_expr_long_accum) TO '{accum_parquet}' (FORMAT PARQUET);\")\n",
    "            print(\"Checkpoint written.\")\n",
    "\n",
    "    print(\"All batches processed. Final accumulator size:\", con.execute(\"SELECT COUNT(*) FROM gene_expr_long_accum\").fetchone()[0])\n",
    "\n",
    "    # 7) Create gene_matrix (map_aggregate) from accum table (this is cheaper than full grouping)\n",
    "    if not table_exists(con, \"gene_matrix\"):\n",
    "        print(\"Creating gene_matrix (mapping genes -> map structure per sample)...\")\n",
    "        con.execute(dedent(\"\"\"\n",
    "            CREATE TABLE gene_matrix AS\n",
    "            SELECT sample_id,\n",
    "                   map_aggregate(gene_symbol, expr_mean) AS gene_map\n",
    "            FROM gene_expr_long_accum\n",
    "            GROUP BY sample_id;\n",
    "        \"\"\"))\n",
    "        print(\"gene_matrix created.\")\n",
    "    else:\n",
    "        print(\"gene_matrix already exists; skipping.\")\n",
    "\n",
    "    # 8) Flatten gene_matrix to columns\n",
    "    if not table_exists(con, \"gene_matrix_flat\"):\n",
    "        print(\"Flattening gene_map to wide columns (this can take time but is final)...\")\n",
    "        con.execute(dedent(\"\"\"\n",
    "            CREATE TABLE gene_matrix_flat AS\n",
    "            SELECT sample_id, * EXCLUDE (sample_id)\n",
    "            FROM gene_matrix, UNNEST(gene_map);\n",
    "        \"\"\"))\n",
    "        print(\"gene_matrix_flat created.\")\n",
    "    else:\n",
    "        print(\"gene_matrix_flat already exists; skipping flatten step.\")\n",
    "\n",
    "    # 9) Export final CSV if not exists\n",
    "    if not os.path.exists(OUT_CSV):\n",
    "        print(f\"Writing final CSV to {OUT_CSV} (this may take a few minutes)...\")\n",
    "        con.execute(f\"COPY (SELECT * FROM gene_matrix_flat) TO '{OUT_CSV}' (HEADER, DELIMITER ',');\")\n",
    "        print(\"Final CSV written.\")\n",
    "    else:\n",
    "        print(f\"Final CSV {OUT_CSV} already exists; skipping export.\")\n",
    "\n",
    "    # 10) summary\n",
    "    rows = con.execute(\"SELECT COUNT(DISTINCT sample_id) FROM gene_matrix_flat\").fetchone()[0]\n",
    "    cols = len(con.execute(\"PRAGMA table_info('gene_matrix_flat')\").fetchall())\n",
    "    print(f\"✅ Done. Samples (rows): {rows}   Genes (columns): {cols-1}\")\n",
    "    print(\"Elapsed: {:.2f} minutes\".format((time.time() - t0) / 60.0))\n",
    "    con.close()\n",
    "\n",
    "if __name__ == \"__main__\":\n",
    "    run()"
   ]
  },
  {
   "cell_type": "code",
   "execution_count": null,
   "id": "d8eea3fe",
   "metadata": {},
   "outputs": [
    {
     "name": "stdout",
     "output_type": "stream",
     "text": [
      "map_aggregate not available — pivoting in batches to build wide matrix...\n"
     ]
    },
    {
     "data": {
      "application/vnd.jupyter.widget-view+json": {
       "model_id": "05a7be123e6741059f4613315c74d6fb",
       "version_major": 2,
       "version_minor": 0
      },
      "text/plain": [
       "FloatProgress(value=0.0, layout=Layout(width='auto'), style=ProgressStyle(bar_color='black'))"
      ]
     },
     "metadata": {},
     "output_type": "display_data"
    },
    {
     "name": "stdout",
     "output_type": "stream",
     "text": [
      "Total genes to pivot: 23547\n",
      "Pivoting in 30 batches of up to 800 genes each.\n"
     ]
    },
    {
     "data": {
      "application/vnd.jupyter.widget-view+json": {
       "model_id": "7833f32699864bde88833f09d75a3708",
       "version_major": 2,
       "version_minor": 0
      },
      "text/plain": [
       "FloatProgress(value=0.0, layout=Layout(width='auto'), style=ProgressStyle(bar_color='black'))"
      ]
     },
     "metadata": {},
     "output_type": "display_data"
    },
    {
     "name": "stdout",
     "output_type": "stream",
     "text": [
      "Created samples_list table.\n",
      "Creating gene_part_1 for genes 1..800\n"
     ]
    },
    {
     "data": {
      "application/vnd.jupyter.widget-view+json": {
       "model_id": "39085206a02f40a29915e387289768fb",
       "version_major": 2,
       "version_minor": 0
      },
      "text/plain": [
       "FloatProgress(value=0.0, layout=Layout(width='auto'), style=ProgressStyle(bar_color='black'))"
      ]
     },
     "metadata": {},
     "output_type": "display_data"
    },
    {
     "name": "stdout",
     "output_type": "stream",
     "text": [
      "gene_part_1 created.\n",
      "Creating gene_part_2 for genes 801..1600\n"
     ]
    },
    {
     "data": {
      "application/vnd.jupyter.widget-view+json": {
       "model_id": "6d21a0311a734e37a043f9fcc205cb8c",
       "version_major": 2,
       "version_minor": 0
      },
      "text/plain": [
       "FloatProgress(value=0.0, layout=Layout(width='auto'), style=ProgressStyle(bar_color='black'))"
      ]
     },
     "metadata": {},
     "output_type": "display_data"
    },
    {
     "name": "stdout",
     "output_type": "stream",
     "text": [
      "gene_part_2 created.\n",
      "Creating gene_part_3 for genes 1601..2400\n"
     ]
    },
    {
     "data": {
      "application/vnd.jupyter.widget-view+json": {
       "model_id": "a9177e5e1fdf4e4786fc6fd74c4aac15",
       "version_major": 2,
       "version_minor": 0
      },
      "text/plain": [
       "FloatProgress(value=0.0, layout=Layout(width='auto'), style=ProgressStyle(bar_color='black'))"
      ]
     },
     "metadata": {},
     "output_type": "display_data"
    },
    {
     "name": "stdout",
     "output_type": "stream",
     "text": [
      "gene_part_3 created.\n",
      "Creating gene_part_4 for genes 2401..3200\n"
     ]
    },
    {
     "data": {
      "application/vnd.jupyter.widget-view+json": {
       "model_id": "28108d37642e4882927e193a20d3a43a",
       "version_major": 2,
       "version_minor": 0
      },
      "text/plain": [
       "FloatProgress(value=0.0, layout=Layout(width='auto'), style=ProgressStyle(bar_color='black'))"
      ]
     },
     "metadata": {},
     "output_type": "display_data"
    },
    {
     "name": "stdout",
     "output_type": "stream",
     "text": [
      "gene_part_4 created.\n",
      "Creating gene_part_5 for genes 3201..4000\n"
     ]
    },
    {
     "data": {
      "application/vnd.jupyter.widget-view+json": {
       "model_id": "1cb446dfd84b486a8ffe68c5817c8140",
       "version_major": 2,
       "version_minor": 0
      },
      "text/plain": [
       "FloatProgress(value=0.0, layout=Layout(width='auto'), style=ProgressStyle(bar_color='black'))"
      ]
     },
     "metadata": {},
     "output_type": "display_data"
    },
    {
     "name": "stdout",
     "output_type": "stream",
     "text": [
      "gene_part_5 created.\n",
      "Creating gene_part_6 for genes 4001..4800\n"
     ]
    },
    {
     "data": {
      "application/vnd.jupyter.widget-view+json": {
       "model_id": "d0ffa1b96d2a49e0936b09b489ee1d7f",
       "version_major": 2,
       "version_minor": 0
      },
      "text/plain": [
       "FloatProgress(value=0.0, layout=Layout(width='auto'), style=ProgressStyle(bar_color='black'))"
      ]
     },
     "metadata": {},
     "output_type": "display_data"
    },
    {
     "name": "stdout",
     "output_type": "stream",
     "text": [
      "gene_part_6 created.\n",
      "Creating gene_part_7 for genes 4801..5600\n"
     ]
    },
    {
     "data": {
      "application/vnd.jupyter.widget-view+json": {
       "model_id": "05be55acd5494e6d855b0801dd797491",
       "version_major": 2,
       "version_minor": 0
      },
      "text/plain": [
       "FloatProgress(value=0.0, layout=Layout(width='auto'), style=ProgressStyle(bar_color='black'))"
      ]
     },
     "metadata": {},
     "output_type": "display_data"
    },
    {
     "name": "stdout",
     "output_type": "stream",
     "text": [
      "gene_part_7 created.\n",
      "Creating gene_part_8 for genes 5601..6400\n"
     ]
    },
    {
     "data": {
      "application/vnd.jupyter.widget-view+json": {
       "model_id": "05dde9743a5f463581185db2dec63687",
       "version_major": 2,
       "version_minor": 0
      },
      "text/plain": [
       "FloatProgress(value=0.0, layout=Layout(width='auto'), style=ProgressStyle(bar_color='black'))"
      ]
     },
     "metadata": {},
     "output_type": "display_data"
    },
    {
     "name": "stdout",
     "output_type": "stream",
     "text": [
      "gene_part_8 created.\n",
      "Creating gene_part_9 for genes 6401..7200\n"
     ]
    },
    {
     "data": {
      "application/vnd.jupyter.widget-view+json": {
       "model_id": "5efc3b97e08d4fe4bd341eb94889a346",
       "version_major": 2,
       "version_minor": 0
      },
      "text/plain": [
       "FloatProgress(value=0.0, layout=Layout(width='auto'), style=ProgressStyle(bar_color='black'))"
      ]
     },
     "metadata": {},
     "output_type": "display_data"
    },
    {
     "name": "stdout",
     "output_type": "stream",
     "text": [
      "gene_part_9 created.\n",
      "Creating gene_part_10 for genes 7201..8000\n"
     ]
    },
    {
     "data": {
      "application/vnd.jupyter.widget-view+json": {
       "model_id": "f88d360077334d08b602288ec19f5c33",
       "version_major": 2,
       "version_minor": 0
      },
      "text/plain": [
       "FloatProgress(value=0.0, layout=Layout(width='auto'), style=ProgressStyle(bar_color='black'))"
      ]
     },
     "metadata": {},
     "output_type": "display_data"
    },
    {
     "name": "stdout",
     "output_type": "stream",
     "text": [
      "gene_part_10 created.\n",
      "Creating gene_part_11 for genes 8001..8800\n"
     ]
    },
    {
     "data": {
      "application/vnd.jupyter.widget-view+json": {
       "model_id": "e9b5883466224714b9d6d6ccc5a602fc",
       "version_major": 2,
       "version_minor": 0
      },
      "text/plain": [
       "FloatProgress(value=0.0, layout=Layout(width='auto'), style=ProgressStyle(bar_color='black'))"
      ]
     },
     "metadata": {},
     "output_type": "display_data"
    },
    {
     "name": "stdout",
     "output_type": "stream",
     "text": [
      "gene_part_11 created.\n",
      "Creating gene_part_12 for genes 8801..9600\n"
     ]
    },
    {
     "data": {
      "application/vnd.jupyter.widget-view+json": {
       "model_id": "795dd0f003b942449af71d1fe232923b",
       "version_major": 2,
       "version_minor": 0
      },
      "text/plain": [
       "FloatProgress(value=0.0, layout=Layout(width='auto'), style=ProgressStyle(bar_color='black'))"
      ]
     },
     "metadata": {},
     "output_type": "display_data"
    },
    {
     "name": "stdout",
     "output_type": "stream",
     "text": [
      "gene_part_12 created.\n",
      "Creating gene_part_13 for genes 9601..10400\n"
     ]
    },
    {
     "data": {
      "application/vnd.jupyter.widget-view+json": {
       "model_id": "ee5fd52d9ae04fe797840c9a79da095e",
       "version_major": 2,
       "version_minor": 0
      },
      "text/plain": [
       "FloatProgress(value=0.0, layout=Layout(width='auto'), style=ProgressStyle(bar_color='black'))"
      ]
     },
     "metadata": {},
     "output_type": "display_data"
    },
    {
     "name": "stdout",
     "output_type": "stream",
     "text": [
      "gene_part_13 created.\n",
      "Creating gene_part_14 for genes 10401..11200\n"
     ]
    },
    {
     "data": {
      "application/vnd.jupyter.widget-view+json": {
       "model_id": "c7958d7b07bb4afaa62c9f62f0a7231b",
       "version_major": 2,
       "version_minor": 0
      },
      "text/plain": [
       "FloatProgress(value=0.0, layout=Layout(width='auto'), style=ProgressStyle(bar_color='black'))"
      ]
     },
     "metadata": {},
     "output_type": "display_data"
    },
    {
     "name": "stdout",
     "output_type": "stream",
     "text": [
      "gene_part_14 created.\n",
      "Creating gene_part_15 for genes 11201..12000\n"
     ]
    },
    {
     "data": {
      "application/vnd.jupyter.widget-view+json": {
       "model_id": "fc79ae65ae28425ebdc92b199321f9ad",
       "version_major": 2,
       "version_minor": 0
      },
      "text/plain": [
       "FloatProgress(value=0.0, layout=Layout(width='auto'), style=ProgressStyle(bar_color='black'))"
      ]
     },
     "metadata": {},
     "output_type": "display_data"
    },
    {
     "name": "stdout",
     "output_type": "stream",
     "text": [
      "gene_part_15 created.\n",
      "Creating gene_part_16 for genes 12001..12800\n"
     ]
    },
    {
     "data": {
      "application/vnd.jupyter.widget-view+json": {
       "model_id": "f75219e41f0c49dfa3d183d3b4f7f34c",
       "version_major": 2,
       "version_minor": 0
      },
      "text/plain": [
       "FloatProgress(value=0.0, layout=Layout(width='auto'), style=ProgressStyle(bar_color='black'))"
      ]
     },
     "metadata": {},
     "output_type": "display_data"
    },
    {
     "name": "stdout",
     "output_type": "stream",
     "text": [
      "gene_part_16 created.\n",
      "Creating gene_part_17 for genes 12801..13600\n"
     ]
    },
    {
     "data": {
      "application/vnd.jupyter.widget-view+json": {
       "model_id": "17d707d05ea3496f8671029c592a1e1f",
       "version_major": 2,
       "version_minor": 0
      },
      "text/plain": [
       "FloatProgress(value=0.0, layout=Layout(width='auto'), style=ProgressStyle(bar_color='black'))"
      ]
     },
     "metadata": {},
     "output_type": "display_data"
    },
    {
     "name": "stdout",
     "output_type": "stream",
     "text": [
      "gene_part_17 created.\n",
      "Creating gene_part_18 for genes 13601..14400\n"
     ]
    },
    {
     "data": {
      "application/vnd.jupyter.widget-view+json": {
       "model_id": "4e594e74734841bdbcc4e73601a08f62",
       "version_major": 2,
       "version_minor": 0
      },
      "text/plain": [
       "FloatProgress(value=0.0, layout=Layout(width='auto'), style=ProgressStyle(bar_color='black'))"
      ]
     },
     "metadata": {},
     "output_type": "display_data"
    },
    {
     "name": "stdout",
     "output_type": "stream",
     "text": [
      "gene_part_18 created.\n",
      "Creating gene_part_19 for genes 14401..15200\n"
     ]
    },
    {
     "data": {
      "application/vnd.jupyter.widget-view+json": {
       "model_id": "7a6727151e6942559d6be48cdde8c674",
       "version_major": 2,
       "version_minor": 0
      },
      "text/plain": [
       "FloatProgress(value=0.0, layout=Layout(width='auto'), style=ProgressStyle(bar_color='black'))"
      ]
     },
     "metadata": {},
     "output_type": "display_data"
    },
    {
     "name": "stdout",
     "output_type": "stream",
     "text": [
      "gene_part_19 created.\n",
      "Creating gene_part_20 for genes 15201..16000\n"
     ]
    },
    {
     "data": {
      "application/vnd.jupyter.widget-view+json": {
       "model_id": "b27fe16a750c44f2a70abe58f89ebd73",
       "version_major": 2,
       "version_minor": 0
      },
      "text/plain": [
       "FloatProgress(value=0.0, layout=Layout(width='auto'), style=ProgressStyle(bar_color='black'))"
      ]
     },
     "metadata": {},
     "output_type": "display_data"
    },
    {
     "name": "stdout",
     "output_type": "stream",
     "text": [
      "gene_part_20 created.\n",
      "Creating gene_part_21 for genes 16001..16800\n"
     ]
    },
    {
     "data": {
      "application/vnd.jupyter.widget-view+json": {
       "model_id": "4f9ec093b9ac477ba1b57284b2423a44",
       "version_major": 2,
       "version_minor": 0
      },
      "text/plain": [
       "FloatProgress(value=0.0, layout=Layout(width='auto'), style=ProgressStyle(bar_color='black'))"
      ]
     },
     "metadata": {},
     "output_type": "display_data"
    },
    {
     "name": "stdout",
     "output_type": "stream",
     "text": [
      "gene_part_21 created.\n",
      "Creating gene_part_22 for genes 16801..17600\n"
     ]
    },
    {
     "data": {
      "application/vnd.jupyter.widget-view+json": {
       "model_id": "faa742b7d40948bd83985ab345198b8a",
       "version_major": 2,
       "version_minor": 0
      },
      "text/plain": [
       "FloatProgress(value=0.0, layout=Layout(width='auto'), style=ProgressStyle(bar_color='black'))"
      ]
     },
     "metadata": {},
     "output_type": "display_data"
    },
    {
     "name": "stdout",
     "output_type": "stream",
     "text": [
      "gene_part_22 created.\n",
      "Creating gene_part_23 for genes 17601..18400\n"
     ]
    },
    {
     "data": {
      "application/vnd.jupyter.widget-view+json": {
       "model_id": "50e63b2359f14124b3a9420fc357bcef",
       "version_major": 2,
       "version_minor": 0
      },
      "text/plain": [
       "FloatProgress(value=0.0, layout=Layout(width='auto'), style=ProgressStyle(bar_color='black'))"
      ]
     },
     "metadata": {},
     "output_type": "display_data"
    },
    {
     "name": "stdout",
     "output_type": "stream",
     "text": [
      "gene_part_23 created.\n",
      "Creating gene_part_24 for genes 18401..19200\n"
     ]
    },
    {
     "data": {
      "application/vnd.jupyter.widget-view+json": {
       "model_id": "dd5e186bdd974f32936a44acb8071433",
       "version_major": 2,
       "version_minor": 0
      },
      "text/plain": [
       "FloatProgress(value=0.0, layout=Layout(width='auto'), style=ProgressStyle(bar_color='black'))"
      ]
     },
     "metadata": {},
     "output_type": "display_data"
    },
    {
     "name": "stdout",
     "output_type": "stream",
     "text": [
      "gene_part_24 created.\n",
      "Creating gene_part_25 for genes 19201..20000\n"
     ]
    },
    {
     "data": {
      "application/vnd.jupyter.widget-view+json": {
       "model_id": "b4e1e44388694150a43c8ff4c040b959",
       "version_major": 2,
       "version_minor": 0
      },
      "text/plain": [
       "FloatProgress(value=0.0, layout=Layout(width='auto'), style=ProgressStyle(bar_color='black'))"
      ]
     },
     "metadata": {},
     "output_type": "display_data"
    },
    {
     "name": "stdout",
     "output_type": "stream",
     "text": [
      "gene_part_25 created.\n",
      "Creating gene_part_26 for genes 20001..20800\n"
     ]
    },
    {
     "data": {
      "application/vnd.jupyter.widget-view+json": {
       "model_id": "38b62473d6b445e1b10343858900cdef",
       "version_major": 2,
       "version_minor": 0
      },
      "text/plain": [
       "FloatProgress(value=0.0, layout=Layout(width='auto'), style=ProgressStyle(bar_color='black'))"
      ]
     },
     "metadata": {},
     "output_type": "display_data"
    },
    {
     "name": "stdout",
     "output_type": "stream",
     "text": [
      "gene_part_26 created.\n",
      "Creating gene_part_27 for genes 20801..21600\n"
     ]
    },
    {
     "data": {
      "application/vnd.jupyter.widget-view+json": {
       "model_id": "8885fd42142f4d79a78055dea4a49783",
       "version_major": 2,
       "version_minor": 0
      },
      "text/plain": [
       "FloatProgress(value=0.0, layout=Layout(width='auto'), style=ProgressStyle(bar_color='black'))"
      ]
     },
     "metadata": {},
     "output_type": "display_data"
    },
    {
     "name": "stdout",
     "output_type": "stream",
     "text": [
      "gene_part_27 created.\n",
      "Creating gene_part_28 for genes 21601..22400\n"
     ]
    },
    {
     "data": {
      "application/vnd.jupyter.widget-view+json": {
       "model_id": "7b3f531af3554256a4c81fca8f7ae586",
       "version_major": 2,
       "version_minor": 0
      },
      "text/plain": [
       "FloatProgress(value=0.0, layout=Layout(width='auto'), style=ProgressStyle(bar_color='black'))"
      ]
     },
     "metadata": {},
     "output_type": "display_data"
    },
    {
     "name": "stdout",
     "output_type": "stream",
     "text": [
      "gene_part_28 created.\n",
      "Creating gene_part_29 for genes 22401..23200\n"
     ]
    },
    {
     "data": {
      "application/vnd.jupyter.widget-view+json": {
       "model_id": "fec9706b23ee46edacdafbeafa8a175b",
       "version_major": 2,
       "version_minor": 0
      },
      "text/plain": [
       "FloatProgress(value=0.0, layout=Layout(width='auto'), style=ProgressStyle(bar_color='black'))"
      ]
     },
     "metadata": {},
     "output_type": "display_data"
    },
    {
     "name": "stdout",
     "output_type": "stream",
     "text": [
      "gene_part_29 created.\n",
      "Creating gene_part_30 for genes 23201..23547\n"
     ]
    },
    {
     "data": {
      "application/vnd.jupyter.widget-view+json": {
       "model_id": "afb5cfda039f43b69c9cc352646db49a",
       "version_major": 2,
       "version_minor": 0
      },
      "text/plain": [
       "FloatProgress(value=0.0, layout=Layout(width='auto'), style=ProgressStyle(bar_color='black'))"
      ]
     },
     "metadata": {},
     "output_type": "display_data"
    },
    {
     "name": "stdout",
     "output_type": "stream",
     "text": [
      "gene_part_30 created.\n",
      "Joining part tables into final wide matrix...\n",
      "Joining samples_list with gene_part_1 -> join_step_1\n",
      "Joining join_step_1 with gene_part_2 -> join_step_2\n",
      "Joining join_step_2 with gene_part_3 -> join_step_3\n",
      "Joining join_step_3 with gene_part_4 -> join_step_4\n",
      "Joining join_step_4 with gene_part_5 -> join_step_5\n"
     ]
    },
    {
     "data": {
      "application/vnd.jupyter.widget-view+json": {
       "model_id": "08c9e32cab47452ebb6a0abab437b987",
       "version_major": 2,
       "version_minor": 0
      },
      "text/plain": [
       "FloatProgress(value=0.0, layout=Layout(width='auto'), style=ProgressStyle(bar_color='black'))"
      ]
     },
     "metadata": {},
     "output_type": "display_data"
    },
    {
     "name": "stdout",
     "output_type": "stream",
     "text": [
      "Joining join_step_5 with gene_part_6 -> join_step_6\n"
     ]
    },
    {
     "data": {
      "application/vnd.jupyter.widget-view+json": {
       "model_id": "4798ba16214f489fb7568f636adbb6cc",
       "version_major": 2,
       "version_minor": 0
      },
      "text/plain": [
       "FloatProgress(value=0.0, layout=Layout(width='auto'), style=ProgressStyle(bar_color='black'))"
      ]
     },
     "metadata": {},
     "output_type": "display_data"
    },
    {
     "name": "stdout",
     "output_type": "stream",
     "text": [
      "Joining join_step_6 with gene_part_7 -> join_step_7\n"
     ]
    },
    {
     "data": {
      "application/vnd.jupyter.widget-view+json": {
       "model_id": "0db176dc792040e0923cd11c03a32aff",
       "version_major": 2,
       "version_minor": 0
      },
      "text/plain": [
       "FloatProgress(value=0.0, layout=Layout(width='auto'), style=ProgressStyle(bar_color='black'))"
      ]
     },
     "metadata": {},
     "output_type": "display_data"
    },
    {
     "name": "stdout",
     "output_type": "stream",
     "text": [
      "Joining join_step_7 with gene_part_8 -> join_step_8\n"
     ]
    },
    {
     "data": {
      "application/vnd.jupyter.widget-view+json": {
       "model_id": "612565c2286042bf9c62d89dbcdb145f",
       "version_major": 2,
       "version_minor": 0
      },
      "text/plain": [
       "FloatProgress(value=0.0, layout=Layout(width='auto'), style=ProgressStyle(bar_color='black'))"
      ]
     },
     "metadata": {},
     "output_type": "display_data"
    },
    {
     "name": "stdout",
     "output_type": "stream",
     "text": [
      "Joining join_step_8 with gene_part_9 -> join_step_9\n"
     ]
    },
    {
     "data": {
      "application/vnd.jupyter.widget-view+json": {
       "model_id": "8a3a095d025f4a5ca8ca0abc3a2f6956",
       "version_major": 2,
       "version_minor": 0
      },
      "text/plain": [
       "FloatProgress(value=0.0, layout=Layout(width='auto'), style=ProgressStyle(bar_color='black'))"
      ]
     },
     "metadata": {},
     "output_type": "display_data"
    },
    {
     "name": "stdout",
     "output_type": "stream",
     "text": [
      "Joining join_step_9 with gene_part_10 -> join_step_10\n"
     ]
    },
    {
     "data": {
      "application/vnd.jupyter.widget-view+json": {
       "model_id": "6865fc0f0435404692f74868651b14f0",
       "version_major": 2,
       "version_minor": 0
      },
      "text/plain": [
       "FloatProgress(value=0.0, layout=Layout(width='auto'), style=ProgressStyle(bar_color='black'))"
      ]
     },
     "metadata": {},
     "output_type": "display_data"
    },
    {
     "name": "stdout",
     "output_type": "stream",
     "text": [
      "Joining join_step_10 with gene_part_11 -> join_step_11\n"
     ]
    },
    {
     "data": {
      "application/vnd.jupyter.widget-view+json": {
       "model_id": "a723a6e6a72e43cc83d7d1f01a7f2594",
       "version_major": 2,
       "version_minor": 0
      },
      "text/plain": [
       "FloatProgress(value=0.0, layout=Layout(width='auto'), style=ProgressStyle(bar_color='black'))"
      ]
     },
     "metadata": {},
     "output_type": "display_data"
    },
    {
     "name": "stdout",
     "output_type": "stream",
     "text": [
      "Joining join_step_11 with gene_part_12 -> join_step_12\n"
     ]
    },
    {
     "data": {
      "application/vnd.jupyter.widget-view+json": {
       "model_id": "72765e311bfc4e33ae6b0743f3a63035",
       "version_major": 2,
       "version_minor": 0
      },
      "text/plain": [
       "FloatProgress(value=0.0, layout=Layout(width='auto'), style=ProgressStyle(bar_color='black'))"
      ]
     },
     "metadata": {},
     "output_type": "display_data"
    },
    {
     "name": "stdout",
     "output_type": "stream",
     "text": [
      "Joining join_step_12 with gene_part_13 -> join_step_13\n"
     ]
    },
    {
     "ename": "OutOfMemoryException",
     "evalue": "Out of Memory Error: could not allocate block of size 256.0 KiB (3.7 GiB/3.7 GiB used)\n\nPossible solutions:\n* Reducing the number of threads (SET threads=X)\n* Disabling insertion-order preservation (SET preserve_insertion_order=false)\n* Increasing the memory limit (SET memory_limit='...GB')\n\nSee also https://duckdb.org/docs/stable/guides/performance/how_to_tune_workloads",
     "output_type": "error",
     "traceback": [
      "\u001b[31m---------------------------------------------------------------------------\u001b[39m",
      "\u001b[31mOutOfMemoryException\u001b[39m                      Traceback (most recent call last)",
      "\u001b[36mCell\u001b[39m\u001b[36m \u001b[39m\u001b[32mIn[10]\u001b[39m\u001b[32m, line 66\u001b[39m\n\u001b[32m     64\u001b[39m next_table = \u001b[33mf\u001b[39m\u001b[33m\"\u001b[39m\u001b[33mjoin_step_\u001b[39m\u001b[38;5;132;01m{\u001b[39;00midx+\u001b[32m1\u001b[39m\u001b[38;5;132;01m}\u001b[39;00m\u001b[33m\"\u001b[39m\n\u001b[32m     65\u001b[39m \u001b[38;5;28mprint\u001b[39m(\u001b[33mf\u001b[39m\u001b[33m\"\u001b[39m\u001b[33mJoining \u001b[39m\u001b[38;5;132;01m{\u001b[39;00mcur_table\u001b[38;5;132;01m}\u001b[39;00m\u001b[33m with \u001b[39m\u001b[38;5;132;01m{\u001b[39;00mpart\u001b[38;5;132;01m}\u001b[39;00m\u001b[33m -> \u001b[39m\u001b[38;5;132;01m{\u001b[39;00mnext_table\u001b[38;5;132;01m}\u001b[39;00m\u001b[33m\"\u001b[39m)\n\u001b[32m---> \u001b[39m\u001b[32m66\u001b[39m \u001b[43mcon\u001b[49m\u001b[43m.\u001b[49m\u001b[43mexecute\u001b[49m\u001b[43m(\u001b[49m\u001b[33;43mf\u001b[39;49m\u001b[33;43m\"\"\"\u001b[39;49m\n\u001b[32m     67\u001b[39m \u001b[33;43mCREATE TABLE \u001b[39;49m\u001b[38;5;132;43;01m{\u001b[39;49;00m\u001b[43mnext_table\u001b[49m\u001b[38;5;132;43;01m}\u001b[39;49;00m\u001b[33;43m AS\u001b[39;49m\n\u001b[32m     68\u001b[39m \u001b[33;43mSELECT s.*, p.*\u001b[39;49m\n\u001b[32m     69\u001b[39m \u001b[33;43mFROM \u001b[39;49m\u001b[38;5;132;43;01m{\u001b[39;49;00m\u001b[43mcur_table\u001b[49m\u001b[38;5;132;43;01m}\u001b[39;49;00m\u001b[33;43m s\u001b[39;49m\n\u001b[32m     70\u001b[39m \u001b[33;43mLEFT JOIN \u001b[39;49m\u001b[38;5;132;43;01m{\u001b[39;49;00m\u001b[43mpart\u001b[49m\u001b[38;5;132;43;01m}\u001b[39;49;00m\u001b[33;43m p\u001b[39;49m\n\u001b[32m     71\u001b[39m \u001b[33;43mON s.sample_id = p.sample_id;\u001b[39;49m\n\u001b[32m     72\u001b[39m \u001b[33;43m\u001b[39;49m\u001b[33;43m\"\"\"\u001b[39;49m\u001b[43m)\u001b[49m\n\u001b[32m     73\u001b[39m \u001b[38;5;28;01mif\u001b[39;00m cur_table != \u001b[33m\"\u001b[39m\u001b[33msamples_list\u001b[39m\u001b[33m\"\u001b[39m:\n\u001b[32m     74\u001b[39m     con.execute(\u001b[33mf\u001b[39m\u001b[33m\"\u001b[39m\u001b[33mDROP TABLE IF EXISTS \u001b[39m\u001b[38;5;132;01m{\u001b[39;00mcur_table\u001b[38;5;132;01m}\u001b[39;00m\u001b[33m;\u001b[39m\u001b[33m\"\u001b[39m)\n",
      "\u001b[31mOutOfMemoryException\u001b[39m: Out of Memory Error: could not allocate block of size 256.0 KiB (3.7 GiB/3.7 GiB used)\n\nPossible solutions:\n* Reducing the number of threads (SET threads=X)\n* Disabling insertion-order preservation (SET preserve_insertion_order=false)\n* Increasing the memory limit (SET memory_limit='...GB')\n\nSee also https://duckdb.org/docs/stable/guides/performance/how_to_tune_workloads"
     ]
    }
   ],
   "source": [
    "import math\n",
    "print(\"map_aggregate not available — pivoting in batches to build wide matrix...\")\n",
    "\n",
    "PIVOT_BATCH = 800  # safe batch size\n",
    "genes_all = [r[0] for r in con.execute(\"SELECT DISTINCT gene_symbol FROM gene_expr_long_accum ORDER BY gene_symbol\").fetchall()]\n",
    "total_genes = len(genes_all)\n",
    "print(f\"Total genes to pivot: {total_genes}\")\n",
    "batches = math.ceil(total_genes / PIVOT_BATCH)\n",
    "print(f\"Pivoting in {batches} batches of up to {PIVOT_BATCH} genes each.\")\n",
    "\n",
    "def sql_col_name(g):\n",
    "    return g.replace('\"', '\"\"').replace(\" \", \"_\").replace(\"-\", \"_\").replace(\"/\", \"_\")\n",
    "\n",
    "# create list of samples first\n",
    "if not table_exists(con, \"samples_list\"):\n",
    "    con.execute(\"CREATE OR REPLACE TABLE samples_list AS SELECT DISTINCT sample_id FROM gene_expr_long_accum;\")\n",
    "    print(\"Created samples_list table.\")\n",
    "\n",
    "part_tables = []\n",
    "for i in range(0, total_genes, PIVOT_BATCH):\n",
    "    batch_genes = genes_all[i:i+PIVOT_BATCH]\n",
    "    batch_no = (i // PIVOT_BATCH) + 1\n",
    "    part_name = f\"gene_part_{batch_no}\"\n",
    "    part_tables.append(part_name)\n",
    "    if table_exists(con, part_name):\n",
    "        print(f\"{part_name} exists — skipping.\")\n",
    "        continue\n",
    "\n",
    "    print(f\"Creating {part_name} for genes {i+1}..{i+len(batch_genes)}\")\n",
    "\n",
    "    # Build CASE expressions safely\n",
    "    cases = []\n",
    "    for g in batch_genes:\n",
    "        g_esc = g.replace(\"'\", \"''\")\n",
    "        alias = sql_col_name(g)\n",
    "        cases.append(f\"MAX(CASE WHEN gene_symbol = '{g_esc}' THEN expr_mean END) AS \\\"{alias}\\\"\")\n",
    "    cases_sql = \",\\n       \".join(cases)\n",
    "\n",
    "    # Build a simple comma-separated list of quoted genes\n",
    "    quoted_genes = \",\".join(\"'\" + g.replace(\"'\", \"''\") + \"'\" for g in batch_genes)\n",
    "\n",
    "    pivot_sql = f\"\"\"\n",
    "    CREATE TABLE {part_name} AS\n",
    "    SELECT sample_id,\n",
    "           {cases_sql}\n",
    "    FROM gene_expr_long_accum\n",
    "    WHERE gene_symbol IN ({quoted_genes})\n",
    "    GROUP BY sample_id;\n",
    "    \"\"\"\n",
    "    con.execute(pivot_sql)\n",
    "    print(f\"{part_name} created.\")\n",
    "\n",
    "# ---- join all part tables into one ----\n",
    "final_table = \"gene_matrix_flat\"\n",
    "if table_exists(con, final_table):\n",
    "    print(f\"{final_table} already exists — skipping join step.\")\n",
    "else:\n",
    "    print(\"Joining part tables into final wide matrix...\")\n",
    "    cur_table = \"samples_list\"\n",
    "    for idx, part in enumerate(part_tables):\n",
    "        next_table = f\"join_step_{idx+1}\"\n",
    "        print(f\"Joining {cur_table} with {part} -> {next_table}\")\n",
    "        con.execute(f\"\"\"\n",
    "        CREATE TABLE {next_table} AS\n",
    "        SELECT s.*, p.*\n",
    "        FROM {cur_table} s\n",
    "        LEFT JOIN {part} p\n",
    "        ON s.sample_id = p.sample_id;\n",
    "        \"\"\")\n",
    "        if cur_table != \"samples_list\":\n",
    "            con.execute(f\"DROP TABLE IF EXISTS {cur_table};\")\n",
    "        cur_table = next_table\n",
    "\n",
    "    con.execute(f\"CREATE TABLE {final_table} AS SELECT * FROM {cur_table};\")\n",
    "    con.execute(f\"DROP TABLE IF EXISTS {cur_table};\")\n",
    "    print(f\"Final wide table {final_table} created.\")\n",
    "\n",
    "# ---- export final CSV ----2\n",
    "if not os.path.exists(OUT_CSV):\n",
    "    print(\"Writing final CSV ...\")\n",
    "    con.execute(f\"COPY (SELECT * FROM gene_matrix_flat) TO '{OUT_CSV}' (HEADER, DELIMITER ',');\")\n",
    "    print(\"Final CSV written.\")\n",
    "else:\n",
    "    print(\"Final CSV already exists; skip writing.\")\n",
    "\n",
    "print(\"✅ Pivot-in-batches complete.\")"
   ]
  },
  {
   "cell_type": "code",
   "execution_count": 12,
   "id": "4b11cbfc",
   "metadata": {},
   "outputs": [
    {
     "name": "stdout",
     "output_type": "stream",
     "text": [
      "🚀 Reconnecting to existing DuckDB database...\n",
      "✅ Connected. Temp dir: /Users/arujatiwary/duckdb_temp\n",
      "Pivoting with PIVOT_BATCH=200\n",
      "Total genes: 23547  →  118 batches\n",
      "gene_part_1 exists — skipping.\n",
      "gene_part_2 exists — skipping.\n",
      "gene_part_3 exists — skipping.\n",
      "gene_part_4 exists — skipping.\n",
      "gene_part_5 exists — skipping.\n",
      "gene_part_6 exists — skipping.\n",
      "gene_part_7 exists — skipping.\n",
      "gene_part_8 exists — skipping.\n",
      "gene_part_9 exists — skipping.\n",
      "gene_part_10 exists — skipping.\n",
      "gene_part_11 exists — skipping.\n",
      "gene_part_12 exists — skipping.\n",
      "gene_part_13 exists — skipping.\n",
      "gene_part_14 exists — skipping.\n",
      "gene_part_15 exists — skipping.\n",
      "gene_part_16 exists — skipping.\n",
      "gene_part_17 exists — skipping.\n",
      "gene_part_18 exists — skipping.\n",
      "gene_part_19 exists — skipping.\n",
      "gene_part_20 exists — skipping.\n",
      "gene_part_21 exists — skipping.\n",
      "gene_part_22 exists — skipping.\n",
      "gene_part_23 exists — skipping.\n",
      "gene_part_24 exists — skipping.\n",
      "gene_part_25 exists — skipping.\n",
      "gene_part_26 exists — skipping.\n",
      "gene_part_27 exists — skipping.\n",
      "gene_part_28 exists — skipping.\n",
      "gene_part_29 exists — skipping.\n",
      "gene_part_30 exists — skipping.\n",
      "gene_part_31 exists — skipping.\n",
      "[Batch 32/118] Creating gene_part_32 for genes 6201–6400\n"
     ]
    },
    {
     "data": {
      "application/vnd.jupyter.widget-view+json": {
       "model_id": "f4a27e63292443dba3370499dbf06c47",
       "version_major": 2,
       "version_minor": 0
      },
      "text/plain": [
       "FloatProgress(value=0.0, layout=Layout(width='auto'), style=ProgressStyle(bar_color='black'))"
      ]
     },
     "metadata": {},
     "output_type": "display_data"
    },
    {
     "name": "stdout",
     "output_type": "stream",
     "text": [
      "✅ gene_part_32 created.\n",
      "[Batch 33/118] Creating gene_part_33 for genes 6401–6600\n"
     ]
    },
    {
     "data": {
      "application/vnd.jupyter.widget-view+json": {
       "model_id": "8a005ff0695d4c60baf9946749529ebd",
       "version_major": 2,
       "version_minor": 0
      },
      "text/plain": [
       "FloatProgress(value=0.0, layout=Layout(width='auto'), style=ProgressStyle(bar_color='black'))"
      ]
     },
     "metadata": {},
     "output_type": "display_data"
    },
    {
     "name": "stdout",
     "output_type": "stream",
     "text": [
      "✅ gene_part_33 created.\n",
      "[Batch 34/118] Creating gene_part_34 for genes 6601–6800\n"
     ]
    },
    {
     "data": {
      "application/vnd.jupyter.widget-view+json": {
       "model_id": "dfadee1dd1c54f5a86bd9eba6de533fb",
       "version_major": 2,
       "version_minor": 0
      },
      "text/plain": [
       "FloatProgress(value=0.0, layout=Layout(width='auto'), style=ProgressStyle(bar_color='black'))"
      ]
     },
     "metadata": {},
     "output_type": "display_data"
    },
    {
     "name": "stdout",
     "output_type": "stream",
     "text": [
      "✅ gene_part_34 created.\n",
      "[Batch 35/118] Creating gene_part_35 for genes 6801–7000\n"
     ]
    },
    {
     "data": {
      "application/vnd.jupyter.widget-view+json": {
       "model_id": "73b3e604455e457489439a5e6fe59b47",
       "version_major": 2,
       "version_minor": 0
      },
      "text/plain": [
       "FloatProgress(value=0.0, layout=Layout(width='auto'), style=ProgressStyle(bar_color='black'))"
      ]
     },
     "metadata": {},
     "output_type": "display_data"
    },
    {
     "name": "stdout",
     "output_type": "stream",
     "text": [
      "✅ gene_part_35 created.\n",
      "[Batch 36/118] Creating gene_part_36 for genes 7001–7200\n"
     ]
    },
    {
     "data": {
      "application/vnd.jupyter.widget-view+json": {
       "model_id": "216e0e10b58d49b39a34a11c155f7904",
       "version_major": 2,
       "version_minor": 0
      },
      "text/plain": [
       "FloatProgress(value=0.0, layout=Layout(width='auto'), style=ProgressStyle(bar_color='black'))"
      ]
     },
     "metadata": {},
     "output_type": "display_data"
    },
    {
     "name": "stdout",
     "output_type": "stream",
     "text": [
      "✅ gene_part_36 created.\n",
      "[Batch 37/118] Creating gene_part_37 for genes 7201–7400\n"
     ]
    },
    {
     "data": {
      "application/vnd.jupyter.widget-view+json": {
       "model_id": "b8e4d44a7f1a47109c0ed97abd151615",
       "version_major": 2,
       "version_minor": 0
      },
      "text/plain": [
       "FloatProgress(value=0.0, layout=Layout(width='auto'), style=ProgressStyle(bar_color='black'))"
      ]
     },
     "metadata": {},
     "output_type": "display_data"
    },
    {
     "name": "stdout",
     "output_type": "stream",
     "text": [
      "✅ gene_part_37 created.\n",
      "[Batch 38/118] Creating gene_part_38 for genes 7401–7600\n"
     ]
    },
    {
     "data": {
      "application/vnd.jupyter.widget-view+json": {
       "model_id": "58f7a78728e945e1ab30ef1b3447b40a",
       "version_major": 2,
       "version_minor": 0
      },
      "text/plain": [
       "FloatProgress(value=0.0, layout=Layout(width='auto'), style=ProgressStyle(bar_color='black'))"
      ]
     },
     "metadata": {},
     "output_type": "display_data"
    },
    {
     "name": "stdout",
     "output_type": "stream",
     "text": [
      "✅ gene_part_38 created.\n",
      "[Batch 39/118] Creating gene_part_39 for genes 7601–7800\n"
     ]
    },
    {
     "data": {
      "application/vnd.jupyter.widget-view+json": {
       "model_id": "cb3a6df424f84deb8f9b14ee103f3740",
       "version_major": 2,
       "version_minor": 0
      },
      "text/plain": [
       "FloatProgress(value=0.0, layout=Layout(width='auto'), style=ProgressStyle(bar_color='black'))"
      ]
     },
     "metadata": {},
     "output_type": "display_data"
    },
    {
     "name": "stdout",
     "output_type": "stream",
     "text": [
      "✅ gene_part_39 created.\n",
      "[Batch 40/118] Creating gene_part_40 for genes 7801–8000\n"
     ]
    },
    {
     "data": {
      "application/vnd.jupyter.widget-view+json": {
       "model_id": "15cbedbadd144d3a95cfe915d7fb4e77",
       "version_major": 2,
       "version_minor": 0
      },
      "text/plain": [
       "FloatProgress(value=0.0, layout=Layout(width='auto'), style=ProgressStyle(bar_color='black'))"
      ]
     },
     "metadata": {},
     "output_type": "display_data"
    },
    {
     "name": "stdout",
     "output_type": "stream",
     "text": [
      "✅ gene_part_40 created.\n",
      "[Batch 41/118] Creating gene_part_41 for genes 8001–8200\n"
     ]
    },
    {
     "data": {
      "application/vnd.jupyter.widget-view+json": {
       "model_id": "d38f4a9d65454590849744a4820ff8a7",
       "version_major": 2,
       "version_minor": 0
      },
      "text/plain": [
       "FloatProgress(value=0.0, layout=Layout(width='auto'), style=ProgressStyle(bar_color='black'))"
      ]
     },
     "metadata": {},
     "output_type": "display_data"
    },
    {
     "name": "stdout",
     "output_type": "stream",
     "text": [
      "✅ gene_part_41 created.\n",
      "[Batch 42/118] Creating gene_part_42 for genes 8201–8400\n"
     ]
    },
    {
     "data": {
      "application/vnd.jupyter.widget-view+json": {
       "model_id": "7eb6f046c48c4207a9c116ca50c0178a",
       "version_major": 2,
       "version_minor": 0
      },
      "text/plain": [
       "FloatProgress(value=0.0, layout=Layout(width='auto'), style=ProgressStyle(bar_color='black'))"
      ]
     },
     "metadata": {},
     "output_type": "display_data"
    },
    {
     "name": "stdout",
     "output_type": "stream",
     "text": [
      "✅ gene_part_42 created.\n",
      "[Batch 43/118] Creating gene_part_43 for genes 8401–8600\n"
     ]
    },
    {
     "data": {
      "application/vnd.jupyter.widget-view+json": {
       "model_id": "b9f3bb9b44e9440d9617dd852074e99c",
       "version_major": 2,
       "version_minor": 0
      },
      "text/plain": [
       "FloatProgress(value=0.0, layout=Layout(width='auto'), style=ProgressStyle(bar_color='black'))"
      ]
     },
     "metadata": {},
     "output_type": "display_data"
    },
    {
     "name": "stdout",
     "output_type": "stream",
     "text": [
      "✅ gene_part_43 created.\n",
      "[Batch 44/118] Creating gene_part_44 for genes 8601–8800\n"
     ]
    },
    {
     "data": {
      "application/vnd.jupyter.widget-view+json": {
       "model_id": "378d57c952764f468398935ea14eaeeb",
       "version_major": 2,
       "version_minor": 0
      },
      "text/plain": [
       "FloatProgress(value=0.0, layout=Layout(width='auto'), style=ProgressStyle(bar_color='black'))"
      ]
     },
     "metadata": {},
     "output_type": "display_data"
    },
    {
     "name": "stdout",
     "output_type": "stream",
     "text": [
      "✅ gene_part_44 created.\n",
      "[Batch 45/118] Creating gene_part_45 for genes 8801–9000\n"
     ]
    },
    {
     "data": {
      "application/vnd.jupyter.widget-view+json": {
       "model_id": "3ec25081fc434a29b59260d6554a1c56",
       "version_major": 2,
       "version_minor": 0
      },
      "text/plain": [
       "FloatProgress(value=0.0, layout=Layout(width='auto'), style=ProgressStyle(bar_color='black'))"
      ]
     },
     "metadata": {},
     "output_type": "display_data"
    },
    {
     "name": "stdout",
     "output_type": "stream",
     "text": [
      "✅ gene_part_45 created.\n",
      "[Batch 46/118] Creating gene_part_46 for genes 9001–9200\n"
     ]
    },
    {
     "data": {
      "application/vnd.jupyter.widget-view+json": {
       "model_id": "d7b8761bfc2c40a38a078b2723d7e2d8",
       "version_major": 2,
       "version_minor": 0
      },
      "text/plain": [
       "FloatProgress(value=0.0, layout=Layout(width='auto'), style=ProgressStyle(bar_color='black'))"
      ]
     },
     "metadata": {},
     "output_type": "display_data"
    },
    {
     "name": "stdout",
     "output_type": "stream",
     "text": [
      "✅ gene_part_46 created.\n",
      "[Batch 47/118] Creating gene_part_47 for genes 9201–9400\n"
     ]
    },
    {
     "data": {
      "application/vnd.jupyter.widget-view+json": {
       "model_id": "7b6b2f00d86e4ce0ad252956332b5a1b",
       "version_major": 2,
       "version_minor": 0
      },
      "text/plain": [
       "FloatProgress(value=0.0, layout=Layout(width='auto'), style=ProgressStyle(bar_color='black'))"
      ]
     },
     "metadata": {},
     "output_type": "display_data"
    },
    {
     "name": "stdout",
     "output_type": "stream",
     "text": [
      "✅ gene_part_47 created.\n",
      "[Batch 48/118] Creating gene_part_48 for genes 9401–9600\n"
     ]
    },
    {
     "data": {
      "application/vnd.jupyter.widget-view+json": {
       "model_id": "7a314f29f29642d1bb21c876029b69bb",
       "version_major": 2,
       "version_minor": 0
      },
      "text/plain": [
       "FloatProgress(value=0.0, layout=Layout(width='auto'), style=ProgressStyle(bar_color='black'))"
      ]
     },
     "metadata": {},
     "output_type": "display_data"
    },
    {
     "name": "stdout",
     "output_type": "stream",
     "text": [
      "✅ gene_part_48 created.\n",
      "[Batch 49/118] Creating gene_part_49 for genes 9601–9800\n"
     ]
    },
    {
     "data": {
      "application/vnd.jupyter.widget-view+json": {
       "model_id": "da890df5ddf84647858df64d00087ee0",
       "version_major": 2,
       "version_minor": 0
      },
      "text/plain": [
       "FloatProgress(value=0.0, layout=Layout(width='auto'), style=ProgressStyle(bar_color='black'))"
      ]
     },
     "metadata": {},
     "output_type": "display_data"
    },
    {
     "name": "stdout",
     "output_type": "stream",
     "text": [
      "✅ gene_part_49 created.\n",
      "[Batch 50/118] Creating gene_part_50 for genes 9801–10000\n"
     ]
    },
    {
     "data": {
      "application/vnd.jupyter.widget-view+json": {
       "model_id": "fe12fb60dc6a4bfa94c32fae5fa37b12",
       "version_major": 2,
       "version_minor": 0
      },
      "text/plain": [
       "FloatProgress(value=0.0, layout=Layout(width='auto'), style=ProgressStyle(bar_color='black'))"
      ]
     },
     "metadata": {},
     "output_type": "display_data"
    },
    {
     "name": "stdout",
     "output_type": "stream",
     "text": [
      "✅ gene_part_50 created.\n",
      "[Batch 51/118] Creating gene_part_51 for genes 10001–10200\n"
     ]
    },
    {
     "data": {
      "application/vnd.jupyter.widget-view+json": {
       "model_id": "a2cf65b5a27f45a398d440fe1b5c5292",
       "version_major": 2,
       "version_minor": 0
      },
      "text/plain": [
       "FloatProgress(value=0.0, layout=Layout(width='auto'), style=ProgressStyle(bar_color='black'))"
      ]
     },
     "metadata": {},
     "output_type": "display_data"
    },
    {
     "name": "stdout",
     "output_type": "stream",
     "text": [
      "✅ gene_part_51 created.\n",
      "[Batch 52/118] Creating gene_part_52 for genes 10201–10400\n"
     ]
    },
    {
     "data": {
      "application/vnd.jupyter.widget-view+json": {
       "model_id": "0ecccabfd21d49838d868d75b2d5fe78",
       "version_major": 2,
       "version_minor": 0
      },
      "text/plain": [
       "FloatProgress(value=0.0, layout=Layout(width='auto'), style=ProgressStyle(bar_color='black'))"
      ]
     },
     "metadata": {},
     "output_type": "display_data"
    },
    {
     "name": "stdout",
     "output_type": "stream",
     "text": [
      "✅ gene_part_52 created.\n",
      "[Batch 53/118] Creating gene_part_53 for genes 10401–10600\n"
     ]
    },
    {
     "data": {
      "application/vnd.jupyter.widget-view+json": {
       "model_id": "a33cc486270145c28c292c010f35f8c4",
       "version_major": 2,
       "version_minor": 0
      },
      "text/plain": [
       "FloatProgress(value=0.0, layout=Layout(width='auto'), style=ProgressStyle(bar_color='black'))"
      ]
     },
     "metadata": {},
     "output_type": "display_data"
    },
    {
     "name": "stdout",
     "output_type": "stream",
     "text": [
      "✅ gene_part_53 created.\n",
      "[Batch 54/118] Creating gene_part_54 for genes 10601–10800\n"
     ]
    },
    {
     "data": {
      "application/vnd.jupyter.widget-view+json": {
       "model_id": "d835aad433ac42409517a7b2ed9b6ce4",
       "version_major": 2,
       "version_minor": 0
      },
      "text/plain": [
       "FloatProgress(value=0.0, layout=Layout(width='auto'), style=ProgressStyle(bar_color='black'))"
      ]
     },
     "metadata": {},
     "output_type": "display_data"
    },
    {
     "name": "stdout",
     "output_type": "stream",
     "text": [
      "✅ gene_part_54 created.\n",
      "[Batch 55/118] Creating gene_part_55 for genes 10801–11000\n"
     ]
    },
    {
     "data": {
      "application/vnd.jupyter.widget-view+json": {
       "model_id": "de694e51408149899000f058d3ed9944",
       "version_major": 2,
       "version_minor": 0
      },
      "text/plain": [
       "FloatProgress(value=0.0, layout=Layout(width='auto'), style=ProgressStyle(bar_color='black'))"
      ]
     },
     "metadata": {},
     "output_type": "display_data"
    },
    {
     "name": "stdout",
     "output_type": "stream",
     "text": [
      "✅ gene_part_55 created.\n",
      "[Batch 56/118] Creating gene_part_56 for genes 11001–11200\n"
     ]
    },
    {
     "data": {
      "application/vnd.jupyter.widget-view+json": {
       "model_id": "ef7b07ddebc54fe0b5d6dcf4835cff31",
       "version_major": 2,
       "version_minor": 0
      },
      "text/plain": [
       "FloatProgress(value=0.0, layout=Layout(width='auto'), style=ProgressStyle(bar_color='black'))"
      ]
     },
     "metadata": {},
     "output_type": "display_data"
    },
    {
     "name": "stdout",
     "output_type": "stream",
     "text": [
      "✅ gene_part_56 created.\n",
      "[Batch 57/118] Creating gene_part_57 for genes 11201–11400\n"
     ]
    },
    {
     "data": {
      "application/vnd.jupyter.widget-view+json": {
       "model_id": "d3a7c178414342a395ebc8d242f5be2f",
       "version_major": 2,
       "version_minor": 0
      },
      "text/plain": [
       "FloatProgress(value=0.0, layout=Layout(width='auto'), style=ProgressStyle(bar_color='black'))"
      ]
     },
     "metadata": {},
     "output_type": "display_data"
    },
    {
     "name": "stdout",
     "output_type": "stream",
     "text": [
      "✅ gene_part_57 created.\n",
      "[Batch 58/118] Creating gene_part_58 for genes 11401–11600\n"
     ]
    },
    {
     "data": {
      "application/vnd.jupyter.widget-view+json": {
       "model_id": "b8d8694f8f98487994c4e901bc1bc53a",
       "version_major": 2,
       "version_minor": 0
      },
      "text/plain": [
       "FloatProgress(value=0.0, layout=Layout(width='auto'), style=ProgressStyle(bar_color='black'))"
      ]
     },
     "metadata": {},
     "output_type": "display_data"
    },
    {
     "name": "stdout",
     "output_type": "stream",
     "text": [
      "✅ gene_part_58 created.\n",
      "[Batch 59/118] Creating gene_part_59 for genes 11601–11800\n"
     ]
    },
    {
     "data": {
      "application/vnd.jupyter.widget-view+json": {
       "model_id": "441071d9d995439ca2ef201124ad5a56",
       "version_major": 2,
       "version_minor": 0
      },
      "text/plain": [
       "FloatProgress(value=0.0, layout=Layout(width='auto'), style=ProgressStyle(bar_color='black'))"
      ]
     },
     "metadata": {},
     "output_type": "display_data"
    },
    {
     "name": "stdout",
     "output_type": "stream",
     "text": [
      "✅ gene_part_59 created.\n",
      "[Batch 60/118] Creating gene_part_60 for genes 11801–12000\n"
     ]
    },
    {
     "data": {
      "application/vnd.jupyter.widget-view+json": {
       "model_id": "caa3218c611548c9b0f31428eb68ea7e",
       "version_major": 2,
       "version_minor": 0
      },
      "text/plain": [
       "FloatProgress(value=0.0, layout=Layout(width='auto'), style=ProgressStyle(bar_color='black'))"
      ]
     },
     "metadata": {},
     "output_type": "display_data"
    },
    {
     "name": "stdout",
     "output_type": "stream",
     "text": [
      "✅ gene_part_60 created.\n",
      "[Batch 61/118] Creating gene_part_61 for genes 12001–12200\n"
     ]
    },
    {
     "data": {
      "application/vnd.jupyter.widget-view+json": {
       "model_id": "4073d0a42db1442eb8ddefeb0541b1e2",
       "version_major": 2,
       "version_minor": 0
      },
      "text/plain": [
       "FloatProgress(value=0.0, layout=Layout(width='auto'), style=ProgressStyle(bar_color='black'))"
      ]
     },
     "metadata": {},
     "output_type": "display_data"
    },
    {
     "name": "stdout",
     "output_type": "stream",
     "text": [
      "✅ gene_part_61 created.\n",
      "[Batch 62/118] Creating gene_part_62 for genes 12201–12400\n"
     ]
    },
    {
     "data": {
      "application/vnd.jupyter.widget-view+json": {
       "model_id": "4bad1251aeba418fa0ddb9bc928f4049",
       "version_major": 2,
       "version_minor": 0
      },
      "text/plain": [
       "FloatProgress(value=0.0, layout=Layout(width='auto'), style=ProgressStyle(bar_color='black'))"
      ]
     },
     "metadata": {},
     "output_type": "display_data"
    },
    {
     "name": "stdout",
     "output_type": "stream",
     "text": [
      "✅ gene_part_62 created.\n",
      "[Batch 63/118] Creating gene_part_63 for genes 12401–12600\n"
     ]
    },
    {
     "data": {
      "application/vnd.jupyter.widget-view+json": {
       "model_id": "5fd7c22216d94d9e93a3433401e0fa8c",
       "version_major": 2,
       "version_minor": 0
      },
      "text/plain": [
       "FloatProgress(value=0.0, layout=Layout(width='auto'), style=ProgressStyle(bar_color='black'))"
      ]
     },
     "metadata": {},
     "output_type": "display_data"
    },
    {
     "name": "stdout",
     "output_type": "stream",
     "text": [
      "✅ gene_part_63 created.\n",
      "[Batch 64/118] Creating gene_part_64 for genes 12601–12800\n"
     ]
    },
    {
     "data": {
      "application/vnd.jupyter.widget-view+json": {
       "model_id": "40692ff559094e9098f7a827b437528d",
       "version_major": 2,
       "version_minor": 0
      },
      "text/plain": [
       "FloatProgress(value=0.0, layout=Layout(width='auto'), style=ProgressStyle(bar_color='black'))"
      ]
     },
     "metadata": {},
     "output_type": "display_data"
    },
    {
     "name": "stdout",
     "output_type": "stream",
     "text": [
      "✅ gene_part_64 created.\n",
      "[Batch 65/118] Creating gene_part_65 for genes 12801–13000\n"
     ]
    },
    {
     "data": {
      "application/vnd.jupyter.widget-view+json": {
       "model_id": "dc158b2ec09f4178bcb14e4f98b52f50",
       "version_major": 2,
       "version_minor": 0
      },
      "text/plain": [
       "FloatProgress(value=0.0, layout=Layout(width='auto'), style=ProgressStyle(bar_color='black'))"
      ]
     },
     "metadata": {},
     "output_type": "display_data"
    },
    {
     "name": "stdout",
     "output_type": "stream",
     "text": [
      "✅ gene_part_65 created.\n",
      "[Batch 66/118] Creating gene_part_66 for genes 13001–13200\n"
     ]
    },
    {
     "data": {
      "application/vnd.jupyter.widget-view+json": {
       "model_id": "287a4cbed4ba46009fbe03ad82b86eed",
       "version_major": 2,
       "version_minor": 0
      },
      "text/plain": [
       "FloatProgress(value=0.0, layout=Layout(width='auto'), style=ProgressStyle(bar_color='black'))"
      ]
     },
     "metadata": {},
     "output_type": "display_data"
    },
    {
     "name": "stdout",
     "output_type": "stream",
     "text": [
      "✅ gene_part_66 created.\n",
      "[Batch 67/118] Creating gene_part_67 for genes 13201–13400\n"
     ]
    },
    {
     "data": {
      "application/vnd.jupyter.widget-view+json": {
       "model_id": "9e6e27a8db9c4df68ccbe3ef19e2532d",
       "version_major": 2,
       "version_minor": 0
      },
      "text/plain": [
       "FloatProgress(value=0.0, layout=Layout(width='auto'), style=ProgressStyle(bar_color='black'))"
      ]
     },
     "metadata": {},
     "output_type": "display_data"
    },
    {
     "name": "stdout",
     "output_type": "stream",
     "text": [
      "✅ gene_part_67 created.\n",
      "[Batch 68/118] Creating gene_part_68 for genes 13401–13600\n"
     ]
    },
    {
     "data": {
      "application/vnd.jupyter.widget-view+json": {
       "model_id": "b1f766e8f1744fef92d1a2c63ab1c7e8",
       "version_major": 2,
       "version_minor": 0
      },
      "text/plain": [
       "FloatProgress(value=0.0, layout=Layout(width='auto'), style=ProgressStyle(bar_color='black'))"
      ]
     },
     "metadata": {},
     "output_type": "display_data"
    },
    {
     "name": "stdout",
     "output_type": "stream",
     "text": [
      "✅ gene_part_68 created.\n",
      "[Batch 69/118] Creating gene_part_69 for genes 13601–13800\n"
     ]
    },
    {
     "data": {
      "application/vnd.jupyter.widget-view+json": {
       "model_id": "68bc6d49741c4a728043fa72ca9991a7",
       "version_major": 2,
       "version_minor": 0
      },
      "text/plain": [
       "FloatProgress(value=0.0, layout=Layout(width='auto'), style=ProgressStyle(bar_color='black'))"
      ]
     },
     "metadata": {},
     "output_type": "display_data"
    },
    {
     "name": "stdout",
     "output_type": "stream",
     "text": [
      "✅ gene_part_69 created.\n",
      "[Batch 70/118] Creating gene_part_70 for genes 13801–14000\n"
     ]
    },
    {
     "data": {
      "application/vnd.jupyter.widget-view+json": {
       "model_id": "b91240614e844dfcb3d020338d0624a7",
       "version_major": 2,
       "version_minor": 0
      },
      "text/plain": [
       "FloatProgress(value=0.0, layout=Layout(width='auto'), style=ProgressStyle(bar_color='black'))"
      ]
     },
     "metadata": {},
     "output_type": "display_data"
    },
    {
     "name": "stdout",
     "output_type": "stream",
     "text": [
      "✅ gene_part_70 created.\n",
      "[Batch 71/118] Creating gene_part_71 for genes 14001–14200\n"
     ]
    },
    {
     "data": {
      "application/vnd.jupyter.widget-view+json": {
       "model_id": "d09e3159111248fd9ec4ad531cbfb705",
       "version_major": 2,
       "version_minor": 0
      },
      "text/plain": [
       "FloatProgress(value=0.0, layout=Layout(width='auto'), style=ProgressStyle(bar_color='black'))"
      ]
     },
     "metadata": {},
     "output_type": "display_data"
    },
    {
     "name": "stdout",
     "output_type": "stream",
     "text": [
      "✅ gene_part_71 created.\n",
      "[Batch 72/118] Creating gene_part_72 for genes 14201–14400\n"
     ]
    },
    {
     "data": {
      "application/vnd.jupyter.widget-view+json": {
       "model_id": "fb35b5d0940143e9bc4ab6a2135422a6",
       "version_major": 2,
       "version_minor": 0
      },
      "text/plain": [
       "FloatProgress(value=0.0, layout=Layout(width='auto'), style=ProgressStyle(bar_color='black'))"
      ]
     },
     "metadata": {},
     "output_type": "display_data"
    },
    {
     "name": "stdout",
     "output_type": "stream",
     "text": [
      "✅ gene_part_72 created.\n",
      "[Batch 73/118] Creating gene_part_73 for genes 14401–14600\n"
     ]
    },
    {
     "data": {
      "application/vnd.jupyter.widget-view+json": {
       "model_id": "ccff6229adaa42dca9b3891cfdfbc0e2",
       "version_major": 2,
       "version_minor": 0
      },
      "text/plain": [
       "FloatProgress(value=0.0, layout=Layout(width='auto'), style=ProgressStyle(bar_color='black'))"
      ]
     },
     "metadata": {},
     "output_type": "display_data"
    },
    {
     "name": "stdout",
     "output_type": "stream",
     "text": [
      "✅ gene_part_73 created.\n",
      "[Batch 74/118] Creating gene_part_74 for genes 14601–14800\n"
     ]
    },
    {
     "data": {
      "application/vnd.jupyter.widget-view+json": {
       "model_id": "c2135e36e5e74df7b0a7c66c94884ce5",
       "version_major": 2,
       "version_minor": 0
      },
      "text/plain": [
       "FloatProgress(value=0.0, layout=Layout(width='auto'), style=ProgressStyle(bar_color='black'))"
      ]
     },
     "metadata": {},
     "output_type": "display_data"
    },
    {
     "name": "stdout",
     "output_type": "stream",
     "text": [
      "✅ gene_part_74 created.\n",
      "[Batch 75/118] Creating gene_part_75 for genes 14801–15000\n"
     ]
    },
    {
     "data": {
      "application/vnd.jupyter.widget-view+json": {
       "model_id": "58225d0e80984a1a864fe46107e1e2f9",
       "version_major": 2,
       "version_minor": 0
      },
      "text/plain": [
       "FloatProgress(value=0.0, layout=Layout(width='auto'), style=ProgressStyle(bar_color='black'))"
      ]
     },
     "metadata": {},
     "output_type": "display_data"
    },
    {
     "name": "stdout",
     "output_type": "stream",
     "text": [
      "✅ gene_part_75 created.\n",
      "[Batch 76/118] Creating gene_part_76 for genes 15001–15200\n"
     ]
    },
    {
     "data": {
      "application/vnd.jupyter.widget-view+json": {
       "model_id": "d3300c1cdeae48818b5d930fd176716c",
       "version_major": 2,
       "version_minor": 0
      },
      "text/plain": [
       "FloatProgress(value=0.0, layout=Layout(width='auto'), style=ProgressStyle(bar_color='black'))"
      ]
     },
     "metadata": {},
     "output_type": "display_data"
    },
    {
     "name": "stdout",
     "output_type": "stream",
     "text": [
      "✅ gene_part_76 created.\n",
      "[Batch 77/118] Creating gene_part_77 for genes 15201–15400\n"
     ]
    },
    {
     "data": {
      "application/vnd.jupyter.widget-view+json": {
       "model_id": "06cc2d86df1a461eae62c1371478f2b9",
       "version_major": 2,
       "version_minor": 0
      },
      "text/plain": [
       "FloatProgress(value=0.0, layout=Layout(width='auto'), style=ProgressStyle(bar_color='black'))"
      ]
     },
     "metadata": {},
     "output_type": "display_data"
    },
    {
     "name": "stdout",
     "output_type": "stream",
     "text": [
      "✅ gene_part_77 created.\n",
      "[Batch 78/118] Creating gene_part_78 for genes 15401–15600\n"
     ]
    },
    {
     "data": {
      "application/vnd.jupyter.widget-view+json": {
       "model_id": "6c7790cc60b7484db760716d12618123",
       "version_major": 2,
       "version_minor": 0
      },
      "text/plain": [
       "FloatProgress(value=0.0, layout=Layout(width='auto'), style=ProgressStyle(bar_color='black'))"
      ]
     },
     "metadata": {},
     "output_type": "display_data"
    },
    {
     "name": "stdout",
     "output_type": "stream",
     "text": [
      "✅ gene_part_78 created.\n",
      "[Batch 79/118] Creating gene_part_79 for genes 15601–15800\n"
     ]
    },
    {
     "data": {
      "application/vnd.jupyter.widget-view+json": {
       "model_id": "3331796ae3c24dc2a1131841725dd983",
       "version_major": 2,
       "version_minor": 0
      },
      "text/plain": [
       "FloatProgress(value=0.0, layout=Layout(width='auto'), style=ProgressStyle(bar_color='black'))"
      ]
     },
     "metadata": {},
     "output_type": "display_data"
    },
    {
     "name": "stdout",
     "output_type": "stream",
     "text": [
      "✅ gene_part_79 created.\n",
      "[Batch 80/118] Creating gene_part_80 for genes 15801–16000\n"
     ]
    },
    {
     "data": {
      "application/vnd.jupyter.widget-view+json": {
       "model_id": "0133d8e565334b4da638d652893ebd9c",
       "version_major": 2,
       "version_minor": 0
      },
      "text/plain": [
       "FloatProgress(value=0.0, layout=Layout(width='auto'), style=ProgressStyle(bar_color='black'))"
      ]
     },
     "metadata": {},
     "output_type": "display_data"
    },
    {
     "name": "stdout",
     "output_type": "stream",
     "text": [
      "✅ gene_part_80 created.\n",
      "[Batch 81/118] Creating gene_part_81 for genes 16001–16200\n"
     ]
    },
    {
     "data": {
      "application/vnd.jupyter.widget-view+json": {
       "model_id": "1fbc175bee9a4edc97001e54e21a60a7",
       "version_major": 2,
       "version_minor": 0
      },
      "text/plain": [
       "FloatProgress(value=0.0, layout=Layout(width='auto'), style=ProgressStyle(bar_color='black'))"
      ]
     },
     "metadata": {},
     "output_type": "display_data"
    },
    {
     "name": "stdout",
     "output_type": "stream",
     "text": [
      "✅ gene_part_81 created.\n",
      "[Batch 82/118] Creating gene_part_82 for genes 16201–16400\n"
     ]
    },
    {
     "data": {
      "application/vnd.jupyter.widget-view+json": {
       "model_id": "e7474f3856fb4d09a8bdb6e5031446d5",
       "version_major": 2,
       "version_minor": 0
      },
      "text/plain": [
       "FloatProgress(value=0.0, layout=Layout(width='auto'), style=ProgressStyle(bar_color='black'))"
      ]
     },
     "metadata": {},
     "output_type": "display_data"
    },
    {
     "name": "stdout",
     "output_type": "stream",
     "text": [
      "✅ gene_part_82 created.\n",
      "[Batch 83/118] Creating gene_part_83 for genes 16401–16600\n"
     ]
    },
    {
     "data": {
      "application/vnd.jupyter.widget-view+json": {
       "model_id": "1ac792e145eb407e94463f5b2f99f0da",
       "version_major": 2,
       "version_minor": 0
      },
      "text/plain": [
       "FloatProgress(value=0.0, layout=Layout(width='auto'), style=ProgressStyle(bar_color='black'))"
      ]
     },
     "metadata": {},
     "output_type": "display_data"
    },
    {
     "name": "stdout",
     "output_type": "stream",
     "text": [
      "✅ gene_part_83 created.\n",
      "[Batch 84/118] Creating gene_part_84 for genes 16601–16800\n"
     ]
    },
    {
     "data": {
      "application/vnd.jupyter.widget-view+json": {
       "model_id": "3f1ae99657844cefbc697e1540119af3",
       "version_major": 2,
       "version_minor": 0
      },
      "text/plain": [
       "FloatProgress(value=0.0, layout=Layout(width='auto'), style=ProgressStyle(bar_color='black'))"
      ]
     },
     "metadata": {},
     "output_type": "display_data"
    },
    {
     "name": "stdout",
     "output_type": "stream",
     "text": [
      "✅ gene_part_84 created.\n",
      "[Batch 85/118] Creating gene_part_85 for genes 16801–17000\n"
     ]
    },
    {
     "data": {
      "application/vnd.jupyter.widget-view+json": {
       "model_id": "c20d3153ce594a27a6dc3383b473eb01",
       "version_major": 2,
       "version_minor": 0
      },
      "text/plain": [
       "FloatProgress(value=0.0, layout=Layout(width='auto'), style=ProgressStyle(bar_color='black'))"
      ]
     },
     "metadata": {},
     "output_type": "display_data"
    },
    {
     "name": "stdout",
     "output_type": "stream",
     "text": [
      "✅ gene_part_85 created.\n",
      "[Batch 86/118] Creating gene_part_86 for genes 17001–17200\n"
     ]
    },
    {
     "data": {
      "application/vnd.jupyter.widget-view+json": {
       "model_id": "56e9bae6e4854708ad0dffbf67322308",
       "version_major": 2,
       "version_minor": 0
      },
      "text/plain": [
       "FloatProgress(value=0.0, layout=Layout(width='auto'), style=ProgressStyle(bar_color='black'))"
      ]
     },
     "metadata": {},
     "output_type": "display_data"
    },
    {
     "name": "stdout",
     "output_type": "stream",
     "text": [
      "✅ gene_part_86 created.\n",
      "[Batch 87/118] Creating gene_part_87 for genes 17201–17400\n"
     ]
    },
    {
     "data": {
      "application/vnd.jupyter.widget-view+json": {
       "model_id": "5404d8708a674f639902ce0e00e9d1ae",
       "version_major": 2,
       "version_minor": 0
      },
      "text/plain": [
       "FloatProgress(value=0.0, layout=Layout(width='auto'), style=ProgressStyle(bar_color='black'))"
      ]
     },
     "metadata": {},
     "output_type": "display_data"
    },
    {
     "name": "stdout",
     "output_type": "stream",
     "text": [
      "✅ gene_part_87 created.\n",
      "[Batch 88/118] Creating gene_part_88 for genes 17401–17600\n"
     ]
    },
    {
     "data": {
      "application/vnd.jupyter.widget-view+json": {
       "model_id": "eaadd9a47e624a9199306ef8ddb9fd12",
       "version_major": 2,
       "version_minor": 0
      },
      "text/plain": [
       "FloatProgress(value=0.0, layout=Layout(width='auto'), style=ProgressStyle(bar_color='black'))"
      ]
     },
     "metadata": {},
     "output_type": "display_data"
    },
    {
     "name": "stdout",
     "output_type": "stream",
     "text": [
      "✅ gene_part_88 created.\n",
      "[Batch 89/118] Creating gene_part_89 for genes 17601–17800\n"
     ]
    },
    {
     "data": {
      "application/vnd.jupyter.widget-view+json": {
       "model_id": "1698108ffe634872b17be1caa3cd16ca",
       "version_major": 2,
       "version_minor": 0
      },
      "text/plain": [
       "FloatProgress(value=0.0, layout=Layout(width='auto'), style=ProgressStyle(bar_color='black'))"
      ]
     },
     "metadata": {},
     "output_type": "display_data"
    },
    {
     "name": "stdout",
     "output_type": "stream",
     "text": [
      "✅ gene_part_89 created.\n",
      "[Batch 90/118] Creating gene_part_90 for genes 17801–18000\n"
     ]
    },
    {
     "data": {
      "application/vnd.jupyter.widget-view+json": {
       "model_id": "b2e84acd21c44d55bfd24498dbd3bf26",
       "version_major": 2,
       "version_minor": 0
      },
      "text/plain": [
       "FloatProgress(value=0.0, layout=Layout(width='auto'), style=ProgressStyle(bar_color='black'))"
      ]
     },
     "metadata": {},
     "output_type": "display_data"
    },
    {
     "name": "stdout",
     "output_type": "stream",
     "text": [
      "✅ gene_part_90 created.\n",
      "[Batch 91/118] Creating gene_part_91 for genes 18001–18200\n"
     ]
    },
    {
     "data": {
      "application/vnd.jupyter.widget-view+json": {
       "model_id": "7d1e1d2cece347b8ad7df9532b124810",
       "version_major": 2,
       "version_minor": 0
      },
      "text/plain": [
       "FloatProgress(value=0.0, layout=Layout(width='auto'), style=ProgressStyle(bar_color='black'))"
      ]
     },
     "metadata": {},
     "output_type": "display_data"
    },
    {
     "name": "stdout",
     "output_type": "stream",
     "text": [
      "✅ gene_part_91 created.\n",
      "[Batch 92/118] Creating gene_part_92 for genes 18201–18400\n"
     ]
    },
    {
     "data": {
      "application/vnd.jupyter.widget-view+json": {
       "model_id": "378eff45d561436c98800943e09ffb6f",
       "version_major": 2,
       "version_minor": 0
      },
      "text/plain": [
       "FloatProgress(value=0.0, layout=Layout(width='auto'), style=ProgressStyle(bar_color='black'))"
      ]
     },
     "metadata": {},
     "output_type": "display_data"
    },
    {
     "name": "stdout",
     "output_type": "stream",
     "text": [
      "✅ gene_part_92 created.\n",
      "[Batch 93/118] Creating gene_part_93 for genes 18401–18600\n"
     ]
    },
    {
     "data": {
      "application/vnd.jupyter.widget-view+json": {
       "model_id": "a2dc76b887b5439089709a2707a24a5d",
       "version_major": 2,
       "version_minor": 0
      },
      "text/plain": [
       "FloatProgress(value=0.0, layout=Layout(width='auto'), style=ProgressStyle(bar_color='black'))"
      ]
     },
     "metadata": {},
     "output_type": "display_data"
    },
    {
     "name": "stdout",
     "output_type": "stream",
     "text": [
      "✅ gene_part_93 created.\n",
      "[Batch 94/118] Creating gene_part_94 for genes 18601–18800\n"
     ]
    },
    {
     "data": {
      "application/vnd.jupyter.widget-view+json": {
       "model_id": "b376a695fca247eb8d7376d01d957881",
       "version_major": 2,
       "version_minor": 0
      },
      "text/plain": [
       "FloatProgress(value=0.0, layout=Layout(width='auto'), style=ProgressStyle(bar_color='black'))"
      ]
     },
     "metadata": {},
     "output_type": "display_data"
    },
    {
     "name": "stdout",
     "output_type": "stream",
     "text": [
      "✅ gene_part_94 created.\n",
      "[Batch 95/118] Creating gene_part_95 for genes 18801–19000\n"
     ]
    },
    {
     "data": {
      "application/vnd.jupyter.widget-view+json": {
       "model_id": "412c8f2aadb94b9b84dbdc67e1dfbee2",
       "version_major": 2,
       "version_minor": 0
      },
      "text/plain": [
       "FloatProgress(value=0.0, layout=Layout(width='auto'), style=ProgressStyle(bar_color='black'))"
      ]
     },
     "metadata": {},
     "output_type": "display_data"
    },
    {
     "name": "stdout",
     "output_type": "stream",
     "text": [
      "✅ gene_part_95 created.\n",
      "[Batch 96/118] Creating gene_part_96 for genes 19001–19200\n"
     ]
    },
    {
     "data": {
      "application/vnd.jupyter.widget-view+json": {
       "model_id": "2d7a5d9669b04a9a9a0895913a7f8585",
       "version_major": 2,
       "version_minor": 0
      },
      "text/plain": [
       "FloatProgress(value=0.0, layout=Layout(width='auto'), style=ProgressStyle(bar_color='black'))"
      ]
     },
     "metadata": {},
     "output_type": "display_data"
    },
    {
     "name": "stdout",
     "output_type": "stream",
     "text": [
      "✅ gene_part_96 created.\n",
      "[Batch 97/118] Creating gene_part_97 for genes 19201–19400\n"
     ]
    },
    {
     "data": {
      "application/vnd.jupyter.widget-view+json": {
       "model_id": "5e729982cd29437a814fcbfd02c16cc7",
       "version_major": 2,
       "version_minor": 0
      },
      "text/plain": [
       "FloatProgress(value=0.0, layout=Layout(width='auto'), style=ProgressStyle(bar_color='black'))"
      ]
     },
     "metadata": {},
     "output_type": "display_data"
    },
    {
     "name": "stdout",
     "output_type": "stream",
     "text": [
      "✅ gene_part_97 created.\n",
      "[Batch 98/118] Creating gene_part_98 for genes 19401–19600\n"
     ]
    },
    {
     "data": {
      "application/vnd.jupyter.widget-view+json": {
       "model_id": "1fac719a19a94030902a692aacce0851",
       "version_major": 2,
       "version_minor": 0
      },
      "text/plain": [
       "FloatProgress(value=0.0, layout=Layout(width='auto'), style=ProgressStyle(bar_color='black'))"
      ]
     },
     "metadata": {},
     "output_type": "display_data"
    },
    {
     "name": "stdout",
     "output_type": "stream",
     "text": [
      "✅ gene_part_98 created.\n",
      "[Batch 99/118] Creating gene_part_99 for genes 19601–19800\n"
     ]
    },
    {
     "data": {
      "application/vnd.jupyter.widget-view+json": {
       "model_id": "f779b05db4724583a1f26dcbc2691356",
       "version_major": 2,
       "version_minor": 0
      },
      "text/plain": [
       "FloatProgress(value=0.0, layout=Layout(width='auto'), style=ProgressStyle(bar_color='black'))"
      ]
     },
     "metadata": {},
     "output_type": "display_data"
    },
    {
     "name": "stdout",
     "output_type": "stream",
     "text": [
      "✅ gene_part_99 created.\n",
      "[Batch 100/118] Creating gene_part_100 for genes 19801–20000\n"
     ]
    },
    {
     "data": {
      "application/vnd.jupyter.widget-view+json": {
       "model_id": "c3e88341aaac4d9081bbeba3306b5099",
       "version_major": 2,
       "version_minor": 0
      },
      "text/plain": [
       "FloatProgress(value=0.0, layout=Layout(width='auto'), style=ProgressStyle(bar_color='black'))"
      ]
     },
     "metadata": {},
     "output_type": "display_data"
    },
    {
     "name": "stdout",
     "output_type": "stream",
     "text": [
      "✅ gene_part_100 created.\n",
      "[Batch 101/118] Creating gene_part_101 for genes 20001–20200\n"
     ]
    },
    {
     "data": {
      "application/vnd.jupyter.widget-view+json": {
       "model_id": "c38509d4e8f640dd894102cbbea4f9ba",
       "version_major": 2,
       "version_minor": 0
      },
      "text/plain": [
       "FloatProgress(value=0.0, layout=Layout(width='auto'), style=ProgressStyle(bar_color='black'))"
      ]
     },
     "metadata": {},
     "output_type": "display_data"
    },
    {
     "name": "stdout",
     "output_type": "stream",
     "text": [
      "✅ gene_part_101 created.\n",
      "[Batch 102/118] Creating gene_part_102 for genes 20201–20400\n"
     ]
    },
    {
     "data": {
      "application/vnd.jupyter.widget-view+json": {
       "model_id": "0c48040cc13d4110907dd8e87e16f60a",
       "version_major": 2,
       "version_minor": 0
      },
      "text/plain": [
       "FloatProgress(value=0.0, layout=Layout(width='auto'), style=ProgressStyle(bar_color='black'))"
      ]
     },
     "metadata": {},
     "output_type": "display_data"
    },
    {
     "name": "stdout",
     "output_type": "stream",
     "text": [
      "✅ gene_part_102 created.\n",
      "[Batch 103/118] Creating gene_part_103 for genes 20401–20600\n"
     ]
    },
    {
     "data": {
      "application/vnd.jupyter.widget-view+json": {
       "model_id": "ed390da9eba0461daaa94f3c36907efc",
       "version_major": 2,
       "version_minor": 0
      },
      "text/plain": [
       "FloatProgress(value=0.0, layout=Layout(width='auto'), style=ProgressStyle(bar_color='black'))"
      ]
     },
     "metadata": {},
     "output_type": "display_data"
    },
    {
     "name": "stdout",
     "output_type": "stream",
     "text": [
      "✅ gene_part_103 created.\n",
      "[Batch 104/118] Creating gene_part_104 for genes 20601–20800\n"
     ]
    },
    {
     "data": {
      "application/vnd.jupyter.widget-view+json": {
       "model_id": "3e796a92c0dc44488c381431fbaa376a",
       "version_major": 2,
       "version_minor": 0
      },
      "text/plain": [
       "FloatProgress(value=0.0, layout=Layout(width='auto'), style=ProgressStyle(bar_color='black'))"
      ]
     },
     "metadata": {},
     "output_type": "display_data"
    },
    {
     "name": "stdout",
     "output_type": "stream",
     "text": [
      "✅ gene_part_104 created.\n",
      "[Batch 105/118] Creating gene_part_105 for genes 20801–21000\n"
     ]
    },
    {
     "data": {
      "application/vnd.jupyter.widget-view+json": {
       "model_id": "ddf74044f8044f578b40564567ce2560",
       "version_major": 2,
       "version_minor": 0
      },
      "text/plain": [
       "FloatProgress(value=0.0, layout=Layout(width='auto'), style=ProgressStyle(bar_color='black'))"
      ]
     },
     "metadata": {},
     "output_type": "display_data"
    },
    {
     "name": "stdout",
     "output_type": "stream",
     "text": [
      "✅ gene_part_105 created.\n",
      "[Batch 106/118] Creating gene_part_106 for genes 21001–21200\n"
     ]
    },
    {
     "data": {
      "application/vnd.jupyter.widget-view+json": {
       "model_id": "a07a4923823e4bfeb544517bf77e4e54",
       "version_major": 2,
       "version_minor": 0
      },
      "text/plain": [
       "FloatProgress(value=0.0, layout=Layout(width='auto'), style=ProgressStyle(bar_color='black'))"
      ]
     },
     "metadata": {},
     "output_type": "display_data"
    },
    {
     "name": "stdout",
     "output_type": "stream",
     "text": [
      "✅ gene_part_106 created.\n",
      "[Batch 107/118] Creating gene_part_107 for genes 21201–21400\n"
     ]
    },
    {
     "data": {
      "application/vnd.jupyter.widget-view+json": {
       "model_id": "e6ee5fc725644cb9a567f7082640cd86",
       "version_major": 2,
       "version_minor": 0
      },
      "text/plain": [
       "FloatProgress(value=0.0, layout=Layout(width='auto'), style=ProgressStyle(bar_color='black'))"
      ]
     },
     "metadata": {},
     "output_type": "display_data"
    },
    {
     "name": "stdout",
     "output_type": "stream",
     "text": [
      "✅ gene_part_107 created.\n",
      "[Batch 108/118] Creating gene_part_108 for genes 21401–21600\n"
     ]
    },
    {
     "data": {
      "application/vnd.jupyter.widget-view+json": {
       "model_id": "48f241fb35854811806606b743b6f322",
       "version_major": 2,
       "version_minor": 0
      },
      "text/plain": [
       "FloatProgress(value=0.0, layout=Layout(width='auto'), style=ProgressStyle(bar_color='black'))"
      ]
     },
     "metadata": {},
     "output_type": "display_data"
    },
    {
     "name": "stdout",
     "output_type": "stream",
     "text": [
      "✅ gene_part_108 created.\n",
      "[Batch 109/118] Creating gene_part_109 for genes 21601–21800\n"
     ]
    },
    {
     "data": {
      "application/vnd.jupyter.widget-view+json": {
       "model_id": "829aec4397da42bfaf9c07ebb9149eda",
       "version_major": 2,
       "version_minor": 0
      },
      "text/plain": [
       "FloatProgress(value=0.0, layout=Layout(width='auto'), style=ProgressStyle(bar_color='black'))"
      ]
     },
     "metadata": {},
     "output_type": "display_data"
    },
    {
     "name": "stdout",
     "output_type": "stream",
     "text": [
      "✅ gene_part_109 created.\n",
      "[Batch 110/118] Creating gene_part_110 for genes 21801–22000\n"
     ]
    },
    {
     "data": {
      "application/vnd.jupyter.widget-view+json": {
       "model_id": "1eb0c30118f44e20bbb116bbce22d517",
       "version_major": 2,
       "version_minor": 0
      },
      "text/plain": [
       "FloatProgress(value=0.0, layout=Layout(width='auto'), style=ProgressStyle(bar_color='black'))"
      ]
     },
     "metadata": {},
     "output_type": "display_data"
    },
    {
     "name": "stdout",
     "output_type": "stream",
     "text": [
      "✅ gene_part_110 created.\n",
      "[Batch 111/118] Creating gene_part_111 for genes 22001–22200\n"
     ]
    },
    {
     "data": {
      "application/vnd.jupyter.widget-view+json": {
       "model_id": "4662f235450c4804bc625195ebeb053e",
       "version_major": 2,
       "version_minor": 0
      },
      "text/plain": [
       "FloatProgress(value=0.0, layout=Layout(width='auto'), style=ProgressStyle(bar_color='black'))"
      ]
     },
     "metadata": {},
     "output_type": "display_data"
    },
    {
     "name": "stdout",
     "output_type": "stream",
     "text": [
      "✅ gene_part_111 created.\n",
      "[Batch 112/118] Creating gene_part_112 for genes 22201–22400\n"
     ]
    },
    {
     "data": {
      "application/vnd.jupyter.widget-view+json": {
       "model_id": "857de6af08a448b59938f739f3a72986",
       "version_major": 2,
       "version_minor": 0
      },
      "text/plain": [
       "FloatProgress(value=0.0, layout=Layout(width='auto'), style=ProgressStyle(bar_color='black'))"
      ]
     },
     "metadata": {},
     "output_type": "display_data"
    },
    {
     "name": "stdout",
     "output_type": "stream",
     "text": [
      "✅ gene_part_112 created.\n",
      "[Batch 113/118] Creating gene_part_113 for genes 22401–22600\n"
     ]
    },
    {
     "data": {
      "application/vnd.jupyter.widget-view+json": {
       "model_id": "8cc00151792d435a80ed0a06899ce0ba",
       "version_major": 2,
       "version_minor": 0
      },
      "text/plain": [
       "FloatProgress(value=0.0, layout=Layout(width='auto'), style=ProgressStyle(bar_color='black'))"
      ]
     },
     "metadata": {},
     "output_type": "display_data"
    },
    {
     "name": "stdout",
     "output_type": "stream",
     "text": [
      "✅ gene_part_113 created.\n",
      "[Batch 114/118] Creating gene_part_114 for genes 22601–22800\n"
     ]
    },
    {
     "data": {
      "application/vnd.jupyter.widget-view+json": {
       "model_id": "89b5860fe7b54161ab1699b6485ed12b",
       "version_major": 2,
       "version_minor": 0
      },
      "text/plain": [
       "FloatProgress(value=0.0, layout=Layout(width='auto'), style=ProgressStyle(bar_color='black'))"
      ]
     },
     "metadata": {},
     "output_type": "display_data"
    },
    {
     "name": "stdout",
     "output_type": "stream",
     "text": [
      "✅ gene_part_114 created.\n",
      "[Batch 115/118] Creating gene_part_115 for genes 22801–23000\n"
     ]
    },
    {
     "data": {
      "application/vnd.jupyter.widget-view+json": {
       "model_id": "7c5bea3a39f6447a8fcb308d8f8121b2",
       "version_major": 2,
       "version_minor": 0
      },
      "text/plain": [
       "FloatProgress(value=0.0, layout=Layout(width='auto'), style=ProgressStyle(bar_color='black'))"
      ]
     },
     "metadata": {},
     "output_type": "display_data"
    },
    {
     "name": "stdout",
     "output_type": "stream",
     "text": [
      "✅ gene_part_115 created.\n",
      "[Batch 116/118] Creating gene_part_116 for genes 23001–23200\n"
     ]
    },
    {
     "data": {
      "application/vnd.jupyter.widget-view+json": {
       "model_id": "22afe185225249d586e75c4a745afc0e",
       "version_major": 2,
       "version_minor": 0
      },
      "text/plain": [
       "FloatProgress(value=0.0, layout=Layout(width='auto'), style=ProgressStyle(bar_color='black'))"
      ]
     },
     "metadata": {},
     "output_type": "display_data"
    },
    {
     "name": "stdout",
     "output_type": "stream",
     "text": [
      "✅ gene_part_116 created.\n",
      "[Batch 117/118] Creating gene_part_117 for genes 23201–23400\n"
     ]
    },
    {
     "data": {
      "application/vnd.jupyter.widget-view+json": {
       "model_id": "fcfd7dbfa0cb47748fd51ba0e9c4b13f",
       "version_major": 2,
       "version_minor": 0
      },
      "text/plain": [
       "FloatProgress(value=0.0, layout=Layout(width='auto'), style=ProgressStyle(bar_color='black'))"
      ]
     },
     "metadata": {},
     "output_type": "display_data"
    },
    {
     "name": "stdout",
     "output_type": "stream",
     "text": [
      "✅ gene_part_117 created.\n",
      "[Batch 118/118] Creating gene_part_118 for genes 23401–23547\n"
     ]
    },
    {
     "data": {
      "application/vnd.jupyter.widget-view+json": {
       "model_id": "7d65db4188824f9d8417659ac56f9830",
       "version_major": 2,
       "version_minor": 0
      },
      "text/plain": [
       "FloatProgress(value=0.0, layout=Layout(width='auto'), style=ProgressStyle(bar_color='black'))"
      ]
     },
     "metadata": {},
     "output_type": "display_data"
    },
    {
     "name": "stdout",
     "output_type": "stream",
     "text": [
      "✅ gene_part_118 created.\n",
      "\n",
      "✅ All part tables ready. Starting incremental join phase...\n",
      "\n",
      "[1/118] Joining samples_list + gene_part_1 → join_step_1\n"
     ]
    },
    {
     "ename": "CatalogException",
     "evalue": "Catalog Error: Pragma Function with name checkpoint does not exist, but a table function with the same name exists, try `CALL checkpoint(...)`",
     "output_type": "error",
     "traceback": [
      "\u001b[31m---------------------------------------------------------------------------\u001b[39m",
      "\u001b[31mCatalogException\u001b[39m                          Traceback (most recent call last)",
      "\u001b[36mCell\u001b[39m\u001b[36m \u001b[39m\u001b[32mIn[12]\u001b[39m\u001b[32m, line 120\u001b[39m\n\u001b[32m    117\u001b[39m     con.execute(\u001b[33mf\u001b[39m\u001b[33m\"\u001b[39m\u001b[33mDROP TABLE IF EXISTS \u001b[39m\u001b[38;5;132;01m{\u001b[39;00mcur_table\u001b[38;5;132;01m}\u001b[39;00m\u001b[33m;\u001b[39m\u001b[33m\"\u001b[39m)\n\u001b[32m    119\u001b[39m \u001b[38;5;66;03m# force checkpoint to flush temp space\u001b[39;00m\n\u001b[32m--> \u001b[39m\u001b[32m120\u001b[39m \u001b[43mcon\u001b[49m\u001b[43m.\u001b[49m\u001b[43mexecute\u001b[49m\u001b[43m(\u001b[49m\u001b[33;43m\"\u001b[39;49m\u001b[33;43mPRAGMA checkpoint;\u001b[39;49m\u001b[33;43m\"\u001b[39;49m\u001b[43m)\u001b[49m\n\u001b[32m    122\u001b[39m cur_table = next_table\n\u001b[32m    123\u001b[39m \u001b[38;5;28mprint\u001b[39m(\u001b[33mf\u001b[39m\u001b[33m\"\u001b[39m\u001b[33m✅ Joined \u001b[39m\u001b[38;5;132;01m{\u001b[39;00mpart\u001b[38;5;132;01m}\u001b[39;00m\u001b[33m (step \u001b[39m\u001b[38;5;132;01m{\u001b[39;00midx+\u001b[32m1\u001b[39m\u001b[38;5;132;01m}\u001b[39;00m\u001b[33m/\u001b[39m\u001b[38;5;132;01m{\u001b[39;00mtotal_parts\u001b[38;5;132;01m}\u001b[39;00m\u001b[33m)\u001b[39m\u001b[33m\"\u001b[39m)\n",
      "\u001b[31mCatalogException\u001b[39m: Catalog Error: Pragma Function with name checkpoint does not exist, but a table function with the same name exists, try `CALL checkpoint(...)`"
     ]
    }
   ],
   "source": [
    "#!/usr/bin/env python3\n",
    "\"\"\"\n",
    "collapse_exons_to_genes_final_lowmem.py\n",
    "--------------------------------------\n",
    "Resumes from gene_expr_long_accum inside your DuckDB file and\n",
    "creates the final wide gene × sample CSV using small memory-safe batches.\n",
    "\"\"\"\n",
    "\n",
    "import duckdb, os, math, time\n",
    "\n",
    "# ---------- PATH CONFIG ----------\n",
    "DB_PATH  = \"/Users/arujatiwary/Desktop/DL+IS-2/tcga_gene_collapse.duckdb\"\n",
    "TEMP_DIR = \"/Users/arujatiwary/duckdb_temp\"\n",
    "OUT_CSV  = \"/Users/arujatiwary/Desktop/DL+IS-2/tcga_gene_expression.csv\"\n",
    "# ---------------------------------\n",
    "\n",
    "os.makedirs(TEMP_DIR, exist_ok=True)\n",
    "os.environ[\"DUCKDB_TEMP_DIRECTORY\"] = TEMP_DIR\n",
    "\n",
    "def table_exists(con, name):\n",
    "    try:\n",
    "        rows = con.execute(f\"PRAGMA table_info('{name}')\").fetchall()\n",
    "        return len(rows) > 0\n",
    "    except Exception:\n",
    "        return False\n",
    "\n",
    "print(\"🚀 Reconnecting to existing DuckDB database...\")\n",
    "con = duckdb.connect(DB_PATH)\n",
    "con.execute(\"PRAGMA max_temp_directory_size='18GB';\")\n",
    "con.execute(\"SET memory_limit='2GB';\")          # safe for 8 GB RAM\n",
    "con.execute(\"SET threads=1;\")\n",
    "con.execute(\"SET preserve_insertion_order=false;\")\n",
    "print(f\"✅ Connected. Temp dir: {TEMP_DIR}\")\n",
    "\n",
    "# Optional: free space by dropping old large tables\n",
    "if table_exists(con, \"exons_long\"):\n",
    "    try:\n",
    "        con.execute(\"DROP TABLE IF EXISTS exons_long;\")\n",
    "        print(\"Dropped exons_long to reclaim space.\")\n",
    "    except Exception as e:\n",
    "        print(\"Warning dropping exons_long:\", e)\n",
    "\n",
    "# ---- Parameters ----\n",
    "PIVOT_BATCH = 200       # genes per batch; smaller = safer\n",
    "print(f\"Pivoting with PIVOT_BATCH={PIVOT_BATCH}\")\n",
    "t0 = time.time()\n",
    "\n",
    "# ---- Gather gene list ----\n",
    "genes_all = [r[0] for r in con.execute(\"SELECT DISTINCT gene_symbol FROM gene_expr_long_accum ORDER BY gene_symbol\").fetchall()]\n",
    "total_genes = len(genes_all)\n",
    "batches = math.ceil(total_genes / PIVOT_BATCH)\n",
    "print(f\"Total genes: {total_genes}  →  {batches} batches\")\n",
    "\n",
    "# ---- Ensure sample list ----\n",
    "if not table_exists(con, \"samples_list\"):\n",
    "    con.execute(\"CREATE OR REPLACE TABLE samples_list AS SELECT DISTINCT sample_id FROM gene_expr_long_accum;\")\n",
    "    print(\"Created samples_list.\")\n",
    "\n",
    "# ---- Pivot batches ----\n",
    "part_tables = []\n",
    "for i in range(0, total_genes, PIVOT_BATCH):\n",
    "    batch_genes = genes_all[i:i+PIVOT_BATCH]\n",
    "    batch_no = (i // PIVOT_BATCH) + 1\n",
    "    part_name = f\"gene_part_{batch_no}\"\n",
    "    part_tables.append(part_name)\n",
    "\n",
    "    if table_exists(con, part_name):\n",
    "        print(f\"{part_name} exists — skipping.\")\n",
    "        continue\n",
    "\n",
    "    print(f\"[Batch {batch_no}/{batches}] Creating {part_name} for genes {i+1}–{i+len(batch_genes)}\")\n",
    "    quoted_genes = \",\".join(\"'\" + g.replace(\"'\", \"''\") + \"'\" for g in batch_genes)\n",
    "\n",
    "    # build CASE expressions\n",
    "    cases = []\n",
    "    for g in batch_genes:\n",
    "        g_esc = g.replace(\"'\", \"''\")\n",
    "        alias = g.replace('\"', '\"\"').replace(\" \", \"_\").replace(\"-\", \"_\").replace(\"/\", \"_\")\n",
    "        cases.append(f\"MAX(CASE WHEN gene_symbol = '{g_esc}' THEN expr_mean END) AS \\\"{alias}\\\"\")\n",
    "    cases_sql = \",\\n       \".join(cases)\n",
    "\n",
    "    pivot_sql = f\"\"\"\n",
    "    CREATE TABLE {part_name} AS\n",
    "    SELECT sample_id,\n",
    "           {cases_sql}\n",
    "    FROM gene_expr_long_accum\n",
    "    WHERE gene_symbol IN ({quoted_genes})\n",
    "    GROUP BY sample_id;\n",
    "    \"\"\"\n",
    "    con.execute(pivot_sql)\n",
    "    print(f\"✅ {part_name} created.\")\n",
    "\n",
    "print(\"\\n✅ All part tables ready. Starting incremental join phase...\\n\")\n",
    "\n",
    "# ---- Join part tables incrementally ----\n",
    "final_table = \"gene_matrix_flat\"\n",
    "if table_exists(con, final_table):\n",
    "    print(f\"{final_table} already exists — skipping join step.\")\n",
    "else:\n",
    "    cur_table = \"samples_list\"\n",
    "    total_parts = len(part_tables)\n",
    "\n",
    "    for idx, part in enumerate(part_tables):\n",
    "        next_table = f\"join_step_{idx+1}\"\n",
    "        print(f\"[{idx+1}/{total_parts}] Joining {cur_table} + {part} → {next_table}\")\n",
    "\n",
    "        con.execute(f\"\"\"\n",
    "        CREATE TABLE {next_table} AS\n",
    "        SELECT s.*, p.*\n",
    "        FROM {cur_table} s\n",
    "        LEFT JOIN {part} p\n",
    "        ON s.sample_id = p.sample_id;\n",
    "        \"\"\")\n",
    "\n",
    "        # drop previous join table to free memory\n",
    "        if cur_table != \"samples_list\":\n",
    "            con.execute(f\"DROP TABLE IF EXISTS {cur_table};\")\n",
    "\n",
    "        # force checkpoint to flush temp space\n",
    "        con.execute(\"PRAGMA checkpoint;\")\n",
    "\n",
    "        cur_table = next_table\n",
    "        print(f\"✅ Joined {part} (step {idx+1}/{total_parts})\")\n",
    "\n",
    "    con.execute(f\"CREATE TABLE {final_table} AS SELECT * FROM {cur_table};\")\n",
    "    con.execute(f\"DROP TABLE IF EXISTS {cur_table};\")\n",
    "    print(\"✅ Final wide table gene_matrix_flat created.\")\n",
    "\n",
    "# ---- Export to CSV ----\n",
    "if not os.path.exists(OUT_CSV):\n",
    "    print(\"\\n💾 Writing final CSV (this may take a few minutes)...\")\n",
    "    con.execute(f\"COPY (SELECT * FROM gene_matrix_flat) TO '{OUT_CSV}' (HEADER, DELIMITER ',');\")\n",
    "    print(f\"✅ Final CSV written: {OUT_CSV}\")\n",
    "else:\n",
    "    print(\"Final CSV already exists; skipping write.\")\n",
    "\n",
    "# ---- Done ----\n",
    "rows = con.execute(\"SELECT COUNT(DISTINCT sample_id) FROM gene_matrix_flat\").fetchone()[0]\n",
    "cols = len(con.execute(\"PRAGMA table_info('gene_matrix_flat')\").fetchall())\n",
    "con.close()\n",
    "print(f\"\\n🎉 Done! Samples (rows): {rows}   Genes (columns): {cols-1}\")\n",
    "print(f\"Elapsed: {(time.time()-t0)/60:.1f} min\")"
   ]
  },
  {
   "cell_type": "code",
   "execution_count": 17,
   "id": "d94e4cbf",
   "metadata": {},
   "outputs": [
    {
     "name": "stdout",
     "output_type": "stream",
     "text": [
      "Found 118 gene_part CSV files.\n",
      "Loaded base: (10459, 0)\n",
      "[1/118] Merging gene_part_1.csv ...\n",
      "[2/118] Merging gene_part_10.csv ...\n",
      "[3/118] Merging gene_part_100.csv ...\n",
      "[4/118] Merging gene_part_101.csv ...\n",
      "[5/118] Merging gene_part_102.csv ...\n",
      "[6/118] Merging gene_part_103.csv ...\n",
      "[7/118] Merging gene_part_104.csv ...\n",
      "[8/118] Merging gene_part_105.csv ...\n",
      "[9/118] Merging gene_part_106.csv ...\n",
      "[10/118] Merging gene_part_107.csv ...\n",
      "💾 Checkpoint saved ((10459, 3200))\n",
      "[11/118] Merging gene_part_108.csv ...\n",
      "[12/118] Merging gene_part_109.csv ...\n",
      "[13/118] Merging gene_part_11.csv ...\n",
      "[14/118] Merging gene_part_110.csv ...\n",
      "[15/118] Merging gene_part_111.csv ...\n",
      "[16/118] Merging gene_part_112.csv ...\n",
      "[17/118] Merging gene_part_113.csv ...\n",
      "[18/118] Merging gene_part_114.csv ...\n",
      "[19/118] Merging gene_part_115.csv ...\n",
      "[20/118] Merging gene_part_116.csv ...\n",
      "💾 Checkpoint saved ((10459, 5800))\n",
      "[21/118] Merging gene_part_117.csv ...\n",
      "[22/118] Merging gene_part_118.csv ...\n",
      "[23/118] Merging gene_part_12.csv ...\n",
      "[24/118] Merging gene_part_13.csv ...\n",
      "[25/118] Merging gene_part_14.csv ...\n",
      "[26/118] Merging gene_part_15.csv ...\n",
      "[27/118] Merging gene_part_16.csv ...\n",
      "[28/118] Merging gene_part_17.csv ...\n",
      "[29/118] Merging gene_part_18.csv ...\n",
      "[30/118] Merging gene_part_19.csv ...\n",
      "💾 Checkpoint saved ((10459, 12547))\n",
      "[31/118] Merging gene_part_2.csv ...\n",
      "[32/118] Merging gene_part_20.csv ...\n",
      "[33/118] Merging gene_part_21.csv ...\n",
      "[34/118] Merging gene_part_22.csv ...\n",
      "[35/118] Merging gene_part_23.csv ...\n",
      "[36/118] Merging gene_part_24.csv ...\n",
      "[37/118] Merging gene_part_25.csv ...\n",
      "[38/118] Merging gene_part_26.csv ...\n",
      "[39/118] Merging gene_part_27.csv ...\n",
      "[40/118] Merging gene_part_28.csv ...\n"
     ]
    },
    {
     "ename": "ValueError",
     "evalue": "Duplicate column names found: ['7SK', 'A1BG', 'A1BG_CTD_2619J13_8', 'A1BG_AS1', 'A1CF', 'A2M', 'A2M_AS1', 'A2ML1', 'A4GALT', 'A4GNT', 'AAAS', 'AACS', 'AACSP1', 'AADAC', 'AADACL2', 'AADACL3', 'AADACL4', 'AADAT', 'AAED1', 'AAGAB', 'AAK1', 'AAK1_RP11_427H3_3_Y_RNA', 'AAMDC', 'AAMP', 'AANAT', 'AAR2', 'AARD', 'AARS', 'AARS2', 'AARSD1', 'AASDH', 'AASDHPPT', 'AASS', 'AATF', 'AATK', 'AATK_AS1', 'AB019441_29', 'ABAT', 'ABC7_42389800N19_1', 'ABCA1', 'ABCA10', 'ABCA10_ABCA5', 'ABCA12', 'ABCA13', 'ABCA17P', 'ABCA2', 'ABCA3', 'ABCA4', 'ABCA5', 'ABCA6', 'ABCA7', 'ABCA8', 'ABCA9', 'ABCB1', 'ABCB10', 'ABCB11', 'ABCB4', 'ABCB5', 'ABCB6', 'ABCB6_ATG9A', 'ABCB7_AMDP1_TRPC6P_TCEB1P24_DDX11L16_WASIR1', 'ABCB8', 'ABCB9', 'ABCC1', 'ABCC10', 'ABCC11', 'ABCC11_RP11_3M1_1', 'ABCC12', 'ABCC12_Y_RNA', 'ABCC13', 'ABCC2', 'ABCC3', 'ABCC4', 'ABCC5', 'ABCC6', 'ABCC6P1', 'ABCC6P2', 'ABCC8', 'ABCC9', 'ABCD1_IL9R_SPRY3_VAMP7_WASH6P_DPH3P2_AJ271736_10', 'ABCD2', 'ABCD3', 'ABCD4', 'ABCE1', 'ABCF1', 'ABCF2', 'ABCF3', 'ABCG1', 'ABCG2', 'ABCG4', 'ABCG5', 'ABCG8', 'ABHD1', 'ABHD10', 'ABHD11', 'ABHD12', 'ABHD12B', 'ABHD13', 'ABHD14A', 'ABHD14A_ACY1_ABHD14A_ACY1', 'ABHD14B', 'ABHD14B_RP11_155D18_12', 'ABHD14B_RP11_155D18_14_RP11_155D18_12', 'ABHD16A', 'ABHD16B', 'ABHD17A', 'ABHD17AP6', 'ABHD17B', 'ABHD17C', 'ABHD2', 'ABHD3', 'ABHD4', 'ABHD5', 'ABHD6', 'ABHD8', 'ABI1', 'ABI2', 'ABI3', 'ABI3BP', 'ABL1', 'ABL2', 'ABLIM1', 'ABLIM2', 'ABLIM3', 'ABO', 'ABO_RP11_430N14_4', 'ABR', 'ABRA', 'ABRACL', 'ABT1', 'ABTB1', 'ABTB2', 'ABTB2_Y_RNA', 'AC000036_4', 'AC000099_1', 'AC002055_4', 'AC002116_7', 'AC002310_12', 'AC002310_13_ZNF747', 'AC002310_7', 'AC002398_11', 'AC002398_5', 'AC002472_13', 'AC002480_3', 'AC002511_1', 'AC003051_1', 'AC003090_1', 'AC003102_3', 'AC003665_1', 'AC003958_2', 'AC003984_1', 'AC003986_5', 'AC004053_1', 'AC004158_3', 'AC004381_6', 'AC004490_1', 'AC004538_3', 'AC004540_5', 'AC004603_4', 'AC004840_9', 'AC004878_3', 'AC004878_5', 'AC004878_6', 'AC004893_11', 'AC004951_5_POLR2J4', 'AC004951_6', 'AC004967_7', 'AC004980_7', 'AC004985_12_POLR2J4', 'AC004985_12_POLR2J4_RP5_1165K10_2', 'AC005013_5', 'AC005042_4', 'AC005076_5', 'AC005082_12', 'AC005152_2', 'AC005154_6', 'AC005154_6_AC005154_7', 'AC005176_2', 'AC005235_1', 'AC005280_1_C14orf169', 'AC005301_8', 'AC005307_3', 'AC005329_7', 'AC005355_2', 'AC005488_11', 'AC005523_2', 'AC005550_3', 'AC005562_1', 'AC005562_1_SMURF2P1', 'AC005609_1', 'AC005754_7', 'AC005943_5', 'AC006014_10', 'AC006014_8', 'AC006019_3', 'AC006024_4', 'AC006026_10', 'AC006115_3', 'AC006132_1', 'AC006156_1', 'AC006156_2', 'AC006262_5', 'AC006262_6', 'AC006445_8', 'AC006455_1', 'AC006538_4_DIRAS1', 'AC006552_1', 'AC006946_15', 'AC006995_8', 'AC007038_7', 'AC007092_1', 'AC007163_3', 'AC007228_11', 'AC007246_3', 'AC007255_8', 'AC007276_5', 'AC007277_3', 'AC007365_1', 'AC007390_5', 'AC007405_2', 'AC007405_4', 'AC007464_1', 'AC007557_1', 'AC007557_2', 'AC007740_1', 'AC007743_1', 'AC007879_2', 'AC007879_2_AC007879_3', 'AC007880_1', 'AC007952_6', 'AC007966_1', 'AC008060_7', 'AC008079_9', 'AC008132_1', 'AC008132_13', 'AC008132_13_snoU13', 'AC008268_1', 'AC008268_2', 'AC008271_1', 'AC008394_1', 'AC008555_2_CTC_523E23_5', 'AC008697_1', 'AC008703_1', 'AC009120_4', 'AC009133_12', 'AC009133_17', 'AC009133_20_AC009133_12', 'AC009133_20_AC009133_14', 'AC009227_2', 'AC009232_2', 'AC009236_1', 'AC009237_8', 'AC009299_3', 'AC009365_3', 'AC009403_2', 'AC009501_4', 'AC009948_5', 'AC009961_3', 'AC010091_1', 'AC010127_3', 'AC010127_5', 'AC010148_1', 'AC010547_9', 'AC010724_1_RP13_996F3_3', 'AC010731_4', 'AC010733_4', 'AC010890_1', 'AC010980_2', 'AC011242_6', 'AC011294_3', 'AC011306_1', 'AC011330_5', 'AC011484_1', 'AC011516_2', 'AC011525_4', 'AC011526_1', 'AC011718_2', 'AC011738_4', 'AC011893_3', 'AC011899_9', 'AC011997_1', 'AC012005_2_GOLGA2P2Y', 'AC012307_3', 'AC012309_5', 'AC012317_1', 'AC012379_1_EID1', 'AC012487_2', 'AC012507_3', 'AC013268_5', 'AC013269_5', 'AC013271_3', 'AC013402_2', 'AC013460_1', 'AC013472_3', 'AC015818_3', 'AC015971_2', 'AC016582_2', 'AC016629_8', 'AC016683_6', 'AC016683_6_RP11_65I12_1', 'AC016700_5', 'AC016722_1', 'AC016722_1_AC016722_2', 'AC016722_2', 'AC016725_4', 'AC016757_3', 'AC016773_1_TACC3', 'AC016909_1', 'AC017002_1', 'AC017048_3', 'AC017099_3', 'AC018462_2', 'AC018720_10', 'AC018730_1', 'AC018730_3', 'AC018730_4_AC018730_3', 'AC018737_1', 'AC018742_1', 'AC018755_1', 'AC018755_2_LINC00085', 'AC018799_1', 'AC018865_8', 'AC018865_8_CYP4F27P', 'AC018890_6', 'AC019118_2', 'AC020571_3', 'AC021016_6', 'AC022007_5', 'AC022311_1', 'AC022498_1', 'AC023085_1', 'AC023115_2', 'AC023490_1', 'AC024560_3', 'AC024592_12_FUT5', 'AC024592_9', 'AC024940_1', 'AC025165_8', 'AC025171_1', 'AC025335_1', 'AC026150_5', 'AC027601_1', 'AC027612_6', 'AC027763_2', 'AC027763_2_RP11_589P10_7', 'AC034110_1', 'AC034193_5', 'AC034220_3', 'AC062028_1', 'AC062029_1', 'AC064875_2', 'AC066593_1', 'AC068057_2', 'AC068610_3', 'AC068831_10', 'AC068831_10_AC068831_11', 'AC068858_1', 'AC069277_2', 'AC073072_5', 'AC073128_10', 'AC073130_1', 'AC073133_1', 'AC073283_4', 'AC073343_1_AC073343_13', 'AC073343_13', 'AC073464_11', 'AC073479_1', 'AC073869_19', 'AC073869_20', 'AC074091_13', 'AC074286_1', 'AC074286_1_NFE2L2', 'AC074338_4', 'AC074389_6', 'AC074391_1', 'AC074391_1_RP11_340F16_1', 'AC078842_4', 'AC078941_1', 'AC078941_1_SNORA40', 'AC079354_1', 'AC079586_1', 'AC079612_1', 'AC079776_2', 'AC079776_7', 'AC079922_3', 'AC083884_8', 'AC083899_3', 'AC084018_1', 'AC084125_4', 'AC090044_1', 'AC090286_4', 'AC091178_1_CTD_2206N4_4', 'AC091729_9', 'AC091801_1', 'AC091878_1', 'AC091969_1', 'AC092155_4', 'AC092198_1', 'AC092295_7', 'AC092299_8_LINC01002', 'AC092364_2_RP11_420K14_6', 'AC092535_3', 'AC092619_1', 'AC092653_5', 'AC092839_1', 'AC093375_1', 'AC093415_2', 'AC093590_1', 'AC093616_4', 'AC093627_10', 'AC093642_3', 'AC093642_5', 'AC093642_5_AC134873_1', 'AC093677_1', 'AC093690_1', 'AC093838_4', 'AC096553_5', 'AC096559_1', 'AC096655_2', 'AC096670_3', 'AC096772_6_PLEKHM3', 'AC097374_2', 'AC097662_2', 'AC097713_4', 'AC098823_3', 'AC098973_1', 'AC099522_1', 'AC099684_1', 'AC099850_1', 'AC103965_1', 'AC104057_1', 'AC104135_3', 'AC104389_28', 'AC104654_1', 'AC104695_3', 'AC104782_3', 'AC104809_2', 'AC104809_4', 'AC104820_2', 'AC105053_4', 'AC105339_1', 'AC105344_2', 'AC105760_2', 'AC107070_1', 'AC108142_1', 'AC108488_3', 'AC108676_1', 'AC109642_1', 'AC109828_1', 'AC110619_2', 'AC110769_3_AC010982_1', 'AC110781_3', 'AC111200_1', 'AC112229_4_RP13_1039J1_4', 'AC112229_7', 'AC113607_1', 'AC114546_1', 'AC114730_3', 'AC118138_2', 'AC125232_1', 'AC125232_1_RP11_1252D15_1', 'AC126339_1_RP11_152F13_7', 'AC127496_1', 'AC129492_6', 'AC129778_2', 'AC129778_5', 'AC129929_5', 'AC131180_4', 'AC133785_1', 'AC135178_1', 'AC135995_1_RP11_152F13_3', 'AC136604_1', 'AC137056_1', 'AC137932_1', 'AC137932_6', 'AC137934_1', 'AC138035_2', 'AC138655_6', 'AC138783_11', 'AC138783_12', 'AC138969_4', 'AC138969_4_PKD1P1', 'AC139100_2', 'AC140481_1', 'AC140481_2', 'AC140481_7', 'AC140481_7_CYP4F30P', 'AC140542_2', 'AC141586_5', 'AC145110_1', 'AC159540_1', 'AC226118_1', 'AC226119_5_FAM86EP', 'ACAA1', 'ACAA1_SNORA31', 'ACAA2', 'ACAA2_RP11_886H22_1', 'ACACA', 'ACACB', 'ACAD10', 'ACAD10_RP11_162P23_2', 'ACAD11', 'ACAD8', 'ACAD9', 'ACADL', 'ACADM', 'ACADS', 'ACADSB', 'ACADVL', 'ACAN', 'ACAP1', 'ACAP2', 'ACAP3', 'ACAT1', 'ACAT2', 'ACBD3', 'ACBD4', 'ACBD5', 'ACBD6', 'ACBD7', 'ACBD7_DCLRE1CP1', 'ACCS', 'ACCSL', 'ACD', 'ACE', 'ACE2', 'ACE3P_ACE', 'ACER1', 'ACER2', 'ACER3', 'ACHE', 'ACIN1', 'ACIN1_Y_RNA', 'ACKR2', 'ACKR2_KRBOX1_RP11_141M3_5', 'ACKR3', 'ACKR4', 'ACLY', 'ACMSD', 'ACN9', 'ACO1', 'ACO2', 'ACOT1', 'ACOT11', 'ACOT12', 'ACOT13', 'ACOT2', 'ACOT4', 'ACOT6', 'ACOT7', 'ACOT8', 'ACOT9', 'ACOX1', 'ACOX2', 'ACOX3', 'ACOXL', 'ACP1', 'ACP2', 'ACP5', 'ACP6', 'ACPL2', 'ACPP', 'ACPT', 'ACR', 'ACRBP', 'ACRV1', 'ACSBG1', 'ACSBG2', 'ACSF2', 'ACSF3', 'ACSL1', 'ACSL3', 'ACSL4_AMDP1_TRPC6P_TCEB1P24_DDX11L16_WASIR1', 'ACSL5', 'ACSL6', 'ACSL6_AC034228_7', 'ACSM1', 'ACSM2A', 'ACSM2B', 'ACSM3', 'ACSM4', 'ACSM5', 'ACSS1', 'ACSS2', 'ACSS3', 'ACTA1', 'ACTA2', 'ACTA2_AS1', 'ACTB', 'ACTB_AC006483_1', 'ACTC1', 'ACTG1_AC139149_1', 'ACTG2', 'ACTL6A', 'ACTL6B', 'ACTL7A', 'ACTL8', 'ACTL9', 'ACTN1', 'ACTN1_HMGN1P3', 'ACTN2', 'ACTN3', 'ACTN4', 'ACTR10', 'ACTR1A', 'ACTR1B', 'ACTR1B_Y_RNA', 'ACTR2', 'ACTR3', 'ACTR3B', 'ACTR3C', 'ACTR5', 'ACTR6', 'ACTR8', 'ACTRT3', 'ACVR1', 'ACVR1B', 'ACVR1C', 'ACVR2A', 'ACVR2B', 'ACVR2B_AS1', 'ACVRL1', 'ACY1_ABHD14A_ACY1', 'ACY3', 'ACYP1', 'ACYP2', 'AD000090_2', 'ADA', 'ADAD1', 'ADAD2', 'ADAL', 'ADAM10', 'ADAM11', 'ADAM12', 'ADAM15', 'ADAM17', 'ADAM18', 'ADAM19', 'ADAM2', 'ADAM20', 'ADAM22', 'ADAM23', 'ADAM28', 'ADAM28_snoU13', 'ADAM29', 'ADAM32', 'ADAM33', 'ADAM3A', 'ADAM5', 'ADAM6', 'ADAM7', 'ADAM8', 'ADAM9', 'ADAMDEC1', 'ADAMTS1', 'ADAMTS10', 'ADAMTS12', 'ADAMTS13', 'ADAMTS14', 'ADAMTS15', 'ADAMTS16', 'ADAMTS17', 'ADAMTS18', 'ADAMTS19', 'ADAMTS2', 'ADAMTS20', 'ADAMTS3', 'ADAMTS4', 'ADAMTS5', 'ADAMTS6', 'ADAMTS7', 'ADAMTS8', 'ADAMTS9', 'ADAMTS9_AS1', 'ADAMTS9_AS2', 'ADAMTSL1', 'ADAMTSL2', 'ADAMTSL3', 'ADAMTSL4', 'ADAMTSL4_AL356356_1', 'ADAMTSL5', 'ADAP1', 'ADAP1_COX19', 'ADAP2', 'ADAR', 'ADARB1', 'ADARB2', 'ADARB2_AS1', 'ADAT1', 'ADAT1_RP11_77K12_8', 'ADAT2', 'ADAT3_SCAMP4', 'ADC', 'ADCK1', 'ADCK2', 'ADCK2_NDUFB2', 'ADCK3', 'ADCK4', 'ADCK5', 'ADCY1', 'ADCY10', 'ADCY10P1', 'ADCY2', 'ADCY3', 'ADCY4', 'ADCY5', 'ADCY6', 'ADCY7', 'ADCY8', 'ADCY9', 'ADCYAP1', 'ADCYAP1R1', 'ADD1', 'ADD1_SNORA3', 'ADD2', 'ADD3', 'ADGB', 'ADH1A', 'ADH1B', 'ADH1C', 'ADH4', 'ADH5', 'ADH6', 'ADH7', 'ADHFE1', 'ADHFE1_C8orf46', 'ADI1', 'ADIG', 'ADIPOQ', 'ADIPOR1', 'ADIPOR2', 'ADIRF', 'ADIRF_RP11_96C23_5', 'ADIRF_AS1_RP11_96C23_15', 'ADK', 'ADM', 'ADNP', 'ADNP2', 'ADORA1', 'ADORA2A', 'ADORA2A_AS1', 'ADORA2B', 'ADORA3', 'ADPGK', 'ADPGK_AS1', 'ADPRH', 'ADPRHL1', 'ADPRHL2', 'ADPRM', 'ADRA1A', 'ADRA1B', 'ADRA1D', 'ADRB3', 'ADRBK1', 'ADRBK2', 'ADRM1', 'ADSL', 'ADSS', 'ADSSL1', 'ADTRP', 'AE000661_37', 'AEBP1', 'AEBP1_MIR4649', 'AEBP2', 'AEN', 'AES', 'AF011889_2_AMDP1_TRPC6P_TCEB1P24_DDX11L16_WASIR1', 'AF064860_5', 'AF131215_3', 'AF131216_5', 'AF131216_6', 'AF146191_4', 'AFAP1', 'AFAP1_AS1', 'AFAP1L1', 'AFAP1L2', 'AFF1', 'AFF3', 'AFF4', 'AFG3L1P', 'AFG3L2', 'AFM', 'AFMID', 'AFP', 'AFTPH', 'AGA', 'AGAP1', 'AGAP10', 'AGAP10_RP11_144G6_12', 'AGAP10_RP11_144G6_12_BMS1P2', 'AGAP11_RP11_96C23_5_RP11_96C23_11', 'AGAP11_RP11_96C23_5_RP11_96C23_11_RP11_96C23_14', 'AGAP2', 'AGAP2_AS1', 'AGAP3', 'AGAP4', 'AGAP6', 'AGAP7', 'AGAP8', 'AGAP9', 'FIGN', 'FIGNL1', 'FILIP1', 'FILIP1L', 'FIP1L1', 'FIS1', 'FITM1', 'FITM1_RP11_468E2_6', 'FITM2', 'FIZ1', 'FKBP10', 'FKBP11', 'FKBP14', 'FKBP15', 'FKBP1A', 'FKBP1B', 'FKBP1B_MFSD2B', 'FKBP2', 'FKBP3', 'FKBP4', 'FKBP5', 'FKBP6', 'FKBP7', 'FKBP8', 'FKBP9', 'FKBP9L', 'FKBPL', 'FKRP', 'FKTN', 'FLAD1', 'FLCN', 'FLCN_RP11_45M22_4', 'FLG', 'FLG_AS1', 'FLG2', 'FLI1', 'FLI1_AS1', 'FLII', 'FLJ00104_KLHDC4', 'FLJ14816', 'FLJ27365', 'FLJ27365_RP6_109B7_3', 'FLJ30594_AC073479_1', 'FLNA_AMDP1_TRPC6P_TCEB1P24_DDX11L16_WASIR1', 'FLNB', 'FLNB_snoU13', 'FLNB_AS1', 'FLNC', 'FLOT1', 'FLOT2', 'FLRT1', 'FLRT2', 'FLRT3', 'FLT1', 'FLT3', 'FLT3LG_CTD_3148I10_15', 'FLT3LG_CTD_3148I10_15_CTD_3148I10_9', 'FLT4', 'FLVCR1', 'FLVCR1_AS1', 'FLVCR2', 'FLVCR2_TTLL5', 'FLYWCH1', 'FLYWCH2', 'FMN1', 'FMN2', 'FMNL1', 'FMNL2', 'FMNL3', 'FMO1', 'FMO2', 'FMO3', 'FMO4', 'FMO5', 'FMO6P', 'FMO9P', 'FMOD', 'FMR1_IL9R_SPRY3_VAMP7_WASH6P_DPH3P2_AJ271736_10', 'FN1', 'FN3K', 'FN3KRP', 'FNBP1', 'FNBP1L', 'FNBP4', 'FNDC1', 'FNDC3A', 'FNDC3B', 'FNDC4', 'FNDC5', 'FNDC7', 'FNDC8', 'FNDC9', 'FNIP1', 'FNIP1_CTC_432M15_3', 'FNIP2', 'FNTA', 'FNTA_RP11_598P20_5', 'FNTB', 'FNTB_CHURC1_CHURC1_FNTB', 'FNTB_CHURC1_FNTB', 'FOCAD', 'FOLH1', 'FOLH1_Y_RNA', 'FOLH1B', 'FOLR1', 'FOLR2', 'FOLR3', 'FOLR4', 'FOPNL', 'FOS', 'FOSB', 'FOSL1', 'FOSL2', 'FOXA1', 'FOXA2', 'FOXA3', 'FOXB1', 'FOXB2', 'FOXD3', 'FOXD4L3', 'FOXD4L4', 'FOXD4L6', 'FOXF1', 'FOXF2', 'FOXH1', 'FOXI1', 'FOXI2', 'FOXI3', 'FOXJ1', 'FOXJ2', 'FOXJ3', 'FOXK1', 'FOXK2', 'FOXM1', 'FOXN1', 'FOXN2', 'FOXN3', 'FOXN3_RP11_33N16_3', 'FOXN3_AS1', 'FOXN4', 'FOXO1', 'FOXO3', 'FOXO3B_ZNF286B_RP11_815I9_4', 'FOXP1', 'FOXP1_AS1', 'FOXP1_IT1', 'FOXP2', 'FOXP2_AC020606_1', 'FOXP3', 'FOXP4', 'FOXR1', 'FOXRED1', 'FOXRED2', 'FOXS1', 'FPGS', 'FPGT_TNNI3K_TNNI3K', 'FPGT_TNNI3K_TNNI3K_FPGT', 'FPR1', 'FPR2', 'FPR3', 'FRA10AC1', 'FRAS1', 'FRAT1', 'FRAT2', 'FREM1', 'FREM2', 'FRG1', 'FRG1B', 'FRG2', 'FRG2B', 'FRG2C', 'FRK', 'FRMD1', 'FRMD3', 'FRMD4A', 'FRMD4A_Y_RNA', 'FRMD4B', 'FRMD5', 'FRMD6', 'FRMD7_AMDP1_TRPC6P_TCEB1P24_DDX11L16_WASIR1', 'FRMD8', 'FRMPD1', 'FRMPD2', 'FRMPD2P1', 'FRMPD2P2', 'FRMPD4', 'FRRS1', 'FRRS1L', 'FRS2', 'FRS3', 'FRY', 'FRY_AS1', 'FRYL', 'FRZB', 'FSBP_RAD54B', 'FSCN1', 'FSCN2', 'FSCN3', 'FSCN3_ARF5', 'FSD1', 'FSD1L', 'FSD2', 'FSHB', 'FSHR', 'FSIP1', 'FSIP1_RP11_37C7_1', 'FSIP2', 'FST', 'FSTL1', 'FSTL3', 'FSTL4', 'FSTL5', 'FTCD', 'FTCDNL1', 'FTH1', 'FTH1P3', 'FTHL17', 'FTL', 'FTLP10', 'FTO', 'FTSJ1', 'FTSJ2', 'FTSJ3', 'FUBP1', 'FUBP3', 'FUCA1', 'FUCA2', 'FUK', 'FUNDC1', 'FUNDC2P2', 'FUOM', 'FURIN', 'FUS', 'FUT1', 'FUT10', 'FUT11', 'FUT2', 'FUT3', 'FUT6', 'FUT7', 'FUT8', 'FUT9', 'FUZ', 'FXN', 'FXR1', 'FXR2', 'FXYD1', 'FXYD2', 'FXYD3', 'FXYD4', 'FXYD5', 'FXYD6', 'FXYD6_FXYD6_FXYD2', 'FXYD7', 'FXYD7_CTD_2527I21_4', 'FYB', 'FYCO1', 'FYN', 'FYTTD1', 'FZD10_AS1', 'FZD3', 'FZD5', 'FZD6', 'FZD7', 'FZD8_MIR4683', 'FZR1', 'G0S2', 'G2E3', 'G3BP1', 'G3BP2', 'G6PC', 'G6PC2', 'G6PC3', 'G6PD_AMDP1_TRPC6P_TCEB1P24_DDX11L16_WASIR1', 'GAA', 'GAB1', 'GAB2', 'GAB3_AMDP1_TRPC6P_TCEB1P24_DDX11L16_WASIR1', 'GAB4', 'GABARAP', 'GABARAP_CTD_2545G14_7', 'GABARAPL1', 'GABARAPL2', 'GABARAPL3', 'GABBR1', 'GABBR2', 'GABPA', 'GABPB1', 'GABPB2', 'GABRA1', 'GABRA2', 'GABRA3_AMDP1_TRPC6P_TCEB1P24_DDX11L16_WASIR1', 'GABRA4', 'GABRA5', 'GABRA6', 'GABRB1', 'GABRB1_snoU13', 'GABRB2', 'GABRB3', 'GABRD', 'GABRE_AMDP1_TRPC6P_TCEB1P24_DDX11L16_WASIR1', 'GABRG1', 'GABRG2', 'GABRG3', 'GABRP', 'GABRR1', 'GABRR2', 'GABRR3', 'GAD1', 'GAD2', 'GADD45A', 'GADD45B', 'GADD45G', 'GADD45GIP1', 'GADL1', 'GAGE1', 'GAGE10', 'GAGE12C', 'GAGE12D', 'GAGE12E', 'GAGE12F', 'GAGE12G', 'GAGE12H', 'GAGE12I', 'GAGE12J', 'GAGE13', 'GAGE2A', 'GAGE2B', 'GAGE2C', 'GAGE2D', 'GAGE2E', 'GAK', 'GAL', 'GAL3ST1', 'GAL3ST2', 'GAL3ST3', 'GAL3ST4', 'GALC', 'GALE', 'GALK1', 'GALK2', 'GALM', 'GALNS', 'GALNT1', 'GALNT10', 'GALNT11', 'GALNT12', 'GALNT13', 'GALNT14', 'GALNT14_Y_RNA', 'GALNT15', 'GALNT15_snoU13', 'GALNT16', 'GALNT18', 'GALNT2', 'GALNT3', 'GALNT5', 'GALNT6', 'GALNT7', 'GALNT7_snoU13', 'GALNT8', 'GALNT8_KCNA6_snoU13', 'GALNT8_RP11_234B24_6', 'GALNT9', 'GALNTL5', 'GALNTL6', 'GALP', 'GALR1', 'GALR2', 'GALR3', 'GALT', 'GAMT', 'GAN', 'GANAB', 'GANC', 'GANC_CAPN3_RP11_164J13_1', 'GAP43', 'GAPDH', 'GAPDHS', 'GAPT', 'GAPVD1', 'GAR1', 'GAREM', 'GAREML', 'GARNL3', 'GARS', 'GART', 'GAS2', 'GAS2L1', 'GAS2L2', 'GAS2L3', 'GAS5', 'GAS6', 'GAS7', 'GAS8', 'GAST', 'GATA1', 'GATA2', 'GATA3', 'GATA3_AS1', 'GATA3_AS1_RP11_379F12_3', 'GATA4', 'GATA5', 'GATA6', 'GATAD1', 'GATAD1_AC007566_10', 'GATAD2A', 'GATAD2B', 'GATC_AL021546_6', 'GATM', 'GATS', 'GATSL1', 'GATSL2', 'GATSL3', 'GATSL3_RP1_130H16_18', 'GBA', 'GBA2', 'GBA3', 'GBAP1', 'GBAS', 'GBAS_MRPS17', 'GBE1', 'GBF1', 'GBGT1_RALGDS', 'GBP1', 'GBP1P1', 'GBP2', 'GBP2_GBP7', 'GBP3', 'GBP4', 'GBP5', 'GBP6', 'GBP7', 'GBX1', 'GBX2', 'GC', 'GCA', 'GCAT', 'GCC1', 'GCC2', 'GCDH', 'GCFC2', 'GCG', 'GCGR', 'GCH1', 'GCHFR', 'GCK', 'GCKR', 'GCLC', 'GCLC_RP1_27K12_2', 'GCLM', 'GCM1', 'GCM2', 'GCN1L1', 'GCNT1', 'GCNT2', 'GCNT3', 'GCNT7', 'GCOM1', 'GCOM1_MYZAP', 'GCOM1_POLR2M', 'GCOM1_POLR2M_MYZAP', 'GCSAM', 'GCSAML', 'GCSAML_AS1', 'GCSH', 'GCSH_RP11_303E16_8', 'GDA', 'GDAP1', 'GDAP1L1', 'GDAP2', 'GDE1', 'GDF10', 'GDF11', 'GDF15', 'GDF2', 'GDF3', 'GDF5', 'GDF5OS', 'GDF6', 'GDF7', 'GDF9', 'GDI2', 'GDNF', 'GDPD1', 'GDPD2_IL9R_SPRY3_VAMP7_WASH6P_DPH3P2_AJ271736_10', 'GDPD3', 'GDPD4', 'GDPD5', 'GDPGP1', 'GEM', 'GEMIN2', 'GEMIN4', 'GEMIN5', 'GEMIN6', 'GEMIN7', 'GEMIN8', 'GEN1', 'GET4', 'GFAP', 'GFER', 'GFI1', 'GFI1B', 'GFM1', 'GFM2', 'GFOD1_AL583828_1', 'GFOD2', 'GFPT1', 'GFPT2', 'GFRA1', 'GFRA2', 'GFRA3', 'GFRA4', 'GFRAL', 'GGA1', 'GGA2', 'GGA3', 'GGACT', 'GGCT', 'GGCT_AC005154_6', 'GGCX', 'GGH', 'GGN', 'GGN_SNORD38', 'GGNBP1', 'GGNBP2', 'GGPS1', 'GGT1', 'GGT1_SNRPD3', 'GGT2', 'GGT3P', 'GGT3P_AC008132_14', 'GGT5', 'GGT6', 'GGT7', 'GGT8P', 'GGTA1P', 'GGTLC1', 'GGTLC2', 'GH1', 'GH2', 'GHDC', 'GHITM', 'GHR', 'GHRH', 'GHRHR', 'GHRL', 'GHRLOS', 'GID4', 'GID8', 'GIF', 'GIGYF1', 'GIGYF2', 'GIMAP1', 'GIMAP2', 'GIMAP4', 'GIMAP5', 'GIMAP5_RP5_1051J4_4', 'GIMAP6', 'GIMAP7', 'GIMAP8', 'GIN1', 'GINM1', 'GINS1', 'GINS2', 'GINS3', 'GINS4', 'GIP', 'GIPC1', 'GIPC2', 'GIPC3', 'GIPR', 'GIT1', 'GIT2', 'GJA1', 'GJA3', 'GJA4', 'GJA5', 'GJA9_MYCBP', 'GJB2', 'GJB3', 'GJB4', 'GJB5', 'GJB6', 'GJB7', 'GJC1', 'GJC3', 'GJD2', 'GJD4', 'GK', 'GK3P', 'GK5', 'GK5_RP11_485G4_2', 'GKAP1', 'GKN1', 'GKN2', 'GLA_AMDP1_TRPC6P_TCEB1P24_DDX11L16_WASIR1', 'GLB1', 'GLB1_TMPPE', 'GLB1L', 'GLB1L2', 'GLB1L3', 'GLCCI1', 'GLCCI1_RPA3_AS1', 'GLCE', 'GLCE_AC026512_1', 'GLDC', 'GLDN', 'GLE1', 'GLG1', 'GLI1', 'GLI2', 'GLI3', 'GLI4', 'GLI4_ZFP41', 'GLIPR1', 'GLIPR1L1', 'GLIPR1L2', 'GLIPR2', 'GLIS1', 'GLIS2', 'GLIS3', 'GLIS3_AS1', 'GLMN', 'GLO1', 'GLOD4', 'GLOD5', 'GLP1R', 'GLP2R', 'GLRA1', 'GLRA2', 'GLRA3', 'GLRA4_AMDP1_TRPC6P_TCEB1P24_DDX11L16_WASIR1', 'GLRB', 'GLRX', 'GLRX2', 'GLRX3', 'GLRX5', 'GLS', 'GLS2', 'GLT1D1', 'GLT6D1', 'GLT8D1', 'GLT8D2', 'GLTP', 'GLTPD1', 'GLTPD2', 'GLTSCR1', 'GLTSCR1L', 'GLTSCR2', 'GLTSCR2_SNORD23', 'GLUD1', 'GLUL', 'GLYAT', 'GLYATL1', 'GLYATL1_AP001652_1', 'GLYATL1P1', 'GLYATL1P2', 'GLYATL2', 'GLYATL3', 'GLYCAM1', 'GLYCTK', 'GLYR1', 'GM2A', 'GMCL1', 'GMCL1P1', 'GMDS', 'GMDS_AS1', 'GMEB1', 'GMEB2', 'GMFB', 'GMFG', 'GMIP', 'GML', 'GMNC', 'GMNN', 'GMPPA', 'GMPPB_AMIGO3', 'GMPR', 'GMPR2', 'GMPS', 'GNA11', 'GNA12', 'GNA13', 'GNA14', 'GNA15', 'GNAI1', 'GNAI2', 'GNAI3', 'GNAL', 'GNAO1', 'GNAQ', 'GNAS', 'GNAS_AS1', 'GNAT1', 'GNAT2', 'GNAT3', 'GNAZ', 'GNB1', 'GNB1L', 'GNB2', 'GNB2L1', 'GNB2L1_SNORD95', 'GNB2L1_SNORD96A', 'GNB3', 'GNB4', 'GNB5', 'GNE', 'GNG10_DNAJC25_DNAJC25_GNG10', 'GNG11', 'GNG12', 'GNG12_U8', 'GNG12_AS1', 'GNG13', 'GNG2', 'GNG3', 'GNG4', 'GNG5', 'GNG7', 'GNG8', 'GNGT1', 'GNGT2', 'GNL1', 'GNL2', 'GNL3', 'GNL3_SNORD19B', 'GNL3L', 'GNLY', 'GNMT', 'GNPAT', 'GNPDA1', 'GNPDA2', 'GNPNAT1', 'GNPTAB', 'GNPTAB_Y_RNA', 'GNPTG', 'GNRH1', 'GNRH2', 'GNRHR', 'GNS', 'GOLGA1', 'GOLGA1_SCAI_Y_RNA', 'GOLGA2', 'GOLGA2B', 'GOLGA2B_AC010203_1', 'GOLGA2B_RN7SL176P', 'GOLGA2P3Y', 'GOLGA2P6', 'GOLGA3', 'GOLGA3_CHFR', 'GOLGA4', 'GOLGA5', 'GOLGA6A', 'GOLGA6B', 'GOLGA6C', 'GOLGA6D', 'GOLGA6L1', 'GOLGA6L10', 'GOLGA6L2', 'GOLGA6L3', 'GOLGA6L4', 'GOLGA6L5', 'GOLGA6L5_RP11_182J1_12', 'GOLGA6L6', 'GOLGA6L7P', 'GOLGA6L9', 'GOLGA6L9_RP11_152F13_8', 'GOLGA6L9_RP13_608F4_8', 'GOLGA7', 'GOLGA7B', 'GOLGA8A', 'GOLGA8B', 'GOLGA8CP', 'GOLGA8DP', 'GOLGA8EP', 'GOLGA8F', 'GOLGA8G', 'GOLGA8I', 'GOLGA8J', 'GOLGA8K_RP13_395E19_3', 'GOLGA8N', 'GOLGA8T', 'GOLGB1', 'GOLIM4', 'GOLM1', 'GOLPH3', 'GOLPH3L', 'GOLT1A', 'GOLT1B', 'GON4L', 'GOPC', 'GORAB', 'GORASP1', 'GORASP2', 'GOSR1', 'GOSR2_LRRC37A17P_RP11_156P1_2', 'GOSR2_RP11_156P1_2', 'GOT1', 'GOT1L1', 'GOT2', 'STOML1', 'STOML2', 'STOML3', 'STON1', 'STON1_GTF2A1L', 'STON1_GTF2A1L_GTF2A1L', 'STON1_GTF2A1L_STON1', 'STON2', 'STOX1', 'STOX2', 'STPG1', 'STPG2', 'STRA13', 'STRA6', 'STRA8', 'STRADA', 'STRADA_RP11_51F16_8', 'STRADB', 'STRAP', 'STRBP', 'STRC', 'STRC_STRCP1', 'STRCP1', 'STRIP1', 'STRIP2', 'STRN', 'STRN3', 'STRN4', 'STS', 'STT3A', 'STT3B', 'STUB1', 'STX10', 'STX11', 'STX12', 'STX16_STX16_NPEPL1', 'STX17', 'STX18', 'STX18_AS1', 'STX19', 'STX1A', 'STX1B', 'STX2', 'STX3', 'STX4', 'STX5', 'STX6', 'STX7', 'STX8', 'STXBP1', 'STXBP2', 'STXBP2_CTD_3214H19_4', 'STXBP3', 'STXBP4', 'STXBP5', 'STXBP5_AS1', 'STXBP5L', 'STXBP6', 'STYK1', 'STYX', 'STYXL1', 'SUB1', 'SUCLA2', 'SUCLG1', 'SUCLG2', 'SUCNR1', 'SUCO', 'SUDS3', 'SUFU', 'SUGP1', 'SUGP2', 'SUGT1', 'SUGT1P', 'SUGT1P3_TPTE2P5', 'SULF1', 'SULF2', 'SULT1A1', 'SULT1A2', 'SULT1A4_SLX1B_SLX1B_SULT1A4', 'SULT1A4_SLX1B_SULT1A4', 'SULT1B1', 'SULT1C2', 'SULT1C3', 'SULT1C4', 'SULT1E1', 'SULT2A1', 'SULT2B1', 'SULT4A1', 'SULT6B1', 'SUMF1', 'SUMF2', 'SUMO1', 'SUMO2', 'SUMO3', 'SUN1', 'SUN1_GET4', 'SUN2', 'SUN3', 'SUN5', 'SUOX', 'SUPT16H', 'SUPT20H', 'SUPT3H', 'SUPT4H1', 'SUPT5H', 'SUPT6H', 'SUPT7L', 'SUPV3L1', 'SURF1', 'SURF2', 'SURF4', 'SURF6', 'SUSD1', 'SUSD2', 'SUSD3', 'SUSD4', 'SUSD5', 'SUSD5_SNORD112', 'SUSD5_Y_RNA', 'SUV39H1', 'SUV39H2', 'SUV420H1', 'SUV420H2', 'SUV420H2_AC020922_1', 'SUZ12', 'SUZ12P', 'SV2A', 'SV2B', 'SV2C', 'SVEP1', 'SVIL', 'SVILP1', 'SVIP', 'SVOP', 'SVOPL', 'SWAP70', 'SWI5', 'SWSAP1', 'SWT1', 'SYAP1', 'SYBU', 'SYCE1', 'SYCE1_SPRN', 'SYCE1L', 'SYCE2', 'SYCE3', 'SYCN', 'SYCP1', 'SYCP2', 'SYCP2L', 'SYCP2L_RP11_637O19_3', 'SYCP2L_TMEM14B_RP11_637O19_3', 'SYCP3', 'SYDE1', 'SYDE2', 'SYF2', 'SYK', 'SYMPK', 'SYN1', 'SYN2', 'SYN3', 'SYNC', 'SYNCRIP', 'SYNCRIP_RP11_321N4_5', 'SYNDIG1', 'SYNDIG1L', 'SYNE1', 'SYNE2', 'SYNE3', 'SYNE4', 'SYNE4_AC002116_8', 'SYNGAP1', 'SYNGAP1_MIR5004', 'SYNGR1', 'SYNGR2', 'SYNGR3', 'SYNGR4', 'SYNJ1', 'SYNJ2', 'SYNJ2BP', 'SYNJ2BP_SYNJ2BP_COX16', 'SYNM', 'SYNPO', 'SYNPO2', 'SYNPO2L', 'SYNPR', 'SYNRG', 'SYP', 'SYPL1', 'SYPL2', 'SYPL2_SNORA51', 'SYS1_SYS1_DBNDD2', 'SYT1', 'SYT10', 'SYT11', 'SYT12', 'SYT13', 'SYT14', 'SYT15', 'SYT16', 'SYT17', 'SYT17_CTD_2349B8_1', 'SYT2', 'SYT3', 'SYT3_SHANK1', 'SYT4', 'SYT5', 'SYT6', 'SYT7', 'SYT7_RP11_794G24_1', 'SYT8', 'SYT9', 'SYTL1', 'SYTL2', 'SYTL3', 'SYTL4_AMDP1_TRPC6P_TCEB1P24_DDX11L16_WASIR1', 'SYTL5', 'SYVN1', 'SZRD1', 'SZT2', 'SZT2_U3', 'T', 'TAAR1', 'TAAR2', 'TAAR5', 'TAAR9', 'TAB1', 'TAB2', 'TAB2_RP1_111D6_3', 'TAB3', 'TAC1', 'TAC3', 'TAC4', 'TACC1', 'TACC2', 'TACC3', 'TACO1', 'TACR1', 'TACR1_Y_RNA', 'TACR2', 'TACR3', 'TADA1', 'TADA2A', 'TADA2B', 'TADA3', 'TAF10', 'TAF11', 'TAF12', 'TAF13', 'TAF15', 'TAF1A', 'TAF1B', 'TAF1C', 'TAF1D', 'TAF1D_SNORA32', 'TAF1D_SNORA40_MIR1304_SNORA8_SNORD5', 'TAF1D_SNORD5', 'TAF2', 'TAF3', 'TAF4', 'TAF4B', 'TAF5', 'TAF5L', 'TAF6', 'TAF6L', 'TAF7L_AMDP1_TRPC6P_TCEB1P24_DDX11L16_WASIR1', 'TAF8', 'TAF9', 'TAGAP', 'TAGLN', 'TAGLN2', 'TAGLN3', 'TAL1', 'TALDO1', 'TAMM41', 'TANC1', 'TANC2', 'TANGO2', 'TANGO6', 'TANK', 'TAOK1', 'TAOK2', 'TAOK3', 'TAP1', 'TAP2', 'TAPBP', 'TAPBPL', 'TAPT1', 'TAPT1_AS1', 'TARBP1', 'TARBP2', 'TARDBP', 'TARM1', 'TARS', 'TARS2', 'TARSL2', 'TAS1R1', 'TAS1R2', 'TAS1R2_RP13_279N23_2', 'TAS1R3', 'TAS2R1', 'TAS2R1_CTD_2143L24_1', 'TAS2R10', 'TAS2R13', 'TAS2R16', 'TAS2R20', 'TAS2R3', 'TAS2R30', 'TAS2R31', 'TAS2R38', 'TAS2R4', 'TAS2R41', 'TAS2R42', 'TAS2R43', 'TAS2R46', 'TAS2R5', 'TAS2R50', 'TASP1', 'TAT', 'TATDN1', 'TATDN2', 'TATDN2_RP11_438J1_1', 'TATDN3', 'TAX1BP1', 'TAX1BP3', 'TAX1BP3_P2RX5_TAX1BP3', 'TBATA', 'TBC1D1', 'TBC1D10A', 'TBC1D10A_RP1_130H16_18', 'TBC1D10B', 'TBC1D10C', 'TBC1D12', 'TBC1D13', 'TBC1D14', 'TBC1D15', 'TBC1D16', 'TBC1D16_AC100791_1', 'TBC1D17', 'TBC1D17_snoU13', 'TBC1D19', 'TBC1D2', 'TBC1D20', 'TBC1D21', 'TBC1D22A', 'TBC1D22A_snoU13', 'TBC1D22B', 'TBC1D23', 'TBC1D24', 'TBC1D24_RP11_20I23_1', 'TBC1D25', 'TBC1D25_snoU13', 'TBC1D26', 'TBC1D27', 'TBC1D28', 'TBC1D28_RP11_815I9_3', 'TBC1D28_ZNF286B', 'TBC1D29', 'TBC1D2B', 'TBC1D3', 'TBC1D30', 'TBC1D31', 'TBC1D32', 'TBC1D3B', 'TBC1D3C', 'TBC1D3F', 'TBC1D3G', 'TBC1D3H', 'TBC1D3H_TBC1D3C', 'TBC1D3H_TBC1D3G', 'TBC1D3H_TBC1D3G_CTB_91J4_3', 'TBC1D3P1_DHX40P1', 'TBC1D3P1_DHX40P1_DHX40P1', 'TBC1D3P1_DHX40P1_TBC1D3P1', 'TBC1D3P2', 'TBC1D3P2_RP11_51L5_7', 'TBC1D3P5', 'TBC1D4', 'TBC1D5', 'TBC1D7', 'TBC1D7_RP1_257A7_4', 'TBC1D8', 'TBC1D9', 'TBC1D9B', 'TBCA', 'TBCB', 'TBCCD1', 'TBCD', 'TBCE', 'TBCE_RP11_293G6_A_3', 'TBCEL', 'TBCK', 'TBK1', 'TBKBP1', 'TBL1X', 'TBL1XR1', 'TBL1Y', 'TBL2', 'TBL3', 'TBP', 'TBPL1', 'TBPL2', 'TBR1', 'TBR1_SLC4A10_AC009487_5', 'TBRG1', 'TBRG4', 'TBRG4_SNORA5B', 'TBX1', 'TBX10', 'TBX15', 'TBX18', 'TBX19', 'TBX2', 'TBX20', 'TBX21', 'TBX22_IL9R_SPRY3_VAMP7_WASH6P_DPH3P2_AJ271736_10', 'TBX3', 'TBX4', 'TBX5', 'TBX5_AS1', 'TBX6', 'TBXA2R', 'TBXAS1', 'TC2N', 'TCAIM', 'TCAM1P', 'TCAP', 'TCEA1', 'TCEA2', 'TCEA3', 'TCEAL3_IL9R_SPRY3_VAMP7_TCEAL1_WASH6P_DPH3P2_AJ271736_10', 'TCEAL3_IL9R_SPRY3_VAMP7_WASH6P_DPH3P2_AJ271736_10', 'TCEAL5_AMDP1_TRPC6P_TCEB1P24_DDX11L16_WASIR1', 'TCEAL6_AMDP1_TRPC6P_TCEB1P24_DDX11L16_WASIR1', 'TCEAL8_AMDP1_TRPC6P_TCEB1P24_DDX11L16_WASIR1', 'TCEANC', 'TCEANC2', 'TCEB1', 'TCEB2', 'TCEB3', 'TCEB3B', 'TCERG1', 'TCERG1L', 'TCF12', 'TCF15', 'TCF19', 'TCF20', 'TCF21', 'TCF23', 'TCF25', 'TCF25_RP11_566K11_7', 'TCF3', 'TCF4', 'TCF7', 'TCF7L1', 'TCF7L2', 'TCFL5', 'TCHH', 'TCHHL1', 'TCHP', 'TCIRG1', 'TCL1A', 'TCL1B_RP11_1070N10_6', 'TCL6', 'TCL6_RP11_1070N10_6', 'TCN1', 'TCN2', 'TCOF1', 'TCP1', 'TCP1_SNORA20', 'TCP1_SNORA29', 'TCP10', 'TCP10L', 'TCP10L_AP000275_65', 'TCP10L2', 'TCP11', 'TCP11L1', 'TCP11L2', 'TCTA', 'TCTE1', 'TCTE3', 'TCTEX1D1', 'TCTEX1D2', 'TCTEX1D2_RP11_447L10_1', 'TCTEX1D4', 'TCTN1', 'TCTN2', 'TCTN3', 'TDG', 'TDGF1', 'TDGF1_AC104304_1', 'TDH', 'TDO2', 'TDP1', 'TDP2', 'TDRD1', 'TDRD10', 'TDRD12', 'TDRD3', 'TDRD5', 'TDRD6', 'TDRD7', 'TDRD9', 'TDRG1', 'TDRKH', 'TDRP', 'TEAD1', 'TEAD2', 'TEAD3', 'TEAD4', 'TEC', 'TECPR1', 'TECPR2', 'TECR', 'TECRL', 'TECTA', 'TECTB', 'TEF', 'TEFM', 'TEK', 'TEKT1', 'TEKT2', 'TEKT3', 'TEKT4', 'TEKT4P2', 'TEKT5', 'TELO2', 'TEN1_CDK3_TEN1_CDK3', 'TEN1_TEN1_CDK3', 'TENC1', 'TENM1_AMDP1_TRPC6P_TCEB1P24_DDX11L16_WASIR1', 'TENM2', 'TENM3', 'TENM4', 'TEP1', 'TEP1_Y_RNA', 'TEPP', 'TERC', 'TERF1', 'TERF2', 'TERF2IP', 'TERT', 'TES', 'TESC', 'TESK1', 'TESK2', 'TESPA1', 'TET1', 'TET2', 'TET2_snoU13', 'TET3', 'TEX10', 'TEX101', 'TEX11_AMDP1_TRPC6P_TCEB1P24_DDX11L16_WASIR1', 'TEX12_SDHD', 'TEX13A_AMDP1_TRPC6P_TCEB1P24_DDX11L16_WASIR1', 'TEX13B_AMDP1_TRPC6P_TCEB1P24_DDX11L16_WASIR1', 'TEX14', 'TEX15', 'TEX15_Y_RNA', 'TEX2', 'TEX22', 'TEX26', 'TEX26_AS1', 'TEX261_AC007040_11', 'TEX264', 'TEX28_AMDP1_TRPC6P_TCEB1P24_DDX11L16_WASIR1', 'TEX29', 'TEX30', 'TEX33', 'TEX35', 'TEX35_C1orf220_C1ORF220', 'TEX36', 'TEX37', 'TEX40_RP11_783K16_10', 'TEX41', 'TEX9', 'TF', 'TF_TFP1', 'TFAM', 'TFAP2A', 'TFAP2A_AS1', 'TFAP2B', 'TFAP2C', 'TFAP2D', 'TFAP2E', 'TFAP4', 'TFB1M', 'TFB2M', 'TFCP2', 'TFCP2L1', 'TFDP1', 'TFDP2', 'TFDP3_AMDP1_TRPC6P_TCEB1P24_DDX11L16_WASIR1', 'TFE3', 'TFEB', 'TFEC', 'TFF1', 'TFF2', 'TFF3', 'TFG', 'TFIP11', 'TFP1', 'TFPI', 'TFPI2', 'TFPT', 'TFR2', 'TFRC', 'TG', 'TGDS', 'TGFA', 'TGFB1', 'TGFB1I1', 'TGFB2', 'TGFB3', 'TGFBI', 'TGFBR1', 'TGFBR2', 'TGFBR3', 'TGFBRAP1', 'TGIF1', 'TGIF2_TGIF2_C20orf24', 'TGIF2LY', 'TGM1', 'TGM2', 'TGM3', 'TGM4', 'TGM5', 'TGM6', 'TGM7', 'TGOLN2', 'TGS1', 'TH', 'THADA', 'THADA_Y_RNA', 'THAP1', 'THAP10', 'THAP2_RP11_293I14_2', 'THAP3', 'THAP4', 'THAP5', 'THAP6', 'THAP7', 'THAP7_AS1', 'THAP8', 'THAP9', 'THAP9_AS1', 'THBS1', 'THBS2', 'THBS3', 'THBS4', 'THEG', 'THEM4', 'THEM5', 'THEM6', 'THEMIS', 'THEMIS2', 'THG1L', 'THNSL1', 'THNSL2', 'THOC1', 'THOC2_AMDP1_TRPC6P_TCEB1P24_DDX11L16_WASIR1', 'THOC3', 'THOC5', 'THOC6', 'THOC7', 'THOP1', 'THPO', 'THRA', 'THRAP3', 'THRB', 'THRSP', 'THSD1', 'THSD4', 'THSD7A', 'THSD7B', 'THSD7B_SNORA51', 'THTPA_RP11_66N24_4', 'THUMPD1', 'THUMPD2', 'THUMPD3', 'THY1', 'THYN1', 'TIA1', 'TIAL1', 'TIAM1', 'TIAM2', 'TICAM1', 'TICRR', 'TIE1', 'TIFA', 'TIFAB', 'TIGD1_MIR5001', 'TIGD3', 'TIGD7', 'TIGIT', 'TIMD4', 'TIMELESS', 'TIMELESS_Y_RNA', 'TIMM10', 'TIMM10B', 'TIMM10B_DNHD1', 'TIMM13', 'TIMM13_LMNB2', 'TIMM17A', 'TIMM17B', 'TIMM21', 'TIMM22', 'TIMM23', 'TIMM23B', 'TIMM44', 'TIMM44_Y_RNA', 'TIMM50', 'TIMM8A_AMDP1_TRPC6P_TCEB1P24_DDX11L16_WASIR1', 'TIMM8B', 'TIMM9', 'TIMMDC1', 'TIMP1', 'TIMP2', 'TIMP2_DDC8', 'TIMP3', 'TIMP4', 'TINAG', 'TINAGL1', 'TINCR', 'TINF2', 'TIPARP', 'TIPIN', 'TIPRL', 'TIRAP', 'TJAP1', 'TJP1', 'TJP2', 'TJP3', 'TK1', 'TK2', 'TK2_RP11_403P17_5', 'TK2_Y_RNA', 'TKT', 'TKTL1_IL9R_SPRY3_VAMP7_WASH6P_DPH3P2_AJ271736_10', 'TLCD1', 'TLDC1', 'TLDC2', 'TLE1', 'TLE2', 'TLE2_SNORA70', 'TLE3', 'TLE4', 'TLE6', 'TLK1', 'TLK2', 'TLL1', 'TLL2', 'TLN1', 'TLN2', 'TLR1', 'TLR1_TLR6', 'TLR10', 'TLR3', 'TLR4', 'TLR5', 'TLR7', 'TLR8', 'TLR9', 'TLX1', 'TLX1NB', 'TLX2', 'TLX3', 'TM2D1', 'TM2D2', 'TM2D3', 'TM4SF1', 'TM4SF18', 'TM4SF19', 'TM4SF19_TCTEX1D2_RP11_447L10_1', 'TM4SF19_AS1', 'TM4SF20', 'TM4SF4', 'TM4SF5', 'TM6SF1', 'TM6SF2', 'TM6SF2_AC138430_4', 'TM7SF2', 'TM7SF3', 'TM9SF1', 'TM9SF1_CHMP4A_AL136419_6', 'TM9SF1_IPO4_RP11_468E2_2', 'TM9SF1_MDP1_CHMP4A_AL136419_6_NEDD8_MDP1', 'TM9SF2', 'TM9SF3', 'TM9SF4', 'TMA16', 'TMA7', 'TMBIM1', 'TMBIM4', 'TMBIM4_LLPH', 'TMBIM6', 'TMC1', 'TMC2', 'TMC3', 'TMC4', 'TMC5', 'TMC6', 'TMC7', 'TMC8', 'TMCC1', 'TMCC1_AS1', 'TMCC2', 'TMCC3', 'TMCO1', 'TMCO2', 'TMCO2_snoU13', 'TMCO3', 'TMCO4', 'TMCO5A', 'TMCO6', 'TMED1', 'TMED10', 'TMED2', 'TMED3', 'TMED4', 'TMED5', 'TMED6_RP11_343C2_7_RP11_343C2_9', 'TMED7_TICAM2_TICAM2_TMED7', 'TMED8', 'TMED9', 'TMED9_SNORA51', 'TMEFF1_MSANTD3_MSANTD3_TMEFF1', 'TMEFF1_MSANTD3_TMEFF1', 'TMEFF2', 'TMEM100', 'TMEM101', 'TMEM102', 'TMEM104', 'TMEM105', 'TMEM106A', 'TMEM106B', 'TMEM106C', 'TMEM107', 'TMEM108', 'TMEM109', 'TMEM11', 'TMEM110_TMEM110_MUSTN1', 'TMEM114', 'TMEM115', 'TMEM116', 'TMEM117', 'TMEM119', 'TMEM120A', 'TMEM120B', 'TMEM121', 'TMEM123', 'TMEM125', 'TMEM126A', 'TMEM126B', 'TMEM127', 'TMEM128', 'TMEM129', 'TMEM130', 'TMEM131', 'TMEM132A', 'TMEM132B', 'TMEM132C', 'TMEM132D', 'TMEM132E', 'TMEM134', 'TMEM135', 'TMEM136', 'TMEM138', 'TMEM139', 'TMEM140', 'TMEM141', 'TMEM141_RP11_216L13_17', 'TMEM143', 'TMEM144', 'TMEM144_RP11_597D13_9', 'TMEM145', 'TMEM147', 'TMEM14A', 'TMEM14B', 'TMEM14C', 'TMEM150A', 'TMEM150B', 'TMEM150C', 'TMEM151A', 'TMEM151B', 'TMEM151B_RP11_444E17_6', 'TMEM154', 'TMEM155', 'TMEM156', 'TMEM159', 'TMEM160', 'TMEM161A', 'TMEM161B', 'TMEM161B_AS1', 'TMEM163', 'TMEM165', 'TMEM167A', 'TMEM167B', 'TMEM168', 'TMEM169', 'TMEM17', 'TMEM170A', 'TMEM170A_RP11_77K12_1', 'TMEM170B', 'TMEM171', 'TMEM173', 'TMEM174', 'TMEM175', 'TMEM176A', 'TMEM176B', 'TMEM177', 'TMEM178A', 'TMEM179', 'TMEM179B', 'TMEM18', 'TMEM180', 'TMEM181', 'TMEM182', 'TMEM183A', 'TMEM184A', 'TMEM184B', 'TMEM184C', 'TMEM185A_AMDP1_TRPC6P_TCEB1P24_DDX11L16_WASIR1', 'TMEM186', 'TMEM189', 'TMEM189_TMEM189_UBE2V1', 'TMEM19', 'TMEM19_RP11_293I14_2', 'TMEM190', 'TMEM191A', 'TMEM191C', 'TMEM192', 'TMEM194A', 'TMEM194B', 'TMEM196', 'TMEM198', 'TMEM198B', 'TMEM199_CTB_96E2_3', 'TMEM199_SARM1_CTB_96E2_3', 'TMEM2', 'TMEM200A', 'TMEM200C', 'TMEM201', 'TMEM202', 'TMEM204', 'TMEM205', 'TMEM206', 'TMEM207', 'TMEM208', 'TMEM209', 'TMEM211', 'TMEM212', 'TMEM213', 'TMEM214', 'TMEM215', 'TMEM216', 'TMEM217', 'TMEM218', 'TMEM219', 'TMEM219_snoU13', 'TMEM220', 'TMEM222', 'TMEM223', 'TMEM225', 'TMEM229B', 'TMEM230', 'TMEM231_RP11_77K12_8', 'TMEM232', 'TMEM233', 'TMEM234', 'TMEM235', 'TMEM236', 'TMEM237', 'TMEM237_ENO1P4', 'TMEM239_C20orf141', 'TMEM240', 'TMEM241', 'TMEM242', 'TMEM243', 'TMEM244', 'TMEM245', 'TMEM246', 'TMEM247', 'TMEM248', 'TMEM249', 'TMEM25', 'TMEM25_TTC36', 'TMEM25_snoU13', 'TMEM251_RP11_371E8_4', 'TMEM252', 'TMEM253', 'TMEM254', 'TMEM254_AS1', 'TMEM255A_AMDP1_TRPC6P_TCEB1P24_DDX11L16_WASIR1', 'TMEM255B', 'TMEM256_TMEM256_PLSCR3_C17orf61_PLSCR3', 'TMEM256_PLSCR3_C17orf61_PLSCR3', 'TMEM258', 'TMEM258_MIR611', 'TMEM259', 'TMEM26', 'TMEM260', 'TMEM27', 'TMEM30A', 'TMEM30C', 'TMEM33', 'TMEM37', 'TMEM38A', 'TMEM38B', 'TMEM39A', 'TMEM39B', 'TMEM40', 'TMEM41A', 'TMEM41B', 'TMEM42', 'TMEM43', 'TMEM43_RP11_434D12_1', 'TMEM44', 'TMEM44_AS1', 'TMEM45A', 'TMEM45B', 'TMEM47', 'TMEM5', 'TMEM50A', 'TMEM50B', 'TMEM51', 'TMEM51_AS1', 'TMEM52', 'TMEM52B', 'TMEM53', 'TMEM54', 'TMEM55A', 'TMEM55B', 'TMEM56_RP11_57H12_6', 'TMEM57', 'TMEM59', 'TMEM59L', 'TMEM60', 'TMEM61', 'TMEM62', 'TMEM63A', 'TMEM63B', 'TMEM63C', 'TMEM63C_RP11_463C8_4', 'TMEM64', 'TMEM65', 'TMEM66', 'TMEM67', 'TMEM68', 'TMEM69', 'TMEM70', 'TMEM71', 'TMEM72', 'TMEM72_AS1', 'TMEM74', 'TMEM74B', 'TMEM75', 'TMEM79', 'TMEM80', 'TMEM82', 'TMEM86A', 'TMEM86B', 'TMEM87A', 'TMEM87B', 'TMEM88', 'TMEM88B', 'TMEM89', 'TMEM8A', 'TMEM8B', 'TMEM8C', 'TMEM9', 'TMEM91', 'TMEM91_CTC_435M10_3', 'TMEM92', 'TMEM95', 'TMEM97', 'TMEM98', 'TMEM99', 'TMEM9B', 'TMF1', 'TMIE', 'TMIGD1', 'TMIGD2', 'TMLHE_AMDP1_TRPC6P_TCEB1P24_DDX11L16_WASIR1', 'TMOD1', 'TMOD2', 'TMOD3', 'TMPO', 'TMPO_AS1', 'TMPPE', 'TMPRSS11A', 'TMPRSS11B', 'TMPRSS11D', 'TMPRSS11E', 'TMPRSS11F', 'TMPRSS11F_Y_RNA', 'TMPRSS12', 'TMPRSS13', 'TMPRSS15', 'TMPRSS2', 'TMPRSS2_Y_RNA', 'TMPRSS3', 'TMPRSS4', 'TMPRSS4_AS1', 'TMPRSS5', 'TMPRSS6', 'TMPRSS7', 'TMPRSS9', 'TMSB10', 'TMSB15A_AMDP1_TRPC6P_TCEB1P24_DDX11L16_WASIR1', 'TMSB4X', 'TMSB4XP2', 'TMSB4Y', 'TMTC1', 'TMTC2', 'TMTC3', 'TMTC4', 'TMUB1', 'TMUB2', 'TMX1', 'TMX2', 'TMX2_TMX2_CTNND1', 'TMX3', 'TMX4', 'TNC', 'TNF', 'TNFAIP1', 'TNFAIP2', 'TNFAIP3', 'TNFAIP6', 'TNFAIP8', 'TNFAIP8L2', 'TNFAIP8L3', 'TNFRSF10A', 'TNFRSF10B', 'TNFRSF10C', 'TNFRSF10D', 'TNFRSF11A', 'TNFRSF11B', 'TNFRSF12A', 'TNFRSF13B', 'TNFRSF13B_TBC1D27', 'TNFRSF13C', 'TNFRSF14', 'TNFRSF17', 'TNFRSF18', 'TNFRSF19', 'TNFRSF1A', 'TNFRSF1B', 'TNFRSF21', 'TNFRSF25', 'TNFRSF25_PLEKHG5', 'TNFRSF4', 'TNFRSF8', 'TNFRSF9', 'TNFRSF9_Y_RNA', 'TNFSF10', 'TNFSF11', 'TNFSF12', 'TNFSF12_TNFSF12_TNFSF13', 'TNFSF13', 'TNFSF13_TNFSF12_TNFSF12_TNFSF13', 'TNFSF13B', 'TNFSF14', 'TNFSF15', 'TNFSF18', 'TNFSF4', 'TNFSF8', 'TNFSF9', 'TNIK', 'TNIP1', 'TNIP2', 'TNIP3', 'TNK1', 'TNK2', 'TNK2_AS1', 'TNKS', 'TNKS1BP1', 'TNKS2', 'TNMD_IL9R_SPRY3_VAMP7_WASH6P_DPH3P2_AJ271736_10', 'TNN', 'TNNC1', 'TNNC2', 'TNNI1', 'TNNI2', 'TNNI3', 'TNNI3_CTD_2587H24_4', 'TNNT1', 'TNNT2', 'TNNT3', 'TNP1', 'TNP2', 'TNPO1', 'TNPO2', 'TNPO3', 'TNR', 'TNRC18', 'TNRC18_Y_RNA', 'TNRC6A', 'TNRC6B', 'TNRC6C', 'TNRC6C_AC021593_1', 'TNS1', 'TNS1_AC009469_1', 'TNS3', 'TNS4', 'TNXA', 'TNXB', 'TNXB_ATF6B', 'TOB1', 'TOB2', 'TOB2P1', 'TOE1', 'TOLLIP', 'TOM1', 'TOM1L1', 'TOM1L2', 'TOMM20', 'TOMM20L', 'TOMM22', 'TOMM34', 'TOMM40', 'TOMM40L', 'TOMM40L_MIR5187', 'TOMM5', 'TOMM5_RP11_613M10_8', 'TOMM7', 'TOMM70A', 'TONSL', 'TOP1', 'TOP1MT', 'TOP2A', 'TOP2B', 'TOP3A', 'TOP3B', 'TOPAZ1', 'TOPBP1', 'TOPORS', 'TOPORS_AS1', 'TOR1A', 'TOR1AIP1', 'TOR1AIP2', 'TOR1B', 'TOR2A', 'TOR3A', 'TOR4A', 'TOX', 'TOX2', 'TOX3', 'TOX4', 'TP53', 'TP53BP1', 'TP53BP2', 'TP53I11', 'TP53I13', 'TP53I3', 'TP53INP1', 'TP53INP2', 'TP53RK', 'TP53TG1', 'TP53TG3', 'TP53TG3B', 'TP53TG3C', 'TP53TG3D', 'TP53TG5', 'TP63', 'TP73', 'TP73_AS1', 'TPBG', 'TPCN1', 'TPCN2', 'TPCN2_snoU13', 'TPD52', 'TPD52L1', 'TPD52L2', 'TPD52L3', 'TPGS1', 'TPGS2', 'TPH1', 'TPH1_RP1_59M18_2', 'TPH2', 'TPI1', 'TPK1', 'TPM1', 'TPM2', 'TPM3', 'TPM3_RN7SL431P', 'TPM3P9_ZNF761', 'TPM4', 'TPMT', 'TPO', 'TPP1', 'TPP2', 'TPPP', 'TPPP2', 'TPPP3', 'TPR', 'TPRA1', 'TPRG1', 'TPRG1L', 'TPRKB', 'TPRN', 'TPRX1', 'TPRXL', 'TPRXL_FGD5P1', 'TPSAB1', 'TPSB2', 'TPSD1', 'TPSD1_RP11_616M22_5', 'TPSG1', 'TPST1', 'TPST2', 'TPT1', 'TPT1_SNORA31', 'TPT1_AS1', 'TPTE', 'TPTE_BAGE2', 'TPTE2', 'TPTE2P1', 'TPTE2P2', 'TPTE2P2_RP11_248G5_8', 'TPTE2P3', 'TPTE2P3_RP11_78J21_4', 'TPTE2P5', 'TPTE2P6_RP11_556N21_1', 'TPTEP1', 'TPX2', 'TRA2A', 'TRA2B', 'TRABD', 'TRABD2A', 'TRAC', 'TRADD', 'TRAF1', 'TRAF2', 'TRAF3', 'TRAF3IP1', 'TRAF3IP2', 'TRAF3IP2_AS1', 'TRAF3IP3', 'TRAF4', 'TRAF5', 'TRAF6', 'TRAF7', 'TRAFD1', 'TRAIP', 'TRAJ11', 'TRAJ13', 'TRAJ15', 'TRAJ18', 'TRAJ20', 'TRAJ21', 'TRAJ23', 'TRAJ27', 'TRAJ28', 'TRAJ29', 'TRAJ30', 'TRAJ32', 'TRAJ35', 'TRAJ36', 'TRAJ37', 'TRAJ4', 'TRAJ43', 'TRAJ45', 'TRAJ46', 'TRAJ48', 'TRAJ49', 'TRAJ50', 'TRAJ52', 'TRAJ53', 'TRAJ54', 'TRAJ56', 'TRAJ57', 'TRAJ58', 'TRAJ8', 'TRAK1', 'TRAK2', 'TRAM1', 'TRAM2', 'TRAM2_AS1', 'TRANK1', 'TRAP1', 'TRAPPC1', 'TRAPPC10', 'TRAPPC11', 'TRAPPC12', 'TRAPPC13', 'TRAPPC13_CTC_534A2_2', 'TRAPPC2', 'TRAPPC2L', 'TRAPPC2P1', 'TRAPPC3', 'TRAPPC3L', 'TRAPPC4', 'TRAPPC5', 'TRAPPC5_CTD_3214H19_16', 'TRAPPC6A', 'TRAPPC6B', 'TRAPPC8', 'TRAPPC9', 'TRAT1', 'TRAV1_1', 'TRAV1_2', 'TRAV10', 'TRAV12_1', 'TRAV12_2', 'TRAV12_3', 'TRAV13_1', 'TRAV13_2', 'TRAV14DV4', 'TRAV16', 'TRAV17', 'TRAV18', 'TRAV19', 'TRAV2', 'TRAV20', 'TRAV21', 'TRAV22', 'TRAV23DV6', 'TRAV24', 'TRAV25', 'TRAV26_1', 'TRAV26_2', 'TRAV27', 'TRAV29DV5', 'TRAV3', 'TRAV30', 'TRAV34', 'TRAV35', 'TRAV36DV7', 'TRAV38_1', 'TRAV38_2DV8', 'TRAV39', 'TRAV4', 'TRAV40', 'TRAV41', 'TRAV5', 'TRAV6', 'TRAV8_1', 'TRAV8_2', 'TRAV8_3', 'TRAV8_4', 'TRAV8_6', 'TRAV9_2', 'TRBC2', 'TRBJ2_1', 'TRBJ2_3', 'TRBJ2_6', 'TRBV10_1', 'TRBV10_2', 'TRBV11_1', 'TRBV11_2', 'TRBV19', 'TRBV2', 'TRBV20_1', 'TRBV21_1', 'TRBV24_1', 'TRBV25_1', 'TRBV27', 'TRBV28', 'TRBV29_1', 'TRBV3_1', 'TRBV30', 'TRBV4_1', 'TRBV4_2', 'TRBV5_1', 'TRBV5_4', 'TRBV5_5', 'TRBV5_6', 'TRBV6_1', 'TRBV6_6', 'TRBV6_7', 'TRBV6_9', 'TRBV7_1', 'TRBV7_3', 'TRBV7_6', 'TRBV7_7', 'TRBV7_8', 'TRDD3', 'TRDJ1', 'TRDJ2', 'TRDJ3', 'TRDJ4', 'TRDMT1', 'TRDN', 'TRDV1', 'TRDV2', 'TRDV3', 'TREH', 'TREM1', 'TREM2', 'TREML1', 'TREML2', 'TREML3P', 'TREML4', 'TREML5P', 'TRERF1', 'TREX1_ATRIP', 'TREX2_AMDP1_TRPC6P_TCEB1P24_DDX11L16_WASIR1', 'TREX2_HAUS7_AMDP1_TRPC6P_TCEB1P24_DDX11L16_WASIR1', 'TRGC1', 'TRGC2', 'TRGJP', 'TRGJP1', 'TRGJP2', 'TRGV10', 'TRGV11', 'TRGV2', 'TRGV3', 'TRGV7', 'TRGV8', 'TRGV9', 'TRH', 'TRHDE', 'TRHDE_AS1', 'TRIAP1', 'TRIB1', 'TRIB2', 'TRIB3', 'TRIL_AC005013_1', 'TRIM10', 'TRIM11', 'TRIM13', 'TRIM13_KCNRG', 'TRIM14', 'TRIM15', 'TRIM16', 'TRIM16_RP11_385D13_1', 'TRIM16L', 'TRIM16L_RP11_815I9_5', 'TRIM17', 'TRIM2', 'TRIM21', 'TRIM22', 'TRIM23', 'TRIM24', 'TRIM25', 'TRIM26', 'TRIM27', 'TRIM28', 'TRIM29', 'TRIM3', 'TRIM31', 'TRIM32', 'TRIM33', 'TRIM34', 'TRIM35', 'TRIM36', 'TRIM37', 'TRIM38', 'TRIM39', 'TRIM39_TRIM39_RPP21', 'TRIM4', 'TRIM4_OR2AE1', 'TRIM40', 'TRIM41', 'TRIM42', 'TRIM43', 'TRIM44', 'TRIM45', 'TRIM46', 'TRIM47', 'TRIM48', 'TRIM49', 'TRIM49C', 'TRIM49D1', 'TRIM49D2P', 'TRIM5', 'TRIM50', 'TRIM51', 'TRIM51HP', 'TRIM52', 'TRIM52_AS1', 'TRIM52_AS1_CTC_338M12_4', 'TRIM53AP', 'TRIM53BP', 'TRIM54', 'TRIM55', 'TRIM56', 'TRIM58', 'TRIM58_OR2W3', 'TRIM59_RP11_432B6_3', 'TRIM6', 'TRIM6_TRIM6_TRIM34', 'TRIM6_TRIM34_TRIM34', 'TRIM60', 'TRIM61', 'TRIM61_RP11_366M4_11', 'TRIM62', 'TRIM63', 'TRIM64', 'TRIM65', 'TRIM66', 'TRIM67', 'TRIM68', 'TRIM69', 'TRIM7', 'TRIM71', 'TRIM72', 'TRIM73', 'TRIM74', 'TRIM77', 'TRIM8', 'TRIM9', 'TRIML1', 'TRIML2', 'TRIO', 'TRIOBP', 'TRIOBP_NOL12', 'TRIP10', 'TRIP11', 'TRIP12', 'TRIP13', 'TRIP4', 'TRIP6', 'TRIQK', 'TRIT1', 'TRMT1', 'TRMT10A', 'TRMT10B', 'TRMT10C', 'TRMT11', 'TRMT112', 'TRMT13', 'TRMT1L', 'TRMT2A', 'TRMT2B_AMDP1_TRPC6P_TCEB1P24_DDX11L16_WASIR1', 'TRMT44', 'TRMT5', 'TRMT6', 'TRMT61A', 'TRMT61B', 'TRMU', 'TRNAU1AP', 'TRNP1', 'TRNT1', 'TRO', 'TROAP', 'TROVE2', 'TRPA1', 'TRPC1', 'TRPC2', 'TRPC3', 'TRPC3_Y_RNA', 'TRPC4', 'TRPC4AP', 'TRPC5_AMDP1_TRPC6P_TCEB1P24_DDX11L16_WASIR1', 'TRPC6', 'TRPC6_Y_RNA', 'TRPC7', 'TRPM1', 'TRPM2', 'TRPM2_snoZ6', 'TRPM3', 'TRPM4', 'TRPM5', 'TRPM6', 'TRPM7', 'TRPM8', 'TRPS1', 'TRPT1', 'TRPV1', 'TRPV1_SHPK', 'TRPV2', 'TRPV2_AC093484_4', 'TRPV3', 'TRPV3_SPATA22', 'TRPV4', 'TRPV5', 'TRPV6', 'TRRAP', 'TRRAP_AC004893_11', 'TRUB1', 'TRUB2', 'TSACC', 'TSC1', 'TSC2', 'TSC22D1', 'TSC22D2', 'TSC22D3_AMDP1_TRPC6P_TCEB1P24_DDX11L16_WASIR1', 'TSC22D4', 'TSC22D4_C7orf61', 'TSEN15', 'TSEN2', 'TSEN34', 'TSEN54', 'TSFM', 'TSFM_RP11_571M6_15', 'TSG101', 'TSGA10', 'TSGA10IP', 'TSGA13', 'TSGA13_COPG2', 'TSHB', 'TSHR', 'TSHZ1', 'TSHZ2', 'TSHZ3', 'TSKS', 'TSKU', 'TSLP', 'TSN', 'TSNARE1', 'TSNAX_TSNAX_DISC1', 'TSNAX_DISC1', 'TSNAXIP1', 'TSPAN1', 'TSPAN10', 'TSPAN11', 'TSPAN12', 'TSPAN13', 'TSPAN14', 'TSPAN15', 'TSPAN16', 'TSPAN17', 'TSPAN18', 'TSPAN19', 'TSPAN2', 'TSPAN3', 'TSPAN31', 'TSPAN32', 'TSPAN33', 'TSPAN4', 'TSPAN5', 'TSPAN6_AMDP1_TRPC6P_TCEB1P24_DDX11L16_WASIR1', 'TSPAN7', 'TSPAN7_TM4SF2', 'TSPAN8', 'TSPAN9', 'TSPEAR', 'TSPO', 'TSPO2', 'TSPY1', 'TSPY10', 'TSPY2', 'TSPY26P', 'TSPY3', 'TSPY3_TSPY1', 'TSPY4', 'TSPY6P', 'TSPY8', 'TSPY8_TSPY7P', 'TSPYL6', 'TSR1', 'TSR2', 'TSR3', 'TSSC1', 'TSSC2', 'TSSC4', 'TSSK1B', 'TSSK2', 'TSSK3', 'TSSK4', 'TSSK6', 'TST', 'TSTA3', 'TSTD1', 'TSTD1_F11R', 'TSTD2', 'TSTD3', 'TTBK1', 'TTBK2', 'TTC1', 'TTC12', 'TTC13', 'TTC14', 'TTC16', 'TTC17', 'TTC18', 'TTC19', 'TTC21A', 'TTC21B', 'TTC22', 'TTC23', 'TTC23L', 'TTC24', 'TTC25', 'TTC26', 'TTC27', 'TTC28', 'TTC28_AS1', 'TTC29', 'TTC3', 'TTC31', 'TTC32', 'TTC33', 'TTC36', 'TTC37', 'TTC38', 'TTC39A', 'TTC39B', 'TTC39C', 'TTC4_MROH7_TTC4', 'TTC40', 'TTC5', 'TTC6', 'TTC7A', 'TTC7B', 'TTC8', 'TTC9', 'TTC9B', 'TTC9C', 'TTF1', 'TTF2', 'TTI1', 'TTI1_Y_RNA', 'TTI2', 'TTI2_FUT10', 'TTK', 'TTL', 'TTLL1', 'TTLL10', 'TTLL10_AS1', 'TTLL11', 'TTLL11_IT1', 'TTLL12', 'TTLL13', 'TTLL13_RP11_697E2_6', 'TTLL2', 'TTLL3', 'TTLL4', 'TTLL5', 'TTLL5_IFT43', 'TTLL6', 'TTLL7', 'TTLL9', 'TTN', 'TTN_AS1', 'TTPA', 'TTPAL', 'TTR', 'TTTY1', 'TTTY10', 'TTTY11', 'TTTY12', 'TTTY13', 'TTTY14', 'TTTY15', 'TTTY16', 'TTTY17A', 'TTTY17B', 'TTTY17C', 'TTTY18', 'TTTY19', 'TTTY1B', 'TTTY2', 'TTTY20', 'TTTY21', 'TTTY21B', 'TTTY22', 'TTTY23', 'TTTY23B', 'TTTY23B_AC006335_6_AC006335_2', 'TTTY2B', 'TTTY3', 'TTTY4', 'TTTY4B', 'TTTY4C', 'TTTY5', 'TTTY6', 'TTTY6B', 'TTTY7', 'TTTY7B', 'TTTY8', 'TTTY8B', 'TTTY9B', 'TTYH1', 'TTYH2', 'TTYH3', 'TUB', 'TUBA1A', 'TUBA1B', 'TUBA1C', 'TUBA3C', 'TUBA3D', 'TUBA3E', 'TUBA3FP', 'TUBA4A', 'TUBA4B', 'TUBAL3', 'TUBB', 'TUBB1', 'TUBB2A', 'TUBB2B', 'TUBB3', 'TUBB4A', 'TUBB4B', 'TUBB6', 'TUBB7P', 'TUBB8', 'TUBB8P7', 'TUBBP5', 'TUBD1', 'TUBE1', 'TUBG1', 'TUBG2', 'TUBGCP2', 'TUBGCP3', 'TUBGCP4', 'TUBGCP5', 'TUBGCP6', 'TUFM', 'TUFT1', 'TUFT1_RP11_74C1_4', 'TUG1', 'TULP1', 'TULP2', 'TULP3', 'TULP3_RHNO1', 'TULP4', 'TUSC2', 'TUSC3', 'TUSC5', 'TUSC7', 'TUT1_MIR3654', 'TVP23A', 'TVP23B', 'TVP23C_CDRT4_TVP23C_CDRT4', 'TVP23C_TVP23C_CDRT4', 'TWF1', 'TWF2_TLR9', 'TWIST1', 'TWIST2', 'TWISTNB', 'TWSG1', 'TXK', 'TXLNA', 'TXLNB', 'TXLNB_RP1_225E12_3', 'TXLNG', 'TXLNG2P', 'TXN', 'TXN2', 'TXNDC11', 'TXNDC12', 'TXNDC15', 'TXNDC16', 'TXNDC17', 'TXNDC2', 'TXNDC5_BLOC1S5_TXNDC5', 'TXNDC8', 'TXNDC9', 'TXNIP', 'TXNL1', 'TXNL4A', 'TXNL4B', 'TXNRD1', 'TXNRD2', 'TXNRD3', 'TXNRD3_TXNRD3NB', 'TYK2', 'TYMP', 'TYMP_ODF3B', 'TYMP_SCO2', 'TYMS', 'TYR', 'TYRO3', 'TYROBP', 'TYRP1', 'TYSND1', 'TYW1', 'TYW1B', 'TYW3', 'TYW5', 'U2AF1', 'U2AF1L4_AD000671_6', 'U2AF2', 'U2SURP', 'U2SURP_RP11_372E1_6', 'U3', 'U3_REPIN1', 'U3_RP11_795J1_1', 'U3_RP11_804N13_1', 'U3_TUBA4B', 'U66059_29', 'U73166_2', 'UACA', 'UAP1', 'UAP1L1', 'UBA1', 'UBA2', 'UBA3', 'UBA5', 'UBA52', 'UBA6', 'UBA6_AS1', 'UBA7', 'UBA7_MIR5193', 'UBAC1', 'UBAC2', 'UBAC2_AS1', 'UBALD1', 'UBALD2', 'UBAP1', 'UBAP1L', 'UBAP2', 'UBAP2L', 'UBASH3A', 'UBASH3B', 'GP1BA', 'GP2', 'GP5', 'GP6', 'GP6_CTC_550B14_6', 'GP9', 'GPA33', 'GPAA1', 'GPALPP1', 'GPAM', 'GPANK1', 'GPAT2', 'GPATCH1', 'GPATCH11', 'GPATCH2', 'GPATCH2L', 'GPATCH3', 'GPATCH4', 'GPATCH8', 'GPBAR1', 'GPBP1', 'GPBP1L1', 'GPC1', 'GPC2', 'GPC3_AMDP1_TRPC6P_TCEB1P24_DDX11L16_WASIR1', 'GPC4_AMDP1_TRPC6P_TCEB1P24_DDX11L16_WASIR1', 'GPC5', 'GPC6', 'GPCPD1', 'GPCPD1_SNORD112', 'GPD1', 'GPD1L', 'GPD2', 'GPER1', 'GPHA2', 'GPHN', 'GPI', 'GPI_RP11_618P17_4', 'GPIHBP1', 'GPKOW', 'GPLD1', 'GPM6A', 'GPM6B', 'GPN1', 'GPN2', 'GPN3', 'GPNMB', 'GPR1', 'GPR107', 'GPR108', 'GPR110', 'GPR111', 'GPR113', 'GPR114', 'GPR115', 'GPR115_GPR111', 'GPR116', 'GPR12', 'GPR123', 'GPR124', 'GPR125', 'GPR126', 'GPR128', 'GPR132', 'GPR133', 'GPR135', 'GPR137', 'GPR137B', 'GPR137C', 'GPR139', 'GPR141', 'GPR142', 'GPR143', 'GPR144', 'GPR146', 'GPR149', 'GPR150', 'GPR151', 'GPR153', 'GPR155', 'GPR156', 'GPR157', 'GPR158', 'GPR158_AS1', 'GPR160', 'GPR161', 'GPR162', 'GPR162_LEPREL2', 'GPR17', 'GPR171', 'GPR173', 'GPR176', 'GPR176_RP11_37C7_1', 'GPR179', 'GPR18', 'GPR180', 'GPR182', 'GPR183', 'GPR19', 'GPR20', 'GPR22', 'GPR25', 'GPR26', 'GPR3', 'GPR34', 'GPR35', 'GPR37', 'GPR37L1', 'GPR39', 'GPR45', 'GPR52', 'GPR55', 'GPR56', 'GPR6', 'GPR61', 'GPR63', 'GPR64', 'GPR68', 'GPR75', 'GPR75_ASB3_ASB3', 'GPR75_ASB3_GPR75_ASB3', 'GPR78', 'GPR82', 'GPR83', 'GPR85', 'GPR87', 'GPR88', 'GPR89A', 'GPR89B', 'GPR89C', 'GPR97', 'GPR98', 'GPRC5A', 'GPRC5B', 'GPRC5C', 'GPRC5D', 'GPRC6A', 'GPRIN1', 'GPRIN2', 'GPRIN3', 'GPS1', 'GPS2_RP11_542C16_2', 'GPSM1', 'GPSM2', 'GPSM3', 'GPSM3_NOTCH4', 'GPT', 'GPT2', 'GPX2', 'GPX3', 'GPX4', 'GPX5', 'GPX6', 'GPX7', 'GPX8', 'GRAMD1A', 'GRAMD1B', 'GRAMD1C', 'GRAMD2', 'GRAMD3', 'GRAMD4', 'GRAP', 'GRAP2', 'GRAPL', 'GRASP', 'GRB10', 'GRB14', 'GRB2', 'GRB7', 'GREB1', 'GREB1L', 'GREM1', 'GREM2', 'GRHL1', 'GRHL2', 'GRHL3', 'GRHPR', 'GRIA1', 'GRIA2', 'GRIA2_AC079233_1', 'GRIA3_IL9R_SPRY3_VAMP7_WASH6P_DPH3P2_AJ271736_10', 'GRIA3_IL9R_SPRY3_VAMP7_WASH6P_DPH3P2_AJ271736_10_AL356213_1', 'GRIA4', 'GRIA4_AP000673_1', 'GRID1', 'GRID2', 'GRID2IP', 'GRIK1', 'GRIK1_AS1', 'GRIK2', 'GRIK3', 'GRIK4', 'GRIK4_AP002348_1', 'GRIK5', 'GRIN1', 'GRIN2A', 'GRIN2B', 'GRIN2C', 'GRIN2D', 'GRIN3A', 'GRIN3B', 'GRINA', 'GRIP1', 'GRIP2', 'GRIPAP1', 'GRK1', 'GRK4', 'GRK5', 'GRK6', 'GRK7', 'GRM1', 'GRM2', 'GRM3', 'GRM4', 'GRM5', 'GRM6', 'GRM7', 'GRM8', 'GRN', 'GRP', 'GRPEL1', 'GRPEL2', 'GRPR', 'GRSF1', 'GRTP1', 'GRWD1', 'GRWD1_KCNJ14', 'GRXCR1', 'GRXCR2', 'GS1_124K5_11', 'GS1_124K5_12', 'GS1_18A18_2', 'GS1_204I12_1', 'GS1_279B7_1', 'GSAP', 'GSC', 'GSC2', 'GSDMA', 'GSDMB', 'GSDMC', 'GSDMD', 'GSE1', 'GSG1', 'GSG1L', 'GSK3A', 'GSK3A_AC006486_9', 'GSK3B', 'GSKIP', 'GSN', 'GSN_snoU13', 'GSPT1', 'GSPT1_AC007216_1', 'GSR', 'GSS', 'GSTA1', 'GSTA2', 'GSTA3', 'GSTA4', 'GSTA5', 'GSTCD', 'GSTK1', 'GSTM1', 'GSTM2', 'GSTM3', 'GSTM4', 'GSTM5', 'GSTO1', 'GSTO2', 'GSTP1', 'GSTT1', 'GSTT2', 'GSTT2B', 'GSTTP1', 'GSTTP2', 'GSTZ1', 'GSX1', 'GSX2', 'GTDC1', 'GTF2A1', 'GTF2A2', 'GTF2B', 'GTF2B_Y_RNA', 'GTF2E1', 'GTF2E2', 'GTF2F1', 'GTF2F2', 'GTF2H1', 'GTF2H2', 'GTF2H2B', 'GTF2H2C', 'GTF2H3', 'GTF2H5', 'GTF2I', 'GTF2IP1', 'GTF2IP1_AC138783_13', 'GTF2IRD1', 'GTF2IRD1P1', 'GTF2IRD2', 'GTF2IRD2B', 'GTF2IRD2P1', 'GTF3A', 'GTF3C1', 'GTF3C2', 'GTF3C3', 'GTF3C3_Y_RNA', 'GTF3C4', 'GTF3C5', 'GTF3C6', 'GTPBP1', 'GTPBP10', 'GTPBP2', 'GTPBP3', 'GTPBP4', 'GTPBP6', 'GTPBP8', 'GTSE1', 'GTSF1', 'GUCA1A', 'GUCA1A_RP1_139D8_6', 'GUCA1B', 'GUCA1C', 'GUCA2A', 'GUCA2B', 'GUCD1', 'GUCD1_Y_RNA', 'GUCY1A2', 'GUCY1A3', 'GUCY1B2', 'GUCY1B3', 'GUCY2C', 'GUCY2D', 'GUCY2EP', 'GUCY2F_AMDP1_TRPC6P_TCEB1P24_DDX11L16_WASIR1', 'GUCY2GP', 'GUF1', 'GUK1', 'GULP1', 'GUSB', 'GUSBP1', 'GUSBP11_AP000347_2', 'GUSBP11_AP000347_2_KB_1572G7_2', 'GUSBP11_AP000347_4', 'GUSBP11_KB_1572G7_2', 'GUSBP2', 'GUSBP3', 'GUSBP4', 'GUSBP5', 'GUSBP9', 'GUSBP9_RP11_1198D22_1', 'GVINP1', 'GXYLT1', 'GXYLT2', 'GYG1', 'GYG2', 'GYLTL1B', 'GYPA', 'GYPA_GYPB', 'GYPB', 'GYPC', 'GYPE', 'GYS1', 'GYS2', 'GZF1', 'GZMA', 'GZMB', 'GZMH', 'GZMK', 'GZMM', 'H19', 'H1FOO', 'H1FX_AS1', 'H2AFV', 'H2AFY', 'H2AFY2', 'H2AFZ', 'H2BFS', 'H2BFWT_AMDP1_TRPC6P_TCEB1P24_DDX11L16_WASIR1', 'H3F3A', 'H3F3B', 'H6PD', 'HAAO', 'HABP2', 'HABP4', 'HACE1', 'HACL1', 'HADH', 'HADHA', 'HADHB', 'HAGH', 'HAGHL', 'HAL', 'HAMP', 'HAND1', 'HAND2', 'HAND2_AS1', 'HAO1', 'HAO2', 'HAP1', 'HAPLN1', 'HAPLN2', 'HAPLN3', 'HAPLN4_AC138430_4', 'HAR1A', 'HAR1B', 'HARBI1', 'HARS', 'HARS_DND1', 'HARS2', 'HARS2_snoU13', 'HAS1', 'HAS2', 'HAS2_AS1', 'HAS3', 'HAT1', 'HAUS1', 'HAUS2', 'HAUS3', 'HAUS3_POLN', 'HAUS4', 'HAUS4_RP11_298I3_5', 'HAUS5', 'HAUS6', 'HAUS7_AMDP1_TRPC6P_TCEB1P24_DDX11L16_WASIR1', 'HAUS8', 'HAVCR1', 'HAVCR1P1', 'HAVCR2', 'HAVCR2_MED7', 'HAX1', 'HBA1', 'HBA2', 'HBB', 'HBBP1', 'HBD', 'HBE1', 'HBE1_HBG2_AC104389_28', 'HBEGF', 'HBG1', 'HBG2', 'HBG2_AC015691_13', 'HBG2_AC104389_28', 'HBM', 'HBP1', 'HBQ1', 'HBS1L', 'HBZ', 'HBZ_HBM', 'HCAR1', 'HCAR2', 'HCCAT3', 'HCCAT5', 'HCCS', 'HCFC1_AMDP1_TRPC6P_TCEB1P24_DDX11L16_WASIR1', 'HCFC1R1', 'HCFC2', 'HCG18', 'HCG27', 'HCG9', 'HCK', 'HCLS1', 'HCN1', 'HCN2', 'HCN3', 'HCN4', 'HCP5', 'HCRT', 'HCRTR1', 'HCRTR2', 'HCST', 'HDAC1', 'HDAC10_MAPK12', 'HDAC11', 'HDAC2', 'HDAC3', 'HDAC4', 'HDAC5', 'HDAC6', 'HDAC7', 'HDAC8_AMDP1_TRPC6P_TCEB1P24_DDX11L16_WASIR1', 'HDAC9', 'HDC', 'HDDC2', 'HDDC3', 'HDGF', 'HDGFRP2', 'HDGFRP3', 'HDHD1', 'HDHD2', 'HDHD3', 'HDLBP', 'HDX_AMDP1_TRPC6P_TCEB1P24_DDX11L16_WASIR1', 'HEATR1', 'HEATR2', 'HEATR3', 'HEATR4', 'HEATR5A', 'HEATR5A_RP11_176H8_1', 'HEATR5B', 'HEATR6', 'HEBP1', 'HEBP2', 'HECA', 'HECTD1', 'HECTD1_Y_RNA', 'HECTD2', 'HECTD3', 'HECTD4', 'HECW1', 'HECW1_IT1', 'HECW2', 'HEG1', 'HELB', 'HELLS', 'HELQ', 'HELT', 'HELZ', 'HELZ2', 'HEMGN', 'HEMK1', 'HENMT1', 'HEPACAM', 'HEPACAM2', 'HEPH_IL9R_SPRY3_VAMP7_WASH6P_DPH3P2_AJ271736_10', 'HEPHL1', 'HEPHL1_SNORA25', 'HEPN1', 'HERC1', 'HERC2', 'HERC2P2', 'HERC2P3', 'HERC2P4', 'HERC2P5', 'HERC2P7', 'HERC2P8', 'HERC2P9', 'HERC3', 'HERC4', 'HERC5', 'HERC6', 'HERPUD1', 'HERPUD2', 'HES1', 'HES2', 'HES3', 'HES4', 'HES5', 'HES6', 'HES7', 'HESX1', 'HEXA', 'HEXA_RP11_106M3_2', 'HEXA_AS1', 'HEXB', 'HEXDC', 'HEXIM2', 'HEY1', 'HEY2', 'HEYL', 'HFE', 'HFE2', 'HFM1', 'HGD', 'HGF', 'HGFAC', 'HGS', 'HGSNAT', 'HHAT', 'HHATL', 'HHATL_CCDC13', 'HHEX', 'HHIP', 'HHIP_AS1', 'HHIPL1', 'HHIPL2', 'HHLA1', 'HHLA1_OC90', 'HHLA2', 'HHLA3', 'HIAT1', 'HIATL1', 'HIATL2', 'HIBADH', 'HIBCH', 'HIC1', 'HIC2', 'HID1', 'HIF1A', 'HIF1A_RP11_618G20_1', 'HIF1AN', 'HIF3A', 'HIGD1A', 'HIGD1B', 'HIGD1C', 'HIGD2A', 'HIGD2B', 'HILS1', 'HINFP', 'HINT1', 'HINT2', 'HINT3', 'HIP1', 'HIP1R', 'HIPK1', 'HIPK2', 'HIPK3', 'HIPK4', 'HIRA', 'HIRA_C22orf39', 'HIRIP3', 'HIST1H2AB', 'HIST1H2AC', 'HIST1H2AE', 'HIST1H2AJ', 'HIST1H2AM_HIST1H3J', 'HIST1H2BG', 'HIST1H2BJ', 'HIST1H2BN', 'HIST1H2BO', 'HIST1H3A', 'HIST1H3B', 'HIST1H3D_HIST1H2AD', 'HIST1H3E', 'HIST1H3F', 'HIST1H4F', 'HIST1H4H', 'HIST1H4I', 'HIST2H2BA', 'HIST2H2BF_RP11_196G18_3', 'HIST2H4A', 'HIST2H4B', 'HIST3H3', 'HIST4H4', 'HIVEP1', 'HIVEP2', 'HIVEP3', 'HJURP', 'HK1', 'HK2', 'HK2_snoU13', 'HK3', 'HKDC1', 'HKR1', 'HLA_A', 'HLA_B', 'HLA_C', 'HLA_DMA', 'HLA_DOA', 'HLA_DOB', 'HLA_DOB_TAP2', 'HLA_DPA1', 'HLA_DPB1', 'HLA_DPB2', 'HLA_DQA1', 'HLA_DQA2', 'HLA_DQB1', 'HLA_DQB2', 'HLA_DRA', 'HLA_DRB1', 'HLA_DRB5', 'HLA_DRB6', 'HLA_E', 'HLA_F', 'HLA_F_AS1', 'HLA_F_AS1_MICE', 'HLA_F_AS1_RPL23AP1', 'HLA_G', 'HLA_H', 'HLA_J', 'HLA_K', 'HLA_L', 'HLA_V', 'HLCS', 'HLF', 'HLTF', 'HLX', 'HM13', 'HMBOX1', 'HMBS', 'HMCES', 'HMCN1', 'HMCN2', 'HMCN2_AL354898_1', 'HMCN2_snoU13', 'HMG20A', 'HMG20B', 'HMG20B_snoU13', 'HMGA1', 'HMGA2', 'HMGB1', 'HMGB2', 'HMGB4', 'HMGCL', 'HMGCLL1', 'HMGCR', 'HMGCS1', 'HMGCS2', 'HMGN1', 'HMGN2', 'HMGN2P46', 'HMGN2P46_RP11_519G16_3', 'HMGN3', 'HMGN4', 'HMGN5_AMDP1_TRPC6P_TCEB1P24_DDX11L16_WASIR1', 'HMGXB3', 'HMGXB4', 'HMHA1', 'HMHB1', 'HMMR', 'HMMR_snoU13', 'HMOX1', 'HMOX2', 'HMSD', 'HMX1', 'HMX2', 'HMX3', 'HN1', 'HN1L', 'HN1L_LA16c_431H6_6', 'HNF1A', 'HNF1B', 'HNF4A', 'HNF4G', 'HNMT', 'HNRNPA1', 'HNRNPA1L2', 'HNRNPA1L2_MRPS31P4', 'HNRNPA2B1', 'HNRNPA3', 'HNRNPA3_MIR4444_1', 'HNRNPA3P1', 'HNRNPAB', 'HNRNPC', 'HNRNPCL1', 'HNRNPD', 'HNRNPDL', 'HNRNPF', 'HNRNPH1', 'HNRNPH3', 'HNRNPK', 'HNRNPK_MIR7_1', 'HNRNPKP3', 'HNRNPL', 'HNRNPL_AC104534_3', 'HNRNPLL', 'HNRNPM', 'HNRNPR', 'HNRNPU', 'HNRNPU_HNRNPU_AS1', 'HNRNPU_AS1', 'HNRNPUL1', 'HNRNPUL2_HNRNPUL2_BSCL2', 'HOGA1', 'HOGA1_PI4K2A', 'HOMER1', 'HOMER2', 'HOMER2P1', 'HOMER2P2', 'HOMER3', 'HOMER3_AC002985_3', 'HOMEZ', 'HOOK1', 'HOOK2', 'HOOK3', 'HOPX', 'HORMAD1', 'HORMAD2', 'HOTAIR', 'HOTAIRM1', 'HOXA_AS2', 'HOXA_AS3', 'HOXA10', 'HOXA11', 'HOXA11_AS', 'HOXA13', 'HOXA3', 'HOXA3_RP1_170O19_22_RP1_170O19_23', 'HOXA4', 'HOXA5', 'HOXA7', 'HOXA9_RP1_170O19_20', 'HOXB_AS3', 'HOXB13', 'HOXB2', 'HOXB3', 'HOXB4', 'HOXB4_MIR10A', 'HOXB5', 'HOXB6', 'HOXB6_HOXB3', 'HOXB7', 'HOXB8', 'HOXB9', 'HOXC10_RP11_834C11_12', 'HOXC11', 'HOXC12', 'HOXC13', 'HOXC4', 'HOXC5', 'HOXC6', 'HOXC6_HOXC4_RP11_834C11_14', 'UBB', 'UBBP4', 'UBC', 'UBD', 'UBE2B', 'UBE2C', 'UBE2D1', 'UBE2D2', 'UBE2D3', 'UBE2D4', 'UBE2E1', 'UBE2E2', 'UBE2E3', 'UBE2F', 'UBE2F_UBE2F_SCLY', 'UBE2F_SCLY', 'UBE2G1', 'UBE2G2', 'UBE2H', 'UBE2I', 'UBE2J1', 'UBE2J1_Y_RNA', 'UBE2J2', 'UBE2K', 'UBE2L3', 'UBE2L6', 'UBE2M', 'UBE2MP1', 'UBE2N', 'UBE2O', 'UBE2Q1', 'UBE2Q2', 'UBE2Q2P1', 'UBE2Q2P2', 'UBE2Q2P2_RP13_608F4_8', 'UBE2Q2P3', 'UBE2QL1', 'UBE2R2', 'UBE2S', 'UBE2T', 'UBE2U', 'UBE2V1', 'UBE2V1_TMEM189_TMEM189_UBE2V1', 'UBE2V2', 'UBE2W', 'UBE2W_RP11_463D19_2', 'UBE2Z', 'UBE3A', 'UBE3B', 'UBE3C', 'UBE3D', 'UBE4A', 'UBE4B', 'UBFD1', 'UBIAD1', 'UBL3', 'UBL4A_AMDP1_TRPC6P_TCEB1P24_DDX11L16_WASIR1', 'UBL5', 'UBL7', 'UBL7_AS1', 'UBLCP1', 'UBN1', 'UBN1_snoU13', 'UBN2', 'UBOX5', 'UBOX5_AS1', 'UBP1', 'UBQLN1', 'UBQLN3', 'UBQLN4', 'UBR1', 'UBR2', 'UBR3', 'UBR4', 'UBR4_RP5_1126H10_2', 'UBR5', 'UBR7', 'UBR7_RP11_371E8_4', 'UBTD1', 'UBTD2', 'UBTF', 'UBXN1', 'UBXN10', 'UBXN11', 'UBXN2A', 'UBXN2B', 'UBXN4', 'UBXN6', 'UBXN7', 'UBXN7_AS1', 'UBXN8', 'UCA1', 'UCHL1', 'UCHL3', 'UCHL3_RP11_29G8_3', 'UCHL5', 'UCK1', 'UCK2', 'UCKL1', 'UCMA', 'UCN', 'UCN2', 'UCN3', 'UCP1', 'UCP2', 'UCP3', 'UEVLD', 'UFC1', 'UFD1L', 'UFL1', 'UFM1', 'UFSP2', 'UGCG', 'UGDH', 'UGDH_AS1', 'UGGT1', 'UGGT1_snoU13', 'UGGT2', 'UGP2', 'UGT1A1', 'UGT1A1_UGT1A5', 'UGT1A10', 'UGT1A2P', 'UGT1A4', 'UGT1A6', 'UGT1A6_UGT1A1_UGT1A3', 'UGT1A6_UGT1A10_UGT1A1_UGT1A4', 'UGT1A6_UGT1A7', 'UGT1A7', 'UGT1A8_UGT1A1', 'UGT1A8_UGT1A6_UGT1A9_UGT1A10_UGT1A1_UGT1A4_UGT1A7_UGT1A3_UGT1A5', 'UGT1A9_UGT1A1', 'UGT2A1', 'UGT2A1_UGT2A2', 'UGT2A3', 'UGT2B10', 'UGT2B11', 'UGT2B15', 'UGT2B28', 'UGT2B4', 'UGT2B7', 'UGT3A1', 'UGT3A2', 'UGT8', 'UHMK1', 'UHRF1', 'UHRF1BP1', 'UHRF1BP1L', 'UHRF2', 'UIMC1', 'ULBP1', 'ULBP2', 'ULBP3', 'ULK1', 'ULK2', 'ULK3', 'ULK4', 'ULK4P1_RP13_395E19_3', 'ULK4P2', 'ULK4P3', 'UMOD', 'UMODL1', 'UMPS', 'UNC119', 'UNC119B', 'UNC13A', 'UNC13B', 'UNC13C', 'UNC13D', 'UNC45A', 'UNC45B', 'UNC50', 'UNC5A', 'UNC5B', 'UNC5C', 'UNC5CL', 'UNC5CL_OARD1', 'UNC5D', 'UNC79', 'UNC80', 'UNC93A', 'UNC93B1', 'UNCX', 'UNG', 'UNK', 'UNKL', 'UOX', 'UPB1', 'UPF1', 'UPF2', 'UPF3A', 'UPF3B_AMDP1_TRPC6P_TCEB1P24_DDX11L16_WASIR1', 'UPK1A', 'UPK1A_AS1', 'UPK1B', 'UPK1B_RP11_484M3_5', 'UPK2', 'UPK3A', 'UPK3B', 'UPK3B_DTX2P1_DTX2P1_UPK3BP1_PMS2P11', 'UPK3BL_POLR2J2_RP11_514P8_6', 'UPK3BL_RP11_514P8_6', 'UPP1', 'UPP2', 'UQCC1', 'UQCC2', 'UQCC2_SBP1', 'UQCR10', 'UQCR11', 'UQCRB', 'UQCRBP1', 'UQCRC1', 'UQCRC2', 'UQCRFS1', 'UQCRH', 'UQCRQ', 'URAD', 'URAHP', 'URB1', 'URB2', 'URGCP', 'URGCP_URGCP_MRPS24', 'URI1', 'URM1', 'UROC1', 'UROD', 'UROS', 'USB1', 'USE1', 'USF1', 'USF2', 'USH1C', 'USH1G', 'USH2A', 'USHBP1', 'USHBP1_AC010646_3', 'USMG5', 'USO1', 'USP1', 'USP10', 'USP11', 'USP12', 'USP13', 'USP14', 'USP15', 'USP16', 'USP17L2', 'USP18', 'USP19', 'USP2', 'USP2_AS1', 'USP20', 'USP21', 'USP22', 'USP24', 'USP25', 'USP26_AMDP1_TRPC6P_TCEB1P24_DDX11L16_WASIR1', 'USP27X_AS1', 'USP28', 'USP29', 'USP3', 'USP3_AS1', 'USP30', 'USP31', 'USP32', 'USP32P1', 'USP32P2_FAM106A', 'USP32P3', 'USP33', 'USP34', 'USP35', 'USP36', 'USP37', 'USP38', 'USP39', 'USP4', 'USP4_C3orf62', 'USP40', 'USP41', 'USP42', 'USP43', 'USP44', 'USP45', 'USP46', 'USP47', 'USP48', 'USP49', 'USP5', 'USP50', 'USP51', 'USP53', 'USP54', 'USP54_Y_RNA', 'USP6', 'USP6NL', 'USP7', 'USP8', 'USP9X', 'USP9Y', 'USPL1', 'UST', 'UTF1', 'UTP11L', 'UTP14A_IL9R_SPRY3_VAMP7_WASH6P_DPH3P2_AJ271736_10', 'UTP15', 'UTP18', 'UTP18_snoU13', 'UTP20', 'UTP20_snoU13', 'UTP23', 'UTP6', 'UTRN', 'UTS2', 'UTS2B', 'UTY', 'UVRAG', 'UVSSA', 'UXS1', 'UXT', 'VAC14', 'VAC14_AS1', 'VAMP1', 'VAMP2', 'VAMP2_RP11_599B13_6', 'VAMP3', 'VAMP4', 'VAMP5', 'VAMP8', 'VANGL1', 'VANGL2', 'VAPA', 'VAPB', 'VARS', 'VARS2', 'VARS2_GTF2H4', 'VASH1', 'VASH1_RP11_488C13_7', 'VASH2', 'VASN', 'VASP', 'VAT1', 'VAT1L', 'VAV1', 'VAV2', 'VAV3', 'VAX1', 'VAX2', 'VCAM1', 'VCAN', 'VCL', 'VCP', 'VCPIP1', 'VCPKMT', 'VCX', 'VCX2', 'VCX3A', 'VCX3B', 'VCY', 'VDAC1', 'VDAC2', 'VDAC3', 'VDR', 'VEGFA', 'VEGFB', 'VEGFC', 'VENTX', 'VEPH1', 'VEZF1', 'VEZT', 'VGF', 'VGLL1_IL9R_SPRY3_VAMP7_WASH6P_DPH3P2_AJ271736_10', 'VGLL2', 'VGLL3', 'VGLL4', 'VGLL4_AC090939_1', 'VHL', 'VIL1', 'VILL', 'VIM', 'VIM_AS1', 'VIMP', 'VIP', 'VIPAS39', 'VIPR1', 'VIPR2', 'VIT', 'VKORC1', 'VKORC1_RP11_196G11_1', 'VKORC1L1', 'VLDLR', 'VMAC_AC104532_2', 'VMO1', 'VMP1', 'VN1R2', 'VN1R3', 'VN1R5', 'VNN1', 'VNN2', 'VNN3', 'VOPP1', 'VPRBP', 'VPREB1', 'VPREB3', 'VPS11', 'VPS13A', 'VPS13B', 'VPS13C', 'VPS13D', 'VPS16', 'VPS18', 'VPS25', 'VPS26A', 'VPS26B', 'VPS28', 'VPS29', 'VPS33A', 'VPS33A_RP11_512M8_5', 'VPS33B', 'VPS35', 'VPS36', 'VPS37A', 'VPS37B', 'VPS37C', 'VPS37D', 'VPS39', 'VPS41', 'VPS41_Y_RNA', 'VPS45', 'VPS4A', 'VPS4A_RP11_343C2_11', 'VPS4B', 'VPS51', 'VPS52', 'VPS53', 'VPS54', 'VPS72', 'VPS72_TMOD4', 'VPS8', 'VPS9D1', 'VPS9D1_AS1', 'VRK1', 'VRK2', 'VRK3', 'VRTN', 'VSIG10', 'VSIG10L', 'VSIG2', 'VSIG2_ESAM', 'VSIG4_AMDP1_TRPC6P_TCEB1P24_DDX11L16_WASIR1', 'VSIG8', 'VSIG8_RP11_190A12_7', 'VSNL1', 'VSTM1', 'VSTM2A', 'VSTM2B', 'VSTM2L', 'VSTM4', 'VSTM5', 'VSX1', 'VSX2', 'VTA1', 'VTCN1', 'VTI1A', 'VTI1B', 'VTI1B_RP11_1012A1_4', 'VTN', 'VTN_CTB_96E2_2', 'VTRNA1_1', 'VTRNA1_2', 'VTRNA1_3', 'VWA1', 'VWA2', 'VWA3A', 'VWA3B', 'VWA5A', 'VWA5B1', 'VWA5B2', 'VWA7', 'VWA8', 'VWA9', 'VWC2', 'VWC2L', 'VWCE', 'VWDE', 'VWF', 'WAC', 'WAC_AS1', 'WAPAL', 'WARS', 'WARS2', 'WAS', 'WASF1', 'WASF2', 'WASF3', 'WASH2P', 'WASH3P', 'WASH4P', 'WASH4P_Z84812_4', 'WASH5P', 'WASH6P_AJ271736_10', 'WASH7P', 'WASL', 'WBP1_INO80B', 'WBP11', 'WBP1L', 'WBP2', 'WBP2NL', 'WBP4', 'WBSCR16', 'WBSCR17', 'WBSCR22', 'WBSCR27', 'WBSCR28', 'WDFY1', 'WDFY2', 'WDFY3', 'WDFY3_AS2', 'WDFY4', 'WDHD1', 'WDPCP', 'WDR1', 'WDR11', 'WDR11_AS1', 'WDR12', 'WDR13', 'WDR16', 'WDR17', 'WDR18', 'WDR19', 'WDR20', 'WDR24', 'WDR25', 'WDR26', 'WDR27', 'WDR3', 'WDR31', 'WDR33', 'WDR34', 'WDR35', 'WDR36', 'WDR37', 'WDR38', 'WDR4', 'WDR41', 'WDR43', 'WDR45', 'WDR45_AF196779_12', 'WDR45B', 'WDR46', 'WDR47', 'WDR48', 'WDR49', 'WDR5', 'WDR52', 'WDR53', 'WDR54', 'WDR55', 'WDR59', 'WDR5B', 'WDR6', 'WDR60', 'WDR61', 'WDR62', 'WDR63', 'WDR64', 'WDR65', 'WDR66', 'WDR66_RP11_87C12_2', 'WDR7', 'WDR7_WDR7_UT1', 'WDR70', 'WDR72', 'WDR73', 'WDR74', 'WDR74_RNU2_2P', 'WDR75', 'WDR76', 'WDR77', 'WDR78', 'WDR81', 'WDR82', 'WDR83', 'WDR83OS', 'WDR83OS_CTD_2192J16_24', 'WDR86', 'WDR86_AS1', 'WDR87', 'WDR88', 'WDR89', 'WDR90', 'WDR91', 'WDR92', 'WDR92_RP11_474G23_1', 'WDR93', 'WDR96', 'WDSUB1', 'WDTC1', 'WDYHV1', 'WEE1', 'WEE2', 'WEE2_AS1', 'WFDC1', 'WFDC10A', 'WFDC10B', 'WFDC11', 'WFDC12', 'WFDC13', 'WFDC2', 'WFDC3', 'WFDC5', 'WFDC6', 'WFDC6_EPPIN_EPPIN_WFDC6', 'WFDC8', 'WFDC9', 'WFIKKN1_RAB40C', 'WFIKKN2', 'WFS1', 'WHAMM', 'WHAMMP2', 'WHAMMP3', 'WHSC1', 'WHSC1L1', 'WI2_1896O14_1', 'WI2_3658N16_1', 'WI2_81516E3_1', 'WIBG', 'WIF1', 'WIPF1', 'WIPF2', 'WIPF3', 'WIPI1', 'WIPI2', 'WISP1', 'WISP2', 'WISP3', 'WIZ', 'WLS', 'WNK1', 'WNK2', 'WNK3', 'WNK4', 'WNT1', 'WNT10A', 'WNT10B', 'WNT11', 'WNT16', 'WNT2', 'WNT2B', 'WNT3', 'WNT3A', 'WNT4', 'WNT5A', 'WNT5B', 'WNT6', 'WNT7A', 'WNT7B', 'WNT7B_CR536603_1', 'WNT8A', 'WNT8B', 'WNT9A', 'WNT9B', 'WRAP53', 'WRAP73', 'WRB', 'WRN', 'WRNIP1', 'WSB1', 'WSB2', 'WSCD1', 'WSCD2', 'WT1', 'WT1_AS', 'WTAP', 'WTAPP1', 'WTIP', 'WWC1', 'WWC2', 'WWC2_AS1', 'WWC2_AS2', 'WWC3', 'WWOX', 'WWP1', 'WWP2', 'WWTR1', 'WWTR1_AS1', 'XAB2', 'XAF1', 'XAGE1A', 'XAGE1B', 'XAGE1C', 'XAGE1D', 'XAGE1E', 'XAGE2', 'XAGE2B', 'XAGE3', 'XAGE5', 'XBP1', 'XCL1', 'XCL2', 'XCR1', 'XDH', 'XG', 'XIRP2', 'XK', 'XKR3', 'XKR4', 'XKR5', 'XKR6', 'XKR7', 'XKR8', 'XKR9', 'XKRX_AMDP1_TRPC6P_TCEB1P24_DDX11L16_WASIR1', 'XPA', 'XPC', 'XPC_Y_RNA', 'XPNPEP1', 'XPNPEP1_U4', 'XPNPEP2_IL9R_SPRY3_VAMP7_WASH6P_DPH3P2_AJ271736_10', 'XPNPEP3', 'XPO1', 'XPO4', 'XPO5', 'XPO6', 'XPO7', 'XPOT', 'XPR1', 'XRCC1', 'XRCC1_L34079_2', 'XRCC2', 'XRCC3', 'XRCC4', 'XRCC5', 'XRCC6', 'XRCC6BP1', 'XRCC6P5_AMDP1_TRPC6P_TCEB1P24_DDX11L16_WASIR1', 'XRN1', 'XRN2', 'XRRA1', 'XX_C2158C12_1', 'XX_FW84067D5_1', 'XX_FW84067D5_2', 'XXYLT1', 'XXbac_B135H6_15', 'XXbac_B33L19_3', 'XXbac_B444P24_10', 'XXbac_B444P24_8', 'XXbac_B476C20_17', 'XXbac_BPG154L12_4', 'XXbac_BPG181M17_5_HLA_DMA', 'XXbac_BPG308K3_6', 'XXbac_BPG32J3_20_ABHD16A', 'XXyac_YRM2039_2', 'XXyac_YX155B6_6', 'XYLB', 'XYLT1', 'XYLT2', 'YAE1D1', 'YAE1D1_AC004837_3', 'YAF2', 'YAP1', 'YARS', 'YARS2', 'YBEY', 'YBX1', 'YBX2', 'YBX3', 'YBX3P1', 'YDJC', 'YEATS2', 'YEATS2_AS1', 'YEATS4', 'YES1', 'YIF1A', 'YIF1B', 'YIPF1', 'YIPF2', 'YIPF3', 'YIPF4', 'YIPF5', 'YIPF7', 'YJEFN3', 'YJEFN3_CTC_260F20_3', 'YKT6', 'YLPM1', 'YME1L1', 'YOD1', 'YPEL1', 'YPEL2', 'YPEL3', 'YPEL4', 'YPEL5', 'YRDC', 'YTHDC1', 'YTHDC2', 'YTHDF1', 'YTHDF2', 'YTHDF3', 'YWHAB', 'YWHAE', 'YWHAG', 'YWHAH', 'YWHAQ', 'YWHAZ', 'YY1', 'YY1AP1', 'Y_RNA', 'Y_RNA_AC079602_1_HNF1A_AS1', 'Y_RNA_AC145676_2', 'Y_RNA_AMDP1_NKAPP1_TRPC6P_TCEB1P24_DDX11L16_WASIR1', 'Y_RNA_C17orf58', 'Y_RNA_C6orf47', 'Y_RNA_CDKL4', 'Y_RNA_CHD5', 'Y_RNA_CHRDL2', 'Y_RNA_CYP4A11', 'Y_RNA_DPF3', 'Y_RNA_FAM86FP', 'Y_RNA_GLI3', 'Y_RNA_GOLGA6A', 'Y_RNA_KIAA0040', 'Y_RNA_LINC00211', 'Y_RNA_LUCAT1_RP11_213H15_4', 'Y_RNA_PRAMEF11', 'Y_RNA_RGPD6', 'Y_RNA_ROGDI', 'Y_RNA_RTL1', 'Y_RNA_SNHG5', 'Y_RNA_TAP1', 'Y_RNA_TMEM229B', 'Y_RNA_VPS52', 'Y_RNA_ZNF461', 'Z83844_1', 'Z83851_1', 'Z83851_3', 'Z95704_2_ZNF595', 'Z97634_3', 'Z99756_1', 'ZACN', 'ZADH2', 'ZAN', 'ZAP70', 'ZAR1', 'ZAR1L', 'ZBBX', 'ZBED1_DHRSX', 'ZBED3', 'ZBED3_AS1', 'ZBED4', 'ZBED5', 'ZBED5_AS1', 'ZBP1', 'ZBTB1', 'ZBTB10', 'ZBTB11', 'ZBTB11_SNORD112', 'ZBTB12', 'ZBTB14', 'ZBTB16', 'ZBTB17', 'ZBTB18', 'ZBTB2', 'ZBTB20', 'ZBTB20_AS1', 'ZBTB21', 'ZBTB22', 'ZBTB24', 'ZBTB24_MICAL1', 'ZBTB25', 'ZBTB26', 'ZBTB3', 'ZBTB32', 'ZBTB34', 'ZBTB37', 'ZBTB38', 'ZBTB4', 'ZBTB40', 'ZBTB41', 'ZBTB42', 'ZBTB43', 'ZBTB44', 'ZBTB45', 'ZBTB46', 'ZBTB47', 'ZBTB48', 'ZBTB49', 'ZBTB5', 'ZBTB6', 'ZBTB7A', 'ZBTB7B', 'ZBTB7C', 'ZBTB8A', 'ZBTB8A_RP1_27O5_3', 'ZBTB8OS', 'ZBTB9', 'ZC2HC1A', 'ZC2HC1B', 'ZC2HC1C', 'ZC3H10', 'ZC3H11A', 'ZC3H11A_ZBED6', 'ZC3H12A', 'ZC3H12B_IL9R_SPRY3_VAMP7_WASH6P_DPH3P2_AJ271736_10', 'ZC3H12C', 'ZC3H12D', 'ZC3H13', 'ZC3H14', 'ZC3H15', 'ZC3H18', 'ZC3H18_snoU13', 'ZC3H3', 'ZC3H4', 'ZC3H6', 'ZC3H6_AC115115_2', 'ZC3H7A', 'ZC3H7B', 'ZC3H8', 'ZC3HAV1', 'ZC3HAV1L', 'ZC3HC1', 'ZC4H2_AMDP1_TRPC6P_TCEB1P24_DDX11L16_WASIR1', 'ZCCHC10', 'ZCCHC11', 'ZCCHC14', 'ZCCHC17', 'ZCCHC2', 'ZCCHC24', 'ZCCHC4', 'ZCCHC5_AMDP1_TRPC6P_TCEB1P24_DDX11L16_WASIR1', 'ZCCHC6', 'ZCCHC7', 'ZCCHC8', 'ZCCHC9', 'ZCRB1', 'ZCWPW1', 'ZCWPW2', 'ZDBF2', 'ZDHHC1', 'ZDHHC11', 'ZDHHC11_BRD9', 'ZDHHC12', 'ZDHHC13', 'ZDHHC14', 'ZDHHC15_AMDP1_TRPC6P_TCEB1P24_DDX11L16_WASIR1', 'ZDHHC16', 'ZDHHC17', 'ZDHHC18', 'ZDHHC19', 'ZDHHC2', 'ZDHHC20', 'ZDHHC21', 'ZDHHC22', 'ZDHHC23', 'ZDHHC24', 'ZDHHC3', 'ZDHHC4', 'ZDHHC5', 'ZDHHC6', 'ZDHHC7', 'ZDHHC8', 'ZDHHC8P1', 'ZDHHC9_AMDP1_TRPC6P_TCEB1P24_DDX11L16_WASIR1', 'ZEB1', 'ZEB2', 'ZEB2_AC009951_1', 'ZER1', 'ZFAND1', 'ZFAND2A', 'ZFAND2B', 'ZFAND3', 'ZFAND4', 'ZFAND5', 'ZFAND6', 'ZFAS1', 'ZFAT', 'ZFAT_AS1', 'ZFC3H1', 'ZFHX2', 'ZFHX2_Y_RNA', 'ZFHX3', 'ZFHX4', 'ZFHX4_AS1', 'ZFP1', 'ZFP14', 'ZFP2', 'ZFP28', 'ZFP3', 'ZFP30', 'ZFP30_ZNF781', 'ZFP30_ZNF781_CTD_2528L19_4', 'ZFP36', 'ZFP36L2', 'ZFP37', 'ZFP41', 'ZFP42', 'ZFP57', 'ZFP62', 'ZFP64', 'ZFP69', 'ZFP69B', 'ZFP82', 'ZFP90', 'ZFP91_ZFP91_CNTF', 'ZFP91_CNTF_CNTF', 'ZFPL1', 'ZFPM1', 'ZFPM2', 'ZFPM2_RP11_127H5_1', 'ZFR', 'ZFR2', 'ZFX', 'ZFY', 'ZFYVE1', 'ZFYVE16', 'ZFYVE19', 'ZFYVE20', 'ZFYVE21', 'ZFYVE26', 'ZFYVE27', 'ZFYVE28', 'ZFYVE9', 'ZG16', 'ZG16B', 'ZGPAT', 'ZGPAT_RP4_583P15_15', 'ZHX1', 'ZHX1_ZHX1_C8ORF76', 'ZHX2', 'ZHX3', 'ZIC1', 'ZIC2', 'ZIC4', 'ZIC5', 'ZIK1', 'ZIM2', 'ZIM2_PEG3', 'ZIM3', 'ZKSCAN1', 'ZKSCAN2', 'ZKSCAN3', 'ZKSCAN4', 'ZKSCAN5', 'ZKSCAN7', 'ZKSCAN7_RP11_944L7_5', 'ZKSCAN8', 'ZMAT1_AMDP1_TRPC6P_TCEB1P24_DDX11L16_WASIR1', 'ZMAT2', 'ZMAT3', 'ZMAT4', 'ZMAT5', 'ZMIZ1', 'ZMIZ1_AS1', 'ZMIZ2', 'ZMPSTE24', 'ZMYM1', 'ZMYM2', 'ZMYM3_AMDP1_TRPC6P_TCEB1P24_DDX11L16_WASIR1', 'ZMYM4', 'ZMYM5', 'ZMYM6', 'ZMYM6_ZMYM6NB', 'ZMYND10', 'ZMYND11', 'ZMYND12', 'ZMYND15', 'ZMYND15_snoU13', 'ZMYND19', 'ZMYND8', 'ZNF10_ZNF268_CTD_2140B24_4', 'ZNF100', 'ZNF101', 'ZNF106', 'ZNF107', 'ZNF112', 'ZNF112_CTC_512J12_6', 'ZNF114', 'ZNF117', 'ZNF12', 'ZNF121', 'ZNF124', 'ZNF131', 'ZNF132', 'ZNF133', 'ZNF134', 'ZNF135', 'ZNF136', 'ZNF137P', 'ZNF138', 'ZNF14', 'ZNF140', 'ZNF141', 'ZNF142', 'ZNF143', 'ZNF146', 'ZNF148', 'ZNF148_SLC12A8', 'ZNF154', 'ZNF155', 'ZNF157', 'ZNF16', 'ZNF160', 'ZNF165', 'ZNF169', 'ZNF17_AC003002_6', 'ZNF174', 'ZNF175', 'ZNF177', 'ZNF177_ZNF559', 'ZNF18', 'ZNF18_RP11_1096G20_5', 'ZNF180', 'ZNF181', 'ZNF182', 'ZNF184', 'ZNF189', 'ZNF19', 'ZNF19_AC010547_9', 'ZNF195', 'ZNF195_AC123788_1', 'ZNF197', 'ZNF2', 'ZNF20', 'ZNF20_ZNF625_ZNF20', 'ZNF200', 'ZNF202', 'ZNF204P', 'ZNF205', 'ZNF205_AS1', 'ZNF207', 'ZNF207_RP11_227G15_3', 'ZNF208', 'ZNF211', 'ZNF212', 'ZNF213', 'ZNF214', 'ZNF215', 'ZNF217', 'ZNF219', 'ZNF22', 'ZNF221', 'ZNF222', 'ZNF223', 'ZNF223_ZNF222', 'ZNF223_ZNF284', 'ZNF224', 'ZNF225', 'ZNF226', 'ZNF227', 'ZNF229', 'ZNF229_CTC_512J12_4', 'ZNF23_AC010547_9', 'ZNF230', 'ZNF232', 'ZNF233', 'ZNF234', 'ZNF235', 'ZNF236', 'ZNF239', 'ZNF24', 'ZNF248', 'ZNF25', 'ZNF250', 'ZNF250_COMMD5', 'ZNF251', 'ZNF252P', 'ZNF253', 'ZNF254', 'ZNF254_CTD_2017D11_1', 'ZNF256', 'ZNF257', 'ZNF259', 'ZNF26', 'ZNF260', 'ZNF263', 'ZNF264', 'ZNF266', 'ZNF267', 'ZNF268', 'ZNF268_CTD_2140B24_4', 'ZNF271', 'ZNF273', 'ZNF274', 'ZNF276', 'ZNF277', 'ZNF28', 'ZNF280A', 'ZNF280B', 'ZNF280C_AMDP1_TRPC6P_TCEB1P24_DDX11L16_WASIR1', 'ZNF280D', 'ZNF281', 'ZNF282', 'ZNF283', 'ZNF284', 'ZNF285', 'ZNF285_CTC_512J12_4', 'ZNF285_CTC_512J12_4_CTC_512J12_6', 'ZNF285_CTC_512J12_6', 'ZNF286A', 'ZNF286A_TBC1D26', 'ZNF286B', 'ZNF287', 'ZNF292', 'ZNF295_AS1', 'ZNF296', 'ZNF3', 'ZNF30', 'ZNF300', 'ZNF300P1', 'ZNF302', 'ZNF304', 'ZNF311', 'ZNF317', 'ZNF318', 'ZNF319', 'ZNF32', 'ZNF32_AS3', 'ZNF320', 'ZNF320_SNORD38', 'ZNF322', 'ZNF324', 'ZNF324B', 'ZNF326', 'ZNF329', 'ZNF330', 'ZNF331', 'ZNF333', 'ZNF334', 'ZNF335', 'ZNF337', 'ZNF33A', 'ZNF33B', 'ZNF34', 'ZNF341', 'ZNF343', 'ZNF343_RP4_734P14_4', 'ZNF345', 'ZNF346', 'ZNF347', 'ZNF35', 'ZNF350', 'ZNF354A', 'ZNF354B', 'ZNF354C', 'ZNF358', 'ZNF358_CTD_2207O23_12', 'ZNF362', 'ZNF362_AL513327_1', 'ZNF365', 'ZNF366', 'ZNF367', 'ZNF37A', 'ZNF37BP', 'ZNF382', 'ZNF383', 'ZNF384', 'ZNF385A', 'ZNF385B', 'ZNF385C', 'ZNF385D', 'ZNF391', 'ZNF394', 'ZNF395', 'ZNF396', 'ZNF397', 'ZNF398', 'ZNF404', 'ZNF404_RP11_15A1_3', 'ZNF407', 'ZNF408', 'ZNF41', 'ZNF410', 'ZNF410_RP5_1021I20_4', 'ZNF414', 'ZNF415', 'ZNF416', 'ZNF417', 'ZNF417_CTD_2583A14_9', 'ZNF418', 'ZNF419', 'ZNF419_AC003005_4', 'ZNF420', 'ZNF423', 'ZNF425', 'ZNF426', 'ZNF428', 'ZNF429', 'ZNF429_LINC00664', 'ZNF43', 'ZNF430', 'ZNF431', 'ZNF432', 'ZNF432_ZNF841', 'ZNF433', 'ZNF433_CTD_2006C1_10', 'ZNF436', 'ZNF438', 'ZNF439', 'ZNF44', 'ZNF440', 'ZNF441', 'ZNF442', 'ZNF443', 'ZNF443_CTD_3105H18_16', 'ZNF443_CTD_3105H18_18', 'ZNF444', 'ZNF445', 'ZNF446', 'ZNF45', 'ZNF451', 'ZNF454', 'ZNF460', 'ZNF461', 'ZNF462', 'ZNF462_RP11_508N12_4', 'ZNF467', 'ZNF468', 'ZNF468_ZNF28', 'ZNF469', 'ZNF470', 'ZNF471', 'ZNF473', 'ZNF474', 'ZNF479', 'ZNF480', 'ZNF483', 'ZNF484', 'ZNF485', 'ZNF486', 'ZNF487', 'ZNF488', 'ZNF490', 'ZNF490_CTD_2192J16_20', 'ZNF491', 'ZNF492', 'ZNF493', 'ZNF493_CTD_2561J22_3', 'ZNF496', 'ZNF497_CTD_2619J13_8', 'ZNF500', 'ZNF500_RP11_127I20_7', 'ZNF501', 'ZNF502', 'ZNF503_RP11_399K21_11', 'ZNF503_AS1', 'ZNF503_AS2', 'ZNF506', 'ZNF506_CTC_559E9_4', 'ZNF507', 'ZNF510', 'ZNF511', 'ZNF512', 'ZNF512_GPN1_RP11_158I13_2', 'ZNF512_RP11_158I13_2', 'ZNF512B', 'ZNF513', 'ZNF514', 'ZNF516', 'ZNF517', 'ZNF518A', 'ZNF518B', 'ZNF519', 'ZNF521', 'ZNF524', 'ZNF525', 'ZNF526', 'ZNF527', 'ZNF528', 'ZNF529', 'ZNF530', 'ZNF532', 'ZNF534', 'ZNF536', 'ZNF540', 'ZNF541', 'ZNF542', 'ZNF543', 'ZNF544', 'ZNF544_CTD_3138B18_4', 'ZNF546', 'ZNF547_AC003002_4', 'ZNF547_TRAPPC2P1_AC003002_4', 'ZNF548_AC003002_6', 'ZNF548_AC003002_6_AC004076_7', 'ZNF549', 'ZNF550', 'ZNF551', 'ZNF551_AC003006_7', 'ZNF552', 'ZNF554', 'ZNF555', 'ZNF556', 'ZNF557', 'ZNF558', 'ZNF560', 'ZNF561', 'ZNF562', 'ZNF563', 'ZNF564_CTD_2192J16_20', 'ZNF564_ZNF709', 'ZNF565', 'ZNF566', 'ZNF567', 'ZNF568', 'ZNF569', 'ZNF57', 'ZNF570', 'ZNF571', 'ZNF571_AS1', 'ZNF572', 'ZNF573', 'ZNF574', 'ZNF575', 'ZNF576', 'ZNF576_SRRM5', 'ZNF577', 'ZNF578', 'ZNF579', 'ZNF581', 'ZNF581_CCDC106_ZNF580', 'ZNF582', 'ZNF583', 'ZNF584', 'ZNF585A', 'ZNF585A_CTC_454I21_3', 'ZNF585B_CTC_454I21_3', 'ZNF586', 'ZNF587_ZNF587B_CTD_2583A14_10', 'ZNF587B', 'ZNF587B_CTD_2583A14_10', 'ZNF589', 'ZNF592', 'ZNF593', 'ZNF594', 'ZNF595', 'ZNF596', 'ZNF597', 'ZNF598', 'ZNF599', 'ZNF600', 'ZNF605', 'ZNF606', 'ZNF607', 'ZNF607_CTD_2528L19_4', 'ZNF608', 'ZNF609', 'ZNF610', 'ZNF611', 'ZNF613', 'ZNF614', 'ZNF615', 'ZNF616', 'ZNF616_CTC_471J1_8', 'ZNF618', 'ZNF619', 'ZNF620', 'ZNF621', 'ZNF622', 'ZNF623', 'ZNF624', 'ZNF625_ZNF20_ZNF625_ZNF20', 'ZNF625_ZNF625_ZNF20', 'ZNF625_ZNF625_ZNF20_CTC_359D24_3', 'ZNF626', 'ZNF626_CTC_513N18_7', 'ZNF627', 'ZNF628', 'ZNF629', 'ZNF629_Y_RNA', 'ZNF630', 'ZNF630_ZNF182', 'ZNF638', 'ZNF639', 'ZNF641', 'ZNF644', 'ZNF646', 'ZNF648', 'ZNF649', 'ZNF649_ZNF577', 'ZNF652', 'ZNF653', 'ZNF653_CTC_398G3_6', 'ZNF654', 'ZNF655', 'ZNF655_GS1_259H13_10', 'ZNF658', 'ZNF658B', 'ZNF66', 'ZNF660_RP11_944L7_5', 'ZNF660_ZNF197', 'ZNF662', 'ZNF662_KRBOX1_RP11_141M3_5', 'ZNF664', 'ZNF665', 'ZNF667', 'ZNF668', 'ZNF669', 'ZNF670', 'ZNF670_ZNF695', 'ZNF671', 'ZNF672', 'ZNF674', 'ZNF675', 'ZNF676', 'ZNF677', 'ZNF678', 'ZNF679', 'ZNF680', 'ZNF681', 'ZNF682', 'ZNF683', 'ZNF684', 'ZNF687', 'ZNF688', 'ZNF689', 'ZNF69', 'ZNF691', 'ZNF692', 'ZNF696', 'ZNF697', 'ZNF699', 'ZNF7', 'ZNF70', 'ZNF700', 'ZNF701', 'ZNF702P', 'ZNF702P_CTD_2620I22_1', 'ZNF703', 'ZNF704', 'ZNF705A', 'ZNF705A_FAM66C', 'ZNF705B', 'ZNF705C', 'ZNF705D', 'ZNF706', 'ZNF707', 'ZNF708', 'ZNF709_CTD_3105H18_18', 'ZNF71', 'ZNF710', 'ZNF713', 'ZNF714', 'ZNF716', 'ZNF717', 'ZNF718', 'ZNF720', 'ZNF721', 'ZNF721_ABCA11P', 'ZNF724P', 'ZNF726', 'ZNF728', 'ZNF730', 'ZNF732', 'ZNF733P', 'ZNF736', 'ZNF737', 'ZNF737_CTC_513N18_7', 'ZNF738', 'ZNF74', 'ZNF740', 'ZNF746', 'ZNF747', 'ZNF749', 'ZNF750', 'ZNF75A', 'ZNF75A_LA16c_360H6_2', 'ZNF75D_AMDP1_TRPC6P_TCEB1P24_DDX11L16_WASIR1', 'ZNF76', 'ZNF761', 'ZNF763', 'ZNF763_ZNF700', 'ZNF764', 'ZNF765', 'ZNF766', 'ZNF767', 'ZNF768', 'ZNF77', 'ZNF770', 'ZNF771', 'ZNF772', 'ZNF772_AC004076_9', 'ZNF773', 'ZNF773_AC003005_4', 'ZNF774', 'ZNF775', 'ZNF775_REPIN1', 'ZNF776', 'ZNF776_AC003006_7', 'ZNF777', 'ZNF778', 'ZNF780A', 'ZNF780A_AC005614_5', 'ZNF780B', 'ZNF780B_AC005614_5', 'ZNF781', 'ZNF782', 'ZNF783', 'ZNF783_RP4_800G7_2', 'ZNF784', 'ZNF785', 'ZNF786', 'ZNF787', 'ZNF788', 'ZNF789', 'ZNF79', 'ZNF790', 'ZNF791', 'ZNF791_AC010422_1', 'ZNF792', 'ZNF793', 'ZNF799_CTD_3105H18_16', 'ZNF8_AC010642_1', 'ZNF8_AC010642_1_CTD_3138B18_4', 'ZNF800', 'ZNF804A', 'ZNF804B', 'ZNF805', 'ZNF806', 'ZNF808', 'ZNF808_RPL39P34', 'ZNF81', 'ZNF812', 'ZNF813', 'ZNF813_CTD_2224J9_8', 'ZNF814', 'ZNF814_CTD_2583A14_9', 'ZNF815P', 'ZNF816', 'ZNF816_ZNF321P', 'ZNF816_ZNF321P_CTD_2620I22_1', 'ZNF816_ZNF816_ZNF321P', 'ZNF816_ZNF816_ZNF321P_ZNF321P', 'ZNF821', 'ZNF823', 'ZNF826P', 'ZNF827', 'ZNF829', 'ZNF83', 'ZNF831', 'ZNF833P', 'ZNF833P_CTC_499B15_4', 'ZNF833P_CTD_2006C1_6', 'ZNF835', 'ZNF836_CTC_471J1_8', 'ZNF837', 'ZNF839', 'ZNF84', 'ZNF841', 'ZNF843', 'ZNF844', 'ZNF844_snoU13', 'ZNF845', 'ZNF846', 'ZNF85', 'ZNF850', 'ZNF852', 'ZNF853', 'ZNF860', 'ZNF862', 'ZNF876P', 'ZNF878', 'ZNF879', 'ZNF880', 'ZNF883', 'ZNF890P', 'ZNF90', 'ZNF91', 'ZNF92', 'ZNF93', 'ZNF98', 'ZNF99', 'ZNFX1', 'ZNHIT1', 'ZNHIT3', 'ZNHIT6', 'ZNRD1', 'ZNRD1_AS1', 'ZNRF1', 'ZNRF1_SNORA25_snoU13', 'ZNRF2', 'ZNRF2P1', 'ZNRF3', 'ZP1', 'ZP2', 'ZP3', 'ZP4', 'ZPBP', 'ZPBP2', 'ZPLD1', 'ZRANB1', 'ZRANB1_RP11_298J20_4', 'ZRANB2', 'ZRANB2_AS1', 'ZRANB2_AS2', 'ZRANB3', 'ZRSR2', 'ZSCAN1', 'ZSCAN10', 'ZSCAN12', 'ZSCAN12P1', 'ZSCAN16', 'ZSCAN16_AS1', 'ZSCAN18', 'ZSCAN2', 'ZSCAN20', 'ZSCAN21', 'ZSCAN22', 'ZSCAN23', 'ZSCAN25', 'ZSCAN29', 'ZSCAN30', 'ZSCAN31', 'ZSCAN32', 'ZSCAN4', 'ZSCAN5A', 'ZSCAN5A_AC006116_21', 'ZSCAN5B', 'ZSCAN9', 'ZSWIM1', 'ZSWIM2', 'ZSWIM3', 'ZSWIM4', 'ZSWIM5', 'ZSWIM6', 'ZSWIM7', 'ZSWIM8', 'ZUFSP', 'ZW10', 'ZWILCH', 'ZWINT', 'ZXDC', 'ZYG11A', 'ZYG11B', 'ZYX', 'ZZEF1', 'ZZZ3', 'bP_21201H5_1', 'hsa_mir_490', 'hsa_mir_5571', 'hsa_mir_6080', 'hsa_mir_6080_RP11_927P21_5', 'hsa_mir_6080_RP13_104F24_1', 'hsa_mir_7162', 'hsa_mir_7162_AC126323_1', 'snoU13', 'snoU13_CTD_2659N19_2', 'snoU13_DDX19A', 'snoU13_KB_431C1_4', 'snoU13_RP11_578F21_12', 'HOXC8', 'HOXC9', 'HOXD_AS1', 'HOXD_AS2', 'HOXD1', 'HOXD10', 'HOXD11', 'HOXD13', 'HOXD3', 'HOXD3_HOXD4', 'HOXD8', 'HOXD9', 'HP', 'HP1BP3', 'HPCA', 'HPCAL1', 'HPCAL4', 'HPD', 'HPGD', 'HPGDS', 'HPN', 'HPN_AS1', 'HPR', 'HPR_HP', 'HPS1', 'HPS3', 'HPS4', 'HPS5', 'HPSE', 'HPSE2', 'HPX', 'HPYR1', 'HR', 'HRAS', 'HRASLS', 'HRASLS2', 'HRASLS5', 'HRC', 'HRCT1', 'HRG', 'HRH1', 'HRH2', 'HRH3', 'HRH4', 'HRK', 'HRNR', 'HRSP12', 'HS1BP3', 'HS2ST1', 'HS3ST1', 'HS3ST2', 'HS3ST3A1', 'HS3ST3B1', 'HS3ST4', 'HS3ST5', 'HS3ST6', 'HS6ST1', 'HS6ST2_AMDP1_TRPC6P_TCEB1P24_DDX11L16_WASIR1', 'HS6ST3', 'HSBP1', 'HSBP1L1', 'HSCB', 'HSD11B1', 'HSD11B1L', 'HSD11B2', 'HSD17B1', 'HSD17B10', 'HSD17B11', 'HSD17B11_RP11_529H2_2', 'HSD17B12', 'HSD17B13', 'HSD17B13_RP11_529H2_2', 'HSD17B14', 'HSD17B2', 'HSD17B3', 'HSD17B4', 'HSD17B6', 'HSD17B7', 'HSD17B7P2', 'HSD17B8', 'HSD3B1', 'HSD3B2', 'HSD3B7', 'HSDL1', 'HSDL2', 'HSF1', 'HSF2', 'HSF2BP', 'HSF4', 'HSF4_RP11_5A19_5', 'HSF5', 'HSFX2_AMDP1_TRPC6P_TCEB1P24_DDX11L16_WASIR1', 'HSFY1', 'HSFY1_AC022486_1', 'HSFY1P1', 'HSFY2', 'HSH2D', 'HSH2D_RAB8A', 'HSP90AA1', 'HSP90AB1', 'HSP90AB3P', 'HSP90B1', 'HSP90B1_MIR3652', 'HSP90B3P', 'HSPA12A', 'HSPA12B', 'HSPA13', 'HSPA14', 'HSPA1B', 'HSPA1L', 'HSPA2', 'HSPA4', 'HSPA4L', 'HSPA5', 'HSPA7', 'HSPA8', 'HSPA8_SNORD14C', 'HSPA9', 'HSPB1', 'HSPB11', 'HSPB2_HSPB2_C11orf52', 'HSPB6', 'HSPB7', 'HSPB8', 'HSPB9', 'HSPBAP1', 'HSPBP1', 'HSPD1', 'HSPE1', 'HSPE1_HSPE1_MOB4', 'HSPG2', 'HSPH1', 'HTATIP2', 'HTATSF1_IL9R_SPRY3_VAMP7_WASH6P_DPH3P2_AJ271736_10', 'HTN1', 'HTN3', 'HTR1B', 'HTR1E', 'HTR1F', 'HTR2A', 'HTR2B', 'HTR3A', 'HTR3B', 'HTR3C', 'HTR3D', 'HTR3E', 'HTR4', 'HTR5A', 'HTR5A_AS1', 'HTR6', 'HTR7', 'HTRA1', 'HTRA2', 'HTRA3', 'HTRA4', 'HTT', 'HULC', 'HUNK', 'HUS1', 'HUWE1', 'HVCN1', 'HYAL1', 'HYAL2', 'HYAL2_TUSC2', 'HYAL3', 'HYAL4', 'HYALP1', 'HYDIN', 'HYDIN2', 'HYI', 'HYKK', 'HYLS1', 'HYOU1', 'IAH1', 'IAPP', 'IARS', 'IARS2', 'IBA57', 'IBSP', 'IBTK', 'ICA1', 'ICA1L', 'ICA1L_AC098831_4', 'ICAM1', 'ICAM2', 'ICAM3', 'ICAM5', 'ICK', 'ICMT', 'ICOS', 'ICOSLG', 'ICT1', 'ID2', 'ID4', 'IDE', 'IDH1', 'IDH2', 'IDH3A', 'IDH3B', 'IDH3G_AMDP1_TRPC6P_TCEB1P24_DDX11L16_WASIR1', 'IDI1', 'IDI2', 'IDI2_AS1', 'IDNK', 'IDO1', 'IDO2', 'IDS_AMDP1_LINC00893_TRPC6P_TCEB1P24_DDX11L16_WASIR1', 'IDS_AMDP1_TRPC6P_TCEB1P24_DDX11L16_WASIR1', 'IDUA', 'IER2', 'IER3', 'IER3IP1', 'IER3IP1_HDHD2', 'IER5L', 'IFFO1', 'IFFO2', 'IFFO2_RP13_279N23_2', 'IFI16', 'IFI27', 'IFI27L1', 'IFI27L2', 'IFI30_PIK3R2', 'IFI35', 'IFI44', 'IFI44L', 'IFI6', 'IFIH1', 'IFIT1', 'IFIT1B', 'IFIT2', 'IFIT3', 'IFIT5', 'IFITM1', 'IFITM10_RP11_295K3_1', 'IFITM2', 'IFITM3', 'IFITM5', 'IFLTD1', 'IFNA10', 'IFNA13', 'IFNA16', 'IFNA17', 'IFNA21', 'IFNA22P', 'IFNA4', 'IFNA7', 'IFNA8', 'IFNAR1', 'IFNAR2', 'IFNAR2_AP000295_9', 'IFNG', 'IFNG_AS1', 'IFNGR1', 'IFNGR2', 'IFNK', 'IFNL1', 'IFNL2', 'IFNL3', 'IFNLR1', 'IFNW1', 'IFRD1', 'IFRD1_LSMEM1', 'IFRD2', 'IFRD2_HYAL3', 'IFT122', 'IFT140', 'IFT172', 'IFT20', 'IFT27', 'IFT43', 'IFT46', 'IFT52', 'IFT57', 'IFT74', 'IFT80', 'IFT80_RP11_432B6_3', 'IFT81', 'IFT88', 'IGBP1_IL9R_SPRY3_VAMP7_WASH6P_DPH3P2_AJ271736_10', 'IGBP1P1', 'IGDCC3', 'IGDCC4', 'IGF1', 'IGF1R', 'IGF2', 'IGF2_INS_IGF2', 'IGF2BP1', 'IGF2BP2', 'IGF2BP3', 'IGF2R', 'IGFALS', 'IGFALS_SPSB3', 'IGFBP1', 'IGFBP2', 'IGFBP3', 'IGFBP4', 'IGFBP5', 'IGFBP6', 'IGFBP7', 'IGFBP7_AS1', 'IGFBPL1', 'IGFL1', 'IGFL2', 'IGFL3', 'IGFL4', 'IGFLR1_AD000671_6', 'IGFLR1_U2AF1L4_AD000671_6', 'IGFN1', 'IGHA1', 'IGHA2', 'IGHD', 'IGHD1_1', 'IGHD1_26', 'IGHD2_15', 'IGHD3_22', 'IGHD3_9', 'IGHD4_23', 'IGHD4_4', 'IGHD6_19', 'IGHD6_25', 'IGHD6_6', 'IGHE', 'IGHEP1', 'IGHG1', 'IGHG2', 'IGHG2_RP11_731F5_2', 'IGHG3', 'IGHG4', 'IGHGP', 'IGHJ1P', 'IGHJ2', 'IGHJ3', 'IGHJ3P', 'IGHJ6', 'IGHM', 'IGHMBP2', 'IGHV1_12', 'IGHV1_14', 'IGHV1_17', 'IGHV1_18', 'IGHV1_2', 'IGHV1_24', 'IGHV1_3', 'IGHV1_58', 'IGHV1_68', 'IGHV1_69', 'IGHV1_8', 'IGHV1OR16_3', 'IGHV1OR16_4', 'IGHV2_26', 'IGHV2_5', 'IGHV2_70', 'IGHV3_11', 'IGHV3_13', 'IGHV3_15', 'IGHV3_16', 'IGHV3_20', 'IGHV3_22', 'IGHV3_30', 'IGHV3_33', 'IGHV3_43', 'IGHV3_48', 'IGHV3_53', 'IGHV3_6', 'IGHV3_62', 'IGHV3_64', 'IGHV3_66', 'IGHV3_7', 'IGHV3_71', 'IGHV3_79', 'IGHV3_9', 'IGHV4_28', 'IGHV4_31', 'IGHV4_34', 'IGHV4_39', 'IGHV4_4', 'IGHV4_55', 'IGHV4_59', 'IGHV4_61', 'IGHV5_51', 'IGHV5_78', 'IGHV5_78_hsa_mir_5195', 'IGHV6_1', 'IGHV7_27', 'IGHV7_34_1', 'IGHV7_56', 'IGHVII_1_1', 'IGHVII_15_1', 'IGHVII_20_1', 'IGHVII_26_2', 'IGHVIII_16_1', 'IGHVIII_2_1', 'IGHVIII_22_2', 'IGHVIII_25_1', 'IGHVIII_5_1', 'IGHVIV_44_1', 'IGIP', 'IGJ', 'IGKJ3', 'IGKV1_12', 'IGKV1_13', 'IGKV1_17', 'IGKV1_27', 'IGKV1_33', 'IGKV1_37', 'IGKV1_39', 'IGKV1_5', 'IGKV1_6', 'IGKV1_8', 'IGKV1_9', 'IGKV1D_13', 'IGKV1D_16', 'IGKV1D_17', 'IGKV1D_27', 'IGKV1D_33', 'IGKV1D_37', 'IGKV1D_39', 'IGKV1D_8', 'IGKV1OR22_5', 'IGKV2_10', 'IGKV2_19', 'IGKV2_24', 'IGKV2_26', 'IGKV2_28', 'IGKV2_30', 'IGKV2D_28', 'IGKV2D_29', 'IGKV2D_40', 'IGKV3_11', 'IGKV3_15', 'IGKV3_20', 'IGKV3D_11', 'IGKV3D_15', 'IGKV3D_20', 'IGKV3D_7', 'IGKV4_1', 'IGKV6_21', 'IGLC1_IGLL5', 'IGLC2', 'IGLC7', 'IGLJ2', 'IGLJ6', 'IGLJ7', 'IGLL1', 'IGLL5', 'IGLON5', 'IGLV1_36', 'IGLV1_40', 'IGLV1_44', 'IGLV1_47', 'IGLV1_50', 'IGLV1_51', 'IGLV11_55', 'IGLV2_11', 'IGLV2_14', 'IGLV2_18', 'IGLV2_23', 'IGLV2_33', 'IGLV2_8', 'IGLV3_1', 'IGLV3_10', 'IGLV3_13', 'IGLV3_16', 'IGLV3_17', 'IGLV3_19', 'IGLV3_21', 'IGLV3_25', 'IGLV3_27', 'IGLV3_6', 'IGLV3_9', 'IGLV4_3', 'IGLV4_69', 'IGLV5_37', 'IGLV5_45', 'IGLV5_52', 'IGLV5_52_BMS1P20', 'IGLV6_57', 'IGLV7_43', 'IGLV7_46', 'IGLV8_61', 'IGLV9_49', 'IGLVI_70', 'IGSF1_AMDP1_TRPC6P_TCEB1P24_DDX11L16_WASIR1', 'IGSF10', 'IGSF11', 'IGSF11_AS1', 'IGSF21', 'IGSF22', 'IGSF23', 'IGSF3', 'IGSF5', 'IGSF6', 'IGSF8', 'IGSF9', 'IGSF9B', 'IGSF9B_AP000911_1', 'IHH', 'IK', 'IK_MIR3655', 'IKBIP', 'IKBKAP', 'IKBKB', 'IKBKE', 'IKZF1', 'IKZF2', 'IKZF3', 'IKZF4', 'IKZF5', 'IL10', 'IL10RA', 'IL10RB', 'IL10RB_AP000295_9', 'IL10RB_snoU13', 'IL10RB_AS1', 'IL11', 'IL11RA', 'IL11RA_GALT', 'IL12A', 'IL12A_AS1', 'IL12B', 'IL12RB1', 'IL12RB2', 'IL13', 'IL13RA2_AMDP1_TRPC6P_TCEB1P24_DDX11L16_WASIR1', 'IL15', 'IL15RA', 'IL16', 'IL17A', 'IL17B', 'IL17C', 'IL17D', 'IL17F', 'IL17RA', 'IL17RB', 'IL17RC', 'IL17RD', 'IL17RE', 'IL17REL', 'IL18', 'IL18BP', 'IL18R1', 'IL18RAP', 'IL19', 'IL1A', 'IL1B', 'IL1F10', 'IL1R1', 'IL1R2', 'IL1RAP', 'IL1RAPL1', 'IL1RL1', 'IL1RL1_IL18R1', 'IL1RL2', 'IL1RN', 'IL2', 'IL20', 'IL20RA', 'IL20RB', 'IL21', 'IL21_AS1', 'IL21R', 'IL21R_AS1', 'IL22', 'IL22RA1', 'IL22RA2', 'IL23A', 'IL23R', 'IL24', 'IL25', 'IL26', 'IL27', 'IL27RA', 'IL2RA', 'IL2RB', 'IL2RG_AMDP1_TRPC6P_TCEB1P24_DDX11L16_WASIR1', 'IL3', 'IL31', 'IL31RA', 'IL32', 'IL33', 'IL34', 'IL36A', 'IL36B', 'IL36G', 'IL36RN', 'IL37', 'IL3RA', 'IL3RA_ASMTL_AS1_LINC00106', 'IL3RA_CSF2RA', 'IL3RA_CSF2RA_BX649553_3_BX649553_2_BX649553_4_MIR3690_BX649553_1', 'IL3RA_LINC00106', 'IL4', 'IL4I1', 'IL4I1_NUP62', 'IL4R', 'IL5', 'IL5RA', 'IL6', 'IL6R', 'IL6ST', 'IL7', 'IL7R', 'IL8', 'IL9', 'IL9R_ACRC_SPRY3_VAMP7_WASH6P_DPH3P2_AJ271736_10', 'IL9R_AFF2_SPRY3_VAMP7_WASH6P_DPH3P2_AJ271736_10', 'IL9R_ALG13_SPRY3_VAMP7_WASH6P_DPH3P2_AJ271736_10', 'IL9R_APOOL_SPRY3_VAMP7_WASH6P_DPH3P2_AJ271736_10', 'IL9R_ARHGAP36_SPRY3_VAMP7_WASH6P_DPH3P2_AJ271736_10', 'IL9R_ARL13A_SPRY3_VAMP7_WASH6P_DPH3P2_AJ271736_10', 'IL9R_ARMCX1_SPRY3_VAMP7_WASH6P_DPH3P2_AJ271736_10', 'IL9R_ARMCX3_SPRY3_VAMP7_WASH6P_DPH3P2_AJ271736_10', 'IL9R_ATG4A_SPRY3_VAMP7_WASH6P_DPH3P2_AJ271736_10', 'IL9R_ATP7A_SPRY3_VAMP7_WASH6P_DPH3P2_AJ271736_10', 'IL9R_ATP7A_SPRY3_VAMP7_WASH6P_DPH3P2_AJ271736_10_RP5_1000K24_2', 'IL9R_BHLHB9_SPRY3_VAMP7_WASH6P_DPH3P2_AJ271736_10', 'IL9R_CDX4_SPRY3_VAMP7_WASH6P_DPH3P2_AJ271736_10', 'IL9R_CXorf57_SPRY3_VAMP7_WASH6P_DPH3P2_AJ271736_10', 'IL9R_DKC1_SPRY3_VAMP7_WASH6P_DPH3P2_AJ271736_10', 'IL9R_DOCK11_SPRY3_VAMP7_WASH6P_DPH3P2_AJ271736_10', 'IL9R_DUSP9_SPRY3_VAMP7_WASH6P_DPH3P2_AJ271736_10', 'IL9R_EDA_SPRY3_VAMP7_WASH6P_DPH3P2_AJ271736_10', 'IL9R_EMD_SPRY3_VAMP7_WASH6P_DPH3P2_AJ271736_10', 'IL9R_FAM155B_SPRY3_VAMP7_WASH6P_DPH3P2_AJ271736_10', 'IL9R_FATE1_SPRY3_VAMP7_WASH6P_DPH3P2_AJ271736_10', 'IL9R_GABRQ_SPRY3_VAMP7_WASH6P_DPH3P2_AJ271736_10', 'IL9R_GPR112_SPRY3_VAMP7_WASH6P_DPH3P2_AJ271736_10', 'IL9R_GPR174_SPRY3_VAMP7_WASH6P_DPH3P2_AJ271736_10', 'IL9R_GPRASP1_SPRY3_VAMP7_WASH6P_DPH3P2_AJ271736_10', 'IL9R_HMGB3_SPRY3_VAMP7_WASH6P_DPH3P2_AJ271736_10', 'IL9R_HTR2C_SPRY3_VAMP7_WASH6P_DPH3P2_AJ271736_10', 'IL9R_IL13RA1_SPRY3_VAMP7_WASH6P_DPH3P2_AJ271736_10', 'IL9R_ITGB1BP2_SPRY3_VAMP7_WASH6P_DPH3P2_AJ271736_10', 'IL9R_MAGEC1_SPRY3_VAMP7_WASH6P_DPH3P2_AJ271736_10', 'IL9R_MAGEC3_SPRY3_VAMP7_WASH6P_DPH3P2_AJ271736_10', 'IL9R_MSN_SPRY3_VAMP7_WASH6P_DPH3P2_AJ271736_10', 'IL9R_MUM1L1_SPRY3_VAMP7_WASH6P_DPH3P2_AJ271736_10', 'IL9R_NDUFA1_SPRY3_VAMP7_WASH6P_DPH3P2_AJ271736_10', 'IL9R_NSDHL_SPRY3_VAMP7_WASH6P_DPH3P2_AJ271736_10', 'IL9R_PBDC1_SPRY3_VAMP7_WASH6P_DPH3P2_AJ271736_10', 'IL9R_PHF6_SPRY3_VAMP7_WASH6P_DPH3P2_AJ271736_10', 'IL9R_PLXNA3_SPRY3_VAMP7_WASH6P_DPH3P2_AJ271736_10', 'IL9R_RAB33A_SPRY3_VAMP7_WASH6P_DPH3P2_AJ271736_10', 'IL9R_RAB41_SPRY3_VAMP7_WASH6P_DPH3P2_AJ271736_10', 'IL9R_RNF128_SPRY3_VAMP7_WASH6P_DPH3P2_AJ271736_10', 'IL9R_SH3BGRL_SPRY3_VAMP7_WASH6P_DPH3P2_AJ271736_10', 'IL9R_SLC16A2_SPRY3_VAMP7_WASH6P_DPH3P2_AJ271736_10', 'IL9R_SLC25A14_SPRY3_VAMP7_WASH6P_DPH3P2_AJ271736_10', 'IL9R_SLC6A8_SPRY3_VAMP7_WASH6P_DPH3P2_AJ271736_10', 'IL9R_SPRY3_AGTR2_VAMP7_WASH6P_DPH3P2_AJ271736_10', 'IL9R_SPRY3_AKAP14_VAMP7_WASH6P_DPH3P2_AJ271736_10', 'IL9R_SPRY3_AR_VAMP7_WASH6P_DPH3P2_AJ271736_10', 'IL9R_SPRY3_ATP6AP1_VAMP7_WASH6P_DPH3P2_AJ271736_10', 'IL9R_SPRY3_AVPR2_VAMP7_WASH6P_DPH3P2_AJ271736_10', 'IL9R_SPRY3_BGN_VAMP7_WASH6P_DPH3P2_AJ271736_10', 'IL9R_SPRY3_BRCC3_VAMP7_WASH6P_DPH3P2_AJ271736_10', 'IL9R_SPRY3_CLDN2_VAMP7_WASH6P_DPH3P2_AJ271736_10', 'IL9R_SPRY3_CNGA2_VAMP7_WASH6P_DPH3P2_AJ271736_10', 'IL9R_SPRY3_COL4A5_VAMP7_WASH6P_DPH3P2_AJ271736_10', 'IL9R_SPRY3_CPXCR1_VAMP7_WASH6P_DPH3P2_AJ271736_10', 'IL9R_SPRY3_CYLC1_VAMP7_WASH6P_DPH3P2_AJ271736_10', 'IL9R_SPRY3_DGAT2L6_VAMP7_WASH6P_DPH3P2_AJ271736_10', 'IL9R_SPRY3_DMRTC1B_VAMP7_WASH6P_DPH3P2_AJ271736_10', 'IL9R_SPRY3_FAM133A_VAMP7_WASH6P_DPH3P2_AJ271736_10', 'IL9R_SPRY3_FAM199X_VAMP7_WASH6P_DPH3P2_AJ271736_10', 'IL9R_SPRY3_FAM46D_VAMP7_WASH6P_DPH3P2_AJ271736_10', 'IL9R_SPRY3_FMR1NB_VAMP7_WASH6P_DPH3P2_AJ271736_10', 'IL9R_SPRY3_FOXO4_VAMP7_WASH6P_DPH3P2_AJ271736_10', 'IL9R_SPRY3_GPRASP2_VAMP7_WASH6P_DPH3P2_AJ271736_10_RP4_769N13_6', 'IL9R_SPRY3_IKBKG_VAMP7_WASH6P_DPH3P2_AJ271736_10', 'IL9R_SPRY3_IL1RAPL2_VAMP7_WASH6P_DPH3P2_AJ271736_10', 'IL9R_SPRY3_LINC00086_VAMP7_WASH6P_DPH3P2_AJ271736_10', 'IL9R_SPRY3_LONRF3_VAMP7_WASH6P_DPH3P2_AJ271736_10', 'IL9R_SPRY3_MED12_VAMP7_WASH6P_DPH3P2_AJ271736_10', 'IL9R_SPRY3_MED12_VAMP7_WASH6P_DPH3P2_AJ271736_10_AL590764_1', 'IL9R_SPRY3_MTM1_VAMP7_WASH6P_DPH3P2_AJ271736_10', 'IL9R_SPRY3_NGFRAP1_VAMP7_WASH6P_DPH3P2_AJ271736_10', 'IL9R_SPRY3_NLGN3_VAMP7_WASH6P_DPH3P2_AJ271736_10', 'IL9R_SPRY3_NLGN3_VAMP7_WASH6P_DPH3P2_snoU13_AJ271736_10', 'IL9R_SPRY3_NONO_VAMP7_WASH6P_DPH3P2_AJ271736_10', 'IL9R_SPRY3_OGT_VAMP7_WASH6P_DPH3P2_AJ271736_10', 'IL9R_SPRY3_OTUD6A_VAMP7_WASH6P_DPH3P2_AJ271736_10', 'IL9R_SPRY3_P2RY10_VAMP7_WASH6P_DPH3P2_AJ271736_10', 'IL9R_SPRY3_PABPC5_VAMP7_WASH6P_DPH3P2_AJ271736_10', 'IL9R_SPRY3_PASD1_VAMP7_WASH6P_DPH3P2_AJ271736_10', 'IL9R_SPRY3_PASD1_VAMP7_WASH6P_RP11_45D17_1_DPH3P2_AJ271736_10', 'IL9R_SPRY3_PCDH11X_VAMP7_WASH6P_DPH3P2_AJ271736_10', 'IL9R_SPRY3_PLS3_VAMP7_WASH6P_DPH3P2_AJ271736_10', 'IL9R_SPRY3_PRPS1_VAMP7_WASH6P_DPH3P2_AJ271736_10', 'IL9R_SPRY3_PRRG3_VAMP7_WASH6P_DPH3P2_AJ271736_10', 'IL9R_SPRY3_RBMX2_VAMP7_WASH6P_DPH3P2_AJ271736_10', 'IL9R_SPRY3_RPL10_VAMP7_WASH6P_DPH3P2_AJ271736_10', 'IL9R_SPRY3_SAGE1_VAMP7_WASH6P_DPH3P2_AJ271736_10', 'IL9R_SPRY3_SLC25A5_VAMP7_WASH6P_DPH3P2_AJ271736_10', 'IL9R_SPRY3_SLITRK2_VAMP7_WASH6P_DPH3P2_AJ271736_10', 'IL9R_SPRY3_SRPK3_VAMP7_WASH6P_DPH3P2_AJ271736_10', 'IL9R_SPRY3_TCEAL2_VAMP7_WASH6P_DPH3P2_AJ271736_10', 'IL9R_SPRY3_TCEAL4_VAMP7_WASH6P_DPH3P2_AJ271736_10', 'IL9R_SPRY3_TCEAL7_VAMP7_WASH6P_DPH3P2_AJ271736_10', 'IL9R_SPRY3_TMEM187_VAMP7_WASH6P_DPH3P2_AJ271736_10', 'IL9R_SPRY3_TMEM31_VAMP7_WASH6P_DPH3P2_AJ271736_10', 'IL9R_SPRY3_VAMP7_CXorf40A_WASH6P_DPH3P2_AJ271736_10', 'IL9R_SPRY3_VAMP7_H2BFM_WASH6P_DPH3P2_AJ271736_10', 'IL9R_SPRY3_VAMP7_MAGEA4_WASH6P_DPH3P2_AJ271736_10', 'IL9R_SPRY3_VAMP7_MAMLD1_WASH6P_DPH3P2_AJ271736_10', 'IL9R_SPRY3_VAMP7_SH2D1A_WASH6P_DPH3P2_AJ271736_10', 'IL9R_SPRY3_VAMP7_SPANXN4_WASH6P_DPH3P2_AJ271736_10', 'IL9R_SPRY3_VAMP7_SSR4_WASH6P_DPH3P2_AJ271736_10', 'IL9R_SPRY3_VAMP7_TCEAL1_WASH6P_DPH3P2_AJ271736_10', 'IL9R_SPRY3_VAMP7_WASH6P_ARMCX4_DPH3P2_AJ271736_10', 'IL9R_SPRY3_VAMP7_WASH6P_ARMCX5_DPH3P2_AJ271736_10_RP4_769N13_6', 'IL9R_SPRY3_VAMP7_WASH6P_AWAT1_DPH3P2_AJ271736_10', 'IL9R_SPRY3_VAMP7_WASH6P_CCDC160_DPH3P2_AJ271736_10', 'IL9R_SPRY3_VAMP7_WASH6P_CHIC1_DPH3P2_AJ271736_10', 'IL9R_SPRY3_VAMP7_WASH6P_COX7B_DPH3P2_AJ271736_10', 'IL9R_SPRY3_VAMP7_WASH6P_CSAG1_DPH3P2_AJ271736_10', 'IL9R_SPRY3_VAMP7_WASH6P_CSAG2_DPH3P2_AJ271736_10', 'IL9R_SPRY3_VAMP7_WASH6P_CT45A1_DPH3P2_AJ271736_10', 'IL9R_SPRY3_VAMP7_WASH6P_CT45A2_DPH3P2_AJ271736_10', 'IL9R_SPRY3_VAMP7_WASH6P_CT45A3_DPH3P2_AJ271736_10', 'IL9R_SPRY3_VAMP7_WASH6P_CTAG1A_DPH3P2_AJ271736_10', 'IL9R_SPRY3_VAMP7_WASH6P_CXorf49B_DPH3P2_AJ271736_10', 'IL9R_SPRY3_VAMP7_WASH6P_CXorf51B_DPH3P2_AJ271736_10', 'IL9R_SPRY3_VAMP7_WASH6P_CXorf64_DPH3P2_AJ271736_10', 'IL9R_SPRY3_VAMP7_WASH6P_DACH2_DPH3P2_AJ271736_10', 'IL9R_SPRY3_VAMP7_WASH6P_DDX26B_DPH3P2_AJ271736_10', 'IL9R_SPRY3_VAMP7_WASH6P_DPH3P2_AJ271736_10', 'IL9R_SPRY3_VAMP7_WASH6P_DPH3P2_AJ271736_10_HPRT1', 'IL9R_SPRY3_VAMP7_WASH6P_DPH3P2_AJ271736_10_LINC00890', 'IL9R_SPRY3_VAMP7_WASH6P_DPH3P2_AJ271736_10_LPAR4', 'IL9R_SPRY3_VAMP7_WASH6P_DPH3P2_AJ271736_10_RGAG1', 'IL9R_SPRY3_VAMP7_WASH6P_DPH3P2_AJ271736_10_RP4_755D9_1', 'IL9R_SPRY3_VAMP7_WASH6P_DPH3P2_AJ271736_10_RP5_1000K24_2', 'IL9R_SPRY3_VAMP7_WASH6P_DPH3P2_AJ271736_10_TMEM185AP1', 'IL9R_SPRY3_VAMP7_WASH6P_DPH3P2_TDGF1P3_AJ271736_10', 'IL9R_SPRY3_VAMP7_WASH6P_FAM122C_DPH3P2_AJ271736_10', 'IL9R_SPRY3_VAMP7_WASH6P_FGF13_AS1_DPH3P2_AJ271736_10', 'IL9R_SPRY3_VAMP7_WASH6P_FGF16_DPH3P2_AJ271736_10', 'IL9R_SPRY3_VAMP7_WASH6P_FUNDC2_DPH3P2_AJ271736_10', 'IL9R_SPRY3_VAMP7_WASH6P_GDI1_DPH3P2_AJ271736_10', 'IL9R_SPRY3_VAMP7_WASH6P_GJB1_DPH3P2_AJ271736_10', 'IL9R_SPRY3_VAMP7_WASH6P_H2BFXP_DPH3P2_AJ271736_10', 'IL9R_SPRY3_VAMP7_WASH6P_JPX_DPH3P2_AJ271736_10', 'IL9R_SPRY3_VAMP7_WASH6P_LINC00269_DPH3P2_AJ271736_10', 'IL9R_SPRY3_VAMP7_WASH6P_LINC00629_DPH3P2_AJ271736_10', 'IL9R_SPRY3_VAMP7_WASH6P_LINC00630_DPH3P2_AJ271736_10', 'IL9R_SPRY3_VAMP7_WASH6P_LINC00632_DPH3P2_AJ271736_10', 'IL9R_SPRY3_VAMP7_WASH6P_LINC00894_DPH3P2_AJ271736_10', 'IL9R_SPRY3_VAMP7_WASH6P_MAGEA11_DPH3P2_AJ271736_10', 'IL9R_SPRY3_VAMP7_WASH6P_MAGEA2B_DPH3P2_AJ271736_10', 'IL9R_SPRY3_VAMP7_WASH6P_MAGEA6_DPH3P2_AJ271736_10', 'IL9R_SPRY3_VAMP7_WASH6P_MAGEA9_DPH3P2_AJ271736_10', 'IL9R_SPRY3_VAMP7_WASH6P_MCTS1_DPH3P2_AJ271736_10', 'IL9R_SPRY3_VAMP7_WASH6P_MID2_DPH3P2_AJ271736_10', 'IL9R_SPRY3_VAMP7_WASH6P_MIR223_DPH3P2_AJ271736_10', 'IL9R_SPRY3_VAMP7_WASH6P_MORF4L2_AS1_DPH3P2_AJ271736_10', 'IL9R_SPRY3_VAMP7_WASH6P_NHSL2_DPH3P2_AJ271736_10', 'IL9R_SPRY3_VAMP7_WASH6P_NHSL2_DPH3P2_AJ271736_10_RP11_262D11_1', 'IL9R_SPRY3_VAMP7_WASH6P_NRK_DPH3P2_AJ271736_10', 'IL9R_SPRY3_VAMP7_WASH6P_NXF2_DPH3P2_AJ271736_10', 'IL9R_SPRY3_VAMP7_WASH6P_NXF2_TCP11X1_DPH3P2_AJ271736_10', 'IL9R_SPRY3_VAMP7_WASH6P_NXF4_DPH3P2_AJ271736_10', 'IL9R_SPRY3_VAMP7_WASH6P_OPN1LW_DPH3P2_AJ271736_10', 'IL9R_SPRY3_VAMP7_WASH6P_OPN1MW_DPH3P2_AJ271736_10', 'IL9R_SPRY3_VAMP7_WASH6P_OPN1MW2_DPH3P2_AJ271736_10', 'IL9R_SPRY3_VAMP7_WASH6P_PLP1_DPH3P2_AJ271736_10', 'IL9R_SPRY3_VAMP7_WASH6P_PNMA3_DPH3P2_AJ271736_10', 'IL9R_SPRY3_VAMP7_WASH6P_POU3F4_DPH3P2_AJ271736_10', 'IL9R_SPRY3_VAMP7_WASH6P_RAP2C_AS1_DPH3P2_AJ271736_10', 'IL9R_SPRY3_VAMP7_WASH6P_RBMXL3_DPH3P2_AJ271736_10', 'IL9R_SPRY3_VAMP7_WASH6P_RHOXF2_DPH3P2_AJ271736_10', 'IL9R_SPRY3_VAMP7_WASH6P_RP1_171K16_5_DPH3P2_AJ271736_10', 'IL9R_SPRY3_VAMP7_WASH6P_RP11_218L14_4_DPH3P2_AJ271736_10', 'IL9R_SPRY3_VAMP7_WASH6P_RP11_262D11_2_DPH3P2_AJ271736_10', 'IL9R_SPRY3_VAMP7_WASH6P_RP11_308D16_4_DPH3P2_AJ271736_10', 'IL9R_SPRY3_VAMP7_WASH6P_RP11_308D16_4_RP11_308D16_2_DPH3P2_AJ271736_10', 'IL9R_SPRY3_VAMP7_WASH6P_RP11_85L21_4_DPH3P2_AJ271736_10', 'IL9R_SPRY3_VAMP7_WASH6P_RP4_562J12_2_DPH3P2_AJ271736_10', 'IL9R_SPRY3_VAMP7_WASH6P_RPL36A_HNRNPH2_RPL36A_DPH3P2_AJ271736_10', 'IL9R_SPRY3_VAMP7_WASH6P_SLC25A43_DPH3P2_AJ271736_10', 'IL9R_SPRY3_VAMP7_WASH6P_SLC9A6_DPH3P2_AJ271736_10', 'IL9R_SPRY3_VAMP7_WASH6P_SNORA68_DPH3P2_AJ271736_10_TSIX', 'IL9R_SPRY3_VAMP7_WASH6P_SPANXA2_OT1_DPH3P2_AJ271736_10', 'IL9R_SPRY3_VAMP7_WASH6P_SPANXB1_DPH3P2_AJ271736_10', 'IL9R_SPRY3_VAMP7_WASH6P_SPANXB2_DPH3P2_AJ271736_10', 'IL9R_SPRY3_VAMP7_WASH6P_SPANXN1_DPH3P2_AJ271736_10', 'IL9R_SPRY3_VAMP7_WASH6P_STAG2_DPH3P2_AJ271736_10', 'IL9R_SPRY3_VAMP7_WASH6P_STARD8_DPH3P2_AJ271736_10', 'IL9R_SPRY3_VAMP7_WASH6P_TCP11X1_DPH3P2_AJ271736_10', 'IL9R_SPRY3_VAMP7_WASH6P_TGIF2LX_DPH3P2_AJ271736_10', 'IL9R_SPRY3_VAMP7_WASH6P_TMLHE_AS1_DPH3P2_AJ271736_10', 'IL9R_SPRY3_VAMP7_WASH6P_TMSB15B_DPH3P2_AJ271736_10', 'IL9R_SPRY3_VAMP7_WASH6P_TRPC5OS_DPH3P2_AJ271736_10', 'IL9R_SPRY3_VAMP7_WASH6P_U3_NRK_DPH3P2_AJ271736_10', 'IL9R_SPRY3_VAMP7_WASH6P_UPRT_DPH3P2_AJ271736_10', 'IL9R_SPRY3_VAMP7_WASH6P_XIAP_DPH3P2_AJ271736_10', 'IL9R_SPRY3_VAMP7_WASH6P_ZCCHC18_DPH3P2_AJ271736_10', 'IL9R_SPRY3_VMA21_VAMP7_WASH6P_DPH3P2_AJ271736_10', 'IL9R_SPRY3_WBP5_VAMP7_WASH6P_DPH3P2_AJ271736_10', 'IL9R_SPRY3_YIPF6_VAMP7_WASH6P_DPH3P2_AJ271736_10', 'IL9R_SPRY3_ZBTB33_VAMP7_WASH6P_DPH3P2_AJ271736_10', 'IL9R_SPRY3_ZCCHC12_VAMP7_WASH6P_DPH3P2_AJ271736_10', 'IL9R_SPRY3_ZCCHC16_VAMP7_WASH6P_DPH3P2_AJ271736_10', 'IL9R_SPRY3_ZFP92_VAMP7_WASH6P_DPH3P2_AJ271736_10', 'IL9R_SPRY3_ZNF449_VAMP7_WASH6P_DPH3P2_AJ271736_10', 'IL9R_TAF1_SPRY3_VAMP7_WASH6P_DPH3P2_AJ271736_10', 'IL9R_TAZ_SPRY3_VAMP7_WASH6P_DPH3P2_AJ271736_10', 'IL9R_TBC1D8B_SPRY3_VAMP7_WASH6P_DPH3P2_AJ271736_10', 'IL9R_TMEM164_SPRY3_VAMP7_WASH6P_DPH3P2_AJ271736_10', 'IL9R_TMEM35_SPRY3_VAMP7_WASH6P_DPH3P2_AJ271736_10', 'IL9R_UBE2A_SPRY3_VAMP7_WASH6P_DPH3P2_AJ271736_10', 'IL9R_VAMP7_WASH6P_AJ271736_10', 'IL9R_VBP1_SPRY3_VAMP7_WASH6P_DPH3P2_AJ271736_10', 'IL9R_VSIG1_SPRY3_VAMP7_WASH6P_DPH3P2_AJ271736_10', 'IL9R_WASH6P_AJ271736_10', 'IL9R_WDR44_SPRY3_VAMP7_WASH6P_DPH3P2_AJ271736_10', 'IL9R_ZIC3_SPRY3_VAMP7_WASH6P_DPH3P2_AJ271736_10', 'IL9R_ZNF185_SPRY3_VAMP7_WASH6P_DPH3P2_AJ271736_10', 'IL9R_ZNF275_SPRY3_VAMP7_WASH6P_DPH3P2_AJ271736_10', 'IL9R_ZNF711_SPRY3_VAMP7_WASH6P_DPH3P2_AJ271736_10', 'IL9R_ZNF711_SPRY3_VAMP7_WASH6P_DPH3P2_AJ271736_10_AC003001_1', 'ILDR1', 'ILDR2', 'ILF2', 'ILF3', 'ILK', 'ILKAP', 'ILVBL', 'IMMP1L', 'IMMP2L', 'IMMT', 'IMP3', 'IMP4', 'IMPA1', 'IMPA2', 'IMPACT', 'IMPAD1', 'IMPDH1', 'IMPDH2', 'IMPG1', 'IMPG2', 'INA', 'INADL', 'INCA1', 'INCENP', 'INF2', 'ING1', 'ING2', 'ING3', 'ING4', 'ING5', 'INHA', 'INHBA', 'INHBA_AS1', 'INHBB', 'INHBC', 'INHBE', 'INIP', 'INMT', 'INMT_INMT_FAM188B', 'INMT_FAM188B', 'INO80', 'INO80B', 'INO80C', 'INO80C_RP11_322E11_6', 'INO80D', 'INO80D_Y_RNA', 'INO80E', 'INPP1', 'INPP4A', 'INPP4B', 'INPP5A', 'INPP5B', 'INPP5D', 'INPP5E', 'INPP5F', 'INPP5J', 'INPP5K', 'INPPL1', 'INPPL1_U3', 'INS', 'INS_INS_IGF2', 'INSC', 'INSIG1', 'INSIG2', 'INSL3', 'INSL4', 'INSL6', 'INSM2', 'INSR', 'INSRR', 'INTS1', 'INTS10', 'INTS12', 'INTS2', 'INTS3', 'INTS4', 'INTS4L1', 'INTS4L2', 'INTS5', 'INTS6', 'INTS6_AS1', 'INTS7', 'INTS8', 'INTS9', 'INTU', 'INVS', 'IP6K1', 'IP6K2', 'IP6K3', 'IPCEF1', 'IPMK', 'IPO11', 'IPO11_LRRC70', 'IPO13', 'IPO4_RP11_468E2_2', 'IPO5', 'IPO7', 'IPO8', 'IPO9', 'IPP', 'IPPK', 'IQCA1', 'IQCB1', 'IQCB1_SNORA70', 'IQCC', 'IQCD', 'IQCE', 'IQCF1', 'IQCF2', 'IQCF3', 'IQCF5', 'IQCG', 'IQCH', 'IQCH_AS1', 'IQCJ_IQCJ_SCHIP1', 'IQCJ_SCHIP1', 'IQCK', 'IQGAP1', 'IQGAP2', 'IQGAP3', 'IQSEC1', 'IQSEC2', 'IQSEC3', 'IQUB', 'IRAK1_AMDP1_TRPC6P_TCEB1P24_DDX11L16_WASIR1', 'IRAK1BP1', 'IRAK2', 'IRAK3', 'IRAK4', 'IREB2', 'IRF1', 'IRF2', 'IRF2BP1', 'IRF2BP2', 'IRF3', 'IRF4', 'IRF5', 'IRF6', 'IRF7', 'IRF8', 'IRF9_RP11_468E2_4', 'IRGC', 'IRGM', 'IRGQ', 'IRGQ_L34079_2', 'IRS1', 'IRS2', 'IRS4_AMDP1_TRPC6P_TCEB1P24_DDX11L16_WASIR1_RP6_24A23_6', 'IRX1', 'IRX2', 'IRX3', 'IRX4', 'IRX5', 'IRX6', 'ISCA1', 'ISCA2', 'ISCU', 'ISG15', 'ISG20', 'ISG20L2', 'ISL1', 'ISL2', 'ISLR', 'ISLR2', 'ISM1', 'ISM1_AS1', 'ISM2', 'ISOC1', 'ISOC2', 'ISPD', 'ISPD_AC006035_1_RP11_196O16_1', 'ISPD_AS1', 'IST1', 'IST1_ATXN1L', 'ISX', 'ISY1', 'ISY1_ISY1_RAB43', 'ISY1_RAB43_RAB43', 'ISYNA1', 'ITCH', 'ITFG1', 'ITFG1_RNA5SP424', 'ITFG2', 'ITFG3', 'ITGA1', 'ITGA1_CTD_2207L17_1', 'ITGA10', 'ITGA11', 'ITGA2', 'ITGA2B', 'ITGA3', 'ITGA4', 'ITGA5', 'ITGA6', 'ITGA7', 'ITGA8', 'ITGA9', 'ITGAD', 'ITGAD_RP11_120K18_2', 'ITGAE', 'ITGAL', 'ITGAM', 'ITGAV', 'ITGAX', 'ITGB1', 'ITGB1BP1', 'ITGB2', 'ITGB2_AS1', 'ITGB3', 'ITGB3BP', 'ITGB4', 'ITGB5', 'ITGB6', 'ITGB7', 'ITGB8', 'ITGB8_snoU13', 'ITGBL1', 'ITIH1', 'ITIH2', 'ITIH3', 'ITIH4_RP5_966M1_6', 'ITIH5', 'ITIH6', 'ITK', 'ITLN1', 'ITLN2', 'ITM2A_AMDP1_TRPC6P_TCEB1P24_DDX11L16_WASIR1', 'ITM2B', 'ITM2C', 'ITPA', 'ITPK1', 'ITPKA', 'ITPKB', 'ITPKC', 'ITPR1', 'ITPR2', 'ITPR3', 'ITPRIP', 'ITPRIPL1', 'ITSN1', 'ITSN2', 'IVD', 'IVL', 'IVNS1ABP', 'IWS1', 'IYD', 'IZUMO1', 'IZUMO2', 'IZUMO4', 'JAG1', 'JAG2', 'JAG2_RP11_44N21_4', 'JAGN1', 'JAK1', 'JAK2', 'JAK3', 'JAKMIP1', 'JAKMIP1_Y_RNA', 'JAKMIP2', 'JAKMIP3', 'JAM2', 'JAM3', 'JARID2', 'JARID2_AS1', 'JAZF1', 'JAZF1_AS1', 'JDP2', 'JHDM1D', 'JKAMP', 'JMJD1C', 'JMJD4', 'JMJD6', 'JMJD7', 'JMJD7_JMJD7_PLA2G4B', 'JMJD7_JMJD7_PLA2G4B_PLA2G4B', 'JMJD7_PLA2G4B_PLA2G4B', 'JMJD8', 'JMY', 'JOSD1', 'JOSD2', 'JPH1', 'JPH2', 'JPH3', 'JPH4', 'JPH4_AP1G2', 'JRK', 'JRKL', 'JSRP1', 'JTB', 'JUND', 'JUP', 'JUP_KRT17', 'KAAG1', 'KAL1', 'KALRN', 'KANK1', 'KANK2', 'KANK3', 'KANK4', 'KANSL1', 'KANSL1_AS1', 'KANSL1L', 'KANSL1L_AC006994_3', 'KANSL2', 'KANSL3', 'KARS', 'KAT2A', 'KAT2A_CTD_2132N18_3', 'KAT2B', 'KAT5', 'KAT6A', 'KAT6B', 'KAT7', 'KAT8', 'KATNA1', 'KATNAL1', 'KATNAL2', 'KATNB1', 'KATNBL1', 'KAZALD1', 'KAZN', 'KB_1572G7_2_ASLP1', 'KB_1592A4_15', 'KB_1639H6_4', 'KB_1732A1_1', 'KB_431C1_4', 'KBTBD11', 'KBTBD12', 'KBTBD2', 'KBTBD3', 'KBTBD4', 'KBTBD6', 'KBTBD7', 'KBTBD8', 'KCMF1', 'KCNA1', 'KCNA10', 'KCNA2', 'KCNA3', 'KCNA7', 'KCNAB1', 'KCNAB2', 'KCNAB3', 'KCNAB3_RP11_1099M24_7', 'KCNB1', 'KCNB2', 'KCNC1', 'KCNC2', 'KCNC3', 'KCND1', 'KCND2', 'KCND3', 'KCNE1', 'KCNE2', 'KCNE3', 'KCNE3_SNORA40', 'KCNE4', 'KCNG1', 'KCNG2', 'KCNG3', 'KCNG4', 'KCNH1', 'KCNH2', 'KCNH3', 'KCNH4', 'KCNH4_Y_RNA', 'KCNH5', 'KCNH6', 'KCNH7', 'KCNH8', 'KCNIP1', 'KCNIP2', 'KCNIP3', 'KCNIP4', 'KCNJ1', 'KCNJ11', 'KCNJ12', 'KCNJ13', 'KCNJ14', 'KCNJ14_CTC_273B12_7', 'KCNJ15', 'KCNJ16', 'KCNJ2', 'KCNJ3', 'KCNJ4', 'KCNJ5', 'KCNJ6', 'KCNJ8', 'KCNJ9', 'KCNK1', 'KCNK10', 'KCNK12', 'KCNK13', 'KCNK15', 'KCNK16', 'KCNK17', 'KCNK18', 'KCNK2', 'KCNK3', 'KCNK4', 'KCNK4_RP11_783K16_10', 'KCNK4_TEX40_RP11_783K16_10', 'KCNK5', 'KCNK6', 'KCNK7', 'KCNK9', 'KCNMA1', 'KCNMB1', 'KCNMB2', 'KCNMB3', 'KCNMB3_LRRFIP1P1', 'KCNMB4', 'KCNN1', 'KCNN2', 'KCNN3', 'KCNN4', 'KCNQ1', 'KCNQ1DN', 'KCNQ1OT1', 'KCNQ2', 'KCNQ3', 'KCNQ4', 'KCNQ5', 'KCNRG', 'KCNS1', 'KCNS2', 'KCNS3', 'KCNT1', 'KCNT2', 'KCNU1', 'KCNV1', 'KCNV2', 'KCP', 'KCP_RP11_309L24_2', 'KCTD1', 'KCTD10', 'KCTD12_AC000403_1', 'KCTD13', 'KCTD14', 'KCTD15', 'KCTD16', 'KCTD17', 'KCTD18', 'KCTD19', 'KCTD2', 'KCTD20', 'KCTD21', 'KCTD3', 'KCTD4', 'KCTD5', 'KCTD6', 'KCTD7', 'KCTD7_RABGEF1', 'KCTD8', 'KCTD9', 'KDELC1', 'KDELC2', 'KDELR1', 'KDELR2', 'KDELR2_DAGLB', 'KDELR3', 'KDM1A', 'KDM1B', 'KDM2A', 'KDM2B', 'KDM3A', 'KDM3B', 'KDM4A', 'KDM4A_AS1', 'KDM4B', 'KDM4C', 'KDM4C_RP11_390F4_3', 'KDM4D', 'KDM4E', 'KDM5A', 'KDM5B', 'KDM5C', 'KDM5D', 'KDM6A', 'KDM6B', 'KDM8', 'KDR', 'KDSR', 'KEAP1', 'KEL', 'KERA', 'KHDC1', 'KHDC1_RP11_257K9_8', 'KHDC1L_RP11_257K9_8', 'KHDC1P1_RP11_257K9_8', 'KHDC3L', 'KHDRBS1', 'KHDRBS2', 'KHDRBS2_RP1_240B8_3', 'KHDRBS3', 'KHK', 'KHNYN', 'KHSRP', 'KIAA0020', 'KIAA0040', 'KIAA0087', 'KIAA0100', 'KIAA0101', 'KIAA0101_CTD_2116N17_1', 'KIAA0125', 'KIAA0141', 'KIAA0195', 'KIAA0195_AC100787_1', 'KIAA0196', 'KIAA0226', 'KIAA0226_MIR922', 'KIAA0226L', 'KIAA0226L_PPP1R2P4', 'KIAA0232', 'KIAA0247', 'KIAA0319', 'KIAA0319L', 'KIAA0355', 'KIAA0368', 'KIAA0391', 'KIAA0408', 'KIAA0430', 'KIAA0513', 'KIAA0556', 'KIAA0586', 'KIAA0753', 'KIAA0825', 'KIAA0895', 'KIAA0895L', 'KIAA0907', 'KIAA0922', 'KIAA0930', 'KIAA0947', 'KIAA1009', 'KIAA1024', 'KIAA1033', 'KIAA1045', 'KIAA1107', 'KIAA1109', 'KIAA1143', 'KIAA1147', 'KIAA1161', 'KIAA1191', 'KIAA1199', 'KIAA1211', 'KIAA1211L', 'KIAA1217', 'KIAA1239', 'KIAA1244', 'KIAA1257', 'KIAA1257_RP11_723O4_6', 'KIAA1279', 'KIAA1324', 'KIAA1324L', 'KIAA1328', 'KIAA1377', 'KIAA1407', 'KIAA1429', 'KIAA1430', 'KIAA1432', 'KIAA1456', 'KIAA1462', 'KIAA1462_U8', 'KIAA1467', 'KIAA1468', 'KIAA1522', 'KIAA1524', 'KIAA1549', 'KIAA1549L', 'KIAA1551', 'KIAA1586', 'KIAA1598', 'KIAA1614', 'KIAA1644', 'KIAA1671', 'KIAA1671_snoU13', 'KIAA1683', 'KIAA1715', 'KIAA1731', 'KIAA1737', 'KIAA1737_RP11_463C8_4', 'KIAA1755', 'KIAA1841', 'KIAA1841_C2orf74', 'KIAA1875', 'KIAA1919', 'KIAA1958', 'KIAA1984', 'KIAA1984_RP11_216L13_17', 'KIAA1984_RP11_216L13_17_RP11_216L13_19', 'KIAA1984_RP11_216L13_17_RP11_216L13_19_RP11_216L13_18', 'KIAA1984_RP11_216L13_19', 'KIAA1984_RP11_216L13_19_RP11_216L13_18', 'KIAA1984_AS1', 'KIAA2013', 'KIAA2018', 'KIAA2022_AMDP1_TRPC6P_TCEB1P24_DDX11L16_WASIR1', 'KIAA2022_SNORA7_AMDP1_TRPC6P_TCEB1P24_DDX11L16_WASIR1', 'KIAA2026', 'KIDINS220', 'KIF11', 'KIF12', 'KIF13A', 'KIF13B', 'KIF14', 'KIF15', 'KIF16B', 'KIF17', 'KIF18A', 'KIF18B', 'KIF19', 'KIF1A', 'KIF1B', 'KIF1C', 'KIF20A', 'KIF20B', 'KIF21A', 'KIF21B', 'KIF22', 'KIF23', 'KIF24', 'KIF25', 'KIF25_AS1', 'KIF26A', 'KIF26B', 'KIF27', 'KIF2A', 'KIF2A_IPO11', 'KIF2B', 'KIF2C', 'KIF3A', 'KIF3B', 'KIF3C', 'KIF3C_Y_RNA', 'KIF4A_IL9R_SPRY3_VAMP7_WASH6P_DPH3P2_AJ271736_10', 'KIF4B', 'KIF5A', 'KIF5B', 'KIF5C', 'KIF6', 'KIF7', 'KIF9', 'KIF9_AS1', 'KIFAP3', 'KIFC1', 'KIFC2', 'KIFC3', 'KIN', 'KIR2DL1', 'KIR2DL1_CTB_61M7_1', 'KIR2DL3', 'KIR2DL3_KIR2DL1', 'KIR2DL4', 'KIR2DS4', 'KIR3DL1', 'KIR3DL1_KIR3DL2', 'KIR3DL2', 'KIR3DL3', 'KIR3DL3_KIR3DL1_KIR2DL4_CTB_61M7_1', 'KIR3DX1', 'KIRREL', 'KIRREL2', 'KIRREL3', 'KIRREL3_AS2', 'KIRREL3_AS3', 'KISS1', 'KISS1R', 'KIT', 'KITLG', 'KL', 'KLB', 'KLC1', 'KLC1_RP11_73M18_2', 'KLC1_RP11_73M18_6', 'KLC2', 'KLC3', 'KLC4', 'KLF1', 'KLF10', 'KLF11', 'KLF12', 'KLF13', 'KLF15', 'KLF16', 'KLF17', 'KLF2', 'KLF3', 'KLF4', 'KLF5', 'KLF6', 'KLF7', 'KLF8', 'KLF9', 'KLHDC1', 'KLHDC10', 'KLHDC2', 'KLHDC3', 'KLHDC4', 'KLHDC8A', 'KLHDC8B', 'KLHL1', 'KLHL10', 'KLHL11', 'KLHL12', 'KLHL13_AMDP1_TRPC6P_TCEB1P24_DDX11L16_WASIR1', 'KLHL14', 'KLHL15', 'KLHL17', 'KLHL18', 'KLHL2', 'KLHL20', 'KLHL21', 'KLHL22', 'KLHL23', 'KLHL23_PHOSPHO2', 'KLHL24', 'KLHL25', 'KLHL26', 'KLHL28', 'KLHL29', 'KLHL2P1', 'KLHL3', 'KLHL30', 'KLHL31', 'KLHL32', 'KLHL33', 'KLHL34', 'KLHL35', 'KLHL36', 'KLHL38', 'KLHL4_IL9R_SPRY3_VAMP7_WASH6P_DPH3P2_AJ271736_10', 'KLHL40', 'KLHL41', 'KLHL41_BBS5_RP11_724O16_1', 'KLHL42', 'KLHL5', 'KLHL6', 'KLHL7', 'KLHL7_AS1', 'KLHL8', 'KLHL9', 'KLK1', 'KLK10', 'KLK11', 'KLK12', 'KLK13', 'KLK14', 'KLK15', 'KLK2', 'KLK3', 'KLK4', 'KLK5', 'KLK6', 'KLK7', 'KLK8', 'KLK9', 'KLK9_KLK8', 'KLKB1', 'KLKP1', 'KLRAP1', 'KLRB1', 'KLRC1', 'KLRC1_KLRC2', 'KLRC2', 'KLRC2_NKG2_E', 'KLRC3', 'KLRC3_NKG2_E', 'KLRC4_KLRC4_KLRK1', 'KLRC4_KLRK1', 'KLRD1', 'KLRF1', 'KLRG1', 'KLRG2', 'KLRK1_KLRC4_KLRK1', 'KM_PA_2', 'KMO', 'KMT2A', 'KMT2B', 'KMT2C', 'KMT2D', 'KMT2E', 'KMT2E_AS1_LINC01004', 'KNCN', 'KNDC1', 'KNG1', 'KNOP1', 'KNSTRN', 'KNTC1', 'KPNA1', 'KPNA2', 'KPNA3', 'KPNA4', 'KPNA5', 'KPNA6', 'KPNA7', 'KPNB1', 'KPRP', 'KPTN', 'KRAS', 'KRBA1', 'KRBA2_RP11_849F2_7', 'KRBOX1', 'KRBOX4', 'KRCC1', 'KREMEN1', 'KREMEN2', 'KRI1', 'KRIT1', 'KRIT1_AC000120_7', 'KRR1', 'KRT1', 'KRT10', 'KRT12', 'KRT121P', 'KRT13', 'KRT14', 'KRT15', 'KRT16', 'KRT16P1', 'KRT16P2', 'KRT16P3', 'KRT17', 'KRT17P2', 'KRT18', 'KRT18_AC107016_2', 'KRT18P55', 'KRT19', 'KRT2', 'KRT20', 'KRT222', 'KRT23', 'KRT24', 'KRT25', 'KRT26', 'KRT27', 'KRT28', 'KRT3', 'KRT31', 'KRT32', 'KRT33A', 'KRT33B', 'KRT34', 'KRT35', 'KRT36', 'KRT37', 'KRT38', 'KRT39', 'KRT4', 'KRT40', 'KRT42P', 'KRT5', 'KRT6A', 'KRT6B', 'KRT6C', 'KRT7', 'KRT71', 'KRT72', 'KRT73', 'KRT74', 'KRT75', 'KRT76', 'KRT77', 'KRT78', 'KRT79', 'KRT8', 'KRT80', 'KRT81', 'KRT82', 'KRT83', 'KRT84', 'KRT85', 'KRT86', 'KRT8P12', 'KRT8P41', 'KRT9', 'KRTAP1_1', 'KRTAP10_1', 'KRTAP10_12', 'KRTAP10_2', 'KRTAP10_3', 'KRTAP10_4', 'KRTAP10_5', 'KRTAP10_7_AL773602_1', 'KRTAP10_8', 'KRTAP12_4', 'KRTAP13_3', 'KRTAP19_3', 'KRTAP19_6', 'KRTAP20_3', 'KRTAP20_4', 'KRTAP23_1', 'KRTAP25_1', 'KRTAP27_1', 'KRTAP3_1', 'KRTAP3_3', 'KRTAP4_1', 'KRTAP5_1', 'KRTAP5_10', 'KRTAP5_3', 'KRTAP5_4', 'KRTAP5_7', 'KRTAP5_8', 'KRTAP5_9', 'KRTAP5_AS1', 'KRTAP7_1_AP000244_1', 'KRTCAP2_RP11_201K10_3', 'KRTCAP3', 'KRTDAP', 'KSR1', 'KSR1_AC015688_3', 'KSR2', 'KTI12_TXNDC12', 'KTN1', 'KTN1_AS1', 'KXD1', 'KY', 'KYNU', 'L1CAM_AMDP1_TRPC6P_TCEB1P24_DDX11L16_WASIR1', 'L1CAM_ARHGAP4_AMDP1_TRPC6P_TCEB1P24_DDX11L16_WASIR1', 'L1TD1', 'L2HGDH', 'L3HYPDH', 'L3HYPDH_GPR135', 'L3HYPDH_RP11_701B16_2', 'L3MBTL1', 'L3MBTL2', 'L3MBTL3', 'L3MBTL4', 'LA16c_431H6_6', 'LACC1', 'LACE1', 'LACRT', 'LACTB', 'LACTB2', 'LAD1', 'LAD1_TNNT2', 'LAG3', 'LAGE3_AMDP1_TRPC6P_TCEB1P24_DDX11L16_WASIR1', 'LAIR1', 'LAIR2', 'LALBA', 'LAMA1', 'LAMA2', 'LAMA3', 'LAMA4', 'LAMA5', 'LAMB1', 'LAMB2', 'LAMB3', 'LAMB3_MIR4260', 'LAMB4', 'LAMC1', 'LAMC2', 'LAMC3', 'LAMP1', 'LAMP2_AMDP1_TRPC6P_TCEB1P24_DDX11L16_WASIR1', 'LAMP3', 'LAMP5', 'LAMTOR1', 'LAMTOR2', 'LAMTOR3', 'LAMTOR4', 'LAMTOR5', 'LANCL1', 'LANCL2', 'LANCL3', 'LAP3', 'LAPTM4A', 'LAPTM4B', 'LAPTM5', 'LARGE', 'LARGE_AS1', 'LARP1', 'LARP1B', 'LARP4', 'LARP4B', 'LARP6', 'LARP7', 'LARS', 'LARS2', 'LAS1L_AMDP1_TRPC6P_TCEB1P24_DDX11L16_WASIR1', 'LASP1', 'LAT_RP11_264B17_3', 'LAT2', 'LATS1', 'LATS2', 'LAX1', 'LAYN', 'LBH', 'LBH_AC104698_1', 'LBP', 'LBR', 'LBX1', 'LBX1_AS1', 'LBX2', 'LBX2_AC005041_17', 'LBX2_AS1', 'LCA5', 'LCA5L', 'LCAT', 'LCAT_SLC12A4_CTC_479C5_17', 'LCE1B', 'LCE1C', 'LCE1D', 'LCE1E', 'LCE2A', 'LCE2B', 'LCE2B_LCE2C', 'LCE2D', 'LCE3C', 'LCE3D', 'LCE3E', 'LCE4A', 'LCE5A', 'LCE6A', 'LCK', 'LCLAT1', 'LCMT1', 'LCN1', 'LCN10', 'LCN10_LCN6', 'LCN12', 'LCN15', 'LCN2', 'LCN6', 'LCN8', 'LCN9', 'LCOR', 'LCORL', 'LCP1', 'LCP2', 'LCT', 'LCTL', 'LDB1', 'LDB2', 'LDB3', 'LDHA', 'LDHAL6A', 'LDHB', 'LDHC', 'LDHD', 'LDLR', 'LDLRAD1', 'LDLRAD2', 'LDLRAD3', 'LDLRAD4', 'LDLRAD4_AS1', 'LDLRAP1', 'LDOC1L', 'LEAP2', 'LECT1', 'LECT2', 'LEF1', 'LEF1_AS1', 'LEFTY1_RP4_559A3_7', 'LEFTY2', 'LEKR1', 'LELP1', 'LEMD1', 'LEMD1_AS1', 'LEMD2', 'LEMD3', 'LENEP', 'LENG1', 'LENG8', 'LEO1', 'LEP', 'LEPR', 'LEPRE1', 'LEPREL1', 'LEPREL2', 'LEPREL4', 'LEPROT', 'LEPROT_LEPR', 'LEPROTL1', 'LETM1', 'LETM2', 'LETMD1', 'LEUTX', 'LFNG', 'LGALS1', 'LGALS12', 'LGALS13', 'LGALS14', 'LGALS16', 'LGALS17A', 'LGALS2', 'LGALS3', 'LGALS3BP', 'LGALS4', 'LGALS7', 'LGALS7B', 'LGALS8', 'LGALS9', 'LGALS9_AC015688_3', 'LGALS9B', 'LGALS9C', 'LGALSL', 'LGI1', 'LGI2', 'LGI3', 'LGI3_Y_RNA', 'LGI4', 'LGMN', 'LGR4', 'LGR5', 'LGR6', 'LGSN', 'LHB', 'LHCGR', 'LHFP', 'LHFPL1_AMDP1_TRPC6P_TCEB1P24_DDX11L16_WASIR1', 'LHFPL2', 'LHFPL3', 'LHFPL3_AS1', 'LHFPL4', 'LHFPL5', 'LHPP', 'LHX1', 'LHX2', 'LHX3', 'LHX4', 'LHX5', 'LHX6', 'LHX8', 'LHX9', 'LIAS', 'LIF', 'LIFR', 'LIFR_AS1', 'LIG1', 'LIG3', 'LIG4', 'LILRA1', 'LILRA2', 'LILRA2_LILRB1', 'LILRA3', 'LILRA4', 'LILRA4_AC008984_2', 'LILRA5', 'LILRA5_AC008984_2', 'LILRA6', 'LILRA6_LILRB3', 'LILRB1', 'LILRB2', 'LILRB3', 'LILRB4', 'LILRB5', 'LILRP2', 'LIM2', 'LIMA1', 'LIMCH1', 'LIMD1', 'LIMD1_AS1', 'LIMD2', 'LIME1_RP4_583P15_15', 'LIME1_RP4_583P15_15_RP4_583P15_14', 'LIME1_ZGPAT_RP4_583P15_15', 'LIMK1', 'LIMK2', 'LIMS1', 'LIMS2', 'LIMS3', 'LIMS3L', 'LIN28A', 'LIN28B', 'LIN37_AC002398_9', 'LIN52', 'LIN54', 'LIN7A', 'LIN7B', 'LIN7C', 'LIN9', 'LINC00028', 'LINC00029', 'LINC00032', 'LINC00035', 'LINC00051', 'LINC00052', 'LINC00085', 'LINC00092', 'LINC00094', 'LINC00111', 'LINC00112', 'LINC00113', 'LINC00114', 'LINC00116', 'LINC00152', 'LINC00158', 'LINC00161', 'LINC00162', 'LINC00163', 'LINC00167', 'LINC00173', 'LINC00174', 'LINC00176', 'LINC00189', 'LINC00200', 'LINC00202_1', 'LINC00202_2', 'LINC00202_2_RP13_16H11_7', 'LINC00207', 'LINC00211', 'LINC00221', 'LINC00222', 'LINC00238', 'LINC00240', 'LINC00242', 'LINC00243', 'LINC00261', 'LINC00263', 'LINC00264', 'LINC00265', 'LINC00266_1', 'LINC00271', 'LINC00272', 'LINC00276', 'LINC00277', 'LINC00277_RP11_809H16_5', 'LINC00284', 'LINC00290', 'LINC00293', 'LINC00299', 'LINC00301', 'LINC00303', 'LINC00304', 'LINC00305', 'LINC00308', 'LINC00310', 'LINC00313', 'LINC00314', 'LINC00319', 'LINC00320', 'LINC00323', 'LINC00324', 'LINC00326', 'LINC00327', 'LINC00334', 'LINC00336', 'LINC00337', 'LINC00339', 'LINC00342', 'LINC00343', 'LINC00346', 'LINC00347', 'LINC00355', 'LINC00382', 'LINC00402', 'LINC00408', 'LINC00410', 'LINC00424', 'LINC00426', 'LINC00441', 'LINC00442', 'LINC00452', 'LINC00458', 'LINC00460', 'LINC00461', 'LINC00466', 'LINC00467', 'LINC00469', 'LINC00470', 'LINC00471', 'LINC00472', 'LINC00472_RP3_331H24_5', 'LINC00473', 'LINC00474', 'LINC00475', 'LINC00476', 'LINC00477', 'LINC00478', 'LINC00479', 'LINC00482', 'LINC00483', 'LINC00484', 'LINC00486', 'LINC00487', 'LINC00488', 'LINC00491', 'LINC00493', 'LINC00494', 'LINC00504', 'LINC00507', 'LINC00511', 'LINC00514', 'LINC00517', 'LINC00518', 'LINC00520', 'LINC00521', 'LINC00523', 'LINC00525', 'LINC00544', 'LINC00552', 'LINC00566', 'LINC00574', 'LINC00575', 'LINC00588', 'LINC00589', 'LINC00592', 'LINC00593', 'LINC00595', 'LINC00596', 'LINC00598', 'LINC00599', 'LINC00605', 'LINC00606', 'LINC00607', 'LINC00608', 'LINC00616', 'LINC00620', 'LINC00623', 'LINC00624', 'LINC00626', 'LINC00634', 'LINC00635', 'LINC00636', 'LINC00637', 'LINC00638', 'LINC00639', 'LINC00642', 'LINC00643', 'LINC00643_RP11_355I22_6', 'LINC00645', 'LINC00648', 'LINC00649', 'LINC00652', 'LINC00654', 'LINC00658', 'LINC00659', 'LINC00661', 'LINC00662', 'LINC00663', 'LINC00664', 'LINC00664_CTD_2561J22_3', 'LINC00665', 'LINC00667', 'LINC00668', 'LINC00669', 'LINC00670', 'LINC00671', 'LINC00672', 'LINC00674', 'LINC00678', 'LINC00680', 'LINC00682', 'LINC00689', 'LINC00690', 'LINC00691', 'LINC00692', 'LINC00696', 'LINC00698', 'LINC00700', 'LINC00703', 'LINC00704', 'LINC00705', 'LINC00707', 'LINC00708', 'LINC00710', 'LINC00838', 'LINC00839', 'LINC00841', 'LINC00842', 'LINC00842_ANXA8L1', 'LINC00843_PARGP1', 'LINC00847', 'LINC00854', 'LINC00856', 'LINC00857', 'LINC00858', 'LINC00862', 'LINC00863', 'LINC00864', 'LINC00865', 'LINC00868', 'LINC00870', 'LINC00877', 'LINC00879', 'LINC00880', 'LINC00882', 'LINC00883', 'LINC00884', 'LINC00885', 'LINC00886', 'LINC00887', 'LINC00888', 'LINC00896', 'LINC00898', 'LINC00899', 'LINC00900', 'LINC00901', 'LINC00904', 'LINC00905', 'LINC00906', 'LINC00907', 'LINC00908', 'LINC00909', 'LINC00910', 'LINC00917', 'LINC00919', 'LINC00920', 'LINC00922', 'LINC00923', 'LINC00924', 'LINC00925', 'LINC00926', 'LINC00927', 'LINC00928', 'LINC00929', 'LINC00930', 'LINC00933', 'LINC00935', 'LINC00937', 'LINC00939', 'LINC00940', 'LINC00941', 'LINC00943', 'LINC00944', 'LINC00948', 'LINC00951', 'LINC00954', 'LINC00955', 'LINC00957', 'LINC00958', 'LINC00959', 'LINC00960', 'LINC00961', 'LINC00963', 'LINC00964', 'LINC00967', 'LINC00968', 'LINC00969', 'LINC00969_SDHAP2', 'LINC00971', 'LINC00977', 'LINC00982', 'LINC00982_AL008733_1', 'LINC00984', 'LINC00989', 'LINC00992', 'LINC00996', 'LINC00998', 'LINC00999', 'LINC01001', 'LINC01002', 'LINC01005', 'LINC01007', 'LINC01010', 'LINC01013', 'LINC01015', 'LINC01016', 'LINC01018', 'LINC01019', 'LINC01020', 'LINC01021', 'LINC01024', 'LINC01028', 'LINC01049', 'LINC01057', 'LINC01060', 'LINC01069', 'LINC01071', 'LINC01085', 'LINC01085_KLF17P2', 'LINC01088', 'LINGO1', 'LINGO2', 'LINGO3', 'LINGO4', 'LINS', 'LIPA', 'LIPC', 'LIPE', 'LIPE_AS1', 'LIPF', 'LIPG', 'LIPH', 'LIPI', 'LIPJ', 'LIPK', 'LIPM', 'LIPN', 'LIPT1', 'LIPT1_MRPL30', 'LIPT2', 'LITAF', 'LIX1', 'LIX1L', 'LL22NC03_30E12_11', 'LL22NC03_30E12_13', 'LL22NC03_63E9_3', 'LL22NC03_75H12_2', 'LLGL1', 'LLGL2', 'LLPH', 'LMAN1', 'LMAN1L', 'LMAN1L_CPLX3_RP11_414J4_2', 'LMAN1L_RP11_414J4_2', 'LMAN2', 'LMAN2L', 'LMBR1', 'LMBR1L', 'LMBRD1', 'LMBRD2', 'LMCD1', 'LMCD1_AS1', 'LMF1', 'LMF1_RP11_161M6_2', 'LMF2', 'LMLN', 'LMNA', 'LMNB1', 'LMNB2', 'LMO1', 'LMO2', 'LMO3', 'LMO4', 'LMO7', 'LMO7_RP11_29G8_3', 'LMOD1', 'LMOD2', 'LMOD3', 'LMTK2', 'LMTK3', 'LMX1A', 'LMX1B', 'LMX1B_RP11_489N22_3', 'LNP1', 'LNPEP', 'LNX1', 'LNX2', 'LOH12CR1', 'LOH12CR2', 'LONP1', 'LONP2', 'LONRF1', 'LONRF2', 'LOR', 'LOX', 'LOXHD1', 'LOXL1', 'LOXL1_AS1', 'LOXL2', 'LOXL2_ENTPD4', 'LOXL3', 'LOXL4', 'LPA', 'LPA_RP1_81D8_4', 'LPAL2', 'LPAR1', 'LPAR2', 'LPAR3', 'LPAR5', 'LPAR6', 'LPCAT1', 'LPCAT2', 'LPCAT3', 'LPCAT4', 'LPGAT1', 'LPHN1', 'LPHN2', 'LPHN3', 'LPIN1', 'LPIN2', 'LPIN3', 'LPL', 'LPO', 'LPP', 'LPPR1', 'LPPR3', 'LPPR4', 'LPPR5', 'LPXN', 'LRAT', 'LRBA', 'LRBA_Y_RNA', 'LRCH1', 'LRCH2_AMDP1_TRPC6P_TCEB1P24_DDX11L16_WASIR1', 'LRCH3', 'LRCH4', 'LRCH4_SAP25', 'LRFN1', 'LRFN1_CTC_246B18_8', 'LRFN2', 'LRFN3', 'LRFN4', 'LRFN5', 'LRG1_CTB_50L17_14', 'LRGUK', 'LRIF1', 'LRIG1', 'LRIG2', 'LRIG3', 'LRIT1', 'LRIT2', 'LRIT3', 'LRMP', 'LRP1', 'LRP1_snoU13', 'LRP10', 'LRP11', 'LRP12', 'LRP1B', 'LRP1B_AC078882_1', 'LRP2', 'LRP2BP', 'LRP3', 'LRP4', 'LRP4_AS1', 'LRP5', 'LRP5L', 'LRP6', 'LRP8', 'LRPAP1', 'LRPPRC', 'LRR1', 'LRRC1', 'LRRC14', 'LRRC14B', 'LRRC15', 'LRRC16A', 'LRRC16B', 'LRRC17', 'LRRC18', 'LRRC18_RP11_523O18_7', 'LRRC19', 'LRRC2', 'LRRC20', 'LRRC23', 'LRRC24', 'LRRC25', 'LRRC26', 'LRRC26_RP11_350O14_18', 'LRRC27', 'LRRC28', 'LRRC29', 'LRRC29_AC040160_1', 'LRRC3', 'LRRC31', 'LRRC32', 'LRRC34', 'LRRC36', 'LRRC37A', 'LRRC37A11P', 'LRRC37A11P_snoU13', 'LRRC37A17P', 'LRRC37A17P_RP11_156P1_2', 'LRRC37A2', 'LRRC37A3', 'LRRC37A4P', 'LRRC37A5P', 'LRRC37A6P', 'LRRC37A9P', 'LRRC37B', 'LRRC37BP1_AC005562_1', 'LRRC38', 'LRRC39', 'LRRC3B', 'LRRC4', 'LRRC40', 'LRRC41', 'LRRC42', 'LRRC43', 'LRRC45', 'LRRC46', 'LRRC47', 'LRRC48', 'LRRC49', 'LRRC4B', 'LRRC4C', 'LRRC52', 'LRRC55', 'LRRC56', 'LRRC57', 'LRRC58', 'LRRC59', 'LRRC6', 'LRRC61', 'LRRC63', 'LRRC66', 'LRRC69', 'LRRC7', 'LRRC71', 'LRRC73', 'LRRC8A', 'LRRC8B', 'LRRC8C_RP11_302M6_4', 'LRRC8D', 'LRRC8D_RP11_302M6_4', 'LRRC8E', 'LRRC9', 'LRRCC1', 'LRRD1', 'LRRFIP1', 'LRRFIP1_RBM44', 'LRRFIP2', 'LRRIQ1', 'LRRIQ3', 'LRRIQ4', 'LRRK1', 'LRRK2', 'LRRN1', 'LRRN2', 'LRRN3', 'LRRN4', 'LRRTM1', 'LRRTM2', 'LRRTM3', 'LRRTM4', 'LRSAM1', 'LRTM1', 'LRTM2', 'LRTOMT', 'LRWD1', 'LRWD1_MIR5090', 'LSAMP', 'LSG1', 'LSM1', 'LSM10', 'LSM11', 'LSM12', 'LSM14A', 'LSM14B', 'LSM2', 'LSM3', 'LSM4', 'LSM5', 'LSM6', 'LSM7', 'LSMD1', 'LSMEM1', 'LSMEM2', 'LSP1', 'LSP1_AC051649_12', 'LSR', 'LSS', 'LST1', 'LST3_SLCO1B7', 'LST3_SLCO1B7_RP11_125O5_2', 'LTA', 'LTA4H', 'LTB', 'LTB4R', 'LTB4R_LTB4R2', 'LTBP1', 'LTBP2', 'LTBP3', 'LTBP4', 'LTBR', 'LTC4S_MAML1', 'LTF', 'LTK', 'LTN1', 'LTV1', 'LTV1_RP3_468K18_5', 'LUC7L', 'LUC7L3', 'LUCAT1_RP11_213H15_4', 'LUM', 'LURAP1', 'LURAP1L', 'LUZP1', 'LUZP1_RP1_184J9_2', 'LUZP2', 'LUZP4_IL9R_SPRY3_VAMP7_WASH6P_DPH3P2_AJ271736_10', 'LXN', 'LY6D', 'LY6E', 'LY6G5B_CSNK2B_LY6G5B_1181', 'LY6G5C', 'LY6G6C', 'LY6G6D_LY6G6F_MEGT1', 'LY6G6E_XXbac_BPG32J3_20', 'LY6G6F', 'LY6G6F_MEGT1', 'LY6H', 'LY6K', 'LY75', 'LY75_CD302_LY75_CD302', 'LY75_LY75_CD302', 'LY86', 'LY86_AS1', 'LY9', 'LY96', 'LYAR', 'LYG1', 'LYG2', 'LYL1', 'LYN', 'LYNX1', 'LYPD1', 'LYPD2', 'LYPD3', 'LYPD4', 'LYPD5', 'LYPD6', 'LYPD6B', 'LYPLA1', 'LYPLA2', 'LYPLAL1', 'LYRM1', 'LYRM2', 'LYRM4', 'LYRM5', 'LYRM7', 'LYRM9_RP1_66C13_4', 'LYSMD1', 'LYSMD2', 'LYSMD3', 'LYSMD4', 'LYSMD4_Y_RNA_DKFZP779J2370', 'LYST', 'LYVE1', 'LYZ', 'LYZL1', 'LYZL2', 'LYZL4', 'LYZL6', 'LZIC', 'LZTFL1', 'LZTR1', 'LZTR1_AIFM3', 'LZTS1', 'LZTS2', 'LZTS3', 'M1AP', 'M1AP_Y_RNA', 'M6PR', 'MAATS1', 'MAB21L3', 'MACC1', 'MACF1', 'MACF1_KIAA0754', 'MACROD1', 'MACROD2', 'MACROD2_AS1', 'MAD1L1', 'MAD2L1', 'MAD2L1BP', 'MAD2L2', 'MADCAM1', 'MADD', 'MADD_snoU13', 'MAEA', 'MAEL', 'MAF1', 'MAFF', 'MAFG', 'MAFG_AS1', 'MAFK', 'MAG', 'MAGEA1_AMDP1_TRPC6P_TCEB1P24_DDX11L16_WASIR1', 'MAGEA10_RP11_1007I13_4_AMDP1_TRPC6P_TCEB1P24_DDX11L16_WASIR1', 'MAGEA12_AMDP1_TRPC6P_TCEB1P24_DDX11L16_WASIR1', 'MAGEA2_AMDP1_TRPC6P_TCEB1P24_DDX11L16_WASIR1', 'MAGEB1', 'MAGEB1_MAGEB4', 'MAGEB10', 'MAGEB16', 'MAGEB18', 'MAGEB2', 'MAGEB3', 'MAGEB6', 'MAGEC2_AMDP1_TRPC6P_TCEB1P24_DDX11L16_WASIR1', 'MAGED1', 'MAGED2', 'MAGED4', 'MAGED4_SNORA11D', 'MAGED4B', 'MAGED4B_SNORA11E', 'MAGI1', 'MAGI1_MAGI1_IT1', 'MAGI2', 'MAGI2_AS3', 'MAGI3', 'MAGIX', 'MAGOH', 'MAGOHB', 'MAK', 'MAK16', 'MAL', 'MAL2', 'MALL', 'MALSU1', 'MALT1', 'MAMDC2', 'MAMDC2_AS1', 'MAMDC4', 'MAML1', 'MAML2', 'MAML3', 'MAMSTR', 'MAN1A1', 'MAN1A2', 'MAN1B1', 'MAN1C1', 'MAN2A1', 'MAN2A2', 'MAN2B1', 'MAN2B1_CTD_2192J16_22', 'MAN2B1_CTD_2192J16_24', 'MAN2B1_Y_RNA', 'MAN2B2', 'MAN2C1', 'MANBA', 'MANBAL', 'MANEA', 'MANEAL', 'MANF', 'MANSC1', 'MANSC4', 'MAOA', 'MAOB', 'MAP10', 'MAP1A', 'MAP1B', 'MAP1LC3A', 'MAP1LC3B', 'MAP1LC3B2', 'MAP1LC3C', 'MAP1S', 'MAP2', 'MAP2K1', 'MAP2K2', 'MAP2K3', 'MAP2K4', 'MAP2K5', 'MAP2K6', 'MAP2K7', 'MAP3K1', 'MAP3K10', 'MAP3K11', 'MAP3K12', 'MAP3K13', 'MAP3K14', 'MAP3K14_AS1', 'MAP3K15', 'MAP3K19', 'MAP3K2', 'MAP3K3', 'MAP3K4', 'MAP3K5', 'MAP3K6', 'MAP3K7', 'MAP3K7CL', 'MAP3K8', 'MAP3K9', 'MAP4', 'MAP4K1', 'MAP4K2', 'MAP4K3', 'MAP4K4', 'MAP4K5', 'MAP6', 'MAP6D1', 'MAP7', 'MAP7D1', 'MAP7D2', 'MAP7D3_AMDP1_TRPC6P_TCEB1P24_DDX11L16_WASIR1', 'MAP9', 'MAPK1', 'MAPK10', 'MAPK11', 'MAPK12', 'MAPK13', 'MAPK14', 'MAPK15', 'MAPK1IP1L', 'MAPK3', 'MAPK4', 'MAPK6', 'MAPK7', 'MAPK8', 'MAPK8IP1', 'MAPK8IP2', 'MAPK8IP3', 'MAPK9', 'MAPKAP1', 'MAPKAPK2', 'MAPKAPK3', 'MAPKAPK5', 'MAPKAPK5_AS1_AC003029_1', 'MAPKBP1', 'MAPRE1', 'MAPRE2', 'MAPRE3', 'MAPT', 'MAPT_AS1', 'MARC1', 'MARC2', 'MARCH1', 'MARCH10', 'MARCH11', 'MARCH2', 'MARCH3', 'MARCH4', 'MARCH5', 'MARCH6', 'MARCH7', 'MARCH8', 'MARCH9', 'MARCKS', 'MARCKSL1', 'MARCO', 'MARK1', 'MARK2', 'MARK3', 'MARK4', 'MARK4_GEMIN7', 'MARK4_snoU13', 'MARS', 'MARVELD2', 'MARVELD3', 'MASP1', 'MASP2', 'MAST1', 'MAST2', 'MAST3', 'MAST4', 'MASTL', 'MAT1A', 'MAT2A', 'MAT2B', 'MATK', 'MATN1', 'MATN1_AS1', 'MATN2', 'MATN3', 'MATN4', 'MATR3', 'MAU2', 'MAVS', 'MAX', 'MAZ', 'MB', 'MB_AL049747_1', 'MB21D1', 'MB21D2', 'MBD1', 'MBD2', 'MBD3', 'MBD3_UQCR11', 'MBD3L1', 'MBD3L2', 'MBD3L5', 'MBD4', 'MBD5', 'MBD6', 'MBIP', 'MBL1P', 'MBL2', 'MBLAC1', 'MBLAC2', 'MBNL1', 'MBNL1_AS1', 'MBNL2', 'MBNL3_AMDP1_TRPC6P_TCEB1P24_DDX11L16_WASIR1', 'MBOAT1', 'MBOAT2', 'MBOAT4', 'MBOAT7', 'MBP', 'MBTD1', 'MBTPS1', 'MBTPS2', 'MC1R', 'MC2R', 'MC3R', 'MC4R', 'MCAM', 'MCAT', 'MCC', 'MCCC1', 'MCCC2', 'MCCD1', 'MCEE', 'MCF2_AMDP1_TRPC6P_TCEB1P24_DDX11L16_WASIR1', 'MCF2L', 'MCF2L2', 'MCFD2', 'MCHR1', 'MCHR2', 'MCIDAS', 'MCL1', 'MCM10', 'MCM2', 'MCM3', 'MCM3AP', 'MCM3AP_AP001469_9', 'MCM3AP_AS1', 'MCM4', 'MCM5', 'MCM6', 'MCM7', 'MCM8', 'MCM9', 'MCMBP', 'MCMDC2', 'MCOLN1', 'MCOLN1_CTD_2207O23_10', 'MCOLN2', 'MCOLN3', 'MCPH1', 'MCRS1', 'MCTP1', 'MCTP2', 'MCU', 'MCUR1', 'MDC1', 'MDFI', 'MDFIC', 'MDGA1', 'MDGA2', 'MDH1', 'MDH1B', 'MDH2', 'MDK', 'MDM1', 'MDM2', 'MDM4', 'MDN1', 'MDP1_AL136419_6_NEDD8_MDP1', 'MDS2', 'ME1', 'ME2', 'ME3', 'MEA1', 'MEAF6', 'MECOM', 'MECP2_AMDP1_TRPC6P_TCEB1P24_DDX11L16_WASIR1', 'MECR', 'MED1', 'MED10', 'MED11', 'MED12L', 'MED13', 'MED13L', 'MED14', 'MED14_AS1', 'MED15', 'MED16', 'MED17', 'MED18', 'MED19', 'MED19_Y_RNA', 'MED20', 'MED21', 'MED22', 'MED23', 'MED24', 'MED25', 'MED26_CTD_3222D19_2', 'MED26_CTD_3222D19_2_CTC_429P9_4', 'MED27', 'MED27_RP11_32B11_2', 'MED28', 'MED29', 'MED30', 'MED31', 'MED4', 'MED6', 'MED6_CTD_2540L5_5', 'MED7', 'MED8', 'MED9', 'MEDAG', 'MEF2A', 'MEF2B', 'MEF2B_MEF2BNB_MEF2BNB_MEF2B', 'MEF2B_MEF2BNB_MEF2B', 'MEF2C', 'MEF2C_AS1', 'MEF2D', 'MEFV', 'MEG3', 'MEG8', 'MEG9', 'MEGF10', 'MEGF11', 'MEGF6', 'MEGF8', 'MEGF9', 'MEI1', 'MEIG1', 'MEIOB', 'MEIS1', 'MEIS2', 'MEIS3', 'MELK', 'MEMO1', 'MEMO1_DPY30', 'MEN1', 'MEOX1', 'MEOX2', 'MEP1A', 'MEP1B', 'MEPCE', 'MEPE', 'MERTK', 'MESDC2', 'MESP1', 'MESP2', 'MEST', 'MET', 'METAP1', 'METAP1D', 'METAP2', 'METRN', 'METRNL', 'METTL1', 'METTL10', 'METTL10_RP11_12J10_3', 'METTL11B', 'METTL12', 'METTL13', 'METTL14', 'METTL15', 'METTL16', 'METTL16_AC006435_1', 'METTL17', 'METTL18', 'METTL20', 'METTL21A', 'METTL21B', 'METTL21C', 'METTL21EP', 'METTL22', 'METTL23', 'METTL23_RP11_318A15_7', 'METTL24', 'METTL25', 'METTL2A', 'METTL2B', 'METTL3', 'METTL4', 'METTL5', 'METTL6', 'METTL7A', 'METTL7B', 'METTL8', 'METTL9', 'MEX3A', 'MEX3B', 'MEX3D', 'MFAP1', 'MFAP2', 'MFAP3', 'MFAP3L', 'MFAP4', 'MFAP5', 'MFF', 'MFGE8', 'MFHAS1', 'MFI2', 'MFI2_AS1', 'MFN1', 'MFN2', 'MFNG', 'MFRP_C1QTNF5', 'MFSD1', 'MFSD10', 'MFSD11', 'MFSD12', 'MFSD2A', 'MFSD2B', 'MFSD3', 'MFSD4', 'MFSD6', 'MFSD7', 'MFSD8', 'MFSD9', 'MGA', 'MGAM', 'MGARP', 'MGAT1', 'MGAT3', 'MGAT4A', 'MGAT4B', 'MGAT4C', 'MGAT4C_RP11_202H2_1', 'MGAT5', 'MGAT5B', 'MGEA5', 'MGLL', 'MGME1', 'MGMT', 'MGP', 'MGRN1', 'MGST1', 'MGST2', 'MGST3', 'MIA_MIA_RAB4B', 'MIA2', 'MIA2_RP11_407N17_3', 'MIA3', 'MIAT', 'MIB1', 'MIB2', 'MICA', 'MICAL1', 'MICAL2', 'MICAL3', 'MICAL3_XXbac_B461K10_4', 'MICALCL', 'MICALL1', 'MICALL2', 'MICB', 'MICU1', 'MICU2', 'MICU3', 'MID1', 'MID1IP1', 'MIDN', 'MIEF1', 'MIEF2', 'MIEN1', 'MIER1', 'MIER2', 'MIER3', 'MIF', 'MIF_AP000350_10', 'MIF4GD', 'MIIP', 'MILR1', 'MIMT1', 'MINA', 'MINK1', 'MINOS1_MINOS1_NBL1', 'MINPP1', 'MIOS', 'MIOX', 'MIP', 'MIPEP', 'MIPEPP3', 'MIPOL1', 'MIR100', 'MIR101_2', 'MIR106A_AMDP1_TRPC6P_TCEB1P24_DDX11L16_WASIR1', 'MIR106B', 'MIR122', 'MIR124_3', 'MIR1255B1', 'MIR125A', 'MIR125B1', 'MIR127', 'MIR128_1', 'MIR128_2', 'MIR129_2', 'MIR130A', 'MIR132', 'MIR133A1', 'MIR134', 'MIR135B', 'MIR136', 'MIR137HG', 'MIR138_1', 'MIR139', 'MIR140', 'MIR141', 'MIR142', 'MIR143HG', 'MIR143HG_AC131025_8', 'MIR144', 'MIR146A', 'MIR147A', 'MIR150', 'MIR152', 'MIR153_1', 'MIR153_2', 'MIR155HG', 'MIR15B', 'MIR17HG', 'MIR181A1HG', 'MIR181B1', 'MIR182', 'MIR183', 'MIR186', 'MIR187', 'MIR188', 'MIR190A', 'MIR191', 'MIR192', 'MIR193A', 'MIR194_2', 'MIR196A1', 'MIR196A2', 'MIR197', 'MIR199A1', 'MIR199B', 'MIR19B2_AMDP1_TRPC6P_TCEB1P24_DDX11L16_WASIR1', 'MIR200A', 'MIR200B', 'MIR200C', 'MIR204', 'MIR205HG', 'MIR206', 'MIR210', 'MIR211', 'MIR212', 'MIR216A', 'MIR217', 'MIR219_1', 'MIR219_2', 'MIR221', 'MIR222', 'MIR22HG', 'MIR25', 'MIR26A2', 'MIR296', 'MIR299', 'MIR29B1', 'MIR301A', 'MIR30A', 'MIR30D', 'MIR3150B', 'MIR31HG', 'MIR32', 'MIR320A', 'MIR323A', 'MIR328', 'MIR331', 'MIR339', 'MIR33A', 'MIR345', 'MIR369', 'MIR373', 'MIR375', 'MIR376A1', 'MIR376C', 'MIR377', 'MIR379', 'MIR383', 'MIR425', 'MIR429', 'MIR4435_1HG', 'MIR4500HG', 'MIR4500HG_RP11_342C20_2', 'MIR4697', 'MIR492_KRT19P2', 'MIR503HG_AMDP1_TRPC6P_TCEB1P24_DDX11L16_WASIR1', 'MIR511_1', 'MIR511_2', 'MIR5699', 'MIR663A', 'MIR7_3', 'MIR7_3HG', 'MIR93', 'MIR941_2_MIR941_1_MIR941_3', 'MIR99A', 'MIR99B', 'MIRLET7DHG', 'MIRLET7F2', 'MIS12', 'MIS18A', 'MIS18BP1', 'MISP', 'MITD1', 'MITF', 'MIXL1', 'MKI67', 'MKI67IP', 'MKKS', 'MKL1', 'MKL2', 'MKL2_TVP23CP2', 'MKLN1', 'MKLN1_AS1', 'MKLN1_AS2', 'MKNK1', 'MKNK1_MOB3C', 'MKNK2', 'MKRN1', 'MKRN2', 'MKRN3', 'MKS1', 'MKX', 'MLANA', 'MLC1', 'MLEC', 'MLF1', 'MLF1IP', 'MLF2', 'MLH1', 'MLH3', 'MLIP', 'MLIP_RP11_411K7_1', 'MLIP_snoU13', 'MLK4', 'MLK7_AS1', 'MLKL', 'MLKL_Y_RNA', 'MLLT1', 'MLLT10', 'MLLT11', 'MLLT3', 'MLLT4', 'MLLT4_AS1', 'MLLT6', 'MLN', 'MLNR', 'MLPH', 'MLST8', 'MLTK', 'MLX', 'MLXIP', 'MLXIPL', 'MLYCD', 'MLYCD_RP11_505K9_4', 'MMAA', 'MMAB', 'MMACHC', 'MMADHC', 'MMD', 'MMD2', 'MME', 'MMEL1', 'MMGT1_AMDP1_TRPC6P_TCEB1P24_DDX11L16_WASIR1', 'MMP1', 'MMP10', 'MMP11', 'MMP12', 'MMP13', 'MMP14', 'MMP15', 'MMP16', 'MMP17', 'MMP19', 'MMP2', 'MMP20', 'MMP21', 'MMP23A', 'MMP23B', 'MMP24', 'MMP25', 'MMP26', 'MMP27', 'MMP28', 'MMP3', 'MMP7', 'MMP8', 'MMP9', 'MMRN1', 'MMRN2', 'MMRN2_ADIRF_AS1_RP11_96C23_15', 'MMS19', 'MMS22L', 'MN1', 'MN1_Y_RNA', 'MNAT1', 'MNAT1_RP11_193F5_1', 'MND1', 'MNDA', 'MNS1', 'MNT', 'MNX1', 'MOAP1', 'MOB1A', 'MOB1B', 'MOB1B_DCK', 'MOB2', 'MOB3A', 'MOB3B', 'MOB3C', 'MOB4_HSPE1_MOB4', 'MOBP', 'MOCOS', 'MOCS1', 'MOCS2', 'MOCS3', 'MOG', 'MOGAT1', 'MOGAT2', 'MOGAT3', 'MOGS', 'MOK', 'MON1A', 'MON1B', 'MON1B_SYCE1L', 'MON2', 'MORC1', 'MORC2', 'MORC2_AS1', 'MORC3', 'MORC4_AMDP1_TRPC6P_TCEB1P24_DDX11L16_WASIR1', 'MORF4L1', 'MORF4L2_AMDP1_TRPC6P_TCEB1P24_DDX11L16_WASIR1', 'MORN1', 'MORN2', 'MORN2_ARHGEF33', 'MORN3', 'MORN4', 'MORN5', 'MOSPD1_AMDP1_TRPC6P_TCEB1P24_DDX11L16_WASIR1', 'MOSPD2', 'MOSPD3', 'MOV10', 'MOV10L1', 'MOXD1', 'MPC1', 'MPC2', 'MPDU1', 'MPDZ', 'MPG', 'MPHOSPH10', 'MPHOSPH6', 'MPHOSPH8', 'MPHOSPH9', 'MPI', 'MPL', 'MPND', 'MPO', 'MPP1_AMDP1_TRPC6P_TCEB1P24_DDX11L16_WASIR1', 'MPP2', 'MPP3', 'MPP4', 'MPP5', 'MPP6', 'MPP7', 'MPPE1', 'MPPED1', 'MPPED2', 'MPRIP', 'MPST', 'MPV17', 'MPV17L', 'MPV17L_RP11_1021N1_1', 'MPV17L2', 'MPZ', 'MPZL1', 'MPZL2', 'MPZL3', 'MR1', 'MRAP', 'MRAP2', 'MRAS', 'MRC1', 'MRC1L1', 'MRC2', 'MRE11A', 'MREG', 'MREG_PECR', 'MRFAP1', 'MRGBP', 'MRGPRE', 'MRGPRF', 'MRGPRG_AS1', 'MRGPRX2', 'MRGPRX3', 'MRGPRX4', 'MRI1', 'MRM1', 'MRO', 'MROH1', 'MROH2A', 'MROH2B', 'MROH3P', 'MROH5', 'MROH6', 'MROH6_Y_RNA', 'MROH7', 'MROH7_MROH7_TTC4', 'MROH7_TTC4', 'MROH8', 'MROH9', 'MRP63', 'MRPL1', 'MRPL10', 'MRPL11', 'MRPL13', 'MRPL14', 'MRPL15', 'MRPL16', 'MRPL17', 'MRPL18', 'MRPL19', 'MRPL2', 'MRPL20', 'MRPL20_RN7SL657P', 'MRPL21', 'MRPL22', 'MRPL23', 'MRPL23_AS1', 'MRPL24', 'MRPL27', 'MRPL28', 'MRPL3', 'MRPL32', 'MRPL33', 'MRPL34', 'MRPL35', 'MRPL36', 'MRPL37', 'MRPL38', 'MRPL38_FBF1_RP11_552F3_12', 'MRPL38_RP11_552F3_12', 'MRPL39', 'MRPL4', 'MRPL40', 'MRPL41', 'MRPL42', 'MRPL43', 'MRPL44', 'MRPL45', 'MRPL45P2', 'MRPL46', 'MRPL46_RP11_97O12_7', 'MRPL47', 'MRPL48', 'MRPL49', 'MRPL50', 'MRPL51', 'MRPL52', 'MRPL54', 'MRPL55', 'MRPL9', 'MRPL9_RP11_98D18_3', 'MRPS10', 'MRPS11', 'MRPS12', 'MRPS14', 'MRPS15', 'MRPS16', 'MRPS17', 'MRPS17_ZNF713', 'MRPS18A', 'MRPS18B', 'MRPS18C', 'MRPS2', 'MRPS21', 'MRPS22', 'MRPS23', 'MRPS24', 'MRPS24_URGCP_MRPS24', 'MRPS25', 'MRPS26', 'MRPS27', 'MRPS28', 'MRPS28_TPD52', 'MRPS30', 'MRPS31', 'MRPS31P2', 'MRPS31P5', 'MRPS31P5_RP11_248G5_8', 'MRPS33', 'MRPS35', 'MRPS36', 'MRPS5', 'MRPS5_ZNF514', 'MRPS6', 'MRPS7', 'MRPS9', 'MRRF', 'MRS2', 'MRTO4', 'MRVI1', 'MRVI1_AS1', 'MS4A1', 'MS4A10', 'MS4A12', 'MS4A13', 'MS4A14', 'MS4A15', 'MS4A18', 'MS4A2', 'MS4A3', 'MS4A4A', 'MS4A4E', 'MS4A5', 'MS4A6A', 'MS4A6E', 'MS4A6E_MS4A14', 'MS4A7', 'MS4A7_MS4A14', 'MS4A8', 'MSANTD1', 'MSANTD2', 'MSANTD3', 'MSANTD4', 'MSC', 'MSH2', 'MSH3', 'MSH4', 'MSH5_MSH5_SAPCD1', 'MSH5_SAPCD1_MSH5_SAPCD1', 'MSH6', 'MSI1', 'MSI2', 'MSL1', 'MSL2', 'MSL3', 'MSL3P1', 'MSLN', 'MSLNL', 'MSMB', 'MSMO1', 'MSMP', 'MSR1', 'MSRA', 'MSRB1', 'MSRB2', 'MSRB3', 'MSS51', 'MST1', 'MST1_AC099668_5', 'MST1L', 'MST1P2', 'MST1R', 'MST4_IL9R_SPRY3_VAMP7_WASH6P_DPH3P2_AJ271736_10', 'MSTN', 'MSTO1', 'MSTO1_MSTO2P', 'MSTO2P', 'MSX1', 'MSX2', 'MT1A', 'MT1B_RP11_249C24_11', 'MT1DP', 'MT1E', 'MT1F', 'MT1G', 'MT1H', 'MT1HL1', 'MT1JP', 'MT1L', 'MT1M', 'MT1X_RP11_343H19_2', 'MT2A', 'MT4', 'MTA1', 'MTA1_TEX22', 'MTA2', 'MTA3', 'MTAP', 'MTBP', 'MTCH1', 'MTCH2', 'MTCP1_AMDP1_TRPC6P_TCEB1P24_DDX11L16_WASIR1', 'MTCP1_CMC4_AMDP1_TRPC6P_TCEB1P24_DDX11L16_WASIR1', 'MTDH', 'MTERF', 'MTERFD1', 'MTERFD2', 'MTERFD3', 'MTF1', 'MTF2', 'MTFMT', 'MTFP1_RP4_539M6_19', 'MTFR1', 'MTFR1L', 'MTFR1L_RP1_317E23_6', 'MTFR2', 'MTG1', 'MTG1_RP11_108K14_8', 'MTG2', 'MTHFD1', 'MTHFD1L', 'MTHFD2', 'MTHFD2L', 'MTHFD2P1', 'MTHFR', 'MTHFS_ST20_MTHFS', 'MTHFSD', 'MTIF2', 'MTIF3', 'MTL5', 'MTMR1_IL9R_SPRY3_VAMP7_WASH6P_DPH3P2_AJ271736_10', 'MTMR10', 'MTMR11', 'MTMR12', 'MTMR14', 'MTMR2', 'MTMR3', 'MTMR4', 'MTMR6', 'MTMR7', 'MTMR8_AMDP1_TRPC6P_TCEB1P24_DDX11L16_WASIR1', 'MTMR8_ASB12_AMDP1_TRPC6P_TCEB1P24_DDX11L16_WASIR1', 'MTMR9', 'MTMR9LP', 'MTNR1A', 'MTNR1A_RP11_215A19_2', 'MTNR1B', 'MTO1', 'MTOR', 'MTPAP', 'MTPAP_GOLGA2P6', 'MTPN', 'MTR', 'MTRF1', 'MTRF1L', 'MTRR', 'MTSS1', 'MTSS1L', 'MTTP', 'MTUS1', 'MTUS2', 'MTUS2_AS1', 'MTX1', 'MTX2', 'MTX3', 'MUC1', 'MUC1_RP11_201K10_3', 'MUC12', 'MUC13', 'MUC15', 'MUC16', 'MUC17', 'MUC17_RN7SKP54', 'MUC19', 'MUC2', 'MUC20', 'MUC20_LINC00969', 'MUC21', 'MUC3A', 'MUC4', 'MUC5AC', 'MUC5B', 'MUC6', 'MUC7', 'MUCL1', 'MUL1', 'MUM1', 'MURC', 'MUS81', 'MUSK', 'MUSTN1_RP5_966M1_6_TMEM110_MUSTN1', 'MUT', 'MUTYH', 'MVB12A', 'MVB12A_CTD_2521M24_9', 'MVB12B', 'MVD', 'MVK', 'MVP', 'MVP_PAGR1', 'MX1', 'MX2', 'MXD1', 'MXD1_SNRNP27', 'MXD3', 'MXD3_RAB24', 'MXD4', 'MXI1', 'MXI1_snoU13', 'MXRA5', 'MXRA7', 'MXRA8', 'MYADM', 'MYADML2', 'MYB', 'MYBBP1A', 'MYBL1', 'MYBL2', 'MYBPC1', 'MYBPC2', 'MYBPC3', 'MYBPH', 'MYBPHL', 'MYC', 'MYCBP', 'MYCBP2', 'MYCBPAP', 'MYCN', 'MYCNOS', 'MYCT1', 'MYD88', 'MYD88_snoU13', 'MYEF2', 'MYEOV', 'MYEOV2', 'MYF5', 'MYF6', 'MYH1', 'MYH10', 'MYH11', 'MYH13', 'MYH13_Y_RNA', 'MYH14', 'MYH15', 'MYH15_Y_RNA', 'MYH16', 'MYH2', 'MYH3', 'MYH4', 'MYH6', 'MYH7', 'MYH7B', 'MYH8', 'MYH9', 'MYL1', 'MYL10', 'MYL12A', 'MYL12B', 'MYL2', 'MYL3', 'MYL4', 'MYL5', 'MYL6', 'MYL6B', 'MYL6B_MYL6', 'MYL7', 'MYL9', 'MYLIP', 'MYLK', 'MYLK_AS1', 'MYLK2', 'MYLK3', 'MYLK4', 'MYLPF', 'MYNN', 'MYO10', 'MYO15A', 'MYO15B', 'MYO16', 'MYO18A', 'MYO18A_TIAF1', 'MYO18B', 'MYO19', 'MYO1A', 'MYO1B', 'MYO1C', 'MYO1D', 'MYO1E', 'MYO1F', 'MYO1G', 'MYO1H', 'MYO3A', 'MYO3B', 'MYO5A', 'MYO5B', 'MYO5B_RP11_886H22_1', 'MYO5C', 'MYO6', 'MYO7A', 'MYO7B', 'MYO9A', 'MYO9B', 'MYOC', 'MYOCD', 'MYOCD_AC005358_1', 'MYOD1', 'MYOF', 'MYOG', 'MYOM1', 'MYOM2', 'MYOM3', 'MYOT', 'MYOZ1', 'MYOZ2', 'MYOZ3', 'MYPN', 'MYPOP', 'MYRF', 'MYRFL', 'MYRIP', 'MYSM1', 'MYT1', 'MYT1L', 'MZB1', 'MZF1', 'MZT1', 'MZT2A', 'MZT2B', 'N4BP1', 'N4BP2', 'N4BP2_snoU13', 'N4BP2L1', 'N4BP2L2', 'N4BP2L2_RP11_298P3_4', 'N4BP3', 'N6AMT1', 'N6AMT2', 'NAA10_AMDP1_TRPC6P_TCEB1P24_DDX11L16_WASIR1', 'NAA10_ARHGAP4_AMDP1_TRPC6P_TCEB1P24_DDX11L16_WASIR1', 'NAA11', 'NAA15', 'NAA16', 'NAA20', 'NAA25', 'NAA30', 'NAA35', 'NAA38', 'NAA40', 'NAA50', 'NAA60', 'NAA60_LA16c_306E5_3', 'NAAA', 'NAAA_SDAD1', 'NAALAD2', 'NAALADL1', 'NAALADL2', 'NAB1', 'NAB2', 'NABP1', 'NABP2', 'NACA', 'NACA2_AC002994_1', 'NACAD', 'NACAP1', 'NACC1', 'NACC2', 'NADK', 'NADK2', 'NADK2_SNORA31', 'NADSYN1', 'NAE1', 'NAF1', 'NAGA', 'NAGK', 'NAGLU', 'NAGLU_RP11_400F19_8', 'NAGPA', 'NAGS', 'NAGS_snoU13', 'NAIF1', 'NAIP', 'NALCN', 'NAMA', 'NAMPT', 'NANOG', 'NANOGNB', 'NANOGP1', 'NANOS1', 'NANP', 'NANS', 'NAP1L1', 'NAP1L4', 'NAP1L6_AMDP1_TRPC6P_TCEB1P24_DDX11L16_WASIR1', 'NAPA', 'NAPA_AS1', 'NAPB', 'NAPEPLD', 'NAPG', 'NAPRT1', 'NAPSA', 'NAPSB', 'NARF', 'NARFL', 'NARG2', 'NARS', 'NARS2', 'NASP', 'NAT1', 'NAT10', 'NAT14', 'NAT16', 'NAT2', 'NAT8', 'NAT8L', 'NAT9', 'NAV1', 'NAV2', 'NAV3', 'NBAS', 'NBEA', 'NBEAL1', 'NBEAL2', 'NBEAL2_snoU13', 'NBEAP1', 'NBL1_MINOS1_NBL1', 'NBN', 'NBPF1', 'NBPF10', 'NBPF10_RP11_458D21_5', 'NBPF11', 'NBPF12', 'NBPF13P', 'NBPF14', 'NBPF15', 'NBPF16', 'NBPF18P', 'NBPF18P_AL450992_6', 'NBPF20', 'NBPF22P', 'NBPF24', 'NBPF2P', 'NBPF3', 'NBPF4', 'NBPF5P', 'NBPF5P_NBPF6_SLC25A24P1', 'NBPF6', 'NBPF7', 'NBPF8', 'NBPF9', 'NBR1', 'NBR2', 'NCALD', 'NCAM1', 'NCAM2', 'NCAN', 'NCAPD2', 'NCAPD3', 'NCAPG', 'NCAPG2', 'NCAPH', 'NCAPH2', 'NCBP1', 'NCBP2', 'NCBP2_AS2', 'NCCRP1', 'NCDN', 'NCEH1', 'NCF1', 'NCF1B', 'NCF1C', 'NCF2', 'NCF4', 'NCK1', 'NCK1_IL20RB', 'NCK2', 'NCKAP1', 'NCKAP1L', 'NCKAP5', 'NCKAP5L', 'NCKAP5L_SNORA70', 'NCKIPSD', 'NCKIPSD_Y_RNA', 'NCL', 'NCLN', 'NCMAP', 'NCOA1', 'NCOA2', 'NCOA3', 'NCOA4', 'NCOA5', 'NCOA6', 'NCOA7', 'NCOR1', 'NCOR1P1', 'NCOR2', 'NCR1', 'NCR2', 'NCR3', 'NCR3LG1', 'NCS1', 'NCSTN', 'NDC1', 'NDC80', 'NDE1', 'NDE1_MIR484', 'NDEL1', 'NDFIP1', 'NDFIP2', 'NDNF', 'NDOR1', 'NDP', 'NDRG1', 'NDRG2', 'NDRG3', 'NDRG4', 'NDST1', 'NDST2_RP11_574K11_31', 'NDST3', 'NDST4', 'NDUFA10', 'NDUFA11', 'NDUFA11_AC024592_12_FUT5', 'NDUFA12', 'NDUFA13_YJEFN3_CTC_260F20_3', 'NDUFA2', 'NDUFA3', 'NDUFA4', 'NDUFA4L2', 'NDUFA5', 'NDUFA6', 'NDUFA6_AS1', 'NDUFA7', 'NDUFA8', 'NDUFA9', 'NDUFA9_RP11_234B24_6', 'NDUFA9_RP11_500M8_7', 'NDUFA9_RP11_500M8_7_RP11_234B24_6', 'NDUFAB1', 'NDUFAF1', 'NDUFAF2', 'NDUFAF3', 'NDUFAF4', 'NDUFAF5', 'NDUFAF6', 'NDUFAF7', 'NDUFAF7_SNORA51', 'NDUFB1', 'NDUFB10', 'NDUFB11', 'NDUFB2', 'NDUFB2_AS1', 'NDUFB3', 'NDUFB4', 'NDUFB5', 'NDUFB6', 'NDUFB7', 'NDUFB8', 'NDUFB8_SEC31B', 'NDUFB9', 'NDUFC1', 'NDUFC1_MGARP', 'NDUFC2_NDUFC2_KCTD14', 'NDUFS1', 'NDUFS2', 'NDUFS3', 'NDUFS4', 'NDUFS5', 'NDUFS6', 'NDUFS7', 'NDUFS8', 'NDUFV1', 'NDUFV2_RP11_21J18_1', 'NDUFV3', 'NEB', 'NEBL', 'NECAB1', 'NECAB2', 'NECAB3', 'NECAP1', 'NECAP2', 'NEDD1', 'NEDD4', 'NEDD4L', 'NEDD8', 'NEDD8_NEDD8_MDP1', 'NEDD9', 'NEFH', 'NEFL', 'NEFM', 'NEGR1', 'NEIL1', 'NEIL2', 'NEIL3', 'NEK1', 'NEK10', 'NEK11', 'NEK2', 'NEK3', 'NEK4', 'NEK5', 'NEK6', 'NEK7', 'NEK8', 'NEK9', 'NELFA', 'NELFA_MIR943', 'NELFB', 'NELFCD', 'NELFE', 'NELL1', 'NELL1_CTD_2302A16_2', 'NELL2', 'NEMF', 'NENF', 'NEO1', 'NES', 'NET1', 'NETO1', 'NETO2', 'NEU1', 'NEU2', 'NEU3', 'NEU4', 'NEURL', 'NEURL1B', 'NEURL2', 'NEURL3', 'NEURL4', 'NEURL4_GPS2_RP11_542C16_2', 'NEURL4_RP11_542C16_2', 'NEUROD1_CERKL', 'NEUROD2', 'NEUROD4', 'NEUROD6', 'NEUROG2', 'NEXN', 'NF1', 'NF1_snoU13', 'NF1P1', 'NF1P2', 'NF2', 'NFAM1', 'NFASC', 'NFAT5', 'NFATC1', 'NFATC2', 'NFATC2IP', 'NFATC2IP_MIR4517', 'NFATC3', 'NFATC3_RP11_67A1_2', 'NFATC4', 'NFE2', 'NFE2L1', 'NFE2L2', 'NFE2L3', 'NFIA', 'NFIB', 'NFIC', 'NFIL3', 'NFIX', 'NFKB1', 'NFKB2', 'NFKBIA', 'NFKBIB', 'NFKBID', 'NFKBID_Y_RNA', 'NFKBIE', 'NFKBIL1', 'NFKBIZ', 'NFRKB', 'NFS1', 'NFS1_RP1_309K20_6', 'NFU1', 'NFX1', 'NFXL1', 'NFYA', 'NFYB', 'NFYC', 'NGB', 'NGDN', 'NGEF', 'NGF', 'NGFR', 'NGLY1', 'NGRN_RP11_697E2_6', 'NHEJ1', 'NHLH1', 'NHLH2', 'NHLRC1', 'NHLRC2', 'NHLRC3', 'NHP2', 'NHP2L1', 'NHS', 'NHSL1', 'NICN1', 'NICN1_AMT', 'NID1', 'NID2', 'NIF3L1', 'NIM1', 'NIN', 'NINJ1', 'NINJ2', 'NINL', 'NIP7', 'NIPA1', 'NIPA1_RP11_566K19_6', 'NIPA2', 'NIPAL1', 'NIPAL2', 'NIPAL2_RNU6_914P', 'NIPAL3', 'NIPAL4', 'NIPBL', 'NIPSNAP1', 'NIPSNAP3A', 'NIPSNAP3B', 'NISCH', 'NIT1', 'NIT2', 'NKAIN1', 'NKAIN2', 'NKAIN3', 'NKAIN4', 'NKAP_AMDP1_TRPC6P_TCEB1P24_DDX11L16_WASIR1', 'NKD1', 'NKD2', 'NKG7', 'NKIRAS1', 'NKIRAS2', 'NKPD1', 'NKRF_AMDP1_TRPC6P_TCEB1P24_DDX11L16_WASIR1', 'NKTR', 'NKX1_2', 'NKX2_1_RP11_896J10_3', 'NKX2_1_AS1', 'NKX2_2', 'NKX2_3', 'NKX2_4', 'NKX2_8', 'NKX3_1', 'NKX3_2', 'NKX6_1', 'NKX6_2', 'NKX6_3', 'NLE1', 'NLGN1', 'NLGN2', 'NLGN4X', 'NLGN4Y', 'NLK', 'NLN', 'NLRC3', 'NLRC4', 'NLRC5', 'NLRP1', 'NLRP10', 'NLRP11', 'NLRP12', 'NLRP13', 'NLRP14', 'NLRP2', 'NLRP3', 'NLRP4', 'NLRP5', 'NLRP6', 'NLRP7', 'NLRP8', 'NLRP9', 'NLRX1', 'NMB', 'NMBR', 'NMD3', 'NME1', 'NME1_NME1_NME2_NME2', 'NME1_NME2_NME2', 'NME3', 'NME4', 'NME4_DECR2', 'NME5', 'NME6', 'NME7', 'NME8', 'NME8_EPDR1', 'NME9', 'NMI', 'NMNAT1', 'NMNAT2', 'NMNAT3', 'NMRAL1', 'NMRK1', 'NMRK2', 'NMS', 'NMT1', 'NMT2', 'NMU', 'NMUR1', 'NMUR2', 'NNAT', 'NNMT', 'NNT', 'NNT_AS1', 'NOA1', 'NOB1', 'NOBOX', 'NOC2L', 'NOC3L', 'NOC4L', 'NOD1', 'NOD2', 'NODAL', 'NOG', 'NOL10', 'NOL11', 'NOL12', 'NOL3', 'NOL4', 'NOL6', 'NOL7', 'NOL8', 'NOL9', 'NOLC1', 'NOM1', 'NOMO1', 'NOMO2', 'NOMO3', 'NOP10', 'NOP14', 'NOP14_AS1', 'NOP16', 'NOP2', 'NOP56', 'NOP56_SNORA51', 'NOP56_SNORD86', 'NOP58', 'NOP9', 'NOS1', 'NOS1AP', 'NOS1AP_C1orf226', 'NOS1AP_C1orf226_RP11_565P22_6', 'NOS1AP_RP11_565P22_6', 'NOS2', 'NOS2_RP1_66C13_4', 'NOS2P3', 'NOS3', 'NOSIP', 'NOSTRIN', 'NOTCH1', 'NOTCH1_Y_RNA', 'NOTCH2', 'NOTCH2NL', 'NOTCH2NL_NBPF10', 'NOTCH2NL_RP11_458D21_5', 'NOTCH3', 'NOTCH4', 'NOTO', 'NOTUM', 'NOV', 'NOVA1', 'NOVA2', 'NOX1_AMDP1_TRPC6P_TCEB1P24_DDX11L16_WASIR1', 'NOX3', 'NOX4', 'NOX4_RP11_643G5_6', 'NOX5', 'NOX5_RP11_809H16_2', 'NOXA1', 'NOXO1', 'NOXRED1', 'NPAS1', 'NPAS2', 'NPAS2_U3', 'NPAS3', 'NPAS4', 'NPAT', 'NPB', 'NPC1', 'NPC1L1', 'NPC2', 'NPDC1', 'NPEPL1', 'NPEPL1_STX16_NPEPL1', 'NPEPPS', 'NPFF_RP11_793H13_10', 'NPFFR1', 'NPFFR2', 'NPHP1', 'NPHP3', 'NPHP3_ACAD11', 'NPHP3_AS1', 'NPHP4', 'NPHS1', 'NPHS2', 'NPIPA1', 'NPIPA1_RP11_958N24_1', 'NPIPA2', 'NPIPA3', 'NPIPA5', 'NPIPA7', 'NPIPA8', 'NPIPA8_RP11_1212A22_1', 'NPIPB11', 'NPIPB15', 'NPIPB3', 'NPIPB4', 'NPIPB4_RP11_645C24_2', 'NPIPB5', 'NPIPB6', 'NPIPB7', 'NPIPB7_CLN3', 'NPIPB8', 'NPIPB9', 'NPIPP1_PKD1P6_RP11_1186N24_5', 'NPIPP1_RP11_1186N24_5', 'NPL', 'NPLOC4', 'NPM1', 'NPM2', 'NPM3', 'NPNT', 'NPPA', 'NPPA_AS1', 'NPPB', 'NPR1', 'NPR2', 'NPR3', 'NPRL2', 'NPRL3', 'NPS', 'NPSR1', 'NPSR1_AS1', 'NPTN', 'NPTX1', 'NPTX2', 'NPTXR', 'NPVF', 'NPW', 'NPY', 'NPY2R', 'NPY4R', 'NPY5R', 'NQO1', 'NQO2', 'NQO2_LINC01011', 'NR0B1', 'NR0B2', 'NR1D1', 'NR1D2', 'NR1H2', 'NR1H3', 'NR1H4', 'NR1I2', 'NR1I3', 'NR2C1', 'NR2C2', 'NR2C2AP', 'NR2E1', 'NR2E3', 'NR2F1', 'NR2F1_AS1', 'NR2F2', 'NR2F2_AS1', 'NR2F6', 'NR2F6_AC010646_3', 'NR3C1', 'NR3C2', 'NR4A1', 'NR4A2', 'NR4A3', 'NR5A1', 'NR5A2', 'NR6A1', 'NRADDP', 'NRAP', 'NRARP', 'NRAS', 'NRBF2', 'NRBP1', 'NRBP2', 'NRCAM', 'NRD1', 'NRDE2', 'NREP', 'NRF1', 'NRG1', 'NRG1_IT1', 'NRG2', 'NRG3', 'NRG4', 'NRGN', 'NRIP1', 'NRIP2', 'NRIP3', 'NRL', 'NRM', 'NRN1', 'NRN1L_CTC_479C5_10', 'NRN1L_EDC4_CTC_479C5_10', 'NRP1', 'NRP2', 'NRROS_PIGX', 'NRSN1', 'NRSN2', 'NRTN', 'NRXN1', 'NRXN2', 'NRXN3', 'NSA2', 'NSD1', 'NSF', 'NSFL1C', 'NSG1', 'NSG2', 'NSL1', 'NSMAF', 'NSMCE1', 'NSMCE2', 'NSMCE4A', 'NSMF', 'NSRP1', 'NSRP1_MIR423', 'NSUN2', 'NSUN3', 'NSUN4', 'NSUN4_snoU13', 'NSUN5', 'NSUN5P1', 'NSUN5P2', 'NSUN6', 'NSUN6_ARL5B_AS1', 'NSUN6_RP11_139J15_7', 'NSUN6_RP11_499P20_2', 'NSUN7', 'NT5C', 'NT5C1A', 'NT5C1B_NT5C1B_RDH14', 'NT5C2', 'NT5C3A', 'NT5C3B', 'NT5DC1', 'NT5DC2', 'NT5DC3', 'NT5DC4', 'NT5E', 'NT5M', 'NTAN1', 'NTF3', 'NTF4', 'NTF4_CGB7', 'NTHL1', 'NTM', 'NTMT1', 'NTN1', 'NTN3', 'NTN4', 'NTN5', 'NTNG1', 'NTNG2', 'NTPCR', 'NTRK1', 'NTRK2', 'NTRK3', 'NTS', 'NTSR1', 'NTSR2', 'NUAK1', 'NUAK2', 'NUB1', 'NUBP1', 'NUBP2', 'NUBPL', 'NUCB1', 'NUCB2', 'NUCKS1', 'NUDC', 'NUDCD1', 'NUDCD2', 'NUDCD3', 'NUDT1', 'NUDT10', 'NUDT11', 'NUDT12', 'NUDT13', 'NUDT14', 'NUDT14_RP11_44N21_4', 'NUDT15', 'NUDT16P', 'NUDT17', 'NUDT18', 'NUDT19', 'NUDT2', 'NUDT21', 'NUDT22', 'NUDT22_DNAJC4', 'NUDT3_RPS10_NUDT3', 'NUDT4', 'NUDT5', 'NUDT6', 'NUDT7', 'NUDT8', 'NUDT9', 'NUF2', 'NUFIP1', 'NUFIP1_RP11_321C24_1', 'NUFIP2', 'NUGGC', 'NUMA1', 'NUMB', 'NUMBL', 'NUMBL_Y_RNA', 'NUP107', 'NUP133', 'NUP153', 'NUP155', 'NUP160', 'NUP188', 'NUP188_RP11_101E3_5', 'NUP205', 'NUP210', 'NUP210L', 'NUP210P1', 'NUP214', 'NUP35', 'NUP37', 'NUP43', 'NUP50', 'NUP54', 'NUP62CL_AMDP1_TRPC6P_TCEB1P24_DDX11L16_WASIR1', 'NUP85', 'NUP88', 'NUP93', 'NUP98', 'NUPL1', 'NUPL2', 'NUPL2_AC005082_1', 'NUPR1', 'NUPR1L', 'NUS1', 'NUSAP1', 'NUTF2', 'NUTM1', 'NUTM2A', 'NUTM2A_AS1', 'NUTM2D', 'NUTM2F', 'NUTM2G', 'NVL', 'NWD1', 'NXF1', 'NXF2B_AMDP1_TCP11X2_TRPC6P_TCEB1P24_DDX11L16_WASIR1', 'NXF2B_AMDP1_TRPC6P_TCEB1P24_DDX11L16_WASIR1', 'NXF3_AMDP1_TRPC6P_TCEB1P24_DDX11L16_WASIR1', 'NXF5_AMDP1_TRPC6P_TCEB1P24_DDX11L16_WASIR1', 'NXN', 'NXNL1_CTD_2521M24_10', 'NXNL2', 'NXPE1', 'NXPE2', 'NXPE3', 'NXPE4', 'NXPH1', 'NXPH2', 'NXPH3', 'NXPH4', 'NXT1', 'NXT2_IL9R_SPRY3_VAMP7_WASH6P_DPH3P2_AJ271736_10', 'NYAP1', 'NYAP2', 'NYNRIN', 'NYX', 'OACYLP', 'OAF', 'OARD1', 'OAS1', 'OAS2', 'OAS3', 'OASL', 'OAT', 'OAZ1', 'OAZ2', 'OAZ3', 'OBFC1', 'OBP2A', 'OBP2B', 'OBSCN', 'OBSL1', 'OC90', 'OCA2', 'OCEL1', 'OCIAD1', 'OCIAD2', 'OCLN', 'OCM', 'OCM2', 'OCRL_IL9R_SPRY3_VAMP7_WASH6P_DPH3P2_AJ271736_10', 'OCSTAMP', 'ODAM', 'ODC1', 'ODF1', 'ODF2', 'ODF2L', 'ODF2L_Y_RNA', 'ODF3', 'ODF3B', 'ODF3L1', 'ODF3L2', 'ODF4', 'OFCC1', 'OFD1', 'OFD1P5Y_TTTY9B', 'OFD1P6Y', 'OGDH', 'OGDHL', 'OGFOD1', 'OGFOD2', 'OGFOD2_RP11_197N18_2', 'OGFOD3', 'OGFR', 'OGFRL1', 'OGG1', 'OGN', 'OIP5', 'OIP5_AS1', 'OIT3', 'OLA1', 'OLAH', 'OLFM1', 'OLFM2', 'OLFM3', 'OLFM4', 'OLFML2A', 'OLFML2B', 'OLFML3', 'OLIG3', 'OLR1', 'OMA1', 'OMA1_DAB1', 'OMD', 'OMG', 'ONECUT1', 'ONECUT2_AC090340_1', 'ONECUT3', 'OOEP', 'OOSP1', 'OPA1', 'OPA3', 'OPA3_GPR4', 'OPALIN', 'OPCML', 'OPHN1_AMDP1_TRPC6P_TCEB1P24_DDX11L16_WASIR1', 'OPLAH', 'OPN1SW', 'OPN3', 'OPN4', 'OPN5', 'OPRD1', 'OPRK1', 'OPRL1', 'OPRM1', 'OPTC', 'OPTN', 'OR10A2', 'OR10A5', 'OR10AD1', 'OR10G7', 'OR10G8', 'OR10H1', 'OR10H2', 'OR10S1', 'OR10V1', 'OR10W1', 'OR11A1', 'OR11A1_OR5V1', 'OR11L1', 'OR13A1', 'OR13C3', 'OR13G1', 'OR14A16', 'OR14I1', 'OR1A2', 'OR1E1', 'OR1G1', 'OR1J2', 'OR1L4', 'OR1L8', 'OR1N1', 'OR2A1_AS1', 'OR2A1_AS1_OR2A20P', 'OR2A9P', 'OR2AG2', 'OR2C1', 'OR2C3', 'OR2F1', 'OR2G6', 'OR2H1', 'OR2H2', 'OR2L13', 'OR2L1P', 'OR2L3', 'OR2L8', 'OR2M1P', 'OR2T11', 'OR2T2', 'OR2T3', 'OR2T34', 'OR2T35', 'OR2T4', 'OR2T5', 'OR2T6', 'OR2W1', 'OR2W3', 'OR2Y1', 'OR3A1', 'OR3A4P_OR3A5P', 'OR4C4P', 'OR4D10', 'OR4D11', 'OR4D5', 'OR4F17', 'OR4F4', 'OR4F5', 'OR4K17', 'OR4K2', 'OR4L1', 'OR4M2_RP11_69H14_6', 'OR4N4_RP11_69H14_6', 'OR4S2', 'OR4X2', 'OR51B2', 'OR51E1', 'OR51E2', 'OR51G2', 'OR52A4', 'OR52L1', 'OR52N3P', 'OR5A1', 'OR5AP2', 'OR5G5P_OR5G3', 'OR5H14', 'OR5H2', 'OR5H6', 'OR5L1', 'OR5L2', 'OR5M1', 'OR5M10', 'OR5M8', 'OR5P2', 'OR5T1', 'OR6A2', 'OR6B1', 'OR6C2', 'OR6F1_RP11_634B7_5', 'OR6K2', 'OR6K6', 'OR6S1', 'OR6W1P', 'OR7A10', 'OR7A5', 'OR7D2', 'OR7E156P', 'OR7E24', 'OR7E38P', 'OR7E47P', 'OR7E5P', 'OR7G1', 'OR8B3', 'OR8G1', 'OR8H3', 'OR8S1', 'OR9A2', 'OR9A4', 'OR9I1', 'OR9Q1', 'ORAI1', 'ORAI2', 'ORAI3', 'ORAOV1', 'ORC1', 'ORC2', 'ORC3', 'ORC4', 'ORC5', 'ORC6', 'ORM1', 'ORM2', 'ORMDL1', 'ORMDL2', 'ORMDL3', 'OS9', 'OSBP', 'OSBP2', 'OSBPL10', 'OSBPL11', 'OSBPL1A', 'OSBPL2', 'OSBPL3', 'OSBPL5', 'OSBPL6', 'OSBPL6_SNORA67', 'OSBPL7', 'OSBPL8', 'OSBPL9', 'OSCAR', 'OSCP1', 'OSER1', 'OSER1_AS1', 'OSGEP', 'OSGEPL1', 'OSGIN1', 'OSGIN1_RP11_505K9_4', 'OSGIN2', 'OSM', 'OSMR', 'OSR1', 'OSR1_Y_RNA', 'OSR2', 'OST4', 'OSTC', 'OSTCP1', 'OSTF1', 'OSTM1', 'OSTM1_AS1', 'OSTN', 'OTC', 'OTOA', 'OTOF', 'OTOG', 'OTOGL', 'OTOL1', 'OTOP1', 'OTOP2', 'OTOP3', 'OTOR', 'OTOS', 'OTP', 'OTUB1', 'OTUB1_AP000721_4', 'OTUB2', 'OTUD3', 'OTUD4', 'OTUD5', 'OTUD6B', 'OTUD7A', 'OTUD7B', 'OTX1', 'OTX2', 'OTX2_AS1', 'OVCH1', 'OVCH2', 'OVCH2_RP11_35J10_5', 'OVGP1', 'OVOL1', 'OVOL2', 'OXA1L', 'OXCT1', 'OXCT2', 'OXGR1', 'OXNAD1', 'OXR1', 'OXSM', 'OXSR1', 'OXT', 'OXTR', 'P2RX1', 'P2RX2', 'P2RX3', 'P2RX4', 'P2RX5_P2RX5_TAX1BP3', 'P2RX6', 'P2RX6P', 'P2RX7', 'P2RY11_PPAN', 'P2RY12', 'P2RY13', 'P2RY14', 'P2RY2', 'P2RY4_AMDP1_TRPC6P_TCEB1P24_DDX11L16_WASIR1', 'P2RY6', 'P2RY8', 'P4HA1', 'P4HA2', 'P4HA3', 'P4HB', 'P4HTM', 'PA2G4', 'PA2G4_RP11_603J24_9', 'PA2G4P4', 'PAAF1', 'PABPC1', 'PABPC1L', 'PABPC1L2A_AMDP1_TRPC6P_TCEB1P24_DDX11L16_WASIR1', 'PABPC4', 'PABPC4L', 'PABPN1', 'PABPN1L', 'PACRG', 'PACRGL', 'PACS1', 'PACS2', 'PACS2_AL928654_1', 'PACSIN1', 'PACSIN2', 'PACSIN2_ARFGAP3', 'PACSIN3', 'PADI1', 'PADI2', 'PADI3', 'PADI4', 'PADI6', 'PAEP', 'PAF1', 'PAFAH1B1', 'PAFAH1B2', 'PAFAH1B3', 'PAFAH2', 'PAG1', 'PAGE1', 'PAGE2', 'PAGE2B', 'PAGE3', 'PAGE4', 'PAGE5', 'PAGR1', 'PAH', 'PAICS', 'PAICS_snoU13', 'PAIP1', 'PAIP2', 'PAIP2B', 'PAK1', 'PAK1IP1', 'PAK2', 'PAK3_IL9R_SPRY3_VAMP7_WASH6P_DPH3P2_AJ271736_10', 'PAK4', 'PAK6', 'PAK6_BUB1B_RP11_133K1_2', 'PAK6_RP11_133K1_2', 'PAK7', 'PALB2', 'PALD1', 'PALLD', 'PALM', 'PALM2_AKAP2_AKAP2', 'PALM2_AKAP2_PALM2_AKAP2', 'PALM3', 'PALMD', 'PAM', 'PAM16_CORO7_PAM16', 'PAMR1', 'PAN2', 'PAN3', 'PANK1', 'PANK2', 'PANK3', 'PANK3_SLC2A3P1', 'PANK4', 'PANX1', 'PANX2', 'PANX3', 'PAOX', 'PAPD4', 'PAPD5', 'PAPD7', 'PAPL', 'PAPLN', 'PAPOLA', 'PAPOLG', 'PAPPA', 'PAPPA2', 'PAPSS1', 'PAPSS2', 'PAQR3', 'PAQR4', 'PAQR5', 'PAQR6', 'PAQR7', 'PAQR8', 'PAQR9', 'PARD3', 'PARD3B', 'PARD6A', 'PARD6B', 'PARD6B_snoU13', 'PARD6G', 'PARG', 'PARGP1', 'PARK2', 'PARK7', 'PARL', 'PARM1', 'PARN', 'PARP1', 'PARP10', 'PARP11', 'PARP12', 'PARP14', 'PARP15', 'PARP16', 'PARP2', 'PARP3', 'PARP4', 'PARP6', 'PARP6_CELF6', 'PARP8', 'PARP9', 'PARPBP', 'PART1', 'PARVA', 'PARVB', 'PARVG', 'PASK', 'PATE1', 'PATE2', 'PATE3', 'PATE4', 'PATL1', 'PATL2', 'PATZ1', 'PAWR', 'PAX1', 'PAX2', 'PAX3', 'PAX4', 'PAX5', 'PAX6', 'PAX7', 'PAX8', 'PAX9', 'PAXBP1', 'PAXBP1_AS1', 'PAXIP1', 'PAXIP1_AS2', 'PBK', 'PBLD', 'PBRM1', 'PBX1', 'PBX2', 'PBX2_XXbac_BPG300A18_13', 'PBX3', 'PBX4', 'PBXIP1', 'PC', 'PCA3', 'PCAT4', 'PCAT7', 'PCBD1', 'PCBD2', 'PCBD2_CATSPER3', 'PCBP1_AS1', 'PCBP2', 'PCBP2_RP11_793H13_8', 'PCBP3', 'PCBP4', 'PCBP4_RP11_155D18_14', 'PCBP4_RP11_155D18_14_RP11_155D18_12', 'PCCA', 'PCCB', 'PCDH1', 'PCDH10', 'PCDH11Y', 'PCDH12', 'PCDH15', 'PCDH17', 'PCDH18', 'PCDH19_AMDP1_TRPC6P_TCEB1P24_DDX11L16_WASIR1', 'PCDH20', 'PCDH7', 'PCDH8', 'PCDH9', 'PCDHA2', 'PCDHA5', 'PCDHA8', 'PCDHA9', 'PCDHAC1', 'PCDHAC2_PCDHA13_PCDHAC1_PCDHA9_PCDHA8_PCDHA7_PCDHA5_PCDHA2_PCDHA1_PCDHA4_PCDHA12_PCDHA11_PCDHA10_PCDHA3_PCDHA6', 'PCDHB1', 'PCDHB10', 'PCDHB13', 'PCDHB18', 'PCDHB4', 'PCDHB9', 'PCDHGA11', 'PCDHGA4', 'PCDHGA7', 'PCDHGB6', 'PCDHGC3', 'PCDHGC5_PCDHGA12_PCDHGA3_PCDHGA2_PCDHGC4_PCDHGC3_PCDHGA1_PCDHGA11_PCDHGB7_PCDHGA8_PCDHGA10_PCDHGA5_PCDHGB1_PCDHGA6_PCDHGB6_PCDHGB2_PCDHGA7_PCDHGB4_PCDHGA9_PCDHGB3_PCDHGA4', 'PCDP1', 'PCED1A', 'PCED1B', 'PCED1B_AS1', 'PCF11', 'PCGEM1', 'PCGF1', 'PCGF2', 'PCGF3', 'PCGF5', 'PCGF6', 'PCID2', 'PCIF1', 'PCK1', 'PCK2', 'PCLO', 'PCM1', 'PCMT1', 'PCMTD1', 'PCMTD2', 'PCMTD2_LINC00266_1', 'PCNA', 'PCNP', 'PCNT', 'PCNX', 'PCNXL2', 'PCNXL2_RP5_862P8_3', 'PCNXL3', 'PCNXL3_snoU13', 'PCNXL4', 'PCOLCE', 'PCOLCE_AS1', 'PCOLCE2', 'PCP2', 'PCP4', 'PCP4L1', 'PCSK1', 'PCSK1N', 'PCSK2', 'PCSK4', 'PCSK5', 'PCSK6', 'PCSK7', 'PCSK9', 'PCTP', 'PCYOX1', 'PCYOX1L', 'PCYT1A', 'PCYT1A_RP11_447L10_1', 'PCYT1B', 'PCYT2', 'PDAP1', 'PDC', 'PDCD1', 'PDCD10', 'PDCD11', 'PDCD1LG2', 'PDCD2', 'PDCD2L', 'PDCD2L_RP11_618P17_4', 'PDCD4', 'PDCD4_AS1', 'PDCD5', 'PDCD6', 'PDCD6IP', 'PDCD7', 'PDCL', 'PDCL2', 'PDCL3', 'PDDC1', 'PDE10A', 'PDE11A', 'PDE11A_CYCTP', 'PDE12', 'PDE1A', 'PDE1B', 'PDE1C', 'PDE2A', 'PDE3A', 'PDE3B', 'PDE4A', 'PDE4B', 'PDE4C', 'PDE4D', 'PDE4DIP', 'PDE5A', 'PDE6A', 'PDE6B', 'PDE6C', 'PDE6D', 'PDE6G', 'PDE6H', 'PDE7A', 'PDE7B', 'PDE8A', 'PDE8B', 'PDE9A', 'PDF', 'PDF_COG8_RP11_343C2_12', 'PDGFA', 'PDGFB', 'PDGFC', 'PDGFD', 'PDGFRA', 'PDGFRA_FIP1L1', 'PDGFRB', 'PDGFRL', 'PDHA1', 'PDHB', 'PDHX', 'PDIA2', 'PDIA2_ARHGDIG', 'PDIA3', 'PDIA3P', 'PDIA4', 'PDIA5', 'PDIA6', 'PDIK1L', 'PDILT', 'PDK1', 'PDK2', 'PDK3', 'PDK4', 'PDLIM1', 'PDLIM2', 'PDLIM3', 'PDLIM4', 'PDLIM5', 'PDLIM7', 'PDP1', 'PDPK1', 'PDPK2', 'PDPN', 'PDPR', 'PDRG1', 'PDS5A', 'PDS5B', 'PDSS1', 'PDSS2', 'PDX1', 'PDXDC1', 'PDXDC2P', 'PDXDC2P_RP11_419C5_2', 'PDXK', 'PDXP', 'PDXP_SH3BP1', 'PDYN', 'PDZD11_AMDP1_TRPC6P_TCEB1P24_DDX11L16_WASIR1', 'PDZD2', 'PDZD3', 'PDZD4_AMDP1_TRPC6P_TCEB1P24_DDX11L16_WASIR1', 'PDZD7', 'PDZD8', 'PDZD9', 'PDZK1', 'PDZK1IP1', 'PDZK1P1', 'PDZK1P2_RP6_74O6_2', 'PDZRN3', 'PDZRN4', 'PEA15', 'PEA15_AL121987_1', 'PEAK1', 'PEAR1', 'PEBP1', 'PEBP4', 'PECR', 'PEF1', 'PEG10', 'PEG3', 'PELI1', 'PELI2', 'PELI3', 'PELO', 'PELO_ITGA1', 'PELP1', 'PEMT', 'PENK', 'PEPD', 'PER1', 'PER1_RP11_599B13_6', 'PER2', 'PER3', 'PERP', 'PES1', 'PET112', 'PEX1', 'PEX10', 'PEX11A', 'PEX11B', 'PEX11G', 'PEX12', 'PEX13', 'PEX14', 'PEX16', 'PEX19', 'PEX19_DCAF8', 'PEX2', 'PEX26', 'PEX26_TUBA8', 'PEX3', 'PEX3_RP1_20N2_6', 'PEX5', 'PEX5L', 'PEX6', 'PEX7', 'PF4', 'PF4V1', 'PFAS', 'PFDN1', 'PFDN2', 'PFDN4', 'PFDN5', 'PFDN6', 'PFKFB1', 'PFKFB2', 'PFKFB3', 'PFKFB4', 'PFKFB4_UCN2', 'PFKL', 'PFKM', 'PFKP', 'PFN1', 'PFN2', 'PFN2_ANKUB1', 'PFN3', 'PFN4', 'PGA3', 'PGA4', 'PGA4_CTD_2331C18_5', 'PGA4_CTD_2331C18_5_PGA5', 'PGA4_PGA5', 'PGA5', 'PGAM1', 'PGAM2', 'PGAM5_PXMP2', 'PGAM5_PXMP2_RP13_672B3_2', 'PGAP1', 'PGAP2', 'PGAP2_AC090587_2', 'PGAP3', 'PGBD1', 'PGBD2', 'PGBD5', 'PGC', 'PGD', 'PGF', 'PGGT1B', 'PGK1_IL9R_SPRY3_VAMP7_WASH6P_DPH3P2_AJ271736_10', 'PGLS', 'PGLYRP1', 'PGLYRP2', 'PGLYRP3', 'PGLYRP4', 'PGM1', 'PGM2', 'PGM2L1', 'PGM3', 'PGM5', 'PGM5_AS1', 'PGM5P1', 'PGM5P2', 'PGM5P2_RP11_87H9_3', 'PGP', 'PGPEP1', 'PGPEP1L', 'PGR', 'PGRMC1_IL9R_SPRY3_VAMP7_WASH6P_DPH3P2_AJ271736_10', 'PGRMC2', 'PGS1', 'PHACTR1', 'PHACTR2', 'PHACTR2_RP3_468K18_5', 'PHACTR3', 'PHACTR4', 'PHAX', 'PHB', 'PHB2', 'PHC1', 'PHC2', 'PHC2_MIR3605', 'PHC3', 'PHEX', 'PHF1', 'PHF1_snoU13', 'PHF10', 'PHF11', 'PHF12', 'PHF13', 'PHF14', 'PHF15', 'PHF16', 'PHF17', 'PHF19', 'PHF2', 'PHF20', 'PHF20L1', 'PHF21A', 'PHF21B', 'PHF23', 'PHF2P2', 'PHF3', 'PHF5A', 'PHF7', 'PHF8', 'PHGDH', 'PHGR1', 'PHIP', 'PHKA1_AMDP1_TRPC6P_TCEB1P24_DDX11L16_WASIR1', 'PHKA2', 'PHKA2_AS1', 'PHKB', 'PHKG1', 'PHKG2', 'PHKG2_RP11_2C24_4', 'PHLDA1', 'PHLDA2', 'PHLDA3', 'PHLDB1', 'PHLDB2', 'PHLDB2_PLCXD2', 'PHLDB3', 'PHLPP1', 'PHLPP2', 'PHOSPHO1', 'PHOX2A', 'PHOX2B', 'PHPT1', 'PHRF1', 'PHTF1', 'PHTF2', 'PHYH', 'PHYHD1', 'PHYHD1_RP11_101E3_5', 'PHYHIP', 'PHYHIPL', 'PHYKPL', 'PI15', 'PI16', 'PI3', 'PI4K2A', 'PI4K2B', 'PI4KA', 'PI4KAP1', 'PI4KAP2', 'PI4KB', 'PIANP', 'PIAS1', 'PIAS2', 'PIAS3', 'PIAS4', 'PIBF1', 'PICALM', 'PICK1', 'PID1', 'PIDD', 'PIEZO1', 'PIEZO1_MIR4722', 'PIEZO2', 'PIF1', 'PIFO', 'PIGA', 'PIGB', 'PIGC', 'PIGF', 'PIGG', 'PIGH', 'PIGK', 'PIGL', 'PIGM', 'PIGN', 'PIGO', 'PIGP', 'PIGQ', 'PIGQ_NHLRC4', 'PIGR', 'PIGS', 'PIGT', 'PIGU', 'PIGV', 'PIGW', 'PIGX', 'PIGZ', 'PIH1D1', 'PIH1D2', 'PIH1D3_IL9R_SPRY3_VAMP7_WASH6P_DPH3P2_AJ271736_10', 'PIK3AP1', 'PIK3C2A', 'PIK3C2A_RPS13', 'PIK3C2B', 'PIK3C2G', 'PIK3C3', 'PIK3CA', 'PIK3CB', 'PIK3CD', 'PIK3CG', 'PIK3IP1', 'PIK3R1', 'PIK3R2', 'PIK3R3', 'PIK3R3_RP11_322N21_2', 'PIK3R4', 'PIK3R5', 'PIK3R6', 'PIKFYVE', 'PILRA', 'PIM1', 'PIM2', 'PIM3', 'PIN1', 'PIN1P1', 'PIN4_IL9R_SPRY3_VAMP7_WASH6P_DPH3P2_AJ271736_10', 'PIN4P1', 'PINK1', 'PINLYP', 'PINX1', 'PINX1_SOX7', 'PIP', 'PIP4K2A', 'PIP4K2B', 'PIP4K2C', 'PIP5K1A', 'PIP5K1B', 'PIP5K1C', 'PIP5KL1', 'PIPOX', 'PIPSL', 'PIR', 'PIRT', 'PISD', 'PITHD1', 'PITPNA', 'PITPNB', 'PITPNC1', 'PITPNM1', 'PITPNM2', 'PITPNM3', 'PITRM1', 'PITRM1_AS1', 'PITX1', 'PITX2', 'PITX3', 'PIWIL1', 'PIWIL2', 'PIWIL3', 'PIWIL4', 'PIWIL4_FUT4', 'PJA2', 'PKD1', 'PKD1L1', 'PKD1L2', 'PKD1L3', 'PKD1P5', 'PKD1P5_RP11_1212A22_4', 'PKD1P6', 'PKD2', 'PKD2L1', 'PKD2L2', 'PKDCC', 'PKHD1', 'PKHD1_Y_RNA', 'PKHD1L1', 'PKIA', 'PKIB', 'PKIG', 'PKLR', 'PKM', 'PKMYT1', 'PKMYT1_SNORA70', 'PKN1', 'PKN2', 'PKN3', 'PKNOX1', 'PKNOX2', 'PKP1', 'PKP2', 'PKP3', 'PKP4', 'PLA1A', 'PLA2G10', 'PLA2G12A', 'PLA2G12B', 'PLA2G15', 'PLA2G16', 'PLA2G1B', 'PLA2G2A', 'PLA2G2C', 'PLA2G2D', 'PLA2G2E', 'PLA2G2F', 'PLA2G3', 'PLA2G4A', 'PLA2G4C', 'PLA2G4D', 'PLA2G4E', 'PLA2G4F', 'PLA2G5', 'PLA2G6', 'PLA2G7', 'PLA2R1', 'PLAA', 'PLAC1_AMDP1_TRPC6P_TCEB1P24_DDX11L16_WASIR1', 'PLAC1L', 'PLAC8', 'PLAC8L1', 'PLAC9', 'PLAG1', 'PLAGL1', 'PLAGL2', 'PLAT', 'PLAT_SNORA70', 'PLAU', 'PLAUR', 'PLB1', 'PLBD1', 'PLBD2', 'PLCB1', 'PLCB2', 'PLCB3', 'PLCB4', 'PLCD1', 'PLCD3', 'PLCD4', 'PLCE1', 'PLCE1_AS1', 'PLCG1', 'PLCG2', 'PLCG2_RP11_960L18_1', 'PLCH1', 'PLCH2', 'PLCL1', 'PLCL2', 'PLCL2_MIR3714', 'PLCXD1', 'PLCXD2', 'PLCXD3', 'PLCZ1', 'PLD1', 'PLD2', 'PLD3', 'PLD4', 'PLD5', 'PLEC', 'PLEK', 'PLEK2', 'PLEK2_SNORA70', 'PLEKHA1', 'PLEKHA2', 'PLEKHA3', 'PLEKHA4', 'PLEKHA5', 'PLEKHA6', 'PLEKHA7', 'PLEKHA8', 'PLEKHA8P1', 'PLEKHB1', 'PLEKHB2', 'PLEKHD1', 'PLEKHF1', 'PLEKHG1', 'PLEKHG2', 'PLEKHG3', 'PLEKHG4', 'PLEKHG4B', 'PLEKHG5', 'PLEKHG6', 'PLEKHG7', 'PLEKHH1', 'PLEKHH2', 'PLEKHH3', 'PLEKHH3_Y_RNA', 'PLEKHJ1', 'PLEKHM1', 'PLEKHM1P', 'PLEKHM1P_hsa_mir_6080', 'PLEKHM2', 'PLEKHM2_AL121992_1', 'PLEKHM3', 'PLEKHN1', 'PLEKHO1', 'PLEKHO2_AC069368_3', 'PLEKHS1', 'PLG', 'PLGLA', 'PLGLB1', 'PLGLB2', 'PLGRKT', 'PLIN1', 'PLIN2', 'PLIN3', 'PLIN4', 'PLIN5', 'PLIN5_CTB_50L17_14', 'PLK1', 'PLK1S1', 'PLK2', 'PLK3', 'PLK4', 'PLK5', 'PLLP', 'PLN', 'PLOD1', 'PLOD2', 'PLOD3', 'PLP2', 'PLRG1', 'PLS1', 'PLSCR1', 'PLSCR2', 'PLSCR4', 'PLSCR5', 'PLTP', 'PLVAP', 'PLXDC1', 'PLXDC2', 'PLXNA1', 'PLXNA2', 'PLXNA4', 'PLXNB1', 'PLXNB1_Y_RNA', 'PLXNB2', 'PLXNB3_IL9R_SPRY3_SRPK3_VAMP7_WASH6P_DPH3P2_AJ271736_10', 'PLXNB3_IL9R_SPRY3_VAMP7_WASH6P_DPH3P2_AJ271736_10', 'PLXNC1', 'PLXND1', 'PM20D1', 'PM20D2', 'PMAIP1', 'PMAIP1_snoU13', 'PMCH', 'PMCHL1', 'PMCHL2', 'PMEL', 'PMEPA1', 'PMF1', 'PMF1_PMF1_BGLAP', 'PMFBP1', 'PML', 'PML_snoU13', 'PMM1', 'PMM2', 'PMP2', 'PMP22', 'PMPCA', 'PMPCB', 'PMS1', 'PMS2', 'PMS2CL', 'PMS2P1', 'PMS2P10', 'PMS2P2', 'PMS2P3', 'PMS2P4', 'PMS2P5', 'PMVK', 'PNCK_AMDP1_TRPC6P_TCEB1P24_DDX11L16_WASIR1', 'PNISR', 'PNKD', 'PNKP', 'PNLDC1', 'PNLIP', 'PNLIPRP1', 'PNLIPRP2', 'PNLIPRP3', 'PNMA1', 'PNMA2', 'PNMA5_AMDP1_TRPC6P_TCEB1P24_DDX11L16_WASIR1', 'PNMAL1', 'PNMAL2', 'PNMT', 'PNN', 'PNO1', 'PNOC', 'PNP', 'PNPLA1', 'PNPLA2', 'PNPLA3', 'PNPLA3_SAMM50', 'PNPLA4', 'PNPLA5', 'PNPLA6', 'PNPLA6_CTD_2207O23_10', 'PNPLA7', 'PNPLA8', 'PNPLA8_THAP5', 'PNPO', 'PNPO_RP11_6N17_9', 'PNPT1', 'PNRC1', 'PNRC2', 'POC1A', 'POC1B', 'POC5', 'PODN', 'PODNL1', 'PODXL', 'PODXL2', 'POF1B_AMDP1_TRPC6P_TCEB1P24_DDX11L16_WASIR1', 'POFUT1', 'POFUT2', 'POGK', 'POGLUT1', 'POGZ', 'POLA1', 'POLA2', 'POLB', 'POLD1', 'POLD1_CTD_2545M3_6', 'POLD2', 'POLD2_Y_RNA', 'POLD3', 'POLD3_AP001372_2', 'POLDIP2', 'POLDIP3', 'POLE', 'POLE2', 'POLE3', 'POLE4', 'POLG', 'POLG2', 'POLH', 'POLI', 'POLK', 'POLL', 'POLM', 'POLN', 'POLQ', 'POLR1A', 'POLR1B', 'POLR1C', 'POLR1D', 'POLR1E', 'POLR2A', 'POLR2B', 'POLR2C', 'POLR2C_AC009052_12', 'POLR2D', 'POLR2E', 'POLR2F', 'POLR2G', 'POLR2H', 'POLR2I', 'POLR2J', 'POLR2J_Y_RNA', 'POLR2J2', 'POLR2J3', 'POLR2J3_RP11_514P8_7', 'POLR2J3_RP11_514P8_7_RP11_514P8_8', 'POLR2J3_RP11_514P8_8', 'POLR2J4', 'POLR2J4_RP5_1165K10_2', 'POLR2K', 'POLR2L', 'POLR3A', 'POLR3B', 'POLR3C', 'POLR3D', 'POLR3E', 'POLR3F', 'POLR3G', 'POLR3GL', 'POLR3H', 'POLR3K', 'POLRMT', 'POM121', 'POM121B', 'POM121C', 'POM121C_AC006014_7', 'POM121L10P', 'POM121L14P', 'POM121L1P', 'POM121L2', 'POM121L4P', 'POM121L9P', 'POMC', 'POMGNT1', 'POMGNT2', 'POMK', 'POMP', 'POMT1', 'POMT2', 'POMZP3', 'PON1', 'PON1_PON3', 'PON2', 'PON3', 'POP1', 'POP4', 'POP5', 'POP7', 'POPDC2', 'POPDC3', 'POR', 'PORCN', 'POSTN', 'POT1', 'POTEA', 'POTEB', 'POTEB2', 'POTEC', 'POTED', 'POTEE', 'POTEE_AC131180_1', 'POTEF', 'POTEG', 'POTEH', 'POTEH_AS1', 'POTEM', 'POU1F1', 'POU2AF1', 'POU2F1', 'POU2F2', 'POU2F3', 'POU3F1', 'POU4F1', 'POU4F2_AC093887_1', 'POU4F3', 'POU5F1', 'POU5F2', 'POU6F1', 'POU6F2', 'POU6F2_AS2', 'PP2D1', 'PPA1', 'PPA2', 'PPAN_PPAN_P2RY11', 'PPAP2A', 'PPAP2A_RNF138P1', 'PPAP2B', 'PPAP2C', 'PPAPDC1A', 'PPAPDC1B', 'PPAPDC3', 'PPARA', 'PPARD', 'PPARG', 'PPARGC1A', 'PPARGC1B', 'PPAT', 'PPBP', 'PPBPP2', 'PPCDC', 'PPCS', 'PPDPF', 'PPEF1', 'PPEF2', 'PPFIA1', 'PPFIA2', 'PPFIA3', 'PPFIA4', 'PPFIBP1', 'PPFIBP2', 'PPHLN1', 'PPHLN1_RP11_328C8_4', 'PPIA', 'PPIAP30', 'PPIB', 'PPIC', 'PPID', 'PPIE', 'PPIEL', 'PPIEL_RP11_69E11_4', 'PPIF', 'PPIG', 'PPIH', 'PPIL1', 'PPIL2', 'PPIL2_MIR130B', 'PPIL3', 'PPIL4', 'PPIL6', 'PPIP5K1', 'PPIP5K2', 'PPL', 'PPM1A', 'PPM1B', 'PPM1D', 'PPM1E', 'PPM1F', 'PPM1G', 'PPM1H', 'PPM1J', 'PPM1J_RP11_426L16_10', 'PPM1K', 'PPM1L', 'PPM1M', 'PPM1N', 'PPME1', 'PPOX', 'PPP1CA', 'PPP1CB', 'PPP1CC', 'PPP1R10', 'PPP1R11', 'PPP1R12A', 'PPP1R12B', 'PPP1R12C', 'PPP1R13B', 'PPP1R13L', 'PPP1R14A', 'PPP1R14B', 'PPP1R14B_RP11_783K16_13', 'PPP1R14C', 'PPP1R14D', 'PPP1R15A', 'PPP1R15B', 'PPP1R16A', 'PPP1R16B', 'PPP1R17', 'PPP1R18', 'PPP1R1A', 'PPP1R1B', 'PPP1R1C', 'PPP1R2', 'PPP1R21', 'PPP1R26', 'PPP1R26_AS1', 'PPP1R27', 'PPP1R2P3', 'PPP1R32', 'PPP1R32_RP11_286N22_8', 'PPP1R35', 'PPP1R36', 'PPP1R37', 'PPP1R37_GEMIN7', 'PPP1R3A', 'PPP1R3B', 'PPP1R3C', 'PPP1R3E', 'PPP1R3E_HOMEZ', 'PPP1R3F', 'PPP1R3G', 'PPP1R42', 'PPP1R42_COPS5', 'PPP1R7', 'PPP1R8', 'PPP1R9A', 'PPP1R9B', 'PPP2CA', 'PPP2CA_CDKL3_CTD_2410N18_4', 'PPP2CA_CTD_2410N18_5', 'PPP2CB', 'PPP2R1A', 'PPP2R1B', 'PPP2R2A', 'PPP2R2B', 'PPP2R2B_Y_RNA', 'PPP2R2C', 'PPP2R2D', 'PPP2R3A', 'PPP2R3B', 'PPP2R3C', 'PPP2R4', 'PPP2R5A', 'PPP2R5B', 'PPP2R5C', 'PPP2R5D', 'PPP2R5E', 'PPP3CA', 'PPP3CB', 'PPP3CC', 'PPP3R1', 'PPP3R1_RP11_474G23_1', 'PPP4C', 'PPP4R1', 'PPP4R1L', 'PPP4R2', 'PPP4R2_GXYLT2', 'PPP4R4', 'PPP5C', 'PPP5D1', 'PPP6C', 'PPP6R1', 'PPP6R2', 'PPP6R3', 'PPRC1', 'PPT1', 'PPT2_PPT2_EGFL8', 'PPT2_PPT2_EGFL8_EGFL8', 'PPT2_EGFL8', 'PPT2_EGFL8_EGFL8', 'PPTC7', 'PPWD1', 'PPY', 'PPY2', 'PQBP1', 'PQLC1', 'PQLC2', 'PQLC3', 'PRAC1', 'PRAC2', 'PRADC1', 'PRAF2', 'PRAM1', 'PRAME', 'PRAMEF1', 'PRAMEF10', 'PRAMEF11', 'PRAMEF12', 'PRAMEF13', 'PRAMEF14', 'PRAMEF15', 'PRAMEF16', 'PRAMEF17', 'PRAMEF18', 'PRAMEF19', 'PRAMEF2', 'PRAMEF20', 'PRAMEF21', 'PRAMEF22', 'PRAMEF3', 'PRAMEF4', 'PRAMEF5', 'PRAMEF6', 'PRAMEF6_PRAMEF23', 'PRAMEF7', 'PRAMEF8', 'PRAMEF9', 'PRAMENP', 'PRAP1', 'PRAP1_ZNF511', 'PRB1', 'PRB2', 'PRB2_PRB1', 'PRB3', 'PRB4', 'PRC1', 'PRCC', 'PRCD', 'PRCP', 'PRDM1', 'PRDM10', 'PRDM11', 'PRDM12', 'PRDM13', 'PRDM14', 'PRDM15', 'PRDM16', 'PRDM2', 'PRDM4', 'PRDM5', 'PRDM6', 'PRDM7', 'PRDM8', 'PRDM9', 'PRDX1', 'PRDX2', 'PRDX3', 'PRDX4', 'PRDX5', 'PRDX6', 'PREB', 'PRELID1', 'PRELID2', 'PRELP', 'PREP', 'PREPL', 'PREX1', 'PREX2', 'PRF1', 'PRG2_RP11_872D17_8', 'PRG3', 'PRG4', 'PRH2', 'PRICKLE1', 'PRICKLE2', 'PRICKLE3', 'PRICKLE4', 'PRICKLE4_TOMM6', 'PRICKLE4_TOMM6_snoU13', 'PRIM1', 'PRIM2', 'PRIMA1', 'PRIMPOL', 'PRKAA1', 'PRKAA2', 'PRKAB1', 'PRKAB2', 'PRKACA', 'PRKACB', 'PRKAG1', 'PRKAG2', 'PRKAG2_AS1', 'PRKAG3', 'PRKAR1A', 'PRKAR1A_RP11_120M18_2', 'PRKAR1B', 'PRKAR2A', 'PRKAR2A_AS1', 'PRKAR2B', 'PRKCA', 'PRKCB', 'PRKCD', 'PRKCDBP', 'PRKCE', 'PRKCG', 'PRKCH', 'PRKCH_RP11_47I22_4', 'PRKCI', 'PRKCQ', 'PRKCSH', 'PRKCZ', 'PRKD1', 'PRKD2', 'PRKD3', 'PRKDC', 'PRKG1', 'PRKG1_AS1', 'PRKG2', 'PRKRA', 'PRKRIP1', 'PRKRIP1_RP11_163E9_2', 'PRKRIR', 'PRKRIRP5_RP11_716O23_2', 'PRKX', 'PRKY', 'PRL', 'PRLH', 'PRLHR', 'PRLR', 'PRM1', 'PRM2', 'PRM3', 'PRMT1', 'PRMT1_ADM5', 'PRMT10', 'PRMT2', 'PRMT3', 'PRMT5', 'PRMT7', 'PRMT8', 'PRND', 'PRNP', 'PRNT', 'PROB1', 'PROC', 'PROCA1', 'PROCR', 'PRODH', 'PRODH2', 'PROK1', 'PROK2', 'PROKR1', 'PROKR2', 'PROL1', 'PROM1', 'PROM1_FGFBP2', 'PROM2', 'PROP1', 'PROS1', 'PROSC', 'PROSER1', 'PROSER2', 'PROSER2_AS1', 'PROX1', 'PROX1_AS1', 'AGAP9_BMS1P6', 'AGBL1', 'AGBL2', 'AGBL3', 'AGBL4', 'AGBL5', 'AGER', 'AGFG1', 'AGFG1_MIR5703', 'AGFG2', 'AGGF1', 'AGK', 'AGL', 'AGMAT', 'AGMO', 'AGO1', 'AGO2', 'AGO3', 'AGO4', 'AGPAT1', 'AGPAT2', 'AGPAT3', 'AGPAT4', 'AGPAT5', 'AGPAT5_snoU13', 'AGPAT6', 'AGPAT9', 'AGPS', 'AGR2', 'AGR3', 'AGRN', 'AGRP', 'AGT', 'AGT_RP11_99J16_A_2', 'AGTPBP1', 'AGTR1', 'AGTRAP', 'AGXT', 'AGXT2', 'AHCTF1', 'AHCY', 'AHCYL1', 'AHCYL2', 'AHDC1', 'AHI1', 'AHNAK', 'AHNAK2', 'AHR', 'AHRR', 'AHRR_PDCD6', 'AHSA1', 'AHSA2', 'AHSG', 'AHSP', 'AICDA', 'AIDA', 'AIF1', 'AIF1L', 'AIFM1_AMDP1_TRPC6P_TCEB1P24_DDX11L16_WASIR1', 'AIFM2', 'AIFM3', 'AIG1', 'AIM1', 'AIM1L', 'AIM2', 'AIMP1', 'AIMP2', 'AIP', 'AIPL1', 'AIRE', 'AJAP1', 'AJUBA', 'AJUBA_RP11_298I3_5', 'AK1', 'AK1_RP11_203J24_9', 'AK2', 'AK3', 'AK4', 'AK5', 'AK7', 'AK8', 'AK9', 'AKAP1', 'AKAP1_U3', 'AKAP10', 'AKAP11', 'AKAP12', 'AKAP13', 'AKAP2', 'AKAP3', 'AKAP4', 'AKAP5', 'AKAP6', 'AKAP7', 'AKAP8', 'AKAP8L', 'AKAP9', 'AKIP1', 'AKIRIN1', 'AKIRIN2', 'AKNA', 'AKNAD1', 'AKR1A1', 'AKR1B1', 'AKR1B10', 'AKR1B15', 'AKR1C1', 'AKR1C2', 'AKR1C3', 'AKR1C4', 'AKR1C6P', 'AKR1CL1', 'AKR1D1', 'AKR1E2', 'AKR7A2', 'AKR7A2P1', 'AKR7A3', 'AKR7L', 'AKT1', 'AKT1S1', 'AKT2', 'AKT3', 'AKTIP', 'AL020996_1', 'AL022344_4', 'AL033381_1', 'AL035610_1', 'AL035610_2', 'AL078585_1', 'AL109763_2', 'AL118506_1', 'AL121656_5', 'AL122127_25', 'AL133481_1', 'AL133481_1_RP11_342M3_2', 'AL139147_1', 'AL353997_3', 'AL353997_3_AL353997_4', 'AL355390_1', 'AL355490_1', 'AL358781_1', 'AL360004_1', 'AL391005_1', 'AL391421_1', 'AL445665_1', 'AL445989_1', 'AL450992_2', 'AL589642_1_TAF1L', 'AL589743_1', 'AL590822_2', 'AL591479_1', 'AL592528_1', 'AL807752_1', 'AL928742_12', 'AL928742_12_IGHE', 'AL928768_3', 'AL953854_2', 'ALAD', 'ALAS1', 'ALAS2', 'ALB', 'ALCAM', 'ALDH16A1', 'ALDH16A1_CTD_3148I10_9', 'ALDH18A1', 'ALDH1A1', 'ALDH1A2', 'ALDH1A3', 'ALDH1A3_RP11_66B24_8', 'ALDH1L1', 'ALDH1L1_AS2', 'ALDH1L2', 'ALDH2', 'ALDH2_RP11_162P23_2', 'ALDH3A1', 'ALDH3A2', 'ALDH3B1', 'ALDH3B2', 'ALDH4A1', 'ALDH4A1_RP13_279N23_2', 'ALDH5A1', 'ALDH6A1', 'ALDH7A1', 'ALDH8A1', 'ALDH9A1', 'ALDH9A1_Y_RNA', 'ALDOA', 'ALDOB', 'ALDOB_Y_RNA', 'ALDOC', 'ALG1', 'ALG1_RP11_165E7_1', 'ALG10', 'ALG11', 'ALG11_UTP14C', 'ALG12', 'ALG14', 'ALG1L', 'ALG1L2', 'ALG1L3P', 'ALG1L6P', 'ALG1L7P', 'ALG2', 'ALG3', 'ALG5', 'ALG6', 'ALG8', 'ALG9', 'ALK', 'ALK_Y_RNA', 'ALKBH1', 'ALKBH2', 'ALKBH3', 'ALKBH3_AS1', 'ALKBH4', 'ALKBH5', 'ALKBH6', 'ALKBH6_AC002116_8', 'ALKBH7', 'ALKBH8', 'ALLC', 'ALMS1', 'ALMS1P', 'ALOX12', 'ALOX12B', 'ALOX12P2', 'ALOX15', 'ALOX15B', 'ALOX5', 'ALOX5AP', 'ALOXE3', 'ALPI', 'ALPK1', 'ALPK2', 'ALPK3', 'ALPL', 'ALPP', 'ALPPL2', 'ALS2', 'ALS2CL', 'ALS2CR11', 'ALS2CR12', 'ALX1', 'ALX3', 'ALX4', 'ALYREF', 'AMACR', 'AMACR_RP11_1084J3_3', 'AMACR_RP11_1084J3_4', 'AMBN', 'AMBP', 'AMBRA1', 'AMD1', 'AMDHD1', 'AMDHD2', 'AMDHD2_ATP6C', 'AMDP1_CLIC2_TRPC6P_TCEB1P24_DDX11L16_WASIR1', 'AMDP1_CT45A4_TRPC6P_TCEB1P24_DDX11L16_WASIR1', 'AMDP1_CT45A5_CT45A4_TRPC6P_TCEB1P24_DDX11L16_WASIR1', 'AMDP1_CT45A5_TRPC6P_TCEB1P24_DDX11L16_WASIR1', 'AMDP1_CT45A6_TRPC6P_TCEB1P24_DDX11L16_WASIR1', 'AMDP1_CT47A5_TRPC6P_TCEB1P24_DDX11L16_WASIR1', 'AMDP1_CT47A5_TRPC6P_TCEB1P24_DDX11L16_WASIR1_CT47A6', 'AMDP1_IKBKGP1_TRPC6P_TCEB1P24_DDX11L16_WASIR1', 'AMDP1_KIAA1210_TRPC6P_TCEB1P24_DDX11L16_WASIR1', 'AMDP1_LINC00893_TRPC6P_TCEB1P24_DDX11L16_WASIR1', 'AMDP1_MAGEA9B_TRPC6P_TCEB1P24_DDX11L16_WASIR1', 'AMDP1_MAGT1_TRPC6P_TCEB1P24_DDX11L16_WASIR1', 'AMDP1_NKAPP1_TRPC6P_TCEB1P24_DDX11L16_WASIR1', 'AMDP1_RHOXF2B_TRPC6P_TCEB1P24_DDX11L16_WASIR1', 'AMDP1_RP11_217H19_1_TRPC6P_TCEB1P24_DDX11L16_WASIR1', 'AMDP1_RP11_453F18_B_1_TRPC6P_TCEB1P24_DDX11L16_WASIR1', 'AMDP1_TCP11X2_TRPC6P_TCEB1P24_DDX11L16_WASIR1', 'AMDP1_TEX28P2_TRPC6P_TCEB1P24_DDX11L16_WASIR1', 'AMDP1_TRPC6P_CSAG3_TCEB1P24_DDX11L16_WASIR1', 'AMDP1_TRPC6P_CT47A12_TCEB1P24_DDX11L16_WASIR1', 'AMDP1_TRPC6P_CT47A2_TCEB1P24_DDX11L16_WASIR1', 'AMDP1_TRPC6P_CT47A3_TCEB1P24_DDX11L16_WASIR1', 'AMDP1_TRPC6P_CT47A4_TCEB1P24_DDX11L16_WASIR1', 'AMDP1_TRPC6P_CT47A8_TCEB1P24_DDX11L16_WASIR1', 'AMDP1_TRPC6P_CTAG1B_TCEB1P24_DDX11L16_WASIR1', 'AMDP1_TRPC6P_CXorf49_TCEB1P24_DDX11L16_WASIR1', 'AMDP1_TRPC6P_CXorf51A_TCEB1P24_DDX11L16_WASIR1', 'AMDP1_TRPC6P_FTX_TCEB1P24_DDX11L16_WASIR1', 'AMDP1_TRPC6P_LL0XNC01_116E7_2_TCEB1P24_DDX11L16_WASIR1', 'AMDP1_TRPC6P_MAGEA3_TCEB1P24_DDX11L16_WASIR1', 'AMDP1_TRPC6P_RP1_274L7_1_TCEB1P24_DDX11L16_WASIR1', 'AMDP1_TRPC6P_RP11_761E20_1_TCEB1P24_DDX11L16_WASIR1', 'AMDP1_TRPC6P_RP13_228J13_1_TCEB1P24_DDX11L16_WASIR1', 'AMDP1_TRPC6P_TAF9B_TCEB1P24_DDX11L16_WASIR1', 'AMDP1_TRPC6P_TCEB1P24_DDX11L16_CT47A10_WASIR1', 'AMDP1_TRPC6P_TCEB1P24_DDX11L16_CT47A11_WASIR1', 'AMDP1_TRPC6P_TCEB1P24_DDX11L16_CT47A7_WASIR1', 'AMDP1_TRPC6P_TCEB1P24_DDX11L16_LINC00087_WASIR1', 'AMDP1_TRPC6P_TCEB1P24_DDX11L16_LINC00633_WASIR1', 'AMDP1_TRPC6P_TCEB1P24_DDX11L16_LL0XNC01_240C2_1_WASIR1', 'AMDP1_TRPC6P_TCEB1P24_DDX11L16_RBMX_WASIR1', 'AMDP1_TRPC6P_TCEB1P24_DDX11L16_WASIR1', 'AMDP1_TRPC6P_TCEB1P24_DDX11L16_WASIR1_CT47A6', 'AMDP1_TRPC6P_TCEB1P24_DDX11L16_WASIR1_CT47A9', 'AMDP1_TRPC6P_TCEB1P24_DDX11L16_WASIR1_FMR1_AS1', 'AMDP1_TRPC6P_TCEB1P24_DDX11L16_WASIR1_PGAM4', 'AMDP1_TRPC6P_TCEB1P24_DDX11L16_WASIR1_RP1_93I3_1', 'AMDP1_TRPC6P_TCEB1P24_DDX11L16_WASIR1_RP11_357C3_3', 'AMDP1_TRPC6P_TCEB1P24_DDX11L16_WASIR1_RP3_368A4_5', 'AMDP1_TRPC6P_TCEB1P24_DDX11L16_WASIR1_SPANXA1', 'AMDP1_TRPC6P_TCEB1P24_DDX11L16_WASIR1_SPANXC', 'AMDP1_TRPC6P_TCEB1P24_DDX11L16_WASIR1_SPANXD', 'AMDP1_TRPC6P_TEX28P1_TCEB1P24_DDX11L16_WASIR1', 'AMDP1_XIST_TRPC6P_TCEB1P24_DDX11L16_WASIR1', 'AMELX', 'AMELY', 'AMER1_AMDP1_TRPC6P_TCEB1P24_DDX11L16_WASIR1', 'AMER2', 'AMER2_AS1', 'AMER3', 'AMFR', 'AMH', 'AMHR2', 'AMICA1', 'AMIGO1', 'AMIGO2', 'AMMECR1_AMDP1_TRPC6P_TCEB1P24_DDX11L16_WASIR1', 'AMMECR1L', 'AMN', 'AMN1', 'AMOT_AMDP1_TRPC6P_TCEB1P24_DDX11L16_WASIR1', 'AMOTL1', 'AMOTL2', 'AMOTL2_RPL39P5', 'AMPD1', 'AMPD2', 'AMPD3', 'AMPH', 'AMT', 'AMTN', 'AMY1A', 'AMY1B', 'AMY1C', 'AMY2A', 'AMY2B', 'AMY2B_ACTG1P4', 'AMY2B_snoU13', 'AMYP1', 'AMZ1', 'AMZ2', 'AMZ2P1', 'ANAPC1', 'ANAPC10', 'ANAPC11', 'ANAPC13', 'ANAPC15', 'ANAPC16', 'ANAPC1P1', 'ANAPC2', 'ANAPC4', 'ANAPC5', 'ANAPC7', 'ANAPC7_RP11_478C19_2', 'ANGEL1', 'ANGEL2', 'ANGPT1', 'ANGPT2', 'ANGPT4', 'ANGPTL1', 'ANGPTL2', 'ANGPTL3', 'ANGPTL4', 'ANGPTL5', 'ANGPTL6', 'ANGPTL7', 'ANHX', 'ANK1', 'ANK2', 'ANK3', 'ANKAR', 'ANKDD1A', 'ANKDD1A_AC069368_3', 'ANKDD1B', 'ANKEF1', 'ANKFN1', 'ANKFY1', 'ANKH', 'ANKHD1_ANKHD1_EIF4EBP3', 'ANKHD1_EIF4EBP3_ANKHD1_EIF4EBP3', 'ANKIB1', 'ANKK1', 'ANKLE1', 'ANKLE1_CTD_2278I10_6', 'ANKLE2', 'ANKMY1', 'ANKMY2', 'ANKRA2', 'ANKRD1', 'ANKRD10', 'ANKRD11', 'ANKRD12', 'ANKRD12_RP11_21J18_1', 'ANKRD13A', 'ANKRD13B', 'ANKRD13C', 'ANKRD13D', 'ANKRD16', 'ANKRD17', 'ANKRD18A', 'ANKRD18A_RP11_392E22_12', 'ANKRD18A_RP11_392E22_5', 'ANKRD18A_RP11_392E22_5_RP11_392E22_11_RP11_392E22_10_RP11_392E22_12_RP11_392E22_8', 'ANKRD18B', 'ANKRD18CP_RP11_498P14_5', 'ANKRD18DP', 'ANKRD19P', 'ANKRD2', 'ANKRD20A1', 'ANKRD20A11P', 'ANKRD20A14P', 'ANKRD20A19P', 'ANKRD20A2', 'ANKRD20A3', 'ANKRD20A4', 'ANKRD20A5P', 'ANKRD20A8P', 'ANKRD20A9P_RHOT1P3_RNU6_55P', 'ANKRD22', 'ANKRD23', 'ANKRD24', 'ANKRD26', 'ANKRD26P1', 'ANKRD26P3', 'ANKRD27', 'ANKRD28', 'ANKRD29', 'ANKRD30A', 'ANKRD30B', 'ANKRD30BL', 'ANKRD30BP2', 'ANKRD30BP3', 'ANKRD30BP3_RP11_445N18_7', 'ANKRD31', 'ANKRD32', 'ANKRD34A', 'ANKRD34B', 'ANKRD34C', 'ANKRD35', 'ANKRD36', 'ANKRD36B', 'ANKRD36BP2', 'ANKRD36C', 'ANKRD37', 'ANKRD39', 'ANKRD39_ANKRD23', 'ANKRD40', 'ANKRD42', 'ANKRD44', 'ANKRD45', 'ANKRD46', 'ANKRD49', 'ANKRD50', 'ANKRD52', 'ANKRD53', 'ANKRD54', 'ANKRD55', 'ANKRD6', 'ANKRD62', 'ANKRD65', 'ANKRD66', 'ANKRD7', 'ANKRD9', 'ANKS1A', 'ANKS1B', 'ANKS3', 'ANKS3_RP11_127I20_7', 'ANKS4B', 'ANKS6', 'ANKUB1', 'ANKUB1_RNU6_507P', 'ANKZF1', 'ANLN', 'ANO1', 'ANO10', 'ANO2', 'ANO3', 'ANO3_CTD_2507G9_1', 'ANO4', 'ANO5', 'ANO6', 'ANO7', 'ANO8', 'ANO8_Y_RNA', 'ANO9', 'ANP32A', 'ANP32B', 'ANP32E', 'ANPEP', 'ANTXR1', 'ANTXR2', 'ANTXRL', 'ANXA1', 'ANXA10', 'ANXA11', 'ANXA13', 'ANXA2', 'ANXA2P1', 'ANXA2P3', 'ANXA3', 'ANXA4', 'ANXA5', 'ANXA6', 'ANXA7', 'ANXA8', 'ANXA8_AL591684_1', 'ANXA8_RP11_301J7_8', 'ANXA8L1', 'ANXA8L2', 'ANXA9', 'AOAH', 'AOC1', 'AOC2', 'AOC3', 'AOX1', 'AOX2P', 'AOX3P', 'AP000251_3', 'AP000253_1', 'AP000266_7', 'AP000320_7_MRPS6', 'AP000322_53', 'AP000330_8', 'AP000345_1', 'AP000350_4', 'AP000351_10', 'AP000439_1', 'AP000472_2', 'AP000475_2', 'AP000476_1', 'AP000479_1', 'AP000487_5', 'AP000525_10', 'AP000525_9', 'AP000619_5', 'AP000662_4', 'AP000688_14', 'AP000708_1', 'AP001053_11', 'AP001065_2', 'AP001258_4', 'AP001347_6', 'AP001432_14_DSCR9', 'AP001604_3', 'AP001626_1', 'AP001626_2', 'AP002387_1', 'AP002833_1_KIRREL3_AS3', 'AP003025_2', 'AP003068_12', 'AP003733_1', 'AP003774_5', 'AP005482_1', 'AP005901_1', 'AP006285_6', 'AP1AR', 'AP1B1', 'AP1G1', 'AP1G2', 'AP1M1', 'AP1M2', 'AP1S1', 'AP1S2', 'AP1S3', 'AP2A1', 'AP2A2', 'AP2B1', 'AP2M1', 'AP2S1', 'AP3B1', 'AP3B2', 'AP3D1', 'AP3M1', 'AP3M2', 'AP3S1', 'AP3S2', 'AP3S2_C15orf38_AP3S2', 'AP4B1', 'AP4B1_AS1', 'AP4E1', 'AP4M1', 'AP4S1', 'AP5M1', 'AP5S1', 'AP5Z1', 'APAF1', 'APBA1', 'APBA1_RP11_548B3_3', 'APBA1_Y_RNA', 'APBA2', 'APBA3', 'APBA3_AC005954_3', 'APBB1', 'APBB1IP', 'APBB2', 'APBB3', 'APBB3_SRA1', 'APC', 'APC_CTC_554D6_1', 'APC2', 'APCDD1', 'APCDD1L', 'APCDD1L_AS1', 'APCS', 'APEH', 'APEX1', 'APEX2', 'APH1A', 'APH1B', 'API5', 'APIP', 'APITD1_APITD1_CORT', 'APLF', 'APLN_AMDP1_TRPC6P_TCEB1P24_DDX11L16_WASIR1', 'APLP1', 'APLP2', 'APMAP', 'APOA1', 'APOA1BP', 'APOA2', 'APOA4', 'APOA5', 'APOB', 'APOBEC1', 'APOBEC2', 'APOBEC3A', 'APOBEC3B', 'APOBEC3C', 'APOBEC3D', 'APOBEC3D_APOBEC3C', 'APOBEC3F', 'APOBEC3G', 'APOBEC3G_APOBEC3F', 'APOBEC3H', 'APOBEC4', 'APOBR', 'APOC1', 'APOC3', 'APOC4_APOC4_APOC2', 'APOD', 'APOE', 'APOF', 'APOH', 'APOL1', 'APOL2', 'APOL3', 'APOL4', 'APOL5', 'APOL6', 'APOLD1', 'APOLD1_DDX47', 'APOM', 'APOO', 'APOPT1_RP11_73M18_2', 'APP', 'APPBP2', 'APPL1', 'APPL2', 'APRT', 'APTX', 'AQP1', 'AQP10', 'AQP11', 'AQP12A', 'AQP12B', 'AQP2', 'AQP4', 'AQP4_AS1', 'AQP5', 'AQP6', 'AQP7', 'AQP7P1', 'AQP7P2', 'AQP7P3', 'AQP8', 'AQP9', 'AQPEP', 'AQPEP_CTD_2287O16_3', 'AQR', 'ARAF', 'ARAP1', 'ARAP2', 'ARAP3', 'ARC', 'ARCN1', 'AREG', 'AREL1', 'AREL1_AC007956_1', 'AREL1_Y_RNA', 'ARF1', 'ARF3_AC073610_5', 'ARF3_RP11_302B13_5', 'ARF3_RP11_302B13_5_AC073610_5', 'ARF4', 'ARF5', 'ARF6', 'ARFGAP1', 'ARFGAP2', 'ARFGAP3', 'ARFGEF1', 'ARFGEF2', 'ARFIP1', 'ARFIP2', 'ARFRP1', 'ARG1', 'ARG2', 'ARGFX', 'ARGLU1', 'ARHGAP1', 'ARHGAP10', 'ARHGAP11A', 'ARHGAP11B', 'ARHGAP12', 'ARHGAP15', 'ARHGAP17', 'ARHGAP18', 'ARHGAP19', 'ARHGAP19_ARHGAP19_SLIT1', 'ARHGAP20', 'ARHGAP21', 'ARHGAP22', 'ARHGAP22_IT1', 'ARHGAP23', 'ARHGAP24', 'ARHGAP25', 'ARHGAP26', 'ARHGAP26_AS1', 'ARHGAP27', 'ARHGAP28', 'ARHGAP29', 'ARHGAP30', 'ARHGAP31', 'ARHGAP32', 'ARHGAP33', 'ARHGAP35', 'ARHGAP39', 'ARHGAP4_AMDP1_TRPC6P_TCEB1P24_DDX11L16_WASIR1', 'ARHGAP42', 'ARHGAP44', 'ARHGAP44_snoU13', 'ARHGAP5', 'ARHGAP6', 'ARHGAP8', 'ARHGAP8_PRR5_ARHGAP8', 'ARHGAP9', 'ARHGDIA', 'ARHGDIB', 'ARHGDIG', 'ARHGDIG_ITFG3', 'ARHGEF1', 'ARHGEF10', 'ARHGEF10L', 'ARHGEF11', 'ARHGEF12', 'ARHGEF15', 'ARHGEF16', 'ARHGEF17', 'ARHGEF18', 'ARHGEF18_CTD_2207O23_3', 'ARHGEF19', 'ARHGEF2', 'ARHGEF25', 'ARHGEF26', 'ARHGEF26_AS1', 'ARHGEF28', 'ARHGEF3', 'ARHGEF33', 'ARHGEF34P', 'ARHGEF37', 'ARHGEF38', 'ARHGEF39', 'ARHGEF39_Y_RNA', 'ARHGEF4', 'ARHGEF40', 'ARHGEF40_snoU13', 'ARHGEF5', 'ARHGEF6_AMDP1_TRPC6P_TCEB1P24_DDX11L16_WASIR1', 'ARHGEF7', 'ARHGEF9_AMDP1_TRPC6P_TCEB1P24_DDX11L16_WASIR1', 'ARID1A', 'ARID1B', 'ARID2', 'ARID3A', 'ARID3B', 'ARID3C', 'ARID4A', 'ARID4B', 'ARID4B_RBM34', 'ARID5A', 'ARID5B', 'ARIH1', 'ARIH2', 'ARIH2OS', 'ARL1', 'ARL10', 'PROX2', 'PROZ', 'PRPF18', 'PRPF18_RP11_295P9_3', 'PRPF19', 'PRPF3', 'PRPF31', 'PRPF38A', 'PRPF38B', 'PRPF39', 'PRPF4', 'PRPF40A', 'PRPF40B', 'PRPF4B', 'PRPF6', 'PRPF8', 'PRPH', 'PRPH2', 'PRPS2', 'PRPSAP1', 'PRPSAP1_Y_RNA', 'PRPSAP2', 'PRR11', 'PRR11_CTD_2510F5_6', 'PRR12', 'PRR13_PCBP2_RP11_793H13_8', 'PRR14', 'PRR14L', 'PRR14L_Y_RNA', 'PRR15', 'PRR15L', 'PRR16', 'PRR18', 'PRR19', 'PRR20A', 'PRR20B', 'PRR20C', 'PRR20D', 'PRR20E', 'PRR22_CTB_54O9_9', 'PRR23B', 'PRR23C', 'PRR25', 'PRR26', 'PRR3', 'PRR4', 'PRR4_PRH1', 'PRR4_TAS2R14', 'PRR5', 'PRR5_ARHGAP8_PRR5_ARHGAP8', 'PRR5L', 'PRR7', 'PRR7_AS1', 'PRRC1', 'PRRC2A', 'PRRC2A_snoU13', 'PRRC2B', 'PRRC2C', 'PRRG1', 'PRRG1_TM4SF2', 'PRRG2', 'PRRG4', 'PRRT1', 'PRRT2_MAZ', 'PRRT3', 'PRRT4', 'PRRX1', 'PRRX2', 'PRSS1', 'PRSS12', 'PRSS16', 'PRSS21', 'PRSS22', 'PRSS23', 'PRSS27', 'PRSS3', 'PRSS30P', 'PRSS33', 'PRSS35', 'PRSS36', 'PRSS36_Y_RNA', 'PRSS37', 'PRSS38', 'PRSS3P2', 'PRSS41', 'PRSS42', 'PRSS45', 'PRSS45_PRSS44', 'PRSS48', 'PRSS50', 'PRSS50_PRSS45', 'PRSS50_PRSS45_PRSS44', 'PRSS50_PRSS46', 'PRSS51', 'PRSS53', 'PRSS53_RP11_196G11_1', 'PRSS54', 'PRSS55', 'PRSS57', 'PRSS58', 'PRSS8', 'PRTFDC1', 'PRTG', 'PRTN3', 'PRUNE', 'PRUNE2', 'PRX', 'PRY', 'PRY2', 'PRYP3', 'PRYP4', 'PSAP', 'PSAT1', 'PSCA', 'PSD', 'PSD2', 'PSD3', 'PSD3_RPL35P6', 'PSD4', 'PSEN1', 'PSEN2', 'PSENEN_AC002398_9', 'PSG1', 'PSG10P', 'PSG11', 'PSG2', 'PSG3', 'PSG4', 'PSG5', 'PSG6', 'PSG7', 'PSG8', 'PSG8_PSG10P', 'PSG9', 'PSIP1', 'PSKH1', 'PSKH2', 'PSMA1', 'PSMA2', 'PSMA2_C7orf25', 'PSMA3', 'PSMA4', 'PSMA5', 'PSMA6', 'PSMA6_KIAA0391', 'PSMA7', 'PSMA8', 'PSMB1', 'PSMB10', 'PSMB10_CTC_479C5_12', 'PSMB11', 'PSMB2', 'PSMB3', 'PSMB4', 'PSMB5', 'PSMB5_AL132780_1', 'PSMB6', 'PSMB7', 'PSMB8', 'PSMB9', 'PSMC1', 'PSMC2', 'PSMC3', 'PSMC3IP', 'PSMC4', 'PSMC5', 'PSMC6', 'PSMD1', 'PSMD10_AMDP1_TRPC6P_TCEB1P24_DDX11L16_WASIR1', 'PSMD11', 'PSMD12', 'PSMD13', 'PSMD14', 'PSMD2', 'PSMD3', 'PSMD4', 'PSMD5', 'PSMD5_AS1', 'PSMD6', 'PSMD6_AS2', 'PSMD7', 'PSMD8', 'PSMD9', 'PSMD9_RP11_87C12_2', 'PSME1', 'PSME2', 'PSME3', 'PSME4', 'PSMF1', 'PSMG1', 'PSMG2', 'PSMG2_AP005482_1', 'PSMG3', 'PSMG3_AS1', 'PSMG4', 'PSORS1C1', 'PSORS1C2', 'PSORS1C3', 'PSPC1', 'PSPH', 'PSPN', 'PSRC1', 'PSTK', 'PSTPIP1', 'PSTPIP2', 'PTAFR', 'PTAR1', 'PTBP1', 'PTBP2', 'PTBP3', 'PTBP3_Y_RNA', 'PTCD2', 'PTCD3', 'PTCH1', 'PTCH2', 'PTCHD1', 'PTCHD2', 'PTCHD2_snoU13', 'PTCHD3', 'PTCHD3P1', 'PTCHD4', 'PTCRA', 'PTDSS1', 'PTDSS2', 'PTEN', 'PTER', 'PTF1A', 'PTGDR', 'PTGDR2', 'PTGDR2_RP11_804A23_4', 'PTGDS', 'PTGDS_LCNL1', 'PTGDS_RP11_229P13_19', 'PTGER1', 'PTGER2', 'PTGER3', 'PTGER4', 'PTGER4P2', 'PTGES', 'PTGES2', 'PTGES3', 'PTGES3L_AARSD1_AARSD1', 'PTGES3L_AARSD1_PTGES3L', 'PTGFR', 'PTGFRN', 'PTGIR', 'PTGIS', 'PTGR1', 'PTGR2', 'PTGR2_RP5_1021I20_4', 'PTGS1', 'PTGS2', 'PTH', 'PTH1R', 'PTH2', 'PTH2R', 'PTHLH', 'PTK2', 'PTK2B', 'PTK6', 'PTK7', 'PTMA', 'PTMS', 'PTN', 'PTOV1', 'PTOV1_AS1', 'PTP4A1', 'PTP4A2', 'PTP4A3', 'PTPDC1', 'PTPLA', 'PTPLAD1', 'PTPLAD2', 'PTPLB', 'PTPMT1', 'PTPMT1_NDUFS3', 'PTPN1', 'PTPN11', 'PTPN12', 'PTPN13', 'PTPN14', 'PTPN18', 'PTPN2', 'PTPN20A', 'PTPN20B', 'PTPN20CP', 'PTPN21', 'PTPN22', 'PTPN23', 'PTPN23_snoU13', 'PTPN3', 'PTPN4', 'PTPN5', 'PTPN6', 'PTPN7', 'PTPN9', 'PTPN9_CTD_2323K18_1', 'PTPRA', 'PTPRA_VPS16', 'PTPRB', 'PTPRC', 'PTPRCAP', 'PTPRD', 'PTPRE', 'PTPRF', 'PTPRG', 'PTPRG_AS1', 'PTPRH', 'PTPRJ', 'PTPRK', 'PTPRM', 'PTPRN', 'PTPRN2', 'PTPRO', 'PTPRQ', 'PTPRR', 'PTPRS', 'PTPRT', 'PTPRU', 'PTPRVP', 'PTPRZ1', 'PTRH1', 'PTRH2', 'PTRHD1', 'PTS', 'PTTG1', 'PTTG1IP', 'PTX3', 'PTX4', 'PUF60', 'PUM1', 'PUM2', 'PURG', 'PUS1', 'PUS10', 'PUS3', 'PUS7', 'PUS7L', 'PUSL1', 'PVALB', 'PVR', 'PVRIG_STAG3', 'PVRL1', 'PVRL2', 'PVRL3', 'PVRL4', 'PVT1', 'PWP1', 'PWP2', 'PWRN1', 'PWWP2A', 'PWWP2B', 'PXDC1', 'PXDN', 'PXDNL', 'PXK', 'PXMP2', 'PXMP2_RP13_672B3_2', 'PXMP4', 'PXN', 'PXN_AS1', 'PXT1', 'PYCARD', 'PYCR1', 'PYCR1_MYADML2', 'PYCR2', 'PYCR2_RP4_559A3_7', 'PYCRL', 'PYDC1', 'PYGB', 'PYGL', 'PYGM', 'PYGO1', 'PYGO2', 'PYHIN1', 'PYROXD1', 'PYROXD2', 'PYURF', 'PYURF_PIGY', 'PYY', 'PYY2', 'PZP', 'QARS', 'QDPR', 'QKI', 'QPCT', 'QPCTL', 'QPRT', 'QPRT_SPN', 'QRFPR', 'QRFPR_Y_RNA', 'QRICH1', 'QRICH2', 'QRSL1', 'QSER1', 'QSOX1', 'QSOX2', 'QTRT1', 'QTRTD1', 'R3HCC1', 'R3HCC1L', 'R3HDM1', 'R3HDM2', 'R3HDM2_RP11_123K3_4', 'R3HDM4', 'R3HDML', 'RAB10', 'RAB11A', 'RAB11B', 'RAB11B_AS1', 'RAB11FIP1', 'RAB11FIP2', 'RAB11FIP3', 'RAB11FIP4', 'RAB11FIP4_MIR4724', 'RAB11FIP5', 'RAB12', 'RAB13', 'RAB14', 'RAB15', 'RAB17', 'RAB18', 'RAB19', 'RAB1A', 'RAB1B', 'RAB20', 'RAB21', 'RAB22A', 'RAB23', 'RAB25', 'RAB26', 'RAB27A', 'RAB27B', 'RAB28', 'RAB2A', 'RAB2B', 'RAB30', 'RAB30_AS1', 'RAB31', 'RAB32', 'RAB33B', 'RAB34', 'RAB35', 'RAB36', 'RAB37', 'RAB38', 'RAB39A', 'RAB39B_AMDP1_TRPC6P_TCEB1P24_DDX11L16_WASIR1', 'RAB3A', 'RAB3B', 'RAB3C', 'RAB3D', 'RAB3D_TMEM205', 'RAB3GAP1', 'RAB3GAP2', 'RAB3GAP2_AURKAPS1', 'RAB3IL1', 'RAB3IP', 'RAB3IP_AC025263_3', 'RAB40A_AMDP1_TRPC6P_TCEB1P24_DDX11L16_WASIR1', 'RAB40B', 'RAB40C', 'RAB42', 'RAB43', 'RAB44', 'RAB4A', 'RAB4B_RAB4B_EGLN2', 'RAB4B_RAB4B_EGLN2_MIA_RAB4B', 'RAB5A', 'RAB5B', 'RAB5C', 'RAB5C_CTD_2132N18_3', 'RAB6A', 'RAB6B', 'RAB6C', 'RAB7A', 'RAB7L1', 'RAB8A', 'RAB8A_snoU13', 'RAB8B', 'RAB9A', 'RAB9B_AMDP1_TRPC6P_TCEB1P24_DDX11L16_WASIR1', 'RABAC1', 'RABEP1', 'RABEP2', 'RABEPK', 'RABGAP1', 'RABGAP1L', 'RABGEF1', 'RABGGTA', 'RABGGTB', 'RABGGTB_ACADM', 'RABGGTB_SNORD45A', 'RABGGTB_SNORD45B', 'RABGGTB_SNORD45C', 'RABL2A', 'RABL2B', 'RABL3', 'RABL5', 'RABL6', 'RABL6_KIAA1984_RP11_216L13_19', 'RABL6_RP11_216L13_18', 'RAC1', 'RAC2', 'RAC3', 'RACGAP1', 'RAD1', 'RAD17', 'RAD18', 'RAD21', 'RAD21_MIR3610', 'RAD21_AS1', 'RAD21L1', 'RAD21L1_SNPH', 'RAD23A', 'RAD23B', 'RAD50', 'RAD51', 'RAD51_AS1', 'RAD51AP1', 'RAD51AP2', 'RAD51B', 'RAD51C', 'RAD51D', 'RAD51D_RAD51L3_RFFL', 'RAD52', 'RAD52_RP11_359B12_2', 'RAD54B', 'RAD54L', 'RAD54L2', 'RAD9A', 'RAD9B', 'RADIL', 'RADIL_SNORA31', 'RAE1', 'RAET1E', 'RAET1E_AS1_RP11_244K5_8', 'RAET1G', 'RAET1K', 'RAET1L', 'RAF1', 'RAG1', 'RAI1', 'RAI14', 'RAI2', 'RALA', 'RALB', 'RALBP1', 'RALGAPA1', 'RALGAPA1_AL162311_1', 'RALGAPA2', 'RALGAPB', 'RALGAPB_U3', 'RALGDS', 'RALGPS1', 'RALGPS1_snoU13', 'RALGPS2', 'RALY', 'RALYL', 'RAMP1', 'RAMP2', 'RAMP2_AS1', 'RAMP3', 'RAN', 'RANBP1', 'RANBP10', 'RANBP10_Y_RNA', 'RANBP17', 'RANBP2', 'RANBP3', 'RANBP3L', 'RANBP9', 'RANGAP1', 'RANGRF', 'RAP1A', 'RAP1B', 'RAP1GAP', 'RAP1GAP2', 'RAP1GDS1', 'RAP2A', 'RAP2C_AMDP1_TRPC6P_TCEB1P24_DDX11L16_WASIR1', 'RAPGEF1', 'RAPGEF2', 'RAPGEF3', 'RAPGEF4', 'RAPGEF4_AS1', 'RAPGEF5', 'RAPGEF6', 'RAPGEF6_CTC_432M15_3', 'RAPGEFL1', 'RAPH1', 'RAPSN', 'RARA', 'RARB', 'RARG', 'RARRES1', 'RARRES2', 'RARRES3', 'RARS', 'RARS2', 'RASA1', 'RASA2', 'RASA3', 'RASA4', 'RASA4_RP11_514P8_6', 'RASA4_RP11_514P8_7_RP11_514P8_6', 'RASA4B', 'RASA4B_RP11_514P8_8', 'RASA4CP', 'RASAL1', 'RASAL2', 'RASAL2_AS1', 'RASAL3', 'RASD2', 'RASEF', 'RASGEF1A', 'RASGEF1B', 'RASGEF1C', 'RASGRF1', 'RASGRF2', 'RASGRP1', 'RASGRP2', 'RASGRP3', 'RASGRP4', 'RASIP1', 'RASL10A', 'RASL10B', 'RASL11A', 'RASL11B', 'RASL12', 'RASSF1', 'RASSF2', 'RASSF3', 'RASSF4', 'RASSF5', 'RASSF6', 'RASSF7', 'RASSF8', 'RASSF8_AS1', 'RASSF9', 'RAVER1', 'RAVER1_CTD_2369P2_12', 'RAVER2', 'RAX', 'RAX2', 'RB1', 'RB1CC1', 'RBAK_RBAK_RBAKDN', 'RBAK_RBAKDN_RBAKDN', 'RBBP4', 'RBBP5', 'RBBP6', 'RBBP7', 'RBBP8', 'RBBP8_MIR4741', 'RBBP8NL', 'RBBP9', 'RBCK1', 'RBFA', 'RBFA_RP11_795F19_5', 'RBFADN', 'RBFADN_RP11_795F19_5', 'RBFOX1', 'RBFOX1_RP11_420N3_2', 'RBFOX2', 'RBFOX3', 'RBKS', 'RBL2', 'RBM10', 'RBM11', 'RBM12B', 'RBM12B_AS1', 'RBM14_RBM4_RBM14_RBM4', 'RBM15', 'RBM17', 'RBM18', 'RBM19', 'RBM20', 'RBM22', 'RBM23', 'RBM24', 'RBM25', 'RBM26', 'RBM26_AS1', 'RBM27', 'RBM27_POU4F3', 'RBM28', 'RBM3', 'RBM33', 'RBM38', 'RBM39', 'RBM41_AMDP1_TRPC6P_TCEB1P24_DDX11L16_WASIR1', 'RBM42', 'RBM43', 'RBM44', 'RBM45', 'RBM46', 'RBM47', 'RBM48', 'RBM4B', 'RBM5', 'RBM5_RBM6', 'RBM6', 'RBM7_RP11_212D19_4', 'RBM8A', 'RBMS1', 'RBMS2', 'RBMS3', 'RBMXL1_CCBL2', 'RBMXL2', 'RBMY1A1', 'RBMY1A1_RBMY1B', 'RBMY1A3P', 'RBMY1B', 'RBMY1D', 'RBMY1D_RBMY1E', 'RBMY1E', 'RBMY1F', 'RBMY1J', 'RBMY2EP', 'RBMY2FP', 'RBMY2FP_RBMY1J', 'RBMY3AP', 'RBP1', 'RBP2', 'RBP3', 'RBP4', 'RBP5', 'RBP7', 'RBPJ', 'RBPJL', 'RBPMS', 'RBPMS_AS1', 'RBPMS2', 'RBX1_XPNPEP3', 'RC3H1', 'RC3H2', 'RCAN1', 'RCAN2', 'RCAN3', 'RCBTB1', 'RCBTB2', 'RCC1', 'RCC1_SNHG3', 'RCC2', 'RCC2_AC004824_1', 'RCCD1', 'RCE1', 'RCE1_C11orf80', 'RCHY1', 'RCL1', 'RCN1', 'RCN2', 'RCN3', 'RCOR1', 'RCOR2', 'RCOR3', 'RCSD1', 'RCVRN', 'RD3', 'RDH10', 'RDH11', 'RDH11_RP11_1012A1_4', 'RDH12', 'RDH13', 'RDH13_CTC_550B14_6', 'RDH14', 'RDH16', 'RDH5', 'RDH5_RP11_644F5_10', 'RDH8', 'RDM1', 'RDX', 'REC8', 'RECK', 'RECQL', 'RECQL4', 'RECQL5', 'REEP1', 'REEP2', 'REEP3', 'REEP4', 'REEP5', 'REEP6', 'REG1A', 'REG1B', 'REG1P', 'REG3A', 'REG3G', 'REG4', 'REL', 'RELA', 'RELB', 'RELL1', 'RELL2', 'RELN', 'RELT', 'REM1', 'REM2', 'REN', 'RENBP_AMDP1_TRPC6P_TCEB1P24_DDX11L16_WASIR1', 'REP15', 'REPIN1', 'REPS1', 'REPS2', 'RER1', 'RERE', 'RERG', 'RERGL', 'RESP18', 'REST', 'RET', 'RETN', 'RETNLB', 'RETSAT', 'REV1', 'REV3L', 'REXO1', 'REXO1L10P', 'REXO1L11P', 'REXO1L2P', 'REXO1L3P', 'REXO1L9P', 'REXO2', 'REXO2_RP11_212D19_4', 'REXO4', 'RFC1', 'RFC2', 'RFC3', 'RFC4', 'RFC5', 'RFESD', 'RFFL', 'RFFL_RAD51L3_RFFL', 'RFK', 'RFNG', 'RFPL1', 'RFPL2', 'RFPL3', 'RFPL3S', 'RFPL4A', 'RFT1', 'RFT1_RP11_894J14_5', 'RFTN1', 'RFTN1P1', 'RFTN2', 'RFWD2', 'RFWD3', 'RFX1', 'RFX2', 'RFX3', 'RFX4', 'RFX5', 'RFX6', 'RFX7', 'RFX8', 'RFXANK', 'RFXAP', 'RGCC', 'RGL1', 'RGL2', 'RGL3', 'RGL4', 'RGMA', 'RGMA_RP11_368J22_2', 'RGMB', 'RGMB_AS1', 'RGN', 'RGP1', 'RGPD1', 'RGPD1_ANAPC1P1', 'RGPD2', 'RGPD3', 'RGPD4', 'RGPD5', 'RGPD6', 'RGPD8', 'RGR', 'RGS1', 'RGS10', 'RGS11', 'RGS12', 'RGS12_snoU13', 'RGS13', 'RGS14', 'RGS16', 'RGS17', 'RGS18', 'RGS19', 'RGS2', 'RGS20', 'RGS21', 'RGS22', 'RGS3', 'RGS4', 'RGS5', 'RGS5_RP11_267N12_3', 'RGS6', 'RGS7', 'RGS7BP', 'RGS8', 'RGS9', 'RGS9BP', 'RGSL1', 'RHAG', 'RHBDD1', 'RHBDD2', 'RHBDD3', 'RHBDF1', 'RHBDF2', 'RHBDL1', 'RHBDL2', 'RHBDL3', 'RHBDL3_RP11_227G15_3', 'RHBG', 'RHCE', 'RHCG', 'RHD', 'RHEB', 'RHEBL1', 'RHEBP1_FAM35BP', 'RHNO1', 'RHO', 'RHOA', 'RHOBTB1', 'RHOBTB2', 'RHOBTB2_snoU13', 'RHOBTB3', 'RHOC', 'RHOC_RP11_426L16_10', 'RHOD', 'RHOF', 'RHOF_AC084018_1', 'RHOG', 'RHOH', 'RHOJ', 'RHOQ', 'RHOT1', 'RHOT2', 'RHOU', 'RHOV', 'RHOXF1_AMDP1_TRPC6P_TCEB1P24_DDX11L16_WASIR1', 'RHPN1', 'RHPN2', 'RIBC1', 'RIBC2', 'RIC3', 'RIC3_Y_RNA', 'RIC8A', 'RIC8B', 'RICTOR', 'RIF1', 'RIIAD1', 'RIIAD1_AL589765_1', 'RILP', 'RILPL1', 'RILPL2', 'RIMBP2', 'RIMBP2_RP11_662M24_2', 'RIMKLA', 'RIMKLB', 'RIMS1', 'RIMS2', 'RIMS3', 'RIMS4', 'RIN1', 'RIN2', 'RIN3', 'RING1', 'RINL', 'RINT1', 'RIOK1', 'RIOK2', 'RIOK3', 'RIPK1', 'RIPK2', 'RIPK3', 'RIPK3_RP11_934B9_3', 'RIPK4', 'RIPPLY1_AMDP1_TRPC6P_TCEB1P24_DDX11L16_WASIR1', 'RIPPLY2', 'RIPPLY3', 'RIT1', 'RIT2', 'RLBP1', 'RLF', 'RLIM_AMDP1_TRPC6P_TCEB1P24_DDX11L16_WASIR1', 'RLN1', 'RLN2', 'RLN3', 'RLTPR', 'RMDN1', 'RMDN2', 'RMDN3', 'RMI1', 'RMI2', 'RMND1', 'RMND5A', 'RMND5B', 'RMST', 'RN7SL860P_CTC_457E21_3', 'RNASE1', 'RNASE10', 'RNASE11', 'RNASE11_RNASE12', 'RNASE13', 'RNASE2', 'RNASE3', 'RNASE4_AL163636_6_ANG', 'RNASE4_ANG', 'RNASE6', 'RNASE7', 'RNASE9', 'RNASEH1', 'RNASEH1_RP13_512J5_1', 'RNASEH2A', 'RNASEH2B', 'RNASEH2C', 'RNASEK_RNASEK_C17orf49', 'RNASEL', 'RNASET2', 'RNASET2_RP11_514O12_4', 'RND1', 'RND2', 'RND3', 'RNF10', 'RNF103', 'RNF103_CHMP3_RNF103_CHMP3', 'RNF11', 'RNF111', 'RNF112', 'RNF113B', 'RNF114', 'RNF115', 'RNF121', 'RNF122', 'RNF123', 'RNF125', 'RNF125_RP11_53I6_2', 'RNF126', 'RNF13', 'RNF130', 'RNF133', 'RNF135', 'RNF138', 'RNF138_RP11_53I6_2', 'RNF139', 'RNF139_AS1', 'RNF14', 'RNF141', 'RNF144A', 'RNF144A_AS1', 'RNF144B', 'RNF145', 'RNF146', 'RNF148', 'RNF149', 'RNF150', 'RNF151', 'RNF152', 'RNF157', 'RNF157_AS1', 'RNF165', 'RNF166', 'RNF167', 'RNF168', 'RNF169', 'RNF17', 'RNF17_snoU13', 'RNF170', 'RNF175', 'RNF180', 'RNF181', 'RNF182', 'RNF183', 'RNF185', 'RNF185_AS1', 'RNF187', 'RNF19A', 'RNF19B', 'RNF2', 'RNF20', 'RNF207', 'RNF212', 'RNF213', 'RNF214', 'RNF215', 'RNF216', 'RNF216P1', 'RNF216P1_RBAK_RBAKDN', 'RNF217', 'RNF219', 'RNF219_AS1', 'RNF220', 'RNF222', 'RNF224', 'RNF24', 'RNF25', 'RNF31', 'RNF31_IRF9_RP11_468E2_4', 'RNF31_RP11_468E2_4', 'RNF32', 'RNF34', 'RNF38', 'RNF39', 'RNF4', 'RNF40', 'RNF41', 'RNF43', 'RNF44', 'RNF5', 'RNF6', 'RNF6_ATP8A2P3', 'RNF6_SNORA31', 'RNF7', 'RNF8', 'RNFT1', 'RNFT1_TBC1D3P1_DHX40P1', 'RNFT2', 'RNGTT', 'RNH1', 'RNLS', 'RNMT', 'RNMTL1', 'RNPC3', 'RNPEP', 'RNPEPL1', 'RNPS1', 'RNU11', 'RNU2_52P', 'RNU4ATAC', 'RNU6ATAC', 'ROBO1', 'ROBO1_SNORD112', 'ROBO2', 'ROBO3', 'ROBO4', 'ROCK1', 'ROCK1P1', 'ROCK2', 'ROGDI', 'ROM1', 'ROMO1', 'ROPN1', 'ROPN1B', 'ROPN1L', 'ROR1', 'ROR2', 'RORA', 'RORB', 'RORC', 'ROS1', 'ROS1_GOPC', 'RP1', 'RP1_102H19_8', 'RP1_104O17_1', 'RP1_104O17_1_RP1_104O17_2', 'RP1_111D6_3', 'RP1_122P22_2', 'RP1_137D17_1', 'RP1_152L7_5', 'RP1_179N16_6', 'RP1_197B17_3', 'RP1_199J3_5', 'RP1_1J6_2', 'RP1_206D15_3', 'RP1_207H1_3', 'RP1_212G6_7', 'RP1_230L10_1', 'RP1_232N11_2', 'RP1_234P15_4', 'RP1_240K6_3', 'RP1_249H1_4', 'RP1_257A15_1', 'RP1_257A7_4', 'RP1_27K12_2', 'RP1_27O5_3', 'RP1_27O5_3_ZBTB8B', 'RP1_283E3_4', 'RP1_283K11_2', 'RP1_283K11_3', 'RP1_292B18_4', 'RP1_293L6_1', 'RP1_297M16_2', 'RP1_30G7_2', 'RP1_37N7_3', 'RP1_40E16_9', 'RP1_46F2_2', 'RP1_60O19_1', 'RP1_62O9_3', 'RP1_63G5_7', 'RP1_66C13_4', 'RP1_69D17_3', 'RP1_69D17_4', 'RP1_74M1_3', 'RP1_85F18_5', 'RP1_93H18_1', 'RP11_1000B6_3', 'RP11_1006G14_1', 'RP11_1007I13_4_AMDP1_MAGEA5_TRPC6P_TCEB1P24_DDX11L16_WASIR1', 'RP11_1008C21_1', 'RP11_100G15_7', 'RP11_100L22_2', 'RP11_1016B18_1', 'RP11_1018N14_2', 'RP11_104H15_7', 'RP11_1055B8_7', 'RP11_1055B8_7_RP11_1055B8_6', 'RP11_1069G10_1', 'RP11_106M3_3', 'RP11_106M7_1', 'RP11_1070N10_4', 'RP11_1078H9_5', 'RP11_1079K10_5', 'RP11_107I14_4', 'RP11_1084J3_4_C1QTNF3', 'RP11_108K14_4', 'RP11_108K3_3', 'RP11_108M9_4', 'RP11_1096D5_1', 'RP11_109J4_1', 'RP11_109L13_1', 'RP11_10A14_5', 'RP11_10C8_2', 'RP11_10K16_1', 'RP11_10L12_4', 'RP11_10L7_1', 'RP11_10N16_2', 'RP11_10O22_1', 'RP11_1102P16_1', 'RP11_110G21_1', 'RP11_111F5_4', 'RP11_111F5_5', 'RP11_111F5_8', 'RP11_111G23_1', 'RP11_111I12_1', 'RP11_111M22_2', 'RP11_1129I3_1', 'RP11_1137G4_4', 'RP11_113D6_10', 'RP11_1149O23_3', 'RP11_114G22_1', 'RP11_114H20_1', 'RP11_114H24_2', 'RP11_115C10_1', 'RP11_115C21_2', 'RP11_115H18_1', 'RP11_115J16_1', 'RP11_115K3_2', 'RP11_118H17_1', 'RP11_1191J2_2', 'RP11_119B16_2', 'RP11_119D9_1', 'RP11_11N9_4', 'RP11_120D5_1', 'RP11_1212A22_1', 'RP11_1212A22_4', 'RP11_121M22_1', 'RP11_1220K2_2', 'RP11_1223D19_1', 'RP11_122D10_1', 'RP11_1236K1_8', 'RP11_125B21_2', 'RP11_126K1_2', 'RP11_1277A3_2', 'RP11_1280N14_3', 'RP11_129J12_1', 'RP11_129J12_2', 'RP11_129M6_1', 'RP11_12A2_3', 'RP11_12A20_7', 'RP11_12J10_3', 'RP11_12L8_1', 'RP11_12M5_1', 'RP11_130F10_1', 'RP11_1319K7_1', 'RP11_131J3_1', 'RP11_131L23_1', 'RP11_132A1_4', 'RP11_1336O20_2', 'RP11_1348G14_4', 'RP11_134O21_1', 'RP11_134P9_1', 'RP11_135J2_4', 'RP11_136K7_2', 'RP11_137L10_6', 'RP11_1391J7_1', 'RP11_1398P2_1', 'RP11_13A1_1', 'RP11_13K12_2', 'RP11_1407O15_2', 'RP11_1407O15_2_TBC1D3', 'RP11_140I24_1', 'RP11_1415C14_3', 'RP11_1415C14_4', 'RP11_141J13_5', 'RP11_141M1_3', 'RP11_142C4_6', 'RP11_142I20_1', 'RP11_143A12_3', 'RP11_143M1_2', 'RP11_143M1_3', 'RP11_144G6_12_BMS1P2', 'RP11_144L1_4', 'RP11_145A3_1', 'RP11_145E5_5_CDKN2B_AS1', 'RP11_145E5_5_MTAP', 'RP11_146D12_2', 'RP11_146N18_1', 'RP11_147N17_1', 'RP11_148K1_12', 'RP11_148L24_1', 'RP11_14J7_6', 'RP11_14N7_2', 'RP11_152F13_3', 'RP11_152F13_7', 'RP11_152F13_8_UBE2Q2P3', 'RP11_152N13_5', 'RP11_154D17_1', 'RP11_154D3_1', 'RP11_154H17_1', 'RP11_156L14_1', 'RP11_158D2_2', 'RP11_158H5_7', 'RP11_15A1_7', 'RP11_15B17_1', 'RP11_15H20_6', 'RP11_15H20_6_RP11_15H20_7', 'RP11_15J10_1', 'RP11_161H23_5', 'RP11_161M6_2', 'RP11_162J8_2', 'RP11_163N6_2', 'RP11_164C12_2', 'RP11_164H13_1', 'RP11_164J13_1', 'RP11_165P7_1', 'RP11_166A12_1', 'RP11_166D19_1', 'RP11_166O4_5', 'RP11_168E17_1', 'RP11_168K9_2', 'RP11_168O16_1', 'RP11_169D4_1', 'RP11_169F17_1', 'RP11_169K16_7', 'RP11_169K16_9', 'RP11_169L17_5', 'RP11_16L9_3', 'RP11_170N11_1', 'RP11_171I2_2', 'RP11_175K6_1', 'RP11_176H8_1', 'RP11_177H13_2', 'RP11_178C3_2', 'RP11_178C3_2_RP11_178C3_1', 'RP11_179A16_1', 'RP11_17A4_2', 'RP11_17M15_2', 'RP11_17M16_1', 'RP11_181C3_1', 'RP11_181F12_1', 'RP11_182I10_3', 'RP11_183M13_1', 'RP11_188C12_3', 'RP11_18F14_1', 'RP11_18H21_1', 'RP11_18H7_1', 'RP11_18I14_10', 'RP11_191L9_4', 'RP11_192H23_4', 'RP11_193H5_1', 'RP11_195E2_1', 'RP11_196O2_1', 'RP11_196P2_1', 'RP11_197P3_4', 'RP11_19O2_2', 'RP11_1H15_2', 'RP11_202D1_2', 'RP11_203B9_4', 'RP11_203I2_1', 'RP11_204M4_2', 'RP11_205M3_3', 'RP11_206L10_11', 'RP11_206L10_2', 'RP11_206L10_3', 'RP11_20B24_5', 'RP11_20I23_8', 'RP11_211G23_1', 'RP11_211N8_7', 'RP11_212P7_3_METTL2B', 'RP11_213G2_3', 'RP11_215E13_1', 'RP11_217B7_2', 'RP11_218M22_1', 'RP11_219B17_1', 'RP11_219B17_1_CTD_2501E16_2', 'RP11_21C4_1', 'RP11_221J22_1', 'RP11_221J22_1_RP11_221J22_2', 'RP11_228B15_4', 'RP11_229P13_19', 'RP11_22B23_1', 'RP11_230G5_2', 'RP11_231C14_3_RP11_345J4_5', 'RP11_231C14_4', 'RP11_231P20_2', 'RP11_232C2_1', 'RP11_234K24_3', 'RP11_236J17_3', 'RP11_236J17_5', 'RP11_236P13_1', 'RP11_239L20_3', 'RP11_23D24_2', 'RP11_23F23_2', 'RP11_23J9_3', 'RP11_23J9_5_CCDC180_RP11_23J9_4', 'RP11_23J9_5_CCDC180_RP11_23J9_4_RP11_23J9_6', 'RP11_23J9_5_CCDC180_RP11_23J9_4_RP11_23J9_7', 'RP11_23J9_5_CCDC180_RP11_23J9_7', 'RP11_242D8_1', 'RP11_244F12_3', 'RP11_244H18_1', 'RP11_244K5_6', 'RP11_245M24_1', 'RP11_247A12_2', 'RP11_247C2_2', 'RP11_24J23_2', 'RP11_24M17_5', 'RP11_24P4_1', 'RP11_250H24_6', 'RP11_251M1_1', 'RP11_251P6_1', 'RP11_252A24_2', 'RP11_252A24_2_AC009120_6', 'RP11_252C15_1', 'RP11_257K9_8', 'RP11_258F1_1', 'RP11_259A24_1', 'RP11_260O18_1', 'RP11_261C10_3', 'RP11_262H14_1', 'RP11_262H14_3', 'RP11_262H14_4', 'RP11_264C15_2', 'RP11_265P11_2', 'RP11_266L9_2', 'RP11_266L9_5', 'RP11_266O8_1', 'RP11_267C16_1', 'RP11_268G12_1', 'RP11_26J3_1', 'RP11_273G15_2', 'RP11_274B21_4_RP11_274B21_3_RP11_274B21_2', 'RP11_276H19_1', 'RP11_276H19_2', 'RP11_277P12_20', 'RP11_278H7_1', 'RP11_279F6_1', 'RP11_279F6_3', 'RP11_27I1_4', 'RP11_280G9_1', 'RP11_280O1_2', 'RP11_284J1_1', 'RP11_286B14_1', 'RP11_286E11_1', 'RP11_287D1_3', 'RP11_288H12_3', 'RP11_290F20_1', 'RP11_290F20_3', 'RP11_290F5_1', 'RP11_290F5_2', 'RP11_290H9_4', 'RP11_292B8_1', 'RP11_293M10_5', 'RP11_294O2_2', 'RP11_295G24_4', 'RP11_295M18_2', 'RP11_295P9_3', 'RP11_296I10_3', 'RP11_296I10_6', 'RP11_296O14_3', 'RP11_297H3_4', 'RP11_298H24_1', 'RP11_298O21_5', 'RP11_299H21_1', 'RP11_29H23_5', 'RP11_2A4_3', 'RP11_2O17_2', 'RP11_300J18_3', 'RP11_301G19_1', 'RP11_301H24_3', 'RP11_303G3_6', 'RP11_305P22_9', 'RP11_307C19_3', 'RP11_307E17_8', 'RP11_307O10_1', 'RP11_308N19_1', 'RP11_308N19_4', 'RP11_309E23_2', 'RP11_309I15_1', 'RP11_30L15_6', 'RP11_30P6_6', 'RP11_310E22_4', 'RP11_313J2_1', 'RP11_313P13_3', 'RP11_313P13_3_RP11_313P13_4', 'RP11_313P13_4', 'RP11_314O13_1', 'RP11_315I14_2', 'RP11_316P17_2', 'RP11_318C4_2', 'RP11_318K12_1', 'RP11_318M2_2', 'RP11_319E12_1', 'RP11_319E16_1', 'RP11_31F15_1', 'RP11_31F15_2', 'RP11_31F19_1', 'RP11_31I22_1', 'RP11_31I22_3', 'RP11_321F6_1', 'RP11_322L20_1', 'RP11_324H6_5', 'RP11_325F22_2', 'RP11_325F22_5', 'RP11_325I22_2', 'RP11_325L7_1', 'RP11_326C3_11', 'RP11_327I22_5', 'RP11_327I22_6', 'RP11_328M4_3', 'RP11_32B5_1', 'RP11_332O19_5', 'RP11_333E1_1', 'RP11_333E13_4', 'RP11_334A14_8', 'RP11_335E6_4', 'RP11_335K5_2', 'RP11_338C15_5', 'RP11_33A14_1', 'RP11_33B1_1', 'RP11_33G16_1', 'RP11_340I6_8', 'RP11_341A22_2', 'RP11_341G5_1', 'RP11_343J18_1', 'RP11_344E13_3', 'RP11_344E13_3_AC090774_2_RP11_381P6_1', 'RP11_344E13_3_RP11_381P6_1', 'RP11_344E13_3_RP11_746M1_2_RP11_381P6_1', 'RP11_344G13_1', 'RP11_344J7_2', 'RP11_345F18_1', 'RP11_345J4_3', 'RP11_345J4_6', 'RP11_345J4_8', 'RP11_346D14_1', 'RP11_346D6_6', 'RP11_347C12_1', 'RP11_347C12_2', 'RP11_347C12_2_RP11_347C12_1', 'RP11_347C12_3', 'RP11_347D21_2', 'RP11_347E10_1', 'RP11_347H15_5', 'RP11_348J24_2', 'RP11_349A22_5', 'RP11_350D23_4', 'RP11_351J23_1', 'RP11_351J23_2', 'RP11_353N14_4', 'RP11_353N4_2', 'RP11_353N4_6', 'RP11_353N4_7', 'RP11_353N4_7_RP11_353N4_8', 'RP11_353N4_8', 'RP11_354E11_2', 'RP11_355N15_1', 'RP11_356I2_4', 'RP11_359G22_2', 'RP11_35G9_5_RP11_35G9_3', 'RP11_35J10_5_RP11_494M8_4', 'RP11_360P21_2', 'RP11_362F19_1', 'RP11_363G10_2', 'RP11_363N22_2', 'RP11_364P22_1', 'RP11_365D23_4', 'RP11_366L20_2', 'RP11_366M4_3', 'RP11_367J11_3', 'RP11_367N14_2', 'RP11_368I7_4', 'RP11_368J21_3', 'RP11_368M16_4', 'RP11_371I1_2', 'RP11_372E1_4', 'RP11_373N22_3', 'RP11_377D9_3', 'RP11_378A12_1', 'RP11_378I13_1', 'RP11_379F4_4', 'RP11_379H18_1', 'RP11_379K17_4', 'RP11_381O7_3', 'RP11_383C5_3', 'RP11_383C5_4', 'RP11_383H13_1', 'RP11_383M4_2_RP11_383M4_6', 'RP11_383M4_6', 'RP11_384F7_1', 'RP11_384K6_2_RP11_384K6_6', 'RP11_384K6_6', 'RP11_385D13_1', 'RP11_385J1_2', 'RP11_386B13_3', 'RP11_386G11_10', 'RP11_386M24_3', 'RP11_386M24_4', 'RP11_387D10_3', 'RP11_388M20_9', 'RP11_389E17_1', 'RP11_38F22_1', 'RP11_390F4_3', 'RP11_390P2_4', 'RP11_391M20_1', 'RP11_392B6_1', 'RP11_392P7_6', 'RP11_394A14_2', 'RP11_395B7_2', 'RP11_395L14_4', 'RP11_395L14_5', 'RP11_395P17_3', 'RP11_396C23_2', 'RP11_396K3_1', 'RP11_397A16_2', 'RP11_398G24_2', 'RP11_398K22_12', 'RP11_399D6_2', 'RP11_399J13_3_SNX15', 'RP11_3B12_1', 'RP11_3B12_3', 'RP11_3N2_13_ZNF727', 'RP11_400D2_2', 'RP11_400K9_4', 'RP11_401P9_5', 'RP11_402L6_1', 'RP11_403B2_7', 'RP11_403I13_5', 'RP11_404K5_2', 'RP11_404O13_1', 'RP11_404O13_5', 'RP11_407B7_1', 'RP11_408E5_5', 'RP11_408H1_3', 'RP11_408H20_3', 'RP11_410N8_4', 'RP11_411K7_1', 'RP11_413G15_1', 'RP11_416A17_6', 'RP11_416O18_1', 'RP11_417E7_2', 'RP11_417F21_1', 'RP11_417J8_3', 'RP11_417J8_6', 'RP11_417J8_6_ANKRD20A12P', 'RP11_418J17_1', 'RP11_420A23_1', 'RP11_420G6_4', 'RP11_420N3_2', 'RP11_421L10_1', 'RP11_421L21_3', 'RP11_422J15_1', 'RP11_422N16_3', 'RP11_423H2_1', 'RP11_423H2_3', 'RP11_423O2_5', 'RP11_425I13_3', 'RP11_426A6_5', 'RP11_426L16_8', 'RP11_428J1_5', 'RP11_429E11_3', 'RP11_429H9_4', 'RP11_429J17_2', 'RP11_430B1_2', 'RP11_430C7_4', 'RP11_430H10_2', 'RP11_431M7_3', 'RP11_432J24_5', 'RP11_433J20_1', 'RP11_434C1_1', 'RP11_434D2_3', 'RP11_434D9_1', 'RP11_434I12_2', 'RP11_435B5_4', 'RP11_436I24_1', 'RP11_436K8_1', 'RP11_438J1_1_GHRLOS', 'RP11_438N16_1', 'RP11_439E19_3', 'RP11_439L18_3', 'RP11_439L8_4', 'RP11_43F13_1', 'RP11_43N5_1', 'RP11_440G9_1', 'RP11_443A13_5', 'RP11_443B7_1', 'RP11_443P15_2', 'RP11_444D3_1', 'RP11_445F12_1', 'RP11_445H22_3', 'RP11_445H22_3_RP11_445H22_4', 'RP11_445H22_4', 'RP11_445N18_7', 'RP11_446E24_4_CDCP2', 'RP11_449D8_1', 'RP11_44F21_3', 'RP11_451G4_1', 'RP11_451G4_2', 'RP11_451H23_3', 'RP11_451M19_3', 'RP11_451O13_1', 'RP11_452N4_1', 'RP11_453E2_2', 'RP11_454P21_1', 'RP11_455G16_1', 'RP11_456O19_4', 'RP11_458D21_1', 'RP11_458K10_2', 'RP11_45M22_4', 'RP11_45P15_4', 'RP11_460E7_9', 'RP11_460N16_1', 'RP11_461O7_1', 'RP11_464F9_1_AGAP5', 'RP11_464F9_1_BMS1P4_RP11_574K11_28', 'RP11_464F9_1_RP11_574K11_29_RP11_574K11_28', 'RP11_464O2_2', 'RP11_465B22_3', 'RP11_465B22_5', 'RP11_466F5_6', 'RP11_466F5_8', 'RP11_466L17_1', 'RP11_467L19_8', 'RP11_467L20_10', 'RP11_467N20_5', 'RP11_468B6_1', 'RP11_468E2_9', 'RP11_469A15_2', 'RP11_46A10_5', 'RP11_470E16_1', 'RP11_473M20_14', 'RP11_473M20_7', 'RP11_474D1_3', 'RP11_475I24_8', 'RP11_475O6_1', 'RP11_477D19_2', 'RP11_478K7_2', 'RP11_47I22_3', 'RP11_480C22_1', 'RP11_480D4_1', 'RP11_480D4_1_RP11_480D4_2', 'RP11_480I12_4', 'RP11_480I12_5', 'RP11_480I12_7', 'RP11_480I12_7_RP11_480I12_9', 'RP11_481G8_2', 'RP11_481J13_1', 'RP11_482D24_2', 'RP11_482H16_1_RP11_481J13_1', 'RP11_482M8_1', 'RP11_483E23_2', 'RP11_483I13_2', 'RP11_485M7_3', 'RP11_486L19_2', 'RP11_488C13_5', 'RP11_488I20_3', 'RP11_488P3_1', 'RP11_48F14_1', 'RP11_492A10_1', 'RP11_492E3_2', 'RP11_493K19_3', 'RP11_494M8_4', 'RP11_495K9_3', 'RP11_495P10_1', 'RP11_495P10_2', 'RP11_495P10_3', 'RP11_496I9_1', 'RP11_497E19_1', 'RP11_497H16_2', 'RP11_497H16_5', 'RP11_497H16_7', 'RP11_497H16_8', 'RP11_497K21_1', 'RP11_498P14_3', 'RP11_498P14_5', 'RP11_499P20_2', 'RP11_49I11_1', 'RP11_4F22_2', 'RP11_500K19_1', 'RP11_503N18_1', 'RP11_503N18_1_RP11_503N18_3', 'RP11_504P24_4_RP11_504P24_3', 'RP11_504P24_4_RP11_504P24_6', 'RP11_504P24_8', 'RP11_506B6_6_RFPL4B', 'RP11_507M3_1', 'RP11_508N12_2', 'RP11_508N22_8', 'RP11_508N22_9_RP11_508N22_8', 'RP11_50C13_2', 'RP11_50E11_3', 'RP11_510C10_3', 'RP11_510D19_1', 'RP11_510H23_1', 'RP11_510M2_2', 'RP11_512H23_2_AMDP1_RP11_453F18_B_1_TRPC6P_TCEB1P24_DDX11L16_WASIR1', 'RP11_513O17_2', 'RP11_514P8_6', 'RP11_514P8_8', 'RP11_517H2_6', 'RP11_519G16_3', 'RP11_519M16_1', 'RP11_51M18_1', 'RP11_520B13_4', 'RP11_522D2_1', 'RP11_522I20_3', 'RP11_526A4_1', 'RP11_526D8_7_ANKRD19P', 'RP11_526I2_1', 'RP11_528A4_2', 'RP11_529H20_6', 'RP11_529K1_2', 'RP11_532F6_3', 'RP11_532N4_2', 'RP11_535M15_2', 'RP11_536C5_7', 'RP11_536O18_2', 'RP11_538P18_2', 'RP11_539G18_2', 'RP11_539I5_1', 'RP11_540A21_2', 'RP11_540D4_3', 'RP11_540K16_1', 'RP11_540O11_1', 'RP11_542B15_1', 'RP11_542K23_9', 'RP11_542P2_1', 'RP11_544L8_B_4', 'RP11_545I5_3', 'RP11_547D24_1', 'RP11_547I7_2', 'RP11_548O1_3', 'RP11_54D18_2', 'RP11_54D18_3', 'RP11_54O7_1', 'RP11_54O7_1_RP11_54O7_2', 'RP11_54O7_3', 'RP11_550P17_5', 'RP11_551L14_1', 'RP11_553A10_1', 'RP11_553A21_3', 'RP11_553L6_2', 'RP11_554A11_6', 'RP11_554D15_1', 'RP11_554F20_1', 'RP11_555F9_2', 'RP11_555J4_4', 'RP11_556N21_1', 'RP11_556N21_1_PSPC1P2', 'RP11_557H15_3', 'RP11_557H15_4', 'RP11_557H15_5', 'RP11_558F24_4', 'RP11_559N14_5', 'RP11_559N14_5_DNAH17_AS1', 'RP11_55K22_5', 'RP11_560G2_1', 'RP11_561C5_4', 'RP11_562A8_5', 'RP11_562F9_2', 'RP11_564D11_3', 'RP11_566K19_6', 'RP11_567J24_4', 'RP11_568K15_1', 'RP11_569G13_2', 'RP11_56A10_1', 'RP11_56L13_1', 'RP11_56M3_1', 'RP11_571M6_15_METTL21B', 'RP11_574K11_28', 'RP11_574M7_2', 'RP11_575F12_1', 'RP11_576D8_4', 'RP11_576E20_1', 'RP11_576I22_2', 'RP11_578F21_12', 'RP11_578F21_4', 'RP11_579E24_1', 'RP11_57A19_2', 'RP11_57H12_3', 'RP11_57H12_6', 'RP11_582J16_4', 'RP11_584P21_2', 'RP11_586D19_1', 'RP11_588G21_2', 'RP11_588H23_3', 'RP11_589F5_4', 'RP11_58E21_3', 'RP11_58E21_3_RP11_58E21_5', 'RP11_58E21_4', 'RP11_58G13_1', 'RP11_592B15_4', 'RP11_592B15_4_RP11_592B15_3_AGAP8', 'RP11_594N15_2', 'RP11_597D13_7', 'RP11_597D13_9', 'RP11_597K23_2', 'RP11_598D12_4', 'RP11_598F7_1', 'RP11_598F7_4', 'RP11_59E19_1', 'RP11_59J16_1', 'RP11_600K15_1', 'RP11_60I3_5', 'RP11_611D20_2', 'RP11_613D13_5', 'RP11_613D13_8', 'RP11_613M10_9_EXOSC3', 'RP11_613M10_9_SHB', 'RP11_617D20_1', 'RP11_617D20_1_AC021860_1', 'RP11_61A14_1', 'RP11_61I13_3', 'RP11_61L23_2', 'RP11_620J15_3', 'RP11_622K12_1', 'RP11_624J12_1', 'RP11_624M8_1', 'RP11_625H11_1', 'RP11_626I20_3', 'RP11_627G23_1', 'RP11_629G13_1', 'RP11_632K20_7', 'RP11_632K5_3', 'RP11_636O21_1', 'RP11_637A17_2', 'RP11_638F5_1', 'RP11_63P12_6', 'RP11_640M9_1', 'RP11_640M9_2', 'RP11_642P15_1', 'RP11_643M14_1', 'RP11_645C24_2', 'RP11_646E20_6_TMPRSS11BNL', 'RP11_647F2_2', 'RP11_64D22_2', 'RP11_653G8_2', 'RP11_656G20_1', 'RP11_65J3_1', 'RP11_661G16_2', 'RP11_661P17_1', 'RP11_664D7_4', 'RP11_666I19_2', 'RP11_669N7_2', 'RP11_66B24_4', 'RP11_66N24_3', 'RP11_66N24_4', 'RP11_670E13_3', 'RP11_670E13_5', 'RP11_672A2_1', 'RP11_673C5_2', 'RP11_673E1_1', 'RP11_677M14_7', 'RP11_678G14_4', 'RP11_680E19_1', 'RP11_680F20_6', 'RP11_680F8_1', 'RP11_682N22_1', 'RP11_68L18_1', 'RP11_693J15_5', 'RP11_693J15_5_RP11_693J15_4', 'RP11_693N9_2', 'RP11_696N14_1', 'RP11_698N11_4', 'RP11_69E11_4', 'RP11_69H14_6', 'RP11_6L6_3', 'RP11_6N17_1', 'RP11_6N17_2', 'RP11_701P16_1', 'RP11_701P16_4', 'RP11_701P16_5', 'RP11_702L6_4', 'RP11_704C2_1', 'RP11_704M14_1', 'RP11_704M14_1_U3', 'RP11_705C15_2', 'RP11_705C15_2_RP11_705C15_5', 'RP11_706O15_1', 'RP11_706O15_3', 'RP11_706O15_5', 'RP11_707M1_1', 'RP11_707O23_5', 'RP11_709D24_6', 'RP11_70F11_11', 'RP11_70F11_8', 'RP11_712B9_2', 'RP11_713M15_1', 'RP11_713P17_3', 'RP11_716D16_1', 'RP11_716O23_1', 'RP11_716O23_2', 'RP11_719J20_1', 'RP11_71E19_5', 'RP11_71N10_1', 'RP11_723O4_6', 'RP11_726G1_1', 'RP11_727A23_10', 'RP11_727A23_5', 'RP11_72L22_1', 'RP11_72M17_1', 'RP11_730K11_1', 'RP11_731F5_1_IGHE', 'RP11_736K20_6', 'RP11_739N10_1', 'RP11_73G16_1', 'RP11_744K17_9', 'RP11_744N12_3', 'RP11_749H17_1', 'RP11_74C13_3', 'RP11_74E24_2', 'RP11_752D24_2', 'RP11_752G15_9', 'RP11_756K15_2', 'RP11_758M4_1', 'RP11_758M4_4', 'RP11_758N13_1', 'RP11_75C9_1', 'RP11_75N4_2', 'RP11_760D2_1', 'RP11_760D2_11', 'RP11_760D2_5', 'RP11_760N9_1', 'RP11_761B3_1', 'RP11_763B22_9', 'RP11_766F14_2', 'RP11_766N7_3', 'RP11_767I20_1', 'RP11_768F21_1', 'RP11_76E12_1', 'RP11_76N22_2', 'RP11_771K4_1', 'RP11_774D14_1', 'RP11_774O3_3', 'RP11_778J15_1', 'RP11_778O17_4', 'RP11_77C3_3', 'RP11_77K12_7_TMEM231_RP11_77K12_8', 'RP11_782C8_1', 'RP11_783K16_14', 'RP11_785F11_1', 'RP11_788M5_3', 'RP11_789C17_3', 'RP11_792D21_2', 'RP11_793H13_3', 'RP11_794M8_1', 'RP11_794P6_2', 'RP11_795J1_1', 'RP11_796E2_4', 'RP11_796G6_2', 'RP11_798K23_3', 'RP11_799N11_1_CTC_297N7_11', 'RP11_799P8_1', 'RP11_79E3_3', 'RP11_7F17_3', 'RP11_7F17_4', 'RP11_804F13_1', 'RP11_804N13_1', 'RP11_806K15_1', 'RP11_807H7_1', 'RP11_809M12_1', 'RP11_80A15_1', 'RP11_80F22_9', 'RP11_80G7_1', 'RP11_80H5_7', 'RP11_80H5_9_RP11_80H5_7', 'RP11_813N20_1', 'RP11_814P5_1', 'RP11_81H3_2', 'RP11_81N13_1', 'RP11_820L6_1', 'RP11_822E23_8_RP11_822E23_6', 'RP11_829H16_3', 'RP11_834C11_3', 'RP11_834C11_4', 'RP11_834C11_7', 'RP11_835E18_5', 'RP11_835E18_5_LINC00526', 'RP11_838N2_4', 'RP11_843A23_1', 'RP11_844P9_2', 'RP11_845M18_6', 'RP11_848G14_2', 'RP11_848G14_5', 'RP11_848P1_9', 'RP11_849H4_2', 'RP11_84C10_2', 'RP11_84E24_3', 'RP11_855O10_2', 'RP11_85O21_2', 'RP11_862G15_1', 'RP11_863K10_2', 'RP11_863K10_7', 'RP11_863P13_4', 'RP11_867G23_3', 'RP11_872D17_8', 'RP11_875O11_1', 'RP11_875O11_2', 'RP11_87E22_2', 'RP11_87H9_2', 'RP11_887P2_5', 'RP11_88H9_2', 'RP11_88I21_2', 'RP11_88L24_4', 'RP11_890B15_2', 'RP11_894P9_1', 'RP11_89M16_1', 'RP11_89N17_1', 'RP11_8L2_1', 'RP11_902B17_1', 'RP11_909B2_1', 'RP11_90K6_1', 'RP11_91J19_4', 'RP11_91K9_1', 'RP11_928F19_5', 'RP11_933H2_4', 'RP11_93B14_5', 'RP11_93H12_4', 'RP11_93I21_3', 'RP11_93L9_1', 'RP11_93O17_2', 'RP11_945C19_1', 'RP11_94M14_2', 'RP11_958N24_2', 'RP11_95P2_1', 'RP11_960L18_1', 'RP11_966I7_2', 'RP11_96C23_14', 'RP11_96C23_5', 'RP11_96P7_1', 'RP11_96P7_1_RP11_58C22_1', 'RP11_97O12_2', 'RP11_97O12_7_RP11_97O12_6', 'RP11_983C2_2', 'RP11_983P16_4', 'RP11_986E7_7', 'RP11_98D18_9', 'RP11_98I9_4', 'RP11_98J23_2', 'RP11_98L5_2', 'RP11_996F15_2', 'RP11_9G1_3', 'RP11_9M16_2', 'RP13_1039J1_2_LIMS3L', 'RP13_1039J1_2_RP13_1039J1_4_LIMS3L', 'RP13_137A17_6', 'RP13_143G15_3', 'RP13_143G15_4', 'RP13_15E13_1', 'RP13_20L14_1', 'RP13_395E19_3', 'RP13_39P12_2', 'RP13_452N2_1', 'RP13_507P19_2', 'RP13_507P19_2_RP13_507P19_1', 'RP13_516M14_4', 'RP13_539F13_3', 'RP13_580F15_2', 'RP13_608F4_1', 'RP13_60M5_2', 'RP13_614K11_1', 'RP13_890H12_2', 'RP13_895J2_2', 'RP13_895J2_3', 'RP13_895J2_3_RP13_895J2_2', 'RP13_98N21_3', 'RP13_996F3_3', 'RP13_996F3_4', 'RP13_996F3_5', 'RP1L1', 'RP2', 'RP3_323P13_2', 'RP3_326I13_1', 'RP3_332B22_1', 'RP3_365O12_2', 'RP3_393E18_2', 'RP3_395M20_8', 'RP3_399L15_3', 'RP3_400B16_1', 'RP3_418C23_2', 'RP3_449O17_1', 'RP3_462D8_2', 'RP3_467K16_2', 'RP3_468B3_2', 'RP3_470B24_5', 'RP3_476K8_3', 'RP3_477O4_5', 'RP3_508I15_9', 'RP3_510D11_1', 'RP3_510O8_4', 'RP3_513G18_2', 'RP3_522P13_3', 'RP4_529N6_1', 'RP4_544H6_2', 'RP4_555D20_2', 'RP4_564F22_5', 'RP4_568F9_6', 'RP4_569M23_2', 'RP4_583P15_11', 'RP4_595K12_2', 'RP4_598G3_1', 'RP4_604G5_3', 'RP4_607J23_2', 'RP4_612J11_1', 'RP4_625H18_2', 'RP4_630C24_3', 'RP4_647C14_2', 'RP4_662A9_2', 'RP4_665J23_1', 'RP4_668G5_1', 'RP4_669B10_3', 'RP4_669H2_1', 'RP4_669L17_10', 'RP4_682C21_5', 'RP4_684O24_5', 'RP4_694A7_4', 'RP4_694B14_5', 'RP4_705O1_1', 'RP4_717I23_3', 'RP4_728D4_2', 'RP4_737A23_2', 'RP4_737E23_2', 'RP4_738P15_1', 'RP4_739H11_4', 'RP4_740C4_5_RP4_740C4_6', 'RP4_749H3_1', 'RP4_753D10_5', 'RP4_756G23_5', 'RP4_758J18_2', 'RP4_760C5_5', 'RP4_773A18_4', 'RP4_777D9_2', 'RP4_779E11_3', 'RP4_781K5_4', 'RP4_781K5_8', 'RP4_782L23_1', 'RP4_784A16_5', 'RP4_791M13_3', 'RP4_794H19_2', 'RP4_798P15_3', 'RP4_798P15_3_RP11_568K15_1', 'RP4_799P18_2', 'RP4_800G7_2', 'RP4_803A2_2_RP1_117O3_2', 'RP4_806M20_5', 'RP4_813D12_3', 'RP5_1004I9_1', 'RP5_1007G16_1', 'RP5_1007M22_2', 'RP5_1021I20_2', 'RP5_1021I20_4', 'RP5_1024G6_5', 'RP5_1027G4_3', 'RP5_1033H22_2', 'RP5_1043L13_1', 'RP5_1052I5_1', 'RP5_1052I5_2_HS2ST1', 'RP5_1052I5_2_HS2ST1_RP5_1052I5_1', 'RP5_1063M23_1', 'RP5_1063M23_2', 'RP5_1071N3_1', 'RP5_1073O3_7', 'RP5_1074L1_1', 'RP5_1077H22_1', 'RP5_1086L22_1', 'RP5_1100I6_2', 'RP5_1120P11_1', 'RP5_1142A6_2', 'RP5_1142A6_8', 'RP5_1157M23_2', 'RP5_1158E12_3', 'RP5_1166F10_1', 'RP5_1172A22_1', 'RP5_1180C10_2', 'RP5_1185I7_1', 'RP5_1186N24_3', 'RP5_1198O20_4', 'RP5_823G15_5', 'RP5_828H9_1', 'RP5_828K20_2', 'RP5_836N10_1', 'RP5_850E9_3', 'RP5_855F14_1', 'RP5_858B6_3', 'RP5_872K7_7_RP4_777D9_2', 'RP5_874C20_3', 'RP5_881L22_4', 'RP5_881L22_6', 'RP5_884G6_2', 'RP5_886K2_3', 'RP5_896L10_1', 'RP5_899B16_1', 'RP5_921G16_1', 'RP5_921G16_2', 'RP5_933E2_1', 'RP5_940J5_6', 'RP5_944M2_3', 'RP5_952N6_1', 'RP5_971N18_3', 'RP5_977B1_7', 'RP5_988G17_1', 'RP5_991C6_3', 'RP5_991G20_1', 'RP5_994D16_3', 'RP6_109B7_2', 'RP6_109B7_3', 'RP6_206I17_1', 'RP6_206I17_2', 'RP6_206I17_3', 'RP6_74O6_2', 'RP9', 'RP9P', 'RPA1', 'RPA2', 'RPA3', 'RPA3_AS1', 'RPAIN', 'RPAP1', 'RPAP2', 'RPAP3', 'RPE', 'RPE65', 'RPF1', 'RPF2', 'RPGR', 'RPGRIP1', 'RPGRIP1L', 'RPH3A', 'RPH3AL', 'RPIA', 'RPL10A', 'RPL11', 'RPL12', 'RPL12P38', 'RPL13', 'RPL13_SNORD68', 'RPL13A', 'RPL13A_CTD_3148I10_15', 'RPL13AP17', 'RPL13AP6', 'RPL14', 'RPL15', 'RPL17_RPL17_C18orf32', 'RPL18', 'RPL18A', 'RPL18A_SNORA68', 'RPL19', 'RPL19P12', 'RPL21', 'RPL21_SNORA27', 'RPL21_SNORD102', 'RPL22', 'RPL22L1', 'RPL22P19', 'RPL23', 'RPL23_SNORA21', 'RPL23A', 'RPL23A_SNORD42A', 'RPL23A_SNORD42B', 'RPL23A_SNORD4B', 'RPL23AP53', 'RPL23AP7', 'RPL23AP79', 'RPL23AP79_AC016629_7', 'RPL23P8', 'RPL24', 'RPL26', 'RPL26_RP11_849F2_7', 'RPL26L1', 'RPL27', 'RPL27A', 'RPL27A_SNORA3', 'RPL27A_SNORA45', 'RPL28', 'RPL29', 'RPL3', 'RPL3_SNORD43', 'RPL30', 'RPL31', 'RPL32', 'RPL32_SNORA7A', 'RPL32P3', 'RPL34', 'RPL34_AS1', 'RPL35', 'RPL35A', 'RPL36', 'RPL36_HSD11B1L', 'RPL36AL', 'RPL37', 'RPL37A', 'RPL38', 'RPL39_AMDP1_TRPC6P_TCEB1P24_DDX11L16_WASIR1', 'RPL39L', 'RPL3L', 'RPL4', 'RPL4_SNORD18A', 'RPL4_SNORD18B', 'RPL4_SNORD18C', 'RPL41', 'RPL5', 'RPL5_SNORD21', 'RPL6', 'RPL7', 'RPL7A', 'RPL7L1', 'RPL8', 'RPL9', 'RPL9_Y_RNA', 'RPLP0', 'RPLP0P2', 'RPLP1', 'RPLP2', 'RPLP2_SNORA52', 'RPN1', 'RPN2', 'RPP14', 'RPP21_TRIM39_RPP21', 'RPP25', 'RPP30', 'RPP38', 'RPP40', 'RPPH1', 'RPRD1A', 'RPRD1B', 'RPRD2', 'RPRM', 'RPS10_RPS10_NUDT3', 'RPS11', 'RPS11P6', 'RPS12', 'RPS12_SNORA33_SNORD101_SNORD100', 'RPS13', 'RPS14', 'RPS15', 'RPS15A', 'RPS15A_RP11_1035H13_3', 'RPS15AP10', 'RPS16', 'RPS17', 'RPS17L', 'RPS18', 'RPS18P6', 'RPS19', 'RPS19BP1', 'RPS2', 'RPS2_SNORA10', 'RPS20', 'RPS20_SNORD54', 'RPS21', 'RPS23', 'RPS24', 'RPS25', 'RPS26', 'RPS27', 'RPS27A', 'RPS27L', 'RPS28', 'RPS29', 'RPS3', 'RPS3_SNORD15A', 'RPS3A', 'RPS3A_SNORD73A', 'RPS4X_AMDP1_TRPC6P_TCEB1P24_DDX11L16_WASIR1', 'RPS4XP16', 'RPS4Y2', 'RPS5', 'RPS6', 'RPS6KA1', 'RPS6KA2', 'RPS6KA2_RP11_514O12_4', 'RPS6KA3', 'RPS6KA4', 'RPS6KA5', 'RPS6KA6_AMDP1_TRPC6P_TCEB1P24_DDX11L16_WASIR1', 'RPS6KB1', 'RPS6KB1_RP11_178C3_1', 'RPS6KB2', 'RPS6KC1', 'RPS6KL1', 'RPS7', 'RPS8', 'RPS8_SNORD55', 'RPS9', 'RPSA', 'RPSA_SNORA6', 'RPSAP52', 'RPSAP58_RP11_255H23_2', 'RPSAP9', 'RPTN', 'RPTOR', 'RPUSD1', 'RPUSD2', 'RPUSD3', 'RPUSD4', 'RQCD1', 'RRAD', 'RRAGB', 'RRAGC', 'RRAGD', 'RRAS', 'RRAS2', 'RRBP1', 'RREB1', 'RRH', 'RRM1', 'RRM2', 'RRM2B', 'RRN3', 'RRN3P1', 'RRN3P2', 'RRN3P3', 'RRNAD1', 'RRP1', 'RRP12', 'RRP15', 'RRP1B', 'RRP36', 'RRP7A', 'RRP7B', 'RRP8', 'RRP9', 'RS1', 'RSAD1', 'RSAD2', 'RSBN1', 'RSBN1L', 'RSBN1L_AS1', 'RSF1', 'RSG1', 'RSL1D1', 'RSL24D1', 'RSPH1', 'RSPH10B', 'RSPH10B2', 'RSPH3', 'RSPH4A', 'RSPH6A', 'RSPH9', 'RSPO1', 'RSPO2', 'RSPO3', 'RSPO4', 'RSPRY1', 'RSRC1', 'RSRC2', 'RSU1', 'RTBDN', 'RTBDN_HOOK2', 'RTCA', 'RTCB', 'RTDR1', 'RTEL1_RTEL1_TNFRSF6B', 'RTEL1_RTEL1_TNFRSF6B_TNFRSF6B', 'RTEL1_TNFRSF6B_TNFRSF6B', 'RTF1', 'RTFDC1', 'RTFDC1_FAM209A', 'RTKN', 'RTKN2', 'RTN1', 'RTN2', 'RTN3', 'RTN4', 'RTN4IP1', 'RTN4R', 'RTN4RL1', 'RTN4RL2', 'RTP1', 'RTP2', 'RTP3', 'RTP4', 'RTTN', 'RTTN_Y_RNA', 'RUFY1', 'RUFY2', 'RUFY3', 'RUFY4', 'RUNDC1', 'RUNDC3A', 'RUNDC3B', 'RUNX1', 'RUNX1T1', 'RUNX2', 'RUNX3', 'RUSC1', 'RUSC1_AS1', 'RUSC2', 'RUVBL1', 'RUVBL2', 'RWDD1', 'RWDD2A', 'RWDD2B', 'RWDD3', 'RWDD4', 'RXFP1', 'RXFP2', 'RXFP2_snoU13', 'RXRA', 'RXRB', 'RXRG', 'RYBP', 'RYK', 'RYR1', 'RYR2', 'RYR3', 'S100A1', 'S100A10', 'S100A11', 'S100A12', 'S100A13', 'S100A13_RP1_178F15_4_RP1_178F15_5', 'S100A13_RP1_178F15_5', 'S100A14', 'S100A16', 'S100A2', 'S100A3', 'S100A4', 'S100A5', 'S100A6', 'S100A7', 'S100A7A', 'S100A7L2', 'S100A8', 'S100A9', 'S100B', 'S100G', 'S100P', 'S100PBP', 'S100Z', 'S1PR1', 'S1PR3_C9orf47', 'SAA1', 'SAA2_SAA2_SAA4', 'SAA3P', 'SAA4_SAA2_SAA4', 'SAAL1', 'SACM1L', 'SACS', 'SACS_AS1', 'SAE1', 'SAFB', 'SAFB2', 'SAG', 'SALL1', 'SALL2', 'SALL3', 'SALL4', 'SAMD1', 'SAMD10', 'SAMD11', 'SAMD12', 'SAMD13', 'SAMD13_RP11_376N17_4', 'SAMD14', 'SAMD15', 'SAMD3', 'SAMD4A', 'SAMD4B', 'SAMD5', 'SAMD7', 'SAMD8', 'SAMD9', 'SAMD9L', 'SAMHD1', 'SAMM50', 'SAMSN1', 'SAP130', 'SAP18', 'SAP30', 'SAP30BP', 'SAP30L', 'SAP30L_AS1', 'SAPCD2', 'SAR1A', 'SAR1B', 'SARDH', 'SARM1', 'SARNP', 'SARNP_RP11_762I7_5', 'SARS', 'SARS2', 'SARS2_CTC_360G5_8', 'SARS2_FBXO17_CTC_360G5_8', 'SART1', 'SART3', 'SASH1', 'SASH3_IL9R_SPRY3_VAMP7_WASH6P_DPH3P2_AJ271736_10', 'SASS6', 'SAT1', 'SAT2', 'SATB1', 'SATB2', 'SATB2_AS1', 'SATL1_AMDP1_TRPC6P_TCEB1P24_DDX11L16_WASIR1', 'SAV1', 'SAYSD1', 'SBDS', 'SBDSP1', 'SBF1', 'SBF2', 'SBF2_AS1', 'SBK1', 'SBK2', 'SBNO1', 'SBNO2', 'SBSN', 'SBSPON', 'SC5D', 'SCAF1', 'SCAF11', 'SCAF4', 'SCAF8', 'SCAF8_TIAM2', 'SCAI', 'SCAMP1', 'SCAMP2', 'SCAMP3', 'SCAMP4', 'SCAMP5', 'SCAND1', 'SCAND2P', 'SCAND2P_EGLN1P1', 'SCAND3', 'SCAP', 'SCAPER', 'SCARA3', 'SCARA5', 'SCARB1', 'SCARB2', 'SCARF1', 'SCARF2', 'SCARF2_KLHL22', 'SCARNA1', 'SCARNA10', 'SCARNA11', 'SCARNA14', 'SCARNA17_SCARNA18', 'SCARNA2', 'SCARNA21', 'SCARNA23', 'SCARNA3', 'SCARNA4', 'SCARNA5', 'SCARNA6', 'SCARNA8', 'SCCPDH', 'SCD', 'SCD5', 'SCEL', 'SCFD1', 'SCFD2', 'SCG3', 'SCG5', 'SCGB1A1', 'SCGB1B2P', 'SCGB1C1', 'SCGB1D1', 'SCGB1D2', 'SCGB1D4', 'SCGB2A1', 'SCGB2A2', 'SCGB2B2', 'SCGB3A1', 'SCGB3A2', 'SCGN', 'SCHIP1_IQCJ_SCHIP1', 'SCIMP', 'SCIN', 'SCLT1', 'SCLY_UBE2F_SCLY', 'SCMH1', 'SCML1', 'SCML2', 'SCML2P2', 'SCML4', 'SCN10A', 'SCN11A', 'SCN1A', 'SCN1B', 'SCN2A', 'SCN2B', 'SCN3A', 'SCN3B', 'SCN4A', 'SCN4B', 'SCN5A', 'SCN5A_Y_RNA', 'SCN7A', 'SCN8A', 'SCN8A_AC068987_1', 'SCN9A', 'SCNM1', 'SCNM1_TNFAIP8L2', 'SCNN1A', 'SCNN1B', 'SCNN1D', 'SCNN1G', 'SCO1', 'SCO2', 'SCOC', 'SCP2', 'SCP2_TUBBP10', 'SCPEP1', 'SCRG1', 'SCRIB', 'SCRIB_MIR937', 'SCRN1', 'SCRN2', 'SCRN3', 'SCRT1', 'SCRT2_RP5_850E9_3', 'SCT', 'SCTR', 'SCUBE1', 'SCUBE2', 'SCUBE3', 'SCXA', 'SCXB', 'SCYL1', 'SCYL2', 'SCYL3', 'SDAD1', 'SDAD1P1', 'SDC1', 'SDC2', 'SDC3', 'SDC4', 'SDC4P', 'SDCBP', 'SDCBP2', 'SDCBP2_AS1', 'SDCCAG3', 'SDCCAG8', 'SDE2', 'SDF2', 'SDF2L1', 'SDF4', 'SDHA', 'SDHAF2_RP11_286N22_8', 'SDHAP1', 'SDHAP3', 'SDHB', 'SDHC', 'SDHD', 'SDK1', 'SDK2', 'SDR16C5', 'SDR39U1', 'SDR42E1', 'SDR9C7', 'SDS', 'SDSL', 'SEC11A', 'SEC11C', 'SEC13', 'SEC14L1', 'SEC14L1_LINC00338', 'SEC14L2', 'SEC14L2_RP4_539M6_19', 'SEC14L3', 'SEC14L4', 'SEC14L5', 'SEC14L5_RP11_165E7_1', 'SEC16A', 'SEC16B', 'SEC16B_RP4_798P15_3', 'SEC1P', 'SEC22A', 'SEC22A_PDIA5', 'SEC22B', 'SEC22C', 'SEC23A', 'SEC23B', 'SEC23IP', 'SEC24A', 'SEC24B', 'SEC24B_AS1', 'SEC24C', 'SEC24D', 'SEC31A', 'SEC31A_THAP9_AS1', 'SEC31B', 'SEC61A1', 'SEC61A2', 'SEC61B', 'SEC61G', 'SEC62', 'SEC63', 'SECISBP2', 'SECISBP2L', 'SECTM1', 'SEH1L', 'SEL1L', 'SEL1L2', 'SEL1L3', 'SELE', 'SELENBP1', 'SELK', 'SELL', 'SELM', 'SELO', 'SELP', 'SELPLG', 'SELRC1', 'SELT', 'SELV', 'SEMA3A', 'SEMA3B', 'SEMA3C', 'SEMA3D', 'SEMA3E', 'SEMA3F', 'SEMA3G', 'SEMA4A', 'SEMA4B', 'SEMA4C', 'SEMA4D', 'SEMA4F', 'SEMA4G', 'SEMA5A', 'SEMA5B', 'SEMA6A', 'SEMA6B', 'SEMA6C', 'SEMA6D', 'SEMA7A', 'SEMG1', 'SEMG2', 'SENP1', 'SENP2', 'SENP3_SENP3_EIF4A1', 'SENP5', 'SENP6', 'SENP7', 'SEP15', 'SEPHS1', 'SEPN1', 'SEPN1_RP1_317E23_6', 'SEPP1', 'SEPSECS', 'SEPT1', 'SEPT10', 'SEPT11', 'SEPT12', 'SEPT14', 'SEPT14_Y_RNA', 'SEPT2', 'SEPT3', 'SEPT4', 'SEPT5', 'SEPT6_AMDP1_TRPC6P_TCEB1P24_DDX11L16_WASIR1', 'SEPT7', 'SEPT7P2', 'SEPT7P9', 'SEPT8', 'SEPT9', 'SEPW1', 'SERAC1', 'SERBP1', 'SERF1A', 'SERF1B', 'SERF2', 'SERF2_HYPK', 'SERGEF', 'SERGEF_RP1_59M18_2', 'SERHL', 'SERHL2', 'SERINC1', 'SERINC2', 'SERINC3', 'SERINC4', 'SERINC4_RP11_296A16_1', 'SERINC5', 'SERP1', 'SERP2', 'SERPINA1', 'SERPINA10', 'SERPINA11', 'SERPINA12', 'SERPINA13P', 'SERPINA3_RP11_986E7_7', 'SERPINA4', 'SERPINA5', 'SERPINA5_RP11_986E7_7', 'SERPINA5_SERPINA4', 'SERPINA6', 'SERPINA7_AMDP1_TRPC6P_TCEB1P24_DDX11L16_WASIR1', 'SERPINA9', 'SERPINB1', 'SERPINB10', 'SERPINB10_SERPINB2', 'SERPINB11', 'SERPINB12', 'SERPINB13', 'SERPINB2', 'SERPINB3', 'SERPINB4', 'SERPINB5', 'SERPINB6', 'SERPINB7', 'SERPINB8', 'SERPINB8_HMSD', 'SERPINB9', 'SERPINC1', 'SERPIND1', 'SERPINE1', 'SERPINE2', 'SERPINE3', 'SERPINF1', 'SERPINF2', 'SERPING1', 'SERPINH1', 'SERPINI1', 'SERPINI2', 'SERPINI2_WDR49', 'SERTAD1', 'SERTAD2', 'SERTAD3', 'SERTAD4', 'SERTAD4_AS1', 'SERTM1', 'SESN1', 'SESN2', 'SESN3', 'SESTD1', 'SET', 'SETBP1', 'SETD1A', 'SETD1B', 'SETD2', 'SETD3', 'SETD4', 'SETD5', 'SETD5_AS1', 'SETD6', 'SETD7', 'SETD8', 'SETD9', 'SETDB1', 'SETDB2', 'SETMAR', 'SETX', 'SEZ6', 'SEZ6L', 'SEZ6L2', 'SF1', 'SF3A1', 'SF3A2', 'SF3A3', 'SF3B1', 'SF3B14', 'SF3B2', 'SF3B3', 'SF3B4', 'SF3B5', 'SFI1', 'SFMBT1', 'SFMBT1_RP11_894J14_5', 'SFMBT2', 'SFN', 'SFPQ', 'SFR1', 'SFRP1', 'SFRP2', 'SFRP4', 'SFRP5', 'SFSWAP', 'SFT2D1', 'SFT2D2', 'SFTA1P', 'SFTA2', 'SFTA3', 'SFTA3_RP11_896J10_3', 'SFTPA1', 'SFTPA2', 'SFTPB', 'SFTPC', 'SFTPD', 'SFXN1', 'SFXN2', 'SFXN3', 'SFXN4', 'SFXN5', 'SGCA', 'SGCB', 'SGCD', 'SGCE', 'SGCG', 'SGCZ', 'SGIP1', 'SGK1', 'SGK2', 'SGK223', 'SGK3_C8orf44_SGK3', 'SGK494', 'SGK494_RP11_192H23_4', 'SGMS1', 'SGMS2', 'SGOL1', 'SGOL2', 'SGPL1', 'SGPP1', 'SGPP2', 'SGSH', 'SGSM1', 'SGSM2', 'SGSM3', 'SGTA', 'SGTB', 'SH2B1', 'SH2B2', 'SH2B3', 'SH2D1B', 'SH2D2A', 'SH2D3A', 'SH2D3C', 'SH2D4A', 'SH2D4B', 'SH2D5', 'SH2D6', 'SH2D7', 'SH3BGR', 'SH3BGRL2', 'SH3BGRL3', 'SH3BP1', 'SH3BP2', 'SH3BP4', 'SH3BP5', 'SH3BP5_AS1', 'SH3BP5L', 'SH3D19', 'SH3D21', 'SH3D21_RP11_268J15_5', 'SH3GL1', 'SH3GL2', 'SH3GL3', 'SH3GLB1', 'SH3GLB2', 'SH3KBP1', 'SH3PXD2A', 'SH3PXD2B', 'SH3RF1', 'SH3RF2', 'SH3RF3', 'SH3TC1', 'SH3TC2', 'SH3YL1', 'SHANK1', 'SHANK2', 'SHANK2_AS1', 'SHANK2_AS3', 'SHANK3', 'SHARPIN', 'SHBG', 'SHBG_AC007421_1', 'SHC1', 'SHC2', 'SHC3', 'SHC4', 'SHCBP1', 'SHCBP1L', 'SHD', 'SHE', 'SHF', 'SHF_CTD_2651B20_7', 'SHFM1', 'SHFM1_C7orf76', 'SHH', 'SHISA2', 'SHISA3', 'SHISA4', 'SHISA5', 'SHISA6', 'SHISA7', 'SHISA9', 'SHKBP1', 'SHMT1', 'SHMT2', 'SHOC2', 'SHOX', 'SHOX2', 'SHPK', 'SHPRH', 'SHQ1', 'SHROOM1', 'SHROOM2', 'SHROOM3', 'SHROOM4', 'SI', 'SIAE', 'SIAH1', 'SIAH1_RP11_44I10_6', 'SIAH2', 'SIAH3', 'SIDT1', 'SIDT2', 'SIGIRR', 'SIGLEC1', 'SIGLEC1_Y_RNA', 'SIGLEC10', 'SIGLEC11', 'SIGLEC11_CTC_326K19_6', 'SIGLEC12', 'SIGLEC14', 'SIGLEC15', 'SIGLEC16', 'SIGLEC17P', 'SIGLEC5', 'SIGLEC5_SIGLEC14', 'SIGLEC6', 'SIGLEC7', 'SIGLEC8', 'SIGLEC9', 'SIGLECL1', 'SIGMAR1', 'SIK1', 'SIK2', 'SIK3', 'SIKE1', 'SIL1', 'SIM1', 'SIM2', 'SIMC1', 'SIN3A', 'SIN3B', 'SIPA1', 'SIPA1L1', 'SIPA1L2', 'SIPA1L3', 'SIRPA', 'SIRPB1', 'SIRPB1_RP4_576H24_4', 'SIRPB2', 'SIRPD', 'SIRPD_RP4_576H24_2_RP4_576H24_4', 'SIRPG', 'SIRT1', 'SIRT2', 'SIRT3', 'SIRT4', 'SIRT5', 'SIRT6', 'SIRT7', 'SIT1', 'SIVA1', 'SIX1', 'SIX3', 'SIX4', 'SIX5', 'SIX6', 'SKA1', 'SKA2', 'SKA3', 'SKAP1', 'SKAP2', 'SKI', 'SKIDA1', 'SKIL', 'SKINTL', 'SKIV2L', 'SKIV2L2', 'SKIV2L2_U3', 'SKOR1', 'SKOR1_RP11_34F13_3', 'SKOR2', 'SKP1', 'SKP1_CTD_2410N18_5', 'SKP2', 'SLA', 'SLA2', 'SLAIN1', 'SLAIN2', 'SLAMF1', 'SLAMF6', 'SLAMF7', 'SLAMF8', 'SLAMF9', 'SLBP', 'SLC10A1', 'SLC10A2', 'SLC10A3_AMDP1_TRPC6P_TCEB1P24_DDX11L16_WASIR1', 'SLC10A4', 'SLC10A6', 'SLC10A7', 'SLC11A1', 'SLC11A2', 'SLC12A1', 'SLC12A1_CTXN2', 'SLC12A2', 'SLC12A3', 'SLC12A4', 'SLC12A5', 'SLC12A6', 'SLC12A7', 'SLC12A8', 'SLC12A9', 'SLC13A1', 'SLC13A2', 'SLC13A3', 'SLC13A4', 'SLC13A5', 'SLC14A1', 'SLC14A2', 'SLC15A1', 'SLC15A2', 'SLC15A3', 'SLC15A4', 'SLC16A1', 'SLC16A10', 'SLC16A11', 'SLC16A12', 'SLC16A13', 'SLC16A14', 'SLC16A3', 'SLC16A4', 'SLC16A5', 'SLC16A5_snoU13', 'SLC16A6', 'SLC16A7', 'SLC16A8', 'SLC16A9', 'SLC17A1', 'SLC17A2', 'SLC17A3', 'SLC17A4', 'SLC17A5', 'SLC17A6', 'SLC17A7', 'SLC17A7_Y_RNA', 'SLC17A8', 'SLC17A9', 'SLC18A1', 'SLC18A2', 'SLC18B1', 'SLC19A1', 'SLC19A2', 'SLC19A3', 'SLC1A1', 'SLC1A2', 'SLC1A3', 'SLC1A4', 'SLC1A5', 'SLC1A6', 'SLC1A7', 'SLC20A1', 'SLC20A1P1', 'SLC20A1P2', 'SLC20A2', 'SLC22A1', 'SLC22A10', 'SLC22A11', 'SLC22A12', 'SLC22A13', 'SLC22A14', 'SLC22A15', 'SLC22A16', 'SLC22A17', 'SLC22A18', 'SLC22A18AS', 'SLC22A2', 'SLC22A20', 'SLC22A23', 'SLC22A24', 'SLC22A25', 'SLC22A3', 'SLC22A4', 'SLC22A5', 'SLC22A6', 'SLC22A7', 'SLC22A8', 'SLC22A9', 'SLC23A1', 'SLC23A2', 'SLC23A3', 'SLC23A3_NHEJ1', 'SLC24A1', 'SLC24A2', 'SLC24A3', 'SLC24A4', 'SLC24A5', 'SLC25A1', 'SLC25A10', 'SLC25A10_MRPL12', 'SLC25A11', 'SLC25A12', 'SLC25A13', 'SLC25A15', 'SLC25A16', 'SLC25A17', 'SLC25A17_Y_RNA', 'SLC25A18', 'SLC25A19', 'SLC25A20', 'SLC25A21', 'SLC25A22', 'SLC25A23', 'SLC25A24', 'SLC25A25', 'SLC25A26', 'SLC25A27', 'SLC25A28', 'SLC25A29', 'SLC25A3', 'SLC25A3_SNORA53', 'SLC25A30', 'SLC25A31', 'SLC25A32', 'SLC25A33', 'SLC25A33_snoU13', 'SLC25A34', 'SLC25A35', 'SLC25A36', 'SLC25A37', 'SLC25A38', 'SLC25A39', 'SLC25A3P1', 'SLC25A4', 'SLC25A40', 'SLC25A41', 'SLC25A42', 'SLC25A44', 'SLC25A45', 'SLC25A46', 'SLC25A47', 'SLC25A48', 'SLC25A51', 'SLC25A51_RP11_613M10_9', 'SLC25A52', 'SLC25A53_AMDP1_TRPC6P_TCEB1P24_DDX11L16_WASIR1', 'SLC26A1', 'SLC26A10', 'SLC26A11', 'SLC26A2', 'SLC26A3', 'SLC26A4', 'SLC26A4_AS1', 'SLC26A5', 'SLC26A6', 'SLC26A7', 'SLC26A7_LRRC69', 'SLC26A8', 'SLC26A9', 'SLC27A1', 'SLC27A2', 'SLC27A3', 'SLC27A4', 'SLC27A5', 'SLC27A6', 'SLC28A1', 'SLC28A2', 'SLC28A3', 'SLC29A1', 'SLC29A2', 'SLC29A3', 'SLC29A4', 'SLC2A1', 'SLC2A1_AS1', 'SLC2A10', 'SLC2A11', 'SLC2A11_AP000350_10', 'SLC2A12', 'SLC2A13', 'SLC2A14', 'SLC2A2', 'SLC2A3', 'SLC2A4', 'SLC2A4RG', 'SLC2A4RG_RP4_583P15_14', 'SLC2A5', 'SLC2A6', 'SLC2A7', 'SLC2A8', 'SLC2A9', 'SLC30A1', 'SLC30A10', 'SLC30A2', 'SLC30A3', 'SLC30A4', 'SLC30A5', 'SLC30A6', 'SLC30A7', 'SLC30A7_snoU13', 'SLC30A8', 'SLC30A9', 'SLC31A1', 'SLC31A2', 'SLC32A1', 'SLC33A1', 'SLC34A1', 'SLC34A2', 'SLC34A3', 'SLC35A1', 'SLC35A1_C6orf165', 'SLC35A2', 'SLC35A3', 'SLC35A4', 'SLC35A5', 'SLC35B1', 'SLC35B2', 'SLC35B3', 'SLC35B4', 'SLC35C1', 'SLC35C2', 'SLC35D1', 'SLC35D2', 'SLC35D3', 'SLC35E1', 'SLC35E1_CTD_3222D19_2', 'SLC35E2', 'SLC35E2_RP1_283E3_8', 'SLC35E2B', 'SLC35E3', 'SLC35E4', 'SLC35F1', 'SLC35F2', 'SLC35F3', 'SLC35F4', 'SLC35F5', 'SLC35F6', 'SLC35G1', 'SLC35G2', 'SLC35G3', 'SLC35G5', 'SLC35G6', 'SLC36A1', 'SLC36A2', 'SLC36A3', 'SLC36A4', 'SLC37A1', 'SLC37A2', 'SLC37A3', 'SLC37A4', 'SLC38A1', 'SLC38A10', 'SLC38A11', 'SLC38A2', 'SLC38A3', 'SLC38A4', 'SLC38A5', 'SLC38A6', 'SLC38A6_RP11_193F5_1', 'SLC38A7', 'SLC38A8', 'SLC38A9', 'SLC39A1', 'SLC39A10', 'SLC39A11', 'SLC39A12', 'SLC39A12_AS1', 'SLC39A13', 'SLC39A14', 'SLC39A2', 'SLC39A3', 'SLC39A3_AC006538_4', 'SLC39A4', 'SLC39A5', 'SLC39A6', 'SLC39A7', 'SLC39A8', 'SLC39A9', 'SLC3A1', 'SLC3A2', 'SLC40A1', 'SLC41A1', 'SLC41A2', 'SLC41A3', 'SLC43A1', 'SLC43A2', 'SLC43A3', 'SLC43A3_RP11_872D17_8', 'SLC44A1', 'SLC44A2', 'SLC44A3', 'SLC44A4', 'SLC44A5', 'SLC45A1', 'SLC45A2', 'SLC45A3', 'SLC45A4', 'SLC46A1', 'SLC46A2', 'SLC46A3', 'SLC47A1', 'SLC47A2', 'SLC48A1', 'SLC4A1', 'SLC4A10', 'SLC4A11', 'SLC4A1AP', 'SLC4A2', 'SLC4A3', 'SLC4A4', 'SLC4A5', 'SLC4A5_RP11_287D1_3', 'SLC4A7', 'SLC4A8', 'SLC4A9', 'SLC50A1', 'SLC51A', 'SLC51B', 'SLC52A1', 'SLC52A2', 'SLC52A3', 'SLC5A1', 'SLC5A10', 'SLC5A11', 'SLC5A12', 'SLC5A2', 'SLC5A3_AP000320_7_MRPS6', 'SLC5A4', 'SLC5A5', 'SLC5A6', 'SLC5A7', 'SLC5A8', 'SLC5A9', 'SLC6A1', 'SLC6A10P', 'SLC6A11', 'SLC6A12', 'SLC6A13', 'SLC6A14_IL9R_SPRY3_VAMP7_WASH6P_DPH3P2_AJ271736_10', 'SLC6A15', 'SLC6A16', 'SLC6A17', 'SLC6A18', 'SLC6A19', 'SLC6A2', 'SLC6A20', 'SLC6A3', 'SLC6A4', 'SLC6A5', 'SLC6A6', 'SLC6A7', 'SLC6A9', 'SLC7A1', 'SLC7A10', 'SLC7A11', 'SLC7A11_AS1', 'SLC7A13', 'SLC7A14', 'SLC7A2', 'SLC7A3_AMDP1_TRPC6P_TCEB1P24_DDX11L16_WASIR1', 'SLC7A4', 'SLC7A5', 'SLC7A5P1', 'SLC7A6', 'SLC7A6OS', 'SLC7A7', 'SLC7A8', 'SLC7A9', 'SLC8A1', 'SLC8A1_AS1', 'SLC8A2', 'SLC8A3', 'SLC8B1', 'SLC9A1', 'SLC9A2', 'SLC9A3', 'SLC9A3R1', 'SLC9A3R2', 'SLC9A4', 'SLC9A5', 'SLC9A5_CTC_277H1_7', 'SLC9A7', 'SLC9A8', 'SLC9A9', 'SLC9B1', 'SLC9B2', 'SLC9B2_BDH2', 'SLC9C1', 'SLC9C2', 'SLCO1A2', 'SLCO1B1', 'SLCO1B1_RP11_125O5_2', 'SLCO1B3', 'SLCO1B3_LST3', 'SLCO1B3_LST3_SLCO1B7', 'SLCO1B3_LST3_SLCO1B7_RP11_125O5_2', 'SLCO1B7', 'SLCO1C1', 'SLCO2A1', 'SLCO2A1_Y_RNA', 'SLCO2B1', 'SLCO3A1', 'SLCO4A1', 'SLCO4C1', 'SLCO5A1', 'SLCO6A1', 'SLFN11', 'SLFN12', 'SLFN12L', 'SLFN13', 'SLFN14', 'SLFN5', 'SLFNL1', 'SLIRP', 'SLIT1', 'SLIT1_ARHGAP19_SLIT1', 'SLIT2', 'SLIT2_IT1', 'SLIT3', 'SLITRK3', 'SLITRK4_AMDP1_TRPC6P_TCEB1P24_DDX11L16_WASIR1', 'SLITRK5', 'SLITRK6', 'SLK', 'SLMAP', 'SLMO1', 'SLMO2', 'SLN', 'SLPI', 'SLTM', 'SLU7', 'SLURP1', 'SLX1A_SULT1A3_SULT1A3', 'SLX1A_SULT1A3_SULT1A3_SLX1A', 'SLX4', 'SLX4IP', 'SMAD1', 'SMAD2', 'SMAD3', 'SMAD4', 'SMAD4_RP11_729L2_2', 'SMAD4_snoU13', 'SMAD5', 'SMAD5_AS1', 'SMAD6', 'SMAD7', 'SMAD9', 'SMAGP', 'SMAP1', 'SMAP2', 'SMARCA1_AMDP1_TRPC6P_TCEB1P24_DDX11L16_WASIR1', 'SMARCA2', 'SMARCA4', 'SMARCA5', 'SMARCA5_AS1', 'SMARCAD1', 'SMARCAL1', 'SMARCB1', 'SMARCC1', 'SMARCC2', 'SMARCD1', 'SMARCD2', 'SMARCD3', 'SMARCE1', 'SMARCE1_KRT222', 'SMARCE1_Y_RNA_KRT222', 'SMC1A', 'SMC1B', 'SMC2', 'SMC3', 'SMC4', 'SMC5', 'SMC5_AS1', 'SMC6', 'SMCHD1', 'SMCO1', 'SMCO2', 'SMCO3', 'SMCO4', 'SMCP', 'SMCR5', 'SMCR8', 'SMDT1', 'SMEK1', 'SMEK2', 'SMEK3P', 'SMG1', 'SMG1P1', 'SMG1P1_NPIPB5', 'SMG5', 'SMG6', 'SMG7', 'SMG7_AS1', 'SMG8', 'SMG9', 'SMIM1', 'SMIM11', 'SMIM13', 'SMIM14', 'SMIM15', 'SMIM17', 'SMIM19', 'SMIM2', 'SMIM20', 'SMIM21', 'SMIM22', 'SMIM4', 'SMIM5', 'SMIM6', 'SMIM7_CTC_429P9_4', 'SMIM8', 'SMIM8_RP1_102H19_8', 'SMKR1', 'SMN1', 'SMN2', 'SMNDC1', 'SMO', 'SMOC1', 'SMOC2', 'SMOX', 'SMPD1', 'SMPD2', 'SMPD3', 'SMPD4', 'SMPD4P1', 'SMPDL3A', 'SMPDL3B', 'SMPX', 'SMR3A', 'SMR3B', 'SMS', 'SMTN', 'SMTNL1', 'SMTNL2', 'SMU1', 'SMU1_AL162590_1', 'SMUG1', 'SMURF1', 'SMURF2', 'SMYD1', 'SMYD2', 'SMYD3', 'SMYD4', 'SMYD4_AC130689_1', 'SMYD4_Y_RNA', 'SMYD5', 'SNAI1', 'SNAI2', 'SNAI3', 'SNAI3_AS1', 'SNAP23', 'SNAP25', 'SNAP25_AS1', 'SNAP29', 'SNAP47', 'SNAP91', 'SNAPC1', 'SNAPC1_RP11_618G20_1', 'SNAPC2', 'SNAPC3', 'SNAPC4', 'SNAPC5', 'SNAPC5_CTD_3185P2_1', 'SNAPIN', 'SNCA', 'SNCAIP', 'SNCB', 'SNCG', 'SND1', 'SNED1', 'SNF8', 'SNHG1', 'SNHG11', 'SNHG12', 'SNHG14', 'SNHG14_RP11_701H24_10', 'SNHG14_SNURF', 'SNHG15', 'SNHG16', 'SNHG17', 'SNHG5', 'SNHG6', 'SNHG6_SNORD87', 'SNHG7', 'SNHG8', 'SNHG9', 'SNIP1', 'SNORA11C', 'SNORA12', 'SNORA12_AC140481_1', 'SNORA13', 'SNORA14A', 'SNORA14B', 'SNORA15', 'SNORA16B', 'SNORA23', 'SNORA25_SLC35A3', 'SNORA28', 'SNORA2A', 'SNORA2B', 'SNORA30', 'SNORA37', 'SNORA42', 'SNORA47', 'SNORA48_CTD_2116N17_1', 'SNORA54', 'SNORA55', 'SNORA57_METTL12', 'SNORA59A', 'SNORA59B', 'SNORA5C', 'SNORA65', 'SNORA70', 'SNORA70_ZSCAN16_AS1', 'SNORA70B', 'SNORA71A', 'SNORA71B', 'SNORA71C', 'SNORA71D', 'SNORA72', 'SNORA74A', 'SNORA74B', 'SNORA75', 'SNORA77', 'SNORA79', 'SNORA7B_RPL32P3', 'SNORD103A', 'SNORD103B', 'SNORD104', 'SNORD105', 'SNORD105B', 'SNORD109A', 'SNORD109B', 'SNORD11', 'SNORD113_1', 'SNORD113_5', 'SNORD114_15', 'SNORD114_20', 'SNORD114_24', 'SNORD114_25', 'SNORD114_29', 'SNORD114_7', 'SNORD115_1', 'SNORD115_10', 'SNORD115_11', 'SNORD115_12', 'SNORD115_14', 'SNORD115_16', 'SNORD115_17', 'SNORD115_18', 'SNORD115_19', 'SNORD115_2', 'SNORD115_20', 'SNORD115_22', 'SNORD115_23_SNHG14', 'SNORD115_24', 'SNORD115_25', 'SNORD115_27', 'SNORD115_28', 'SNORD115_29', 'SNORD115_3', 'SNORD115_30', 'SNORD115_31', 'SNORD115_32', 'SNORD115_33', 'SNORD115_34', 'SNORD115_35', 'SNORD115_36', 'SNORD115_37', 'SNORD115_38', 'SNORD115_39', 'SNORD115_4', 'SNORD115_40', 'SNORD115_41', 'SNORD115_42', 'SNORD115_43', 'SNORD115_44', 'SNORD115_47', 'SNORD115_48', 'SNORD115_5', 'SNORD115_6', 'SNORD115_8', 'SNORD115_9', 'SNORD116_12', 'SNORD116_19', 'SNORD117', 'SNORD119', 'SNORD11B', 'SNORD12', 'SNORD123', 'SNORD126', 'SNORD12B', 'SNORD15B', 'SNORD17', 'SNORD19', 'SNORD1B', 'SNORD20', 'SNORD32A_RPL13A', 'SNORD34_RPL13A', 'SNORD35A_RPL13A', 'SNORD36B_RPL7A', 'SNORD3D', 'SNORD41', 'SNORD46', 'SNORD48_C6orf48', 'SNORD4A', 'SNORD51', 'SNORD53', 'SNORD58A_RPL17', 'SNORD58C_RPL17', 'SNORD59A', 'SNORD60', 'SNORD61_AMDP1_TRPC6P_TCEB1P24_DDX11L16_RBMX_WASIR1', 'SNORD64_SNORD108', 'SNORD69', 'SNORD7', 'SNORD71', 'SNORD72', 'SNORD8', 'SNORD82', 'SNORD85', 'SNORD88A', 'SNORD89', 'SNORD9', 'SNORD90', 'SNORD91A', 'SNORD91B', 'SNORD92', 'SNORD94', 'SNORD96B_AMDP1_TRPC6P_TCEB1P24_DDX11L16_WASIR1', 'SNORD99', 'SNPH', 'SNRK', 'SNRNP200', 'SNRNP25', 'SNRNP27', 'SNRNP35', 'SNRNP40', 'SNRNP48', 'SNRNP70', 'SNRPA', 'SNRPA1', 'SNRPB', 'SNRPB_RP4_734P14_4', 'SNRPB2', 'SNRPC', 'SNRPD1', 'SNRPD1_RP11_13N13_2', 'SNRPD2', 'SNRPD3', 'SNRPE', 'SNRPF', 'SNRPG', 'SNRPN', 'SNRPN_SNURF', 'SNTA1', 'SNTB1', 'SNTB2', 'SNTB2_RP11_343C2_11', 'SNTG1', 'SNTG2', 'SNTN', 'SNUPN', 'SNUPN_CTD_2323K18_1', 'SNW1', 'SNX1', 'SNX10', 'SNX11', 'SNX12_AMDP1_TRPC6P_TCEB1P24_DDX11L16_WASIR1', 'SNX13', 'SNX14', 'SNX14_RP11_321N4_5', 'SNX16', 'SNX17', 'SNX18P3', 'SNX19', 'SNX2', 'SNX20', 'SNX21', 'SNX22', 'SNX24', 'SNX25', 'SNX27', 'SNX27_snoU13', 'SNX29', 'SNX29P2', 'SNX29P2_RP11_231C14_6', 'SNX3', 'SNX30', 'SNX31', 'SNX32', 'SNX33', 'SNX4', 'SNX5', 'SNX5_OVOL2', 'SNX6', 'SNX7', 'SNX8', 'SNX9', 'SOAT1', 'SOAT2', 'SOBP', 'SOCS1', 'SOCS2', 'SOCS2_AS1', 'SOCS3', 'SOCS4', 'SOCS5', 'SOCS6', 'SOCS7', 'SOD1', 'SOD2', 'SOD3', 'SOGA1', 'SOGA2', 'SOGA3', 'SOGA3_KIAA0408', 'SOHLH1', 'SOHLH2', 'SOHLH2_CCDC169_SOHLH2', 'SON', 'SORBS1', 'SORBS2', 'SORBS3', 'SORCS1', 'SORCS2', 'SORCS3', 'SORCS3_AS1', 'SORD', 'SORL1', 'SORT1', 'SOS1', 'SOS2', 'SOST', 'SOSTDC1', 'SOX1', 'SOX10', 'SOX13', 'SOX15', 'SOX17', 'SOX18', 'SOX2_OT', 'SOX21_AS1', 'SOX3_AMDP1_TRPC6P_TCEB1P24_DDX11L16_WASIR1', 'SOX30', 'SOX5', 'SOX6', 'SOX7', 'SOX8', 'SOX9', 'SP1', 'SP100', 'SP110', 'SP140', 'SP140_SP140L', 'SP140L', 'SP2', 'SP3', 'SP4', 'SP5', 'SP6', 'SP7', 'SP8', 'SP9', 'SPA17', 'SPACA1', 'SPACA3', 'SPACA5', 'SPACA5B', 'SPACA7', 'SPAG1', 'SPAG11A', 'SPAG11B', 'SPAG16', 'SPAG17', 'SPAG4', 'SPAG5', 'SPAG5_RP11_192H23_4', 'SPAG6', 'SPAG7', 'SPAG8', 'SPAG8_AL133410_1', 'SPAG9', 'SPAM1', 'SPANXN2_AMDP1_TRPC6P_TCEB1P24_DDX11L16_WASIR1', 'SPANXN3_AMDP1_TRPC6P_TCEB1P24_DDX11L16_WASIR1', 'SPANXN5', 'SPARC', 'SPARCL1', 'SPAST', 'SPATA1', 'SPATA12', 'SPATA13', 'SPATA13_RP11_307N16_6', 'SPATA13_RP11_309I15_1_RP11_307N16_6', 'SPATA16', 'SPATA17', 'SPATA18', 'SPATA19', 'SPATA2', 'SPATA20', 'SPATA21', 'SPATA22', 'SPATA24', 'SPATA25', 'SPATA2L', 'SPATA3', 'SPATA31A1', 'SPATA31A2', 'SPATA31A3', 'SPATA31A4', 'SPATA31A5', 'SPATA31A6', 'SPATA31A7', 'SPATA31C1', 'SPATA31C1_snoU13', 'SPATA31C2', 'SPATA31D1', 'SPATA31D3', 'SPATA31D4', 'SPATA31D5P', 'SPATA31E1', 'SPATA32', 'SPATA33', 'SPATA4', 'SPATA41', 'SPATA42', 'SPATA5', 'SPATA5L1', 'SPATA6', 'SPATA6L', 'SPATA7', 'SPATA8', 'SPATA8_AS1', 'SPATA9', 'SPATC1', 'SPATC1L', 'SPATS1', 'SPATS1_RP11_444E17_6', 'SPATS2', 'SPATS2L', 'SPC24', 'SPC25', 'SPCS1', 'SPCS2', 'SPCS2P4', 'SPCS3', 'SPDEF', 'SPDL1', 'SPDYA', 'SPDYA_PPP1CB', 'SPDYC', 'SPDYE1', 'SPDYE2', 'SPDYE2B', 'SPDYE3', 'SPDYE4', 'SPDYE6', 'SPDYE7P', 'SPDYE8P', 'SPECC1', 'SPECC1L_SPECC1L_ADORA2A', 'SPECC1L_ADORA2A_ADORA2A', 'SPEF1', 'SPEF2', 'SPEG', 'SPEM1', 'SPEM1_RP11_104H15_7', 'SPEN', 'SPERT', 'SPG11', 'SPG20', 'SPG21', 'SPG7', 'SPHK1', 'SPHK2', 'SPHKAP', 'SPI1', 'SPIB', 'SPIB_CTD_2545M3_6', 'SPIC', 'SPICE1', 'SPIDR', 'SPIN1', 'SPIN2A', 'SPIN2B', 'SPIN3', 'SPINK1', 'SPINK13', 'SPINK14', 'SPINK2', 'SPINK4', 'SPINK5', 'SPINK6', 'SPINK7', 'SPINK8', 'SPINK9', 'SPINT1', 'SPINT2', 'SPINT2_CTB_102L5_4', 'SPINT3', 'SPINT4', 'SPIRE1', 'SPIRE2', 'SPN', 'SPNS1_LAT_RP11_264B17_3', 'SPNS1_RP11_264B17_3', 'SPNS2', 'SPNS3', 'SPO11', 'SPOCD1', 'SPOCK1', 'SPOCK2', 'SPOCK3', 'SPON1', 'SPON2', 'SPOP', 'SPOPL', 'SPP1', 'SPP2', 'SPPL2A', 'SPPL2B', 'SPPL2B_AC004410_3', 'SPPL3', 'SPR', 'SPRED1', 'SPRED2', 'SPRED3', 'SPRN', 'SPRR1B', 'SPRR2A', 'SPRR2B', 'SPRR2D', 'SPRR2E', 'SPRR2F', 'SPRR2G', 'SPRR3', 'SPRR4', 'SPRTN', 'SPRY1', 'SPRY2', 'SPRY4', 'SPRYD3', 'SPRYD4', 'SPRYD7', 'SPSB1', 'SPSB3', 'SPSB4', 'SPTA1', 'SPTAN1', 'SPTB', 'SPTBN1', 'SPTBN2', 'SPTBN4', 'SPTBN5', 'SPTBN5_Y_RNA', 'SPTLC1', 'SPTLC2', 'SPTLC3', 'SPTSSA', 'SPTSSB', 'SPTY2D1', 'SPTY2D1_AS1', 'SQLE', 'SQRDL', 'SQRDL_RP11_96O20_4', 'SQSTM1', 'SRA1', 'SRBD1', 'SRC', 'SRCAP', 'SRCAP_RP11_2C24_4', 'SRCIN1', 'SRCRB4D', 'SRD5A1', 'SRD5A2', 'SRD5A3', 'SRD5A3_AS1', 'SREBF1', 'SREBF2', 'SREK1', 'SREK1IP1', 'SRF', 'SRFBP1', 'SRGAP1', 'SRGAP2', 'SRGAP2B', 'SRGAP2C', 'SRGAP3', 'SRGAP3_AS2', 'SRGN', 'SRI', 'SRL', 'SRM', 'SRMS', 'SRP14', 'SRP14_Y_RNA', 'SRP14_AS1', 'SRP19_CTC_487M23_8_CTC_554D6_1', 'SRP54', 'SRP68', 'SRP72', 'SRP9', 'SRPK1', 'SRPK2', 'SRPR', 'SRPRB', 'SRPX', 'SRPX2_IL9R_SPRY3_VAMP7_WASH6P_DPH3P2_AJ271736_10', 'SRR', 'SRRD', 'SRRM1', 'SRRM2', 'SRRM2_AS1', 'SRRM3', 'SRRM4', 'SRRT', 'SRSF1', 'SRSF10', 'SRSF11', 'SRSF12', 'SRSF3', 'SRSF4', 'SRSF5', 'SRSF6', 'SRSF7', 'SRSF8', 'SRSF9', 'SRXN1', 'SRY', 'SS18', 'SS18L1', 'SS18L2', 'SSB', 'SSBP1', 'SSBP2', 'SSBP3', 'SSBP4', 'SSC5D', 'SSFA2', 'SSH1', 'SSH2', 'SSH3', 'SSMEM1', 'SSNA1', 'SSPN', 'SSPO', 'SSR1', 'SSR1_CAGE1', 'SSR2', 'SSR3', 'SSRP1', 'SSSCA1', 'SSSCA1_FAM89B', 'SST', 'SSTR1', 'SSTR2_RP11_143K11_5', 'SSTR3', 'SSTR4', 'SSTR5_AS1', 'SSU72', 'SSU72_AL645728_2', 'SSUH2', 'SSX1', 'SSX2', 'SSX2B', 'SSX2IP', 'SSX3', 'SSX4', 'SSX4B', 'SSX5', 'SSX6', 'SSX7', 'SSX8', 'SSX9', 'ST13', 'ST14', 'ST18', 'ST20', 'ST3GAL1', 'ST3GAL2', 'ST3GAL3', 'ST3GAL4', 'ST3GAL5', 'ST3GAL6', 'ST5', 'ST6GAL1', 'ST6GAL2', 'ST6GALNAC1', 'ST6GALNAC2', 'ST6GALNAC3', 'ST6GALNAC4', 'ST6GALNAC5', 'ST6GALNAC6', 'ST6GALNAC6_RP11_203J24_9', 'ST7', 'ST7_ST7_OT4', 'ST7_AS2', 'ST7_OT4', 'ST7L', 'ST8SIA1', 'ST8SIA2', 'ST8SIA3', 'ST8SIA4', 'ST8SIA5', 'ST8SIA6', 'ST8SIA6_AS1', 'STAB1', 'STAB2', 'STAC', 'STAC2', 'STAC3', 'STAC3_R3HDM2_RP11_123K3_4', 'STAG1', 'STAG3', 'STAG3L1', 'STAG3L2', 'STAG3L3', 'STAG3L4', 'STAG3L5P_PVRIG2P_PILRB_PILRB', 'STAG3L5P_PVRIG2P_PILRB_PILRB_PVRIG2P', 'STAG3L5P_PVRIG2P_PILRB_STAG3L5P_PILRB', 'STAM', 'STAM2', 'STAMBP', 'STAMBPL1', 'STAP1', 'STAP2', 'STAR', 'STARD10', 'STARD10_ARAP1', 'STARD13', 'STARD3', 'STARD3NL', 'STARD4', 'STARD5', 'STARD6', 'STARD7', 'STARD9', 'STAT1', 'STAT2', 'STAT3', 'STAT4', 'STAT5A', 'STAT5B', 'STAT6', 'STATH', 'STAU1', 'STAU2', 'STAU2_RP11_463D19_2', 'STAU2_AS1', 'STC1', 'STC2', 'STEAP1', 'STEAP1B', 'STEAP2', 'STEAP3', 'STEAP4', 'STH', 'STIL', 'STIL_Y_RNA', 'STIM1', 'STIM1_MIR4687', 'STIM2', 'STIP1', 'STK10', 'STK11', 'STK11IP', 'STK16', 'STK17A', 'STK17B', 'STK19', 'STK19P', 'STK24', 'STK25', 'STK3', 'STK31', 'STK32A', 'STK32B', 'STK32C', 'STK33', 'STK35', 'STK36', 'STK38', 'STK38L', 'STK39', 'STK4', 'STK4_AS1', 'STK40', 'STMN1', 'STMN2', 'STMN3', 'STMN4', 'STMND1', 'STOM', 'STOML1', 'STOML2', 'STOML3', 'STON1', 'STON1_GTF2A1L', 'STON1_GTF2A1L_GTF2A1L', 'STON1_GTF2A1L_STON1', 'STON2', 'STOX1', 'STOX2', 'STPG1', 'STPG2', 'STRA13', 'STRA6', 'STRA8', 'STRADA', 'STRADA_RP11_51F16_8', 'STRADB', 'STRAP', 'STRBP', 'STRC', 'STRC_STRCP1', 'STRCP1', 'STRIP1', 'STRIP2', 'STRN', 'STRN3', 'STRN4', 'STS', 'STT3A', 'STT3B', 'STUB1', 'STX10', 'STX11', 'STX12', 'STX16_STX16_NPEPL1', 'STX17', 'STX18', 'STX18_AS1', 'STX19', 'STX1A', 'STX1B', 'STX2', 'STX3', 'STX4', 'STX5', 'STX6', 'STX7', 'STX8', 'STXBP1', 'STXBP2', 'STXBP2_CTD_3214H19_4', 'STXBP3', 'STXBP4', 'STXBP5', 'STXBP5_AS1', 'STXBP5L', 'STXBP6', 'STYK1', 'STYX', 'STYXL1', 'SUB1', 'SUCLA2', 'SUCLG1', 'SUCLG2', 'SUCNR1', 'SUCO', 'SUDS3', 'SUFU', 'SUGP1', 'SUGP2', 'SUGT1', 'SUGT1P', 'SUGT1P3_TPTE2P5', 'SULF1', 'SULF2', 'SULT1A1', 'SULT1A2', 'SULT1A4_SLX1B_SLX1B_SULT1A4', 'SULT1A4_SLX1B_SULT1A4', 'SULT1B1', 'SULT1C2', 'SULT1C3', 'SULT1C4', 'SULT1E1', 'SULT2A1', 'SULT2B1', 'SULT4A1', 'SULT6B1', 'SUMF1', 'SUMF2', 'SUMO1', 'SUMO2', 'SUMO3', 'SUN1', 'SUN1_GET4', 'SUN2', 'SUN3', 'SUN5', 'SUOX', 'SUPT16H', 'SUPT20H', 'SUPT3H', 'SUPT4H1', 'SUPT5H', 'SUPT6H', 'SUPT7L', 'SUPV3L1', 'SURF1', 'SURF2', 'SURF4', 'SURF6', 'SUSD1', 'SUSD2', 'SUSD3', 'SUSD4', 'SUSD5', 'SUSD5_SNORD112', 'SUSD5_Y_RNA', 'SUV39H1', 'SUV39H2', 'SUV420H1', 'SUV420H2', 'SUV420H2_AC020922_1', 'SUZ12', 'SUZ12P', 'SV2A', 'SV2B', 'SV2C', 'SVEP1', 'SVIL', 'SVILP1', 'SVIP', 'SVOP', 'SVOPL', 'SWAP70', 'SWI5', 'SWSAP1', 'SWT1', 'SYAP1', 'SYBU', 'SYCE1', 'SYCE1_SPRN', 'SYCE1L', 'SYCE2', 'SYCE3', 'SYCN', 'SYCP1', 'SYCP2', 'SYCP2L', 'SYCP2L_RP11_637O19_3', 'SYCP2L_TMEM14B_RP11_637O19_3', 'SYCP3', 'SYDE1', 'SYDE2', 'SYF2', 'SYK', 'SYMPK', 'SYN1', 'SYN2', 'SYN3', 'SYNC', 'SYNCRIP', 'SYNCRIP_RP11_321N4_5', 'SYNDIG1', 'SYNDIG1L', 'SYNE1', 'SYNE2', 'SYNE3', 'SYNE4', 'SYNE4_AC002116_8', 'SYNGAP1', 'SYNGAP1_MIR5004', 'SYNGR1', 'SYNGR2', 'SYNGR3', 'SYNGR4', 'SYNJ1', 'SYNJ2', 'SYNJ2BP', 'SYNJ2BP_SYNJ2BP_COX16', 'SYNM', 'SYNPO', 'SYNPO2', 'SYNPO2L', 'SYNPR', 'SYNRG', 'SYP', 'SYPL1', 'SYPL2', 'SYPL2_SNORA51', 'SYS1_SYS1_DBNDD2', 'SYT1', 'SYT10', 'SYT11', 'SYT12', 'SYT13', 'SYT14', 'SYT15', 'SYT16', 'SYT17', 'SYT17_CTD_2349B8_1', 'SYT2', 'SYT3', 'SYT3_SHANK1', 'SYT4', 'SYT5', 'SYT6', 'SYT7', 'SYT7_RP11_794G24_1', 'SYT8', 'SYT9', 'SYTL1', 'SYTL2', 'SYTL3', 'SYTL4_AMDP1_TRPC6P_TCEB1P24_DDX11L16_WASIR1', 'SYTL5', 'SYVN1', 'SZRD1', 'SZT2', 'SZT2_U3', 'T', 'TAAR1', 'TAAR2', 'TAAR5', 'TAAR9', 'TAB1', 'TAB2', 'TAB2_RP1_111D6_3', 'TAB3', 'TAC1', 'TAC3', 'TAC4', 'TACC1', 'TACC2', 'TACC3', 'TACO1', 'TACR1', 'TACR1_Y_RNA', 'TACR2', 'TACR3', 'TADA1', 'TADA2A', 'TADA2B', 'TADA3', 'TAF10', 'TAF11', 'TAF12', 'TAF13', 'TAF15', 'TAF1A', 'TAF1B', 'TAF1C', 'TAF1D', 'TAF1D_SNORA32', 'TAF1D_SNORA40_MIR1304_SNORA8_SNORD5', 'TAF1D_SNORD5', 'TAF2', 'TAF3', 'TAF4', 'TAF4B', 'TAF5', 'TAF5L', 'TAF6', 'TAF6L', 'TAF7L_AMDP1_TRPC6P_TCEB1P24_DDX11L16_WASIR1', 'TAF8', 'TAF9', 'TAGAP', 'TAGLN', 'TAGLN2', 'TAGLN3', 'TAL1', 'TALDO1', 'TAMM41', 'TANC1', 'TANC2', 'TANGO2', 'TANGO6', 'TANK', 'TAOK1', 'TAOK2', 'TAOK3', 'TAP1', 'TAP2', 'TAPBP', 'TAPBPL', 'TAPT1', 'TAPT1_AS1', 'TARBP1', 'TARBP2', 'TARDBP', 'TARM1', 'TARS', 'TARS2', 'TARSL2', 'TAS1R1', 'TAS1R2', 'TAS1R2_RP13_279N23_2', 'TAS1R3', 'TAS2R1', 'TAS2R1_CTD_2143L24_1', 'TAS2R10', 'TAS2R13', 'TAS2R16', 'TAS2R20', 'TAS2R3', 'TAS2R30', 'TAS2R31', 'TAS2R38', 'TAS2R4', 'TAS2R41', 'TAS2R42', 'TAS2R43', 'TAS2R46', 'TAS2R5', 'TAS2R50', 'TASP1', 'TAT', 'TATDN1', 'TATDN2', 'TATDN2_RP11_438J1_1', 'TATDN3', 'TAX1BP1', 'TAX1BP3', 'TAX1BP3_P2RX5_TAX1BP3', 'TBATA', 'TBC1D1', 'TBC1D10A', 'TBC1D10A_RP1_130H16_18', 'TBC1D10B', 'TBC1D10C', 'TBC1D12', 'TBC1D13', 'TBC1D14', 'TBC1D15', 'TBC1D16', 'TBC1D16_AC100791_1', 'TBC1D17', 'TBC1D17_snoU13', 'TBC1D19', 'TBC1D2', 'TBC1D20', 'TBC1D21', 'TBC1D22A', 'TBC1D22A_snoU13', 'TBC1D22B', 'TBC1D23', 'TBC1D24', 'TBC1D24_RP11_20I23_1', 'TBC1D25', 'TBC1D25_snoU13', 'TBC1D26', 'TBC1D27', 'TBC1D28', 'TBC1D28_RP11_815I9_3', 'TBC1D28_ZNF286B', 'TBC1D29', 'TBC1D2B', 'TBC1D3', 'TBC1D30', 'TBC1D31', 'TBC1D32', 'TBC1D3B', 'TBC1D3C', 'TBC1D3F', 'TBC1D3G', 'TBC1D3H', 'TBC1D3H_TBC1D3C', 'TBC1D3H_TBC1D3G', 'TBC1D3H_TBC1D3G_CTB_91J4_3', 'TBC1D3P1_DHX40P1', 'TBC1D3P1_DHX40P1_DHX40P1', 'TBC1D3P1_DHX40P1_TBC1D3P1', 'TBC1D3P2', 'TBC1D3P2_RP11_51L5_7', 'TBC1D3P5', 'TBC1D4', 'TBC1D5', 'TBC1D7', 'TBC1D7_RP1_257A7_4', 'TBC1D8', 'TBC1D9', 'TBC1D9B', 'TBCA', 'TBCB', 'TBCCD1', 'TBCD', 'TBCE', 'TBCE_RP11_293G6_A_3', 'TBCEL', 'TBCK', 'TBK1', 'TBKBP1', 'TBL1X', 'TBL1XR1', 'TBL1Y', 'TBL2', 'TBL3', 'TBP', 'TBPL1', 'TBPL2', 'TBR1', 'TBR1_SLC4A10_AC009487_5', 'TBRG1', 'TBRG4', 'TBRG4_SNORA5B', 'TBX1', 'TBX10', 'TBX15', 'TBX18', 'TBX19', 'TBX2', 'TBX20', 'TBX21', 'TBX22_IL9R_SPRY3_VAMP7_WASH6P_DPH3P2_AJ271736_10', 'TBX3', 'TBX4', 'TBX5', 'TBX5_AS1', 'TBX6', 'TBXA2R', 'TBXAS1', 'TC2N', 'TCAIM', 'TCAM1P', 'TCAP', 'TCEA1', 'TCEA2', 'TCEA3', 'TCEAL3_IL9R_SPRY3_VAMP7_TCEAL1_WASH6P_DPH3P2_AJ271736_10', 'TCEAL3_IL9R_SPRY3_VAMP7_WASH6P_DPH3P2_AJ271736_10', 'TCEAL5_AMDP1_TRPC6P_TCEB1P24_DDX11L16_WASIR1', 'TCEAL6_AMDP1_TRPC6P_TCEB1P24_DDX11L16_WASIR1', 'TCEAL8_AMDP1_TRPC6P_TCEB1P24_DDX11L16_WASIR1', 'TCEANC', 'TCEANC2', 'TCEB1', 'TCEB2', 'TCEB3', 'TCEB3B', 'TCERG1', 'TCERG1L', 'TCF12', 'TCF15', 'TCF19', 'TCF20', 'TCF21', 'TCF23', 'TCF25', 'TCF25_RP11_566K11_7', 'TCF3', 'TCF4', 'TCF7', 'TCF7L1', 'TCF7L2', 'TCFL5', 'TCHH', 'TCHHL1', 'TCHP', 'TCIRG1', 'TCL1A', 'TCL1B_RP11_1070N10_6', 'TCL6', 'TCL6_RP11_1070N10_6', 'TCN1', 'TCN2', 'TCOF1', 'TCP1', 'TCP1_SNORA20', 'TCP1_SNORA29', 'TCP10', 'TCP10L', 'TCP10L_AP000275_65', 'TCP10L2', 'TCP11', 'TCP11L1', 'TCP11L2', 'TCTA', 'TCTE1', 'TCTE3', 'TCTEX1D1', 'TCTEX1D2', 'TCTEX1D2_RP11_447L10_1', 'TCTEX1D4', 'TCTN1', 'TCTN2', 'TCTN3', 'TDG', 'TDGF1', 'TDGF1_AC104304_1', 'TDH', 'TDO2', 'TDP1', 'TDP2', 'TDRD1', 'TDRD10', 'TDRD12', 'TDRD3', 'TDRD5', 'TDRD6', 'TDRD7', 'TDRD9', 'TDRG1', 'TDRKH', 'TDRP', 'TEAD1', 'TEAD2', 'TEAD3', 'TEAD4', 'TEC', 'TECPR1', 'TECPR2', 'TECR', 'TECRL', 'TECTA', 'TECTB', 'TEF', 'TEFM', 'TEK', 'TEKT1', 'TEKT2', 'TEKT3', 'TEKT4', 'TEKT4P2', 'TEKT5', 'TELO2', 'TEN1_CDK3_TEN1_CDK3', 'TEN1_TEN1_CDK3', 'TENC1', 'TENM1_AMDP1_TRPC6P_TCEB1P24_DDX11L16_WASIR1', 'TENM2', 'TENM3', 'TENM4', 'TEP1', 'TEP1_Y_RNA', 'TEPP', 'TERC', 'TERF1', 'TERF2', 'TERF2IP', 'TERT', 'TES', 'TESC', 'TESK1', 'TESK2', 'TESPA1', 'TET1', 'TET2', 'TET2_snoU13', 'TET3', 'TEX10', 'TEX101', 'TEX11_AMDP1_TRPC6P_TCEB1P24_DDX11L16_WASIR1', 'TEX12_SDHD', 'TEX13A_AMDP1_TRPC6P_TCEB1P24_DDX11L16_WASIR1', 'TEX13B_AMDP1_TRPC6P_TCEB1P24_DDX11L16_WASIR1', 'TEX14', 'TEX15', 'TEX15_Y_RNA', 'TEX2', 'TEX22', 'TEX26', 'TEX26_AS1', 'TEX261_AC007040_11', 'TEX264', 'TEX28_AMDP1_TRPC6P_TCEB1P24_DDX11L16_WASIR1', 'TEX29', 'TEX30', 'TEX33', 'TEX35', 'TEX35_C1orf220_C1ORF220', 'TEX36', 'TEX37', 'TEX40_RP11_783K16_10', 'TEX41', 'TEX9', 'TF', 'TF_TFP1', 'TFAM', 'TFAP2A', 'TFAP2A_AS1', 'TFAP2B', 'TFAP2C', 'TFAP2D', 'TFAP2E', 'TFAP4', 'TFB1M', 'TFB2M', 'TFCP2', 'TFCP2L1', 'TFDP1', 'TFDP2', 'TFDP3_AMDP1_TRPC6P_TCEB1P24_DDX11L16_WASIR1', 'TFE3', 'TFEB', 'TFEC', 'TFF1', 'TFF2', 'TFF3', 'TFG', 'TFIP11', 'TFP1', 'TFPI', 'TFPI2', 'TFPT', 'TFR2', 'TFRC', 'TG', 'TGDS', 'TGFA', 'TGFB1', 'TGFB1I1', 'TGFB2', 'TGFB3', 'TGFBI', 'TGFBR1', 'TGFBR2', 'TGFBR3', 'TGFBRAP1', 'TGIF1', 'TGIF2_TGIF2_C20orf24', 'TGIF2LY', 'TGM1', 'TGM2', 'TGM3', 'TGM4', 'TGM5', 'TGM6', 'TGM7', 'TGOLN2', 'TGS1', 'TH', 'THADA', 'THADA_Y_RNA', 'THAP1', 'THAP10', 'THAP2_RP11_293I14_2', 'THAP3', 'THAP4', 'THAP5', 'THAP6', 'THAP7', 'THAP7_AS1', 'THAP8', 'THAP9', 'THAP9_AS1', 'THBS1', 'THBS2', 'THBS3', 'THBS4', 'THEG', 'THEM4', 'THEM5', 'THEM6', 'THEMIS', 'THEMIS2', 'THG1L', 'THNSL1', 'THNSL2', 'THOC1', 'THOC2_AMDP1_TRPC6P_TCEB1P24_DDX11L16_WASIR1', 'THOC3', 'THOC5', 'THOC6', 'THOC7', 'THOP1', 'THPO', 'THRA', 'THRAP3', 'THRB', 'THRSP', 'THSD1', 'THSD4', 'THSD7A', 'THSD7B', 'THSD7B_SNORA51', 'THTPA_RP11_66N24_4', 'THUMPD1', 'THUMPD2', 'THUMPD3', 'THY1', 'THYN1', 'TIA1', 'TIAL1', 'TIAM1', 'TIAM2', 'TICAM1', 'TICRR', 'TIE1', 'TIFA', 'TIFAB', 'TIGD1_MIR5001', 'TIGD3', 'TIGD7', 'TIGIT', 'TIMD4', 'TIMELESS', 'TIMELESS_Y_RNA', 'TIMM10', 'TIMM10B', 'TIMM10B_DNHD1', 'TIMM13', 'TIMM13_LMNB2', 'TIMM17A', 'TIMM17B', 'TIMM21', 'TIMM22', 'TIMM23', 'TIMM23B', 'TIMM44', 'TIMM44_Y_RNA', 'TIMM50', 'TIMM8A_AMDP1_TRPC6P_TCEB1P24_DDX11L16_WASIR1', 'TIMM8B', 'TIMM9', 'TIMMDC1', 'TIMP1', 'TIMP2', 'TIMP2_DDC8', 'TIMP3', 'TIMP4', 'TINAG', 'TINAGL1', 'TINCR', 'TINF2', 'TIPARP', 'TIPIN', 'TIPRL', 'TIRAP', 'TJAP1', 'TJP1', 'TJP2', 'TJP3', 'TK1', 'TK2', 'TK2_RP11_403P17_5', 'TK2_Y_RNA', 'TKT', 'TKTL1_IL9R_SPRY3_VAMP7_WASH6P_DPH3P2_AJ271736_10', 'TLCD1', 'TLDC1', 'TLDC2', 'TLE1', 'TLE2', 'TLE2_SNORA70', 'TLE3', 'TLE4', 'TLE6', 'TLK1', 'TLK2', 'TLL1', 'TLL2', 'TLN1', 'TLN2', 'TLR1', 'TLR1_TLR6', 'TLR10', 'TLR3', 'TLR4', 'TLR5', 'TLR7', 'TLR8', 'TLR9', 'TLX1', 'TLX1NB', 'TLX2', 'TLX3', 'TM2D1', 'TM2D2', 'TM2D3', 'TM4SF1', 'TM4SF18', 'TM4SF19', 'TM4SF19_TCTEX1D2_RP11_447L10_1', 'TM4SF19_AS1', 'TM4SF20', 'TM4SF4', 'TM4SF5', 'TM6SF1', 'TM6SF2', 'TM6SF2_AC138430_4', 'TM7SF2', 'TM7SF3', 'TM9SF1', 'TM9SF1_CHMP4A_AL136419_6', 'TM9SF1_IPO4_RP11_468E2_2', 'TM9SF1_MDP1_CHMP4A_AL136419_6_NEDD8_MDP1', 'TM9SF2', 'TM9SF3', 'TM9SF4', 'TMA16', 'TMA7', 'TMBIM1', 'TMBIM4', 'TMBIM4_LLPH', 'TMBIM6', 'TMC1', 'TMC2', 'TMC3', 'TMC4', 'TMC5', 'TMC6', 'TMC7', 'TMC8', 'TMCC1', 'TMCC1_AS1', 'TMCC2', 'TMCC3', 'TMCO1', 'TMCO2', 'TMCO2_snoU13', 'TMCO3', 'TMCO4', 'TMCO5A', 'TMCO6', 'TMED1', 'TMED10', 'TMED2', 'TMED3', 'TMED4', 'TMED5', 'TMED6_RP11_343C2_7_RP11_343C2_9', 'TMED7_TICAM2_TICAM2_TMED7', 'TMED8', 'TMED9', 'TMED9_SNORA51', 'TMEFF1_MSANTD3_MSANTD3_TMEFF1', 'TMEFF1_MSANTD3_TMEFF1', 'TMEFF2', 'TMEM100', 'TMEM101', 'TMEM102', 'TMEM104', 'TMEM105', 'TMEM106A', 'TMEM106B', 'TMEM106C', 'TMEM107', 'TMEM108', 'TMEM109', 'TMEM11', 'TMEM110_TMEM110_MUSTN1', 'TMEM114', 'TMEM115', 'TMEM116', 'TMEM117', 'TMEM119', 'TMEM120A', 'TMEM120B', 'TMEM121', 'TMEM123', 'TMEM125', 'TMEM126A', 'TMEM126B', 'TMEM127', 'TMEM128', 'TMEM129', 'TMEM130', 'TMEM131', 'TMEM132A', 'TMEM132B', 'TMEM132C', 'TMEM132D', 'TMEM132E', 'TMEM134', 'TMEM135', 'TMEM136', 'TMEM138', 'TMEM139', 'TMEM140', 'TMEM141', 'TMEM141_RP11_216L13_17', 'TMEM143', 'TMEM144', 'TMEM144_RP11_597D13_9', 'TMEM145', 'TMEM147', 'TMEM14A', 'TMEM14B', 'TMEM14C', 'TMEM150A', 'TMEM150B', 'TMEM150C', 'TMEM151A', 'TMEM151B', 'TMEM151B_RP11_444E17_6', 'TMEM154', 'TMEM155', 'TMEM156', 'TMEM159', 'TMEM160', 'TMEM161A', 'TMEM161B', 'TMEM161B_AS1', 'TMEM163', 'TMEM165', 'TMEM167A', 'TMEM167B', 'TMEM168', 'TMEM169', 'TMEM17', 'TMEM170A', 'TMEM170A_RP11_77K12_1', 'TMEM170B', 'TMEM171', 'TMEM173', 'TMEM174', 'TMEM175', 'TMEM176A', 'TMEM176B', 'TMEM177', 'TMEM178A', 'TMEM179', 'TMEM179B', 'TMEM18', 'TMEM180', 'TMEM181', 'TMEM182', 'TMEM183A', 'TMEM184A', 'TMEM184B', 'TMEM184C', 'TMEM185A_AMDP1_TRPC6P_TCEB1P24_DDX11L16_WASIR1', 'TMEM186', 'TMEM189', 'TMEM189_TMEM189_UBE2V1', 'TMEM19', 'TMEM19_RP11_293I14_2', 'TMEM190', 'TMEM191A', 'TMEM191C', 'TMEM192', 'TMEM194A', 'TMEM194B', 'TMEM196', 'TMEM198', 'TMEM198B', 'TMEM199_CTB_96E2_3', 'TMEM199_SARM1_CTB_96E2_3', 'TMEM2', 'TMEM200A', 'TMEM200C', 'TMEM201', 'TMEM202', 'TMEM204', 'TMEM205', 'TMEM206', 'TMEM207', 'TMEM208', 'TMEM209', 'TMEM211', 'TMEM212', 'TMEM213', 'TMEM214', 'TMEM215', 'TMEM216', 'TMEM217', 'TMEM218', 'TMEM219', 'TMEM219_snoU13', 'TMEM220', 'TMEM222', 'TMEM223', 'TMEM225', 'TMEM229B', 'TMEM230', 'TMEM231_RP11_77K12_8', 'TMEM232', 'TMEM233', 'TMEM234', 'TMEM235', 'TMEM236', 'TMEM237', 'TMEM237_ENO1P4', 'TMEM239_C20orf141', 'TMEM240', 'TMEM241', 'TMEM242', 'TMEM243', 'TMEM244', 'TMEM245', 'TMEM246', 'TMEM247', 'TMEM248', 'TMEM249', 'TMEM25', 'TMEM25_TTC36', 'TMEM25_snoU13', 'TMEM251_RP11_371E8_4', 'TMEM252', 'TMEM253', 'TMEM254', 'TMEM254_AS1', 'TMEM255A_AMDP1_TRPC6P_TCEB1P24_DDX11L16_WASIR1', 'TMEM255B', 'TMEM256_TMEM256_PLSCR3_C17orf61_PLSCR3', 'TMEM256_PLSCR3_C17orf61_PLSCR3', 'TMEM258', 'TMEM258_MIR611', 'TMEM259', 'TMEM26', 'TMEM260', 'TMEM27', 'TMEM30A', 'TMEM30C', 'TMEM33', 'TMEM37', 'TMEM38A', 'TMEM38B', 'TMEM39A', 'TMEM39B', 'TMEM40', 'TMEM41A', 'TMEM41B', 'TMEM42', 'TMEM43', 'TMEM43_RP11_434D12_1', 'TMEM44', 'TMEM44_AS1', 'TMEM45A', 'TMEM45B', 'TMEM47', 'TMEM5', 'TMEM50A', 'TMEM50B', 'TMEM51', 'TMEM51_AS1', 'TMEM52', 'TMEM52B', 'TMEM53', 'TMEM54', 'TMEM55A', 'TMEM55B', 'TMEM56_RP11_57H12_6', 'TMEM57', 'TMEM59', 'TMEM59L', 'TMEM60', 'TMEM61', 'TMEM62', 'TMEM63A', 'TMEM63B', 'TMEM63C', 'TMEM63C_RP11_463C8_4', 'TMEM64', 'TMEM65', 'TMEM66', 'TMEM67', 'TMEM68', 'TMEM69', 'TMEM70', 'TMEM71', 'TMEM72', 'TMEM72_AS1', 'TMEM74', 'TMEM74B', 'TMEM75', 'TMEM79', 'TMEM80', 'TMEM82', 'TMEM86A', 'TMEM86B', 'TMEM87A', 'TMEM87B', 'TMEM88', 'TMEM88B', 'TMEM89', 'TMEM8A', 'TMEM8B', 'TMEM8C', 'TMEM9', 'TMEM91', 'TMEM91_CTC_435M10_3', 'TMEM92', 'TMEM95', 'TMEM97', 'TMEM98', 'TMEM99', 'TMEM9B', 'TMF1', 'TMIE', 'TMIGD1', 'TMIGD2', 'TMLHE_AMDP1_TRPC6P_TCEB1P24_DDX11L16_WASIR1', 'TMOD1', 'TMOD2', 'TMOD3', 'TMPO', 'TMPO_AS1', 'TMPPE', 'TMPRSS11A', 'TMPRSS11B', 'TMPRSS11D', 'TMPRSS11E', 'TMPRSS11F', 'TMPRSS11F_Y_RNA', 'TMPRSS12', 'TMPRSS13', 'TMPRSS15', 'TMPRSS2', 'TMPRSS2_Y_RNA', 'TMPRSS3', 'TMPRSS4', 'TMPRSS4_AS1', 'TMPRSS5', 'TMPRSS6', 'TMPRSS7', 'TMPRSS9', 'TMSB10', 'TMSB15A_AMDP1_TRPC6P_TCEB1P24_DDX11L16_WASIR1', 'TMSB4X', 'TMSB4XP2', 'TMSB4Y', 'TMTC1', 'TMTC2', 'TMTC3', 'TMTC4', 'TMUB1', 'TMUB2', 'TMX1', 'TMX2', 'TMX2_TMX2_CTNND1', 'TMX3', 'TMX4', 'TNC', 'TNF', 'TNFAIP1', 'TNFAIP2', 'TNFAIP3', 'TNFAIP6', 'TNFAIP8', 'TNFAIP8L2', 'TNFAIP8L3', 'TNFRSF10A', 'TNFRSF10B', 'TNFRSF10C', 'TNFRSF10D', 'TNFRSF11A', 'TNFRSF11B', 'TNFRSF12A', 'TNFRSF13B', 'TNFRSF13B_TBC1D27', 'TNFRSF13C', 'TNFRSF14', 'TNFRSF17', 'TNFRSF18', 'TNFRSF19', 'TNFRSF1A', 'TNFRSF1B', 'TNFRSF21', 'TNFRSF25', 'TNFRSF25_PLEKHG5', 'TNFRSF4', 'TNFRSF8', 'TNFRSF9', 'TNFRSF9_Y_RNA', 'TNFSF10', 'TNFSF11', 'TNFSF12', 'TNFSF12_TNFSF12_TNFSF13', 'TNFSF13', 'TNFSF13_TNFSF12_TNFSF12_TNFSF13', 'TNFSF13B', 'TNFSF14', 'TNFSF15', 'TNFSF18', 'TNFSF4', 'TNFSF8', 'TNFSF9', 'TNIK', 'TNIP1', 'TNIP2', 'TNIP3', 'TNK1', 'TNK2', 'TNK2_AS1', 'TNKS', 'TNKS1BP1', 'TNKS2', 'TNMD_IL9R_SPRY3_VAMP7_WASH6P_DPH3P2_AJ271736_10', 'TNN', 'TNNC1', 'TNNC2', 'TNNI1', 'TNNI2', 'TNNI3', 'TNNI3_CTD_2587H24_4', 'TNNT1', 'TNNT2', 'TNNT3', 'TNP1', 'TNP2', 'TNPO1', 'TNPO2', 'TNPO3', 'TNR', 'TNRC18', 'TNRC18_Y_RNA', 'TNRC6A', 'TNRC6B', 'TNRC6C', 'TNRC6C_AC021593_1', 'TNS1', 'TNS1_AC009469_1', 'TNS3', 'TNS4', 'TNXA', 'TNXB', 'TNXB_ATF6B', 'TOB1', 'TOB2', 'TOB2P1', 'TOE1', 'TOLLIP', 'TOM1', 'TOM1L1', 'TOM1L2', 'TOMM20', 'TOMM20L', 'TOMM22', 'TOMM34', 'TOMM40', 'TOMM40L', 'TOMM40L_MIR5187', 'TOMM5', 'TOMM5_RP11_613M10_8', 'TOMM7', 'TOMM70A', 'TONSL', 'TOP1', 'TOP1MT', 'TOP2A', 'TOP2B', 'TOP3A', 'TOP3B', 'TOPAZ1', 'TOPBP1', 'TOPORS', 'TOPORS_AS1', 'TOR1A', 'TOR1AIP1', 'TOR1AIP2', 'TOR1B', 'TOR2A', 'TOR3A', 'TOR4A', 'TOX', 'TOX2', 'TOX3', 'TOX4', 'TP53', 'TP53BP1', 'TP53BP2', 'TP53I11', 'TP53I13', 'TP53I3', 'TP53INP1', 'TP53INP2', 'TP53RK', 'TP53TG1', 'TP53TG3', 'TP53TG3B', 'TP53TG3C', 'TP53TG3D', 'TP53TG5', 'TP63', 'TP73', 'TP73_AS1', 'TPBG', 'TPCN1', 'TPCN2', 'TPCN2_snoU13', 'TPD52', 'TPD52L1', 'TPD52L2', 'TPD52L3', 'TPGS1', 'TPGS2', 'TPH1', 'TPH1_RP1_59M18_2', 'TPH2', 'TPI1', 'TPK1', 'TPM1', 'TPM2', 'TPM3', 'TPM3_RN7SL431P', 'TPM3P9_ZNF761', 'TPM4', 'TPMT', 'TPO', 'TPP1', 'TPP2', 'TPPP', 'TPPP2', 'TPPP3', 'TPR', 'TPRA1', 'TPRG1', 'TPRG1L', 'TPRKB', 'TPRN', 'TPRX1', 'TPRXL', 'TPRXL_FGD5P1', 'TPSAB1', 'TPSB2', 'TPSD1', 'TPSD1_RP11_616M22_5', 'TPSG1', 'TPST1', 'TPST2', 'TPT1', 'TPT1_SNORA31', 'TPT1_AS1', 'TPTE', 'TPTE_BAGE2', 'TPTE2', 'TPTE2P1', 'TPTE2P2', 'TPTE2P2_RP11_248G5_8', 'TPTE2P3', 'TPTE2P3_RP11_78J21_4', 'TPTE2P5', 'TPTE2P6_RP11_556N21_1', 'TPTEP1', 'TPX2', 'TRA2A', 'TRA2B', 'TRABD', 'TRABD2A', 'TRAC', 'TRADD', 'TRAF1', 'TRAF2', 'TRAF3', 'TRAF3IP1', 'TRAF3IP2', 'TRAF3IP2_AS1', 'TRAF3IP3', 'TRAF4', 'TRAF5', 'TRAF6', 'TRAF7', 'TRAFD1', 'TRAIP', 'TRAJ11', 'TRAJ13', 'TRAJ15', 'TRAJ18', 'TRAJ20', 'TRAJ21', 'TRAJ23', 'TRAJ27', 'TRAJ28', 'TRAJ29', 'TRAJ30', 'TRAJ32', 'TRAJ35', 'TRAJ36', 'TRAJ37', 'TRAJ4', 'TRAJ43', 'TRAJ45', 'TRAJ46', 'TRAJ48', 'TRAJ49', 'TRAJ50', 'TRAJ52', 'TRAJ53', 'TRAJ54', 'TRAJ56', 'TRAJ57', 'TRAJ58', 'TRAJ8', 'TRAK1', 'TRAK2', 'TRAM1', 'TRAM2', 'TRAM2_AS1', 'TRANK1', 'TRAP1', 'TRAPPC1', 'TRAPPC10', 'TRAPPC11', 'TRAPPC12', 'TRAPPC13', 'TRAPPC13_CTC_534A2_2', 'TRAPPC2', 'TRAPPC2L', 'TRAPPC2P1', 'TRAPPC3', 'TRAPPC3L', 'TRAPPC4', 'TRAPPC5', 'TRAPPC5_CTD_3214H19_16', 'TRAPPC6A', 'TRAPPC6B', 'TRAPPC8', 'TRAPPC9', 'TRAT1', 'TRAV1_1', 'TRAV1_2', 'TRAV10', 'TRAV12_1', 'TRAV12_2', 'TRAV12_3', 'TRAV13_1', 'TRAV13_2', 'TRAV14DV4', 'TRAV16', 'TRAV17', 'TRAV18', 'TRAV19', 'TRAV2', 'TRAV20', 'TRAV21', 'TRAV22', 'TRAV23DV6', 'TRAV24', 'TRAV25', 'TRAV26_1', 'TRAV26_2', 'TRAV27', 'TRAV29DV5', 'TRAV3', 'TRAV30', 'TRAV34', 'TRAV35', 'TRAV36DV7', 'TRAV38_1', 'TRAV38_2DV8', 'TRAV39', 'TRAV4', 'TRAV40', 'TRAV41', 'TRAV5', 'TRAV6', 'TRAV8_1', 'TRAV8_2', 'TRAV8_3', 'TRAV8_4', 'TRAV8_6', 'TRAV9_2', 'TRBC2', 'TRBJ2_1', 'TRBJ2_3', 'TRBJ2_6', 'TRBV10_1', 'TRBV10_2', 'TRBV11_1', 'TRBV11_2', 'TRBV19', 'TRBV2', 'TRBV20_1', 'TRBV21_1', 'TRBV24_1', 'TRBV25_1', 'TRBV27', 'TRBV28', 'TRBV29_1', 'TRBV3_1', 'TRBV30', 'TRBV4_1', 'TRBV4_2', 'TRBV5_1', 'TRBV5_4', 'TRBV5_5', 'TRBV5_6', 'TRBV6_1', 'TRBV6_6', 'TRBV6_7', 'TRBV6_9', 'TRBV7_1', 'TRBV7_3', 'TRBV7_6', 'TRBV7_7', 'TRBV7_8', 'TRDD3', 'TRDJ1', 'TRDJ2', 'TRDJ3', 'TRDJ4', 'TRDMT1', 'TRDN', 'TRDV1', 'TRDV2', 'TRDV3', 'TREH', 'TREM1', 'TREM2', 'TREML1', 'TREML2', 'TREML3P', 'TREML4', 'TREML5P', 'TRERF1', 'TREX1_ATRIP', 'TREX2_AMDP1_TRPC6P_TCEB1P24_DDX11L16_WASIR1', 'TREX2_HAUS7_AMDP1_TRPC6P_TCEB1P24_DDX11L16_WASIR1', 'TRGC1', 'TRGC2', 'TRGJP', 'TRGJP1', 'TRGJP2', 'TRGV10', 'TRGV11', 'TRGV2', 'TRGV3', 'TRGV7', 'TRGV8', 'TRGV9', 'TRH', 'TRHDE', 'TRHDE_AS1', 'TRIAP1', 'TRIB1', 'TRIB2', 'TRIB3', 'TRIL_AC005013_1', 'TRIM10', 'TRIM11', 'TRIM13', 'TRIM13_KCNRG', 'TRIM14', 'TRIM15', 'TRIM16', 'TRIM16_RP11_385D13_1', 'TRIM16L', 'TRIM16L_RP11_815I9_5', 'TRIM17', 'TRIM2', 'TRIM21', 'TRIM22', 'TRIM23', 'TRIM24', 'TRIM25', 'TRIM26', 'TRIM27', 'TRIM28', 'TRIM29', 'TRIM3', 'TRIM31', 'TRIM32', 'TRIM33', 'TRIM34', 'TRIM35', 'TRIM36', 'TRIM37', 'TRIM38', 'TRIM39', 'TRIM39_TRIM39_RPP21', 'TRIM4', 'TRIM4_OR2AE1', 'TRIM40', 'TRIM41', 'TRIM42', 'TRIM43', 'TRIM44', 'TRIM45', 'TRIM46', 'TRIM47', 'TRIM48', 'TRIM49', 'TRIM49C', 'TRIM49D1', 'TRIM49D2P', 'TRIM5', 'TRIM50', 'TRIM51', 'TRIM51HP', 'TRIM52', 'TRIM52_AS1', 'TRIM52_AS1_CTC_338M12_4', 'TRIM53AP', 'TRIM53BP', 'TRIM54', 'TRIM55', 'TRIM56', 'TRIM58', 'TRIM58_OR2W3', 'TRIM59_RP11_432B6_3', 'TRIM6', 'TRIM6_TRIM6_TRIM34', 'TRIM6_TRIM34_TRIM34', 'TRIM60', 'TRIM61', 'TRIM61_RP11_366M4_11', 'TRIM62', 'TRIM63', 'TRIM64', 'TRIM65', 'TRIM66', 'TRIM67', 'TRIM68', 'TRIM69', 'TRIM7', 'TRIM71', 'TRIM72', 'TRIM73', 'TRIM74', 'TRIM77', 'TRIM8', 'TRIM9', 'TRIML1', 'TRIML2', 'TRIO', 'TRIOBP', 'TRIOBP_NOL12', 'TRIP10', 'TRIP11', 'TRIP12', 'TRIP13', 'TRIP4', 'TRIP6', 'TRIQK', 'TRIT1', 'TRMT1', 'TRMT10A', 'TRMT10B', 'TRMT10C', 'TRMT11', 'TRMT112', 'TRMT13', 'TRMT1L', 'TRMT2A', 'TRMT2B_AMDP1_TRPC6P_TCEB1P24_DDX11L16_WASIR1', 'TRMT44', 'TRMT5', 'TRMT6', 'TRMT61A', 'TRMT61B', 'TRMU', 'TRNAU1AP', 'TRNP1', 'TRNT1', 'TRO', 'TROAP', 'TROVE2', 'TRPA1', 'TRPC1', 'TRPC2', 'TRPC3', 'TRPC3_Y_RNA', 'TRPC4', 'TRPC4AP', 'TRPC5_AMDP1_TRPC6P_TCEB1P24_DDX11L16_WASIR1', 'TRPC6', 'TRPC6_Y_RNA', 'TRPC7', 'TRPM1', 'TRPM2', 'TRPM2_snoZ6', 'TRPM3', 'TRPM4', 'TRPM5', 'TRPM6', 'TRPM7', 'TRPM8', 'TRPS1', 'TRPT1', 'TRPV1', 'TRPV1_SHPK', 'TRPV2', 'TRPV2_AC093484_4', 'TRPV3', 'TRPV3_SPATA22', 'TRPV4', 'TRPV5', 'TRPV6', 'TRRAP', 'TRRAP_AC004893_11', 'TRUB1', 'TRUB2', 'TSACC', 'TSC1', 'TSC2', 'TSC22D1', 'TSC22D2', 'TSC22D3_AMDP1_TRPC6P_TCEB1P24_DDX11L16_WASIR1', 'TSC22D4', 'TSC22D4_C7orf61', 'TSEN15', 'TSEN2', 'TSEN34', 'TSEN54', 'TSFM', 'TSFM_RP11_571M6_15', 'TSG101', 'TSGA10', 'TSGA10IP', 'TSGA13', 'TSGA13_COPG2', 'TSHB', 'TSHR', 'TSHZ1', 'TSHZ2', 'TSHZ3', 'TSKS', 'TSKU', 'TSLP', 'TSN', 'TSNARE1', 'TSNAX_TSNAX_DISC1', 'TSNAX_DISC1', 'TSNAXIP1', 'TSPAN1', 'TSPAN10', 'TSPAN11', 'TSPAN12', 'TSPAN13', 'TSPAN14', 'TSPAN15', 'TSPAN16', 'TSPAN17', 'TSPAN18', 'TSPAN19', 'TSPAN2', 'TSPAN3', 'TSPAN31', 'TSPAN32', 'TSPAN33', 'TSPAN4', 'TSPAN5', 'TSPAN6_AMDP1_TRPC6P_TCEB1P24_DDX11L16_WASIR1', 'TSPAN7', 'TSPAN7_TM4SF2', 'TSPAN8', 'TSPAN9', 'TSPEAR', 'TSPO', 'TSPO2', 'TSPY1', 'TSPY10', 'TSPY2', 'TSPY26P', 'TSPY3', 'TSPY3_TSPY1', 'TSPY4', 'TSPY6P', 'TSPY8', 'TSPY8_TSPY7P', 'TSPYL6', 'TSR1', 'TSR2', 'TSR3', 'TSSC1', 'TSSC2', 'TSSC4', 'TSSK1B', 'TSSK2', 'TSSK3', 'TSSK4', 'TSSK6', 'TST', 'TSTA3', 'TSTD1', 'TSTD1_F11R', 'TSTD2', 'TSTD3', 'TTBK1', 'TTBK2', 'TTC1', 'TTC12', 'TTC13', 'TTC14', 'TTC16', 'TTC17', 'TTC18', 'TTC19', 'TTC21A', 'TTC21B', 'TTC22', 'TTC23', 'TTC23L', 'TTC24', 'TTC25', 'TTC26', 'TTC27', 'TTC28', 'TTC28_AS1', 'TTC29', 'TTC3', 'TTC31', 'TTC32', 'TTC33', 'TTC36', 'TTC37', 'TTC38', 'TTC39A', 'TTC39B', 'TTC39C', 'TTC4_MROH7_TTC4', 'TTC40', 'TTC5', 'TTC6', 'TTC7A', 'TTC7B', 'TTC8', 'TTC9', 'TTC9B', 'TTC9C', 'TTF1', 'TTF2', 'TTI1', 'TTI1_Y_RNA', 'TTI2', 'TTI2_FUT10', 'TTK', 'TTL', 'TTLL1', 'TTLL10', 'TTLL10_AS1', 'TTLL11', 'TTLL11_IT1', 'TTLL12', 'TTLL13', 'TTLL13_RP11_697E2_6', 'TTLL2', 'TTLL3', 'TTLL4', 'TTLL5', 'TTLL5_IFT43', 'TTLL6', 'TTLL7', 'TTLL9', 'TTN', 'TTN_AS1', 'TTPA', 'TTPAL', 'TTR', 'TTTY1', 'TTTY10', 'TTTY11', 'TTTY12', 'TTTY13', 'TTTY14', 'TTTY15', 'TTTY16', 'TTTY17A', 'TTTY17B', 'TTTY17C', 'TTTY18', 'TTTY19', 'TTTY1B', 'TTTY2', 'TTTY20', 'TTTY21', 'TTTY21B', 'TTTY22', 'TTTY23', 'TTTY23B', 'TTTY23B_AC006335_6_AC006335_2', 'TTTY2B', 'TTTY3', 'TTTY4', 'TTTY4B', 'TTTY4C', 'TTTY5', 'TTTY6', 'TTTY6B', 'TTTY7', 'TTTY7B', 'TTTY8', 'TTTY8B', 'TTTY9B', 'TTYH1', 'TTYH2', 'TTYH3', 'TUB', 'TUBA1A', 'TUBA1B', 'TUBA1C', 'TUBA3C', 'TUBA3D', 'TUBA3E', 'TUBA3FP', 'TUBA4A', 'TUBA4B', 'TUBAL3', 'TUBB', 'TUBB1', 'TUBB2A', 'TUBB2B', 'TUBB3', 'TUBB4A', 'TUBB4B', 'TUBB6', 'TUBB7P', 'TUBB8', 'TUBB8P7', 'TUBBP5', 'TUBD1', 'TUBE1', 'TUBG1', 'TUBG2', 'TUBGCP2', 'TUBGCP3', 'TUBGCP4', 'TUBGCP5', 'TUBGCP6', 'TUFM', 'TUFT1', 'TUFT1_RP11_74C1_4', 'TUG1', 'TULP1', 'TULP2', 'TULP3', 'TULP3_RHNO1', 'TULP4', 'TUSC2', 'TUSC3', 'TUSC5', 'TUSC7', 'TUT1_MIR3654', 'TVP23A', 'TVP23B', 'TVP23C_CDRT4_TVP23C_CDRT4', 'TVP23C_TVP23C_CDRT4', 'TWF1', 'TWF2_TLR9', 'TWIST1', 'TWIST2', 'TWISTNB', 'TWSG1', 'TXK', 'TXLNA', 'TXLNB', 'TXLNB_RP1_225E12_3', 'TXLNG', 'TXLNG2P', 'TXN', 'TXN2', 'TXNDC11', 'TXNDC12', 'TXNDC15', 'TXNDC16', 'TXNDC17', 'TXNDC2', 'TXNDC5_BLOC1S5_TXNDC5', 'TXNDC8', 'TXNDC9', 'TXNIP', 'TXNL1', 'TXNL4A', 'TXNL4B', 'TXNRD1', 'TXNRD2', 'TXNRD3', 'TXNRD3_TXNRD3NB', 'TYK2', 'TYMP', 'TYMP_ODF3B', 'TYMP_SCO2', 'TYMS', 'TYR', 'TYRO3', 'TYROBP', 'TYRP1', 'TYSND1', 'TYW1', 'TYW1B', 'TYW3', 'TYW5', 'U2AF1', 'U2AF1L4_AD000671_6', 'U2AF2', 'U2SURP', 'U2SURP_RP11_372E1_6', 'U3', 'U3_REPIN1', 'U3_RP11_795J1_1', 'U3_RP11_804N13_1', 'U3_TUBA4B', 'U66059_29', 'U73166_2', 'UACA', 'UAP1', 'UAP1L1', 'UBA1', 'UBA2', 'UBA3', 'UBA5', 'UBA52', 'UBA6', 'UBA6_AS1', 'UBA7', 'UBA7_MIR5193', 'UBAC1', 'UBAC2', 'UBAC2_AS1', 'UBALD1', 'UBALD2', 'UBAP1', 'UBAP1L', 'UBAP2', 'UBAP2L', 'UBASH3A', 'UBASH3B', 'UBB', 'UBBP4', 'UBC', 'UBD', 'UBE2B', 'UBE2C', 'UBE2D1', 'UBE2D2', 'UBE2D3', 'UBE2D4', 'UBE2E1', 'UBE2E2', 'UBE2E3', 'UBE2F', 'UBE2F_UBE2F_SCLY', 'UBE2F_SCLY', 'UBE2G1', 'UBE2G2', 'UBE2H', 'UBE2I', 'UBE2J1', 'UBE2J1_Y_RNA', 'UBE2J2', 'UBE2K', 'UBE2L3', 'UBE2L6', 'UBE2M', 'UBE2MP1', 'UBE2N', 'UBE2O', 'UBE2Q1', 'UBE2Q2', 'UBE2Q2P1', 'UBE2Q2P2', 'UBE2Q2P2_RP13_608F4_8', 'UBE2Q2P3', 'UBE2QL1', 'UBE2R2', 'UBE2S', 'UBE2T', 'UBE2U', 'UBE2V1', 'UBE2V1_TMEM189_TMEM189_UBE2V1', 'UBE2V2', 'UBE2W', 'UBE2W_RP11_463D19_2', 'UBE2Z', 'UBE3A', 'UBE3B', 'UBE3C', 'UBE3D', 'UBE4A', 'UBE4B', 'UBFD1', 'UBIAD1', 'UBL3', 'UBL4A_AMDP1_TRPC6P_TCEB1P24_DDX11L16_WASIR1', 'UBL5', 'UBL7', 'UBL7_AS1', 'UBLCP1', 'UBN1', 'UBN1_snoU13', 'UBN2', 'UBOX5', 'UBOX5_AS1', 'UBP1', 'UBQLN1', 'UBQLN3', 'UBQLN4', 'UBR1', 'UBR2', 'UBR3', 'UBR4', 'UBR4_RP5_1126H10_2', 'UBR5', 'UBR7', 'UBR7_RP11_371E8_4', 'UBTD1', 'UBTD2', 'UBTF', 'UBXN1', 'UBXN10', 'UBXN11', 'UBXN2A', 'UBXN2B', 'UBXN4', 'UBXN6', 'UBXN7', 'UBXN7_AS1', 'UBXN8', 'UCA1', 'UCHL1', 'UCHL3', 'UCHL3_RP11_29G8_3', 'UCHL5', 'UCK1', 'UCK2', 'UCKL1', 'UCMA', 'UCN', 'UCN2', 'UCN3', 'UCP1', 'UCP2', 'UCP3', 'UEVLD', 'UFC1', 'UFD1L', 'UFL1', 'UFM1', 'UFSP2', 'UGCG', 'UGDH', 'UGDH_AS1', 'UGGT1', 'UGGT1_snoU13', 'UGGT2', 'UGP2', 'UGT1A1', 'UGT1A1_UGT1A5', 'UGT1A10', 'UGT1A2P', 'UGT1A4', 'UGT1A6', 'UGT1A6_UGT1A1_UGT1A3', 'UGT1A6_UGT1A10_UGT1A1_UGT1A4', 'UGT1A6_UGT1A7', 'UGT1A7', 'UGT1A8_UGT1A1', 'UGT1A8_UGT1A6_UGT1A9_UGT1A10_UGT1A1_UGT1A4_UGT1A7_UGT1A3_UGT1A5', 'UGT1A9_UGT1A1', 'UGT2A1', 'UGT2A1_UGT2A2', 'UGT2A3', 'UGT2B10', 'UGT2B11', 'UGT2B15', 'UGT2B28', 'UGT2B4', 'UGT2B7', 'UGT3A1', 'UGT3A2', 'UGT8', 'UHMK1', 'UHRF1', 'UHRF1BP1', 'UHRF1BP1L', 'UHRF2', 'UIMC1', 'ULBP1', 'ULBP2', 'ULBP3', 'ULK1', 'ULK2', 'ULK3', 'ULK4', 'ULK4P1_RP13_395E19_3', 'ULK4P2', 'ULK4P3', 'UMOD', 'UMODL1', 'UMPS', 'UNC119', 'UNC119B', 'UNC13A', 'UNC13B', 'UNC13C', 'UNC13D', 'UNC45A', 'UNC45B', 'UNC50', 'UNC5A', 'UNC5B', 'UNC5C', 'UNC5CL', 'UNC5CL_OARD1', 'UNC5D', 'UNC79', 'UNC80', 'UNC93A', 'UNC93B1', 'UNCX', 'UNG', 'UNK', 'UNKL', 'UOX', 'UPB1', 'UPF1', 'UPF2', 'UPF3A', 'UPF3B_AMDP1_TRPC6P_TCEB1P24_DDX11L16_WASIR1', 'UPK1A', 'UPK1A_AS1', 'UPK1B', 'UPK1B_RP11_484M3_5', 'UPK2', 'UPK3A', 'UPK3B', 'UPK3B_DTX2P1_DTX2P1_UPK3BP1_PMS2P11', 'UPK3BL_POLR2J2_RP11_514P8_6', 'UPK3BL_RP11_514P8_6', 'UPP1', 'UPP2', 'UQCC1', 'UQCC2', 'UQCC2_SBP1', 'UQCR10', 'UQCR11', 'UQCRB', 'UQCRBP1', 'UQCRC1', 'UQCRC2', 'UQCRFS1', 'UQCRH', 'UQCRQ', 'URAD', 'URAHP', 'URB1', 'URB2', 'URGCP', 'URGCP_URGCP_MRPS24', 'URI1', 'URM1', 'UROC1', 'UROD', 'UROS', 'USB1', 'USE1', 'USF1', 'USF2', 'USH1C', 'USH1G', 'USH2A', 'USHBP1', 'USHBP1_AC010646_3', 'USMG5', 'USO1', 'USP1', 'USP10', 'USP11', 'USP12', 'USP13', 'USP14', 'USP15', 'USP16', 'USP17L2', 'USP18', 'USP19', 'USP2', 'USP2_AS1', 'USP20', 'USP21', 'USP22', 'USP24', 'USP25', 'USP26_AMDP1_TRPC6P_TCEB1P24_DDX11L16_WASIR1', 'USP27X_AS1', 'USP28', 'USP29', 'USP3', 'USP3_AS1', 'USP30', 'USP31', 'USP32', 'USP32P1', 'USP32P2_FAM106A', 'USP32P3', 'USP33', 'USP34', 'USP35', 'USP36', 'USP37', 'USP38', 'USP39', 'USP4', 'USP4_C3orf62', 'USP40', 'USP41', 'USP42', 'USP43', 'USP44', 'USP45', 'USP46', 'USP47', 'USP48', 'USP49', 'USP5', 'USP50', 'USP51', 'USP53', 'USP54', 'USP54_Y_RNA', 'USP6', 'USP6NL', 'USP7', 'USP8', 'USP9X', 'USP9Y', 'USPL1', 'UST', 'UTF1', 'UTP11L', 'UTP14A_IL9R_SPRY3_VAMP7_WASH6P_DPH3P2_AJ271736_10', 'UTP15', 'UTP18', 'UTP18_snoU13', 'UTP20', 'UTP20_snoU13', 'UTP23', 'UTP6', 'UTRN', 'UTS2', 'UTS2B', 'UTY', 'UVRAG', 'UVSSA', 'UXS1', 'UXT', 'VAC14', 'VAC14_AS1', 'VAMP1', 'VAMP2', 'VAMP2_RP11_599B13_6', 'VAMP3', 'VAMP4', 'VAMP5', 'VAMP8', 'VANGL1', 'VANGL2', 'VAPA', 'VAPB', 'VARS', 'VARS2', 'VARS2_GTF2H4', 'VASH1', 'VASH1_RP11_488C13_7', 'VASH2', 'VASN', 'VASP', 'VAT1', 'VAT1L', 'VAV1', 'VAV2', 'VAV3', 'VAX1', 'VAX2', 'VCAM1', 'VCAN', 'VCL', 'VCP', 'VCPIP1', 'VCPKMT', 'VCX', 'VCX2', 'VCX3A', 'VCX3B', 'VCY', 'VDAC1', 'VDAC2', 'VDAC3', 'VDR', 'VEGFA', 'VEGFB', 'VEGFC', 'VENTX', 'VEPH1', 'VEZF1', 'VEZT', 'VGF', 'VGLL1_IL9R_SPRY3_VAMP7_WASH6P_DPH3P2_AJ271736_10', 'VGLL2', 'VGLL3', 'VGLL4', 'VGLL4_AC090939_1', 'VHL', 'VIL1', 'VILL', 'VIM', 'VIM_AS1', 'VIMP', 'VIP', 'VIPAS39', 'VIPR1', 'VIPR2', 'VIT', 'VKORC1', 'VKORC1_RP11_196G11_1', 'VKORC1L1', 'VLDLR', 'VMAC_AC104532_2', 'VMO1', 'VMP1', 'VN1R2', 'VN1R3', 'VN1R5', 'VNN1', 'VNN2', 'VNN3', 'VOPP1', 'VPRBP', 'VPREB1', 'VPREB3', 'VPS11', 'VPS13A', 'VPS13B', 'VPS13C', 'VPS13D', 'VPS16', 'VPS18', 'VPS25', 'VPS26A', 'VPS26B', 'VPS28', 'VPS29', 'VPS33A', 'VPS33A_RP11_512M8_5', 'VPS33B', 'VPS35', 'VPS36', 'VPS37A', 'VPS37B', 'VPS37C', 'VPS37D', 'VPS39', 'VPS41', 'VPS41_Y_RNA', 'VPS45', 'VPS4A', 'VPS4A_RP11_343C2_11', 'VPS4B', 'VPS51', 'VPS52', 'VPS53', 'VPS54', 'VPS72', 'VPS72_TMOD4', 'VPS8', 'VPS9D1', 'VPS9D1_AS1', 'VRK1', 'VRK2', 'VRK3', 'VRTN', 'VSIG10', 'VSIG10L', 'VSIG2', 'VSIG2_ESAM', 'VSIG4_AMDP1_TRPC6P_TCEB1P24_DDX11L16_WASIR1', 'VSIG8', 'VSIG8_RP11_190A12_7', 'VSNL1', 'VSTM1', 'VSTM2A', 'VSTM2B', 'VSTM2L', 'VSTM4', 'VSTM5', 'VSX1', 'VSX2', 'VTA1', 'VTCN1', 'VTI1A', 'VTI1B', 'VTI1B_RP11_1012A1_4', 'VTN', 'VTN_CTB_96E2_2', 'VTRNA1_1', 'VTRNA1_2', 'VTRNA1_3', 'VWA1', 'VWA2', 'VWA3A', 'VWA3B', 'VWA5A', 'VWA5B1', 'VWA5B2', 'VWA7', 'VWA8', 'VWA9', 'VWC2', 'VWC2L', 'VWCE', 'VWDE', 'VWF', 'WAC', 'WAC_AS1', 'WAPAL', 'WARS', 'WARS2', 'WAS', 'WASF1', 'WASF2', 'WASF3', 'WASH2P', 'WASH3P', 'WASH4P', 'WASH4P_Z84812_4', 'WASH5P', 'WASH6P_AJ271736_10', 'WASH7P', 'WASL', 'WBP1_INO80B', 'WBP11', 'WBP1L', 'WBP2', 'WBP2NL', 'WBP4', 'WBSCR16', 'WBSCR17', 'WBSCR22', 'WBSCR27', 'WBSCR28', 'WDFY1', 'WDFY2', 'WDFY3', 'WDFY3_AS2', 'WDFY4', 'WDHD1', 'WDPCP', 'WDR1', 'WDR11', 'WDR11_AS1', 'WDR12', 'WDR13', 'WDR16', 'WDR17', 'WDR18', 'WDR19', 'WDR20', 'WDR24', 'WDR25', 'WDR26', 'WDR27', 'WDR3', 'WDR31', 'WDR33', 'WDR34', 'WDR35', 'WDR36', 'WDR37', 'WDR38', 'WDR4', 'WDR41', 'WDR43', 'WDR45', 'WDR45_AF196779_12', 'WDR45B', 'WDR46', 'WDR47', 'WDR48', 'WDR49', 'WDR5', 'WDR52', 'WDR53', 'WDR54', 'WDR55', 'WDR59', 'WDR5B', 'WDR6', 'WDR60', 'WDR61', 'WDR62', 'WDR63', 'WDR64', 'WDR65', 'WDR66', 'WDR66_RP11_87C12_2', 'WDR7', 'WDR7_WDR7_UT1', 'WDR70', 'WDR72', 'WDR73', 'WDR74', 'WDR74_RNU2_2P', 'WDR75', 'WDR76', 'WDR77', 'WDR78', 'WDR81', 'WDR82', 'WDR83', 'WDR83OS', 'WDR83OS_CTD_2192J16_24', 'WDR86', 'WDR86_AS1', 'WDR87', 'WDR88', 'WDR89', 'WDR90', 'WDR91', 'WDR92', 'WDR92_RP11_474G23_1', 'WDR93', 'WDR96', 'WDSUB1', 'WDTC1', 'WDYHV1', 'WEE1', 'WEE2']",
     "output_type": "error",
     "traceback": [
      "\u001b[31m---------------------------------------------------------------------------\u001b[39m",
      "\u001b[31mValueError\u001b[39m                                Traceback (most recent call last)",
      "\u001b[36mCell\u001b[39m\u001b[36m \u001b[39m\u001b[32mIn[17]\u001b[39m\u001b[32m, line 58\u001b[39m\n\u001b[32m     56\u001b[39m     \u001b[38;5;28;01mif\u001b[39;00m i % \u001b[32m10\u001b[39m == \u001b[32m0\u001b[39m:\n\u001b[32m     57\u001b[39m         chk_path = os.path.join(EXPORT_DIR, \u001b[33mf\u001b[39m\u001b[33m\"\u001b[39m\u001b[33mcheckpoint_\u001b[39m\u001b[38;5;132;01m{\u001b[39;00mi\u001b[38;5;132;01m}\u001b[39;00m\u001b[33m.parquet\u001b[39m\u001b[33m\"\u001b[39m)\n\u001b[32m---> \u001b[39m\u001b[32m58\u001b[39m         \u001b[43mbase\u001b[49m\u001b[43m.\u001b[49m\u001b[43mto_parquet\u001b[49m\u001b[43m(\u001b[49m\u001b[43mchk_path\u001b[49m\u001b[43m)\u001b[49m\n\u001b[32m     59\u001b[39m         \u001b[38;5;28mprint\u001b[39m(\u001b[33mf\u001b[39m\u001b[33m\"\u001b[39m\u001b[33m💾 Checkpoint saved (\u001b[39m\u001b[38;5;132;01m{\u001b[39;00mbase.shape\u001b[38;5;132;01m}\u001b[39;00m\u001b[33m)\u001b[39m\u001b[33m\"\u001b[39m)\n\u001b[32m     61\u001b[39m \u001b[38;5;66;03m# Final cleanup of column names again\u001b[39;00m\n",
      "\u001b[36mFile \u001b[39m\u001b[32m/Library/Frameworks/Python.framework/Versions/3.12/lib/python3.12/site-packages/pandas/util/_decorators.py:333\u001b[39m, in \u001b[36mdeprecate_nonkeyword_arguments.<locals>.decorate.<locals>.wrapper\u001b[39m\u001b[34m(*args, **kwargs)\u001b[39m\n\u001b[32m    327\u001b[39m \u001b[38;5;28;01mif\u001b[39;00m \u001b[38;5;28mlen\u001b[39m(args) > num_allow_args:\n\u001b[32m    328\u001b[39m     warnings.warn(\n\u001b[32m    329\u001b[39m         msg.format(arguments=_format_argument_list(allow_args)),\n\u001b[32m    330\u001b[39m         \u001b[38;5;167;01mFutureWarning\u001b[39;00m,\n\u001b[32m    331\u001b[39m         stacklevel=find_stack_level(),\n\u001b[32m    332\u001b[39m     )\n\u001b[32m--> \u001b[39m\u001b[32m333\u001b[39m \u001b[38;5;28;01mreturn\u001b[39;00m \u001b[43mfunc\u001b[49m\u001b[43m(\u001b[49m\u001b[43m*\u001b[49m\u001b[43margs\u001b[49m\u001b[43m,\u001b[49m\u001b[43m \u001b[49m\u001b[43m*\u001b[49m\u001b[43m*\u001b[49m\u001b[43mkwargs\u001b[49m\u001b[43m)\u001b[49m\n",
      "\u001b[36mFile \u001b[39m\u001b[32m/Library/Frameworks/Python.framework/Versions/3.12/lib/python3.12/site-packages/pandas/core/frame.py:3113\u001b[39m, in \u001b[36mDataFrame.to_parquet\u001b[39m\u001b[34m(self, path, engine, compression, index, partition_cols, storage_options, **kwargs)\u001b[39m\n\u001b[32m   3032\u001b[39m \u001b[38;5;250m\u001b[39m\u001b[33;03m\"\"\"\u001b[39;00m\n\u001b[32m   3033\u001b[39m \u001b[33;03mWrite a DataFrame to the binary parquet format.\u001b[39;00m\n\u001b[32m   3034\u001b[39m \n\u001b[32m   (...)\u001b[39m\u001b[32m   3109\u001b[39m \u001b[33;03m>>> content = f.read()\u001b[39;00m\n\u001b[32m   3110\u001b[39m \u001b[33;03m\"\"\"\u001b[39;00m\n\u001b[32m   3111\u001b[39m \u001b[38;5;28;01mfrom\u001b[39;00m\u001b[38;5;250m \u001b[39m\u001b[34;01mpandas\u001b[39;00m\u001b[34;01m.\u001b[39;00m\u001b[34;01mio\u001b[39;00m\u001b[34;01m.\u001b[39;00m\u001b[34;01mparquet\u001b[39;00m\u001b[38;5;250m \u001b[39m\u001b[38;5;28;01mimport\u001b[39;00m to_parquet\n\u001b[32m-> \u001b[39m\u001b[32m3113\u001b[39m \u001b[38;5;28;01mreturn\u001b[39;00m \u001b[43mto_parquet\u001b[49m\u001b[43m(\u001b[49m\n\u001b[32m   3114\u001b[39m \u001b[43m    \u001b[49m\u001b[38;5;28;43mself\u001b[39;49m\u001b[43m,\u001b[49m\n\u001b[32m   3115\u001b[39m \u001b[43m    \u001b[49m\u001b[43mpath\u001b[49m\u001b[43m,\u001b[49m\n\u001b[32m   3116\u001b[39m \u001b[43m    \u001b[49m\u001b[43mengine\u001b[49m\u001b[43m,\u001b[49m\n\u001b[32m   3117\u001b[39m \u001b[43m    \u001b[49m\u001b[43mcompression\u001b[49m\u001b[43m=\u001b[49m\u001b[43mcompression\u001b[49m\u001b[43m,\u001b[49m\n\u001b[32m   3118\u001b[39m \u001b[43m    \u001b[49m\u001b[43mindex\u001b[49m\u001b[43m=\u001b[49m\u001b[43mindex\u001b[49m\u001b[43m,\u001b[49m\n\u001b[32m   3119\u001b[39m \u001b[43m    \u001b[49m\u001b[43mpartition_cols\u001b[49m\u001b[43m=\u001b[49m\u001b[43mpartition_cols\u001b[49m\u001b[43m,\u001b[49m\n\u001b[32m   3120\u001b[39m \u001b[43m    \u001b[49m\u001b[43mstorage_options\u001b[49m\u001b[43m=\u001b[49m\u001b[43mstorage_options\u001b[49m\u001b[43m,\u001b[49m\n\u001b[32m   3121\u001b[39m \u001b[43m    \u001b[49m\u001b[43m*\u001b[49m\u001b[43m*\u001b[49m\u001b[43mkwargs\u001b[49m\u001b[43m,\u001b[49m\n\u001b[32m   3122\u001b[39m \u001b[43m\u001b[49m\u001b[43m)\u001b[49m\n",
      "\u001b[36mFile \u001b[39m\u001b[32m/Library/Frameworks/Python.framework/Versions/3.12/lib/python3.12/site-packages/pandas/io/parquet.py:480\u001b[39m, in \u001b[36mto_parquet\u001b[39m\u001b[34m(df, path, engine, compression, index, storage_options, partition_cols, filesystem, **kwargs)\u001b[39m\n\u001b[32m    476\u001b[39m impl = get_engine(engine)\n\u001b[32m    478\u001b[39m path_or_buf: FilePath | WriteBuffer[\u001b[38;5;28mbytes\u001b[39m] = io.BytesIO() \u001b[38;5;28;01mif\u001b[39;00m path \u001b[38;5;129;01mis\u001b[39;00m \u001b[38;5;28;01mNone\u001b[39;00m \u001b[38;5;28;01melse\u001b[39;00m path\n\u001b[32m--> \u001b[39m\u001b[32m480\u001b[39m \u001b[43mimpl\u001b[49m\u001b[43m.\u001b[49m\u001b[43mwrite\u001b[49m\u001b[43m(\u001b[49m\n\u001b[32m    481\u001b[39m \u001b[43m    \u001b[49m\u001b[43mdf\u001b[49m\u001b[43m,\u001b[49m\n\u001b[32m    482\u001b[39m \u001b[43m    \u001b[49m\u001b[43mpath_or_buf\u001b[49m\u001b[43m,\u001b[49m\n\u001b[32m    483\u001b[39m \u001b[43m    \u001b[49m\u001b[43mcompression\u001b[49m\u001b[43m=\u001b[49m\u001b[43mcompression\u001b[49m\u001b[43m,\u001b[49m\n\u001b[32m    484\u001b[39m \u001b[43m    \u001b[49m\u001b[43mindex\u001b[49m\u001b[43m=\u001b[49m\u001b[43mindex\u001b[49m\u001b[43m,\u001b[49m\n\u001b[32m    485\u001b[39m \u001b[43m    \u001b[49m\u001b[43mpartition_cols\u001b[49m\u001b[43m=\u001b[49m\u001b[43mpartition_cols\u001b[49m\u001b[43m,\u001b[49m\n\u001b[32m    486\u001b[39m \u001b[43m    \u001b[49m\u001b[43mstorage_options\u001b[49m\u001b[43m=\u001b[49m\u001b[43mstorage_options\u001b[49m\u001b[43m,\u001b[49m\n\u001b[32m    487\u001b[39m \u001b[43m    \u001b[49m\u001b[43mfilesystem\u001b[49m\u001b[43m=\u001b[49m\u001b[43mfilesystem\u001b[49m\u001b[43m,\u001b[49m\n\u001b[32m    488\u001b[39m \u001b[43m    \u001b[49m\u001b[43m*\u001b[49m\u001b[43m*\u001b[49m\u001b[43mkwargs\u001b[49m\u001b[43m,\u001b[49m\n\u001b[32m    489\u001b[39m \u001b[43m\u001b[49m\u001b[43m)\u001b[49m\n\u001b[32m    491\u001b[39m \u001b[38;5;28;01mif\u001b[39;00m path \u001b[38;5;129;01mis\u001b[39;00m \u001b[38;5;28;01mNone\u001b[39;00m:\n\u001b[32m    492\u001b[39m     \u001b[38;5;28;01massert\u001b[39;00m \u001b[38;5;28misinstance\u001b[39m(path_or_buf, io.BytesIO)\n",
      "\u001b[36mFile \u001b[39m\u001b[32m/Library/Frameworks/Python.framework/Versions/3.12/lib/python3.12/site-packages/pandas/io/parquet.py:190\u001b[39m, in \u001b[36mPyArrowImpl.write\u001b[39m\u001b[34m(self, df, path, compression, index, storage_options, partition_cols, filesystem, **kwargs)\u001b[39m\n\u001b[32m    187\u001b[39m \u001b[38;5;28;01mif\u001b[39;00m index \u001b[38;5;129;01mis\u001b[39;00m \u001b[38;5;129;01mnot\u001b[39;00m \u001b[38;5;28;01mNone\u001b[39;00m:\n\u001b[32m    188\u001b[39m     from_pandas_kwargs[\u001b[33m\"\u001b[39m\u001b[33mpreserve_index\u001b[39m\u001b[33m\"\u001b[39m] = index\n\u001b[32m--> \u001b[39m\u001b[32m190\u001b[39m table = \u001b[38;5;28;43mself\u001b[39;49m\u001b[43m.\u001b[49m\u001b[43mapi\u001b[49m\u001b[43m.\u001b[49m\u001b[43mTable\u001b[49m\u001b[43m.\u001b[49m\u001b[43mfrom_pandas\u001b[49m\u001b[43m(\u001b[49m\u001b[43mdf\u001b[49m\u001b[43m,\u001b[49m\u001b[43m \u001b[49m\u001b[43m*\u001b[49m\u001b[43m*\u001b[49m\u001b[43mfrom_pandas_kwargs\u001b[49m\u001b[43m)\u001b[49m\n\u001b[32m    192\u001b[39m \u001b[38;5;28;01mif\u001b[39;00m df.attrs:\n\u001b[32m    193\u001b[39m     df_metadata = {\u001b[33m\"\u001b[39m\u001b[33mPANDAS_ATTRS\u001b[39m\u001b[33m\"\u001b[39m: json.dumps(df.attrs)}\n",
      "\u001b[36mFile \u001b[39m\u001b[32m/Library/Frameworks/Python.framework/Versions/3.12/lib/python3.12/site-packages/pyarrow/table.pxi:4751\u001b[39m, in \u001b[36mpyarrow.lib.Table.from_pandas\u001b[39m\u001b[34m()\u001b[39m\n",
      "\u001b[36mFile \u001b[39m\u001b[32m/Library/Frameworks/Python.framework/Versions/3.12/lib/python3.12/site-packages/pyarrow/pandas_compat.py:595\u001b[39m, in \u001b[36mdataframe_to_arrays\u001b[39m\u001b[34m(df, schema, preserve_index, nthreads, columns, safe)\u001b[39m\n\u001b[32m    586\u001b[39m \u001b[38;5;28;01mdef\u001b[39;00m\u001b[38;5;250m \u001b[39m\u001b[34mdataframe_to_arrays\u001b[39m(df, schema, preserve_index, nthreads=\u001b[32m1\u001b[39m, columns=\u001b[38;5;28;01mNone\u001b[39;00m,\n\u001b[32m    587\u001b[39m                         safe=\u001b[38;5;28;01mTrue\u001b[39;00m):\n\u001b[32m    588\u001b[39m     (all_names,\n\u001b[32m    589\u001b[39m      column_names,\n\u001b[32m    590\u001b[39m      column_field_names,\n\u001b[32m    591\u001b[39m      index_column_names,\n\u001b[32m    592\u001b[39m      index_descriptors,\n\u001b[32m    593\u001b[39m      index_columns,\n\u001b[32m    594\u001b[39m      columns_to_convert,\n\u001b[32m--> \u001b[39m\u001b[32m595\u001b[39m      convert_fields) = \u001b[43m_get_columns_to_convert\u001b[49m\u001b[43m(\u001b[49m\u001b[43mdf\u001b[49m\u001b[43m,\u001b[49m\u001b[43m \u001b[49m\u001b[43mschema\u001b[49m\u001b[43m,\u001b[49m\u001b[43m \u001b[49m\u001b[43mpreserve_index\u001b[49m\u001b[43m,\u001b[49m\n\u001b[32m    596\u001b[39m \u001b[43m                                               \u001b[49m\u001b[43mcolumns\u001b[49m\u001b[43m)\u001b[49m\n\u001b[32m    598\u001b[39m     \u001b[38;5;66;03m# NOTE(wesm): If nthreads=None, then we use a heuristic to decide whether\u001b[39;00m\n\u001b[32m    599\u001b[39m     \u001b[38;5;66;03m# using a thread pool is worth it. Currently the heuristic is whether the\u001b[39;00m\n\u001b[32m    600\u001b[39m     \u001b[38;5;66;03m# nrows > 100 * ncols and ncols > 1.\u001b[39;00m\n\u001b[32m    601\u001b[39m     \u001b[38;5;28;01mif\u001b[39;00m nthreads \u001b[38;5;129;01mis\u001b[39;00m \u001b[38;5;28;01mNone\u001b[39;00m:\n",
      "\u001b[36mFile \u001b[39m\u001b[32m/Library/Frameworks/Python.framework/Versions/3.12/lib/python3.12/site-packages/pyarrow/pandas_compat.py:375\u001b[39m, in \u001b[36m_get_columns_to_convert\u001b[39m\u001b[34m(df, schema, preserve_index, columns)\u001b[39m\n\u001b[32m    372\u001b[39m columns = _resolve_columns_of_interest(df, schema, columns)\n\u001b[32m    374\u001b[39m \u001b[38;5;28;01mif\u001b[39;00m \u001b[38;5;129;01mnot\u001b[39;00m df.columns.is_unique:\n\u001b[32m--> \u001b[39m\u001b[32m375\u001b[39m     \u001b[38;5;28;01mraise\u001b[39;00m \u001b[38;5;167;01mValueError\u001b[39;00m(\n\u001b[32m    376\u001b[39m         \u001b[33m'\u001b[39m\u001b[33mDuplicate column names found: \u001b[39m\u001b[38;5;132;01m{}\u001b[39;00m\u001b[33m'\u001b[39m.format(\u001b[38;5;28mlist\u001b[39m(df.columns))\n\u001b[32m    377\u001b[39m     )\n\u001b[32m    379\u001b[39m \u001b[38;5;28;01mif\u001b[39;00m schema \u001b[38;5;129;01mis\u001b[39;00m \u001b[38;5;129;01mnot\u001b[39;00m \u001b[38;5;28;01mNone\u001b[39;00m:\n\u001b[32m    380\u001b[39m     \u001b[38;5;28;01mreturn\u001b[39;00m _get_columns_to_convert_given_schema(df, schema, preserve_index)\n",
      "\u001b[31mValueError\u001b[39m: Duplicate column names found: ['7SK', 'A1BG', 'A1BG_CTD_2619J13_8', 'A1BG_AS1', 'A1CF', 'A2M', 'A2M_AS1', 'A2ML1', 'A4GALT', 'A4GNT', 'AAAS', 'AACS', 'AACSP1', 'AADAC', 'AADACL2', 'AADACL3', 'AADACL4', 'AADAT', 'AAED1', 'AAGAB', 'AAK1', 'AAK1_RP11_427H3_3_Y_RNA', 'AAMDC', 'AAMP', 'AANAT', 'AAR2', 'AARD', 'AARS', 'AARS2', 'AARSD1', 'AASDH', 'AASDHPPT', 'AASS', 'AATF', 'AATK', 'AATK_AS1', 'AB019441_29', 'ABAT', 'ABC7_42389800N19_1', 'ABCA1', 'ABCA10', 'ABCA10_ABCA5', 'ABCA12', 'ABCA13', 'ABCA17P', 'ABCA2', 'ABCA3', 'ABCA4', 'ABCA5', 'ABCA6', 'ABCA7', 'ABCA8', 'ABCA9', 'ABCB1', 'ABCB10', 'ABCB11', 'ABCB4', 'ABCB5', 'ABCB6', 'ABCB6_ATG9A', 'ABCB7_AMDP1_TRPC6P_TCEB1P24_DDX11L16_WASIR1', 'ABCB8', 'ABCB9', 'ABCC1', 'ABCC10', 'ABCC11', 'ABCC11_RP11_3M1_1', 'ABCC12', 'ABCC12_Y_RNA', 'ABCC13', 'ABCC2', 'ABCC3', 'ABCC4', 'ABCC5', 'ABCC6', 'ABCC6P1', 'ABCC6P2', 'ABCC8', 'ABCC9', 'ABCD1_IL9R_SPRY3_VAMP7_WASH6P_DPH3P2_AJ271736_10', 'ABCD2', 'ABCD3', 'ABCD4', 'ABCE1', 'ABCF1', 'ABCF2', 'ABCF3', 'ABCG1', 'ABCG2', 'ABCG4', 'ABCG5', 'ABCG8', 'ABHD1', 'ABHD10', 'ABHD11', 'ABHD12', 'ABHD12B', 'ABHD13', 'ABHD14A', 'ABHD14A_ACY1_ABHD14A_ACY1', 'ABHD14B', 'ABHD14B_RP11_155D18_12', 'ABHD14B_RP11_155D18_14_RP11_155D18_12', 'ABHD16A', 'ABHD16B', 'ABHD17A', 'ABHD17AP6', 'ABHD17B', 'ABHD17C', 'ABHD2', 'ABHD3', 'ABHD4', 'ABHD5', 'ABHD6', 'ABHD8', 'ABI1', 'ABI2', 'ABI3', 'ABI3BP', 'ABL1', 'ABL2', 'ABLIM1', 'ABLIM2', 'ABLIM3', 'ABO', 'ABO_RP11_430N14_4', 'ABR', 'ABRA', 'ABRACL', 'ABT1', 'ABTB1', 'ABTB2', 'ABTB2_Y_RNA', 'AC000036_4', 'AC000099_1', 'AC002055_4', 'AC002116_7', 'AC002310_12', 'AC002310_13_ZNF747', 'AC002310_7', 'AC002398_11', 'AC002398_5', 'AC002472_13', 'AC002480_3', 'AC002511_1', 'AC003051_1', 'AC003090_1', 'AC003102_3', 'AC003665_1', 'AC003958_2', 'AC003984_1', 'AC003986_5', 'AC004053_1', 'AC004158_3', 'AC004381_6', 'AC004490_1', 'AC004538_3', 'AC004540_5', 'AC004603_4', 'AC004840_9', 'AC004878_3', 'AC004878_5', 'AC004878_6', 'AC004893_11', 'AC004951_5_POLR2J4', 'AC004951_6', 'AC004967_7', 'AC004980_7', 'AC004985_12_POLR2J4', 'AC004985_12_POLR2J4_RP5_1165K10_2', 'AC005013_5', 'AC005042_4', 'AC005076_5', 'AC005082_12', 'AC005152_2', 'AC005154_6', 'AC005154_6_AC005154_7', 'AC005176_2', 'AC005235_1', 'AC005280_1_C14orf169', 'AC005301_8', 'AC005307_3', 'AC005329_7', 'AC005355_2', 'AC005488_11', 'AC005523_2', 'AC005550_3', 'AC005562_1', 'AC005562_1_SMURF2P1', 'AC005609_1', 'AC005754_7', 'AC005943_5', 'AC006014_10', 'AC006014_8', 'AC006019_3', 'AC006024_4', 'AC006026_10', 'AC006115_3', 'AC006132_1', 'AC006156_1', 'AC006156_2', 'AC006262_5', 'AC006262_6', 'AC006445_8', 'AC006455_1', 'AC006538_4_DIRAS1', 'AC006552_1', 'AC006946_15', 'AC006995_8', 'AC007038_7', 'AC007092_1', 'AC007163_3', 'AC007228_11', 'AC007246_3', 'AC007255_8', 'AC007276_5', 'AC007277_3', 'AC007365_1', 'AC007390_5', 'AC007405_2', 'AC007405_4', 'AC007464_1', 'AC007557_1', 'AC007557_2', 'AC007740_1', 'AC007743_1', 'AC007879_2', 'AC007879_2_AC007879_3', 'AC007880_1', 'AC007952_6', 'AC007966_1', 'AC008060_7', 'AC008079_9', 'AC008132_1', 'AC008132_13', 'AC008132_13_snoU13', 'AC008268_1', 'AC008268_2', 'AC008271_1', 'AC008394_1', 'AC008555_2_CTC_523E23_5', 'AC008697_1', 'AC008703_1', 'AC009120_4', 'AC009133_12', 'AC009133_17', 'AC009133_20_AC009133_12', 'AC009133_20_AC009133_14', 'AC009227_2', 'AC009232_2', 'AC009236_1', 'AC009237_8', 'AC009299_3', 'AC009365_3', 'AC009403_2', 'AC009501_4', 'AC009948_5', 'AC009961_3', 'AC010091_1', 'AC010127_3', 'AC010127_5', 'AC010148_1', 'AC010547_9', 'AC010724_1_RP13_996F3_3', 'AC010731_4', 'AC010733_4', 'AC010890_1', 'AC010980_2', 'AC011242_6', 'AC011294_3', 'AC011306_1', 'AC011330_5', 'AC011484_1', 'AC011516_2', 'AC011525_4', 'AC011526_1', 'AC011718_2', 'AC011738_4', 'AC011893_3', 'AC011899_9', 'AC011997_1', 'AC012005_2_GOLGA2P2Y', 'AC012307_3', 'AC012309_5', 'AC012317_1', 'AC012379_1_EID1', 'AC012487_2', 'AC012507_3', 'AC013268_5', 'AC013269_5', 'AC013271_3', 'AC013402_2', 'AC013460_1', 'AC013472_3', 'AC015818_3', 'AC015971_2', 'AC016582_2', 'AC016629_8', 'AC016683_6', 'AC016683_6_RP11_65I12_1', 'AC016700_5', 'AC016722_1', 'AC016722_1_AC016722_2', 'AC016722_2', 'AC016725_4', 'AC016757_3', 'AC016773_1_TACC3', 'AC016909_1', 'AC017002_1', 'AC017048_3', 'AC017099_3', 'AC018462_2', 'AC018720_10', 'AC018730_1', 'AC018730_3', 'AC018730_4_AC018730_3', 'AC018737_1', 'AC018742_1', 'AC018755_1', 'AC018755_2_LINC00085', 'AC018799_1', 'AC018865_8', 'AC018865_8_CYP4F27P', 'AC018890_6', 'AC019118_2', 'AC020571_3', 'AC021016_6', 'AC022007_5', 'AC022311_1', 'AC022498_1', 'AC023085_1', 'AC023115_2', 'AC023490_1', 'AC024560_3', 'AC024592_12_FUT5', 'AC024592_9', 'AC024940_1', 'AC025165_8', 'AC025171_1', 'AC025335_1', 'AC026150_5', 'AC027601_1', 'AC027612_6', 'AC027763_2', 'AC027763_2_RP11_589P10_7', 'AC034110_1', 'AC034193_5', 'AC034220_3', 'AC062028_1', 'AC062029_1', 'AC064875_2', 'AC066593_1', 'AC068057_2', 'AC068610_3', 'AC068831_10', 'AC068831_10_AC068831_11', 'AC068858_1', 'AC069277_2', 'AC073072_5', 'AC073128_10', 'AC073130_1', 'AC073133_1', 'AC073283_4', 'AC073343_1_AC073343_13', 'AC073343_13', 'AC073464_11', 'AC073479_1', 'AC073869_19', 'AC073869_20', 'AC074091_13', 'AC074286_1', 'AC074286_1_NFE2L2', 'AC074338_4', 'AC074389_6', 'AC074391_1', 'AC074391_1_RP11_340F16_1', 'AC078842_4', 'AC078941_1', 'AC078941_1_SNORA40', 'AC079354_1', 'AC079586_1', 'AC079612_1', 'AC079776_2', 'AC079776_7', 'AC079922_3', 'AC083884_8', 'AC083899_3', 'AC084018_1', 'AC084125_4', 'AC090044_1', 'AC090286_4', 'AC091178_1_CTD_2206N4_4', 'AC091729_9', 'AC091801_1', 'AC091878_1', 'AC091969_1', 'AC092155_4', 'AC092198_1', 'AC092295_7', 'AC092299_8_LINC01002', 'AC092364_2_RP11_420K14_6', 'AC092535_3', 'AC092619_1', 'AC092653_5', 'AC092839_1', 'AC093375_1', 'AC093415_2', 'AC093590_1', 'AC093616_4', 'AC093627_10', 'AC093642_3', 'AC093642_5', 'AC093642_5_AC134873_1', 'AC093677_1', 'AC093690_1', 'AC093838_4', 'AC096553_5', 'AC096559_1', 'AC096655_2', 'AC096670_3', 'AC096772_6_PLEKHM3', 'AC097374_2', 'AC097662_2', 'AC097713_4', 'AC098823_3', 'AC098973_1', 'AC099522_1', 'AC099684_1', 'AC099850_1', 'AC103965_1', 'AC104057_1', 'AC104135_3', 'AC104389_28', 'AC104654_1', 'AC104695_3', 'AC104782_3', 'AC104809_2', 'AC104809_4', 'AC104820_2', 'AC105053_4', 'AC105339_1', 'AC105344_2', 'AC105760_2', 'AC107070_1', 'AC108142_1', 'AC108488_3', 'AC108676_1', 'AC109642_1', 'AC109828_1', 'AC110619_2', 'AC110769_3_AC010982_1', 'AC110781_3', 'AC111200_1', 'AC112229_4_RP13_1039J1_4', 'AC112229_7', 'AC113607_1', 'AC114546_1', 'AC114730_3', 'AC118138_2', 'AC125232_1', 'AC125232_1_RP11_1252D15_1', 'AC126339_1_RP11_152F13_7', 'AC127496_1', 'AC129492_6', 'AC129778_2', 'AC129778_5', 'AC129929_5', 'AC131180_4', 'AC133785_1', 'AC135178_1', 'AC135995_1_RP11_152F13_3', 'AC136604_1', 'AC137056_1', 'AC137932_1', 'AC137932_6', 'AC137934_1', 'AC138035_2', 'AC138655_6', 'AC138783_11', 'AC138783_12', 'AC138969_4', 'AC138969_4_PKD1P1', 'AC139100_2', 'AC140481_1', 'AC140481_2', 'AC140481_7', 'AC140481_7_CYP4F30P', 'AC140542_2', 'AC141586_5', 'AC145110_1', 'AC159540_1', 'AC226118_1', 'AC226119_5_FAM86EP', 'ACAA1', 'ACAA1_SNORA31', 'ACAA2', 'ACAA2_RP11_886H22_1', 'ACACA', 'ACACB', 'ACAD10', 'ACAD10_RP11_162P23_2', 'ACAD11', 'ACAD8', 'ACAD9', 'ACADL', 'ACADM', 'ACADS', 'ACADSB', 'ACADVL', 'ACAN', 'ACAP1', 'ACAP2', 'ACAP3', 'ACAT1', 'ACAT2', 'ACBD3', 'ACBD4', 'ACBD5', 'ACBD6', 'ACBD7', 'ACBD7_DCLRE1CP1', 'ACCS', 'ACCSL', 'ACD', 'ACE', 'ACE2', 'ACE3P_ACE', 'ACER1', 'ACER2', 'ACER3', 'ACHE', 'ACIN1', 'ACIN1_Y_RNA', 'ACKR2', 'ACKR2_KRBOX1_RP11_141M3_5', 'ACKR3', 'ACKR4', 'ACLY', 'ACMSD', 'ACN9', 'ACO1', 'ACO2', 'ACOT1', 'ACOT11', 'ACOT12', 'ACOT13', 'ACOT2', 'ACOT4', 'ACOT6', 'ACOT7', 'ACOT8', 'ACOT9', 'ACOX1', 'ACOX2', 'ACOX3', 'ACOXL', 'ACP1', 'ACP2', 'ACP5', 'ACP6', 'ACPL2', 'ACPP', 'ACPT', 'ACR', 'ACRBP', 'ACRV1', 'ACSBG1', 'ACSBG2', 'ACSF2', 'ACSF3', 'ACSL1', 'ACSL3', 'ACSL4_AMDP1_TRPC6P_TCEB1P24_DDX11L16_WASIR1', 'ACSL5', 'ACSL6', 'ACSL6_AC034228_7', 'ACSM1', 'ACSM2A', 'ACSM2B', 'ACSM3', 'ACSM4', 'ACSM5', 'ACSS1', 'ACSS2', 'ACSS3', 'ACTA1', 'ACTA2', 'ACTA2_AS1', 'ACTB', 'ACTB_AC006483_1', 'ACTC1', 'ACTG1_AC139149_1', 'ACTG2', 'ACTL6A', 'ACTL6B', 'ACTL7A', 'ACTL8', 'ACTL9', 'ACTN1', 'ACTN1_HMGN1P3', 'ACTN2', 'ACTN3', 'ACTN4', 'ACTR10', 'ACTR1A', 'ACTR1B', 'ACTR1B_Y_RNA', 'ACTR2', 'ACTR3', 'ACTR3B', 'ACTR3C', 'ACTR5', 'ACTR6', 'ACTR8', 'ACTRT3', 'ACVR1', 'ACVR1B', 'ACVR1C', 'ACVR2A', 'ACVR2B', 'ACVR2B_AS1', 'ACVRL1', 'ACY1_ABHD14A_ACY1', 'ACY3', 'ACYP1', 'ACYP2', 'AD000090_2', 'ADA', 'ADAD1', 'ADAD2', 'ADAL', 'ADAM10', 'ADAM11', 'ADAM12', 'ADAM15', 'ADAM17', 'ADAM18', 'ADAM19', 'ADAM2', 'ADAM20', 'ADAM22', 'ADAM23', 'ADAM28', 'ADAM28_snoU13', 'ADAM29', 'ADAM32', 'ADAM33', 'ADAM3A', 'ADAM5', 'ADAM6', 'ADAM7', 'ADAM8', 'ADAM9', 'ADAMDEC1', 'ADAMTS1', 'ADAMTS10', 'ADAMTS12', 'ADAMTS13', 'ADAMTS14', 'ADAMTS15', 'ADAMTS16', 'ADAMTS17', 'ADAMTS18', 'ADAMTS19', 'ADAMTS2', 'ADAMTS20', 'ADAMTS3', 'ADAMTS4', 'ADAMTS5', 'ADAMTS6', 'ADAMTS7', 'ADAMTS8', 'ADAMTS9', 'ADAMTS9_AS1', 'ADAMTS9_AS2', 'ADAMTSL1', 'ADAMTSL2', 'ADAMTSL3', 'ADAMTSL4', 'ADAMTSL4_AL356356_1', 'ADAMTSL5', 'ADAP1', 'ADAP1_COX19', 'ADAP2', 'ADAR', 'ADARB1', 'ADARB2', 'ADARB2_AS1', 'ADAT1', 'ADAT1_RP11_77K12_8', 'ADAT2', 'ADAT3_SCAMP4', 'ADC', 'ADCK1', 'ADCK2', 'ADCK2_NDUFB2', 'ADCK3', 'ADCK4', 'ADCK5', 'ADCY1', 'ADCY10', 'ADCY10P1', 'ADCY2', 'ADCY3', 'ADCY4', 'ADCY5', 'ADCY6', 'ADCY7', 'ADCY8', 'ADCY9', 'ADCYAP1', 'ADCYAP1R1', 'ADD1', 'ADD1_SNORA3', 'ADD2', 'ADD3', 'ADGB', 'ADH1A', 'ADH1B', 'ADH1C', 'ADH4', 'ADH5', 'ADH6', 'ADH7', 'ADHFE1', 'ADHFE1_C8orf46', 'ADI1', 'ADIG', 'ADIPOQ', 'ADIPOR1', 'ADIPOR2', 'ADIRF', 'ADIRF_RP11_96C23_5', 'ADIRF_AS1_RP11_96C23_15', 'ADK', 'ADM', 'ADNP', 'ADNP2', 'ADORA1', 'ADORA2A', 'ADORA2A_AS1', 'ADORA2B', 'ADORA3', 'ADPGK', 'ADPGK_AS1', 'ADPRH', 'ADPRHL1', 'ADPRHL2', 'ADPRM', 'ADRA1A', 'ADRA1B', 'ADRA1D', 'ADRB3', 'ADRBK1', 'ADRBK2', 'ADRM1', 'ADSL', 'ADSS', 'ADSSL1', 'ADTRP', 'AE000661_37', 'AEBP1', 'AEBP1_MIR4649', 'AEBP2', 'AEN', 'AES', 'AF011889_2_AMDP1_TRPC6P_TCEB1P24_DDX11L16_WASIR1', 'AF064860_5', 'AF131215_3', 'AF131216_5', 'AF131216_6', 'AF146191_4', 'AFAP1', 'AFAP1_AS1', 'AFAP1L1', 'AFAP1L2', 'AFF1', 'AFF3', 'AFF4', 'AFG3L1P', 'AFG3L2', 'AFM', 'AFMID', 'AFP', 'AFTPH', 'AGA', 'AGAP1', 'AGAP10', 'AGAP10_RP11_144G6_12', 'AGAP10_RP11_144G6_12_BMS1P2', 'AGAP11_RP11_96C23_5_RP11_96C23_11', 'AGAP11_RP11_96C23_5_RP11_96C23_11_RP11_96C23_14', 'AGAP2', 'AGAP2_AS1', 'AGAP3', 'AGAP4', 'AGAP6', 'AGAP7', 'AGAP8', 'AGAP9', 'FIGN', 'FIGNL1', 'FILIP1', 'FILIP1L', 'FIP1L1', 'FIS1', 'FITM1', 'FITM1_RP11_468E2_6', 'FITM2', 'FIZ1', 'FKBP10', 'FKBP11', 'FKBP14', 'FKBP15', 'FKBP1A', 'FKBP1B', 'FKBP1B_MFSD2B', 'FKBP2', 'FKBP3', 'FKBP4', 'FKBP5', 'FKBP6', 'FKBP7', 'FKBP8', 'FKBP9', 'FKBP9L', 'FKBPL', 'FKRP', 'FKTN', 'FLAD1', 'FLCN', 'FLCN_RP11_45M22_4', 'FLG', 'FLG_AS1', 'FLG2', 'FLI1', 'FLI1_AS1', 'FLII', 'FLJ00104_KLHDC4', 'FLJ14816', 'FLJ27365', 'FLJ27365_RP6_109B7_3', 'FLJ30594_AC073479_1', 'FLNA_AMDP1_TRPC6P_TCEB1P24_DDX11L16_WASIR1', 'FLNB', 'FLNB_snoU13', 'FLNB_AS1', 'FLNC', 'FLOT1', 'FLOT2', 'FLRT1', 'FLRT2', 'FLRT3', 'FLT1', 'FLT3', 'FLT3LG_CTD_3148I10_15', 'FLT3LG_CTD_3148I10_15_CTD_3148I10_9', 'FLT4', 'FLVCR1', 'FLVCR1_AS1', 'FLVCR2', 'FLVCR2_TTLL5', 'FLYWCH1', 'FLYWCH2', 'FMN1', 'FMN2', 'FMNL1', 'FMNL2', 'FMNL3', 'FMO1', 'FMO2', 'FMO3', 'FMO4', 'FMO5', 'FMO6P', 'FMO9P', 'FMOD', 'FMR1_IL9R_SPRY3_VAMP7_WASH6P_DPH3P2_AJ271736_10', 'FN1', 'FN3K', 'FN3KRP', 'FNBP1', 'FNBP1L', 'FNBP4', 'FNDC1', 'FNDC3A', 'FNDC3B', 'FNDC4', 'FNDC5', 'FNDC7', 'FNDC8', 'FNDC9', 'FNIP1', 'FNIP1_CTC_432M15_3', 'FNIP2', 'FNTA', 'FNTA_RP11_598P20_5', 'FNTB', 'FNTB_CHURC1_CHURC1_FNTB', 'FNTB_CHURC1_FNTB', 'FOCAD', 'FOLH1', 'FOLH1_Y_RNA', 'FOLH1B', 'FOLR1', 'FOLR2', 'FOLR3', 'FOLR4', 'FOPNL', 'FOS', 'FOSB', 'FOSL1', 'FOSL2', 'FOXA1', 'FOXA2', 'FOXA3', 'FOXB1', 'FOXB2', 'FOXD3', 'FOXD4L3', 'FOXD4L4', 'FOXD4L6', 'FOXF1', 'FOXF2', 'FOXH1', 'FOXI1', 'FOXI2', 'FOXI3', 'FOXJ1', 'FOXJ2', 'FOXJ3', 'FOXK1', 'FOXK2', 'FOXM1', 'FOXN1', 'FOXN2', 'FOXN3', 'FOXN3_RP11_33N16_3', 'FOXN3_AS1', 'FOXN4', 'FOXO1', 'FOXO3', 'FOXO3B_ZNF286B_RP11_815I9_4', 'FOXP1', 'FOXP1_AS1', 'FOXP1_IT1', 'FOXP2', 'FOXP2_AC020606_1', 'FOXP3', 'FOXP4', 'FOXR1', 'FOXRED1', 'FOXRED2', 'FOXS1', 'FPGS', 'FPGT_TNNI3K_TNNI3K', 'FPGT_TNNI3K_TNNI3K_FPGT', 'FPR1', 'FPR2', 'FPR3', 'FRA10AC1', 'FRAS1', 'FRAT1', 'FRAT2', 'FREM1', 'FREM2', 'FRG1', 'FRG1B', 'FRG2', 'FRG2B', 'FRG2C', 'FRK', 'FRMD1', 'FRMD3', 'FRMD4A', 'FRMD4A_Y_RNA', 'FRMD4B', 'FRMD5', 'FRMD6', 'FRMD7_AMDP1_TRPC6P_TCEB1P24_DDX11L16_WASIR1', 'FRMD8', 'FRMPD1', 'FRMPD2', 'FRMPD2P1', 'FRMPD2P2', 'FRMPD4', 'FRRS1', 'FRRS1L', 'FRS2', 'FRS3', 'FRY', 'FRY_AS1', 'FRYL', 'FRZB', 'FSBP_RAD54B', 'FSCN1', 'FSCN2', 'FSCN3', 'FSCN3_ARF5', 'FSD1', 'FSD1L', 'FSD2', 'FSHB', 'FSHR', 'FSIP1', 'FSIP1_RP11_37C7_1', 'FSIP2', 'FST', 'FSTL1', 'FSTL3', 'FSTL4', 'FSTL5', 'FTCD', 'FTCDNL1', 'FTH1', 'FTH1P3', 'FTHL17', 'FTL', 'FTLP10', 'FTO', 'FTSJ1', 'FTSJ2', 'FTSJ3', 'FUBP1', 'FUBP3', 'FUCA1', 'FUCA2', 'FUK', 'FUNDC1', 'FUNDC2P2', 'FUOM', 'FURIN', 'FUS', 'FUT1', 'FUT10', 'FUT11', 'FUT2', 'FUT3', 'FUT6', 'FUT7', 'FUT8', 'FUT9', 'FUZ', 'FXN', 'FXR1', 'FXR2', 'FXYD1', 'FXYD2', 'FXYD3', 'FXYD4', 'FXYD5', 'FXYD6', 'FXYD6_FXYD6_FXYD2', 'FXYD7', 'FXYD7_CTD_2527I21_4', 'FYB', 'FYCO1', 'FYN', 'FYTTD1', 'FZD10_AS1', 'FZD3', 'FZD5', 'FZD6', 'FZD7', 'FZD8_MIR4683', 'FZR1', 'G0S2', 'G2E3', 'G3BP1', 'G3BP2', 'G6PC', 'G6PC2', 'G6PC3', 'G6PD_AMDP1_TRPC6P_TCEB1P24_DDX11L16_WASIR1', 'GAA', 'GAB1', 'GAB2', 'GAB3_AMDP1_TRPC6P_TCEB1P24_DDX11L16_WASIR1', 'GAB4', 'GABARAP', 'GABARAP_CTD_2545G14_7', 'GABARAPL1', 'GABARAPL2', 'GABARAPL3', 'GABBR1', 'GABBR2', 'GABPA', 'GABPB1', 'GABPB2', 'GABRA1', 'GABRA2', 'GABRA3_AMDP1_TRPC6P_TCEB1P24_DDX11L16_WASIR1', 'GABRA4', 'GABRA5', 'GABRA6', 'GABRB1', 'GABRB1_snoU13', 'GABRB2', 'GABRB3', 'GABRD', 'GABRE_AMDP1_TRPC6P_TCEB1P24_DDX11L16_WASIR1', 'GABRG1', 'GABRG2', 'GABRG3', 'GABRP', 'GABRR1', 'GABRR2', 'GABRR3', 'GAD1', 'GAD2', 'GADD45A', 'GADD45B', 'GADD45G', 'GADD45GIP1', 'GADL1', 'GAGE1', 'GAGE10', 'GAGE12C', 'GAGE12D', 'GAGE12E', 'GAGE12F', 'GAGE12G', 'GAGE12H', 'GAGE12I', 'GAGE12J', 'GAGE13', 'GAGE2A', 'GAGE2B', 'GAGE2C', 'GAGE2D', 'GAGE2E', 'GAK', 'GAL', 'GAL3ST1', 'GAL3ST2', 'GAL3ST3', 'GAL3ST4', 'GALC', 'GALE', 'GALK1', 'GALK2', 'GALM', 'GALNS', 'GALNT1', 'GALNT10', 'GALNT11', 'GALNT12', 'GALNT13', 'GALNT14', 'GALNT14_Y_RNA', 'GALNT15', 'GALNT15_snoU13', 'GALNT16', 'GALNT18', 'GALNT2', 'GALNT3', 'GALNT5', 'GALNT6', 'GALNT7', 'GALNT7_snoU13', 'GALNT8', 'GALNT8_KCNA6_snoU13', 'GALNT8_RP11_234B24_6', 'GALNT9', 'GALNTL5', 'GALNTL6', 'GALP', 'GALR1', 'GALR2', 'GALR3', 'GALT', 'GAMT', 'GAN', 'GANAB', 'GANC', 'GANC_CAPN3_RP11_164J13_1', 'GAP43', 'GAPDH', 'GAPDHS', 'GAPT', 'GAPVD1', 'GAR1', 'GAREM', 'GAREML', 'GARNL3', 'GARS', 'GART', 'GAS2', 'GAS2L1', 'GAS2L2', 'GAS2L3', 'GAS5', 'GAS6', 'GAS7', 'GAS8', 'GAST', 'GATA1', 'GATA2', 'GATA3', 'GATA3_AS1', 'GATA3_AS1_RP11_379F12_3', 'GATA4', 'GATA5', 'GATA6', 'GATAD1', 'GATAD1_AC007566_10', 'GATAD2A', 'GATAD2B', 'GATC_AL021546_6', 'GATM', 'GATS', 'GATSL1', 'GATSL2', 'GATSL3', 'GATSL3_RP1_130H16_18', 'GBA', 'GBA2', 'GBA3', 'GBAP1', 'GBAS', 'GBAS_MRPS17', 'GBE1', 'GBF1', 'GBGT1_RALGDS', 'GBP1', 'GBP1P1', 'GBP2', 'GBP2_GBP7', 'GBP3', 'GBP4', 'GBP5', 'GBP6', 'GBP7', 'GBX1', 'GBX2', 'GC', 'GCA', 'GCAT', 'GCC1', 'GCC2', 'GCDH', 'GCFC2', 'GCG', 'GCGR', 'GCH1', 'GCHFR', 'GCK', 'GCKR', 'GCLC', 'GCLC_RP1_27K12_2', 'GCLM', 'GCM1', 'GCM2', 'GCN1L1', 'GCNT1', 'GCNT2', 'GCNT3', 'GCNT7', 'GCOM1', 'GCOM1_MYZAP', 'GCOM1_POLR2M', 'GCOM1_POLR2M_MYZAP', 'GCSAM', 'GCSAML', 'GCSAML_AS1', 'GCSH', 'GCSH_RP11_303E16_8', 'GDA', 'GDAP1', 'GDAP1L1', 'GDAP2', 'GDE1', 'GDF10', 'GDF11', 'GDF15', 'GDF2', 'GDF3', 'GDF5', 'GDF5OS', 'GDF6', 'GDF7', 'GDF9', 'GDI2', 'GDNF', 'GDPD1', 'GDPD2_IL9R_SPRY3_VAMP7_WASH6P_DPH3P2_AJ271736_10', 'GDPD3', 'GDPD4', 'GDPD5', 'GDPGP1', 'GEM', 'GEMIN2', 'GEMIN4', 'GEMIN5', 'GEMIN6', 'GEMIN7', 'GEMIN8', 'GEN1', 'GET4', 'GFAP', 'GFER', 'GFI1', 'GFI1B', 'GFM1', 'GFM2', 'GFOD1_AL583828_1', 'GFOD2', 'GFPT1', 'GFPT2', 'GFRA1', 'GFRA2', 'GFRA3', 'GFRA4', 'GFRAL', 'GGA1', 'GGA2', 'GGA3', 'GGACT', 'GGCT', 'GGCT_AC005154_6', 'GGCX', 'GGH', 'GGN', 'GGN_SNORD38', 'GGNBP1', 'GGNBP2', 'GGPS1', 'GGT1', 'GGT1_SNRPD3', 'GGT2', 'GGT3P', 'GGT3P_AC008132_14', 'GGT5', 'GGT6', 'GGT7', 'GGT8P', 'GGTA1P', 'GGTLC1', 'GGTLC2', 'GH1', 'GH2', 'GHDC', 'GHITM', 'GHR', 'GHRH', 'GHRHR', 'GHRL', 'GHRLOS', 'GID4', 'GID8', 'GIF', 'GIGYF1', 'GIGYF2', 'GIMAP1', 'GIMAP2', 'GIMAP4', 'GIMAP5', 'GIMAP5_RP5_1051J4_4', 'GIMAP6', 'GIMAP7', 'GIMAP8', 'GIN1', 'GINM1', 'GINS1', 'GINS2', 'GINS3', 'GINS4', 'GIP', 'GIPC1', 'GIPC2', 'GIPC3', 'GIPR', 'GIT1', 'GIT2', 'GJA1', 'GJA3', 'GJA4', 'GJA5', 'GJA9_MYCBP', 'GJB2', 'GJB3', 'GJB4', 'GJB5', 'GJB6', 'GJB7', 'GJC1', 'GJC3', 'GJD2', 'GJD4', 'GK', 'GK3P', 'GK5', 'GK5_RP11_485G4_2', 'GKAP1', 'GKN1', 'GKN2', 'GLA_AMDP1_TRPC6P_TCEB1P24_DDX11L16_WASIR1', 'GLB1', 'GLB1_TMPPE', 'GLB1L', 'GLB1L2', 'GLB1L3', 'GLCCI1', 'GLCCI1_RPA3_AS1', 'GLCE', 'GLCE_AC026512_1', 'GLDC', 'GLDN', 'GLE1', 'GLG1', 'GLI1', 'GLI2', 'GLI3', 'GLI4', 'GLI4_ZFP41', 'GLIPR1', 'GLIPR1L1', 'GLIPR1L2', 'GLIPR2', 'GLIS1', 'GLIS2', 'GLIS3', 'GLIS3_AS1', 'GLMN', 'GLO1', 'GLOD4', 'GLOD5', 'GLP1R', 'GLP2R', 'GLRA1', 'GLRA2', 'GLRA3', 'GLRA4_AMDP1_TRPC6P_TCEB1P24_DDX11L16_WASIR1', 'GLRB', 'GLRX', 'GLRX2', 'GLRX3', 'GLRX5', 'GLS', 'GLS2', 'GLT1D1', 'GLT6D1', 'GLT8D1', 'GLT8D2', 'GLTP', 'GLTPD1', 'GLTPD2', 'GLTSCR1', 'GLTSCR1L', 'GLTSCR2', 'GLTSCR2_SNORD23', 'GLUD1', 'GLUL', 'GLYAT', 'GLYATL1', 'GLYATL1_AP001652_1', 'GLYATL1P1', 'GLYATL1P2', 'GLYATL2', 'GLYATL3', 'GLYCAM1', 'GLYCTK', 'GLYR1', 'GM2A', 'GMCL1', 'GMCL1P1', 'GMDS', 'GMDS_AS1', 'GMEB1', 'GMEB2', 'GMFB', 'GMFG', 'GMIP', 'GML', 'GMNC', 'GMNN', 'GMPPA', 'GMPPB_AMIGO3', 'GMPR', 'GMPR2', 'GMPS', 'GNA11', 'GNA12', 'GNA13', 'GNA14', 'GNA15', 'GNAI1', 'GNAI2', 'GNAI3', 'GNAL', 'GNAO1', 'GNAQ', 'GNAS', 'GNAS_AS1', 'GNAT1', 'GNAT2', 'GNAT3', 'GNAZ', 'GNB1', 'GNB1L', 'GNB2', 'GNB2L1', 'GNB2L1_SNORD95', 'GNB2L1_SNORD96A', 'GNB3', 'GNB4', 'GNB5', 'GNE', 'GNG10_DNAJC25_DNAJC25_GNG10', 'GNG11', 'GNG12', 'GNG12_U8', 'GNG12_AS1', 'GNG13', 'GNG2', 'GNG3', 'GNG4', 'GNG5', 'GNG7', 'GNG8', 'GNGT1', 'GNGT2', 'GNL1', 'GNL2', 'GNL3', 'GNL3_SNORD19B', 'GNL3L', 'GNLY', 'GNMT', 'GNPAT', 'GNPDA1', 'GNPDA2', 'GNPNAT1', 'GNPTAB', 'GNPTAB_Y_RNA', 'GNPTG', 'GNRH1', 'GNRH2', 'GNRHR', 'GNS', 'GOLGA1', 'GOLGA1_SCAI_Y_RNA', 'GOLGA2', 'GOLGA2B', 'GOLGA2B_AC010203_1', 'GOLGA2B_RN7SL176P', 'GOLGA2P3Y', 'GOLGA2P6', 'GOLGA3', 'GOLGA3_CHFR', 'GOLGA4', 'GOLGA5', 'GOLGA6A', 'GOLGA6B', 'GOLGA6C', 'GOLGA6D', 'GOLGA6L1', 'GOLGA6L10', 'GOLGA6L2', 'GOLGA6L3', 'GOLGA6L4', 'GOLGA6L5', 'GOLGA6L5_RP11_182J1_12', 'GOLGA6L6', 'GOLGA6L7P', 'GOLGA6L9', 'GOLGA6L9_RP11_152F13_8', 'GOLGA6L9_RP13_608F4_8', 'GOLGA7', 'GOLGA7B', 'GOLGA8A', 'GOLGA8B', 'GOLGA8CP', 'GOLGA8DP', 'GOLGA8EP', 'GOLGA8F', 'GOLGA8G', 'GOLGA8I', 'GOLGA8J', 'GOLGA8K_RP13_395E19_3', 'GOLGA8N', 'GOLGA8T', 'GOLGB1', 'GOLIM4', 'GOLM1', 'GOLPH3', 'GOLPH3L', 'GOLT1A', 'GOLT1B', 'GON4L', 'GOPC', 'GORAB', 'GORASP1', 'GORASP2', 'GOSR1', 'GOSR2_LRRC37A17P_RP11_156P1_2', 'GOSR2_RP11_156P1_2', 'GOT1', 'GOT1L1', 'GOT2', 'STOML1', 'STOML2', 'STOML3', 'STON1', 'STON1_GTF2A1L', 'STON1_GTF2A1L_GTF2A1L', 'STON1_GTF2A1L_STON1', 'STON2', 'STOX1', 'STOX2', 'STPG1', 'STPG2', 'STRA13', 'STRA6', 'STRA8', 'STRADA', 'STRADA_RP11_51F16_8', 'STRADB', 'STRAP', 'STRBP', 'STRC', 'STRC_STRCP1', 'STRCP1', 'STRIP1', 'STRIP2', 'STRN', 'STRN3', 'STRN4', 'STS', 'STT3A', 'STT3B', 'STUB1', 'STX10', 'STX11', 'STX12', 'STX16_STX16_NPEPL1', 'STX17', 'STX18', 'STX18_AS1', 'STX19', 'STX1A', 'STX1B', 'STX2', 'STX3', 'STX4', 'STX5', 'STX6', 'STX7', 'STX8', 'STXBP1', 'STXBP2', 'STXBP2_CTD_3214H19_4', 'STXBP3', 'STXBP4', 'STXBP5', 'STXBP5_AS1', 'STXBP5L', 'STXBP6', 'STYK1', 'STYX', 'STYXL1', 'SUB1', 'SUCLA2', 'SUCLG1', 'SUCLG2', 'SUCNR1', 'SUCO', 'SUDS3', 'SUFU', 'SUGP1', 'SUGP2', 'SUGT1', 'SUGT1P', 'SUGT1P3_TPTE2P5', 'SULF1', 'SULF2', 'SULT1A1', 'SULT1A2', 'SULT1A4_SLX1B_SLX1B_SULT1A4', 'SULT1A4_SLX1B_SULT1A4', 'SULT1B1', 'SULT1C2', 'SULT1C3', 'SULT1C4', 'SULT1E1', 'SULT2A1', 'SULT2B1', 'SULT4A1', 'SULT6B1', 'SUMF1', 'SUMF2', 'SUMO1', 'SUMO2', 'SUMO3', 'SUN1', 'SUN1_GET4', 'SUN2', 'SUN3', 'SUN5', 'SUOX', 'SUPT16H', 'SUPT20H', 'SUPT3H', 'SUPT4H1', 'SUPT5H', 'SUPT6H', 'SUPT7L', 'SUPV3L1', 'SURF1', 'SURF2', 'SURF4', 'SURF6', 'SUSD1', 'SUSD2', 'SUSD3', 'SUSD4', 'SUSD5', 'SUSD5_SNORD112', 'SUSD5_Y_RNA', 'SUV39H1', 'SUV39H2', 'SUV420H1', 'SUV420H2', 'SUV420H2_AC020922_1', 'SUZ12', 'SUZ12P', 'SV2A', 'SV2B', 'SV2C', 'SVEP1', 'SVIL', 'SVILP1', 'SVIP', 'SVOP', 'SVOPL', 'SWAP70', 'SWI5', 'SWSAP1', 'SWT1', 'SYAP1', 'SYBU', 'SYCE1', 'SYCE1_SPRN', 'SYCE1L', 'SYCE2', 'SYCE3', 'SYCN', 'SYCP1', 'SYCP2', 'SYCP2L', 'SYCP2L_RP11_637O19_3', 'SYCP2L_TMEM14B_RP11_637O19_3', 'SYCP3', 'SYDE1', 'SYDE2', 'SYF2', 'SYK', 'SYMPK', 'SYN1', 'SYN2', 'SYN3', 'SYNC', 'SYNCRIP', 'SYNCRIP_RP11_321N4_5', 'SYNDIG1', 'SYNDIG1L', 'SYNE1', 'SYNE2', 'SYNE3', 'SYNE4', 'SYNE4_AC002116_8', 'SYNGAP1', 'SYNGAP1_MIR5004', 'SYNGR1', 'SYNGR2', 'SYNGR3', 'SYNGR4', 'SYNJ1', 'SYNJ2', 'SYNJ2BP', 'SYNJ2BP_SYNJ2BP_COX16', 'SYNM', 'SYNPO', 'SYNPO2', 'SYNPO2L', 'SYNPR', 'SYNRG', 'SYP', 'SYPL1', 'SYPL2', 'SYPL2_SNORA51', 'SYS1_SYS1_DBNDD2', 'SYT1', 'SYT10', 'SYT11', 'SYT12', 'SYT13', 'SYT14', 'SYT15', 'SYT16', 'SYT17', 'SYT17_CTD_2349B8_1', 'SYT2', 'SYT3', 'SYT3_SHANK1', 'SYT4', 'SYT5', 'SYT6', 'SYT7', 'SYT7_RP11_794G24_1', 'SYT8', 'SYT9', 'SYTL1', 'SYTL2', 'SYTL3', 'SYTL4_AMDP1_TRPC6P_TCEB1P24_DDX11L16_WASIR1', 'SYTL5', 'SYVN1', 'SZRD1', 'SZT2', 'SZT2_U3', 'T', 'TAAR1', 'TAAR2', 'TAAR5', 'TAAR9', 'TAB1', 'TAB2', 'TAB2_RP1_111D6_3', 'TAB3', 'TAC1', 'TAC3', 'TAC4', 'TACC1', 'TACC2', 'TACC3', 'TACO1', 'TACR1', 'TACR1_Y_RNA', 'TACR2', 'TACR3', 'TADA1', 'TADA2A', 'TADA2B', 'TADA3', 'TAF10', 'TAF11', 'TAF12', 'TAF13', 'TAF15', 'TAF1A', 'TAF1B', 'TAF1C', 'TAF1D', 'TAF1D_SNORA32', 'TAF1D_SNORA40_MIR1304_SNORA8_SNORD5', 'TAF1D_SNORD5', 'TAF2', 'TAF3', 'TAF4', 'TAF4B', 'TAF5', 'TAF5L', 'TAF6', 'TAF6L', 'TAF7L_AMDP1_TRPC6P_TCEB1P24_DDX11L16_WASIR1', 'TAF8', 'TAF9', 'TAGAP', 'TAGLN', 'TAGLN2', 'TAGLN3', 'TAL1', 'TALDO1', 'TAMM41', 'TANC1', 'TANC2', 'TANGO2', 'TANGO6', 'TANK', 'TAOK1', 'TAOK2', 'TAOK3', 'TAP1', 'TAP2', 'TAPBP', 'TAPBPL', 'TAPT1', 'TAPT1_AS1', 'TARBP1', 'TARBP2', 'TARDBP', 'TARM1', 'TARS', 'TARS2', 'TARSL2', 'TAS1R1', 'TAS1R2', 'TAS1R2_RP13_279N23_2', 'TAS1R3', 'TAS2R1', 'TAS2R1_CTD_2143L24_1', 'TAS2R10', 'TAS2R13', 'TAS2R16', 'TAS2R20', 'TAS2R3', 'TAS2R30', 'TAS2R31', 'TAS2R38', 'TAS2R4', 'TAS2R41', 'TAS2R42', 'TAS2R43', 'TAS2R46', 'TAS2R5', 'TAS2R50', 'TASP1', 'TAT', 'TATDN1', 'TATDN2', 'TATDN2_RP11_438J1_1', 'TATDN3', 'TAX1BP1', 'TAX1BP3', 'TAX1BP3_P2RX5_TAX1BP3', 'TBATA', 'TBC1D1', 'TBC1D10A', 'TBC1D10A_RP1_130H16_18', 'TBC1D10B', 'TBC1D10C', 'TBC1D12', 'TBC1D13', 'TBC1D14', 'TBC1D15', 'TBC1D16', 'TBC1D16_AC100791_1', 'TBC1D17', 'TBC1D17_snoU13', 'TBC1D19', 'TBC1D2', 'TBC1D20', 'TBC1D21', 'TBC1D22A', 'TBC1D22A_snoU13', 'TBC1D22B', 'TBC1D23', 'TBC1D24', 'TBC1D24_RP11_20I23_1', 'TBC1D25', 'TBC1D25_snoU13', 'TBC1D26', 'TBC1D27', 'TBC1D28', 'TBC1D28_RP11_815I9_3', 'TBC1D28_ZNF286B', 'TBC1D29', 'TBC1D2B', 'TBC1D3', 'TBC1D30', 'TBC1D31', 'TBC1D32', 'TBC1D3B', 'TBC1D3C', 'TBC1D3F', 'TBC1D3G', 'TBC1D3H', 'TBC1D3H_TBC1D3C', 'TBC1D3H_TBC1D3G', 'TBC1D3H_TBC1D3G_CTB_91J4_3', 'TBC1D3P1_DHX40P1', 'TBC1D3P1_DHX40P1_DHX40P1', 'TBC1D3P1_DHX40P1_TBC1D3P1', 'TBC1D3P2', 'TBC1D3P2_RP11_51L5_7', 'TBC1D3P5', 'TBC1D4', 'TBC1D5', 'TBC1D7', 'TBC1D7_RP1_257A7_4', 'TBC1D8', 'TBC1D9', 'TBC1D9B', 'TBCA', 'TBCB', 'TBCCD1', 'TBCD', 'TBCE', 'TBCE_RP11_293G6_A_3', 'TBCEL', 'TBCK', 'TBK1', 'TBKBP1', 'TBL1X', 'TBL1XR1', 'TBL1Y', 'TBL2', 'TBL3', 'TBP', 'TBPL1', 'TBPL2', 'TBR1', 'TBR1_SLC4A10_AC009487_5', 'TBRG1', 'TBRG4', 'TBRG4_SNORA5B', 'TBX1', 'TBX10', 'TBX15', 'TBX18', 'TBX19', 'TBX2', 'TBX20', 'TBX21', 'TBX22_IL9R_SPRY3_VAMP7_WASH6P_DPH3P2_AJ271736_10', 'TBX3', 'TBX4', 'TBX5', 'TBX5_AS1', 'TBX6', 'TBXA2R', 'TBXAS1', 'TC2N', 'TCAIM', 'TCAM1P', 'TCAP', 'TCEA1', 'TCEA2', 'TCEA3', 'TCEAL3_IL9R_SPRY3_VAMP7_TCEAL1_WASH6P_DPH3P2_AJ271736_10', 'TCEAL3_IL9R_SPRY3_VAMP7_WASH6P_DPH3P2_AJ271736_10', 'TCEAL5_AMDP1_TRPC6P_TCEB1P24_DDX11L16_WASIR1', 'TCEAL6_AMDP1_TRPC6P_TCEB1P24_DDX11L16_WASIR1', 'TCEAL8_AMDP1_TRPC6P_TCEB1P24_DDX11L16_WASIR1', 'TCEANC', 'TCEANC2', 'TCEB1', 'TCEB2', 'TCEB3', 'TCEB3B', 'TCERG1', 'TCERG1L', 'TCF12', 'TCF15', 'TCF19', 'TCF20', 'TCF21', 'TCF23', 'TCF25', 'TCF25_RP11_566K11_7', 'TCF3', 'TCF4', 'TCF7', 'TCF7L1', 'TCF7L2', 'TCFL5', 'TCHH', 'TCHHL1', 'TCHP', 'TCIRG1', 'TCL1A', 'TCL1B_RP11_1070N10_6', 'TCL6', 'TCL6_RP11_1070N10_6', 'TCN1', 'TCN2', 'TCOF1', 'TCP1', 'TCP1_SNORA20', 'TCP1_SNORA29', 'TCP10', 'TCP10L', 'TCP10L_AP000275_65', 'TCP10L2', 'TCP11', 'TCP11L1', 'TCP11L2', 'TCTA', 'TCTE1', 'TCTE3', 'TCTEX1D1', 'TCTEX1D2', 'TCTEX1D2_RP11_447L10_1', 'TCTEX1D4', 'TCTN1', 'TCTN2', 'TCTN3', 'TDG', 'TDGF1', 'TDGF1_AC104304_1', 'TDH', 'TDO2', 'TDP1', 'TDP2', 'TDRD1', 'TDRD10', 'TDRD12', 'TDRD3', 'TDRD5', 'TDRD6', 'TDRD7', 'TDRD9', 'TDRG1', 'TDRKH', 'TDRP', 'TEAD1', 'TEAD2', 'TEAD3', 'TEAD4', 'TEC', 'TECPR1', 'TECPR2', 'TECR', 'TECRL', 'TECTA', 'TECTB', 'TEF', 'TEFM', 'TEK', 'TEKT1', 'TEKT2', 'TEKT3', 'TEKT4', 'TEKT4P2', 'TEKT5', 'TELO2', 'TEN1_CDK3_TEN1_CDK3', 'TEN1_TEN1_CDK3', 'TENC1', 'TENM1_AMDP1_TRPC6P_TCEB1P24_DDX11L16_WASIR1', 'TENM2', 'TENM3', 'TENM4', 'TEP1', 'TEP1_Y_RNA', 'TEPP', 'TERC', 'TERF1', 'TERF2', 'TERF2IP', 'TERT', 'TES', 'TESC', 'TESK1', 'TESK2', 'TESPA1', 'TET1', 'TET2', 'TET2_snoU13', 'TET3', 'TEX10', 'TEX101', 'TEX11_AMDP1_TRPC6P_TCEB1P24_DDX11L16_WASIR1', 'TEX12_SDHD', 'TEX13A_AMDP1_TRPC6P_TCEB1P24_DDX11L16_WASIR1', 'TEX13B_AMDP1_TRPC6P_TCEB1P24_DDX11L16_WASIR1', 'TEX14', 'TEX15', 'TEX15_Y_RNA', 'TEX2', 'TEX22', 'TEX26', 'TEX26_AS1', 'TEX261_AC007040_11', 'TEX264', 'TEX28_AMDP1_TRPC6P_TCEB1P24_DDX11L16_WASIR1', 'TEX29', 'TEX30', 'TEX33', 'TEX35', 'TEX35_C1orf220_C1ORF220', 'TEX36', 'TEX37', 'TEX40_RP11_783K16_10', 'TEX41', 'TEX9', 'TF', 'TF_TFP1', 'TFAM', 'TFAP2A', 'TFAP2A_AS1', 'TFAP2B', 'TFAP2C', 'TFAP2D', 'TFAP2E', 'TFAP4', 'TFB1M', 'TFB2M', 'TFCP2', 'TFCP2L1', 'TFDP1', 'TFDP2', 'TFDP3_AMDP1_TRPC6P_TCEB1P24_DDX11L16_WASIR1', 'TFE3', 'TFEB', 'TFEC', 'TFF1', 'TFF2', 'TFF3', 'TFG', 'TFIP11', 'TFP1', 'TFPI', 'TFPI2', 'TFPT', 'TFR2', 'TFRC', 'TG', 'TGDS', 'TGFA', 'TGFB1', 'TGFB1I1', 'TGFB2', 'TGFB3', 'TGFBI', 'TGFBR1', 'TGFBR2', 'TGFBR3', 'TGFBRAP1', 'TGIF1', 'TGIF2_TGIF2_C20orf24', 'TGIF2LY', 'TGM1', 'TGM2', 'TGM3', 'TGM4', 'TGM5', 'TGM6', 'TGM7', 'TGOLN2', 'TGS1', 'TH', 'THADA', 'THADA_Y_RNA', 'THAP1', 'THAP10', 'THAP2_RP11_293I14_2', 'THAP3', 'THAP4', 'THAP5', 'THAP6', 'THAP7', 'THAP7_AS1', 'THAP8', 'THAP9', 'THAP9_AS1', 'THBS1', 'THBS2', 'THBS3', 'THBS4', 'THEG', 'THEM4', 'THEM5', 'THEM6', 'THEMIS', 'THEMIS2', 'THG1L', 'THNSL1', 'THNSL2', 'THOC1', 'THOC2_AMDP1_TRPC6P_TCEB1P24_DDX11L16_WASIR1', 'THOC3', 'THOC5', 'THOC6', 'THOC7', 'THOP1', 'THPO', 'THRA', 'THRAP3', 'THRB', 'THRSP', 'THSD1', 'THSD4', 'THSD7A', 'THSD7B', 'THSD7B_SNORA51', 'THTPA_RP11_66N24_4', 'THUMPD1', 'THUMPD2', 'THUMPD3', 'THY1', 'THYN1', 'TIA1', 'TIAL1', 'TIAM1', 'TIAM2', 'TICAM1', 'TICRR', 'TIE1', 'TIFA', 'TIFAB', 'TIGD1_MIR5001', 'TIGD3', 'TIGD7', 'TIGIT', 'TIMD4', 'TIMELESS', 'TIMELESS_Y_RNA', 'TIMM10', 'TIMM10B', 'TIMM10B_DNHD1', 'TIMM13', 'TIMM13_LMNB2', 'TIMM17A', 'TIMM17B', 'TIMM21', 'TIMM22', 'TIMM23', 'TIMM23B', 'TIMM44', 'TIMM44_Y_RNA', 'TIMM50', 'TIMM8A_AMDP1_TRPC6P_TCEB1P24_DDX11L16_WASIR1', 'TIMM8B', 'TIMM9', 'TIMMDC1', 'TIMP1', 'TIMP2', 'TIMP2_DDC8', 'TIMP3', 'TIMP4', 'TINAG', 'TINAGL1', 'TINCR', 'TINF2', 'TIPARP', 'TIPIN', 'TIPRL', 'TIRAP', 'TJAP1', 'TJP1', 'TJP2', 'TJP3', 'TK1', 'TK2', 'TK2_RP11_403P17_5', 'TK2_Y_RNA', 'TKT', 'TKTL1_IL9R_SPRY3_VAMP7_WASH6P_DPH3P2_AJ271736_10', 'TLCD1', 'TLDC1', 'TLDC2', 'TLE1', 'TLE2', 'TLE2_SNORA70', 'TLE3', 'TLE4', 'TLE6', 'TLK1', 'TLK2', 'TLL1', 'TLL2', 'TLN1', 'TLN2', 'TLR1', 'TLR1_TLR6', 'TLR10', 'TLR3', 'TLR4', 'TLR5', 'TLR7', 'TLR8', 'TLR9', 'TLX1', 'TLX1NB', 'TLX2', 'TLX3', 'TM2D1', 'TM2D2', 'TM2D3', 'TM4SF1', 'TM4SF18', 'TM4SF19', 'TM4SF19_TCTEX1D2_RP11_447L10_1', 'TM4SF19_AS1', 'TM4SF20', 'TM4SF4', 'TM4SF5', 'TM6SF1', 'TM6SF2', 'TM6SF2_AC138430_4', 'TM7SF2', 'TM7SF3', 'TM9SF1', 'TM9SF1_CHMP4A_AL136419_6', 'TM9SF1_IPO4_RP11_468E2_2', 'TM9SF1_MDP1_CHMP4A_AL136419_6_NEDD8_MDP1', 'TM9SF2', 'TM9SF3', 'TM9SF4', 'TMA16', 'TMA7', 'TMBIM1', 'TMBIM4', 'TMBIM4_LLPH', 'TMBIM6', 'TMC1', 'TMC2', 'TMC3', 'TMC4', 'TMC5', 'TMC6', 'TMC7', 'TMC8', 'TMCC1', 'TMCC1_AS1', 'TMCC2', 'TMCC3', 'TMCO1', 'TMCO2', 'TMCO2_snoU13', 'TMCO3', 'TMCO4', 'TMCO5A', 'TMCO6', 'TMED1', 'TMED10', 'TMED2', 'TMED3', 'TMED4', 'TMED5', 'TMED6_RP11_343C2_7_RP11_343C2_9', 'TMED7_TICAM2_TICAM2_TMED7', 'TMED8', 'TMED9', 'TMED9_SNORA51', 'TMEFF1_MSANTD3_MSANTD3_TMEFF1', 'TMEFF1_MSANTD3_TMEFF1', 'TMEFF2', 'TMEM100', 'TMEM101', 'TMEM102', 'TMEM104', 'TMEM105', 'TMEM106A', 'TMEM106B', 'TMEM106C', 'TMEM107', 'TMEM108', 'TMEM109', 'TMEM11', 'TMEM110_TMEM110_MUSTN1', 'TMEM114', 'TMEM115', 'TMEM116', 'TMEM117', 'TMEM119', 'TMEM120A', 'TMEM120B', 'TMEM121', 'TMEM123', 'TMEM125', 'TMEM126A', 'TMEM126B', 'TMEM127', 'TMEM128', 'TMEM129', 'TMEM130', 'TMEM131', 'TMEM132A', 'TMEM132B', 'TMEM132C', 'TMEM132D', 'TMEM132E', 'TMEM134', 'TMEM135', 'TMEM136', 'TMEM138', 'TMEM139', 'TMEM140', 'TMEM141', 'TMEM141_RP11_216L13_17', 'TMEM143', 'TMEM144', 'TMEM144_RP11_597D13_9', 'TMEM145', 'TMEM147', 'TMEM14A', 'TMEM14B', 'TMEM14C', 'TMEM150A', 'TMEM150B', 'TMEM150C', 'TMEM151A', 'TMEM151B', 'TMEM151B_RP11_444E17_6', 'TMEM154', 'TMEM155', 'TMEM156', 'TMEM159', 'TMEM160', 'TMEM161A', 'TMEM161B', 'TMEM161B_AS1', 'TMEM163', 'TMEM165', 'TMEM167A', 'TMEM167B', 'TMEM168', 'TMEM169', 'TMEM17', 'TMEM170A', 'TMEM170A_RP11_77K12_1', 'TMEM170B', 'TMEM171', 'TMEM173', 'TMEM174', 'TMEM175', 'TMEM176A', 'TMEM176B', 'TMEM177', 'TMEM178A', 'TMEM179', 'TMEM179B', 'TMEM18', 'TMEM180', 'TMEM181', 'TMEM182', 'TMEM183A', 'TMEM184A', 'TMEM184B', 'TMEM184C', 'TMEM185A_AMDP1_TRPC6P_TCEB1P24_DDX11L16_WASIR1', 'TMEM186', 'TMEM189', 'TMEM189_TMEM189_UBE2V1', 'TMEM19', 'TMEM19_RP11_293I14_2', 'TMEM190', 'TMEM191A', 'TMEM191C', 'TMEM192', 'TMEM194A', 'TMEM194B', 'TMEM196', 'TMEM198', 'TMEM198B', 'TMEM199_CTB_96E2_3', 'TMEM199_SARM1_CTB_96E2_3', 'TMEM2', 'TMEM200A', 'TMEM200C', 'TMEM201', 'TMEM202', 'TMEM204', 'TMEM205', 'TMEM206', 'TMEM207', 'TMEM208', 'TMEM209', 'TMEM211', 'TMEM212', 'TMEM213', 'TMEM214', 'TMEM215', 'TMEM216', 'TMEM217', 'TMEM218', 'TMEM219', 'TMEM219_snoU13', 'TMEM220', 'TMEM222', 'TMEM223', 'TMEM225', 'TMEM229B', 'TMEM230', 'TMEM231_RP11_77K12_8', 'TMEM232', 'TMEM233', 'TMEM234', 'TMEM235', 'TMEM236', 'TMEM237', 'TMEM237_ENO1P4', 'TMEM239_C20orf141', 'TMEM240', 'TMEM241', 'TMEM242', 'TMEM243', 'TMEM244', 'TMEM245', 'TMEM246', 'TMEM247', 'TMEM248', 'TMEM249', 'TMEM25', 'TMEM25_TTC36', 'TMEM25_snoU13', 'TMEM251_RP11_371E8_4', 'TMEM252', 'TMEM253', 'TMEM254', 'TMEM254_AS1', 'TMEM255A_AMDP1_TRPC6P_TCEB1P24_DDX11L16_WASIR1', 'TMEM255B', 'TMEM256_TMEM256_PLSCR3_C17orf61_PLSCR3', 'TMEM256_PLSCR3_C17orf61_PLSCR3', 'TMEM258', 'TMEM258_MIR611', 'TMEM259', 'TMEM26', 'TMEM260', 'TMEM27', 'TMEM30A', 'TMEM30C', 'TMEM33', 'TMEM37', 'TMEM38A', 'TMEM38B', 'TMEM39A', 'TMEM39B', 'TMEM40', 'TMEM41A', 'TMEM41B', 'TMEM42', 'TMEM43', 'TMEM43_RP11_434D12_1', 'TMEM44', 'TMEM44_AS1', 'TMEM45A', 'TMEM45B', 'TMEM47', 'TMEM5', 'TMEM50A', 'TMEM50B', 'TMEM51', 'TMEM51_AS1', 'TMEM52', 'TMEM52B', 'TMEM53', 'TMEM54', 'TMEM55A', 'TMEM55B', 'TMEM56_RP11_57H12_6', 'TMEM57', 'TMEM59', 'TMEM59L', 'TMEM60', 'TMEM61', 'TMEM62', 'TMEM63A', 'TMEM63B', 'TMEM63C', 'TMEM63C_RP11_463C8_4', 'TMEM64', 'TMEM65', 'TMEM66', 'TMEM67', 'TMEM68', 'TMEM69', 'TMEM70', 'TMEM71', 'TMEM72', 'TMEM72_AS1', 'TMEM74', 'TMEM74B', 'TMEM75', 'TMEM79', 'TMEM80', 'TMEM82', 'TMEM86A', 'TMEM86B', 'TMEM87A', 'TMEM87B', 'TMEM88', 'TMEM88B', 'TMEM89', 'TMEM8A', 'TMEM8B', 'TMEM8C', 'TMEM9', 'TMEM91', 'TMEM91_CTC_435M10_3', 'TMEM92', 'TMEM95', 'TMEM97', 'TMEM98', 'TMEM99', 'TMEM9B', 'TMF1', 'TMIE', 'TMIGD1', 'TMIGD2', 'TMLHE_AMDP1_TRPC6P_TCEB1P24_DDX11L16_WASIR1', 'TMOD1', 'TMOD2', 'TMOD3', 'TMPO', 'TMPO_AS1', 'TMPPE', 'TMPRSS11A', 'TMPRSS11B', 'TMPRSS11D', 'TMPRSS11E', 'TMPRSS11F', 'TMPRSS11F_Y_RNA', 'TMPRSS12', 'TMPRSS13', 'TMPRSS15', 'TMPRSS2', 'TMPRSS2_Y_RNA', 'TMPRSS3', 'TMPRSS4', 'TMPRSS4_AS1', 'TMPRSS5', 'TMPRSS6', 'TMPRSS7', 'TMPRSS9', 'TMSB10', 'TMSB15A_AMDP1_TRPC6P_TCEB1P24_DDX11L16_WASIR1', 'TMSB4X', 'TMSB4XP2', 'TMSB4Y', 'TMTC1', 'TMTC2', 'TMTC3', 'TMTC4', 'TMUB1', 'TMUB2', 'TMX1', 'TMX2', 'TMX2_TMX2_CTNND1', 'TMX3', 'TMX4', 'TNC', 'TNF', 'TNFAIP1', 'TNFAIP2', 'TNFAIP3', 'TNFAIP6', 'TNFAIP8', 'TNFAIP8L2', 'TNFAIP8L3', 'TNFRSF10A', 'TNFRSF10B', 'TNFRSF10C', 'TNFRSF10D', 'TNFRSF11A', 'TNFRSF11B', 'TNFRSF12A', 'TNFRSF13B', 'TNFRSF13B_TBC1D27', 'TNFRSF13C', 'TNFRSF14', 'TNFRSF17', 'TNFRSF18', 'TNFRSF19', 'TNFRSF1A', 'TNFRSF1B', 'TNFRSF21', 'TNFRSF25', 'TNFRSF25_PLEKHG5', 'TNFRSF4', 'TNFRSF8', 'TNFRSF9', 'TNFRSF9_Y_RNA', 'TNFSF10', 'TNFSF11', 'TNFSF12', 'TNFSF12_TNFSF12_TNFSF13', 'TNFSF13', 'TNFSF13_TNFSF12_TNFSF12_TNFSF13', 'TNFSF13B', 'TNFSF14', 'TNFSF15', 'TNFSF18', 'TNFSF4', 'TNFSF8', 'TNFSF9', 'TNIK', 'TNIP1', 'TNIP2', 'TNIP3', 'TNK1', 'TNK2', 'TNK2_AS1', 'TNKS', 'TNKS1BP1', 'TNKS2', 'TNMD_IL9R_SPRY3_VAMP7_WASH6P_DPH3P2_AJ271736_10', 'TNN', 'TNNC1', 'TNNC2', 'TNNI1', 'TNNI2', 'TNNI3', 'TNNI3_CTD_2587H24_4', 'TNNT1', 'TNNT2', 'TNNT3', 'TNP1', 'TNP2', 'TNPO1', 'TNPO2', 'TNPO3', 'TNR', 'TNRC18', 'TNRC18_Y_RNA', 'TNRC6A', 'TNRC6B', 'TNRC6C', 'TNRC6C_AC021593_1', 'TNS1', 'TNS1_AC009469_1', 'TNS3', 'TNS4', 'TNXA', 'TNXB', 'TNXB_ATF6B', 'TOB1', 'TOB2', 'TOB2P1', 'TOE1', 'TOLLIP', 'TOM1', 'TOM1L1', 'TOM1L2', 'TOMM20', 'TOMM20L', 'TOMM22', 'TOMM34', 'TOMM40', 'TOMM40L', 'TOMM40L_MIR5187', 'TOMM5', 'TOMM5_RP11_613M10_8', 'TOMM7', 'TOMM70A', 'TONSL', 'TOP1', 'TOP1MT', 'TOP2A', 'TOP2B', 'TOP3A', 'TOP3B', 'TOPAZ1', 'TOPBP1', 'TOPORS', 'TOPORS_AS1', 'TOR1A', 'TOR1AIP1', 'TOR1AIP2', 'TOR1B', 'TOR2A', 'TOR3A', 'TOR4A', 'TOX', 'TOX2', 'TOX3', 'TOX4', 'TP53', 'TP53BP1', 'TP53BP2', 'TP53I11', 'TP53I13', 'TP53I3', 'TP53INP1', 'TP53INP2', 'TP53RK', 'TP53TG1', 'TP53TG3', 'TP53TG3B', 'TP53TG3C', 'TP53TG3D', 'TP53TG5', 'TP63', 'TP73', 'TP73_AS1', 'TPBG', 'TPCN1', 'TPCN2', 'TPCN2_snoU13', 'TPD52', 'TPD52L1', 'TPD52L2', 'TPD52L3', 'TPGS1', 'TPGS2', 'TPH1', 'TPH1_RP1_59M18_2', 'TPH2', 'TPI1', 'TPK1', 'TPM1', 'TPM2', 'TPM3', 'TPM3_RN7SL431P', 'TPM3P9_ZNF761', 'TPM4', 'TPMT', 'TPO', 'TPP1', 'TPP2', 'TPPP', 'TPPP2', 'TPPP3', 'TPR', 'TPRA1', 'TPRG1', 'TPRG1L', 'TPRKB', 'TPRN', 'TPRX1', 'TPRXL', 'TPRXL_FGD5P1', 'TPSAB1', 'TPSB2', 'TPSD1', 'TPSD1_RP11_616M22_5', 'TPSG1', 'TPST1', 'TPST2', 'TPT1', 'TPT1_SNORA31', 'TPT1_AS1', 'TPTE', 'TPTE_BAGE2', 'TPTE2', 'TPTE2P1', 'TPTE2P2', 'TPTE2P2_RP11_248G5_8', 'TPTE2P3', 'TPTE2P3_RP11_78J21_4', 'TPTE2P5', 'TPTE2P6_RP11_556N21_1', 'TPTEP1', 'TPX2', 'TRA2A', 'TRA2B', 'TRABD', 'TRABD2A', 'TRAC', 'TRADD', 'TRAF1', 'TRAF2', 'TRAF3', 'TRAF3IP1', 'TRAF3IP2', 'TRAF3IP2_AS1', 'TRAF3IP3', 'TRAF4', 'TRAF5', 'TRAF6', 'TRAF7', 'TRAFD1', 'TRAIP', 'TRAJ11', 'TRAJ13', 'TRAJ15', 'TRAJ18', 'TRAJ20', 'TRAJ21', 'TRAJ23', 'TRAJ27', 'TRAJ28', 'TRAJ29', 'TRAJ30', 'TRAJ32', 'TRAJ35', 'TRAJ36', 'TRAJ37', 'TRAJ4', 'TRAJ43', 'TRAJ45', 'TRAJ46', 'TRAJ48', 'TRAJ49', 'TRAJ50', 'TRAJ52', 'TRAJ53', 'TRAJ54', 'TRAJ56', 'TRAJ57', 'TRAJ58', 'TRAJ8', 'TRAK1', 'TRAK2', 'TRAM1', 'TRAM2', 'TRAM2_AS1', 'TRANK1', 'TRAP1', 'TRAPPC1', 'TRAPPC10', 'TRAPPC11', 'TRAPPC12', 'TRAPPC13', 'TRAPPC13_CTC_534A2_2', 'TRAPPC2', 'TRAPPC2L', 'TRAPPC2P1', 'TRAPPC3', 'TRAPPC3L', 'TRAPPC4', 'TRAPPC5', 'TRAPPC5_CTD_3214H19_16', 'TRAPPC6A', 'TRAPPC6B', 'TRAPPC8', 'TRAPPC9', 'TRAT1', 'TRAV1_1', 'TRAV1_2', 'TRAV10', 'TRAV12_1', 'TRAV12_2', 'TRAV12_3', 'TRAV13_1', 'TRAV13_2', 'TRAV14DV4', 'TRAV16', 'TRAV17', 'TRAV18', 'TRAV19', 'TRAV2', 'TRAV20', 'TRAV21', 'TRAV22', 'TRAV23DV6', 'TRAV24', 'TRAV25', 'TRAV26_1', 'TRAV26_2', 'TRAV27', 'TRAV29DV5', 'TRAV3', 'TRAV30', 'TRAV34', 'TRAV35', 'TRAV36DV7', 'TRAV38_1', 'TRAV38_2DV8', 'TRAV39', 'TRAV4', 'TRAV40', 'TRAV41', 'TRAV5', 'TRAV6', 'TRAV8_1', 'TRAV8_2', 'TRAV8_3', 'TRAV8_4', 'TRAV8_6', 'TRAV9_2', 'TRBC2', 'TRBJ2_1', 'TRBJ2_3', 'TRBJ2_6', 'TRBV10_1', 'TRBV10_2', 'TRBV11_1', 'TRBV11_2', 'TRBV19', 'TRBV2', 'TRBV20_1', 'TRBV21_1', 'TRBV24_1', 'TRBV25_1', 'TRBV27', 'TRBV28', 'TRBV29_1', 'TRBV3_1', 'TRBV30', 'TRBV4_1', 'TRBV4_2', 'TRBV5_1', 'TRBV5_4', 'TRBV5_5', 'TRBV5_6', 'TRBV6_1', 'TRBV6_6', 'TRBV6_7', 'TRBV6_9', 'TRBV7_1', 'TRBV7_3', 'TRBV7_6', 'TRBV7_7', 'TRBV7_8', 'TRDD3', 'TRDJ1', 'TRDJ2', 'TRDJ3', 'TRDJ4', 'TRDMT1', 'TRDN', 'TRDV1', 'TRDV2', 'TRDV3', 'TREH', 'TREM1', 'TREM2', 'TREML1', 'TREML2', 'TREML3P', 'TREML4', 'TREML5P', 'TRERF1', 'TREX1_ATRIP', 'TREX2_AMDP1_TRPC6P_TCEB1P24_DDX11L16_WASIR1', 'TREX2_HAUS7_AMDP1_TRPC6P_TCEB1P24_DDX11L16_WASIR1', 'TRGC1', 'TRGC2', 'TRGJP', 'TRGJP1', 'TRGJP2', 'TRGV10', 'TRGV11', 'TRGV2', 'TRGV3', 'TRGV7', 'TRGV8', 'TRGV9', 'TRH', 'TRHDE', 'TRHDE_AS1', 'TRIAP1', 'TRIB1', 'TRIB2', 'TRIB3', 'TRIL_AC005013_1', 'TRIM10', 'TRIM11', 'TRIM13', 'TRIM13_KCNRG', 'TRIM14', 'TRIM15', 'TRIM16', 'TRIM16_RP11_385D13_1', 'TRIM16L', 'TRIM16L_RP11_815I9_5', 'TRIM17', 'TRIM2', 'TRIM21', 'TRIM22', 'TRIM23', 'TRIM24', 'TRIM25', 'TRIM26', 'TRIM27', 'TRIM28', 'TRIM29', 'TRIM3', 'TRIM31', 'TRIM32', 'TRIM33', 'TRIM34', 'TRIM35', 'TRIM36', 'TRIM37', 'TRIM38', 'TRIM39', 'TRIM39_TRIM39_RPP21', 'TRIM4', 'TRIM4_OR2AE1', 'TRIM40', 'TRIM41', 'TRIM42', 'TRIM43', 'TRIM44', 'TRIM45', 'TRIM46', 'TRIM47', 'TRIM48', 'TRIM49', 'TRIM49C', 'TRIM49D1', 'TRIM49D2P', 'TRIM5', 'TRIM50', 'TRIM51', 'TRIM51HP', 'TRIM52', 'TRIM52_AS1', 'TRIM52_AS1_CTC_338M12_4', 'TRIM53AP', 'TRIM53BP', 'TRIM54', 'TRIM55', 'TRIM56', 'TRIM58', 'TRIM58_OR2W3', 'TRIM59_RP11_432B6_3', 'TRIM6', 'TRIM6_TRIM6_TRIM34', 'TRIM6_TRIM34_TRIM34', 'TRIM60', 'TRIM61', 'TRIM61_RP11_366M4_11', 'TRIM62', 'TRIM63', 'TRIM64', 'TRIM65', 'TRIM66', 'TRIM67', 'TRIM68', 'TRIM69', 'TRIM7', 'TRIM71', 'TRIM72', 'TRIM73', 'TRIM74', 'TRIM77', 'TRIM8', 'TRIM9', 'TRIML1', 'TRIML2', 'TRIO', 'TRIOBP', 'TRIOBP_NOL12', 'TRIP10', 'TRIP11', 'TRIP12', 'TRIP13', 'TRIP4', 'TRIP6', 'TRIQK', 'TRIT1', 'TRMT1', 'TRMT10A', 'TRMT10B', 'TRMT10C', 'TRMT11', 'TRMT112', 'TRMT13', 'TRMT1L', 'TRMT2A', 'TRMT2B_AMDP1_TRPC6P_TCEB1P24_DDX11L16_WASIR1', 'TRMT44', 'TRMT5', 'TRMT6', 'TRMT61A', 'TRMT61B', 'TRMU', 'TRNAU1AP', 'TRNP1', 'TRNT1', 'TRO', 'TROAP', 'TROVE2', 'TRPA1', 'TRPC1', 'TRPC2', 'TRPC3', 'TRPC3_Y_RNA', 'TRPC4', 'TRPC4AP', 'TRPC5_AMDP1_TRPC6P_TCEB1P24_DDX11L16_WASIR1', 'TRPC6', 'TRPC6_Y_RNA', 'TRPC7', 'TRPM1', 'TRPM2', 'TRPM2_snoZ6', 'TRPM3', 'TRPM4', 'TRPM5', 'TRPM6', 'TRPM7', 'TRPM8', 'TRPS1', 'TRPT1', 'TRPV1', 'TRPV1_SHPK', 'TRPV2', 'TRPV2_AC093484_4', 'TRPV3', 'TRPV3_SPATA22', 'TRPV4', 'TRPV5', 'TRPV6', 'TRRAP', 'TRRAP_AC004893_11', 'TRUB1', 'TRUB2', 'TSACC', 'TSC1', 'TSC2', 'TSC22D1', 'TSC22D2', 'TSC22D3_AMDP1_TRPC6P_TCEB1P24_DDX11L16_WASIR1', 'TSC22D4', 'TSC22D4_C7orf61', 'TSEN15', 'TSEN2', 'TSEN34', 'TSEN54', 'TSFM', 'TSFM_RP11_571M6_15', 'TSG101', 'TSGA10', 'TSGA10IP', 'TSGA13', 'TSGA13_COPG2', 'TSHB', 'TSHR', 'TSHZ1', 'TSHZ2', 'TSHZ3', 'TSKS', 'TSKU', 'TSLP', 'TSN', 'TSNARE1', 'TSNAX_TSNAX_DISC1', 'TSNAX_DISC1', 'TSNAXIP1', 'TSPAN1', 'TSPAN10', 'TSPAN11', 'TSPAN12', 'TSPAN13', 'TSPAN14', 'TSPAN15', 'TSPAN16', 'TSPAN17', 'TSPAN18', 'TSPAN19', 'TSPAN2', 'TSPAN3', 'TSPAN31', 'TSPAN32', 'TSPAN33', 'TSPAN4', 'TSPAN5', 'TSPAN6_AMDP1_TRPC6P_TCEB1P24_DDX11L16_WASIR1', 'TSPAN7', 'TSPAN7_TM4SF2', 'TSPAN8', 'TSPAN9', 'TSPEAR', 'TSPO', 'TSPO2', 'TSPY1', 'TSPY10', 'TSPY2', 'TSPY26P', 'TSPY3', 'TSPY3_TSPY1', 'TSPY4', 'TSPY6P', 'TSPY8', 'TSPY8_TSPY7P', 'TSPYL6', 'TSR1', 'TSR2', 'TSR3', 'TSSC1', 'TSSC2', 'TSSC4', 'TSSK1B', 'TSSK2', 'TSSK3', 'TSSK4', 'TSSK6', 'TST', 'TSTA3', 'TSTD1', 'TSTD1_F11R', 'TSTD2', 'TSTD3', 'TTBK1', 'TTBK2', 'TTC1', 'TTC12', 'TTC13', 'TTC14', 'TTC16', 'TTC17', 'TTC18', 'TTC19', 'TTC21A', 'TTC21B', 'TTC22', 'TTC23', 'TTC23L', 'TTC24', 'TTC25', 'TTC26', 'TTC27', 'TTC28', 'TTC28_AS1', 'TTC29', 'TTC3', 'TTC31', 'TTC32', 'TTC33', 'TTC36', 'TTC37', 'TTC38', 'TTC39A', 'TTC39B', 'TTC39C', 'TTC4_MROH7_TTC4', 'TTC40', 'TTC5', 'TTC6', 'TTC7A', 'TTC7B', 'TTC8', 'TTC9', 'TTC9B', 'TTC9C', 'TTF1', 'TTF2', 'TTI1', 'TTI1_Y_RNA', 'TTI2', 'TTI2_FUT10', 'TTK', 'TTL', 'TTLL1', 'TTLL10', 'TTLL10_AS1', 'TTLL11', 'TTLL11_IT1', 'TTLL12', 'TTLL13', 'TTLL13_RP11_697E2_6', 'TTLL2', 'TTLL3', 'TTLL4', 'TTLL5', 'TTLL5_IFT43', 'TTLL6', 'TTLL7', 'TTLL9', 'TTN', 'TTN_AS1', 'TTPA', 'TTPAL', 'TTR', 'TTTY1', 'TTTY10', 'TTTY11', 'TTTY12', 'TTTY13', 'TTTY14', 'TTTY15', 'TTTY16', 'TTTY17A', 'TTTY17B', 'TTTY17C', 'TTTY18', 'TTTY19', 'TTTY1B', 'TTTY2', 'TTTY20', 'TTTY21', 'TTTY21B', 'TTTY22', 'TTTY23', 'TTTY23B', 'TTTY23B_AC006335_6_AC006335_2', 'TTTY2B', 'TTTY3', 'TTTY4', 'TTTY4B', 'TTTY4C', 'TTTY5', 'TTTY6', 'TTTY6B', 'TTTY7', 'TTTY7B', 'TTTY8', 'TTTY8B', 'TTTY9B', 'TTYH1', 'TTYH2', 'TTYH3', 'TUB', 'TUBA1A', 'TUBA1B', 'TUBA1C', 'TUBA3C', 'TUBA3D', 'TUBA3E', 'TUBA3FP', 'TUBA4A', 'TUBA4B', 'TUBAL3', 'TUBB', 'TUBB1', 'TUBB2A', 'TUBB2B', 'TUBB3', 'TUBB4A', 'TUBB4B', 'TUBB6', 'TUBB7P', 'TUBB8', 'TUBB8P7', 'TUBBP5', 'TUBD1', 'TUBE1', 'TUBG1', 'TUBG2', 'TUBGCP2', 'TUBGCP3', 'TUBGCP4', 'TUBGCP5', 'TUBGCP6', 'TUFM', 'TUFT1', 'TUFT1_RP11_74C1_4', 'TUG1', 'TULP1', 'TULP2', 'TULP3', 'TULP3_RHNO1', 'TULP4', 'TUSC2', 'TUSC3', 'TUSC5', 'TUSC7', 'TUT1_MIR3654', 'TVP23A', 'TVP23B', 'TVP23C_CDRT4_TVP23C_CDRT4', 'TVP23C_TVP23C_CDRT4', 'TWF1', 'TWF2_TLR9', 'TWIST1', 'TWIST2', 'TWISTNB', 'TWSG1', 'TXK', 'TXLNA', 'TXLNB', 'TXLNB_RP1_225E12_3', 'TXLNG', 'TXLNG2P', 'TXN', 'TXN2', 'TXNDC11', 'TXNDC12', 'TXNDC15', 'TXNDC16', 'TXNDC17', 'TXNDC2', 'TXNDC5_BLOC1S5_TXNDC5', 'TXNDC8', 'TXNDC9', 'TXNIP', 'TXNL1', 'TXNL4A', 'TXNL4B', 'TXNRD1', 'TXNRD2', 'TXNRD3', 'TXNRD3_TXNRD3NB', 'TYK2', 'TYMP', 'TYMP_ODF3B', 'TYMP_SCO2', 'TYMS', 'TYR', 'TYRO3', 'TYROBP', 'TYRP1', 'TYSND1', 'TYW1', 'TYW1B', 'TYW3', 'TYW5', 'U2AF1', 'U2AF1L4_AD000671_6', 'U2AF2', 'U2SURP', 'U2SURP_RP11_372E1_6', 'U3', 'U3_REPIN1', 'U3_RP11_795J1_1', 'U3_RP11_804N13_1', 'U3_TUBA4B', 'U66059_29', 'U73166_2', 'UACA', 'UAP1', 'UAP1L1', 'UBA1', 'UBA2', 'UBA3', 'UBA5', 'UBA52', 'UBA6', 'UBA6_AS1', 'UBA7', 'UBA7_MIR5193', 'UBAC1', 'UBAC2', 'UBAC2_AS1', 'UBALD1', 'UBALD2', 'UBAP1', 'UBAP1L', 'UBAP2', 'UBAP2L', 'UBASH3A', 'UBASH3B', 'GP1BA', 'GP2', 'GP5', 'GP6', 'GP6_CTC_550B14_6', 'GP9', 'GPA33', 'GPAA1', 'GPALPP1', 'GPAM', 'GPANK1', 'GPAT2', 'GPATCH1', 'GPATCH11', 'GPATCH2', 'GPATCH2L', 'GPATCH3', 'GPATCH4', 'GPATCH8', 'GPBAR1', 'GPBP1', 'GPBP1L1', 'GPC1', 'GPC2', 'GPC3_AMDP1_TRPC6P_TCEB1P24_DDX11L16_WASIR1', 'GPC4_AMDP1_TRPC6P_TCEB1P24_DDX11L16_WASIR1', 'GPC5', 'GPC6', 'GPCPD1', 'GPCPD1_SNORD112', 'GPD1', 'GPD1L', 'GPD2', 'GPER1', 'GPHA2', 'GPHN', 'GPI', 'GPI_RP11_618P17_4', 'GPIHBP1', 'GPKOW', 'GPLD1', 'GPM6A', 'GPM6B', 'GPN1', 'GPN2', 'GPN3', 'GPNMB', 'GPR1', 'GPR107', 'GPR108', 'GPR110', 'GPR111', 'GPR113', 'GPR114', 'GPR115', 'GPR115_GPR111', 'GPR116', 'GPR12', 'GPR123', 'GPR124', 'GPR125', 'GPR126', 'GPR128', 'GPR132', 'GPR133', 'GPR135', 'GPR137', 'GPR137B', 'GPR137C', 'GPR139', 'GPR141', 'GPR142', 'GPR143', 'GPR144', 'GPR146', 'GPR149', 'GPR150', 'GPR151', 'GPR153', 'GPR155', 'GPR156', 'GPR157', 'GPR158', 'GPR158_AS1', 'GPR160', 'GPR161', 'GPR162', 'GPR162_LEPREL2', 'GPR17', 'GPR171', 'GPR173', 'GPR176', 'GPR176_RP11_37C7_1', 'GPR179', 'GPR18', 'GPR180', 'GPR182', 'GPR183', 'GPR19', 'GPR20', 'GPR22', 'GPR25', 'GPR26', 'GPR3', 'GPR34', 'GPR35', 'GPR37', 'GPR37L1', 'GPR39', 'GPR45', 'GPR52', 'GPR55', 'GPR56', 'GPR6', 'GPR61', 'GPR63', 'GPR64', 'GPR68', 'GPR75', 'GPR75_ASB3_ASB3', 'GPR75_ASB3_GPR75_ASB3', 'GPR78', 'GPR82', 'GPR83', 'GPR85', 'GPR87', 'GPR88', 'GPR89A', 'GPR89B', 'GPR89C', 'GPR97', 'GPR98', 'GPRC5A', 'GPRC5B', 'GPRC5C', 'GPRC5D', 'GPRC6A', 'GPRIN1', 'GPRIN2', 'GPRIN3', 'GPS1', 'GPS2_RP11_542C16_2', 'GPSM1', 'GPSM2', 'GPSM3', 'GPSM3_NOTCH4', 'GPT', 'GPT2', 'GPX2', 'GPX3', 'GPX4', 'GPX5', 'GPX6', 'GPX7', 'GPX8', 'GRAMD1A', 'GRAMD1B', 'GRAMD1C', 'GRAMD2', 'GRAMD3', 'GRAMD4', 'GRAP', 'GRAP2', 'GRAPL', 'GRASP', 'GRB10', 'GRB14', 'GRB2', 'GRB7', 'GREB1', 'GREB1L', 'GREM1', 'GREM2', 'GRHL1', 'GRHL2', 'GRHL3', 'GRHPR', 'GRIA1', 'GRIA2', 'GRIA2_AC079233_1', 'GRIA3_IL9R_SPRY3_VAMP7_WASH6P_DPH3P2_AJ271736_10', 'GRIA3_IL9R_SPRY3_VAMP7_WASH6P_DPH3P2_AJ271736_10_AL356213_1', 'GRIA4', 'GRIA4_AP000673_1', 'GRID1', 'GRID2', 'GRID2IP', 'GRIK1', 'GRIK1_AS1', 'GRIK2', 'GRIK3', 'GRIK4', 'GRIK4_AP002348_1', 'GRIK5', 'GRIN1', 'GRIN2A', 'GRIN2B', 'GRIN2C', 'GRIN2D', 'GRIN3A', 'GRIN3B', 'GRINA', 'GRIP1', 'GRIP2', 'GRIPAP1', 'GRK1', 'GRK4', 'GRK5', 'GRK6', 'GRK7', 'GRM1', 'GRM2', 'GRM3', 'GRM4', 'GRM5', 'GRM6', 'GRM7', 'GRM8', 'GRN', 'GRP', 'GRPEL1', 'GRPEL2', 'GRPR', 'GRSF1', 'GRTP1', 'GRWD1', 'GRWD1_KCNJ14', 'GRXCR1', 'GRXCR2', 'GS1_124K5_11', 'GS1_124K5_12', 'GS1_18A18_2', 'GS1_204I12_1', 'GS1_279B7_1', 'GSAP', 'GSC', 'GSC2', 'GSDMA', 'GSDMB', 'GSDMC', 'GSDMD', 'GSE1', 'GSG1', 'GSG1L', 'GSK3A', 'GSK3A_AC006486_9', 'GSK3B', 'GSKIP', 'GSN', 'GSN_snoU13', 'GSPT1', 'GSPT1_AC007216_1', 'GSR', 'GSS', 'GSTA1', 'GSTA2', 'GSTA3', 'GSTA4', 'GSTA5', 'GSTCD', 'GSTK1', 'GSTM1', 'GSTM2', 'GSTM3', 'GSTM4', 'GSTM5', 'GSTO1', 'GSTO2', 'GSTP1', 'GSTT1', 'GSTT2', 'GSTT2B', 'GSTTP1', 'GSTTP2', 'GSTZ1', 'GSX1', 'GSX2', 'GTDC1', 'GTF2A1', 'GTF2A2', 'GTF2B', 'GTF2B_Y_RNA', 'GTF2E1', 'GTF2E2', 'GTF2F1', 'GTF2F2', 'GTF2H1', 'GTF2H2', 'GTF2H2B', 'GTF2H2C', 'GTF2H3', 'GTF2H5', 'GTF2I', 'GTF2IP1', 'GTF2IP1_AC138783_13', 'GTF2IRD1', 'GTF2IRD1P1', 'GTF2IRD2', 'GTF2IRD2B', 'GTF2IRD2P1', 'GTF3A', 'GTF3C1', 'GTF3C2', 'GTF3C3', 'GTF3C3_Y_RNA', 'GTF3C4', 'GTF3C5', 'GTF3C6', 'GTPBP1', 'GTPBP10', 'GTPBP2', 'GTPBP3', 'GTPBP4', 'GTPBP6', 'GTPBP8', 'GTSE1', 'GTSF1', 'GUCA1A', 'GUCA1A_RP1_139D8_6', 'GUCA1B', 'GUCA1C', 'GUCA2A', 'GUCA2B', 'GUCD1', 'GUCD1_Y_RNA', 'GUCY1A2', 'GUCY1A3', 'GUCY1B2', 'GUCY1B3', 'GUCY2C', 'GUCY2D', 'GUCY2EP', 'GUCY2F_AMDP1_TRPC6P_TCEB1P24_DDX11L16_WASIR1', 'GUCY2GP', 'GUF1', 'GUK1', 'GULP1', 'GUSB', 'GUSBP1', 'GUSBP11_AP000347_2', 'GUSBP11_AP000347_2_KB_1572G7_2', 'GUSBP11_AP000347_4', 'GUSBP11_KB_1572G7_2', 'GUSBP2', 'GUSBP3', 'GUSBP4', 'GUSBP5', 'GUSBP9', 'GUSBP9_RP11_1198D22_1', 'GVINP1', 'GXYLT1', 'GXYLT2', 'GYG1', 'GYG2', 'GYLTL1B', 'GYPA', 'GYPA_GYPB', 'GYPB', 'GYPC', 'GYPE', 'GYS1', 'GYS2', 'GZF1', 'GZMA', 'GZMB', 'GZMH', 'GZMK', 'GZMM', 'H19', 'H1FOO', 'H1FX_AS1', 'H2AFV', 'H2AFY', 'H2AFY2', 'H2AFZ', 'H2BFS', 'H2BFWT_AMDP1_TRPC6P_TCEB1P24_DDX11L16_WASIR1', 'H3F3A', 'H3F3B', 'H6PD', 'HAAO', 'HABP2', 'HABP4', 'HACE1', 'HACL1', 'HADH', 'HADHA', 'HADHB', 'HAGH', 'HAGHL', 'HAL', 'HAMP', 'HAND1', 'HAND2', 'HAND2_AS1', 'HAO1', 'HAO2', 'HAP1', 'HAPLN1', 'HAPLN2', 'HAPLN3', 'HAPLN4_AC138430_4', 'HAR1A', 'HAR1B', 'HARBI1', 'HARS', 'HARS_DND1', 'HARS2', 'HARS2_snoU13', 'HAS1', 'HAS2', 'HAS2_AS1', 'HAS3', 'HAT1', 'HAUS1', 'HAUS2', 'HAUS3', 'HAUS3_POLN', 'HAUS4', 'HAUS4_RP11_298I3_5', 'HAUS5', 'HAUS6', 'HAUS7_AMDP1_TRPC6P_TCEB1P24_DDX11L16_WASIR1', 'HAUS8', 'HAVCR1', 'HAVCR1P1', 'HAVCR2', 'HAVCR2_MED7', 'HAX1', 'HBA1', 'HBA2', 'HBB', 'HBBP1', 'HBD', 'HBE1', 'HBE1_HBG2_AC104389_28', 'HBEGF', 'HBG1', 'HBG2', 'HBG2_AC015691_13', 'HBG2_AC104389_28', 'HBM', 'HBP1', 'HBQ1', 'HBS1L', 'HBZ', 'HBZ_HBM', 'HCAR1', 'HCAR2', 'HCCAT3', 'HCCAT5', 'HCCS', 'HCFC1_AMDP1_TRPC6P_TCEB1P24_DDX11L16_WASIR1', 'HCFC1R1', 'HCFC2', 'HCG18', 'HCG27', 'HCG9', 'HCK', 'HCLS1', 'HCN1', 'HCN2', 'HCN3', 'HCN4', 'HCP5', 'HCRT', 'HCRTR1', 'HCRTR2', 'HCST', 'HDAC1', 'HDAC10_MAPK12', 'HDAC11', 'HDAC2', 'HDAC3', 'HDAC4', 'HDAC5', 'HDAC6', 'HDAC7', 'HDAC8_AMDP1_TRPC6P_TCEB1P24_DDX11L16_WASIR1', 'HDAC9', 'HDC', 'HDDC2', 'HDDC3', 'HDGF', 'HDGFRP2', 'HDGFRP3', 'HDHD1', 'HDHD2', 'HDHD3', 'HDLBP', 'HDX_AMDP1_TRPC6P_TCEB1P24_DDX11L16_WASIR1', 'HEATR1', 'HEATR2', 'HEATR3', 'HEATR4', 'HEATR5A', 'HEATR5A_RP11_176H8_1', 'HEATR5B', 'HEATR6', 'HEBP1', 'HEBP2', 'HECA', 'HECTD1', 'HECTD1_Y_RNA', 'HECTD2', 'HECTD3', 'HECTD4', 'HECW1', 'HECW1_IT1', 'HECW2', 'HEG1', 'HELB', 'HELLS', 'HELQ', 'HELT', 'HELZ', 'HELZ2', 'HEMGN', 'HEMK1', 'HENMT1', 'HEPACAM', 'HEPACAM2', 'HEPH_IL9R_SPRY3_VAMP7_WASH6P_DPH3P2_AJ271736_10', 'HEPHL1', 'HEPHL1_SNORA25', 'HEPN1', 'HERC1', 'HERC2', 'HERC2P2', 'HERC2P3', 'HERC2P4', 'HERC2P5', 'HERC2P7', 'HERC2P8', 'HERC2P9', 'HERC3', 'HERC4', 'HERC5', 'HERC6', 'HERPUD1', 'HERPUD2', 'HES1', 'HES2', 'HES3', 'HES4', 'HES5', 'HES6', 'HES7', 'HESX1', 'HEXA', 'HEXA_RP11_106M3_2', 'HEXA_AS1', 'HEXB', 'HEXDC', 'HEXIM2', 'HEY1', 'HEY2', 'HEYL', 'HFE', 'HFE2', 'HFM1', 'HGD', 'HGF', 'HGFAC', 'HGS', 'HGSNAT', 'HHAT', 'HHATL', 'HHATL_CCDC13', 'HHEX', 'HHIP', 'HHIP_AS1', 'HHIPL1', 'HHIPL2', 'HHLA1', 'HHLA1_OC90', 'HHLA2', 'HHLA3', 'HIAT1', 'HIATL1', 'HIATL2', 'HIBADH', 'HIBCH', 'HIC1', 'HIC2', 'HID1', 'HIF1A', 'HIF1A_RP11_618G20_1', 'HIF1AN', 'HIF3A', 'HIGD1A', 'HIGD1B', 'HIGD1C', 'HIGD2A', 'HIGD2B', 'HILS1', 'HINFP', 'HINT1', 'HINT2', 'HINT3', 'HIP1', 'HIP1R', 'HIPK1', 'HIPK2', 'HIPK3', 'HIPK4', 'HIRA', 'HIRA_C22orf39', 'HIRIP3', 'HIST1H2AB', 'HIST1H2AC', 'HIST1H2AE', 'HIST1H2AJ', 'HIST1H2AM_HIST1H3J', 'HIST1H2BG', 'HIST1H2BJ', 'HIST1H2BN', 'HIST1H2BO', 'HIST1H3A', 'HIST1H3B', 'HIST1H3D_HIST1H2AD', 'HIST1H3E', 'HIST1H3F', 'HIST1H4F', 'HIST1H4H', 'HIST1H4I', 'HIST2H2BA', 'HIST2H2BF_RP11_196G18_3', 'HIST2H4A', 'HIST2H4B', 'HIST3H3', 'HIST4H4', 'HIVEP1', 'HIVEP2', 'HIVEP3', 'HJURP', 'HK1', 'HK2', 'HK2_snoU13', 'HK3', 'HKDC1', 'HKR1', 'HLA_A', 'HLA_B', 'HLA_C', 'HLA_DMA', 'HLA_DOA', 'HLA_DOB', 'HLA_DOB_TAP2', 'HLA_DPA1', 'HLA_DPB1', 'HLA_DPB2', 'HLA_DQA1', 'HLA_DQA2', 'HLA_DQB1', 'HLA_DQB2', 'HLA_DRA', 'HLA_DRB1', 'HLA_DRB5', 'HLA_DRB6', 'HLA_E', 'HLA_F', 'HLA_F_AS1', 'HLA_F_AS1_MICE', 'HLA_F_AS1_RPL23AP1', 'HLA_G', 'HLA_H', 'HLA_J', 'HLA_K', 'HLA_L', 'HLA_V', 'HLCS', 'HLF', 'HLTF', 'HLX', 'HM13', 'HMBOX1', 'HMBS', 'HMCES', 'HMCN1', 'HMCN2', 'HMCN2_AL354898_1', 'HMCN2_snoU13', 'HMG20A', 'HMG20B', 'HMG20B_snoU13', 'HMGA1', 'HMGA2', 'HMGB1', 'HMGB2', 'HMGB4', 'HMGCL', 'HMGCLL1', 'HMGCR', 'HMGCS1', 'HMGCS2', 'HMGN1', 'HMGN2', 'HMGN2P46', 'HMGN2P46_RP11_519G16_3', 'HMGN3', 'HMGN4', 'HMGN5_AMDP1_TRPC6P_TCEB1P24_DDX11L16_WASIR1', 'HMGXB3', 'HMGXB4', 'HMHA1', 'HMHB1', 'HMMR', 'HMMR_snoU13', 'HMOX1', 'HMOX2', 'HMSD', 'HMX1', 'HMX2', 'HMX3', 'HN1', 'HN1L', 'HN1L_LA16c_431H6_6', 'HNF1A', 'HNF1B', 'HNF4A', 'HNF4G', 'HNMT', 'HNRNPA1', 'HNRNPA1L2', 'HNRNPA1L2_MRPS31P4', 'HNRNPA2B1', 'HNRNPA3', 'HNRNPA3_MIR4444_1', 'HNRNPA3P1', 'HNRNPAB', 'HNRNPC', 'HNRNPCL1', 'HNRNPD', 'HNRNPDL', 'HNRNPF', 'HNRNPH1', 'HNRNPH3', 'HNRNPK', 'HNRNPK_MIR7_1', 'HNRNPKP3', 'HNRNPL', 'HNRNPL_AC104534_3', 'HNRNPLL', 'HNRNPM', 'HNRNPR', 'HNRNPU', 'HNRNPU_HNRNPU_AS1', 'HNRNPU_AS1', 'HNRNPUL1', 'HNRNPUL2_HNRNPUL2_BSCL2', 'HOGA1', 'HOGA1_PI4K2A', 'HOMER1', 'HOMER2', 'HOMER2P1', 'HOMER2P2', 'HOMER3', 'HOMER3_AC002985_3', 'HOMEZ', 'HOOK1', 'HOOK2', 'HOOK3', 'HOPX', 'HORMAD1', 'HORMAD2', 'HOTAIR', 'HOTAIRM1', 'HOXA_AS2', 'HOXA_AS3', 'HOXA10', 'HOXA11', 'HOXA11_AS', 'HOXA13', 'HOXA3', 'HOXA3_RP1_170O19_22_RP1_170O19_23', 'HOXA4', 'HOXA5', 'HOXA7', 'HOXA9_RP1_170O19_20', 'HOXB_AS3', 'HOXB13', 'HOXB2', 'HOXB3', 'HOXB4', 'HOXB4_MIR10A', 'HOXB5', 'HOXB6', 'HOXB6_HOXB3', 'HOXB7', 'HOXB8', 'HOXB9', 'HOXC10_RP11_834C11_12', 'HOXC11', 'HOXC12', 'HOXC13', 'HOXC4', 'HOXC5', 'HOXC6', 'HOXC6_HOXC4_RP11_834C11_14', 'UBB', 'UBBP4', 'UBC', 'UBD', 'UBE2B', 'UBE2C', 'UBE2D1', 'UBE2D2', 'UBE2D3', 'UBE2D4', 'UBE2E1', 'UBE2E2', 'UBE2E3', 'UBE2F', 'UBE2F_UBE2F_SCLY', 'UBE2F_SCLY', 'UBE2G1', 'UBE2G2', 'UBE2H', 'UBE2I', 'UBE2J1', 'UBE2J1_Y_RNA', 'UBE2J2', 'UBE2K', 'UBE2L3', 'UBE2L6', 'UBE2M', 'UBE2MP1', 'UBE2N', 'UBE2O', 'UBE2Q1', 'UBE2Q2', 'UBE2Q2P1', 'UBE2Q2P2', 'UBE2Q2P2_RP13_608F4_8', 'UBE2Q2P3', 'UBE2QL1', 'UBE2R2', 'UBE2S', 'UBE2T', 'UBE2U', 'UBE2V1', 'UBE2V1_TMEM189_TMEM189_UBE2V1', 'UBE2V2', 'UBE2W', 'UBE2W_RP11_463D19_2', 'UBE2Z', 'UBE3A', 'UBE3B', 'UBE3C', 'UBE3D', 'UBE4A', 'UBE4B', 'UBFD1', 'UBIAD1', 'UBL3', 'UBL4A_AMDP1_TRPC6P_TCEB1P24_DDX11L16_WASIR1', 'UBL5', 'UBL7', 'UBL7_AS1', 'UBLCP1', 'UBN1', 'UBN1_snoU13', 'UBN2', 'UBOX5', 'UBOX5_AS1', 'UBP1', 'UBQLN1', 'UBQLN3', 'UBQLN4', 'UBR1', 'UBR2', 'UBR3', 'UBR4', 'UBR4_RP5_1126H10_2', 'UBR5', 'UBR7', 'UBR7_RP11_371E8_4', 'UBTD1', 'UBTD2', 'UBTF', 'UBXN1', 'UBXN10', 'UBXN11', 'UBXN2A', 'UBXN2B', 'UBXN4', 'UBXN6', 'UBXN7', 'UBXN7_AS1', 'UBXN8', 'UCA1', 'UCHL1', 'UCHL3', 'UCHL3_RP11_29G8_3', 'UCHL5', 'UCK1', 'UCK2', 'UCKL1', 'UCMA', 'UCN', 'UCN2', 'UCN3', 'UCP1', 'UCP2', 'UCP3', 'UEVLD', 'UFC1', 'UFD1L', 'UFL1', 'UFM1', 'UFSP2', 'UGCG', 'UGDH', 'UGDH_AS1', 'UGGT1', 'UGGT1_snoU13', 'UGGT2', 'UGP2', 'UGT1A1', 'UGT1A1_UGT1A5', 'UGT1A10', 'UGT1A2P', 'UGT1A4', 'UGT1A6', 'UGT1A6_UGT1A1_UGT1A3', 'UGT1A6_UGT1A10_UGT1A1_UGT1A4', 'UGT1A6_UGT1A7', 'UGT1A7', 'UGT1A8_UGT1A1', 'UGT1A8_UGT1A6_UGT1A9_UGT1A10_UGT1A1_UGT1A4_UGT1A7_UGT1A3_UGT1A5', 'UGT1A9_UGT1A1', 'UGT2A1', 'UGT2A1_UGT2A2', 'UGT2A3', 'UGT2B10', 'UGT2B11', 'UGT2B15', 'UGT2B28', 'UGT2B4', 'UGT2B7', 'UGT3A1', 'UGT3A2', 'UGT8', 'UHMK1', 'UHRF1', 'UHRF1BP1', 'UHRF1BP1L', 'UHRF2', 'UIMC1', 'ULBP1', 'ULBP2', 'ULBP3', 'ULK1', 'ULK2', 'ULK3', 'ULK4', 'ULK4P1_RP13_395E19_3', 'ULK4P2', 'ULK4P3', 'UMOD', 'UMODL1', 'UMPS', 'UNC119', 'UNC119B', 'UNC13A', 'UNC13B', 'UNC13C', 'UNC13D', 'UNC45A', 'UNC45B', 'UNC50', 'UNC5A', 'UNC5B', 'UNC5C', 'UNC5CL', 'UNC5CL_OARD1', 'UNC5D', 'UNC79', 'UNC80', 'UNC93A', 'UNC93B1', 'UNCX', 'UNG', 'UNK', 'UNKL', 'UOX', 'UPB1', 'UPF1', 'UPF2', 'UPF3A', 'UPF3B_AMDP1_TRPC6P_TCEB1P24_DDX11L16_WASIR1', 'UPK1A', 'UPK1A_AS1', 'UPK1B', 'UPK1B_RP11_484M3_5', 'UPK2', 'UPK3A', 'UPK3B', 'UPK3B_DTX2P1_DTX2P1_UPK3BP1_PMS2P11', 'UPK3BL_POLR2J2_RP11_514P8_6', 'UPK3BL_RP11_514P8_6', 'UPP1', 'UPP2', 'UQCC1', 'UQCC2', 'UQCC2_SBP1', 'UQCR10', 'UQCR11', 'UQCRB', 'UQCRBP1', 'UQCRC1', 'UQCRC2', 'UQCRFS1', 'UQCRH', 'UQCRQ', 'URAD', 'URAHP', 'URB1', 'URB2', 'URGCP', 'URGCP_URGCP_MRPS24', 'URI1', 'URM1', 'UROC1', 'UROD', 'UROS', 'USB1', 'USE1', 'USF1', 'USF2', 'USH1C', 'USH1G', 'USH2A', 'USHBP1', 'USHBP1_AC010646_3', 'USMG5', 'USO1', 'USP1', 'USP10', 'USP11', 'USP12', 'USP13', 'USP14', 'USP15', 'USP16', 'USP17L2', 'USP18', 'USP19', 'USP2', 'USP2_AS1', 'USP20', 'USP21', 'USP22', 'USP24', 'USP25', 'USP26_AMDP1_TRPC6P_TCEB1P24_DDX11L16_WASIR1', 'USP27X_AS1', 'USP28', 'USP29', 'USP3', 'USP3_AS1', 'USP30', 'USP31', 'USP32', 'USP32P1', 'USP32P2_FAM106A', 'USP32P3', 'USP33', 'USP34', 'USP35', 'USP36', 'USP37', 'USP38', 'USP39', 'USP4', 'USP4_C3orf62', 'USP40', 'USP41', 'USP42', 'USP43', 'USP44', 'USP45', 'USP46', 'USP47', 'USP48', 'USP49', 'USP5', 'USP50', 'USP51', 'USP53', 'USP54', 'USP54_Y_RNA', 'USP6', 'USP6NL', 'USP7', 'USP8', 'USP9X', 'USP9Y', 'USPL1', 'UST', 'UTF1', 'UTP11L', 'UTP14A_IL9R_SPRY3_VAMP7_WASH6P_DPH3P2_AJ271736_10', 'UTP15', 'UTP18', 'UTP18_snoU13', 'UTP20', 'UTP20_snoU13', 'UTP23', 'UTP6', 'UTRN', 'UTS2', 'UTS2B', 'UTY', 'UVRAG', 'UVSSA', 'UXS1', 'UXT', 'VAC14', 'VAC14_AS1', 'VAMP1', 'VAMP2', 'VAMP2_RP11_599B13_6', 'VAMP3', 'VAMP4', 'VAMP5', 'VAMP8', 'VANGL1', 'VANGL2', 'VAPA', 'VAPB', 'VARS', 'VARS2', 'VARS2_GTF2H4', 'VASH1', 'VASH1_RP11_488C13_7', 'VASH2', 'VASN', 'VASP', 'VAT1', 'VAT1L', 'VAV1', 'VAV2', 'VAV3', 'VAX1', 'VAX2', 'VCAM1', 'VCAN', 'VCL', 'VCP', 'VCPIP1', 'VCPKMT', 'VCX', 'VCX2', 'VCX3A', 'VCX3B', 'VCY', 'VDAC1', 'VDAC2', 'VDAC3', 'VDR', 'VEGFA', 'VEGFB', 'VEGFC', 'VENTX', 'VEPH1', 'VEZF1', 'VEZT', 'VGF', 'VGLL1_IL9R_SPRY3_VAMP7_WASH6P_DPH3P2_AJ271736_10', 'VGLL2', 'VGLL3', 'VGLL4', 'VGLL4_AC090939_1', 'VHL', 'VIL1', 'VILL', 'VIM', 'VIM_AS1', 'VIMP', 'VIP', 'VIPAS39', 'VIPR1', 'VIPR2', 'VIT', 'VKORC1', 'VKORC1_RP11_196G11_1', 'VKORC1L1', 'VLDLR', 'VMAC_AC104532_2', 'VMO1', 'VMP1', 'VN1R2', 'VN1R3', 'VN1R5', 'VNN1', 'VNN2', 'VNN3', 'VOPP1', 'VPRBP', 'VPREB1', 'VPREB3', 'VPS11', 'VPS13A', 'VPS13B', 'VPS13C', 'VPS13D', 'VPS16', 'VPS18', 'VPS25', 'VPS26A', 'VPS26B', 'VPS28', 'VPS29', 'VPS33A', 'VPS33A_RP11_512M8_5', 'VPS33B', 'VPS35', 'VPS36', 'VPS37A', 'VPS37B', 'VPS37C', 'VPS37D', 'VPS39', 'VPS41', 'VPS41_Y_RNA', 'VPS45', 'VPS4A', 'VPS4A_RP11_343C2_11', 'VPS4B', 'VPS51', 'VPS52', 'VPS53', 'VPS54', 'VPS72', 'VPS72_TMOD4', 'VPS8', 'VPS9D1', 'VPS9D1_AS1', 'VRK1', 'VRK2', 'VRK3', 'VRTN', 'VSIG10', 'VSIG10L', 'VSIG2', 'VSIG2_ESAM', 'VSIG4_AMDP1_TRPC6P_TCEB1P24_DDX11L16_WASIR1', 'VSIG8', 'VSIG8_RP11_190A12_7', 'VSNL1', 'VSTM1', 'VSTM2A', 'VSTM2B', 'VSTM2L', 'VSTM4', 'VSTM5', 'VSX1', 'VSX2', 'VTA1', 'VTCN1', 'VTI1A', 'VTI1B', 'VTI1B_RP11_1012A1_4', 'VTN', 'VTN_CTB_96E2_2', 'VTRNA1_1', 'VTRNA1_2', 'VTRNA1_3', 'VWA1', 'VWA2', 'VWA3A', 'VWA3B', 'VWA5A', 'VWA5B1', 'VWA5B2', 'VWA7', 'VWA8', 'VWA9', 'VWC2', 'VWC2L', 'VWCE', 'VWDE', 'VWF', 'WAC', 'WAC_AS1', 'WAPAL', 'WARS', 'WARS2', 'WAS', 'WASF1', 'WASF2', 'WASF3', 'WASH2P', 'WASH3P', 'WASH4P', 'WASH4P_Z84812_4', 'WASH5P', 'WASH6P_AJ271736_10', 'WASH7P', 'WASL', 'WBP1_INO80B', 'WBP11', 'WBP1L', 'WBP2', 'WBP2NL', 'WBP4', 'WBSCR16', 'WBSCR17', 'WBSCR22', 'WBSCR27', 'WBSCR28', 'WDFY1', 'WDFY2', 'WDFY3', 'WDFY3_AS2', 'WDFY4', 'WDHD1', 'WDPCP', 'WDR1', 'WDR11', 'WDR11_AS1', 'WDR12', 'WDR13', 'WDR16', 'WDR17', 'WDR18', 'WDR19', 'WDR20', 'WDR24', 'WDR25', 'WDR26', 'WDR27', 'WDR3', 'WDR31', 'WDR33', 'WDR34', 'WDR35', 'WDR36', 'WDR37', 'WDR38', 'WDR4', 'WDR41', 'WDR43', 'WDR45', 'WDR45_AF196779_12', 'WDR45B', 'WDR46', 'WDR47', 'WDR48', 'WDR49', 'WDR5', 'WDR52', 'WDR53', 'WDR54', 'WDR55', 'WDR59', 'WDR5B', 'WDR6', 'WDR60', 'WDR61', 'WDR62', 'WDR63', 'WDR64', 'WDR65', 'WDR66', 'WDR66_RP11_87C12_2', 'WDR7', 'WDR7_WDR7_UT1', 'WDR70', 'WDR72', 'WDR73', 'WDR74', 'WDR74_RNU2_2P', 'WDR75', 'WDR76', 'WDR77', 'WDR78', 'WDR81', 'WDR82', 'WDR83', 'WDR83OS', 'WDR83OS_CTD_2192J16_24', 'WDR86', 'WDR86_AS1', 'WDR87', 'WDR88', 'WDR89', 'WDR90', 'WDR91', 'WDR92', 'WDR92_RP11_474G23_1', 'WDR93', 'WDR96', 'WDSUB1', 'WDTC1', 'WDYHV1', 'WEE1', 'WEE2', 'WEE2_AS1', 'WFDC1', 'WFDC10A', 'WFDC10B', 'WFDC11', 'WFDC12', 'WFDC13', 'WFDC2', 'WFDC3', 'WFDC5', 'WFDC6', 'WFDC6_EPPIN_EPPIN_WFDC6', 'WFDC8', 'WFDC9', 'WFIKKN1_RAB40C', 'WFIKKN2', 'WFS1', 'WHAMM', 'WHAMMP2', 'WHAMMP3', 'WHSC1', 'WHSC1L1', 'WI2_1896O14_1', 'WI2_3658N16_1', 'WI2_81516E3_1', 'WIBG', 'WIF1', 'WIPF1', 'WIPF2', 'WIPF3', 'WIPI1', 'WIPI2', 'WISP1', 'WISP2', 'WISP3', 'WIZ', 'WLS', 'WNK1', 'WNK2', 'WNK3', 'WNK4', 'WNT1', 'WNT10A', 'WNT10B', 'WNT11', 'WNT16', 'WNT2', 'WNT2B', 'WNT3', 'WNT3A', 'WNT4', 'WNT5A', 'WNT5B', 'WNT6', 'WNT7A', 'WNT7B', 'WNT7B_CR536603_1', 'WNT8A', 'WNT8B', 'WNT9A', 'WNT9B', 'WRAP53', 'WRAP73', 'WRB', 'WRN', 'WRNIP1', 'WSB1', 'WSB2', 'WSCD1', 'WSCD2', 'WT1', 'WT1_AS', 'WTAP', 'WTAPP1', 'WTIP', 'WWC1', 'WWC2', 'WWC2_AS1', 'WWC2_AS2', 'WWC3', 'WWOX', 'WWP1', 'WWP2', 'WWTR1', 'WWTR1_AS1', 'XAB2', 'XAF1', 'XAGE1A', 'XAGE1B', 'XAGE1C', 'XAGE1D', 'XAGE1E', 'XAGE2', 'XAGE2B', 'XAGE3', 'XAGE5', 'XBP1', 'XCL1', 'XCL2', 'XCR1', 'XDH', 'XG', 'XIRP2', 'XK', 'XKR3', 'XKR4', 'XKR5', 'XKR6', 'XKR7', 'XKR8', 'XKR9', 'XKRX_AMDP1_TRPC6P_TCEB1P24_DDX11L16_WASIR1', 'XPA', 'XPC', 'XPC_Y_RNA', 'XPNPEP1', 'XPNPEP1_U4', 'XPNPEP2_IL9R_SPRY3_VAMP7_WASH6P_DPH3P2_AJ271736_10', 'XPNPEP3', 'XPO1', 'XPO4', 'XPO5', 'XPO6', 'XPO7', 'XPOT', 'XPR1', 'XRCC1', 'XRCC1_L34079_2', 'XRCC2', 'XRCC3', 'XRCC4', 'XRCC5', 'XRCC6', 'XRCC6BP1', 'XRCC6P5_AMDP1_TRPC6P_TCEB1P24_DDX11L16_WASIR1', 'XRN1', 'XRN2', 'XRRA1', 'XX_C2158C12_1', 'XX_FW84067D5_1', 'XX_FW84067D5_2', 'XXYLT1', 'XXbac_B135H6_15', 'XXbac_B33L19_3', 'XXbac_B444P24_10', 'XXbac_B444P24_8', 'XXbac_B476C20_17', 'XXbac_BPG154L12_4', 'XXbac_BPG181M17_5_HLA_DMA', 'XXbac_BPG308K3_6', 'XXbac_BPG32J3_20_ABHD16A', 'XXyac_YRM2039_2', 'XXyac_YX155B6_6', 'XYLB', 'XYLT1', 'XYLT2', 'YAE1D1', 'YAE1D1_AC004837_3', 'YAF2', 'YAP1', 'YARS', 'YARS2', 'YBEY', 'YBX1', 'YBX2', 'YBX3', 'YBX3P1', 'YDJC', 'YEATS2', 'YEATS2_AS1', 'YEATS4', 'YES1', 'YIF1A', 'YIF1B', 'YIPF1', 'YIPF2', 'YIPF3', 'YIPF4', 'YIPF5', 'YIPF7', 'YJEFN3', 'YJEFN3_CTC_260F20_3', 'YKT6', 'YLPM1', 'YME1L1', 'YOD1', 'YPEL1', 'YPEL2', 'YPEL3', 'YPEL4', 'YPEL5', 'YRDC', 'YTHDC1', 'YTHDC2', 'YTHDF1', 'YTHDF2', 'YTHDF3', 'YWHAB', 'YWHAE', 'YWHAG', 'YWHAH', 'YWHAQ', 'YWHAZ', 'YY1', 'YY1AP1', 'Y_RNA', 'Y_RNA_AC079602_1_HNF1A_AS1', 'Y_RNA_AC145676_2', 'Y_RNA_AMDP1_NKAPP1_TRPC6P_TCEB1P24_DDX11L16_WASIR1', 'Y_RNA_C17orf58', 'Y_RNA_C6orf47', 'Y_RNA_CDKL4', 'Y_RNA_CHD5', 'Y_RNA_CHRDL2', 'Y_RNA_CYP4A11', 'Y_RNA_DPF3', 'Y_RNA_FAM86FP', 'Y_RNA_GLI3', 'Y_RNA_GOLGA6A', 'Y_RNA_KIAA0040', 'Y_RNA_LINC00211', 'Y_RNA_LUCAT1_RP11_213H15_4', 'Y_RNA_PRAMEF11', 'Y_RNA_RGPD6', 'Y_RNA_ROGDI', 'Y_RNA_RTL1', 'Y_RNA_SNHG5', 'Y_RNA_TAP1', 'Y_RNA_TMEM229B', 'Y_RNA_VPS52', 'Y_RNA_ZNF461', 'Z83844_1', 'Z83851_1', 'Z83851_3', 'Z95704_2_ZNF595', 'Z97634_3', 'Z99756_1', 'ZACN', 'ZADH2', 'ZAN', 'ZAP70', 'ZAR1', 'ZAR1L', 'ZBBX', 'ZBED1_DHRSX', 'ZBED3', 'ZBED3_AS1', 'ZBED4', 'ZBED5', 'ZBED5_AS1', 'ZBP1', 'ZBTB1', 'ZBTB10', 'ZBTB11', 'ZBTB11_SNORD112', 'ZBTB12', 'ZBTB14', 'ZBTB16', 'ZBTB17', 'ZBTB18', 'ZBTB2', 'ZBTB20', 'ZBTB20_AS1', 'ZBTB21', 'ZBTB22', 'ZBTB24', 'ZBTB24_MICAL1', 'ZBTB25', 'ZBTB26', 'ZBTB3', 'ZBTB32', 'ZBTB34', 'ZBTB37', 'ZBTB38', 'ZBTB4', 'ZBTB40', 'ZBTB41', 'ZBTB42', 'ZBTB43', 'ZBTB44', 'ZBTB45', 'ZBTB46', 'ZBTB47', 'ZBTB48', 'ZBTB49', 'ZBTB5', 'ZBTB6', 'ZBTB7A', 'ZBTB7B', 'ZBTB7C', 'ZBTB8A', 'ZBTB8A_RP1_27O5_3', 'ZBTB8OS', 'ZBTB9', 'ZC2HC1A', 'ZC2HC1B', 'ZC2HC1C', 'ZC3H10', 'ZC3H11A', 'ZC3H11A_ZBED6', 'ZC3H12A', 'ZC3H12B_IL9R_SPRY3_VAMP7_WASH6P_DPH3P2_AJ271736_10', 'ZC3H12C', 'ZC3H12D', 'ZC3H13', 'ZC3H14', 'ZC3H15', 'ZC3H18', 'ZC3H18_snoU13', 'ZC3H3', 'ZC3H4', 'ZC3H6', 'ZC3H6_AC115115_2', 'ZC3H7A', 'ZC3H7B', 'ZC3H8', 'ZC3HAV1', 'ZC3HAV1L', 'ZC3HC1', 'ZC4H2_AMDP1_TRPC6P_TCEB1P24_DDX11L16_WASIR1', 'ZCCHC10', 'ZCCHC11', 'ZCCHC14', 'ZCCHC17', 'ZCCHC2', 'ZCCHC24', 'ZCCHC4', 'ZCCHC5_AMDP1_TRPC6P_TCEB1P24_DDX11L16_WASIR1', 'ZCCHC6', 'ZCCHC7', 'ZCCHC8', 'ZCCHC9', 'ZCRB1', 'ZCWPW1', 'ZCWPW2', 'ZDBF2', 'ZDHHC1', 'ZDHHC11', 'ZDHHC11_BRD9', 'ZDHHC12', 'ZDHHC13', 'ZDHHC14', 'ZDHHC15_AMDP1_TRPC6P_TCEB1P24_DDX11L16_WASIR1', 'ZDHHC16', 'ZDHHC17', 'ZDHHC18', 'ZDHHC19', 'ZDHHC2', 'ZDHHC20', 'ZDHHC21', 'ZDHHC22', 'ZDHHC23', 'ZDHHC24', 'ZDHHC3', 'ZDHHC4', 'ZDHHC5', 'ZDHHC6', 'ZDHHC7', 'ZDHHC8', 'ZDHHC8P1', 'ZDHHC9_AMDP1_TRPC6P_TCEB1P24_DDX11L16_WASIR1', 'ZEB1', 'ZEB2', 'ZEB2_AC009951_1', 'ZER1', 'ZFAND1', 'ZFAND2A', 'ZFAND2B', 'ZFAND3', 'ZFAND4', 'ZFAND5', 'ZFAND6', 'ZFAS1', 'ZFAT', 'ZFAT_AS1', 'ZFC3H1', 'ZFHX2', 'ZFHX2_Y_RNA', 'ZFHX3', 'ZFHX4', 'ZFHX4_AS1', 'ZFP1', 'ZFP14', 'ZFP2', 'ZFP28', 'ZFP3', 'ZFP30', 'ZFP30_ZNF781', 'ZFP30_ZNF781_CTD_2528L19_4', 'ZFP36', 'ZFP36L2', 'ZFP37', 'ZFP41', 'ZFP42', 'ZFP57', 'ZFP62', 'ZFP64', 'ZFP69', 'ZFP69B', 'ZFP82', 'ZFP90', 'ZFP91_ZFP91_CNTF', 'ZFP91_CNTF_CNTF', 'ZFPL1', 'ZFPM1', 'ZFPM2', 'ZFPM2_RP11_127H5_1', 'ZFR', 'ZFR2', 'ZFX', 'ZFY', 'ZFYVE1', 'ZFYVE16', 'ZFYVE19', 'ZFYVE20', 'ZFYVE21', 'ZFYVE26', 'ZFYVE27', 'ZFYVE28', 'ZFYVE9', 'ZG16', 'ZG16B', 'ZGPAT', 'ZGPAT_RP4_583P15_15', 'ZHX1', 'ZHX1_ZHX1_C8ORF76', 'ZHX2', 'ZHX3', 'ZIC1', 'ZIC2', 'ZIC4', 'ZIC5', 'ZIK1', 'ZIM2', 'ZIM2_PEG3', 'ZIM3', 'ZKSCAN1', 'ZKSCAN2', 'ZKSCAN3', 'ZKSCAN4', 'ZKSCAN5', 'ZKSCAN7', 'ZKSCAN7_RP11_944L7_5', 'ZKSCAN8', 'ZMAT1_AMDP1_TRPC6P_TCEB1P24_DDX11L16_WASIR1', 'ZMAT2', 'ZMAT3', 'ZMAT4', 'ZMAT5', 'ZMIZ1', 'ZMIZ1_AS1', 'ZMIZ2', 'ZMPSTE24', 'ZMYM1', 'ZMYM2', 'ZMYM3_AMDP1_TRPC6P_TCEB1P24_DDX11L16_WASIR1', 'ZMYM4', 'ZMYM5', 'ZMYM6', 'ZMYM6_ZMYM6NB', 'ZMYND10', 'ZMYND11', 'ZMYND12', 'ZMYND15', 'ZMYND15_snoU13', 'ZMYND19', 'ZMYND8', 'ZNF10_ZNF268_CTD_2140B24_4', 'ZNF100', 'ZNF101', 'ZNF106', 'ZNF107', 'ZNF112', 'ZNF112_CTC_512J12_6', 'ZNF114', 'ZNF117', 'ZNF12', 'ZNF121', 'ZNF124', 'ZNF131', 'ZNF132', 'ZNF133', 'ZNF134', 'ZNF135', 'ZNF136', 'ZNF137P', 'ZNF138', 'ZNF14', 'ZNF140', 'ZNF141', 'ZNF142', 'ZNF143', 'ZNF146', 'ZNF148', 'ZNF148_SLC12A8', 'ZNF154', 'ZNF155', 'ZNF157', 'ZNF16', 'ZNF160', 'ZNF165', 'ZNF169', 'ZNF17_AC003002_6', 'ZNF174', 'ZNF175', 'ZNF177', 'ZNF177_ZNF559', 'ZNF18', 'ZNF18_RP11_1096G20_5', 'ZNF180', 'ZNF181', 'ZNF182', 'ZNF184', 'ZNF189', 'ZNF19', 'ZNF19_AC010547_9', 'ZNF195', 'ZNF195_AC123788_1', 'ZNF197', 'ZNF2', 'ZNF20', 'ZNF20_ZNF625_ZNF20', 'ZNF200', 'ZNF202', 'ZNF204P', 'ZNF205', 'ZNF205_AS1', 'ZNF207', 'ZNF207_RP11_227G15_3', 'ZNF208', 'ZNF211', 'ZNF212', 'ZNF213', 'ZNF214', 'ZNF215', 'ZNF217', 'ZNF219', 'ZNF22', 'ZNF221', 'ZNF222', 'ZNF223', 'ZNF223_ZNF222', 'ZNF223_ZNF284', 'ZNF224', 'ZNF225', 'ZNF226', 'ZNF227', 'ZNF229', 'ZNF229_CTC_512J12_4', 'ZNF23_AC010547_9', 'ZNF230', 'ZNF232', 'ZNF233', 'ZNF234', 'ZNF235', 'ZNF236', 'ZNF239', 'ZNF24', 'ZNF248', 'ZNF25', 'ZNF250', 'ZNF250_COMMD5', 'ZNF251', 'ZNF252P', 'ZNF253', 'ZNF254', 'ZNF254_CTD_2017D11_1', 'ZNF256', 'ZNF257', 'ZNF259', 'ZNF26', 'ZNF260', 'ZNF263', 'ZNF264', 'ZNF266', 'ZNF267', 'ZNF268', 'ZNF268_CTD_2140B24_4', 'ZNF271', 'ZNF273', 'ZNF274', 'ZNF276', 'ZNF277', 'ZNF28', 'ZNF280A', 'ZNF280B', 'ZNF280C_AMDP1_TRPC6P_TCEB1P24_DDX11L16_WASIR1', 'ZNF280D', 'ZNF281', 'ZNF282', 'ZNF283', 'ZNF284', 'ZNF285', 'ZNF285_CTC_512J12_4', 'ZNF285_CTC_512J12_4_CTC_512J12_6', 'ZNF285_CTC_512J12_6', 'ZNF286A', 'ZNF286A_TBC1D26', 'ZNF286B', 'ZNF287', 'ZNF292', 'ZNF295_AS1', 'ZNF296', 'ZNF3', 'ZNF30', 'ZNF300', 'ZNF300P1', 'ZNF302', 'ZNF304', 'ZNF311', 'ZNF317', 'ZNF318', 'ZNF319', 'ZNF32', 'ZNF32_AS3', 'ZNF320', 'ZNF320_SNORD38', 'ZNF322', 'ZNF324', 'ZNF324B', 'ZNF326', 'ZNF329', 'ZNF330', 'ZNF331', 'ZNF333', 'ZNF334', 'ZNF335', 'ZNF337', 'ZNF33A', 'ZNF33B', 'ZNF34', 'ZNF341', 'ZNF343', 'ZNF343_RP4_734P14_4', 'ZNF345', 'ZNF346', 'ZNF347', 'ZNF35', 'ZNF350', 'ZNF354A', 'ZNF354B', 'ZNF354C', 'ZNF358', 'ZNF358_CTD_2207O23_12', 'ZNF362', 'ZNF362_AL513327_1', 'ZNF365', 'ZNF366', 'ZNF367', 'ZNF37A', 'ZNF37BP', 'ZNF382', 'ZNF383', 'ZNF384', 'ZNF385A', 'ZNF385B', 'ZNF385C', 'ZNF385D', 'ZNF391', 'ZNF394', 'ZNF395', 'ZNF396', 'ZNF397', 'ZNF398', 'ZNF404', 'ZNF404_RP11_15A1_3', 'ZNF407', 'ZNF408', 'ZNF41', 'ZNF410', 'ZNF410_RP5_1021I20_4', 'ZNF414', 'ZNF415', 'ZNF416', 'ZNF417', 'ZNF417_CTD_2583A14_9', 'ZNF418', 'ZNF419', 'ZNF419_AC003005_4', 'ZNF420', 'ZNF423', 'ZNF425', 'ZNF426', 'ZNF428', 'ZNF429', 'ZNF429_LINC00664', 'ZNF43', 'ZNF430', 'ZNF431', 'ZNF432', 'ZNF432_ZNF841', 'ZNF433', 'ZNF433_CTD_2006C1_10', 'ZNF436', 'ZNF438', 'ZNF439', 'ZNF44', 'ZNF440', 'ZNF441', 'ZNF442', 'ZNF443', 'ZNF443_CTD_3105H18_16', 'ZNF443_CTD_3105H18_18', 'ZNF444', 'ZNF445', 'ZNF446', 'ZNF45', 'ZNF451', 'ZNF454', 'ZNF460', 'ZNF461', 'ZNF462', 'ZNF462_RP11_508N12_4', 'ZNF467', 'ZNF468', 'ZNF468_ZNF28', 'ZNF469', 'ZNF470', 'ZNF471', 'ZNF473', 'ZNF474', 'ZNF479', 'ZNF480', 'ZNF483', 'ZNF484', 'ZNF485', 'ZNF486', 'ZNF487', 'ZNF488', 'ZNF490', 'ZNF490_CTD_2192J16_20', 'ZNF491', 'ZNF492', 'ZNF493', 'ZNF493_CTD_2561J22_3', 'ZNF496', 'ZNF497_CTD_2619J13_8', 'ZNF500', 'ZNF500_RP11_127I20_7', 'ZNF501', 'ZNF502', 'ZNF503_RP11_399K21_11', 'ZNF503_AS1', 'ZNF503_AS2', 'ZNF506', 'ZNF506_CTC_559E9_4', 'ZNF507', 'ZNF510', 'ZNF511', 'ZNF512', 'ZNF512_GPN1_RP11_158I13_2', 'ZNF512_RP11_158I13_2', 'ZNF512B', 'ZNF513', 'ZNF514', 'ZNF516', 'ZNF517', 'ZNF518A', 'ZNF518B', 'ZNF519', 'ZNF521', 'ZNF524', 'ZNF525', 'ZNF526', 'ZNF527', 'ZNF528', 'ZNF529', 'ZNF530', 'ZNF532', 'ZNF534', 'ZNF536', 'ZNF540', 'ZNF541', 'ZNF542', 'ZNF543', 'ZNF544', 'ZNF544_CTD_3138B18_4', 'ZNF546', 'ZNF547_AC003002_4', 'ZNF547_TRAPPC2P1_AC003002_4', 'ZNF548_AC003002_6', 'ZNF548_AC003002_6_AC004076_7', 'ZNF549', 'ZNF550', 'ZNF551', 'ZNF551_AC003006_7', 'ZNF552', 'ZNF554', 'ZNF555', 'ZNF556', 'ZNF557', 'ZNF558', 'ZNF560', 'ZNF561', 'ZNF562', 'ZNF563', 'ZNF564_CTD_2192J16_20', 'ZNF564_ZNF709', 'ZNF565', 'ZNF566', 'ZNF567', 'ZNF568', 'ZNF569', 'ZNF57', 'ZNF570', 'ZNF571', 'ZNF571_AS1', 'ZNF572', 'ZNF573', 'ZNF574', 'ZNF575', 'ZNF576', 'ZNF576_SRRM5', 'ZNF577', 'ZNF578', 'ZNF579', 'ZNF581', 'ZNF581_CCDC106_ZNF580', 'ZNF582', 'ZNF583', 'ZNF584', 'ZNF585A', 'ZNF585A_CTC_454I21_3', 'ZNF585B_CTC_454I21_3', 'ZNF586', 'ZNF587_ZNF587B_CTD_2583A14_10', 'ZNF587B', 'ZNF587B_CTD_2583A14_10', 'ZNF589', 'ZNF592', 'ZNF593', 'ZNF594', 'ZNF595', 'ZNF596', 'ZNF597', 'ZNF598', 'ZNF599', 'ZNF600', 'ZNF605', 'ZNF606', 'ZNF607', 'ZNF607_CTD_2528L19_4', 'ZNF608', 'ZNF609', 'ZNF610', 'ZNF611', 'ZNF613', 'ZNF614', 'ZNF615', 'ZNF616', 'ZNF616_CTC_471J1_8', 'ZNF618', 'ZNF619', 'ZNF620', 'ZNF621', 'ZNF622', 'ZNF623', 'ZNF624', 'ZNF625_ZNF20_ZNF625_ZNF20', 'ZNF625_ZNF625_ZNF20', 'ZNF625_ZNF625_ZNF20_CTC_359D24_3', 'ZNF626', 'ZNF626_CTC_513N18_7', 'ZNF627', 'ZNF628', 'ZNF629', 'ZNF629_Y_RNA', 'ZNF630', 'ZNF630_ZNF182', 'ZNF638', 'ZNF639', 'ZNF641', 'ZNF644', 'ZNF646', 'ZNF648', 'ZNF649', 'ZNF649_ZNF577', 'ZNF652', 'ZNF653', 'ZNF653_CTC_398G3_6', 'ZNF654', 'ZNF655', 'ZNF655_GS1_259H13_10', 'ZNF658', 'ZNF658B', 'ZNF66', 'ZNF660_RP11_944L7_5', 'ZNF660_ZNF197', 'ZNF662', 'ZNF662_KRBOX1_RP11_141M3_5', 'ZNF664', 'ZNF665', 'ZNF667', 'ZNF668', 'ZNF669', 'ZNF670', 'ZNF670_ZNF695', 'ZNF671', 'ZNF672', 'ZNF674', 'ZNF675', 'ZNF676', 'ZNF677', 'ZNF678', 'ZNF679', 'ZNF680', 'ZNF681', 'ZNF682', 'ZNF683', 'ZNF684', 'ZNF687', 'ZNF688', 'ZNF689', 'ZNF69', 'ZNF691', 'ZNF692', 'ZNF696', 'ZNF697', 'ZNF699', 'ZNF7', 'ZNF70', 'ZNF700', 'ZNF701', 'ZNF702P', 'ZNF702P_CTD_2620I22_1', 'ZNF703', 'ZNF704', 'ZNF705A', 'ZNF705A_FAM66C', 'ZNF705B', 'ZNF705C', 'ZNF705D', 'ZNF706', 'ZNF707', 'ZNF708', 'ZNF709_CTD_3105H18_18', 'ZNF71', 'ZNF710', 'ZNF713', 'ZNF714', 'ZNF716', 'ZNF717', 'ZNF718', 'ZNF720', 'ZNF721', 'ZNF721_ABCA11P', 'ZNF724P', 'ZNF726', 'ZNF728', 'ZNF730', 'ZNF732', 'ZNF733P', 'ZNF736', 'ZNF737', 'ZNF737_CTC_513N18_7', 'ZNF738', 'ZNF74', 'ZNF740', 'ZNF746', 'ZNF747', 'ZNF749', 'ZNF750', 'ZNF75A', 'ZNF75A_LA16c_360H6_2', 'ZNF75D_AMDP1_TRPC6P_TCEB1P24_DDX11L16_WASIR1', 'ZNF76', 'ZNF761', 'ZNF763', 'ZNF763_ZNF700', 'ZNF764', 'ZNF765', 'ZNF766', 'ZNF767', 'ZNF768', 'ZNF77', 'ZNF770', 'ZNF771', 'ZNF772', 'ZNF772_AC004076_9', 'ZNF773', 'ZNF773_AC003005_4', 'ZNF774', 'ZNF775', 'ZNF775_REPIN1', 'ZNF776', 'ZNF776_AC003006_7', 'ZNF777', 'ZNF778', 'ZNF780A', 'ZNF780A_AC005614_5', 'ZNF780B', 'ZNF780B_AC005614_5', 'ZNF781', 'ZNF782', 'ZNF783', 'ZNF783_RP4_800G7_2', 'ZNF784', 'ZNF785', 'ZNF786', 'ZNF787', 'ZNF788', 'ZNF789', 'ZNF79', 'ZNF790', 'ZNF791', 'ZNF791_AC010422_1', 'ZNF792', 'ZNF793', 'ZNF799_CTD_3105H18_16', 'ZNF8_AC010642_1', 'ZNF8_AC010642_1_CTD_3138B18_4', 'ZNF800', 'ZNF804A', 'ZNF804B', 'ZNF805', 'ZNF806', 'ZNF808', 'ZNF808_RPL39P34', 'ZNF81', 'ZNF812', 'ZNF813', 'ZNF813_CTD_2224J9_8', 'ZNF814', 'ZNF814_CTD_2583A14_9', 'ZNF815P', 'ZNF816', 'ZNF816_ZNF321P', 'ZNF816_ZNF321P_CTD_2620I22_1', 'ZNF816_ZNF816_ZNF321P', 'ZNF816_ZNF816_ZNF321P_ZNF321P', 'ZNF821', 'ZNF823', 'ZNF826P', 'ZNF827', 'ZNF829', 'ZNF83', 'ZNF831', 'ZNF833P', 'ZNF833P_CTC_499B15_4', 'ZNF833P_CTD_2006C1_6', 'ZNF835', 'ZNF836_CTC_471J1_8', 'ZNF837', 'ZNF839', 'ZNF84', 'ZNF841', 'ZNF843', 'ZNF844', 'ZNF844_snoU13', 'ZNF845', 'ZNF846', 'ZNF85', 'ZNF850', 'ZNF852', 'ZNF853', 'ZNF860', 'ZNF862', 'ZNF876P', 'ZNF878', 'ZNF879', 'ZNF880', 'ZNF883', 'ZNF890P', 'ZNF90', 'ZNF91', 'ZNF92', 'ZNF93', 'ZNF98', 'ZNF99', 'ZNFX1', 'ZNHIT1', 'ZNHIT3', 'ZNHIT6', 'ZNRD1', 'ZNRD1_AS1', 'ZNRF1', 'ZNRF1_SNORA25_snoU13', 'ZNRF2', 'ZNRF2P1', 'ZNRF3', 'ZP1', 'ZP2', 'ZP3', 'ZP4', 'ZPBP', 'ZPBP2', 'ZPLD1', 'ZRANB1', 'ZRANB1_RP11_298J20_4', 'ZRANB2', 'ZRANB2_AS1', 'ZRANB2_AS2', 'ZRANB3', 'ZRSR2', 'ZSCAN1', 'ZSCAN10', 'ZSCAN12', 'ZSCAN12P1', 'ZSCAN16', 'ZSCAN16_AS1', 'ZSCAN18', 'ZSCAN2', 'ZSCAN20', 'ZSCAN21', 'ZSCAN22', 'ZSCAN23', 'ZSCAN25', 'ZSCAN29', 'ZSCAN30', 'ZSCAN31', 'ZSCAN32', 'ZSCAN4', 'ZSCAN5A', 'ZSCAN5A_AC006116_21', 'ZSCAN5B', 'ZSCAN9', 'ZSWIM1', 'ZSWIM2', 'ZSWIM3', 'ZSWIM4', 'ZSWIM5', 'ZSWIM6', 'ZSWIM7', 'ZSWIM8', 'ZUFSP', 'ZW10', 'ZWILCH', 'ZWINT', 'ZXDC', 'ZYG11A', 'ZYG11B', 'ZYX', 'ZZEF1', 'ZZZ3', 'bP_21201H5_1', 'hsa_mir_490', 'hsa_mir_5571', 'hsa_mir_6080', 'hsa_mir_6080_RP11_927P21_5', 'hsa_mir_6080_RP13_104F24_1', 'hsa_mir_7162', 'hsa_mir_7162_AC126323_1', 'snoU13', 'snoU13_CTD_2659N19_2', 'snoU13_DDX19A', 'snoU13_KB_431C1_4', 'snoU13_RP11_578F21_12', 'HOXC8', 'HOXC9', 'HOXD_AS1', 'HOXD_AS2', 'HOXD1', 'HOXD10', 'HOXD11', 'HOXD13', 'HOXD3', 'HOXD3_HOXD4', 'HOXD8', 'HOXD9', 'HP', 'HP1BP3', 'HPCA', 'HPCAL1', 'HPCAL4', 'HPD', 'HPGD', 'HPGDS', 'HPN', 'HPN_AS1', 'HPR', 'HPR_HP', 'HPS1', 'HPS3', 'HPS4', 'HPS5', 'HPSE', 'HPSE2', 'HPX', 'HPYR1', 'HR', 'HRAS', 'HRASLS', 'HRASLS2', 'HRASLS5', 'HRC', 'HRCT1', 'HRG', 'HRH1', 'HRH2', 'HRH3', 'HRH4', 'HRK', 'HRNR', 'HRSP12', 'HS1BP3', 'HS2ST1', 'HS3ST1', 'HS3ST2', 'HS3ST3A1', 'HS3ST3B1', 'HS3ST4', 'HS3ST5', 'HS3ST6', 'HS6ST1', 'HS6ST2_AMDP1_TRPC6P_TCEB1P24_DDX11L16_WASIR1', 'HS6ST3', 'HSBP1', 'HSBP1L1', 'HSCB', 'HSD11B1', 'HSD11B1L', 'HSD11B2', 'HSD17B1', 'HSD17B10', 'HSD17B11', 'HSD17B11_RP11_529H2_2', 'HSD17B12', 'HSD17B13', 'HSD17B13_RP11_529H2_2', 'HSD17B14', 'HSD17B2', 'HSD17B3', 'HSD17B4', 'HSD17B6', 'HSD17B7', 'HSD17B7P2', 'HSD17B8', 'HSD3B1', 'HSD3B2', 'HSD3B7', 'HSDL1', 'HSDL2', 'HSF1', 'HSF2', 'HSF2BP', 'HSF4', 'HSF4_RP11_5A19_5', 'HSF5', 'HSFX2_AMDP1_TRPC6P_TCEB1P24_DDX11L16_WASIR1', 'HSFY1', 'HSFY1_AC022486_1', 'HSFY1P1', 'HSFY2', 'HSH2D', 'HSH2D_RAB8A', 'HSP90AA1', 'HSP90AB1', 'HSP90AB3P', 'HSP90B1', 'HSP90B1_MIR3652', 'HSP90B3P', 'HSPA12A', 'HSPA12B', 'HSPA13', 'HSPA14', 'HSPA1B', 'HSPA1L', 'HSPA2', 'HSPA4', 'HSPA4L', 'HSPA5', 'HSPA7', 'HSPA8', 'HSPA8_SNORD14C', 'HSPA9', 'HSPB1', 'HSPB11', 'HSPB2_HSPB2_C11orf52', 'HSPB6', 'HSPB7', 'HSPB8', 'HSPB9', 'HSPBAP1', 'HSPBP1', 'HSPD1', 'HSPE1', 'HSPE1_HSPE1_MOB4', 'HSPG2', 'HSPH1', 'HTATIP2', 'HTATSF1_IL9R_SPRY3_VAMP7_WASH6P_DPH3P2_AJ271736_10', 'HTN1', 'HTN3', 'HTR1B', 'HTR1E', 'HTR1F', 'HTR2A', 'HTR2B', 'HTR3A', 'HTR3B', 'HTR3C', 'HTR3D', 'HTR3E', 'HTR4', 'HTR5A', 'HTR5A_AS1', 'HTR6', 'HTR7', 'HTRA1', 'HTRA2', 'HTRA3', 'HTRA4', 'HTT', 'HULC', 'HUNK', 'HUS1', 'HUWE1', 'HVCN1', 'HYAL1', 'HYAL2', 'HYAL2_TUSC2', 'HYAL3', 'HYAL4', 'HYALP1', 'HYDIN', 'HYDIN2', 'HYI', 'HYKK', 'HYLS1', 'HYOU1', 'IAH1', 'IAPP', 'IARS', 'IARS2', 'IBA57', 'IBSP', 'IBTK', 'ICA1', 'ICA1L', 'ICA1L_AC098831_4', 'ICAM1', 'ICAM2', 'ICAM3', 'ICAM5', 'ICK', 'ICMT', 'ICOS', 'ICOSLG', 'ICT1', 'ID2', 'ID4', 'IDE', 'IDH1', 'IDH2', 'IDH3A', 'IDH3B', 'IDH3G_AMDP1_TRPC6P_TCEB1P24_DDX11L16_WASIR1', 'IDI1', 'IDI2', 'IDI2_AS1', 'IDNK', 'IDO1', 'IDO2', 'IDS_AMDP1_LINC00893_TRPC6P_TCEB1P24_DDX11L16_WASIR1', 'IDS_AMDP1_TRPC6P_TCEB1P24_DDX11L16_WASIR1', 'IDUA', 'IER2', 'IER3', 'IER3IP1', 'IER3IP1_HDHD2', 'IER5L', 'IFFO1', 'IFFO2', 'IFFO2_RP13_279N23_2', 'IFI16', 'IFI27', 'IFI27L1', 'IFI27L2', 'IFI30_PIK3R2', 'IFI35', 'IFI44', 'IFI44L', 'IFI6', 'IFIH1', 'IFIT1', 'IFIT1B', 'IFIT2', 'IFIT3', 'IFIT5', 'IFITM1', 'IFITM10_RP11_295K3_1', 'IFITM2', 'IFITM3', 'IFITM5', 'IFLTD1', 'IFNA10', 'IFNA13', 'IFNA16', 'IFNA17', 'IFNA21', 'IFNA22P', 'IFNA4', 'IFNA7', 'IFNA8', 'IFNAR1', 'IFNAR2', 'IFNAR2_AP000295_9', 'IFNG', 'IFNG_AS1', 'IFNGR1', 'IFNGR2', 'IFNK', 'IFNL1', 'IFNL2', 'IFNL3', 'IFNLR1', 'IFNW1', 'IFRD1', 'IFRD1_LSMEM1', 'IFRD2', 'IFRD2_HYAL3', 'IFT122', 'IFT140', 'IFT172', 'IFT20', 'IFT27', 'IFT43', 'IFT46', 'IFT52', 'IFT57', 'IFT74', 'IFT80', 'IFT80_RP11_432B6_3', 'IFT81', 'IFT88', 'IGBP1_IL9R_SPRY3_VAMP7_WASH6P_DPH3P2_AJ271736_10', 'IGBP1P1', 'IGDCC3', 'IGDCC4', 'IGF1', 'IGF1R', 'IGF2', 'IGF2_INS_IGF2', 'IGF2BP1', 'IGF2BP2', 'IGF2BP3', 'IGF2R', 'IGFALS', 'IGFALS_SPSB3', 'IGFBP1', 'IGFBP2', 'IGFBP3', 'IGFBP4', 'IGFBP5', 'IGFBP6', 'IGFBP7', 'IGFBP7_AS1', 'IGFBPL1', 'IGFL1', 'IGFL2', 'IGFL3', 'IGFL4', 'IGFLR1_AD000671_6', 'IGFLR1_U2AF1L4_AD000671_6', 'IGFN1', 'IGHA1', 'IGHA2', 'IGHD', 'IGHD1_1', 'IGHD1_26', 'IGHD2_15', 'IGHD3_22', 'IGHD3_9', 'IGHD4_23', 'IGHD4_4', 'IGHD6_19', 'IGHD6_25', 'IGHD6_6', 'IGHE', 'IGHEP1', 'IGHG1', 'IGHG2', 'IGHG2_RP11_731F5_2', 'IGHG3', 'IGHG4', 'IGHGP', 'IGHJ1P', 'IGHJ2', 'IGHJ3', 'IGHJ3P', 'IGHJ6', 'IGHM', 'IGHMBP2', 'IGHV1_12', 'IGHV1_14', 'IGHV1_17', 'IGHV1_18', 'IGHV1_2', 'IGHV1_24', 'IGHV1_3', 'IGHV1_58', 'IGHV1_68', 'IGHV1_69', 'IGHV1_8', 'IGHV1OR16_3', 'IGHV1OR16_4', 'IGHV2_26', 'IGHV2_5', 'IGHV2_70', 'IGHV3_11', 'IGHV3_13', 'IGHV3_15', 'IGHV3_16', 'IGHV3_20', 'IGHV3_22', 'IGHV3_30', 'IGHV3_33', 'IGHV3_43', 'IGHV3_48', 'IGHV3_53', 'IGHV3_6', 'IGHV3_62', 'IGHV3_64', 'IGHV3_66', 'IGHV3_7', 'IGHV3_71', 'IGHV3_79', 'IGHV3_9', 'IGHV4_28', 'IGHV4_31', 'IGHV4_34', 'IGHV4_39', 'IGHV4_4', 'IGHV4_55', 'IGHV4_59', 'IGHV4_61', 'IGHV5_51', 'IGHV5_78', 'IGHV5_78_hsa_mir_5195', 'IGHV6_1', 'IGHV7_27', 'IGHV7_34_1', 'IGHV7_56', 'IGHVII_1_1', 'IGHVII_15_1', 'IGHVII_20_1', 'IGHVII_26_2', 'IGHVIII_16_1', 'IGHVIII_2_1', 'IGHVIII_22_2', 'IGHVIII_25_1', 'IGHVIII_5_1', 'IGHVIV_44_1', 'IGIP', 'IGJ', 'IGKJ3', 'IGKV1_12', 'IGKV1_13', 'IGKV1_17', 'IGKV1_27', 'IGKV1_33', 'IGKV1_37', 'IGKV1_39', 'IGKV1_5', 'IGKV1_6', 'IGKV1_8', 'IGKV1_9', 'IGKV1D_13', 'IGKV1D_16', 'IGKV1D_17', 'IGKV1D_27', 'IGKV1D_33', 'IGKV1D_37', 'IGKV1D_39', 'IGKV1D_8', 'IGKV1OR22_5', 'IGKV2_10', 'IGKV2_19', 'IGKV2_24', 'IGKV2_26', 'IGKV2_28', 'IGKV2_30', 'IGKV2D_28', 'IGKV2D_29', 'IGKV2D_40', 'IGKV3_11', 'IGKV3_15', 'IGKV3_20', 'IGKV3D_11', 'IGKV3D_15', 'IGKV3D_20', 'IGKV3D_7', 'IGKV4_1', 'IGKV6_21', 'IGLC1_IGLL5', 'IGLC2', 'IGLC7', 'IGLJ2', 'IGLJ6', 'IGLJ7', 'IGLL1', 'IGLL5', 'IGLON5', 'IGLV1_36', 'IGLV1_40', 'IGLV1_44', 'IGLV1_47', 'IGLV1_50', 'IGLV1_51', 'IGLV11_55', 'IGLV2_11', 'IGLV2_14', 'IGLV2_18', 'IGLV2_23', 'IGLV2_33', 'IGLV2_8', 'IGLV3_1', 'IGLV3_10', 'IGLV3_13', 'IGLV3_16', 'IGLV3_17', 'IGLV3_19', 'IGLV3_21', 'IGLV3_25', 'IGLV3_27', 'IGLV3_6', 'IGLV3_9', 'IGLV4_3', 'IGLV4_69', 'IGLV5_37', 'IGLV5_45', 'IGLV5_52', 'IGLV5_52_BMS1P20', 'IGLV6_57', 'IGLV7_43', 'IGLV7_46', 'IGLV8_61', 'IGLV9_49', 'IGLVI_70', 'IGSF1_AMDP1_TRPC6P_TCEB1P24_DDX11L16_WASIR1', 'IGSF10', 'IGSF11', 'IGSF11_AS1', 'IGSF21', 'IGSF22', 'IGSF23', 'IGSF3', 'IGSF5', 'IGSF6', 'IGSF8', 'IGSF9', 'IGSF9B', 'IGSF9B_AP000911_1', 'IHH', 'IK', 'IK_MIR3655', 'IKBIP', 'IKBKAP', 'IKBKB', 'IKBKE', 'IKZF1', 'IKZF2', 'IKZF3', 'IKZF4', 'IKZF5', 'IL10', 'IL10RA', 'IL10RB', 'IL10RB_AP000295_9', 'IL10RB_snoU13', 'IL10RB_AS1', 'IL11', 'IL11RA', 'IL11RA_GALT', 'IL12A', 'IL12A_AS1', 'IL12B', 'IL12RB1', 'IL12RB2', 'IL13', 'IL13RA2_AMDP1_TRPC6P_TCEB1P24_DDX11L16_WASIR1', 'IL15', 'IL15RA', 'IL16', 'IL17A', 'IL17B', 'IL17C', 'IL17D', 'IL17F', 'IL17RA', 'IL17RB', 'IL17RC', 'IL17RD', 'IL17RE', 'IL17REL', 'IL18', 'IL18BP', 'IL18R1', 'IL18RAP', 'IL19', 'IL1A', 'IL1B', 'IL1F10', 'IL1R1', 'IL1R2', 'IL1RAP', 'IL1RAPL1', 'IL1RL1', 'IL1RL1_IL18R1', 'IL1RL2', 'IL1RN', 'IL2', 'IL20', 'IL20RA', 'IL20RB', 'IL21', 'IL21_AS1', 'IL21R', 'IL21R_AS1', 'IL22', 'IL22RA1', 'IL22RA2', 'IL23A', 'IL23R', 'IL24', 'IL25', 'IL26', 'IL27', 'IL27RA', 'IL2RA', 'IL2RB', 'IL2RG_AMDP1_TRPC6P_TCEB1P24_DDX11L16_WASIR1', 'IL3', 'IL31', 'IL31RA', 'IL32', 'IL33', 'IL34', 'IL36A', 'IL36B', 'IL36G', 'IL36RN', 'IL37', 'IL3RA', 'IL3RA_ASMTL_AS1_LINC00106', 'IL3RA_CSF2RA', 'IL3RA_CSF2RA_BX649553_3_BX649553_2_BX649553_4_MIR3690_BX649553_1', 'IL3RA_LINC00106', 'IL4', 'IL4I1', 'IL4I1_NUP62', 'IL4R', 'IL5', 'IL5RA', 'IL6', 'IL6R', 'IL6ST', 'IL7', 'IL7R', 'IL8', 'IL9', 'IL9R_ACRC_SPRY3_VAMP7_WASH6P_DPH3P2_AJ271736_10', 'IL9R_AFF2_SPRY3_VAMP7_WASH6P_DPH3P2_AJ271736_10', 'IL9R_ALG13_SPRY3_VAMP7_WASH6P_DPH3P2_AJ271736_10', 'IL9R_APOOL_SPRY3_VAMP7_WASH6P_DPH3P2_AJ271736_10', 'IL9R_ARHGAP36_SPRY3_VAMP7_WASH6P_DPH3P2_AJ271736_10', 'IL9R_ARL13A_SPRY3_VAMP7_WASH6P_DPH3P2_AJ271736_10', 'IL9R_ARMCX1_SPRY3_VAMP7_WASH6P_DPH3P2_AJ271736_10', 'IL9R_ARMCX3_SPRY3_VAMP7_WASH6P_DPH3P2_AJ271736_10', 'IL9R_ATG4A_SPRY3_VAMP7_WASH6P_DPH3P2_AJ271736_10', 'IL9R_ATP7A_SPRY3_VAMP7_WASH6P_DPH3P2_AJ271736_10', 'IL9R_ATP7A_SPRY3_VAMP7_WASH6P_DPH3P2_AJ271736_10_RP5_1000K24_2', 'IL9R_BHLHB9_SPRY3_VAMP7_WASH6P_DPH3P2_AJ271736_10', 'IL9R_CDX4_SPRY3_VAMP7_WASH6P_DPH3P2_AJ271736_10', 'IL9R_CXorf57_SPRY3_VAMP7_WASH6P_DPH3P2_AJ271736_10', 'IL9R_DKC1_SPRY3_VAMP7_WASH6P_DPH3P2_AJ271736_10', 'IL9R_DOCK11_SPRY3_VAMP7_WASH6P_DPH3P2_AJ271736_10', 'IL9R_DUSP9_SPRY3_VAMP7_WASH6P_DPH3P2_AJ271736_10', 'IL9R_EDA_SPRY3_VAMP7_WASH6P_DPH3P2_AJ271736_10', 'IL9R_EMD_SPRY3_VAMP7_WASH6P_DPH3P2_AJ271736_10', 'IL9R_FAM155B_SPRY3_VAMP7_WASH6P_DPH3P2_AJ271736_10', 'IL9R_FATE1_SPRY3_VAMP7_WASH6P_DPH3P2_AJ271736_10', 'IL9R_GABRQ_SPRY3_VAMP7_WASH6P_DPH3P2_AJ271736_10', 'IL9R_GPR112_SPRY3_VAMP7_WASH6P_DPH3P2_AJ271736_10', 'IL9R_GPR174_SPRY3_VAMP7_WASH6P_DPH3P2_AJ271736_10', 'IL9R_GPRASP1_SPRY3_VAMP7_WASH6P_DPH3P2_AJ271736_10', 'IL9R_HMGB3_SPRY3_VAMP7_WASH6P_DPH3P2_AJ271736_10', 'IL9R_HTR2C_SPRY3_VAMP7_WASH6P_DPH3P2_AJ271736_10', 'IL9R_IL13RA1_SPRY3_VAMP7_WASH6P_DPH3P2_AJ271736_10', 'IL9R_ITGB1BP2_SPRY3_VAMP7_WASH6P_DPH3P2_AJ271736_10', 'IL9R_MAGEC1_SPRY3_VAMP7_WASH6P_DPH3P2_AJ271736_10', 'IL9R_MAGEC3_SPRY3_VAMP7_WASH6P_DPH3P2_AJ271736_10', 'IL9R_MSN_SPRY3_VAMP7_WASH6P_DPH3P2_AJ271736_10', 'IL9R_MUM1L1_SPRY3_VAMP7_WASH6P_DPH3P2_AJ271736_10', 'IL9R_NDUFA1_SPRY3_VAMP7_WASH6P_DPH3P2_AJ271736_10', 'IL9R_NSDHL_SPRY3_VAMP7_WASH6P_DPH3P2_AJ271736_10', 'IL9R_PBDC1_SPRY3_VAMP7_WASH6P_DPH3P2_AJ271736_10', 'IL9R_PHF6_SPRY3_VAMP7_WASH6P_DPH3P2_AJ271736_10', 'IL9R_PLXNA3_SPRY3_VAMP7_WASH6P_DPH3P2_AJ271736_10', 'IL9R_RAB33A_SPRY3_VAMP7_WASH6P_DPH3P2_AJ271736_10', 'IL9R_RAB41_SPRY3_VAMP7_WASH6P_DPH3P2_AJ271736_10', 'IL9R_RNF128_SPRY3_VAMP7_WASH6P_DPH3P2_AJ271736_10', 'IL9R_SH3BGRL_SPRY3_VAMP7_WASH6P_DPH3P2_AJ271736_10', 'IL9R_SLC16A2_SPRY3_VAMP7_WASH6P_DPH3P2_AJ271736_10', 'IL9R_SLC25A14_SPRY3_VAMP7_WASH6P_DPH3P2_AJ271736_10', 'IL9R_SLC6A8_SPRY3_VAMP7_WASH6P_DPH3P2_AJ271736_10', 'IL9R_SPRY3_AGTR2_VAMP7_WASH6P_DPH3P2_AJ271736_10', 'IL9R_SPRY3_AKAP14_VAMP7_WASH6P_DPH3P2_AJ271736_10', 'IL9R_SPRY3_AR_VAMP7_WASH6P_DPH3P2_AJ271736_10', 'IL9R_SPRY3_ATP6AP1_VAMP7_WASH6P_DPH3P2_AJ271736_10', 'IL9R_SPRY3_AVPR2_VAMP7_WASH6P_DPH3P2_AJ271736_10', 'IL9R_SPRY3_BGN_VAMP7_WASH6P_DPH3P2_AJ271736_10', 'IL9R_SPRY3_BRCC3_VAMP7_WASH6P_DPH3P2_AJ271736_10', 'IL9R_SPRY3_CLDN2_VAMP7_WASH6P_DPH3P2_AJ271736_10', 'IL9R_SPRY3_CNGA2_VAMP7_WASH6P_DPH3P2_AJ271736_10', 'IL9R_SPRY3_COL4A5_VAMP7_WASH6P_DPH3P2_AJ271736_10', 'IL9R_SPRY3_CPXCR1_VAMP7_WASH6P_DPH3P2_AJ271736_10', 'IL9R_SPRY3_CYLC1_VAMP7_WASH6P_DPH3P2_AJ271736_10', 'IL9R_SPRY3_DGAT2L6_VAMP7_WASH6P_DPH3P2_AJ271736_10', 'IL9R_SPRY3_DMRTC1B_VAMP7_WASH6P_DPH3P2_AJ271736_10', 'IL9R_SPRY3_FAM133A_VAMP7_WASH6P_DPH3P2_AJ271736_10', 'IL9R_SPRY3_FAM199X_VAMP7_WASH6P_DPH3P2_AJ271736_10', 'IL9R_SPRY3_FAM46D_VAMP7_WASH6P_DPH3P2_AJ271736_10', 'IL9R_SPRY3_FMR1NB_VAMP7_WASH6P_DPH3P2_AJ271736_10', 'IL9R_SPRY3_FOXO4_VAMP7_WASH6P_DPH3P2_AJ271736_10', 'IL9R_SPRY3_GPRASP2_VAMP7_WASH6P_DPH3P2_AJ271736_10_RP4_769N13_6', 'IL9R_SPRY3_IKBKG_VAMP7_WASH6P_DPH3P2_AJ271736_10', 'IL9R_SPRY3_IL1RAPL2_VAMP7_WASH6P_DPH3P2_AJ271736_10', 'IL9R_SPRY3_LINC00086_VAMP7_WASH6P_DPH3P2_AJ271736_10', 'IL9R_SPRY3_LONRF3_VAMP7_WASH6P_DPH3P2_AJ271736_10', 'IL9R_SPRY3_MED12_VAMP7_WASH6P_DPH3P2_AJ271736_10', 'IL9R_SPRY3_MED12_VAMP7_WASH6P_DPH3P2_AJ271736_10_AL590764_1', 'IL9R_SPRY3_MTM1_VAMP7_WASH6P_DPH3P2_AJ271736_10', 'IL9R_SPRY3_NGFRAP1_VAMP7_WASH6P_DPH3P2_AJ271736_10', 'IL9R_SPRY3_NLGN3_VAMP7_WASH6P_DPH3P2_AJ271736_10', 'IL9R_SPRY3_NLGN3_VAMP7_WASH6P_DPH3P2_snoU13_AJ271736_10', 'IL9R_SPRY3_NONO_VAMP7_WASH6P_DPH3P2_AJ271736_10', 'IL9R_SPRY3_OGT_VAMP7_WASH6P_DPH3P2_AJ271736_10', 'IL9R_SPRY3_OTUD6A_VAMP7_WASH6P_DPH3P2_AJ271736_10', 'IL9R_SPRY3_P2RY10_VAMP7_WASH6P_DPH3P2_AJ271736_10', 'IL9R_SPRY3_PABPC5_VAMP7_WASH6P_DPH3P2_AJ271736_10', 'IL9R_SPRY3_PASD1_VAMP7_WASH6P_DPH3P2_AJ271736_10', 'IL9R_SPRY3_PASD1_VAMP7_WASH6P_RP11_45D17_1_DPH3P2_AJ271736_10', 'IL9R_SPRY3_PCDH11X_VAMP7_WASH6P_DPH3P2_AJ271736_10', 'IL9R_SPRY3_PLS3_VAMP7_WASH6P_DPH3P2_AJ271736_10', 'IL9R_SPRY3_PRPS1_VAMP7_WASH6P_DPH3P2_AJ271736_10', 'IL9R_SPRY3_PRRG3_VAMP7_WASH6P_DPH3P2_AJ271736_10', 'IL9R_SPRY3_RBMX2_VAMP7_WASH6P_DPH3P2_AJ271736_10', 'IL9R_SPRY3_RPL10_VAMP7_WASH6P_DPH3P2_AJ271736_10', 'IL9R_SPRY3_SAGE1_VAMP7_WASH6P_DPH3P2_AJ271736_10', 'IL9R_SPRY3_SLC25A5_VAMP7_WASH6P_DPH3P2_AJ271736_10', 'IL9R_SPRY3_SLITRK2_VAMP7_WASH6P_DPH3P2_AJ271736_10', 'IL9R_SPRY3_SRPK3_VAMP7_WASH6P_DPH3P2_AJ271736_10', 'IL9R_SPRY3_TCEAL2_VAMP7_WASH6P_DPH3P2_AJ271736_10', 'IL9R_SPRY3_TCEAL4_VAMP7_WASH6P_DPH3P2_AJ271736_10', 'IL9R_SPRY3_TCEAL7_VAMP7_WASH6P_DPH3P2_AJ271736_10', 'IL9R_SPRY3_TMEM187_VAMP7_WASH6P_DPH3P2_AJ271736_10', 'IL9R_SPRY3_TMEM31_VAMP7_WASH6P_DPH3P2_AJ271736_10', 'IL9R_SPRY3_VAMP7_CXorf40A_WASH6P_DPH3P2_AJ271736_10', 'IL9R_SPRY3_VAMP7_H2BFM_WASH6P_DPH3P2_AJ271736_10', 'IL9R_SPRY3_VAMP7_MAGEA4_WASH6P_DPH3P2_AJ271736_10', 'IL9R_SPRY3_VAMP7_MAMLD1_WASH6P_DPH3P2_AJ271736_10', 'IL9R_SPRY3_VAMP7_SH2D1A_WASH6P_DPH3P2_AJ271736_10', 'IL9R_SPRY3_VAMP7_SPANXN4_WASH6P_DPH3P2_AJ271736_10', 'IL9R_SPRY3_VAMP7_SSR4_WASH6P_DPH3P2_AJ271736_10', 'IL9R_SPRY3_VAMP7_TCEAL1_WASH6P_DPH3P2_AJ271736_10', 'IL9R_SPRY3_VAMP7_WASH6P_ARMCX4_DPH3P2_AJ271736_10', 'IL9R_SPRY3_VAMP7_WASH6P_ARMCX5_DPH3P2_AJ271736_10_RP4_769N13_6', 'IL9R_SPRY3_VAMP7_WASH6P_AWAT1_DPH3P2_AJ271736_10', 'IL9R_SPRY3_VAMP7_WASH6P_CCDC160_DPH3P2_AJ271736_10', 'IL9R_SPRY3_VAMP7_WASH6P_CHIC1_DPH3P2_AJ271736_10', 'IL9R_SPRY3_VAMP7_WASH6P_COX7B_DPH3P2_AJ271736_10', 'IL9R_SPRY3_VAMP7_WASH6P_CSAG1_DPH3P2_AJ271736_10', 'IL9R_SPRY3_VAMP7_WASH6P_CSAG2_DPH3P2_AJ271736_10', 'IL9R_SPRY3_VAMP7_WASH6P_CT45A1_DPH3P2_AJ271736_10', 'IL9R_SPRY3_VAMP7_WASH6P_CT45A2_DPH3P2_AJ271736_10', 'IL9R_SPRY3_VAMP7_WASH6P_CT45A3_DPH3P2_AJ271736_10', 'IL9R_SPRY3_VAMP7_WASH6P_CTAG1A_DPH3P2_AJ271736_10', 'IL9R_SPRY3_VAMP7_WASH6P_CXorf49B_DPH3P2_AJ271736_10', 'IL9R_SPRY3_VAMP7_WASH6P_CXorf51B_DPH3P2_AJ271736_10', 'IL9R_SPRY3_VAMP7_WASH6P_CXorf64_DPH3P2_AJ271736_10', 'IL9R_SPRY3_VAMP7_WASH6P_DACH2_DPH3P2_AJ271736_10', 'IL9R_SPRY3_VAMP7_WASH6P_DDX26B_DPH3P2_AJ271736_10', 'IL9R_SPRY3_VAMP7_WASH6P_DPH3P2_AJ271736_10', 'IL9R_SPRY3_VAMP7_WASH6P_DPH3P2_AJ271736_10_HPRT1', 'IL9R_SPRY3_VAMP7_WASH6P_DPH3P2_AJ271736_10_LINC00890', 'IL9R_SPRY3_VAMP7_WASH6P_DPH3P2_AJ271736_10_LPAR4', 'IL9R_SPRY3_VAMP7_WASH6P_DPH3P2_AJ271736_10_RGAG1', 'IL9R_SPRY3_VAMP7_WASH6P_DPH3P2_AJ271736_10_RP4_755D9_1', 'IL9R_SPRY3_VAMP7_WASH6P_DPH3P2_AJ271736_10_RP5_1000K24_2', 'IL9R_SPRY3_VAMP7_WASH6P_DPH3P2_AJ271736_10_TMEM185AP1', 'IL9R_SPRY3_VAMP7_WASH6P_DPH3P2_TDGF1P3_AJ271736_10', 'IL9R_SPRY3_VAMP7_WASH6P_FAM122C_DPH3P2_AJ271736_10', 'IL9R_SPRY3_VAMP7_WASH6P_FGF13_AS1_DPH3P2_AJ271736_10', 'IL9R_SPRY3_VAMP7_WASH6P_FGF16_DPH3P2_AJ271736_10', 'IL9R_SPRY3_VAMP7_WASH6P_FUNDC2_DPH3P2_AJ271736_10', 'IL9R_SPRY3_VAMP7_WASH6P_GDI1_DPH3P2_AJ271736_10', 'IL9R_SPRY3_VAMP7_WASH6P_GJB1_DPH3P2_AJ271736_10', 'IL9R_SPRY3_VAMP7_WASH6P_H2BFXP_DPH3P2_AJ271736_10', 'IL9R_SPRY3_VAMP7_WASH6P_JPX_DPH3P2_AJ271736_10', 'IL9R_SPRY3_VAMP7_WASH6P_LINC00269_DPH3P2_AJ271736_10', 'IL9R_SPRY3_VAMP7_WASH6P_LINC00629_DPH3P2_AJ271736_10', 'IL9R_SPRY3_VAMP7_WASH6P_LINC00630_DPH3P2_AJ271736_10', 'IL9R_SPRY3_VAMP7_WASH6P_LINC00632_DPH3P2_AJ271736_10', 'IL9R_SPRY3_VAMP7_WASH6P_LINC00894_DPH3P2_AJ271736_10', 'IL9R_SPRY3_VAMP7_WASH6P_MAGEA11_DPH3P2_AJ271736_10', 'IL9R_SPRY3_VAMP7_WASH6P_MAGEA2B_DPH3P2_AJ271736_10', 'IL9R_SPRY3_VAMP7_WASH6P_MAGEA6_DPH3P2_AJ271736_10', 'IL9R_SPRY3_VAMP7_WASH6P_MAGEA9_DPH3P2_AJ271736_10', 'IL9R_SPRY3_VAMP7_WASH6P_MCTS1_DPH3P2_AJ271736_10', 'IL9R_SPRY3_VAMP7_WASH6P_MID2_DPH3P2_AJ271736_10', 'IL9R_SPRY3_VAMP7_WASH6P_MIR223_DPH3P2_AJ271736_10', 'IL9R_SPRY3_VAMP7_WASH6P_MORF4L2_AS1_DPH3P2_AJ271736_10', 'IL9R_SPRY3_VAMP7_WASH6P_NHSL2_DPH3P2_AJ271736_10', 'IL9R_SPRY3_VAMP7_WASH6P_NHSL2_DPH3P2_AJ271736_10_RP11_262D11_1', 'IL9R_SPRY3_VAMP7_WASH6P_NRK_DPH3P2_AJ271736_10', 'IL9R_SPRY3_VAMP7_WASH6P_NXF2_DPH3P2_AJ271736_10', 'IL9R_SPRY3_VAMP7_WASH6P_NXF2_TCP11X1_DPH3P2_AJ271736_10', 'IL9R_SPRY3_VAMP7_WASH6P_NXF4_DPH3P2_AJ271736_10', 'IL9R_SPRY3_VAMP7_WASH6P_OPN1LW_DPH3P2_AJ271736_10', 'IL9R_SPRY3_VAMP7_WASH6P_OPN1MW_DPH3P2_AJ271736_10', 'IL9R_SPRY3_VAMP7_WASH6P_OPN1MW2_DPH3P2_AJ271736_10', 'IL9R_SPRY3_VAMP7_WASH6P_PLP1_DPH3P2_AJ271736_10', 'IL9R_SPRY3_VAMP7_WASH6P_PNMA3_DPH3P2_AJ271736_10', 'IL9R_SPRY3_VAMP7_WASH6P_POU3F4_DPH3P2_AJ271736_10', 'IL9R_SPRY3_VAMP7_WASH6P_RAP2C_AS1_DPH3P2_AJ271736_10', 'IL9R_SPRY3_VAMP7_WASH6P_RBMXL3_DPH3P2_AJ271736_10', 'IL9R_SPRY3_VAMP7_WASH6P_RHOXF2_DPH3P2_AJ271736_10', 'IL9R_SPRY3_VAMP7_WASH6P_RP1_171K16_5_DPH3P2_AJ271736_10', 'IL9R_SPRY3_VAMP7_WASH6P_RP11_218L14_4_DPH3P2_AJ271736_10', 'IL9R_SPRY3_VAMP7_WASH6P_RP11_262D11_2_DPH3P2_AJ271736_10', 'IL9R_SPRY3_VAMP7_WASH6P_RP11_308D16_4_DPH3P2_AJ271736_10', 'IL9R_SPRY3_VAMP7_WASH6P_RP11_308D16_4_RP11_308D16_2_DPH3P2_AJ271736_10', 'IL9R_SPRY3_VAMP7_WASH6P_RP11_85L21_4_DPH3P2_AJ271736_10', 'IL9R_SPRY3_VAMP7_WASH6P_RP4_562J12_2_DPH3P2_AJ271736_10', 'IL9R_SPRY3_VAMP7_WASH6P_RPL36A_HNRNPH2_RPL36A_DPH3P2_AJ271736_10', 'IL9R_SPRY3_VAMP7_WASH6P_SLC25A43_DPH3P2_AJ271736_10', 'IL9R_SPRY3_VAMP7_WASH6P_SLC9A6_DPH3P2_AJ271736_10', 'IL9R_SPRY3_VAMP7_WASH6P_SNORA68_DPH3P2_AJ271736_10_TSIX', 'IL9R_SPRY3_VAMP7_WASH6P_SPANXA2_OT1_DPH3P2_AJ271736_10', 'IL9R_SPRY3_VAMP7_WASH6P_SPANXB1_DPH3P2_AJ271736_10', 'IL9R_SPRY3_VAMP7_WASH6P_SPANXB2_DPH3P2_AJ271736_10', 'IL9R_SPRY3_VAMP7_WASH6P_SPANXN1_DPH3P2_AJ271736_10', 'IL9R_SPRY3_VAMP7_WASH6P_STAG2_DPH3P2_AJ271736_10', 'IL9R_SPRY3_VAMP7_WASH6P_STARD8_DPH3P2_AJ271736_10', 'IL9R_SPRY3_VAMP7_WASH6P_TCP11X1_DPH3P2_AJ271736_10', 'IL9R_SPRY3_VAMP7_WASH6P_TGIF2LX_DPH3P2_AJ271736_10', 'IL9R_SPRY3_VAMP7_WASH6P_TMLHE_AS1_DPH3P2_AJ271736_10', 'IL9R_SPRY3_VAMP7_WASH6P_TMSB15B_DPH3P2_AJ271736_10', 'IL9R_SPRY3_VAMP7_WASH6P_TRPC5OS_DPH3P2_AJ271736_10', 'IL9R_SPRY3_VAMP7_WASH6P_U3_NRK_DPH3P2_AJ271736_10', 'IL9R_SPRY3_VAMP7_WASH6P_UPRT_DPH3P2_AJ271736_10', 'IL9R_SPRY3_VAMP7_WASH6P_XIAP_DPH3P2_AJ271736_10', 'IL9R_SPRY3_VAMP7_WASH6P_ZCCHC18_DPH3P2_AJ271736_10', 'IL9R_SPRY3_VMA21_VAMP7_WASH6P_DPH3P2_AJ271736_10', 'IL9R_SPRY3_WBP5_VAMP7_WASH6P_DPH3P2_AJ271736_10', 'IL9R_SPRY3_YIPF6_VAMP7_WASH6P_DPH3P2_AJ271736_10', 'IL9R_SPRY3_ZBTB33_VAMP7_WASH6P_DPH3P2_AJ271736_10', 'IL9R_SPRY3_ZCCHC12_VAMP7_WASH6P_DPH3P2_AJ271736_10', 'IL9R_SPRY3_ZCCHC16_VAMP7_WASH6P_DPH3P2_AJ271736_10', 'IL9R_SPRY3_ZFP92_VAMP7_WASH6P_DPH3P2_AJ271736_10', 'IL9R_SPRY3_ZNF449_VAMP7_WASH6P_DPH3P2_AJ271736_10', 'IL9R_TAF1_SPRY3_VAMP7_WASH6P_DPH3P2_AJ271736_10', 'IL9R_TAZ_SPRY3_VAMP7_WASH6P_DPH3P2_AJ271736_10', 'IL9R_TBC1D8B_SPRY3_VAMP7_WASH6P_DPH3P2_AJ271736_10', 'IL9R_TMEM164_SPRY3_VAMP7_WASH6P_DPH3P2_AJ271736_10', 'IL9R_TMEM35_SPRY3_VAMP7_WASH6P_DPH3P2_AJ271736_10', 'IL9R_UBE2A_SPRY3_VAMP7_WASH6P_DPH3P2_AJ271736_10', 'IL9R_VAMP7_WASH6P_AJ271736_10', 'IL9R_VBP1_SPRY3_VAMP7_WASH6P_DPH3P2_AJ271736_10', 'IL9R_VSIG1_SPRY3_VAMP7_WASH6P_DPH3P2_AJ271736_10', 'IL9R_WASH6P_AJ271736_10', 'IL9R_WDR44_SPRY3_VAMP7_WASH6P_DPH3P2_AJ271736_10', 'IL9R_ZIC3_SPRY3_VAMP7_WASH6P_DPH3P2_AJ271736_10', 'IL9R_ZNF185_SPRY3_VAMP7_WASH6P_DPH3P2_AJ271736_10', 'IL9R_ZNF275_SPRY3_VAMP7_WASH6P_DPH3P2_AJ271736_10', 'IL9R_ZNF711_SPRY3_VAMP7_WASH6P_DPH3P2_AJ271736_10', 'IL9R_ZNF711_SPRY3_VAMP7_WASH6P_DPH3P2_AJ271736_10_AC003001_1', 'ILDR1', 'ILDR2', 'ILF2', 'ILF3', 'ILK', 'ILKAP', 'ILVBL', 'IMMP1L', 'IMMP2L', 'IMMT', 'IMP3', 'IMP4', 'IMPA1', 'IMPA2', 'IMPACT', 'IMPAD1', 'IMPDH1', 'IMPDH2', 'IMPG1', 'IMPG2', 'INA', 'INADL', 'INCA1', 'INCENP', 'INF2', 'ING1', 'ING2', 'ING3', 'ING4', 'ING5', 'INHA', 'INHBA', 'INHBA_AS1', 'INHBB', 'INHBC', 'INHBE', 'INIP', 'INMT', 'INMT_INMT_FAM188B', 'INMT_FAM188B', 'INO80', 'INO80B', 'INO80C', 'INO80C_RP11_322E11_6', 'INO80D', 'INO80D_Y_RNA', 'INO80E', 'INPP1', 'INPP4A', 'INPP4B', 'INPP5A', 'INPP5B', 'INPP5D', 'INPP5E', 'INPP5F', 'INPP5J', 'INPP5K', 'INPPL1', 'INPPL1_U3', 'INS', 'INS_INS_IGF2', 'INSC', 'INSIG1', 'INSIG2', 'INSL3', 'INSL4', 'INSL6', 'INSM2', 'INSR', 'INSRR', 'INTS1', 'INTS10', 'INTS12', 'INTS2', 'INTS3', 'INTS4', 'INTS4L1', 'INTS4L2', 'INTS5', 'INTS6', 'INTS6_AS1', 'INTS7', 'INTS8', 'INTS9', 'INTU', 'INVS', 'IP6K1', 'IP6K2', 'IP6K3', 'IPCEF1', 'IPMK', 'IPO11', 'IPO11_LRRC70', 'IPO13', 'IPO4_RP11_468E2_2', 'IPO5', 'IPO7', 'IPO8', 'IPO9', 'IPP', 'IPPK', 'IQCA1', 'IQCB1', 'IQCB1_SNORA70', 'IQCC', 'IQCD', 'IQCE', 'IQCF1', 'IQCF2', 'IQCF3', 'IQCF5', 'IQCG', 'IQCH', 'IQCH_AS1', 'IQCJ_IQCJ_SCHIP1', 'IQCJ_SCHIP1', 'IQCK', 'IQGAP1', 'IQGAP2', 'IQGAP3', 'IQSEC1', 'IQSEC2', 'IQSEC3', 'IQUB', 'IRAK1_AMDP1_TRPC6P_TCEB1P24_DDX11L16_WASIR1', 'IRAK1BP1', 'IRAK2', 'IRAK3', 'IRAK4', 'IREB2', 'IRF1', 'IRF2', 'IRF2BP1', 'IRF2BP2', 'IRF3', 'IRF4', 'IRF5', 'IRF6', 'IRF7', 'IRF8', 'IRF9_RP11_468E2_4', 'IRGC', 'IRGM', 'IRGQ', 'IRGQ_L34079_2', 'IRS1', 'IRS2', 'IRS4_AMDP1_TRPC6P_TCEB1P24_DDX11L16_WASIR1_RP6_24A23_6', 'IRX1', 'IRX2', 'IRX3', 'IRX4', 'IRX5', 'IRX6', 'ISCA1', 'ISCA2', 'ISCU', 'ISG15', 'ISG20', 'ISG20L2', 'ISL1', 'ISL2', 'ISLR', 'ISLR2', 'ISM1', 'ISM1_AS1', 'ISM2', 'ISOC1', 'ISOC2', 'ISPD', 'ISPD_AC006035_1_RP11_196O16_1', 'ISPD_AS1', 'IST1', 'IST1_ATXN1L', 'ISX', 'ISY1', 'ISY1_ISY1_RAB43', 'ISY1_RAB43_RAB43', 'ISYNA1', 'ITCH', 'ITFG1', 'ITFG1_RNA5SP424', 'ITFG2', 'ITFG3', 'ITGA1', 'ITGA1_CTD_2207L17_1', 'ITGA10', 'ITGA11', 'ITGA2', 'ITGA2B', 'ITGA3', 'ITGA4', 'ITGA5', 'ITGA6', 'ITGA7', 'ITGA8', 'ITGA9', 'ITGAD', 'ITGAD_RP11_120K18_2', 'ITGAE', 'ITGAL', 'ITGAM', 'ITGAV', 'ITGAX', 'ITGB1', 'ITGB1BP1', 'ITGB2', 'ITGB2_AS1', 'ITGB3', 'ITGB3BP', 'ITGB4', 'ITGB5', 'ITGB6', 'ITGB7', 'ITGB8', 'ITGB8_snoU13', 'ITGBL1', 'ITIH1', 'ITIH2', 'ITIH3', 'ITIH4_RP5_966M1_6', 'ITIH5', 'ITIH6', 'ITK', 'ITLN1', 'ITLN2', 'ITM2A_AMDP1_TRPC6P_TCEB1P24_DDX11L16_WASIR1', 'ITM2B', 'ITM2C', 'ITPA', 'ITPK1', 'ITPKA', 'ITPKB', 'ITPKC', 'ITPR1', 'ITPR2', 'ITPR3', 'ITPRIP', 'ITPRIPL1', 'ITSN1', 'ITSN2', 'IVD', 'IVL', 'IVNS1ABP', 'IWS1', 'IYD', 'IZUMO1', 'IZUMO2', 'IZUMO4', 'JAG1', 'JAG2', 'JAG2_RP11_44N21_4', 'JAGN1', 'JAK1', 'JAK2', 'JAK3', 'JAKMIP1', 'JAKMIP1_Y_RNA', 'JAKMIP2', 'JAKMIP3', 'JAM2', 'JAM3', 'JARID2', 'JARID2_AS1', 'JAZF1', 'JAZF1_AS1', 'JDP2', 'JHDM1D', 'JKAMP', 'JMJD1C', 'JMJD4', 'JMJD6', 'JMJD7', 'JMJD7_JMJD7_PLA2G4B', 'JMJD7_JMJD7_PLA2G4B_PLA2G4B', 'JMJD7_PLA2G4B_PLA2G4B', 'JMJD8', 'JMY', 'JOSD1', 'JOSD2', 'JPH1', 'JPH2', 'JPH3', 'JPH4', 'JPH4_AP1G2', 'JRK', 'JRKL', 'JSRP1', 'JTB', 'JUND', 'JUP', 'JUP_KRT17', 'KAAG1', 'KAL1', 'KALRN', 'KANK1', 'KANK2', 'KANK3', 'KANK4', 'KANSL1', 'KANSL1_AS1', 'KANSL1L', 'KANSL1L_AC006994_3', 'KANSL2', 'KANSL3', 'KARS', 'KAT2A', 'KAT2A_CTD_2132N18_3', 'KAT2B', 'KAT5', 'KAT6A', 'KAT6B', 'KAT7', 'KAT8', 'KATNA1', 'KATNAL1', 'KATNAL2', 'KATNB1', 'KATNBL1', 'KAZALD1', 'KAZN', 'KB_1572G7_2_ASLP1', 'KB_1592A4_15', 'KB_1639H6_4', 'KB_1732A1_1', 'KB_431C1_4', 'KBTBD11', 'KBTBD12', 'KBTBD2', 'KBTBD3', 'KBTBD4', 'KBTBD6', 'KBTBD7', 'KBTBD8', 'KCMF1', 'KCNA1', 'KCNA10', 'KCNA2', 'KCNA3', 'KCNA7', 'KCNAB1', 'KCNAB2', 'KCNAB3', 'KCNAB3_RP11_1099M24_7', 'KCNB1', 'KCNB2', 'KCNC1', 'KCNC2', 'KCNC3', 'KCND1', 'KCND2', 'KCND3', 'KCNE1', 'KCNE2', 'KCNE3', 'KCNE3_SNORA40', 'KCNE4', 'KCNG1', 'KCNG2', 'KCNG3', 'KCNG4', 'KCNH1', 'KCNH2', 'KCNH3', 'KCNH4', 'KCNH4_Y_RNA', 'KCNH5', 'KCNH6', 'KCNH7', 'KCNH8', 'KCNIP1', 'KCNIP2', 'KCNIP3', 'KCNIP4', 'KCNJ1', 'KCNJ11', 'KCNJ12', 'KCNJ13', 'KCNJ14', 'KCNJ14_CTC_273B12_7', 'KCNJ15', 'KCNJ16', 'KCNJ2', 'KCNJ3', 'KCNJ4', 'KCNJ5', 'KCNJ6', 'KCNJ8', 'KCNJ9', 'KCNK1', 'KCNK10', 'KCNK12', 'KCNK13', 'KCNK15', 'KCNK16', 'KCNK17', 'KCNK18', 'KCNK2', 'KCNK3', 'KCNK4', 'KCNK4_RP11_783K16_10', 'KCNK4_TEX40_RP11_783K16_10', 'KCNK5', 'KCNK6', 'KCNK7', 'KCNK9', 'KCNMA1', 'KCNMB1', 'KCNMB2', 'KCNMB3', 'KCNMB3_LRRFIP1P1', 'KCNMB4', 'KCNN1', 'KCNN2', 'KCNN3', 'KCNN4', 'KCNQ1', 'KCNQ1DN', 'KCNQ1OT1', 'KCNQ2', 'KCNQ3', 'KCNQ4', 'KCNQ5', 'KCNRG', 'KCNS1', 'KCNS2', 'KCNS3', 'KCNT1', 'KCNT2', 'KCNU1', 'KCNV1', 'KCNV2', 'KCP', 'KCP_RP11_309L24_2', 'KCTD1', 'KCTD10', 'KCTD12_AC000403_1', 'KCTD13', 'KCTD14', 'KCTD15', 'KCTD16', 'KCTD17', 'KCTD18', 'KCTD19', 'KCTD2', 'KCTD20', 'KCTD21', 'KCTD3', 'KCTD4', 'KCTD5', 'KCTD6', 'KCTD7', 'KCTD7_RABGEF1', 'KCTD8', 'KCTD9', 'KDELC1', 'KDELC2', 'KDELR1', 'KDELR2', 'KDELR2_DAGLB', 'KDELR3', 'KDM1A', 'KDM1B', 'KDM2A', 'KDM2B', 'KDM3A', 'KDM3B', 'KDM4A', 'KDM4A_AS1', 'KDM4B', 'KDM4C', 'KDM4C_RP11_390F4_3', 'KDM4D', 'KDM4E', 'KDM5A', 'KDM5B', 'KDM5C', 'KDM5D', 'KDM6A', 'KDM6B', 'KDM8', 'KDR', 'KDSR', 'KEAP1', 'KEL', 'KERA', 'KHDC1', 'KHDC1_RP11_257K9_8', 'KHDC1L_RP11_257K9_8', 'KHDC1P1_RP11_257K9_8', 'KHDC3L', 'KHDRBS1', 'KHDRBS2', 'KHDRBS2_RP1_240B8_3', 'KHDRBS3', 'KHK', 'KHNYN', 'KHSRP', 'KIAA0020', 'KIAA0040', 'KIAA0087', 'KIAA0100', 'KIAA0101', 'KIAA0101_CTD_2116N17_1', 'KIAA0125', 'KIAA0141', 'KIAA0195', 'KIAA0195_AC100787_1', 'KIAA0196', 'KIAA0226', 'KIAA0226_MIR922', 'KIAA0226L', 'KIAA0226L_PPP1R2P4', 'KIAA0232', 'KIAA0247', 'KIAA0319', 'KIAA0319L', 'KIAA0355', 'KIAA0368', 'KIAA0391', 'KIAA0408', 'KIAA0430', 'KIAA0513', 'KIAA0556', 'KIAA0586', 'KIAA0753', 'KIAA0825', 'KIAA0895', 'KIAA0895L', 'KIAA0907', 'KIAA0922', 'KIAA0930', 'KIAA0947', 'KIAA1009', 'KIAA1024', 'KIAA1033', 'KIAA1045', 'KIAA1107', 'KIAA1109', 'KIAA1143', 'KIAA1147', 'KIAA1161', 'KIAA1191', 'KIAA1199', 'KIAA1211', 'KIAA1211L', 'KIAA1217', 'KIAA1239', 'KIAA1244', 'KIAA1257', 'KIAA1257_RP11_723O4_6', 'KIAA1279', 'KIAA1324', 'KIAA1324L', 'KIAA1328', 'KIAA1377', 'KIAA1407', 'KIAA1429', 'KIAA1430', 'KIAA1432', 'KIAA1456', 'KIAA1462', 'KIAA1462_U8', 'KIAA1467', 'KIAA1468', 'KIAA1522', 'KIAA1524', 'KIAA1549', 'KIAA1549L', 'KIAA1551', 'KIAA1586', 'KIAA1598', 'KIAA1614', 'KIAA1644', 'KIAA1671', 'KIAA1671_snoU13', 'KIAA1683', 'KIAA1715', 'KIAA1731', 'KIAA1737', 'KIAA1737_RP11_463C8_4', 'KIAA1755', 'KIAA1841', 'KIAA1841_C2orf74', 'KIAA1875', 'KIAA1919', 'KIAA1958', 'KIAA1984', 'KIAA1984_RP11_216L13_17', 'KIAA1984_RP11_216L13_17_RP11_216L13_19', 'KIAA1984_RP11_216L13_17_RP11_216L13_19_RP11_216L13_18', 'KIAA1984_RP11_216L13_19', 'KIAA1984_RP11_216L13_19_RP11_216L13_18', 'KIAA1984_AS1', 'KIAA2013', 'KIAA2018', 'KIAA2022_AMDP1_TRPC6P_TCEB1P24_DDX11L16_WASIR1', 'KIAA2022_SNORA7_AMDP1_TRPC6P_TCEB1P24_DDX11L16_WASIR1', 'KIAA2026', 'KIDINS220', 'KIF11', 'KIF12', 'KIF13A', 'KIF13B', 'KIF14', 'KIF15', 'KIF16B', 'KIF17', 'KIF18A', 'KIF18B', 'KIF19', 'KIF1A', 'KIF1B', 'KIF1C', 'KIF20A', 'KIF20B', 'KIF21A', 'KIF21B', 'KIF22', 'KIF23', 'KIF24', 'KIF25', 'KIF25_AS1', 'KIF26A', 'KIF26B', 'KIF27', 'KIF2A', 'KIF2A_IPO11', 'KIF2B', 'KIF2C', 'KIF3A', 'KIF3B', 'KIF3C', 'KIF3C_Y_RNA', 'KIF4A_IL9R_SPRY3_VAMP7_WASH6P_DPH3P2_AJ271736_10', 'KIF4B', 'KIF5A', 'KIF5B', 'KIF5C', 'KIF6', 'KIF7', 'KIF9', 'KIF9_AS1', 'KIFAP3', 'KIFC1', 'KIFC2', 'KIFC3', 'KIN', 'KIR2DL1', 'KIR2DL1_CTB_61M7_1', 'KIR2DL3', 'KIR2DL3_KIR2DL1', 'KIR2DL4', 'KIR2DS4', 'KIR3DL1', 'KIR3DL1_KIR3DL2', 'KIR3DL2', 'KIR3DL3', 'KIR3DL3_KIR3DL1_KIR2DL4_CTB_61M7_1', 'KIR3DX1', 'KIRREL', 'KIRREL2', 'KIRREL3', 'KIRREL3_AS2', 'KIRREL3_AS3', 'KISS1', 'KISS1R', 'KIT', 'KITLG', 'KL', 'KLB', 'KLC1', 'KLC1_RP11_73M18_2', 'KLC1_RP11_73M18_6', 'KLC2', 'KLC3', 'KLC4', 'KLF1', 'KLF10', 'KLF11', 'KLF12', 'KLF13', 'KLF15', 'KLF16', 'KLF17', 'KLF2', 'KLF3', 'KLF4', 'KLF5', 'KLF6', 'KLF7', 'KLF8', 'KLF9', 'KLHDC1', 'KLHDC10', 'KLHDC2', 'KLHDC3', 'KLHDC4', 'KLHDC8A', 'KLHDC8B', 'KLHL1', 'KLHL10', 'KLHL11', 'KLHL12', 'KLHL13_AMDP1_TRPC6P_TCEB1P24_DDX11L16_WASIR1', 'KLHL14', 'KLHL15', 'KLHL17', 'KLHL18', 'KLHL2', 'KLHL20', 'KLHL21', 'KLHL22', 'KLHL23', 'KLHL23_PHOSPHO2', 'KLHL24', 'KLHL25', 'KLHL26', 'KLHL28', 'KLHL29', 'KLHL2P1', 'KLHL3', 'KLHL30', 'KLHL31', 'KLHL32', 'KLHL33', 'KLHL34', 'KLHL35', 'KLHL36', 'KLHL38', 'KLHL4_IL9R_SPRY3_VAMP7_WASH6P_DPH3P2_AJ271736_10', 'KLHL40', 'KLHL41', 'KLHL41_BBS5_RP11_724O16_1', 'KLHL42', 'KLHL5', 'KLHL6', 'KLHL7', 'KLHL7_AS1', 'KLHL8', 'KLHL9', 'KLK1', 'KLK10', 'KLK11', 'KLK12', 'KLK13', 'KLK14', 'KLK15', 'KLK2', 'KLK3', 'KLK4', 'KLK5', 'KLK6', 'KLK7', 'KLK8', 'KLK9', 'KLK9_KLK8', 'KLKB1', 'KLKP1', 'KLRAP1', 'KLRB1', 'KLRC1', 'KLRC1_KLRC2', 'KLRC2', 'KLRC2_NKG2_E', 'KLRC3', 'KLRC3_NKG2_E', 'KLRC4_KLRC4_KLRK1', 'KLRC4_KLRK1', 'KLRD1', 'KLRF1', 'KLRG1', 'KLRG2', 'KLRK1_KLRC4_KLRK1', 'KM_PA_2', 'KMO', 'KMT2A', 'KMT2B', 'KMT2C', 'KMT2D', 'KMT2E', 'KMT2E_AS1_LINC01004', 'KNCN', 'KNDC1', 'KNG1', 'KNOP1', 'KNSTRN', 'KNTC1', 'KPNA1', 'KPNA2', 'KPNA3', 'KPNA4', 'KPNA5', 'KPNA6', 'KPNA7', 'KPNB1', 'KPRP', 'KPTN', 'KRAS', 'KRBA1', 'KRBA2_RP11_849F2_7', 'KRBOX1', 'KRBOX4', 'KRCC1', 'KREMEN1', 'KREMEN2', 'KRI1', 'KRIT1', 'KRIT1_AC000120_7', 'KRR1', 'KRT1', 'KRT10', 'KRT12', 'KRT121P', 'KRT13', 'KRT14', 'KRT15', 'KRT16', 'KRT16P1', 'KRT16P2', 'KRT16P3', 'KRT17', 'KRT17P2', 'KRT18', 'KRT18_AC107016_2', 'KRT18P55', 'KRT19', 'KRT2', 'KRT20', 'KRT222', 'KRT23', 'KRT24', 'KRT25', 'KRT26', 'KRT27', 'KRT28', 'KRT3', 'KRT31', 'KRT32', 'KRT33A', 'KRT33B', 'KRT34', 'KRT35', 'KRT36', 'KRT37', 'KRT38', 'KRT39', 'KRT4', 'KRT40', 'KRT42P', 'KRT5', 'KRT6A', 'KRT6B', 'KRT6C', 'KRT7', 'KRT71', 'KRT72', 'KRT73', 'KRT74', 'KRT75', 'KRT76', 'KRT77', 'KRT78', 'KRT79', 'KRT8', 'KRT80', 'KRT81', 'KRT82', 'KRT83', 'KRT84', 'KRT85', 'KRT86', 'KRT8P12', 'KRT8P41', 'KRT9', 'KRTAP1_1', 'KRTAP10_1', 'KRTAP10_12', 'KRTAP10_2', 'KRTAP10_3', 'KRTAP10_4', 'KRTAP10_5', 'KRTAP10_7_AL773602_1', 'KRTAP10_8', 'KRTAP12_4', 'KRTAP13_3', 'KRTAP19_3', 'KRTAP19_6', 'KRTAP20_3', 'KRTAP20_4', 'KRTAP23_1', 'KRTAP25_1', 'KRTAP27_1', 'KRTAP3_1', 'KRTAP3_3', 'KRTAP4_1', 'KRTAP5_1', 'KRTAP5_10', 'KRTAP5_3', 'KRTAP5_4', 'KRTAP5_7', 'KRTAP5_8', 'KRTAP5_9', 'KRTAP5_AS1', 'KRTAP7_1_AP000244_1', 'KRTCAP2_RP11_201K10_3', 'KRTCAP3', 'KRTDAP', 'KSR1', 'KSR1_AC015688_3', 'KSR2', 'KTI12_TXNDC12', 'KTN1', 'KTN1_AS1', 'KXD1', 'KY', 'KYNU', 'L1CAM_AMDP1_TRPC6P_TCEB1P24_DDX11L16_WASIR1', 'L1CAM_ARHGAP4_AMDP1_TRPC6P_TCEB1P24_DDX11L16_WASIR1', 'L1TD1', 'L2HGDH', 'L3HYPDH', 'L3HYPDH_GPR135', 'L3HYPDH_RP11_701B16_2', 'L3MBTL1', 'L3MBTL2', 'L3MBTL3', 'L3MBTL4', 'LA16c_431H6_6', 'LACC1', 'LACE1', 'LACRT', 'LACTB', 'LACTB2', 'LAD1', 'LAD1_TNNT2', 'LAG3', 'LAGE3_AMDP1_TRPC6P_TCEB1P24_DDX11L16_WASIR1', 'LAIR1', 'LAIR2', 'LALBA', 'LAMA1', 'LAMA2', 'LAMA3', 'LAMA4', 'LAMA5', 'LAMB1', 'LAMB2', 'LAMB3', 'LAMB3_MIR4260', 'LAMB4', 'LAMC1', 'LAMC2', 'LAMC3', 'LAMP1', 'LAMP2_AMDP1_TRPC6P_TCEB1P24_DDX11L16_WASIR1', 'LAMP3', 'LAMP5', 'LAMTOR1', 'LAMTOR2', 'LAMTOR3', 'LAMTOR4', 'LAMTOR5', 'LANCL1', 'LANCL2', 'LANCL3', 'LAP3', 'LAPTM4A', 'LAPTM4B', 'LAPTM5', 'LARGE', 'LARGE_AS1', 'LARP1', 'LARP1B', 'LARP4', 'LARP4B', 'LARP6', 'LARP7', 'LARS', 'LARS2', 'LAS1L_AMDP1_TRPC6P_TCEB1P24_DDX11L16_WASIR1', 'LASP1', 'LAT_RP11_264B17_3', 'LAT2', 'LATS1', 'LATS2', 'LAX1', 'LAYN', 'LBH', 'LBH_AC104698_1', 'LBP', 'LBR', 'LBX1', 'LBX1_AS1', 'LBX2', 'LBX2_AC005041_17', 'LBX2_AS1', 'LCA5', 'LCA5L', 'LCAT', 'LCAT_SLC12A4_CTC_479C5_17', 'LCE1B', 'LCE1C', 'LCE1D', 'LCE1E', 'LCE2A', 'LCE2B', 'LCE2B_LCE2C', 'LCE2D', 'LCE3C', 'LCE3D', 'LCE3E', 'LCE4A', 'LCE5A', 'LCE6A', 'LCK', 'LCLAT1', 'LCMT1', 'LCN1', 'LCN10', 'LCN10_LCN6', 'LCN12', 'LCN15', 'LCN2', 'LCN6', 'LCN8', 'LCN9', 'LCOR', 'LCORL', 'LCP1', 'LCP2', 'LCT', 'LCTL', 'LDB1', 'LDB2', 'LDB3', 'LDHA', 'LDHAL6A', 'LDHB', 'LDHC', 'LDHD', 'LDLR', 'LDLRAD1', 'LDLRAD2', 'LDLRAD3', 'LDLRAD4', 'LDLRAD4_AS1', 'LDLRAP1', 'LDOC1L', 'LEAP2', 'LECT1', 'LECT2', 'LEF1', 'LEF1_AS1', 'LEFTY1_RP4_559A3_7', 'LEFTY2', 'LEKR1', 'LELP1', 'LEMD1', 'LEMD1_AS1', 'LEMD2', 'LEMD3', 'LENEP', 'LENG1', 'LENG8', 'LEO1', 'LEP', 'LEPR', 'LEPRE1', 'LEPREL1', 'LEPREL2', 'LEPREL4', 'LEPROT', 'LEPROT_LEPR', 'LEPROTL1', 'LETM1', 'LETM2', 'LETMD1', 'LEUTX', 'LFNG', 'LGALS1', 'LGALS12', 'LGALS13', 'LGALS14', 'LGALS16', 'LGALS17A', 'LGALS2', 'LGALS3', 'LGALS3BP', 'LGALS4', 'LGALS7', 'LGALS7B', 'LGALS8', 'LGALS9', 'LGALS9_AC015688_3', 'LGALS9B', 'LGALS9C', 'LGALSL', 'LGI1', 'LGI2', 'LGI3', 'LGI3_Y_RNA', 'LGI4', 'LGMN', 'LGR4', 'LGR5', 'LGR6', 'LGSN', 'LHB', 'LHCGR', 'LHFP', 'LHFPL1_AMDP1_TRPC6P_TCEB1P24_DDX11L16_WASIR1', 'LHFPL2', 'LHFPL3', 'LHFPL3_AS1', 'LHFPL4', 'LHFPL5', 'LHPP', 'LHX1', 'LHX2', 'LHX3', 'LHX4', 'LHX5', 'LHX6', 'LHX8', 'LHX9', 'LIAS', 'LIF', 'LIFR', 'LIFR_AS1', 'LIG1', 'LIG3', 'LIG4', 'LILRA1', 'LILRA2', 'LILRA2_LILRB1', 'LILRA3', 'LILRA4', 'LILRA4_AC008984_2', 'LILRA5', 'LILRA5_AC008984_2', 'LILRA6', 'LILRA6_LILRB3', 'LILRB1', 'LILRB2', 'LILRB3', 'LILRB4', 'LILRB5', 'LILRP2', 'LIM2', 'LIMA1', 'LIMCH1', 'LIMD1', 'LIMD1_AS1', 'LIMD2', 'LIME1_RP4_583P15_15', 'LIME1_RP4_583P15_15_RP4_583P15_14', 'LIME1_ZGPAT_RP4_583P15_15', 'LIMK1', 'LIMK2', 'LIMS1', 'LIMS2', 'LIMS3', 'LIMS3L', 'LIN28A', 'LIN28B', 'LIN37_AC002398_9', 'LIN52', 'LIN54', 'LIN7A', 'LIN7B', 'LIN7C', 'LIN9', 'LINC00028', 'LINC00029', 'LINC00032', 'LINC00035', 'LINC00051', 'LINC00052', 'LINC00085', 'LINC00092', 'LINC00094', 'LINC00111', 'LINC00112', 'LINC00113', 'LINC00114', 'LINC00116', 'LINC00152', 'LINC00158', 'LINC00161', 'LINC00162', 'LINC00163', 'LINC00167', 'LINC00173', 'LINC00174', 'LINC00176', 'LINC00189', 'LINC00200', 'LINC00202_1', 'LINC00202_2', 'LINC00202_2_RP13_16H11_7', 'LINC00207', 'LINC00211', 'LINC00221', 'LINC00222', 'LINC00238', 'LINC00240', 'LINC00242', 'LINC00243', 'LINC00261', 'LINC00263', 'LINC00264', 'LINC00265', 'LINC00266_1', 'LINC00271', 'LINC00272', 'LINC00276', 'LINC00277', 'LINC00277_RP11_809H16_5', 'LINC00284', 'LINC00290', 'LINC00293', 'LINC00299', 'LINC00301', 'LINC00303', 'LINC00304', 'LINC00305', 'LINC00308', 'LINC00310', 'LINC00313', 'LINC00314', 'LINC00319', 'LINC00320', 'LINC00323', 'LINC00324', 'LINC00326', 'LINC00327', 'LINC00334', 'LINC00336', 'LINC00337', 'LINC00339', 'LINC00342', 'LINC00343', 'LINC00346', 'LINC00347', 'LINC00355', 'LINC00382', 'LINC00402', 'LINC00408', 'LINC00410', 'LINC00424', 'LINC00426', 'LINC00441', 'LINC00442', 'LINC00452', 'LINC00458', 'LINC00460', 'LINC00461', 'LINC00466', 'LINC00467', 'LINC00469', 'LINC00470', 'LINC00471', 'LINC00472', 'LINC00472_RP3_331H24_5', 'LINC00473', 'LINC00474', 'LINC00475', 'LINC00476', 'LINC00477', 'LINC00478', 'LINC00479', 'LINC00482', 'LINC00483', 'LINC00484', 'LINC00486', 'LINC00487', 'LINC00488', 'LINC00491', 'LINC00493', 'LINC00494', 'LINC00504', 'LINC00507', 'LINC00511', 'LINC00514', 'LINC00517', 'LINC00518', 'LINC00520', 'LINC00521', 'LINC00523', 'LINC00525', 'LINC00544', 'LINC00552', 'LINC00566', 'LINC00574', 'LINC00575', 'LINC00588', 'LINC00589', 'LINC00592', 'LINC00593', 'LINC00595', 'LINC00596', 'LINC00598', 'LINC00599', 'LINC00605', 'LINC00606', 'LINC00607', 'LINC00608', 'LINC00616', 'LINC00620', 'LINC00623', 'LINC00624', 'LINC00626', 'LINC00634', 'LINC00635', 'LINC00636', 'LINC00637', 'LINC00638', 'LINC00639', 'LINC00642', 'LINC00643', 'LINC00643_RP11_355I22_6', 'LINC00645', 'LINC00648', 'LINC00649', 'LINC00652', 'LINC00654', 'LINC00658', 'LINC00659', 'LINC00661', 'LINC00662', 'LINC00663', 'LINC00664', 'LINC00664_CTD_2561J22_3', 'LINC00665', 'LINC00667', 'LINC00668', 'LINC00669', 'LINC00670', 'LINC00671', 'LINC00672', 'LINC00674', 'LINC00678', 'LINC00680', 'LINC00682', 'LINC00689', 'LINC00690', 'LINC00691', 'LINC00692', 'LINC00696', 'LINC00698', 'LINC00700', 'LINC00703', 'LINC00704', 'LINC00705', 'LINC00707', 'LINC00708', 'LINC00710', 'LINC00838', 'LINC00839', 'LINC00841', 'LINC00842', 'LINC00842_ANXA8L1', 'LINC00843_PARGP1', 'LINC00847', 'LINC00854', 'LINC00856', 'LINC00857', 'LINC00858', 'LINC00862', 'LINC00863', 'LINC00864', 'LINC00865', 'LINC00868', 'LINC00870', 'LINC00877', 'LINC00879', 'LINC00880', 'LINC00882', 'LINC00883', 'LINC00884', 'LINC00885', 'LINC00886', 'LINC00887', 'LINC00888', 'LINC00896', 'LINC00898', 'LINC00899', 'LINC00900', 'LINC00901', 'LINC00904', 'LINC00905', 'LINC00906', 'LINC00907', 'LINC00908', 'LINC00909', 'LINC00910', 'LINC00917', 'LINC00919', 'LINC00920', 'LINC00922', 'LINC00923', 'LINC00924', 'LINC00925', 'LINC00926', 'LINC00927', 'LINC00928', 'LINC00929', 'LINC00930', 'LINC00933', 'LINC00935', 'LINC00937', 'LINC00939', 'LINC00940', 'LINC00941', 'LINC00943', 'LINC00944', 'LINC00948', 'LINC00951', 'LINC00954', 'LINC00955', 'LINC00957', 'LINC00958', 'LINC00959', 'LINC00960', 'LINC00961', 'LINC00963', 'LINC00964', 'LINC00967', 'LINC00968', 'LINC00969', 'LINC00969_SDHAP2', 'LINC00971', 'LINC00977', 'LINC00982', 'LINC00982_AL008733_1', 'LINC00984', 'LINC00989', 'LINC00992', 'LINC00996', 'LINC00998', 'LINC00999', 'LINC01001', 'LINC01002', 'LINC01005', 'LINC01007', 'LINC01010', 'LINC01013', 'LINC01015', 'LINC01016', 'LINC01018', 'LINC01019', 'LINC01020', 'LINC01021', 'LINC01024', 'LINC01028', 'LINC01049', 'LINC01057', 'LINC01060', 'LINC01069', 'LINC01071', 'LINC01085', 'LINC01085_KLF17P2', 'LINC01088', 'LINGO1', 'LINGO2', 'LINGO3', 'LINGO4', 'LINS', 'LIPA', 'LIPC', 'LIPE', 'LIPE_AS1', 'LIPF', 'LIPG', 'LIPH', 'LIPI', 'LIPJ', 'LIPK', 'LIPM', 'LIPN', 'LIPT1', 'LIPT1_MRPL30', 'LIPT2', 'LITAF', 'LIX1', 'LIX1L', 'LL22NC03_30E12_11', 'LL22NC03_30E12_13', 'LL22NC03_63E9_3', 'LL22NC03_75H12_2', 'LLGL1', 'LLGL2', 'LLPH', 'LMAN1', 'LMAN1L', 'LMAN1L_CPLX3_RP11_414J4_2', 'LMAN1L_RP11_414J4_2', 'LMAN2', 'LMAN2L', 'LMBR1', 'LMBR1L', 'LMBRD1', 'LMBRD2', 'LMCD1', 'LMCD1_AS1', 'LMF1', 'LMF1_RP11_161M6_2', 'LMF2', 'LMLN', 'LMNA', 'LMNB1', 'LMNB2', 'LMO1', 'LMO2', 'LMO3', 'LMO4', 'LMO7', 'LMO7_RP11_29G8_3', 'LMOD1', 'LMOD2', 'LMOD3', 'LMTK2', 'LMTK3', 'LMX1A', 'LMX1B', 'LMX1B_RP11_489N22_3', 'LNP1', 'LNPEP', 'LNX1', 'LNX2', 'LOH12CR1', 'LOH12CR2', 'LONP1', 'LONP2', 'LONRF1', 'LONRF2', 'LOR', 'LOX', 'LOXHD1', 'LOXL1', 'LOXL1_AS1', 'LOXL2', 'LOXL2_ENTPD4', 'LOXL3', 'LOXL4', 'LPA', 'LPA_RP1_81D8_4', 'LPAL2', 'LPAR1', 'LPAR2', 'LPAR3', 'LPAR5', 'LPAR6', 'LPCAT1', 'LPCAT2', 'LPCAT3', 'LPCAT4', 'LPGAT1', 'LPHN1', 'LPHN2', 'LPHN3', 'LPIN1', 'LPIN2', 'LPIN3', 'LPL', 'LPO', 'LPP', 'LPPR1', 'LPPR3', 'LPPR4', 'LPPR5', 'LPXN', 'LRAT', 'LRBA', 'LRBA_Y_RNA', 'LRCH1', 'LRCH2_AMDP1_TRPC6P_TCEB1P24_DDX11L16_WASIR1', 'LRCH3', 'LRCH4', 'LRCH4_SAP25', 'LRFN1', 'LRFN1_CTC_246B18_8', 'LRFN2', 'LRFN3', 'LRFN4', 'LRFN5', 'LRG1_CTB_50L17_14', 'LRGUK', 'LRIF1', 'LRIG1', 'LRIG2', 'LRIG3', 'LRIT1', 'LRIT2', 'LRIT3', 'LRMP', 'LRP1', 'LRP1_snoU13', 'LRP10', 'LRP11', 'LRP12', 'LRP1B', 'LRP1B_AC078882_1', 'LRP2', 'LRP2BP', 'LRP3', 'LRP4', 'LRP4_AS1', 'LRP5', 'LRP5L', 'LRP6', 'LRP8', 'LRPAP1', 'LRPPRC', 'LRR1', 'LRRC1', 'LRRC14', 'LRRC14B', 'LRRC15', 'LRRC16A', 'LRRC16B', 'LRRC17', 'LRRC18', 'LRRC18_RP11_523O18_7', 'LRRC19', 'LRRC2', 'LRRC20', 'LRRC23', 'LRRC24', 'LRRC25', 'LRRC26', 'LRRC26_RP11_350O14_18', 'LRRC27', 'LRRC28', 'LRRC29', 'LRRC29_AC040160_1', 'LRRC3', 'LRRC31', 'LRRC32', 'LRRC34', 'LRRC36', 'LRRC37A', 'LRRC37A11P', 'LRRC37A11P_snoU13', 'LRRC37A17P', 'LRRC37A17P_RP11_156P1_2', 'LRRC37A2', 'LRRC37A3', 'LRRC37A4P', 'LRRC37A5P', 'LRRC37A6P', 'LRRC37A9P', 'LRRC37B', 'LRRC37BP1_AC005562_1', 'LRRC38', 'LRRC39', 'LRRC3B', 'LRRC4', 'LRRC40', 'LRRC41', 'LRRC42', 'LRRC43', 'LRRC45', 'LRRC46', 'LRRC47', 'LRRC48', 'LRRC49', 'LRRC4B', 'LRRC4C', 'LRRC52', 'LRRC55', 'LRRC56', 'LRRC57', 'LRRC58', 'LRRC59', 'LRRC6', 'LRRC61', 'LRRC63', 'LRRC66', 'LRRC69', 'LRRC7', 'LRRC71', 'LRRC73', 'LRRC8A', 'LRRC8B', 'LRRC8C_RP11_302M6_4', 'LRRC8D', 'LRRC8D_RP11_302M6_4', 'LRRC8E', 'LRRC9', 'LRRCC1', 'LRRD1', 'LRRFIP1', 'LRRFIP1_RBM44', 'LRRFIP2', 'LRRIQ1', 'LRRIQ3', 'LRRIQ4', 'LRRK1', 'LRRK2', 'LRRN1', 'LRRN2', 'LRRN3', 'LRRN4', 'LRRTM1', 'LRRTM2', 'LRRTM3', 'LRRTM4', 'LRSAM1', 'LRTM1', 'LRTM2', 'LRTOMT', 'LRWD1', 'LRWD1_MIR5090', 'LSAMP', 'LSG1', 'LSM1', 'LSM10', 'LSM11', 'LSM12', 'LSM14A', 'LSM14B', 'LSM2', 'LSM3', 'LSM4', 'LSM5', 'LSM6', 'LSM7', 'LSMD1', 'LSMEM1', 'LSMEM2', 'LSP1', 'LSP1_AC051649_12', 'LSR', 'LSS', 'LST1', 'LST3_SLCO1B7', 'LST3_SLCO1B7_RP11_125O5_2', 'LTA', 'LTA4H', 'LTB', 'LTB4R', 'LTB4R_LTB4R2', 'LTBP1', 'LTBP2', 'LTBP3', 'LTBP4', 'LTBR', 'LTC4S_MAML1', 'LTF', 'LTK', 'LTN1', 'LTV1', 'LTV1_RP3_468K18_5', 'LUC7L', 'LUC7L3', 'LUCAT1_RP11_213H15_4', 'LUM', 'LURAP1', 'LURAP1L', 'LUZP1', 'LUZP1_RP1_184J9_2', 'LUZP2', 'LUZP4_IL9R_SPRY3_VAMP7_WASH6P_DPH3P2_AJ271736_10', 'LXN', 'LY6D', 'LY6E', 'LY6G5B_CSNK2B_LY6G5B_1181', 'LY6G5C', 'LY6G6C', 'LY6G6D_LY6G6F_MEGT1', 'LY6G6E_XXbac_BPG32J3_20', 'LY6G6F', 'LY6G6F_MEGT1', 'LY6H', 'LY6K', 'LY75', 'LY75_CD302_LY75_CD302', 'LY75_LY75_CD302', 'LY86', 'LY86_AS1', 'LY9', 'LY96', 'LYAR', 'LYG1', 'LYG2', 'LYL1', 'LYN', 'LYNX1', 'LYPD1', 'LYPD2', 'LYPD3', 'LYPD4', 'LYPD5', 'LYPD6', 'LYPD6B', 'LYPLA1', 'LYPLA2', 'LYPLAL1', 'LYRM1', 'LYRM2', 'LYRM4', 'LYRM5', 'LYRM7', 'LYRM9_RP1_66C13_4', 'LYSMD1', 'LYSMD2', 'LYSMD3', 'LYSMD4', 'LYSMD4_Y_RNA_DKFZP779J2370', 'LYST', 'LYVE1', 'LYZ', 'LYZL1', 'LYZL2', 'LYZL4', 'LYZL6', 'LZIC', 'LZTFL1', 'LZTR1', 'LZTR1_AIFM3', 'LZTS1', 'LZTS2', 'LZTS3', 'M1AP', 'M1AP_Y_RNA', 'M6PR', 'MAATS1', 'MAB21L3', 'MACC1', 'MACF1', 'MACF1_KIAA0754', 'MACROD1', 'MACROD2', 'MACROD2_AS1', 'MAD1L1', 'MAD2L1', 'MAD2L1BP', 'MAD2L2', 'MADCAM1', 'MADD', 'MADD_snoU13', 'MAEA', 'MAEL', 'MAF1', 'MAFF', 'MAFG', 'MAFG_AS1', 'MAFK', 'MAG', 'MAGEA1_AMDP1_TRPC6P_TCEB1P24_DDX11L16_WASIR1', 'MAGEA10_RP11_1007I13_4_AMDP1_TRPC6P_TCEB1P24_DDX11L16_WASIR1', 'MAGEA12_AMDP1_TRPC6P_TCEB1P24_DDX11L16_WASIR1', 'MAGEA2_AMDP1_TRPC6P_TCEB1P24_DDX11L16_WASIR1', 'MAGEB1', 'MAGEB1_MAGEB4', 'MAGEB10', 'MAGEB16', 'MAGEB18', 'MAGEB2', 'MAGEB3', 'MAGEB6', 'MAGEC2_AMDP1_TRPC6P_TCEB1P24_DDX11L16_WASIR1', 'MAGED1', 'MAGED2', 'MAGED4', 'MAGED4_SNORA11D', 'MAGED4B', 'MAGED4B_SNORA11E', 'MAGI1', 'MAGI1_MAGI1_IT1', 'MAGI2', 'MAGI2_AS3', 'MAGI3', 'MAGIX', 'MAGOH', 'MAGOHB', 'MAK', 'MAK16', 'MAL', 'MAL2', 'MALL', 'MALSU1', 'MALT1', 'MAMDC2', 'MAMDC2_AS1', 'MAMDC4', 'MAML1', 'MAML2', 'MAML3', 'MAMSTR', 'MAN1A1', 'MAN1A2', 'MAN1B1', 'MAN1C1', 'MAN2A1', 'MAN2A2', 'MAN2B1', 'MAN2B1_CTD_2192J16_22', 'MAN2B1_CTD_2192J16_24', 'MAN2B1_Y_RNA', 'MAN2B2', 'MAN2C1', 'MANBA', 'MANBAL', 'MANEA', 'MANEAL', 'MANF', 'MANSC1', 'MANSC4', 'MAOA', 'MAOB', 'MAP10', 'MAP1A', 'MAP1B', 'MAP1LC3A', 'MAP1LC3B', 'MAP1LC3B2', 'MAP1LC3C', 'MAP1S', 'MAP2', 'MAP2K1', 'MAP2K2', 'MAP2K3', 'MAP2K4', 'MAP2K5', 'MAP2K6', 'MAP2K7', 'MAP3K1', 'MAP3K10', 'MAP3K11', 'MAP3K12', 'MAP3K13', 'MAP3K14', 'MAP3K14_AS1', 'MAP3K15', 'MAP3K19', 'MAP3K2', 'MAP3K3', 'MAP3K4', 'MAP3K5', 'MAP3K6', 'MAP3K7', 'MAP3K7CL', 'MAP3K8', 'MAP3K9', 'MAP4', 'MAP4K1', 'MAP4K2', 'MAP4K3', 'MAP4K4', 'MAP4K5', 'MAP6', 'MAP6D1', 'MAP7', 'MAP7D1', 'MAP7D2', 'MAP7D3_AMDP1_TRPC6P_TCEB1P24_DDX11L16_WASIR1', 'MAP9', 'MAPK1', 'MAPK10', 'MAPK11', 'MAPK12', 'MAPK13', 'MAPK14', 'MAPK15', 'MAPK1IP1L', 'MAPK3', 'MAPK4', 'MAPK6', 'MAPK7', 'MAPK8', 'MAPK8IP1', 'MAPK8IP2', 'MAPK8IP3', 'MAPK9', 'MAPKAP1', 'MAPKAPK2', 'MAPKAPK3', 'MAPKAPK5', 'MAPKAPK5_AS1_AC003029_1', 'MAPKBP1', 'MAPRE1', 'MAPRE2', 'MAPRE3', 'MAPT', 'MAPT_AS1', 'MARC1', 'MARC2', 'MARCH1', 'MARCH10', 'MARCH11', 'MARCH2', 'MARCH3', 'MARCH4', 'MARCH5', 'MARCH6', 'MARCH7', 'MARCH8', 'MARCH9', 'MARCKS', 'MARCKSL1', 'MARCO', 'MARK1', 'MARK2', 'MARK3', 'MARK4', 'MARK4_GEMIN7', 'MARK4_snoU13', 'MARS', 'MARVELD2', 'MARVELD3', 'MASP1', 'MASP2', 'MAST1', 'MAST2', 'MAST3', 'MAST4', 'MASTL', 'MAT1A', 'MAT2A', 'MAT2B', 'MATK', 'MATN1', 'MATN1_AS1', 'MATN2', 'MATN3', 'MATN4', 'MATR3', 'MAU2', 'MAVS', 'MAX', 'MAZ', 'MB', 'MB_AL049747_1', 'MB21D1', 'MB21D2', 'MBD1', 'MBD2', 'MBD3', 'MBD3_UQCR11', 'MBD3L1', 'MBD3L2', 'MBD3L5', 'MBD4', 'MBD5', 'MBD6', 'MBIP', 'MBL1P', 'MBL2', 'MBLAC1', 'MBLAC2', 'MBNL1', 'MBNL1_AS1', 'MBNL2', 'MBNL3_AMDP1_TRPC6P_TCEB1P24_DDX11L16_WASIR1', 'MBOAT1', 'MBOAT2', 'MBOAT4', 'MBOAT7', 'MBP', 'MBTD1', 'MBTPS1', 'MBTPS2', 'MC1R', 'MC2R', 'MC3R', 'MC4R', 'MCAM', 'MCAT', 'MCC', 'MCCC1', 'MCCC2', 'MCCD1', 'MCEE', 'MCF2_AMDP1_TRPC6P_TCEB1P24_DDX11L16_WASIR1', 'MCF2L', 'MCF2L2', 'MCFD2', 'MCHR1', 'MCHR2', 'MCIDAS', 'MCL1', 'MCM10', 'MCM2', 'MCM3', 'MCM3AP', 'MCM3AP_AP001469_9', 'MCM3AP_AS1', 'MCM4', 'MCM5', 'MCM6', 'MCM7', 'MCM8', 'MCM9', 'MCMBP', 'MCMDC2', 'MCOLN1', 'MCOLN1_CTD_2207O23_10', 'MCOLN2', 'MCOLN3', 'MCPH1', 'MCRS1', 'MCTP1', 'MCTP2', 'MCU', 'MCUR1', 'MDC1', 'MDFI', 'MDFIC', 'MDGA1', 'MDGA2', 'MDH1', 'MDH1B', 'MDH2', 'MDK', 'MDM1', 'MDM2', 'MDM4', 'MDN1', 'MDP1_AL136419_6_NEDD8_MDP1', 'MDS2', 'ME1', 'ME2', 'ME3', 'MEA1', 'MEAF6', 'MECOM', 'MECP2_AMDP1_TRPC6P_TCEB1P24_DDX11L16_WASIR1', 'MECR', 'MED1', 'MED10', 'MED11', 'MED12L', 'MED13', 'MED13L', 'MED14', 'MED14_AS1', 'MED15', 'MED16', 'MED17', 'MED18', 'MED19', 'MED19_Y_RNA', 'MED20', 'MED21', 'MED22', 'MED23', 'MED24', 'MED25', 'MED26_CTD_3222D19_2', 'MED26_CTD_3222D19_2_CTC_429P9_4', 'MED27', 'MED27_RP11_32B11_2', 'MED28', 'MED29', 'MED30', 'MED31', 'MED4', 'MED6', 'MED6_CTD_2540L5_5', 'MED7', 'MED8', 'MED9', 'MEDAG', 'MEF2A', 'MEF2B', 'MEF2B_MEF2BNB_MEF2BNB_MEF2B', 'MEF2B_MEF2BNB_MEF2B', 'MEF2C', 'MEF2C_AS1', 'MEF2D', 'MEFV', 'MEG3', 'MEG8', 'MEG9', 'MEGF10', 'MEGF11', 'MEGF6', 'MEGF8', 'MEGF9', 'MEI1', 'MEIG1', 'MEIOB', 'MEIS1', 'MEIS2', 'MEIS3', 'MELK', 'MEMO1', 'MEMO1_DPY30', 'MEN1', 'MEOX1', 'MEOX2', 'MEP1A', 'MEP1B', 'MEPCE', 'MEPE', 'MERTK', 'MESDC2', 'MESP1', 'MESP2', 'MEST', 'MET', 'METAP1', 'METAP1D', 'METAP2', 'METRN', 'METRNL', 'METTL1', 'METTL10', 'METTL10_RP11_12J10_3', 'METTL11B', 'METTL12', 'METTL13', 'METTL14', 'METTL15', 'METTL16', 'METTL16_AC006435_1', 'METTL17', 'METTL18', 'METTL20', 'METTL21A', 'METTL21B', 'METTL21C', 'METTL21EP', 'METTL22', 'METTL23', 'METTL23_RP11_318A15_7', 'METTL24', 'METTL25', 'METTL2A', 'METTL2B', 'METTL3', 'METTL4', 'METTL5', 'METTL6', 'METTL7A', 'METTL7B', 'METTL8', 'METTL9', 'MEX3A', 'MEX3B', 'MEX3D', 'MFAP1', 'MFAP2', 'MFAP3', 'MFAP3L', 'MFAP4', 'MFAP5', 'MFF', 'MFGE8', 'MFHAS1', 'MFI2', 'MFI2_AS1', 'MFN1', 'MFN2', 'MFNG', 'MFRP_C1QTNF5', 'MFSD1', 'MFSD10', 'MFSD11', 'MFSD12', 'MFSD2A', 'MFSD2B', 'MFSD3', 'MFSD4', 'MFSD6', 'MFSD7', 'MFSD8', 'MFSD9', 'MGA', 'MGAM', 'MGARP', 'MGAT1', 'MGAT3', 'MGAT4A', 'MGAT4B', 'MGAT4C', 'MGAT4C_RP11_202H2_1', 'MGAT5', 'MGAT5B', 'MGEA5', 'MGLL', 'MGME1', 'MGMT', 'MGP', 'MGRN1', 'MGST1', 'MGST2', 'MGST3', 'MIA_MIA_RAB4B', 'MIA2', 'MIA2_RP11_407N17_3', 'MIA3', 'MIAT', 'MIB1', 'MIB2', 'MICA', 'MICAL1', 'MICAL2', 'MICAL3', 'MICAL3_XXbac_B461K10_4', 'MICALCL', 'MICALL1', 'MICALL2', 'MICB', 'MICU1', 'MICU2', 'MICU3', 'MID1', 'MID1IP1', 'MIDN', 'MIEF1', 'MIEF2', 'MIEN1', 'MIER1', 'MIER2', 'MIER3', 'MIF', 'MIF_AP000350_10', 'MIF4GD', 'MIIP', 'MILR1', 'MIMT1', 'MINA', 'MINK1', 'MINOS1_MINOS1_NBL1', 'MINPP1', 'MIOS', 'MIOX', 'MIP', 'MIPEP', 'MIPEPP3', 'MIPOL1', 'MIR100', 'MIR101_2', 'MIR106A_AMDP1_TRPC6P_TCEB1P24_DDX11L16_WASIR1', 'MIR106B', 'MIR122', 'MIR124_3', 'MIR1255B1', 'MIR125A', 'MIR125B1', 'MIR127', 'MIR128_1', 'MIR128_2', 'MIR129_2', 'MIR130A', 'MIR132', 'MIR133A1', 'MIR134', 'MIR135B', 'MIR136', 'MIR137HG', 'MIR138_1', 'MIR139', 'MIR140', 'MIR141', 'MIR142', 'MIR143HG', 'MIR143HG_AC131025_8', 'MIR144', 'MIR146A', 'MIR147A', 'MIR150', 'MIR152', 'MIR153_1', 'MIR153_2', 'MIR155HG', 'MIR15B', 'MIR17HG', 'MIR181A1HG', 'MIR181B1', 'MIR182', 'MIR183', 'MIR186', 'MIR187', 'MIR188', 'MIR190A', 'MIR191', 'MIR192', 'MIR193A', 'MIR194_2', 'MIR196A1', 'MIR196A2', 'MIR197', 'MIR199A1', 'MIR199B', 'MIR19B2_AMDP1_TRPC6P_TCEB1P24_DDX11L16_WASIR1', 'MIR200A', 'MIR200B', 'MIR200C', 'MIR204', 'MIR205HG', 'MIR206', 'MIR210', 'MIR211', 'MIR212', 'MIR216A', 'MIR217', 'MIR219_1', 'MIR219_2', 'MIR221', 'MIR222', 'MIR22HG', 'MIR25', 'MIR26A2', 'MIR296', 'MIR299', 'MIR29B1', 'MIR301A', 'MIR30A', 'MIR30D', 'MIR3150B', 'MIR31HG', 'MIR32', 'MIR320A', 'MIR323A', 'MIR328', 'MIR331', 'MIR339', 'MIR33A', 'MIR345', 'MIR369', 'MIR373', 'MIR375', 'MIR376A1', 'MIR376C', 'MIR377', 'MIR379', 'MIR383', 'MIR425', 'MIR429', 'MIR4435_1HG', 'MIR4500HG', 'MIR4500HG_RP11_342C20_2', 'MIR4697', 'MIR492_KRT19P2', 'MIR503HG_AMDP1_TRPC6P_TCEB1P24_DDX11L16_WASIR1', 'MIR511_1', 'MIR511_2', 'MIR5699', 'MIR663A', 'MIR7_3', 'MIR7_3HG', 'MIR93', 'MIR941_2_MIR941_1_MIR941_3', 'MIR99A', 'MIR99B', 'MIRLET7DHG', 'MIRLET7F2', 'MIS12', 'MIS18A', 'MIS18BP1', 'MISP', 'MITD1', 'MITF', 'MIXL1', 'MKI67', 'MKI67IP', 'MKKS', 'MKL1', 'MKL2', 'MKL2_TVP23CP2', 'MKLN1', 'MKLN1_AS1', 'MKLN1_AS2', 'MKNK1', 'MKNK1_MOB3C', 'MKNK2', 'MKRN1', 'MKRN2', 'MKRN3', 'MKS1', 'MKX', 'MLANA', 'MLC1', 'MLEC', 'MLF1', 'MLF1IP', 'MLF2', 'MLH1', 'MLH3', 'MLIP', 'MLIP_RP11_411K7_1', 'MLIP_snoU13', 'MLK4', 'MLK7_AS1', 'MLKL', 'MLKL_Y_RNA', 'MLLT1', 'MLLT10', 'MLLT11', 'MLLT3', 'MLLT4', 'MLLT4_AS1', 'MLLT6', 'MLN', 'MLNR', 'MLPH', 'MLST8', 'MLTK', 'MLX', 'MLXIP', 'MLXIPL', 'MLYCD', 'MLYCD_RP11_505K9_4', 'MMAA', 'MMAB', 'MMACHC', 'MMADHC', 'MMD', 'MMD2', 'MME', 'MMEL1', 'MMGT1_AMDP1_TRPC6P_TCEB1P24_DDX11L16_WASIR1', 'MMP1', 'MMP10', 'MMP11', 'MMP12', 'MMP13', 'MMP14', 'MMP15', 'MMP16', 'MMP17', 'MMP19', 'MMP2', 'MMP20', 'MMP21', 'MMP23A', 'MMP23B', 'MMP24', 'MMP25', 'MMP26', 'MMP27', 'MMP28', 'MMP3', 'MMP7', 'MMP8', 'MMP9', 'MMRN1', 'MMRN2', 'MMRN2_ADIRF_AS1_RP11_96C23_15', 'MMS19', 'MMS22L', 'MN1', 'MN1_Y_RNA', 'MNAT1', 'MNAT1_RP11_193F5_1', 'MND1', 'MNDA', 'MNS1', 'MNT', 'MNX1', 'MOAP1', 'MOB1A', 'MOB1B', 'MOB1B_DCK', 'MOB2', 'MOB3A', 'MOB3B', 'MOB3C', 'MOB4_HSPE1_MOB4', 'MOBP', 'MOCOS', 'MOCS1', 'MOCS2', 'MOCS3', 'MOG', 'MOGAT1', 'MOGAT2', 'MOGAT3', 'MOGS', 'MOK', 'MON1A', 'MON1B', 'MON1B_SYCE1L', 'MON2', 'MORC1', 'MORC2', 'MORC2_AS1', 'MORC3', 'MORC4_AMDP1_TRPC6P_TCEB1P24_DDX11L16_WASIR1', 'MORF4L1', 'MORF4L2_AMDP1_TRPC6P_TCEB1P24_DDX11L16_WASIR1', 'MORN1', 'MORN2', 'MORN2_ARHGEF33', 'MORN3', 'MORN4', 'MORN5', 'MOSPD1_AMDP1_TRPC6P_TCEB1P24_DDX11L16_WASIR1', 'MOSPD2', 'MOSPD3', 'MOV10', 'MOV10L1', 'MOXD1', 'MPC1', 'MPC2', 'MPDU1', 'MPDZ', 'MPG', 'MPHOSPH10', 'MPHOSPH6', 'MPHOSPH8', 'MPHOSPH9', 'MPI', 'MPL', 'MPND', 'MPO', 'MPP1_AMDP1_TRPC6P_TCEB1P24_DDX11L16_WASIR1', 'MPP2', 'MPP3', 'MPP4', 'MPP5', 'MPP6', 'MPP7', 'MPPE1', 'MPPED1', 'MPPED2', 'MPRIP', 'MPST', 'MPV17', 'MPV17L', 'MPV17L_RP11_1021N1_1', 'MPV17L2', 'MPZ', 'MPZL1', 'MPZL2', 'MPZL3', 'MR1', 'MRAP', 'MRAP2', 'MRAS', 'MRC1', 'MRC1L1', 'MRC2', 'MRE11A', 'MREG', 'MREG_PECR', 'MRFAP1', 'MRGBP', 'MRGPRE', 'MRGPRF', 'MRGPRG_AS1', 'MRGPRX2', 'MRGPRX3', 'MRGPRX4', 'MRI1', 'MRM1', 'MRO', 'MROH1', 'MROH2A', 'MROH2B', 'MROH3P', 'MROH5', 'MROH6', 'MROH6_Y_RNA', 'MROH7', 'MROH7_MROH7_TTC4', 'MROH7_TTC4', 'MROH8', 'MROH9', 'MRP63', 'MRPL1', 'MRPL10', 'MRPL11', 'MRPL13', 'MRPL14', 'MRPL15', 'MRPL16', 'MRPL17', 'MRPL18', 'MRPL19', 'MRPL2', 'MRPL20', 'MRPL20_RN7SL657P', 'MRPL21', 'MRPL22', 'MRPL23', 'MRPL23_AS1', 'MRPL24', 'MRPL27', 'MRPL28', 'MRPL3', 'MRPL32', 'MRPL33', 'MRPL34', 'MRPL35', 'MRPL36', 'MRPL37', 'MRPL38', 'MRPL38_FBF1_RP11_552F3_12', 'MRPL38_RP11_552F3_12', 'MRPL39', 'MRPL4', 'MRPL40', 'MRPL41', 'MRPL42', 'MRPL43', 'MRPL44', 'MRPL45', 'MRPL45P2', 'MRPL46', 'MRPL46_RP11_97O12_7', 'MRPL47', 'MRPL48', 'MRPL49', 'MRPL50', 'MRPL51', 'MRPL52', 'MRPL54', 'MRPL55', 'MRPL9', 'MRPL9_RP11_98D18_3', 'MRPS10', 'MRPS11', 'MRPS12', 'MRPS14', 'MRPS15', 'MRPS16', 'MRPS17', 'MRPS17_ZNF713', 'MRPS18A', 'MRPS18B', 'MRPS18C', 'MRPS2', 'MRPS21', 'MRPS22', 'MRPS23', 'MRPS24', 'MRPS24_URGCP_MRPS24', 'MRPS25', 'MRPS26', 'MRPS27', 'MRPS28', 'MRPS28_TPD52', 'MRPS30', 'MRPS31', 'MRPS31P2', 'MRPS31P5', 'MRPS31P5_RP11_248G5_8', 'MRPS33', 'MRPS35', 'MRPS36', 'MRPS5', 'MRPS5_ZNF514', 'MRPS6', 'MRPS7', 'MRPS9', 'MRRF', 'MRS2', 'MRTO4', 'MRVI1', 'MRVI1_AS1', 'MS4A1', 'MS4A10', 'MS4A12', 'MS4A13', 'MS4A14', 'MS4A15', 'MS4A18', 'MS4A2', 'MS4A3', 'MS4A4A', 'MS4A4E', 'MS4A5', 'MS4A6A', 'MS4A6E', 'MS4A6E_MS4A14', 'MS4A7', 'MS4A7_MS4A14', 'MS4A8', 'MSANTD1', 'MSANTD2', 'MSANTD3', 'MSANTD4', 'MSC', 'MSH2', 'MSH3', 'MSH4', 'MSH5_MSH5_SAPCD1', 'MSH5_SAPCD1_MSH5_SAPCD1', 'MSH6', 'MSI1', 'MSI2', 'MSL1', 'MSL2', 'MSL3', 'MSL3P1', 'MSLN', 'MSLNL', 'MSMB', 'MSMO1', 'MSMP', 'MSR1', 'MSRA', 'MSRB1', 'MSRB2', 'MSRB3', 'MSS51', 'MST1', 'MST1_AC099668_5', 'MST1L', 'MST1P2', 'MST1R', 'MST4_IL9R_SPRY3_VAMP7_WASH6P_DPH3P2_AJ271736_10', 'MSTN', 'MSTO1', 'MSTO1_MSTO2P', 'MSTO2P', 'MSX1', 'MSX2', 'MT1A', 'MT1B_RP11_249C24_11', 'MT1DP', 'MT1E', 'MT1F', 'MT1G', 'MT1H', 'MT1HL1', 'MT1JP', 'MT1L', 'MT1M', 'MT1X_RP11_343H19_2', 'MT2A', 'MT4', 'MTA1', 'MTA1_TEX22', 'MTA2', 'MTA3', 'MTAP', 'MTBP', 'MTCH1', 'MTCH2', 'MTCP1_AMDP1_TRPC6P_TCEB1P24_DDX11L16_WASIR1', 'MTCP1_CMC4_AMDP1_TRPC6P_TCEB1P24_DDX11L16_WASIR1', 'MTDH', 'MTERF', 'MTERFD1', 'MTERFD2', 'MTERFD3', 'MTF1', 'MTF2', 'MTFMT', 'MTFP1_RP4_539M6_19', 'MTFR1', 'MTFR1L', 'MTFR1L_RP1_317E23_6', 'MTFR2', 'MTG1', 'MTG1_RP11_108K14_8', 'MTG2', 'MTHFD1', 'MTHFD1L', 'MTHFD2', 'MTHFD2L', 'MTHFD2P1', 'MTHFR', 'MTHFS_ST20_MTHFS', 'MTHFSD', 'MTIF2', 'MTIF3', 'MTL5', 'MTMR1_IL9R_SPRY3_VAMP7_WASH6P_DPH3P2_AJ271736_10', 'MTMR10', 'MTMR11', 'MTMR12', 'MTMR14', 'MTMR2', 'MTMR3', 'MTMR4', 'MTMR6', 'MTMR7', 'MTMR8_AMDP1_TRPC6P_TCEB1P24_DDX11L16_WASIR1', 'MTMR8_ASB12_AMDP1_TRPC6P_TCEB1P24_DDX11L16_WASIR1', 'MTMR9', 'MTMR9LP', 'MTNR1A', 'MTNR1A_RP11_215A19_2', 'MTNR1B', 'MTO1', 'MTOR', 'MTPAP', 'MTPAP_GOLGA2P6', 'MTPN', 'MTR', 'MTRF1', 'MTRF1L', 'MTRR', 'MTSS1', 'MTSS1L', 'MTTP', 'MTUS1', 'MTUS2', 'MTUS2_AS1', 'MTX1', 'MTX2', 'MTX3', 'MUC1', 'MUC1_RP11_201K10_3', 'MUC12', 'MUC13', 'MUC15', 'MUC16', 'MUC17', 'MUC17_RN7SKP54', 'MUC19', 'MUC2', 'MUC20', 'MUC20_LINC00969', 'MUC21', 'MUC3A', 'MUC4', 'MUC5AC', 'MUC5B', 'MUC6', 'MUC7', 'MUCL1', 'MUL1', 'MUM1', 'MURC', 'MUS81', 'MUSK', 'MUSTN1_RP5_966M1_6_TMEM110_MUSTN1', 'MUT', 'MUTYH', 'MVB12A', 'MVB12A_CTD_2521M24_9', 'MVB12B', 'MVD', 'MVK', 'MVP', 'MVP_PAGR1', 'MX1', 'MX2', 'MXD1', 'MXD1_SNRNP27', 'MXD3', 'MXD3_RAB24', 'MXD4', 'MXI1', 'MXI1_snoU13', 'MXRA5', 'MXRA7', 'MXRA8', 'MYADM', 'MYADML2', 'MYB', 'MYBBP1A', 'MYBL1', 'MYBL2', 'MYBPC1', 'MYBPC2', 'MYBPC3', 'MYBPH', 'MYBPHL', 'MYC', 'MYCBP', 'MYCBP2', 'MYCBPAP', 'MYCN', 'MYCNOS', 'MYCT1', 'MYD88', 'MYD88_snoU13', 'MYEF2', 'MYEOV', 'MYEOV2', 'MYF5', 'MYF6', 'MYH1', 'MYH10', 'MYH11', 'MYH13', 'MYH13_Y_RNA', 'MYH14', 'MYH15', 'MYH15_Y_RNA', 'MYH16', 'MYH2', 'MYH3', 'MYH4', 'MYH6', 'MYH7', 'MYH7B', 'MYH8', 'MYH9', 'MYL1', 'MYL10', 'MYL12A', 'MYL12B', 'MYL2', 'MYL3', 'MYL4', 'MYL5', 'MYL6', 'MYL6B', 'MYL6B_MYL6', 'MYL7', 'MYL9', 'MYLIP', 'MYLK', 'MYLK_AS1', 'MYLK2', 'MYLK3', 'MYLK4', 'MYLPF', 'MYNN', 'MYO10', 'MYO15A', 'MYO15B', 'MYO16', 'MYO18A', 'MYO18A_TIAF1', 'MYO18B', 'MYO19', 'MYO1A', 'MYO1B', 'MYO1C', 'MYO1D', 'MYO1E', 'MYO1F', 'MYO1G', 'MYO1H', 'MYO3A', 'MYO3B', 'MYO5A', 'MYO5B', 'MYO5B_RP11_886H22_1', 'MYO5C', 'MYO6', 'MYO7A', 'MYO7B', 'MYO9A', 'MYO9B', 'MYOC', 'MYOCD', 'MYOCD_AC005358_1', 'MYOD1', 'MYOF', 'MYOG', 'MYOM1', 'MYOM2', 'MYOM3', 'MYOT', 'MYOZ1', 'MYOZ2', 'MYOZ3', 'MYPN', 'MYPOP', 'MYRF', 'MYRFL', 'MYRIP', 'MYSM1', 'MYT1', 'MYT1L', 'MZB1', 'MZF1', 'MZT1', 'MZT2A', 'MZT2B', 'N4BP1', 'N4BP2', 'N4BP2_snoU13', 'N4BP2L1', 'N4BP2L2', 'N4BP2L2_RP11_298P3_4', 'N4BP3', 'N6AMT1', 'N6AMT2', 'NAA10_AMDP1_TRPC6P_TCEB1P24_DDX11L16_WASIR1', 'NAA10_ARHGAP4_AMDP1_TRPC6P_TCEB1P24_DDX11L16_WASIR1', 'NAA11', 'NAA15', 'NAA16', 'NAA20', 'NAA25', 'NAA30', 'NAA35', 'NAA38', 'NAA40', 'NAA50', 'NAA60', 'NAA60_LA16c_306E5_3', 'NAAA', 'NAAA_SDAD1', 'NAALAD2', 'NAALADL1', 'NAALADL2', 'NAB1', 'NAB2', 'NABP1', 'NABP2', 'NACA', 'NACA2_AC002994_1', 'NACAD', 'NACAP1', 'NACC1', 'NACC2', 'NADK', 'NADK2', 'NADK2_SNORA31', 'NADSYN1', 'NAE1', 'NAF1', 'NAGA', 'NAGK', 'NAGLU', 'NAGLU_RP11_400F19_8', 'NAGPA', 'NAGS', 'NAGS_snoU13', 'NAIF1', 'NAIP', 'NALCN', 'NAMA', 'NAMPT', 'NANOG', 'NANOGNB', 'NANOGP1', 'NANOS1', 'NANP', 'NANS', 'NAP1L1', 'NAP1L4', 'NAP1L6_AMDP1_TRPC6P_TCEB1P24_DDX11L16_WASIR1', 'NAPA', 'NAPA_AS1', 'NAPB', 'NAPEPLD', 'NAPG', 'NAPRT1', 'NAPSA', 'NAPSB', 'NARF', 'NARFL', 'NARG2', 'NARS', 'NARS2', 'NASP', 'NAT1', 'NAT10', 'NAT14', 'NAT16', 'NAT2', 'NAT8', 'NAT8L', 'NAT9', 'NAV1', 'NAV2', 'NAV3', 'NBAS', 'NBEA', 'NBEAL1', 'NBEAL2', 'NBEAL2_snoU13', 'NBEAP1', 'NBL1_MINOS1_NBL1', 'NBN', 'NBPF1', 'NBPF10', 'NBPF10_RP11_458D21_5', 'NBPF11', 'NBPF12', 'NBPF13P', 'NBPF14', 'NBPF15', 'NBPF16', 'NBPF18P', 'NBPF18P_AL450992_6', 'NBPF20', 'NBPF22P', 'NBPF24', 'NBPF2P', 'NBPF3', 'NBPF4', 'NBPF5P', 'NBPF5P_NBPF6_SLC25A24P1', 'NBPF6', 'NBPF7', 'NBPF8', 'NBPF9', 'NBR1', 'NBR2', 'NCALD', 'NCAM1', 'NCAM2', 'NCAN', 'NCAPD2', 'NCAPD3', 'NCAPG', 'NCAPG2', 'NCAPH', 'NCAPH2', 'NCBP1', 'NCBP2', 'NCBP2_AS2', 'NCCRP1', 'NCDN', 'NCEH1', 'NCF1', 'NCF1B', 'NCF1C', 'NCF2', 'NCF4', 'NCK1', 'NCK1_IL20RB', 'NCK2', 'NCKAP1', 'NCKAP1L', 'NCKAP5', 'NCKAP5L', 'NCKAP5L_SNORA70', 'NCKIPSD', 'NCKIPSD_Y_RNA', 'NCL', 'NCLN', 'NCMAP', 'NCOA1', 'NCOA2', 'NCOA3', 'NCOA4', 'NCOA5', 'NCOA6', 'NCOA7', 'NCOR1', 'NCOR1P1', 'NCOR2', 'NCR1', 'NCR2', 'NCR3', 'NCR3LG1', 'NCS1', 'NCSTN', 'NDC1', 'NDC80', 'NDE1', 'NDE1_MIR484', 'NDEL1', 'NDFIP1', 'NDFIP2', 'NDNF', 'NDOR1', 'NDP', 'NDRG1', 'NDRG2', 'NDRG3', 'NDRG4', 'NDST1', 'NDST2_RP11_574K11_31', 'NDST3', 'NDST4', 'NDUFA10', 'NDUFA11', 'NDUFA11_AC024592_12_FUT5', 'NDUFA12', 'NDUFA13_YJEFN3_CTC_260F20_3', 'NDUFA2', 'NDUFA3', 'NDUFA4', 'NDUFA4L2', 'NDUFA5', 'NDUFA6', 'NDUFA6_AS1', 'NDUFA7', 'NDUFA8', 'NDUFA9', 'NDUFA9_RP11_234B24_6', 'NDUFA9_RP11_500M8_7', 'NDUFA9_RP11_500M8_7_RP11_234B24_6', 'NDUFAB1', 'NDUFAF1', 'NDUFAF2', 'NDUFAF3', 'NDUFAF4', 'NDUFAF5', 'NDUFAF6', 'NDUFAF7', 'NDUFAF7_SNORA51', 'NDUFB1', 'NDUFB10', 'NDUFB11', 'NDUFB2', 'NDUFB2_AS1', 'NDUFB3', 'NDUFB4', 'NDUFB5', 'NDUFB6', 'NDUFB7', 'NDUFB8', 'NDUFB8_SEC31B', 'NDUFB9', 'NDUFC1', 'NDUFC1_MGARP', 'NDUFC2_NDUFC2_KCTD14', 'NDUFS1', 'NDUFS2', 'NDUFS3', 'NDUFS4', 'NDUFS5', 'NDUFS6', 'NDUFS7', 'NDUFS8', 'NDUFV1', 'NDUFV2_RP11_21J18_1', 'NDUFV3', 'NEB', 'NEBL', 'NECAB1', 'NECAB2', 'NECAB3', 'NECAP1', 'NECAP2', 'NEDD1', 'NEDD4', 'NEDD4L', 'NEDD8', 'NEDD8_NEDD8_MDP1', 'NEDD9', 'NEFH', 'NEFL', 'NEFM', 'NEGR1', 'NEIL1', 'NEIL2', 'NEIL3', 'NEK1', 'NEK10', 'NEK11', 'NEK2', 'NEK3', 'NEK4', 'NEK5', 'NEK6', 'NEK7', 'NEK8', 'NEK9', 'NELFA', 'NELFA_MIR943', 'NELFB', 'NELFCD', 'NELFE', 'NELL1', 'NELL1_CTD_2302A16_2', 'NELL2', 'NEMF', 'NENF', 'NEO1', 'NES', 'NET1', 'NETO1', 'NETO2', 'NEU1', 'NEU2', 'NEU3', 'NEU4', 'NEURL', 'NEURL1B', 'NEURL2', 'NEURL3', 'NEURL4', 'NEURL4_GPS2_RP11_542C16_2', 'NEURL4_RP11_542C16_2', 'NEUROD1_CERKL', 'NEUROD2', 'NEUROD4', 'NEUROD6', 'NEUROG2', 'NEXN', 'NF1', 'NF1_snoU13', 'NF1P1', 'NF1P2', 'NF2', 'NFAM1', 'NFASC', 'NFAT5', 'NFATC1', 'NFATC2', 'NFATC2IP', 'NFATC2IP_MIR4517', 'NFATC3', 'NFATC3_RP11_67A1_2', 'NFATC4', 'NFE2', 'NFE2L1', 'NFE2L2', 'NFE2L3', 'NFIA', 'NFIB', 'NFIC', 'NFIL3', 'NFIX', 'NFKB1', 'NFKB2', 'NFKBIA', 'NFKBIB', 'NFKBID', 'NFKBID_Y_RNA', 'NFKBIE', 'NFKBIL1', 'NFKBIZ', 'NFRKB', 'NFS1', 'NFS1_RP1_309K20_6', 'NFU1', 'NFX1', 'NFXL1', 'NFYA', 'NFYB', 'NFYC', 'NGB', 'NGDN', 'NGEF', 'NGF', 'NGFR', 'NGLY1', 'NGRN_RP11_697E2_6', 'NHEJ1', 'NHLH1', 'NHLH2', 'NHLRC1', 'NHLRC2', 'NHLRC3', 'NHP2', 'NHP2L1', 'NHS', 'NHSL1', 'NICN1', 'NICN1_AMT', 'NID1', 'NID2', 'NIF3L1', 'NIM1', 'NIN', 'NINJ1', 'NINJ2', 'NINL', 'NIP7', 'NIPA1', 'NIPA1_RP11_566K19_6', 'NIPA2', 'NIPAL1', 'NIPAL2', 'NIPAL2_RNU6_914P', 'NIPAL3', 'NIPAL4', 'NIPBL', 'NIPSNAP1', 'NIPSNAP3A', 'NIPSNAP3B', 'NISCH', 'NIT1', 'NIT2', 'NKAIN1', 'NKAIN2', 'NKAIN3', 'NKAIN4', 'NKAP_AMDP1_TRPC6P_TCEB1P24_DDX11L16_WASIR1', 'NKD1', 'NKD2', 'NKG7', 'NKIRAS1', 'NKIRAS2', 'NKPD1', 'NKRF_AMDP1_TRPC6P_TCEB1P24_DDX11L16_WASIR1', 'NKTR', 'NKX1_2', 'NKX2_1_RP11_896J10_3', 'NKX2_1_AS1', 'NKX2_2', 'NKX2_3', 'NKX2_4', 'NKX2_8', 'NKX3_1', 'NKX3_2', 'NKX6_1', 'NKX6_2', 'NKX6_3', 'NLE1', 'NLGN1', 'NLGN2', 'NLGN4X', 'NLGN4Y', 'NLK', 'NLN', 'NLRC3', 'NLRC4', 'NLRC5', 'NLRP1', 'NLRP10', 'NLRP11', 'NLRP12', 'NLRP13', 'NLRP14', 'NLRP2', 'NLRP3', 'NLRP4', 'NLRP5', 'NLRP6', 'NLRP7', 'NLRP8', 'NLRP9', 'NLRX1', 'NMB', 'NMBR', 'NMD3', 'NME1', 'NME1_NME1_NME2_NME2', 'NME1_NME2_NME2', 'NME3', 'NME4', 'NME4_DECR2', 'NME5', 'NME6', 'NME7', 'NME8', 'NME8_EPDR1', 'NME9', 'NMI', 'NMNAT1', 'NMNAT2', 'NMNAT3', 'NMRAL1', 'NMRK1', 'NMRK2', 'NMS', 'NMT1', 'NMT2', 'NMU', 'NMUR1', 'NMUR2', 'NNAT', 'NNMT', 'NNT', 'NNT_AS1', 'NOA1', 'NOB1', 'NOBOX', 'NOC2L', 'NOC3L', 'NOC4L', 'NOD1', 'NOD2', 'NODAL', 'NOG', 'NOL10', 'NOL11', 'NOL12', 'NOL3', 'NOL4', 'NOL6', 'NOL7', 'NOL8', 'NOL9', 'NOLC1', 'NOM1', 'NOMO1', 'NOMO2', 'NOMO3', 'NOP10', 'NOP14', 'NOP14_AS1', 'NOP16', 'NOP2', 'NOP56', 'NOP56_SNORA51', 'NOP56_SNORD86', 'NOP58', 'NOP9', 'NOS1', 'NOS1AP', 'NOS1AP_C1orf226', 'NOS1AP_C1orf226_RP11_565P22_6', 'NOS1AP_RP11_565P22_6', 'NOS2', 'NOS2_RP1_66C13_4', 'NOS2P3', 'NOS3', 'NOSIP', 'NOSTRIN', 'NOTCH1', 'NOTCH1_Y_RNA', 'NOTCH2', 'NOTCH2NL', 'NOTCH2NL_NBPF10', 'NOTCH2NL_RP11_458D21_5', 'NOTCH3', 'NOTCH4', 'NOTO', 'NOTUM', 'NOV', 'NOVA1', 'NOVA2', 'NOX1_AMDP1_TRPC6P_TCEB1P24_DDX11L16_WASIR1', 'NOX3', 'NOX4', 'NOX4_RP11_643G5_6', 'NOX5', 'NOX5_RP11_809H16_2', 'NOXA1', 'NOXO1', 'NOXRED1', 'NPAS1', 'NPAS2', 'NPAS2_U3', 'NPAS3', 'NPAS4', 'NPAT', 'NPB', 'NPC1', 'NPC1L1', 'NPC2', 'NPDC1', 'NPEPL1', 'NPEPL1_STX16_NPEPL1', 'NPEPPS', 'NPFF_RP11_793H13_10', 'NPFFR1', 'NPFFR2', 'NPHP1', 'NPHP3', 'NPHP3_ACAD11', 'NPHP3_AS1', 'NPHP4', 'NPHS1', 'NPHS2', 'NPIPA1', 'NPIPA1_RP11_958N24_1', 'NPIPA2', 'NPIPA3', 'NPIPA5', 'NPIPA7', 'NPIPA8', 'NPIPA8_RP11_1212A22_1', 'NPIPB11', 'NPIPB15', 'NPIPB3', 'NPIPB4', 'NPIPB4_RP11_645C24_2', 'NPIPB5', 'NPIPB6', 'NPIPB7', 'NPIPB7_CLN3', 'NPIPB8', 'NPIPB9', 'NPIPP1_PKD1P6_RP11_1186N24_5', 'NPIPP1_RP11_1186N24_5', 'NPL', 'NPLOC4', 'NPM1', 'NPM2', 'NPM3', 'NPNT', 'NPPA', 'NPPA_AS1', 'NPPB', 'NPR1', 'NPR2', 'NPR3', 'NPRL2', 'NPRL3', 'NPS', 'NPSR1', 'NPSR1_AS1', 'NPTN', 'NPTX1', 'NPTX2', 'NPTXR', 'NPVF', 'NPW', 'NPY', 'NPY2R', 'NPY4R', 'NPY5R', 'NQO1', 'NQO2', 'NQO2_LINC01011', 'NR0B1', 'NR0B2', 'NR1D1', 'NR1D2', 'NR1H2', 'NR1H3', 'NR1H4', 'NR1I2', 'NR1I3', 'NR2C1', 'NR2C2', 'NR2C2AP', 'NR2E1', 'NR2E3', 'NR2F1', 'NR2F1_AS1', 'NR2F2', 'NR2F2_AS1', 'NR2F6', 'NR2F6_AC010646_3', 'NR3C1', 'NR3C2', 'NR4A1', 'NR4A2', 'NR4A3', 'NR5A1', 'NR5A2', 'NR6A1', 'NRADDP', 'NRAP', 'NRARP', 'NRAS', 'NRBF2', 'NRBP1', 'NRBP2', 'NRCAM', 'NRD1', 'NRDE2', 'NREP', 'NRF1', 'NRG1', 'NRG1_IT1', 'NRG2', 'NRG3', 'NRG4', 'NRGN', 'NRIP1', 'NRIP2', 'NRIP3', 'NRL', 'NRM', 'NRN1', 'NRN1L_CTC_479C5_10', 'NRN1L_EDC4_CTC_479C5_10', 'NRP1', 'NRP2', 'NRROS_PIGX', 'NRSN1', 'NRSN2', 'NRTN', 'NRXN1', 'NRXN2', 'NRXN3', 'NSA2', 'NSD1', 'NSF', 'NSFL1C', 'NSG1', 'NSG2', 'NSL1', 'NSMAF', 'NSMCE1', 'NSMCE2', 'NSMCE4A', 'NSMF', 'NSRP1', 'NSRP1_MIR423', 'NSUN2', 'NSUN3', 'NSUN4', 'NSUN4_snoU13', 'NSUN5', 'NSUN5P1', 'NSUN5P2', 'NSUN6', 'NSUN6_ARL5B_AS1', 'NSUN6_RP11_139J15_7', 'NSUN6_RP11_499P20_2', 'NSUN7', 'NT5C', 'NT5C1A', 'NT5C1B_NT5C1B_RDH14', 'NT5C2', 'NT5C3A', 'NT5C3B', 'NT5DC1', 'NT5DC2', 'NT5DC3', 'NT5DC4', 'NT5E', 'NT5M', 'NTAN1', 'NTF3', 'NTF4', 'NTF4_CGB7', 'NTHL1', 'NTM', 'NTMT1', 'NTN1', 'NTN3', 'NTN4', 'NTN5', 'NTNG1', 'NTNG2', 'NTPCR', 'NTRK1', 'NTRK2', 'NTRK3', 'NTS', 'NTSR1', 'NTSR2', 'NUAK1', 'NUAK2', 'NUB1', 'NUBP1', 'NUBP2', 'NUBPL', 'NUCB1', 'NUCB2', 'NUCKS1', 'NUDC', 'NUDCD1', 'NUDCD2', 'NUDCD3', 'NUDT1', 'NUDT10', 'NUDT11', 'NUDT12', 'NUDT13', 'NUDT14', 'NUDT14_RP11_44N21_4', 'NUDT15', 'NUDT16P', 'NUDT17', 'NUDT18', 'NUDT19', 'NUDT2', 'NUDT21', 'NUDT22', 'NUDT22_DNAJC4', 'NUDT3_RPS10_NUDT3', 'NUDT4', 'NUDT5', 'NUDT6', 'NUDT7', 'NUDT8', 'NUDT9', 'NUF2', 'NUFIP1', 'NUFIP1_RP11_321C24_1', 'NUFIP2', 'NUGGC', 'NUMA1', 'NUMB', 'NUMBL', 'NUMBL_Y_RNA', 'NUP107', 'NUP133', 'NUP153', 'NUP155', 'NUP160', 'NUP188', 'NUP188_RP11_101E3_5', 'NUP205', 'NUP210', 'NUP210L', 'NUP210P1', 'NUP214', 'NUP35', 'NUP37', 'NUP43', 'NUP50', 'NUP54', 'NUP62CL_AMDP1_TRPC6P_TCEB1P24_DDX11L16_WASIR1', 'NUP85', 'NUP88', 'NUP93', 'NUP98', 'NUPL1', 'NUPL2', 'NUPL2_AC005082_1', 'NUPR1', 'NUPR1L', 'NUS1', 'NUSAP1', 'NUTF2', 'NUTM1', 'NUTM2A', 'NUTM2A_AS1', 'NUTM2D', 'NUTM2F', 'NUTM2G', 'NVL', 'NWD1', 'NXF1', 'NXF2B_AMDP1_TCP11X2_TRPC6P_TCEB1P24_DDX11L16_WASIR1', 'NXF2B_AMDP1_TRPC6P_TCEB1P24_DDX11L16_WASIR1', 'NXF3_AMDP1_TRPC6P_TCEB1P24_DDX11L16_WASIR1', 'NXF5_AMDP1_TRPC6P_TCEB1P24_DDX11L16_WASIR1', 'NXN', 'NXNL1_CTD_2521M24_10', 'NXNL2', 'NXPE1', 'NXPE2', 'NXPE3', 'NXPE4', 'NXPH1', 'NXPH2', 'NXPH3', 'NXPH4', 'NXT1', 'NXT2_IL9R_SPRY3_VAMP7_WASH6P_DPH3P2_AJ271736_10', 'NYAP1', 'NYAP2', 'NYNRIN', 'NYX', 'OACYLP', 'OAF', 'OARD1', 'OAS1', 'OAS2', 'OAS3', 'OASL', 'OAT', 'OAZ1', 'OAZ2', 'OAZ3', 'OBFC1', 'OBP2A', 'OBP2B', 'OBSCN', 'OBSL1', 'OC90', 'OCA2', 'OCEL1', 'OCIAD1', 'OCIAD2', 'OCLN', 'OCM', 'OCM2', 'OCRL_IL9R_SPRY3_VAMP7_WASH6P_DPH3P2_AJ271736_10', 'OCSTAMP', 'ODAM', 'ODC1', 'ODF1', 'ODF2', 'ODF2L', 'ODF2L_Y_RNA', 'ODF3', 'ODF3B', 'ODF3L1', 'ODF3L2', 'ODF4', 'OFCC1', 'OFD1', 'OFD1P5Y_TTTY9B', 'OFD1P6Y', 'OGDH', 'OGDHL', 'OGFOD1', 'OGFOD2', 'OGFOD2_RP11_197N18_2', 'OGFOD3', 'OGFR', 'OGFRL1', 'OGG1', 'OGN', 'OIP5', 'OIP5_AS1', 'OIT3', 'OLA1', 'OLAH', 'OLFM1', 'OLFM2', 'OLFM3', 'OLFM4', 'OLFML2A', 'OLFML2B', 'OLFML3', 'OLIG3', 'OLR1', 'OMA1', 'OMA1_DAB1', 'OMD', 'OMG', 'ONECUT1', 'ONECUT2_AC090340_1', 'ONECUT3', 'OOEP', 'OOSP1', 'OPA1', 'OPA3', 'OPA3_GPR4', 'OPALIN', 'OPCML', 'OPHN1_AMDP1_TRPC6P_TCEB1P24_DDX11L16_WASIR1', 'OPLAH', 'OPN1SW', 'OPN3', 'OPN4', 'OPN5', 'OPRD1', 'OPRK1', 'OPRL1', 'OPRM1', 'OPTC', 'OPTN', 'OR10A2', 'OR10A5', 'OR10AD1', 'OR10G7', 'OR10G8', 'OR10H1', 'OR10H2', 'OR10S1', 'OR10V1', 'OR10W1', 'OR11A1', 'OR11A1_OR5V1', 'OR11L1', 'OR13A1', 'OR13C3', 'OR13G1', 'OR14A16', 'OR14I1', 'OR1A2', 'OR1E1', 'OR1G1', 'OR1J2', 'OR1L4', 'OR1L8', 'OR1N1', 'OR2A1_AS1', 'OR2A1_AS1_OR2A20P', 'OR2A9P', 'OR2AG2', 'OR2C1', 'OR2C3', 'OR2F1', 'OR2G6', 'OR2H1', 'OR2H2', 'OR2L13', 'OR2L1P', 'OR2L3', 'OR2L8', 'OR2M1P', 'OR2T11', 'OR2T2', 'OR2T3', 'OR2T34', 'OR2T35', 'OR2T4', 'OR2T5', 'OR2T6', 'OR2W1', 'OR2W3', 'OR2Y1', 'OR3A1', 'OR3A4P_OR3A5P', 'OR4C4P', 'OR4D10', 'OR4D11', 'OR4D5', 'OR4F17', 'OR4F4', 'OR4F5', 'OR4K17', 'OR4K2', 'OR4L1', 'OR4M2_RP11_69H14_6', 'OR4N4_RP11_69H14_6', 'OR4S2', 'OR4X2', 'OR51B2', 'OR51E1', 'OR51E2', 'OR51G2', 'OR52A4', 'OR52L1', 'OR52N3P', 'OR5A1', 'OR5AP2', 'OR5G5P_OR5G3', 'OR5H14', 'OR5H2', 'OR5H6', 'OR5L1', 'OR5L2', 'OR5M1', 'OR5M10', 'OR5M8', 'OR5P2', 'OR5T1', 'OR6A2', 'OR6B1', 'OR6C2', 'OR6F1_RP11_634B7_5', 'OR6K2', 'OR6K6', 'OR6S1', 'OR6W1P', 'OR7A10', 'OR7A5', 'OR7D2', 'OR7E156P', 'OR7E24', 'OR7E38P', 'OR7E47P', 'OR7E5P', 'OR7G1', 'OR8B3', 'OR8G1', 'OR8H3', 'OR8S1', 'OR9A2', 'OR9A4', 'OR9I1', 'OR9Q1', 'ORAI1', 'ORAI2', 'ORAI3', 'ORAOV1', 'ORC1', 'ORC2', 'ORC3', 'ORC4', 'ORC5', 'ORC6', 'ORM1', 'ORM2', 'ORMDL1', 'ORMDL2', 'ORMDL3', 'OS9', 'OSBP', 'OSBP2', 'OSBPL10', 'OSBPL11', 'OSBPL1A', 'OSBPL2', 'OSBPL3', 'OSBPL5', 'OSBPL6', 'OSBPL6_SNORA67', 'OSBPL7', 'OSBPL8', 'OSBPL9', 'OSCAR', 'OSCP1', 'OSER1', 'OSER1_AS1', 'OSGEP', 'OSGEPL1', 'OSGIN1', 'OSGIN1_RP11_505K9_4', 'OSGIN2', 'OSM', 'OSMR', 'OSR1', 'OSR1_Y_RNA', 'OSR2', 'OST4', 'OSTC', 'OSTCP1', 'OSTF1', 'OSTM1', 'OSTM1_AS1', 'OSTN', 'OTC', 'OTOA', 'OTOF', 'OTOG', 'OTOGL', 'OTOL1', 'OTOP1', 'OTOP2', 'OTOP3', 'OTOR', 'OTOS', 'OTP', 'OTUB1', 'OTUB1_AP000721_4', 'OTUB2', 'OTUD3', 'OTUD4', 'OTUD5', 'OTUD6B', 'OTUD7A', 'OTUD7B', 'OTX1', 'OTX2', 'OTX2_AS1', 'OVCH1', 'OVCH2', 'OVCH2_RP11_35J10_5', 'OVGP1', 'OVOL1', 'OVOL2', 'OXA1L', 'OXCT1', 'OXCT2', 'OXGR1', 'OXNAD1', 'OXR1', 'OXSM', 'OXSR1', 'OXT', 'OXTR', 'P2RX1', 'P2RX2', 'P2RX3', 'P2RX4', 'P2RX5_P2RX5_TAX1BP3', 'P2RX6', 'P2RX6P', 'P2RX7', 'P2RY11_PPAN', 'P2RY12', 'P2RY13', 'P2RY14', 'P2RY2', 'P2RY4_AMDP1_TRPC6P_TCEB1P24_DDX11L16_WASIR1', 'P2RY6', 'P2RY8', 'P4HA1', 'P4HA2', 'P4HA3', 'P4HB', 'P4HTM', 'PA2G4', 'PA2G4_RP11_603J24_9', 'PA2G4P4', 'PAAF1', 'PABPC1', 'PABPC1L', 'PABPC1L2A_AMDP1_TRPC6P_TCEB1P24_DDX11L16_WASIR1', 'PABPC4', 'PABPC4L', 'PABPN1', 'PABPN1L', 'PACRG', 'PACRGL', 'PACS1', 'PACS2', 'PACS2_AL928654_1', 'PACSIN1', 'PACSIN2', 'PACSIN2_ARFGAP3', 'PACSIN3', 'PADI1', 'PADI2', 'PADI3', 'PADI4', 'PADI6', 'PAEP', 'PAF1', 'PAFAH1B1', 'PAFAH1B2', 'PAFAH1B3', 'PAFAH2', 'PAG1', 'PAGE1', 'PAGE2', 'PAGE2B', 'PAGE3', 'PAGE4', 'PAGE5', 'PAGR1', 'PAH', 'PAICS', 'PAICS_snoU13', 'PAIP1', 'PAIP2', 'PAIP2B', 'PAK1', 'PAK1IP1', 'PAK2', 'PAK3_IL9R_SPRY3_VAMP7_WASH6P_DPH3P2_AJ271736_10', 'PAK4', 'PAK6', 'PAK6_BUB1B_RP11_133K1_2', 'PAK6_RP11_133K1_2', 'PAK7', 'PALB2', 'PALD1', 'PALLD', 'PALM', 'PALM2_AKAP2_AKAP2', 'PALM2_AKAP2_PALM2_AKAP2', 'PALM3', 'PALMD', 'PAM', 'PAM16_CORO7_PAM16', 'PAMR1', 'PAN2', 'PAN3', 'PANK1', 'PANK2', 'PANK3', 'PANK3_SLC2A3P1', 'PANK4', 'PANX1', 'PANX2', 'PANX3', 'PAOX', 'PAPD4', 'PAPD5', 'PAPD7', 'PAPL', 'PAPLN', 'PAPOLA', 'PAPOLG', 'PAPPA', 'PAPPA2', 'PAPSS1', 'PAPSS2', 'PAQR3', 'PAQR4', 'PAQR5', 'PAQR6', 'PAQR7', 'PAQR8', 'PAQR9', 'PARD3', 'PARD3B', 'PARD6A', 'PARD6B', 'PARD6B_snoU13', 'PARD6G', 'PARG', 'PARGP1', 'PARK2', 'PARK7', 'PARL', 'PARM1', 'PARN', 'PARP1', 'PARP10', 'PARP11', 'PARP12', 'PARP14', 'PARP15', 'PARP16', 'PARP2', 'PARP3', 'PARP4', 'PARP6', 'PARP6_CELF6', 'PARP8', 'PARP9', 'PARPBP', 'PART1', 'PARVA', 'PARVB', 'PARVG', 'PASK', 'PATE1', 'PATE2', 'PATE3', 'PATE4', 'PATL1', 'PATL2', 'PATZ1', 'PAWR', 'PAX1', 'PAX2', 'PAX3', 'PAX4', 'PAX5', 'PAX6', 'PAX7', 'PAX8', 'PAX9', 'PAXBP1', 'PAXBP1_AS1', 'PAXIP1', 'PAXIP1_AS2', 'PBK', 'PBLD', 'PBRM1', 'PBX1', 'PBX2', 'PBX2_XXbac_BPG300A18_13', 'PBX3', 'PBX4', 'PBXIP1', 'PC', 'PCA3', 'PCAT4', 'PCAT7', 'PCBD1', 'PCBD2', 'PCBD2_CATSPER3', 'PCBP1_AS1', 'PCBP2', 'PCBP2_RP11_793H13_8', 'PCBP3', 'PCBP4', 'PCBP4_RP11_155D18_14', 'PCBP4_RP11_155D18_14_RP11_155D18_12', 'PCCA', 'PCCB', 'PCDH1', 'PCDH10', 'PCDH11Y', 'PCDH12', 'PCDH15', 'PCDH17', 'PCDH18', 'PCDH19_AMDP1_TRPC6P_TCEB1P24_DDX11L16_WASIR1', 'PCDH20', 'PCDH7', 'PCDH8', 'PCDH9', 'PCDHA2', 'PCDHA5', 'PCDHA8', 'PCDHA9', 'PCDHAC1', 'PCDHAC2_PCDHA13_PCDHAC1_PCDHA9_PCDHA8_PCDHA7_PCDHA5_PCDHA2_PCDHA1_PCDHA4_PCDHA12_PCDHA11_PCDHA10_PCDHA3_PCDHA6', 'PCDHB1', 'PCDHB10', 'PCDHB13', 'PCDHB18', 'PCDHB4', 'PCDHB9', 'PCDHGA11', 'PCDHGA4', 'PCDHGA7', 'PCDHGB6', 'PCDHGC3', 'PCDHGC5_PCDHGA12_PCDHGA3_PCDHGA2_PCDHGC4_PCDHGC3_PCDHGA1_PCDHGA11_PCDHGB7_PCDHGA8_PCDHGA10_PCDHGA5_PCDHGB1_PCDHGA6_PCDHGB6_PCDHGB2_PCDHGA7_PCDHGB4_PCDHGA9_PCDHGB3_PCDHGA4', 'PCDP1', 'PCED1A', 'PCED1B', 'PCED1B_AS1', 'PCF11', 'PCGEM1', 'PCGF1', 'PCGF2', 'PCGF3', 'PCGF5', 'PCGF6', 'PCID2', 'PCIF1', 'PCK1', 'PCK2', 'PCLO', 'PCM1', 'PCMT1', 'PCMTD1', 'PCMTD2', 'PCMTD2_LINC00266_1', 'PCNA', 'PCNP', 'PCNT', 'PCNX', 'PCNXL2', 'PCNXL2_RP5_862P8_3', 'PCNXL3', 'PCNXL3_snoU13', 'PCNXL4', 'PCOLCE', 'PCOLCE_AS1', 'PCOLCE2', 'PCP2', 'PCP4', 'PCP4L1', 'PCSK1', 'PCSK1N', 'PCSK2', 'PCSK4', 'PCSK5', 'PCSK6', 'PCSK7', 'PCSK9', 'PCTP', 'PCYOX1', 'PCYOX1L', 'PCYT1A', 'PCYT1A_RP11_447L10_1', 'PCYT1B', 'PCYT2', 'PDAP1', 'PDC', 'PDCD1', 'PDCD10', 'PDCD11', 'PDCD1LG2', 'PDCD2', 'PDCD2L', 'PDCD2L_RP11_618P17_4', 'PDCD4', 'PDCD4_AS1', 'PDCD5', 'PDCD6', 'PDCD6IP', 'PDCD7', 'PDCL', 'PDCL2', 'PDCL3', 'PDDC1', 'PDE10A', 'PDE11A', 'PDE11A_CYCTP', 'PDE12', 'PDE1A', 'PDE1B', 'PDE1C', 'PDE2A', 'PDE3A', 'PDE3B', 'PDE4A', 'PDE4B', 'PDE4C', 'PDE4D', 'PDE4DIP', 'PDE5A', 'PDE6A', 'PDE6B', 'PDE6C', 'PDE6D', 'PDE6G', 'PDE6H', 'PDE7A', 'PDE7B', 'PDE8A', 'PDE8B', 'PDE9A', 'PDF', 'PDF_COG8_RP11_343C2_12', 'PDGFA', 'PDGFB', 'PDGFC', 'PDGFD', 'PDGFRA', 'PDGFRA_FIP1L1', 'PDGFRB', 'PDGFRL', 'PDHA1', 'PDHB', 'PDHX', 'PDIA2', 'PDIA2_ARHGDIG', 'PDIA3', 'PDIA3P', 'PDIA4', 'PDIA5', 'PDIA6', 'PDIK1L', 'PDILT', 'PDK1', 'PDK2', 'PDK3', 'PDK4', 'PDLIM1', 'PDLIM2', 'PDLIM3', 'PDLIM4', 'PDLIM5', 'PDLIM7', 'PDP1', 'PDPK1', 'PDPK2', 'PDPN', 'PDPR', 'PDRG1', 'PDS5A', 'PDS5B', 'PDSS1', 'PDSS2', 'PDX1', 'PDXDC1', 'PDXDC2P', 'PDXDC2P_RP11_419C5_2', 'PDXK', 'PDXP', 'PDXP_SH3BP1', 'PDYN', 'PDZD11_AMDP1_TRPC6P_TCEB1P24_DDX11L16_WASIR1', 'PDZD2', 'PDZD3', 'PDZD4_AMDP1_TRPC6P_TCEB1P24_DDX11L16_WASIR1', 'PDZD7', 'PDZD8', 'PDZD9', 'PDZK1', 'PDZK1IP1', 'PDZK1P1', 'PDZK1P2_RP6_74O6_2', 'PDZRN3', 'PDZRN4', 'PEA15', 'PEA15_AL121987_1', 'PEAK1', 'PEAR1', 'PEBP1', 'PEBP4', 'PECR', 'PEF1', 'PEG10', 'PEG3', 'PELI1', 'PELI2', 'PELI3', 'PELO', 'PELO_ITGA1', 'PELP1', 'PEMT', 'PENK', 'PEPD', 'PER1', 'PER1_RP11_599B13_6', 'PER2', 'PER3', 'PERP', 'PES1', 'PET112', 'PEX1', 'PEX10', 'PEX11A', 'PEX11B', 'PEX11G', 'PEX12', 'PEX13', 'PEX14', 'PEX16', 'PEX19', 'PEX19_DCAF8', 'PEX2', 'PEX26', 'PEX26_TUBA8', 'PEX3', 'PEX3_RP1_20N2_6', 'PEX5', 'PEX5L', 'PEX6', 'PEX7', 'PF4', 'PF4V1', 'PFAS', 'PFDN1', 'PFDN2', 'PFDN4', 'PFDN5', 'PFDN6', 'PFKFB1', 'PFKFB2', 'PFKFB3', 'PFKFB4', 'PFKFB4_UCN2', 'PFKL', 'PFKM', 'PFKP', 'PFN1', 'PFN2', 'PFN2_ANKUB1', 'PFN3', 'PFN4', 'PGA3', 'PGA4', 'PGA4_CTD_2331C18_5', 'PGA4_CTD_2331C18_5_PGA5', 'PGA4_PGA5', 'PGA5', 'PGAM1', 'PGAM2', 'PGAM5_PXMP2', 'PGAM5_PXMP2_RP13_672B3_2', 'PGAP1', 'PGAP2', 'PGAP2_AC090587_2', 'PGAP3', 'PGBD1', 'PGBD2', 'PGBD5', 'PGC', 'PGD', 'PGF', 'PGGT1B', 'PGK1_IL9R_SPRY3_VAMP7_WASH6P_DPH3P2_AJ271736_10', 'PGLS', 'PGLYRP1', 'PGLYRP2', 'PGLYRP3', 'PGLYRP4', 'PGM1', 'PGM2', 'PGM2L1', 'PGM3', 'PGM5', 'PGM5_AS1', 'PGM5P1', 'PGM5P2', 'PGM5P2_RP11_87H9_3', 'PGP', 'PGPEP1', 'PGPEP1L', 'PGR', 'PGRMC1_IL9R_SPRY3_VAMP7_WASH6P_DPH3P2_AJ271736_10', 'PGRMC2', 'PGS1', 'PHACTR1', 'PHACTR2', 'PHACTR2_RP3_468K18_5', 'PHACTR3', 'PHACTR4', 'PHAX', 'PHB', 'PHB2', 'PHC1', 'PHC2', 'PHC2_MIR3605', 'PHC3', 'PHEX', 'PHF1', 'PHF1_snoU13', 'PHF10', 'PHF11', 'PHF12', 'PHF13', 'PHF14', 'PHF15', 'PHF16', 'PHF17', 'PHF19', 'PHF2', 'PHF20', 'PHF20L1', 'PHF21A', 'PHF21B', 'PHF23', 'PHF2P2', 'PHF3', 'PHF5A', 'PHF7', 'PHF8', 'PHGDH', 'PHGR1', 'PHIP', 'PHKA1_AMDP1_TRPC6P_TCEB1P24_DDX11L16_WASIR1', 'PHKA2', 'PHKA2_AS1', 'PHKB', 'PHKG1', 'PHKG2', 'PHKG2_RP11_2C24_4', 'PHLDA1', 'PHLDA2', 'PHLDA3', 'PHLDB1', 'PHLDB2', 'PHLDB2_PLCXD2', 'PHLDB3', 'PHLPP1', 'PHLPP2', 'PHOSPHO1', 'PHOX2A', 'PHOX2B', 'PHPT1', 'PHRF1', 'PHTF1', 'PHTF2', 'PHYH', 'PHYHD1', 'PHYHD1_RP11_101E3_5', 'PHYHIP', 'PHYHIPL', 'PHYKPL', 'PI15', 'PI16', 'PI3', 'PI4K2A', 'PI4K2B', 'PI4KA', 'PI4KAP1', 'PI4KAP2', 'PI4KB', 'PIANP', 'PIAS1', 'PIAS2', 'PIAS3', 'PIAS4', 'PIBF1', 'PICALM', 'PICK1', 'PID1', 'PIDD', 'PIEZO1', 'PIEZO1_MIR4722', 'PIEZO2', 'PIF1', 'PIFO', 'PIGA', 'PIGB', 'PIGC', 'PIGF', 'PIGG', 'PIGH', 'PIGK', 'PIGL', 'PIGM', 'PIGN', 'PIGO', 'PIGP', 'PIGQ', 'PIGQ_NHLRC4', 'PIGR', 'PIGS', 'PIGT', 'PIGU', 'PIGV', 'PIGW', 'PIGX', 'PIGZ', 'PIH1D1', 'PIH1D2', 'PIH1D3_IL9R_SPRY3_VAMP7_WASH6P_DPH3P2_AJ271736_10', 'PIK3AP1', 'PIK3C2A', 'PIK3C2A_RPS13', 'PIK3C2B', 'PIK3C2G', 'PIK3C3', 'PIK3CA', 'PIK3CB', 'PIK3CD', 'PIK3CG', 'PIK3IP1', 'PIK3R1', 'PIK3R2', 'PIK3R3', 'PIK3R3_RP11_322N21_2', 'PIK3R4', 'PIK3R5', 'PIK3R6', 'PIKFYVE', 'PILRA', 'PIM1', 'PIM2', 'PIM3', 'PIN1', 'PIN1P1', 'PIN4_IL9R_SPRY3_VAMP7_WASH6P_DPH3P2_AJ271736_10', 'PIN4P1', 'PINK1', 'PINLYP', 'PINX1', 'PINX1_SOX7', 'PIP', 'PIP4K2A', 'PIP4K2B', 'PIP4K2C', 'PIP5K1A', 'PIP5K1B', 'PIP5K1C', 'PIP5KL1', 'PIPOX', 'PIPSL', 'PIR', 'PIRT', 'PISD', 'PITHD1', 'PITPNA', 'PITPNB', 'PITPNC1', 'PITPNM1', 'PITPNM2', 'PITPNM3', 'PITRM1', 'PITRM1_AS1', 'PITX1', 'PITX2', 'PITX3', 'PIWIL1', 'PIWIL2', 'PIWIL3', 'PIWIL4', 'PIWIL4_FUT4', 'PJA2', 'PKD1', 'PKD1L1', 'PKD1L2', 'PKD1L3', 'PKD1P5', 'PKD1P5_RP11_1212A22_4', 'PKD1P6', 'PKD2', 'PKD2L1', 'PKD2L2', 'PKDCC', 'PKHD1', 'PKHD1_Y_RNA', 'PKHD1L1', 'PKIA', 'PKIB', 'PKIG', 'PKLR', 'PKM', 'PKMYT1', 'PKMYT1_SNORA70', 'PKN1', 'PKN2', 'PKN3', 'PKNOX1', 'PKNOX2', 'PKP1', 'PKP2', 'PKP3', 'PKP4', 'PLA1A', 'PLA2G10', 'PLA2G12A', 'PLA2G12B', 'PLA2G15', 'PLA2G16', 'PLA2G1B', 'PLA2G2A', 'PLA2G2C', 'PLA2G2D', 'PLA2G2E', 'PLA2G2F', 'PLA2G3', 'PLA2G4A', 'PLA2G4C', 'PLA2G4D', 'PLA2G4E', 'PLA2G4F', 'PLA2G5', 'PLA2G6', 'PLA2G7', 'PLA2R1', 'PLAA', 'PLAC1_AMDP1_TRPC6P_TCEB1P24_DDX11L16_WASIR1', 'PLAC1L', 'PLAC8', 'PLAC8L1', 'PLAC9', 'PLAG1', 'PLAGL1', 'PLAGL2', 'PLAT', 'PLAT_SNORA70', 'PLAU', 'PLAUR', 'PLB1', 'PLBD1', 'PLBD2', 'PLCB1', 'PLCB2', 'PLCB3', 'PLCB4', 'PLCD1', 'PLCD3', 'PLCD4', 'PLCE1', 'PLCE1_AS1', 'PLCG1', 'PLCG2', 'PLCG2_RP11_960L18_1', 'PLCH1', 'PLCH2', 'PLCL1', 'PLCL2', 'PLCL2_MIR3714', 'PLCXD1', 'PLCXD2', 'PLCXD3', 'PLCZ1', 'PLD1', 'PLD2', 'PLD3', 'PLD4', 'PLD5', 'PLEC', 'PLEK', 'PLEK2', 'PLEK2_SNORA70', 'PLEKHA1', 'PLEKHA2', 'PLEKHA3', 'PLEKHA4', 'PLEKHA5', 'PLEKHA6', 'PLEKHA7', 'PLEKHA8', 'PLEKHA8P1', 'PLEKHB1', 'PLEKHB2', 'PLEKHD1', 'PLEKHF1', 'PLEKHG1', 'PLEKHG2', 'PLEKHG3', 'PLEKHG4', 'PLEKHG4B', 'PLEKHG5', 'PLEKHG6', 'PLEKHG7', 'PLEKHH1', 'PLEKHH2', 'PLEKHH3', 'PLEKHH3_Y_RNA', 'PLEKHJ1', 'PLEKHM1', 'PLEKHM1P', 'PLEKHM1P_hsa_mir_6080', 'PLEKHM2', 'PLEKHM2_AL121992_1', 'PLEKHM3', 'PLEKHN1', 'PLEKHO1', 'PLEKHO2_AC069368_3', 'PLEKHS1', 'PLG', 'PLGLA', 'PLGLB1', 'PLGLB2', 'PLGRKT', 'PLIN1', 'PLIN2', 'PLIN3', 'PLIN4', 'PLIN5', 'PLIN5_CTB_50L17_14', 'PLK1', 'PLK1S1', 'PLK2', 'PLK3', 'PLK4', 'PLK5', 'PLLP', 'PLN', 'PLOD1', 'PLOD2', 'PLOD3', 'PLP2', 'PLRG1', 'PLS1', 'PLSCR1', 'PLSCR2', 'PLSCR4', 'PLSCR5', 'PLTP', 'PLVAP', 'PLXDC1', 'PLXDC2', 'PLXNA1', 'PLXNA2', 'PLXNA4', 'PLXNB1', 'PLXNB1_Y_RNA', 'PLXNB2', 'PLXNB3_IL9R_SPRY3_SRPK3_VAMP7_WASH6P_DPH3P2_AJ271736_10', 'PLXNB3_IL9R_SPRY3_VAMP7_WASH6P_DPH3P2_AJ271736_10', 'PLXNC1', 'PLXND1', 'PM20D1', 'PM20D2', 'PMAIP1', 'PMAIP1_snoU13', 'PMCH', 'PMCHL1', 'PMCHL2', 'PMEL', 'PMEPA1', 'PMF1', 'PMF1_PMF1_BGLAP', 'PMFBP1', 'PML', 'PML_snoU13', 'PMM1', 'PMM2', 'PMP2', 'PMP22', 'PMPCA', 'PMPCB', 'PMS1', 'PMS2', 'PMS2CL', 'PMS2P1', 'PMS2P10', 'PMS2P2', 'PMS2P3', 'PMS2P4', 'PMS2P5', 'PMVK', 'PNCK_AMDP1_TRPC6P_TCEB1P24_DDX11L16_WASIR1', 'PNISR', 'PNKD', 'PNKP', 'PNLDC1', 'PNLIP', 'PNLIPRP1', 'PNLIPRP2', 'PNLIPRP3', 'PNMA1', 'PNMA2', 'PNMA5_AMDP1_TRPC6P_TCEB1P24_DDX11L16_WASIR1', 'PNMAL1', 'PNMAL2', 'PNMT', 'PNN', 'PNO1', 'PNOC', 'PNP', 'PNPLA1', 'PNPLA2', 'PNPLA3', 'PNPLA3_SAMM50', 'PNPLA4', 'PNPLA5', 'PNPLA6', 'PNPLA6_CTD_2207O23_10', 'PNPLA7', 'PNPLA8', 'PNPLA8_THAP5', 'PNPO', 'PNPO_RP11_6N17_9', 'PNPT1', 'PNRC1', 'PNRC2', 'POC1A', 'POC1B', 'POC5', 'PODN', 'PODNL1', 'PODXL', 'PODXL2', 'POF1B_AMDP1_TRPC6P_TCEB1P24_DDX11L16_WASIR1', 'POFUT1', 'POFUT2', 'POGK', 'POGLUT1', 'POGZ', 'POLA1', 'POLA2', 'POLB', 'POLD1', 'POLD1_CTD_2545M3_6', 'POLD2', 'POLD2_Y_RNA', 'POLD3', 'POLD3_AP001372_2', 'POLDIP2', 'POLDIP3', 'POLE', 'POLE2', 'POLE3', 'POLE4', 'POLG', 'POLG2', 'POLH', 'POLI', 'POLK', 'POLL', 'POLM', 'POLN', 'POLQ', 'POLR1A', 'POLR1B', 'POLR1C', 'POLR1D', 'POLR1E', 'POLR2A', 'POLR2B', 'POLR2C', 'POLR2C_AC009052_12', 'POLR2D', 'POLR2E', 'POLR2F', 'POLR2G', 'POLR2H', 'POLR2I', 'POLR2J', 'POLR2J_Y_RNA', 'POLR2J2', 'POLR2J3', 'POLR2J3_RP11_514P8_7', 'POLR2J3_RP11_514P8_7_RP11_514P8_8', 'POLR2J3_RP11_514P8_8', 'POLR2J4', 'POLR2J4_RP5_1165K10_2', 'POLR2K', 'POLR2L', 'POLR3A', 'POLR3B', 'POLR3C', 'POLR3D', 'POLR3E', 'POLR3F', 'POLR3G', 'POLR3GL', 'POLR3H', 'POLR3K', 'POLRMT', 'POM121', 'POM121B', 'POM121C', 'POM121C_AC006014_7', 'POM121L10P', 'POM121L14P', 'POM121L1P', 'POM121L2', 'POM121L4P', 'POM121L9P', 'POMC', 'POMGNT1', 'POMGNT2', 'POMK', 'POMP', 'POMT1', 'POMT2', 'POMZP3', 'PON1', 'PON1_PON3', 'PON2', 'PON3', 'POP1', 'POP4', 'POP5', 'POP7', 'POPDC2', 'POPDC3', 'POR', 'PORCN', 'POSTN', 'POT1', 'POTEA', 'POTEB', 'POTEB2', 'POTEC', 'POTED', 'POTEE', 'POTEE_AC131180_1', 'POTEF', 'POTEG', 'POTEH', 'POTEH_AS1', 'POTEM', 'POU1F1', 'POU2AF1', 'POU2F1', 'POU2F2', 'POU2F3', 'POU3F1', 'POU4F1', 'POU4F2_AC093887_1', 'POU4F3', 'POU5F1', 'POU5F2', 'POU6F1', 'POU6F2', 'POU6F2_AS2', 'PP2D1', 'PPA1', 'PPA2', 'PPAN_PPAN_P2RY11', 'PPAP2A', 'PPAP2A_RNF138P1', 'PPAP2B', 'PPAP2C', 'PPAPDC1A', 'PPAPDC1B', 'PPAPDC3', 'PPARA', 'PPARD', 'PPARG', 'PPARGC1A', 'PPARGC1B', 'PPAT', 'PPBP', 'PPBPP2', 'PPCDC', 'PPCS', 'PPDPF', 'PPEF1', 'PPEF2', 'PPFIA1', 'PPFIA2', 'PPFIA3', 'PPFIA4', 'PPFIBP1', 'PPFIBP2', 'PPHLN1', 'PPHLN1_RP11_328C8_4', 'PPIA', 'PPIAP30', 'PPIB', 'PPIC', 'PPID', 'PPIE', 'PPIEL', 'PPIEL_RP11_69E11_4', 'PPIF', 'PPIG', 'PPIH', 'PPIL1', 'PPIL2', 'PPIL2_MIR130B', 'PPIL3', 'PPIL4', 'PPIL6', 'PPIP5K1', 'PPIP5K2', 'PPL', 'PPM1A', 'PPM1B', 'PPM1D', 'PPM1E', 'PPM1F', 'PPM1G', 'PPM1H', 'PPM1J', 'PPM1J_RP11_426L16_10', 'PPM1K', 'PPM1L', 'PPM1M', 'PPM1N', 'PPME1', 'PPOX', 'PPP1CA', 'PPP1CB', 'PPP1CC', 'PPP1R10', 'PPP1R11', 'PPP1R12A', 'PPP1R12B', 'PPP1R12C', 'PPP1R13B', 'PPP1R13L', 'PPP1R14A', 'PPP1R14B', 'PPP1R14B_RP11_783K16_13', 'PPP1R14C', 'PPP1R14D', 'PPP1R15A', 'PPP1R15B', 'PPP1R16A', 'PPP1R16B', 'PPP1R17', 'PPP1R18', 'PPP1R1A', 'PPP1R1B', 'PPP1R1C', 'PPP1R2', 'PPP1R21', 'PPP1R26', 'PPP1R26_AS1', 'PPP1R27', 'PPP1R2P3', 'PPP1R32', 'PPP1R32_RP11_286N22_8', 'PPP1R35', 'PPP1R36', 'PPP1R37', 'PPP1R37_GEMIN7', 'PPP1R3A', 'PPP1R3B', 'PPP1R3C', 'PPP1R3E', 'PPP1R3E_HOMEZ', 'PPP1R3F', 'PPP1R3G', 'PPP1R42', 'PPP1R42_COPS5', 'PPP1R7', 'PPP1R8', 'PPP1R9A', 'PPP1R9B', 'PPP2CA', 'PPP2CA_CDKL3_CTD_2410N18_4', 'PPP2CA_CTD_2410N18_5', 'PPP2CB', 'PPP2R1A', 'PPP2R1B', 'PPP2R2A', 'PPP2R2B', 'PPP2R2B_Y_RNA', 'PPP2R2C', 'PPP2R2D', 'PPP2R3A', 'PPP2R3B', 'PPP2R3C', 'PPP2R4', 'PPP2R5A', 'PPP2R5B', 'PPP2R5C', 'PPP2R5D', 'PPP2R5E', 'PPP3CA', 'PPP3CB', 'PPP3CC', 'PPP3R1', 'PPP3R1_RP11_474G23_1', 'PPP4C', 'PPP4R1', 'PPP4R1L', 'PPP4R2', 'PPP4R2_GXYLT2', 'PPP4R4', 'PPP5C', 'PPP5D1', 'PPP6C', 'PPP6R1', 'PPP6R2', 'PPP6R3', 'PPRC1', 'PPT1', 'PPT2_PPT2_EGFL8', 'PPT2_PPT2_EGFL8_EGFL8', 'PPT2_EGFL8', 'PPT2_EGFL8_EGFL8', 'PPTC7', 'PPWD1', 'PPY', 'PPY2', 'PQBP1', 'PQLC1', 'PQLC2', 'PQLC3', 'PRAC1', 'PRAC2', 'PRADC1', 'PRAF2', 'PRAM1', 'PRAME', 'PRAMEF1', 'PRAMEF10', 'PRAMEF11', 'PRAMEF12', 'PRAMEF13', 'PRAMEF14', 'PRAMEF15', 'PRAMEF16', 'PRAMEF17', 'PRAMEF18', 'PRAMEF19', 'PRAMEF2', 'PRAMEF20', 'PRAMEF21', 'PRAMEF22', 'PRAMEF3', 'PRAMEF4', 'PRAMEF5', 'PRAMEF6', 'PRAMEF6_PRAMEF23', 'PRAMEF7', 'PRAMEF8', 'PRAMEF9', 'PRAMENP', 'PRAP1', 'PRAP1_ZNF511', 'PRB1', 'PRB2', 'PRB2_PRB1', 'PRB3', 'PRB4', 'PRC1', 'PRCC', 'PRCD', 'PRCP', 'PRDM1', 'PRDM10', 'PRDM11', 'PRDM12', 'PRDM13', 'PRDM14', 'PRDM15', 'PRDM16', 'PRDM2', 'PRDM4', 'PRDM5', 'PRDM6', 'PRDM7', 'PRDM8', 'PRDM9', 'PRDX1', 'PRDX2', 'PRDX3', 'PRDX4', 'PRDX5', 'PRDX6', 'PREB', 'PRELID1', 'PRELID2', 'PRELP', 'PREP', 'PREPL', 'PREX1', 'PREX2', 'PRF1', 'PRG2_RP11_872D17_8', 'PRG3', 'PRG4', 'PRH2', 'PRICKLE1', 'PRICKLE2', 'PRICKLE3', 'PRICKLE4', 'PRICKLE4_TOMM6', 'PRICKLE4_TOMM6_snoU13', 'PRIM1', 'PRIM2', 'PRIMA1', 'PRIMPOL', 'PRKAA1', 'PRKAA2', 'PRKAB1', 'PRKAB2', 'PRKACA', 'PRKACB', 'PRKAG1', 'PRKAG2', 'PRKAG2_AS1', 'PRKAG3', 'PRKAR1A', 'PRKAR1A_RP11_120M18_2', 'PRKAR1B', 'PRKAR2A', 'PRKAR2A_AS1', 'PRKAR2B', 'PRKCA', 'PRKCB', 'PRKCD', 'PRKCDBP', 'PRKCE', 'PRKCG', 'PRKCH', 'PRKCH_RP11_47I22_4', 'PRKCI', 'PRKCQ', 'PRKCSH', 'PRKCZ', 'PRKD1', 'PRKD2', 'PRKD3', 'PRKDC', 'PRKG1', 'PRKG1_AS1', 'PRKG2', 'PRKRA', 'PRKRIP1', 'PRKRIP1_RP11_163E9_2', 'PRKRIR', 'PRKRIRP5_RP11_716O23_2', 'PRKX', 'PRKY', 'PRL', 'PRLH', 'PRLHR', 'PRLR', 'PRM1', 'PRM2', 'PRM3', 'PRMT1', 'PRMT1_ADM5', 'PRMT10', 'PRMT2', 'PRMT3', 'PRMT5', 'PRMT7', 'PRMT8', 'PRND', 'PRNP', 'PRNT', 'PROB1', 'PROC', 'PROCA1', 'PROCR', 'PRODH', 'PRODH2', 'PROK1', 'PROK2', 'PROKR1', 'PROKR2', 'PROL1', 'PROM1', 'PROM1_FGFBP2', 'PROM2', 'PROP1', 'PROS1', 'PROSC', 'PROSER1', 'PROSER2', 'PROSER2_AS1', 'PROX1', 'PROX1_AS1', 'AGAP9_BMS1P6', 'AGBL1', 'AGBL2', 'AGBL3', 'AGBL4', 'AGBL5', 'AGER', 'AGFG1', 'AGFG1_MIR5703', 'AGFG2', 'AGGF1', 'AGK', 'AGL', 'AGMAT', 'AGMO', 'AGO1', 'AGO2', 'AGO3', 'AGO4', 'AGPAT1', 'AGPAT2', 'AGPAT3', 'AGPAT4', 'AGPAT5', 'AGPAT5_snoU13', 'AGPAT6', 'AGPAT9', 'AGPS', 'AGR2', 'AGR3', 'AGRN', 'AGRP', 'AGT', 'AGT_RP11_99J16_A_2', 'AGTPBP1', 'AGTR1', 'AGTRAP', 'AGXT', 'AGXT2', 'AHCTF1', 'AHCY', 'AHCYL1', 'AHCYL2', 'AHDC1', 'AHI1', 'AHNAK', 'AHNAK2', 'AHR', 'AHRR', 'AHRR_PDCD6', 'AHSA1', 'AHSA2', 'AHSG', 'AHSP', 'AICDA', 'AIDA', 'AIF1', 'AIF1L', 'AIFM1_AMDP1_TRPC6P_TCEB1P24_DDX11L16_WASIR1', 'AIFM2', 'AIFM3', 'AIG1', 'AIM1', 'AIM1L', 'AIM2', 'AIMP1', 'AIMP2', 'AIP', 'AIPL1', 'AIRE', 'AJAP1', 'AJUBA', 'AJUBA_RP11_298I3_5', 'AK1', 'AK1_RP11_203J24_9', 'AK2', 'AK3', 'AK4', 'AK5', 'AK7', 'AK8', 'AK9', 'AKAP1', 'AKAP1_U3', 'AKAP10', 'AKAP11', 'AKAP12', 'AKAP13', 'AKAP2', 'AKAP3', 'AKAP4', 'AKAP5', 'AKAP6', 'AKAP7', 'AKAP8', 'AKAP8L', 'AKAP9', 'AKIP1', 'AKIRIN1', 'AKIRIN2', 'AKNA', 'AKNAD1', 'AKR1A1', 'AKR1B1', 'AKR1B10', 'AKR1B15', 'AKR1C1', 'AKR1C2', 'AKR1C3', 'AKR1C4', 'AKR1C6P', 'AKR1CL1', 'AKR1D1', 'AKR1E2', 'AKR7A2', 'AKR7A2P1', 'AKR7A3', 'AKR7L', 'AKT1', 'AKT1S1', 'AKT2', 'AKT3', 'AKTIP', 'AL020996_1', 'AL022344_4', 'AL033381_1', 'AL035610_1', 'AL035610_2', 'AL078585_1', 'AL109763_2', 'AL118506_1', 'AL121656_5', 'AL122127_25', 'AL133481_1', 'AL133481_1_RP11_342M3_2', 'AL139147_1', 'AL353997_3', 'AL353997_3_AL353997_4', 'AL355390_1', 'AL355490_1', 'AL358781_1', 'AL360004_1', 'AL391005_1', 'AL391421_1', 'AL445665_1', 'AL445989_1', 'AL450992_2', 'AL589642_1_TAF1L', 'AL589743_1', 'AL590822_2', 'AL591479_1', 'AL592528_1', 'AL807752_1', 'AL928742_12', 'AL928742_12_IGHE', 'AL928768_3', 'AL953854_2', 'ALAD', 'ALAS1', 'ALAS2', 'ALB', 'ALCAM', 'ALDH16A1', 'ALDH16A1_CTD_3148I10_9', 'ALDH18A1', 'ALDH1A1', 'ALDH1A2', 'ALDH1A3', 'ALDH1A3_RP11_66B24_8', 'ALDH1L1', 'ALDH1L1_AS2', 'ALDH1L2', 'ALDH2', 'ALDH2_RP11_162P23_2', 'ALDH3A1', 'ALDH3A2', 'ALDH3B1', 'ALDH3B2', 'ALDH4A1', 'ALDH4A1_RP13_279N23_2', 'ALDH5A1', 'ALDH6A1', 'ALDH7A1', 'ALDH8A1', 'ALDH9A1', 'ALDH9A1_Y_RNA', 'ALDOA', 'ALDOB', 'ALDOB_Y_RNA', 'ALDOC', 'ALG1', 'ALG1_RP11_165E7_1', 'ALG10', 'ALG11', 'ALG11_UTP14C', 'ALG12', 'ALG14', 'ALG1L', 'ALG1L2', 'ALG1L3P', 'ALG1L6P', 'ALG1L7P', 'ALG2', 'ALG3', 'ALG5', 'ALG6', 'ALG8', 'ALG9', 'ALK', 'ALK_Y_RNA', 'ALKBH1', 'ALKBH2', 'ALKBH3', 'ALKBH3_AS1', 'ALKBH4', 'ALKBH5', 'ALKBH6', 'ALKBH6_AC002116_8', 'ALKBH7', 'ALKBH8', 'ALLC', 'ALMS1', 'ALMS1P', 'ALOX12', 'ALOX12B', 'ALOX12P2', 'ALOX15', 'ALOX15B', 'ALOX5', 'ALOX5AP', 'ALOXE3', 'ALPI', 'ALPK1', 'ALPK2', 'ALPK3', 'ALPL', 'ALPP', 'ALPPL2', 'ALS2', 'ALS2CL', 'ALS2CR11', 'ALS2CR12', 'ALX1', 'ALX3', 'ALX4', 'ALYREF', 'AMACR', 'AMACR_RP11_1084J3_3', 'AMACR_RP11_1084J3_4', 'AMBN', 'AMBP', 'AMBRA1', 'AMD1', 'AMDHD1', 'AMDHD2', 'AMDHD2_ATP6C', 'AMDP1_CLIC2_TRPC6P_TCEB1P24_DDX11L16_WASIR1', 'AMDP1_CT45A4_TRPC6P_TCEB1P24_DDX11L16_WASIR1', 'AMDP1_CT45A5_CT45A4_TRPC6P_TCEB1P24_DDX11L16_WASIR1', 'AMDP1_CT45A5_TRPC6P_TCEB1P24_DDX11L16_WASIR1', 'AMDP1_CT45A6_TRPC6P_TCEB1P24_DDX11L16_WASIR1', 'AMDP1_CT47A5_TRPC6P_TCEB1P24_DDX11L16_WASIR1', 'AMDP1_CT47A5_TRPC6P_TCEB1P24_DDX11L16_WASIR1_CT47A6', 'AMDP1_IKBKGP1_TRPC6P_TCEB1P24_DDX11L16_WASIR1', 'AMDP1_KIAA1210_TRPC6P_TCEB1P24_DDX11L16_WASIR1', 'AMDP1_LINC00893_TRPC6P_TCEB1P24_DDX11L16_WASIR1', 'AMDP1_MAGEA9B_TRPC6P_TCEB1P24_DDX11L16_WASIR1', 'AMDP1_MAGT1_TRPC6P_TCEB1P24_DDX11L16_WASIR1', 'AMDP1_NKAPP1_TRPC6P_TCEB1P24_DDX11L16_WASIR1', 'AMDP1_RHOXF2B_TRPC6P_TCEB1P24_DDX11L16_WASIR1', 'AMDP1_RP11_217H19_1_TRPC6P_TCEB1P24_DDX11L16_WASIR1', 'AMDP1_RP11_453F18_B_1_TRPC6P_TCEB1P24_DDX11L16_WASIR1', 'AMDP1_TCP11X2_TRPC6P_TCEB1P24_DDX11L16_WASIR1', 'AMDP1_TEX28P2_TRPC6P_TCEB1P24_DDX11L16_WASIR1', 'AMDP1_TRPC6P_CSAG3_TCEB1P24_DDX11L16_WASIR1', 'AMDP1_TRPC6P_CT47A12_TCEB1P24_DDX11L16_WASIR1', 'AMDP1_TRPC6P_CT47A2_TCEB1P24_DDX11L16_WASIR1', 'AMDP1_TRPC6P_CT47A3_TCEB1P24_DDX11L16_WASIR1', 'AMDP1_TRPC6P_CT47A4_TCEB1P24_DDX11L16_WASIR1', 'AMDP1_TRPC6P_CT47A8_TCEB1P24_DDX11L16_WASIR1', 'AMDP1_TRPC6P_CTAG1B_TCEB1P24_DDX11L16_WASIR1', 'AMDP1_TRPC6P_CXorf49_TCEB1P24_DDX11L16_WASIR1', 'AMDP1_TRPC6P_CXorf51A_TCEB1P24_DDX11L16_WASIR1', 'AMDP1_TRPC6P_FTX_TCEB1P24_DDX11L16_WASIR1', 'AMDP1_TRPC6P_LL0XNC01_116E7_2_TCEB1P24_DDX11L16_WASIR1', 'AMDP1_TRPC6P_MAGEA3_TCEB1P24_DDX11L16_WASIR1', 'AMDP1_TRPC6P_RP1_274L7_1_TCEB1P24_DDX11L16_WASIR1', 'AMDP1_TRPC6P_RP11_761E20_1_TCEB1P24_DDX11L16_WASIR1', 'AMDP1_TRPC6P_RP13_228J13_1_TCEB1P24_DDX11L16_WASIR1', 'AMDP1_TRPC6P_TAF9B_TCEB1P24_DDX11L16_WASIR1', 'AMDP1_TRPC6P_TCEB1P24_DDX11L16_CT47A10_WASIR1', 'AMDP1_TRPC6P_TCEB1P24_DDX11L16_CT47A11_WASIR1', 'AMDP1_TRPC6P_TCEB1P24_DDX11L16_CT47A7_WASIR1', 'AMDP1_TRPC6P_TCEB1P24_DDX11L16_LINC00087_WASIR1', 'AMDP1_TRPC6P_TCEB1P24_DDX11L16_LINC00633_WASIR1', 'AMDP1_TRPC6P_TCEB1P24_DDX11L16_LL0XNC01_240C2_1_WASIR1', 'AMDP1_TRPC6P_TCEB1P24_DDX11L16_RBMX_WASIR1', 'AMDP1_TRPC6P_TCEB1P24_DDX11L16_WASIR1', 'AMDP1_TRPC6P_TCEB1P24_DDX11L16_WASIR1_CT47A6', 'AMDP1_TRPC6P_TCEB1P24_DDX11L16_WASIR1_CT47A9', 'AMDP1_TRPC6P_TCEB1P24_DDX11L16_WASIR1_FMR1_AS1', 'AMDP1_TRPC6P_TCEB1P24_DDX11L16_WASIR1_PGAM4', 'AMDP1_TRPC6P_TCEB1P24_DDX11L16_WASIR1_RP1_93I3_1', 'AMDP1_TRPC6P_TCEB1P24_DDX11L16_WASIR1_RP11_357C3_3', 'AMDP1_TRPC6P_TCEB1P24_DDX11L16_WASIR1_RP3_368A4_5', 'AMDP1_TRPC6P_TCEB1P24_DDX11L16_WASIR1_SPANXA1', 'AMDP1_TRPC6P_TCEB1P24_DDX11L16_WASIR1_SPANXC', 'AMDP1_TRPC6P_TCEB1P24_DDX11L16_WASIR1_SPANXD', 'AMDP1_TRPC6P_TEX28P1_TCEB1P24_DDX11L16_WASIR1', 'AMDP1_XIST_TRPC6P_TCEB1P24_DDX11L16_WASIR1', 'AMELX', 'AMELY', 'AMER1_AMDP1_TRPC6P_TCEB1P24_DDX11L16_WASIR1', 'AMER2', 'AMER2_AS1', 'AMER3', 'AMFR', 'AMH', 'AMHR2', 'AMICA1', 'AMIGO1', 'AMIGO2', 'AMMECR1_AMDP1_TRPC6P_TCEB1P24_DDX11L16_WASIR1', 'AMMECR1L', 'AMN', 'AMN1', 'AMOT_AMDP1_TRPC6P_TCEB1P24_DDX11L16_WASIR1', 'AMOTL1', 'AMOTL2', 'AMOTL2_RPL39P5', 'AMPD1', 'AMPD2', 'AMPD3', 'AMPH', 'AMT', 'AMTN', 'AMY1A', 'AMY1B', 'AMY1C', 'AMY2A', 'AMY2B', 'AMY2B_ACTG1P4', 'AMY2B_snoU13', 'AMYP1', 'AMZ1', 'AMZ2', 'AMZ2P1', 'ANAPC1', 'ANAPC10', 'ANAPC11', 'ANAPC13', 'ANAPC15', 'ANAPC16', 'ANAPC1P1', 'ANAPC2', 'ANAPC4', 'ANAPC5', 'ANAPC7', 'ANAPC7_RP11_478C19_2', 'ANGEL1', 'ANGEL2', 'ANGPT1', 'ANGPT2', 'ANGPT4', 'ANGPTL1', 'ANGPTL2', 'ANGPTL3', 'ANGPTL4', 'ANGPTL5', 'ANGPTL6', 'ANGPTL7', 'ANHX', 'ANK1', 'ANK2', 'ANK3', 'ANKAR', 'ANKDD1A', 'ANKDD1A_AC069368_3', 'ANKDD1B', 'ANKEF1', 'ANKFN1', 'ANKFY1', 'ANKH', 'ANKHD1_ANKHD1_EIF4EBP3', 'ANKHD1_EIF4EBP3_ANKHD1_EIF4EBP3', 'ANKIB1', 'ANKK1', 'ANKLE1', 'ANKLE1_CTD_2278I10_6', 'ANKLE2', 'ANKMY1', 'ANKMY2', 'ANKRA2', 'ANKRD1', 'ANKRD10', 'ANKRD11', 'ANKRD12', 'ANKRD12_RP11_21J18_1', 'ANKRD13A', 'ANKRD13B', 'ANKRD13C', 'ANKRD13D', 'ANKRD16', 'ANKRD17', 'ANKRD18A', 'ANKRD18A_RP11_392E22_12', 'ANKRD18A_RP11_392E22_5', 'ANKRD18A_RP11_392E22_5_RP11_392E22_11_RP11_392E22_10_RP11_392E22_12_RP11_392E22_8', 'ANKRD18B', 'ANKRD18CP_RP11_498P14_5', 'ANKRD18DP', 'ANKRD19P', 'ANKRD2', 'ANKRD20A1', 'ANKRD20A11P', 'ANKRD20A14P', 'ANKRD20A19P', 'ANKRD20A2', 'ANKRD20A3', 'ANKRD20A4', 'ANKRD20A5P', 'ANKRD20A8P', 'ANKRD20A9P_RHOT1P3_RNU6_55P', 'ANKRD22', 'ANKRD23', 'ANKRD24', 'ANKRD26', 'ANKRD26P1', 'ANKRD26P3', 'ANKRD27', 'ANKRD28', 'ANKRD29', 'ANKRD30A', 'ANKRD30B', 'ANKRD30BL', 'ANKRD30BP2', 'ANKRD30BP3', 'ANKRD30BP3_RP11_445N18_7', 'ANKRD31', 'ANKRD32', 'ANKRD34A', 'ANKRD34B', 'ANKRD34C', 'ANKRD35', 'ANKRD36', 'ANKRD36B', 'ANKRD36BP2', 'ANKRD36C', 'ANKRD37', 'ANKRD39', 'ANKRD39_ANKRD23', 'ANKRD40', 'ANKRD42', 'ANKRD44', 'ANKRD45', 'ANKRD46', 'ANKRD49', 'ANKRD50', 'ANKRD52', 'ANKRD53', 'ANKRD54', 'ANKRD55', 'ANKRD6', 'ANKRD62', 'ANKRD65', 'ANKRD66', 'ANKRD7', 'ANKRD9', 'ANKS1A', 'ANKS1B', 'ANKS3', 'ANKS3_RP11_127I20_7', 'ANKS4B', 'ANKS6', 'ANKUB1', 'ANKUB1_RNU6_507P', 'ANKZF1', 'ANLN', 'ANO1', 'ANO10', 'ANO2', 'ANO3', 'ANO3_CTD_2507G9_1', 'ANO4', 'ANO5', 'ANO6', 'ANO7', 'ANO8', 'ANO8_Y_RNA', 'ANO9', 'ANP32A', 'ANP32B', 'ANP32E', 'ANPEP', 'ANTXR1', 'ANTXR2', 'ANTXRL', 'ANXA1', 'ANXA10', 'ANXA11', 'ANXA13', 'ANXA2', 'ANXA2P1', 'ANXA2P3', 'ANXA3', 'ANXA4', 'ANXA5', 'ANXA6', 'ANXA7', 'ANXA8', 'ANXA8_AL591684_1', 'ANXA8_RP11_301J7_8', 'ANXA8L1', 'ANXA8L2', 'ANXA9', 'AOAH', 'AOC1', 'AOC2', 'AOC3', 'AOX1', 'AOX2P', 'AOX3P', 'AP000251_3', 'AP000253_1', 'AP000266_7', 'AP000320_7_MRPS6', 'AP000322_53', 'AP000330_8', 'AP000345_1', 'AP000350_4', 'AP000351_10', 'AP000439_1', 'AP000472_2', 'AP000475_2', 'AP000476_1', 'AP000479_1', 'AP000487_5', 'AP000525_10', 'AP000525_9', 'AP000619_5', 'AP000662_4', 'AP000688_14', 'AP000708_1', 'AP001053_11', 'AP001065_2', 'AP001258_4', 'AP001347_6', 'AP001432_14_DSCR9', 'AP001604_3', 'AP001626_1', 'AP001626_2', 'AP002387_1', 'AP002833_1_KIRREL3_AS3', 'AP003025_2', 'AP003068_12', 'AP003733_1', 'AP003774_5', 'AP005482_1', 'AP005901_1', 'AP006285_6', 'AP1AR', 'AP1B1', 'AP1G1', 'AP1G2', 'AP1M1', 'AP1M2', 'AP1S1', 'AP1S2', 'AP1S3', 'AP2A1', 'AP2A2', 'AP2B1', 'AP2M1', 'AP2S1', 'AP3B1', 'AP3B2', 'AP3D1', 'AP3M1', 'AP3M2', 'AP3S1', 'AP3S2', 'AP3S2_C15orf38_AP3S2', 'AP4B1', 'AP4B1_AS1', 'AP4E1', 'AP4M1', 'AP4S1', 'AP5M1', 'AP5S1', 'AP5Z1', 'APAF1', 'APBA1', 'APBA1_RP11_548B3_3', 'APBA1_Y_RNA', 'APBA2', 'APBA3', 'APBA3_AC005954_3', 'APBB1', 'APBB1IP', 'APBB2', 'APBB3', 'APBB3_SRA1', 'APC', 'APC_CTC_554D6_1', 'APC2', 'APCDD1', 'APCDD1L', 'APCDD1L_AS1', 'APCS', 'APEH', 'APEX1', 'APEX2', 'APH1A', 'APH1B', 'API5', 'APIP', 'APITD1_APITD1_CORT', 'APLF', 'APLN_AMDP1_TRPC6P_TCEB1P24_DDX11L16_WASIR1', 'APLP1', 'APLP2', 'APMAP', 'APOA1', 'APOA1BP', 'APOA2', 'APOA4', 'APOA5', 'APOB', 'APOBEC1', 'APOBEC2', 'APOBEC3A', 'APOBEC3B', 'APOBEC3C', 'APOBEC3D', 'APOBEC3D_APOBEC3C', 'APOBEC3F', 'APOBEC3G', 'APOBEC3G_APOBEC3F', 'APOBEC3H', 'APOBEC4', 'APOBR', 'APOC1', 'APOC3', 'APOC4_APOC4_APOC2', 'APOD', 'APOE', 'APOF', 'APOH', 'APOL1', 'APOL2', 'APOL3', 'APOL4', 'APOL5', 'APOL6', 'APOLD1', 'APOLD1_DDX47', 'APOM', 'APOO', 'APOPT1_RP11_73M18_2', 'APP', 'APPBP2', 'APPL1', 'APPL2', 'APRT', 'APTX', 'AQP1', 'AQP10', 'AQP11', 'AQP12A', 'AQP12B', 'AQP2', 'AQP4', 'AQP4_AS1', 'AQP5', 'AQP6', 'AQP7', 'AQP7P1', 'AQP7P2', 'AQP7P3', 'AQP8', 'AQP9', 'AQPEP', 'AQPEP_CTD_2287O16_3', 'AQR', 'ARAF', 'ARAP1', 'ARAP2', 'ARAP3', 'ARC', 'ARCN1', 'AREG', 'AREL1', 'AREL1_AC007956_1', 'AREL1_Y_RNA', 'ARF1', 'ARF3_AC073610_5', 'ARF3_RP11_302B13_5', 'ARF3_RP11_302B13_5_AC073610_5', 'ARF4', 'ARF5', 'ARF6', 'ARFGAP1', 'ARFGAP2', 'ARFGAP3', 'ARFGEF1', 'ARFGEF2', 'ARFIP1', 'ARFIP2', 'ARFRP1', 'ARG1', 'ARG2', 'ARGFX', 'ARGLU1', 'ARHGAP1', 'ARHGAP10', 'ARHGAP11A', 'ARHGAP11B', 'ARHGAP12', 'ARHGAP15', 'ARHGAP17', 'ARHGAP18', 'ARHGAP19', 'ARHGAP19_ARHGAP19_SLIT1', 'ARHGAP20', 'ARHGAP21', 'ARHGAP22', 'ARHGAP22_IT1', 'ARHGAP23', 'ARHGAP24', 'ARHGAP25', 'ARHGAP26', 'ARHGAP26_AS1', 'ARHGAP27', 'ARHGAP28', 'ARHGAP29', 'ARHGAP30', 'ARHGAP31', 'ARHGAP32', 'ARHGAP33', 'ARHGAP35', 'ARHGAP39', 'ARHGAP4_AMDP1_TRPC6P_TCEB1P24_DDX11L16_WASIR1', 'ARHGAP42', 'ARHGAP44', 'ARHGAP44_snoU13', 'ARHGAP5', 'ARHGAP6', 'ARHGAP8', 'ARHGAP8_PRR5_ARHGAP8', 'ARHGAP9', 'ARHGDIA', 'ARHGDIB', 'ARHGDIG', 'ARHGDIG_ITFG3', 'ARHGEF1', 'ARHGEF10', 'ARHGEF10L', 'ARHGEF11', 'ARHGEF12', 'ARHGEF15', 'ARHGEF16', 'ARHGEF17', 'ARHGEF18', 'ARHGEF18_CTD_2207O23_3', 'ARHGEF19', 'ARHGEF2', 'ARHGEF25', 'ARHGEF26', 'ARHGEF26_AS1', 'ARHGEF28', 'ARHGEF3', 'ARHGEF33', 'ARHGEF34P', 'ARHGEF37', 'ARHGEF38', 'ARHGEF39', 'ARHGEF39_Y_RNA', 'ARHGEF4', 'ARHGEF40', 'ARHGEF40_snoU13', 'ARHGEF5', 'ARHGEF6_AMDP1_TRPC6P_TCEB1P24_DDX11L16_WASIR1', 'ARHGEF7', 'ARHGEF9_AMDP1_TRPC6P_TCEB1P24_DDX11L16_WASIR1', 'ARID1A', 'ARID1B', 'ARID2', 'ARID3A', 'ARID3B', 'ARID3C', 'ARID4A', 'ARID4B', 'ARID4B_RBM34', 'ARID5A', 'ARID5B', 'ARIH1', 'ARIH2', 'ARIH2OS', 'ARL1', 'ARL10', 'PROX2', 'PROZ', 'PRPF18', 'PRPF18_RP11_295P9_3', 'PRPF19', 'PRPF3', 'PRPF31', 'PRPF38A', 'PRPF38B', 'PRPF39', 'PRPF4', 'PRPF40A', 'PRPF40B', 'PRPF4B', 'PRPF6', 'PRPF8', 'PRPH', 'PRPH2', 'PRPS2', 'PRPSAP1', 'PRPSAP1_Y_RNA', 'PRPSAP2', 'PRR11', 'PRR11_CTD_2510F5_6', 'PRR12', 'PRR13_PCBP2_RP11_793H13_8', 'PRR14', 'PRR14L', 'PRR14L_Y_RNA', 'PRR15', 'PRR15L', 'PRR16', 'PRR18', 'PRR19', 'PRR20A', 'PRR20B', 'PRR20C', 'PRR20D', 'PRR20E', 'PRR22_CTB_54O9_9', 'PRR23B', 'PRR23C', 'PRR25', 'PRR26', 'PRR3', 'PRR4', 'PRR4_PRH1', 'PRR4_TAS2R14', 'PRR5', 'PRR5_ARHGAP8_PRR5_ARHGAP8', 'PRR5L', 'PRR7', 'PRR7_AS1', 'PRRC1', 'PRRC2A', 'PRRC2A_snoU13', 'PRRC2B', 'PRRC2C', 'PRRG1', 'PRRG1_TM4SF2', 'PRRG2', 'PRRG4', 'PRRT1', 'PRRT2_MAZ', 'PRRT3', 'PRRT4', 'PRRX1', 'PRRX2', 'PRSS1', 'PRSS12', 'PRSS16', 'PRSS21', 'PRSS22', 'PRSS23', 'PRSS27', 'PRSS3', 'PRSS30P', 'PRSS33', 'PRSS35', 'PRSS36', 'PRSS36_Y_RNA', 'PRSS37', 'PRSS38', 'PRSS3P2', 'PRSS41', 'PRSS42', 'PRSS45', 'PRSS45_PRSS44', 'PRSS48', 'PRSS50', 'PRSS50_PRSS45', 'PRSS50_PRSS45_PRSS44', 'PRSS50_PRSS46', 'PRSS51', 'PRSS53', 'PRSS53_RP11_196G11_1', 'PRSS54', 'PRSS55', 'PRSS57', 'PRSS58', 'PRSS8', 'PRTFDC1', 'PRTG', 'PRTN3', 'PRUNE', 'PRUNE2', 'PRX', 'PRY', 'PRY2', 'PRYP3', 'PRYP4', 'PSAP', 'PSAT1', 'PSCA', 'PSD', 'PSD2', 'PSD3', 'PSD3_RPL35P6', 'PSD4', 'PSEN1', 'PSEN2', 'PSENEN_AC002398_9', 'PSG1', 'PSG10P', 'PSG11', 'PSG2', 'PSG3', 'PSG4', 'PSG5', 'PSG6', 'PSG7', 'PSG8', 'PSG8_PSG10P', 'PSG9', 'PSIP1', 'PSKH1', 'PSKH2', 'PSMA1', 'PSMA2', 'PSMA2_C7orf25', 'PSMA3', 'PSMA4', 'PSMA5', 'PSMA6', 'PSMA6_KIAA0391', 'PSMA7', 'PSMA8', 'PSMB1', 'PSMB10', 'PSMB10_CTC_479C5_12', 'PSMB11', 'PSMB2', 'PSMB3', 'PSMB4', 'PSMB5', 'PSMB5_AL132780_1', 'PSMB6', 'PSMB7', 'PSMB8', 'PSMB9', 'PSMC1', 'PSMC2', 'PSMC3', 'PSMC3IP', 'PSMC4', 'PSMC5', 'PSMC6', 'PSMD1', 'PSMD10_AMDP1_TRPC6P_TCEB1P24_DDX11L16_WASIR1', 'PSMD11', 'PSMD12', 'PSMD13', 'PSMD14', 'PSMD2', 'PSMD3', 'PSMD4', 'PSMD5', 'PSMD5_AS1', 'PSMD6', 'PSMD6_AS2', 'PSMD7', 'PSMD8', 'PSMD9', 'PSMD9_RP11_87C12_2', 'PSME1', 'PSME2', 'PSME3', 'PSME4', 'PSMF1', 'PSMG1', 'PSMG2', 'PSMG2_AP005482_1', 'PSMG3', 'PSMG3_AS1', 'PSMG4', 'PSORS1C1', 'PSORS1C2', 'PSORS1C3', 'PSPC1', 'PSPH', 'PSPN', 'PSRC1', 'PSTK', 'PSTPIP1', 'PSTPIP2', 'PTAFR', 'PTAR1', 'PTBP1', 'PTBP2', 'PTBP3', 'PTBP3_Y_RNA', 'PTCD2', 'PTCD3', 'PTCH1', 'PTCH2', 'PTCHD1', 'PTCHD2', 'PTCHD2_snoU13', 'PTCHD3', 'PTCHD3P1', 'PTCHD4', 'PTCRA', 'PTDSS1', 'PTDSS2', 'PTEN', 'PTER', 'PTF1A', 'PTGDR', 'PTGDR2', 'PTGDR2_RP11_804A23_4', 'PTGDS', 'PTGDS_LCNL1', 'PTGDS_RP11_229P13_19', 'PTGER1', 'PTGER2', 'PTGER3', 'PTGER4', 'PTGER4P2', 'PTGES', 'PTGES2', 'PTGES3', 'PTGES3L_AARSD1_AARSD1', 'PTGES3L_AARSD1_PTGES3L', 'PTGFR', 'PTGFRN', 'PTGIR', 'PTGIS', 'PTGR1', 'PTGR2', 'PTGR2_RP5_1021I20_4', 'PTGS1', 'PTGS2', 'PTH', 'PTH1R', 'PTH2', 'PTH2R', 'PTHLH', 'PTK2', 'PTK2B', 'PTK6', 'PTK7', 'PTMA', 'PTMS', 'PTN', 'PTOV1', 'PTOV1_AS1', 'PTP4A1', 'PTP4A2', 'PTP4A3', 'PTPDC1', 'PTPLA', 'PTPLAD1', 'PTPLAD2', 'PTPLB', 'PTPMT1', 'PTPMT1_NDUFS3', 'PTPN1', 'PTPN11', 'PTPN12', 'PTPN13', 'PTPN14', 'PTPN18', 'PTPN2', 'PTPN20A', 'PTPN20B', 'PTPN20CP', 'PTPN21', 'PTPN22', 'PTPN23', 'PTPN23_snoU13', 'PTPN3', 'PTPN4', 'PTPN5', 'PTPN6', 'PTPN7', 'PTPN9', 'PTPN9_CTD_2323K18_1', 'PTPRA', 'PTPRA_VPS16', 'PTPRB', 'PTPRC', 'PTPRCAP', 'PTPRD', 'PTPRE', 'PTPRF', 'PTPRG', 'PTPRG_AS1', 'PTPRH', 'PTPRJ', 'PTPRK', 'PTPRM', 'PTPRN', 'PTPRN2', 'PTPRO', 'PTPRQ', 'PTPRR', 'PTPRS', 'PTPRT', 'PTPRU', 'PTPRVP', 'PTPRZ1', 'PTRH1', 'PTRH2', 'PTRHD1', 'PTS', 'PTTG1', 'PTTG1IP', 'PTX3', 'PTX4', 'PUF60', 'PUM1', 'PUM2', 'PURG', 'PUS1', 'PUS10', 'PUS3', 'PUS7', 'PUS7L', 'PUSL1', 'PVALB', 'PVR', 'PVRIG_STAG3', 'PVRL1', 'PVRL2', 'PVRL3', 'PVRL4', 'PVT1', 'PWP1', 'PWP2', 'PWRN1', 'PWWP2A', 'PWWP2B', 'PXDC1', 'PXDN', 'PXDNL', 'PXK', 'PXMP2', 'PXMP2_RP13_672B3_2', 'PXMP4', 'PXN', 'PXN_AS1', 'PXT1', 'PYCARD', 'PYCR1', 'PYCR1_MYADML2', 'PYCR2', 'PYCR2_RP4_559A3_7', 'PYCRL', 'PYDC1', 'PYGB', 'PYGL', 'PYGM', 'PYGO1', 'PYGO2', 'PYHIN1', 'PYROXD1', 'PYROXD2', 'PYURF', 'PYURF_PIGY', 'PYY', 'PYY2', 'PZP', 'QARS', 'QDPR', 'QKI', 'QPCT', 'QPCTL', 'QPRT', 'QPRT_SPN', 'QRFPR', 'QRFPR_Y_RNA', 'QRICH1', 'QRICH2', 'QRSL1', 'QSER1', 'QSOX1', 'QSOX2', 'QTRT1', 'QTRTD1', 'R3HCC1', 'R3HCC1L', 'R3HDM1', 'R3HDM2', 'R3HDM2_RP11_123K3_4', 'R3HDM4', 'R3HDML', 'RAB10', 'RAB11A', 'RAB11B', 'RAB11B_AS1', 'RAB11FIP1', 'RAB11FIP2', 'RAB11FIP3', 'RAB11FIP4', 'RAB11FIP4_MIR4724', 'RAB11FIP5', 'RAB12', 'RAB13', 'RAB14', 'RAB15', 'RAB17', 'RAB18', 'RAB19', 'RAB1A', 'RAB1B', 'RAB20', 'RAB21', 'RAB22A', 'RAB23', 'RAB25', 'RAB26', 'RAB27A', 'RAB27B', 'RAB28', 'RAB2A', 'RAB2B', 'RAB30', 'RAB30_AS1', 'RAB31', 'RAB32', 'RAB33B', 'RAB34', 'RAB35', 'RAB36', 'RAB37', 'RAB38', 'RAB39A', 'RAB39B_AMDP1_TRPC6P_TCEB1P24_DDX11L16_WASIR1', 'RAB3A', 'RAB3B', 'RAB3C', 'RAB3D', 'RAB3D_TMEM205', 'RAB3GAP1', 'RAB3GAP2', 'RAB3GAP2_AURKAPS1', 'RAB3IL1', 'RAB3IP', 'RAB3IP_AC025263_3', 'RAB40A_AMDP1_TRPC6P_TCEB1P24_DDX11L16_WASIR1', 'RAB40B', 'RAB40C', 'RAB42', 'RAB43', 'RAB44', 'RAB4A', 'RAB4B_RAB4B_EGLN2', 'RAB4B_RAB4B_EGLN2_MIA_RAB4B', 'RAB5A', 'RAB5B', 'RAB5C', 'RAB5C_CTD_2132N18_3', 'RAB6A', 'RAB6B', 'RAB6C', 'RAB7A', 'RAB7L1', 'RAB8A', 'RAB8A_snoU13', 'RAB8B', 'RAB9A', 'RAB9B_AMDP1_TRPC6P_TCEB1P24_DDX11L16_WASIR1', 'RABAC1', 'RABEP1', 'RABEP2', 'RABEPK', 'RABGAP1', 'RABGAP1L', 'RABGEF1', 'RABGGTA', 'RABGGTB', 'RABGGTB_ACADM', 'RABGGTB_SNORD45A', 'RABGGTB_SNORD45B', 'RABGGTB_SNORD45C', 'RABL2A', 'RABL2B', 'RABL3', 'RABL5', 'RABL6', 'RABL6_KIAA1984_RP11_216L13_19', 'RABL6_RP11_216L13_18', 'RAC1', 'RAC2', 'RAC3', 'RACGAP1', 'RAD1', 'RAD17', 'RAD18', 'RAD21', 'RAD21_MIR3610', 'RAD21_AS1', 'RAD21L1', 'RAD21L1_SNPH', 'RAD23A', 'RAD23B', 'RAD50', 'RAD51', 'RAD51_AS1', 'RAD51AP1', 'RAD51AP2', 'RAD51B', 'RAD51C', 'RAD51D', 'RAD51D_RAD51L3_RFFL', 'RAD52', 'RAD52_RP11_359B12_2', 'RAD54B', 'RAD54L', 'RAD54L2', 'RAD9A', 'RAD9B', 'RADIL', 'RADIL_SNORA31', 'RAE1', 'RAET1E', 'RAET1E_AS1_RP11_244K5_8', 'RAET1G', 'RAET1K', 'RAET1L', 'RAF1', 'RAG1', 'RAI1', 'RAI14', 'RAI2', 'RALA', 'RALB', 'RALBP1', 'RALGAPA1', 'RALGAPA1_AL162311_1', 'RALGAPA2', 'RALGAPB', 'RALGAPB_U3', 'RALGDS', 'RALGPS1', 'RALGPS1_snoU13', 'RALGPS2', 'RALY', 'RALYL', 'RAMP1', 'RAMP2', 'RAMP2_AS1', 'RAMP3', 'RAN', 'RANBP1', 'RANBP10', 'RANBP10_Y_RNA', 'RANBP17', 'RANBP2', 'RANBP3', 'RANBP3L', 'RANBP9', 'RANGAP1', 'RANGRF', 'RAP1A', 'RAP1B', 'RAP1GAP', 'RAP1GAP2', 'RAP1GDS1', 'RAP2A', 'RAP2C_AMDP1_TRPC6P_TCEB1P24_DDX11L16_WASIR1', 'RAPGEF1', 'RAPGEF2', 'RAPGEF3', 'RAPGEF4', 'RAPGEF4_AS1', 'RAPGEF5', 'RAPGEF6', 'RAPGEF6_CTC_432M15_3', 'RAPGEFL1', 'RAPH1', 'RAPSN', 'RARA', 'RARB', 'RARG', 'RARRES1', 'RARRES2', 'RARRES3', 'RARS', 'RARS2', 'RASA1', 'RASA2', 'RASA3', 'RASA4', 'RASA4_RP11_514P8_6', 'RASA4_RP11_514P8_7_RP11_514P8_6', 'RASA4B', 'RASA4B_RP11_514P8_8', 'RASA4CP', 'RASAL1', 'RASAL2', 'RASAL2_AS1', 'RASAL3', 'RASD2', 'RASEF', 'RASGEF1A', 'RASGEF1B', 'RASGEF1C', 'RASGRF1', 'RASGRF2', 'RASGRP1', 'RASGRP2', 'RASGRP3', 'RASGRP4', 'RASIP1', 'RASL10A', 'RASL10B', 'RASL11A', 'RASL11B', 'RASL12', 'RASSF1', 'RASSF2', 'RASSF3', 'RASSF4', 'RASSF5', 'RASSF6', 'RASSF7', 'RASSF8', 'RASSF8_AS1', 'RASSF9', 'RAVER1', 'RAVER1_CTD_2369P2_12', 'RAVER2', 'RAX', 'RAX2', 'RB1', 'RB1CC1', 'RBAK_RBAK_RBAKDN', 'RBAK_RBAKDN_RBAKDN', 'RBBP4', 'RBBP5', 'RBBP6', 'RBBP7', 'RBBP8', 'RBBP8_MIR4741', 'RBBP8NL', 'RBBP9', 'RBCK1', 'RBFA', 'RBFA_RP11_795F19_5', 'RBFADN', 'RBFADN_RP11_795F19_5', 'RBFOX1', 'RBFOX1_RP11_420N3_2', 'RBFOX2', 'RBFOX3', 'RBKS', 'RBL2', 'RBM10', 'RBM11', 'RBM12B', 'RBM12B_AS1', 'RBM14_RBM4_RBM14_RBM4', 'RBM15', 'RBM17', 'RBM18', 'RBM19', 'RBM20', 'RBM22', 'RBM23', 'RBM24', 'RBM25', 'RBM26', 'RBM26_AS1', 'RBM27', 'RBM27_POU4F3', 'RBM28', 'RBM3', 'RBM33', 'RBM38', 'RBM39', 'RBM41_AMDP1_TRPC6P_TCEB1P24_DDX11L16_WASIR1', 'RBM42', 'RBM43', 'RBM44', 'RBM45', 'RBM46', 'RBM47', 'RBM48', 'RBM4B', 'RBM5', 'RBM5_RBM6', 'RBM6', 'RBM7_RP11_212D19_4', 'RBM8A', 'RBMS1', 'RBMS2', 'RBMS3', 'RBMXL1_CCBL2', 'RBMXL2', 'RBMY1A1', 'RBMY1A1_RBMY1B', 'RBMY1A3P', 'RBMY1B', 'RBMY1D', 'RBMY1D_RBMY1E', 'RBMY1E', 'RBMY1F', 'RBMY1J', 'RBMY2EP', 'RBMY2FP', 'RBMY2FP_RBMY1J', 'RBMY3AP', 'RBP1', 'RBP2', 'RBP3', 'RBP4', 'RBP5', 'RBP7', 'RBPJ', 'RBPJL', 'RBPMS', 'RBPMS_AS1', 'RBPMS2', 'RBX1_XPNPEP3', 'RC3H1', 'RC3H2', 'RCAN1', 'RCAN2', 'RCAN3', 'RCBTB1', 'RCBTB2', 'RCC1', 'RCC1_SNHG3', 'RCC2', 'RCC2_AC004824_1', 'RCCD1', 'RCE1', 'RCE1_C11orf80', 'RCHY1', 'RCL1', 'RCN1', 'RCN2', 'RCN3', 'RCOR1', 'RCOR2', 'RCOR3', 'RCSD1', 'RCVRN', 'RD3', 'RDH10', 'RDH11', 'RDH11_RP11_1012A1_4', 'RDH12', 'RDH13', 'RDH13_CTC_550B14_6', 'RDH14', 'RDH16', 'RDH5', 'RDH5_RP11_644F5_10', 'RDH8', 'RDM1', 'RDX', 'REC8', 'RECK', 'RECQL', 'RECQL4', 'RECQL5', 'REEP1', 'REEP2', 'REEP3', 'REEP4', 'REEP5', 'REEP6', 'REG1A', 'REG1B', 'REG1P', 'REG3A', 'REG3G', 'REG4', 'REL', 'RELA', 'RELB', 'RELL1', 'RELL2', 'RELN', 'RELT', 'REM1', 'REM2', 'REN', 'RENBP_AMDP1_TRPC6P_TCEB1P24_DDX11L16_WASIR1', 'REP15', 'REPIN1', 'REPS1', 'REPS2', 'RER1', 'RERE', 'RERG', 'RERGL', 'RESP18', 'REST', 'RET', 'RETN', 'RETNLB', 'RETSAT', 'REV1', 'REV3L', 'REXO1', 'REXO1L10P', 'REXO1L11P', 'REXO1L2P', 'REXO1L3P', 'REXO1L9P', 'REXO2', 'REXO2_RP11_212D19_4', 'REXO4', 'RFC1', 'RFC2', 'RFC3', 'RFC4', 'RFC5', 'RFESD', 'RFFL', 'RFFL_RAD51L3_RFFL', 'RFK', 'RFNG', 'RFPL1', 'RFPL2', 'RFPL3', 'RFPL3S', 'RFPL4A', 'RFT1', 'RFT1_RP11_894J14_5', 'RFTN1', 'RFTN1P1', 'RFTN2', 'RFWD2', 'RFWD3', 'RFX1', 'RFX2', 'RFX3', 'RFX4', 'RFX5', 'RFX6', 'RFX7', 'RFX8', 'RFXANK', 'RFXAP', 'RGCC', 'RGL1', 'RGL2', 'RGL3', 'RGL4', 'RGMA', 'RGMA_RP11_368J22_2', 'RGMB', 'RGMB_AS1', 'RGN', 'RGP1', 'RGPD1', 'RGPD1_ANAPC1P1', 'RGPD2', 'RGPD3', 'RGPD4', 'RGPD5', 'RGPD6', 'RGPD8', 'RGR', 'RGS1', 'RGS10', 'RGS11', 'RGS12', 'RGS12_snoU13', 'RGS13', 'RGS14', 'RGS16', 'RGS17', 'RGS18', 'RGS19', 'RGS2', 'RGS20', 'RGS21', 'RGS22', 'RGS3', 'RGS4', 'RGS5', 'RGS5_RP11_267N12_3', 'RGS6', 'RGS7', 'RGS7BP', 'RGS8', 'RGS9', 'RGS9BP', 'RGSL1', 'RHAG', 'RHBDD1', 'RHBDD2', 'RHBDD3', 'RHBDF1', 'RHBDF2', 'RHBDL1', 'RHBDL2', 'RHBDL3', 'RHBDL3_RP11_227G15_3', 'RHBG', 'RHCE', 'RHCG', 'RHD', 'RHEB', 'RHEBL1', 'RHEBP1_FAM35BP', 'RHNO1', 'RHO', 'RHOA', 'RHOBTB1', 'RHOBTB2', 'RHOBTB2_snoU13', 'RHOBTB3', 'RHOC', 'RHOC_RP11_426L16_10', 'RHOD', 'RHOF', 'RHOF_AC084018_1', 'RHOG', 'RHOH', 'RHOJ', 'RHOQ', 'RHOT1', 'RHOT2', 'RHOU', 'RHOV', 'RHOXF1_AMDP1_TRPC6P_TCEB1P24_DDX11L16_WASIR1', 'RHPN1', 'RHPN2', 'RIBC1', 'RIBC2', 'RIC3', 'RIC3_Y_RNA', 'RIC8A', 'RIC8B', 'RICTOR', 'RIF1', 'RIIAD1', 'RIIAD1_AL589765_1', 'RILP', 'RILPL1', 'RILPL2', 'RIMBP2', 'RIMBP2_RP11_662M24_2', 'RIMKLA', 'RIMKLB', 'RIMS1', 'RIMS2', 'RIMS3', 'RIMS4', 'RIN1', 'RIN2', 'RIN3', 'RING1', 'RINL', 'RINT1', 'RIOK1', 'RIOK2', 'RIOK3', 'RIPK1', 'RIPK2', 'RIPK3', 'RIPK3_RP11_934B9_3', 'RIPK4', 'RIPPLY1_AMDP1_TRPC6P_TCEB1P24_DDX11L16_WASIR1', 'RIPPLY2', 'RIPPLY3', 'RIT1', 'RIT2', 'RLBP1', 'RLF', 'RLIM_AMDP1_TRPC6P_TCEB1P24_DDX11L16_WASIR1', 'RLN1', 'RLN2', 'RLN3', 'RLTPR', 'RMDN1', 'RMDN2', 'RMDN3', 'RMI1', 'RMI2', 'RMND1', 'RMND5A', 'RMND5B', 'RMST', 'RN7SL860P_CTC_457E21_3', 'RNASE1', 'RNASE10', 'RNASE11', 'RNASE11_RNASE12', 'RNASE13', 'RNASE2', 'RNASE3', 'RNASE4_AL163636_6_ANG', 'RNASE4_ANG', 'RNASE6', 'RNASE7', 'RNASE9', 'RNASEH1', 'RNASEH1_RP13_512J5_1', 'RNASEH2A', 'RNASEH2B', 'RNASEH2C', 'RNASEK_RNASEK_C17orf49', 'RNASEL', 'RNASET2', 'RNASET2_RP11_514O12_4', 'RND1', 'RND2', 'RND3', 'RNF10', 'RNF103', 'RNF103_CHMP3_RNF103_CHMP3', 'RNF11', 'RNF111', 'RNF112', 'RNF113B', 'RNF114', 'RNF115', 'RNF121', 'RNF122', 'RNF123', 'RNF125', 'RNF125_RP11_53I6_2', 'RNF126', 'RNF13', 'RNF130', 'RNF133', 'RNF135', 'RNF138', 'RNF138_RP11_53I6_2', 'RNF139', 'RNF139_AS1', 'RNF14', 'RNF141', 'RNF144A', 'RNF144A_AS1', 'RNF144B', 'RNF145', 'RNF146', 'RNF148', 'RNF149', 'RNF150', 'RNF151', 'RNF152', 'RNF157', 'RNF157_AS1', 'RNF165', 'RNF166', 'RNF167', 'RNF168', 'RNF169', 'RNF17', 'RNF17_snoU13', 'RNF170', 'RNF175', 'RNF180', 'RNF181', 'RNF182', 'RNF183', 'RNF185', 'RNF185_AS1', 'RNF187', 'RNF19A', 'RNF19B', 'RNF2', 'RNF20', 'RNF207', 'RNF212', 'RNF213', 'RNF214', 'RNF215', 'RNF216', 'RNF216P1', 'RNF216P1_RBAK_RBAKDN', 'RNF217', 'RNF219', 'RNF219_AS1', 'RNF220', 'RNF222', 'RNF224', 'RNF24', 'RNF25', 'RNF31', 'RNF31_IRF9_RP11_468E2_4', 'RNF31_RP11_468E2_4', 'RNF32', 'RNF34', 'RNF38', 'RNF39', 'RNF4', 'RNF40', 'RNF41', 'RNF43', 'RNF44', 'RNF5', 'RNF6', 'RNF6_ATP8A2P3', 'RNF6_SNORA31', 'RNF7', 'RNF8', 'RNFT1', 'RNFT1_TBC1D3P1_DHX40P1', 'RNFT2', 'RNGTT', 'RNH1', 'RNLS', 'RNMT', 'RNMTL1', 'RNPC3', 'RNPEP', 'RNPEPL1', 'RNPS1', 'RNU11', 'RNU2_52P', 'RNU4ATAC', 'RNU6ATAC', 'ROBO1', 'ROBO1_SNORD112', 'ROBO2', 'ROBO3', 'ROBO4', 'ROCK1', 'ROCK1P1', 'ROCK2', 'ROGDI', 'ROM1', 'ROMO1', 'ROPN1', 'ROPN1B', 'ROPN1L', 'ROR1', 'ROR2', 'RORA', 'RORB', 'RORC', 'ROS1', 'ROS1_GOPC', 'RP1', 'RP1_102H19_8', 'RP1_104O17_1', 'RP1_104O17_1_RP1_104O17_2', 'RP1_111D6_3', 'RP1_122P22_2', 'RP1_137D17_1', 'RP1_152L7_5', 'RP1_179N16_6', 'RP1_197B17_3', 'RP1_199J3_5', 'RP1_1J6_2', 'RP1_206D15_3', 'RP1_207H1_3', 'RP1_212G6_7', 'RP1_230L10_1', 'RP1_232N11_2', 'RP1_234P15_4', 'RP1_240K6_3', 'RP1_249H1_4', 'RP1_257A15_1', 'RP1_257A7_4', 'RP1_27K12_2', 'RP1_27O5_3', 'RP1_27O5_3_ZBTB8B', 'RP1_283E3_4', 'RP1_283K11_2', 'RP1_283K11_3', 'RP1_292B18_4', 'RP1_293L6_1', 'RP1_297M16_2', 'RP1_30G7_2', 'RP1_37N7_3', 'RP1_40E16_9', 'RP1_46F2_2', 'RP1_60O19_1', 'RP1_62O9_3', 'RP1_63G5_7', 'RP1_66C13_4', 'RP1_69D17_3', 'RP1_69D17_4', 'RP1_74M1_3', 'RP1_85F18_5', 'RP1_93H18_1', 'RP11_1000B6_3', 'RP11_1006G14_1', 'RP11_1007I13_4_AMDP1_MAGEA5_TRPC6P_TCEB1P24_DDX11L16_WASIR1', 'RP11_1008C21_1', 'RP11_100G15_7', 'RP11_100L22_2', 'RP11_1016B18_1', 'RP11_1018N14_2', 'RP11_104H15_7', 'RP11_1055B8_7', 'RP11_1055B8_7_RP11_1055B8_6', 'RP11_1069G10_1', 'RP11_106M3_3', 'RP11_106M7_1', 'RP11_1070N10_4', 'RP11_1078H9_5', 'RP11_1079K10_5', 'RP11_107I14_4', 'RP11_1084J3_4_C1QTNF3', 'RP11_108K14_4', 'RP11_108K3_3', 'RP11_108M9_4', 'RP11_1096D5_1', 'RP11_109J4_1', 'RP11_109L13_1', 'RP11_10A14_5', 'RP11_10C8_2', 'RP11_10K16_1', 'RP11_10L12_4', 'RP11_10L7_1', 'RP11_10N16_2', 'RP11_10O22_1', 'RP11_1102P16_1', 'RP11_110G21_1', 'RP11_111F5_4', 'RP11_111F5_5', 'RP11_111F5_8', 'RP11_111G23_1', 'RP11_111I12_1', 'RP11_111M22_2', 'RP11_1129I3_1', 'RP11_1137G4_4', 'RP11_113D6_10', 'RP11_1149O23_3', 'RP11_114G22_1', 'RP11_114H20_1', 'RP11_114H24_2', 'RP11_115C10_1', 'RP11_115C21_2', 'RP11_115H18_1', 'RP11_115J16_1', 'RP11_115K3_2', 'RP11_118H17_1', 'RP11_1191J2_2', 'RP11_119B16_2', 'RP11_119D9_1', 'RP11_11N9_4', 'RP11_120D5_1', 'RP11_1212A22_1', 'RP11_1212A22_4', 'RP11_121M22_1', 'RP11_1220K2_2', 'RP11_1223D19_1', 'RP11_122D10_1', 'RP11_1236K1_8', 'RP11_125B21_2', 'RP11_126K1_2', 'RP11_1277A3_2', 'RP11_1280N14_3', 'RP11_129J12_1', 'RP11_129J12_2', 'RP11_129M6_1', 'RP11_12A2_3', 'RP11_12A20_7', 'RP11_12J10_3', 'RP11_12L8_1', 'RP11_12M5_1', 'RP11_130F10_1', 'RP11_1319K7_1', 'RP11_131J3_1', 'RP11_131L23_1', 'RP11_132A1_4', 'RP11_1336O20_2', 'RP11_1348G14_4', 'RP11_134O21_1', 'RP11_134P9_1', 'RP11_135J2_4', 'RP11_136K7_2', 'RP11_137L10_6', 'RP11_1391J7_1', 'RP11_1398P2_1', 'RP11_13A1_1', 'RP11_13K12_2', 'RP11_1407O15_2', 'RP11_1407O15_2_TBC1D3', 'RP11_140I24_1', 'RP11_1415C14_3', 'RP11_1415C14_4', 'RP11_141J13_5', 'RP11_141M1_3', 'RP11_142C4_6', 'RP11_142I20_1', 'RP11_143A12_3', 'RP11_143M1_2', 'RP11_143M1_3', 'RP11_144G6_12_BMS1P2', 'RP11_144L1_4', 'RP11_145A3_1', 'RP11_145E5_5_CDKN2B_AS1', 'RP11_145E5_5_MTAP', 'RP11_146D12_2', 'RP11_146N18_1', 'RP11_147N17_1', 'RP11_148K1_12', 'RP11_148L24_1', 'RP11_14J7_6', 'RP11_14N7_2', 'RP11_152F13_3', 'RP11_152F13_7', 'RP11_152F13_8_UBE2Q2P3', 'RP11_152N13_5', 'RP11_154D17_1', 'RP11_154D3_1', 'RP11_154H17_1', 'RP11_156L14_1', 'RP11_158D2_2', 'RP11_158H5_7', 'RP11_15A1_7', 'RP11_15B17_1', 'RP11_15H20_6', 'RP11_15H20_6_RP11_15H20_7', 'RP11_15J10_1', 'RP11_161H23_5', 'RP11_161M6_2', 'RP11_162J8_2', 'RP11_163N6_2', 'RP11_164C12_2', 'RP11_164H13_1', 'RP11_164J13_1', 'RP11_165P7_1', 'RP11_166A12_1', 'RP11_166D19_1', 'RP11_166O4_5', 'RP11_168E17_1', 'RP11_168K9_2', 'RP11_168O16_1', 'RP11_169D4_1', 'RP11_169F17_1', 'RP11_169K16_7', 'RP11_169K16_9', 'RP11_169L17_5', 'RP11_16L9_3', 'RP11_170N11_1', 'RP11_171I2_2', 'RP11_175K6_1', 'RP11_176H8_1', 'RP11_177H13_2', 'RP11_178C3_2', 'RP11_178C3_2_RP11_178C3_1', 'RP11_179A16_1', 'RP11_17A4_2', 'RP11_17M15_2', 'RP11_17M16_1', 'RP11_181C3_1', 'RP11_181F12_1', 'RP11_182I10_3', 'RP11_183M13_1', 'RP11_188C12_3', 'RP11_18F14_1', 'RP11_18H21_1', 'RP11_18H7_1', 'RP11_18I14_10', 'RP11_191L9_4', 'RP11_192H23_4', 'RP11_193H5_1', 'RP11_195E2_1', 'RP11_196O2_1', 'RP11_196P2_1', 'RP11_197P3_4', 'RP11_19O2_2', 'RP11_1H15_2', 'RP11_202D1_2', 'RP11_203B9_4', 'RP11_203I2_1', 'RP11_204M4_2', 'RP11_205M3_3', 'RP11_206L10_11', 'RP11_206L10_2', 'RP11_206L10_3', 'RP11_20B24_5', 'RP11_20I23_8', 'RP11_211G23_1', 'RP11_211N8_7', 'RP11_212P7_3_METTL2B', 'RP11_213G2_3', 'RP11_215E13_1', 'RP11_217B7_2', 'RP11_218M22_1', 'RP11_219B17_1', 'RP11_219B17_1_CTD_2501E16_2', 'RP11_21C4_1', 'RP11_221J22_1', 'RP11_221J22_1_RP11_221J22_2', 'RP11_228B15_4', 'RP11_229P13_19', 'RP11_22B23_1', 'RP11_230G5_2', 'RP11_231C14_3_RP11_345J4_5', 'RP11_231C14_4', 'RP11_231P20_2', 'RP11_232C2_1', 'RP11_234K24_3', 'RP11_236J17_3', 'RP11_236J17_5', 'RP11_236P13_1', 'RP11_239L20_3', 'RP11_23D24_2', 'RP11_23F23_2', 'RP11_23J9_3', 'RP11_23J9_5_CCDC180_RP11_23J9_4', 'RP11_23J9_5_CCDC180_RP11_23J9_4_RP11_23J9_6', 'RP11_23J9_5_CCDC180_RP11_23J9_4_RP11_23J9_7', 'RP11_23J9_5_CCDC180_RP11_23J9_7', 'RP11_242D8_1', 'RP11_244F12_3', 'RP11_244H18_1', 'RP11_244K5_6', 'RP11_245M24_1', 'RP11_247A12_2', 'RP11_247C2_2', 'RP11_24J23_2', 'RP11_24M17_5', 'RP11_24P4_1', 'RP11_250H24_6', 'RP11_251M1_1', 'RP11_251P6_1', 'RP11_252A24_2', 'RP11_252A24_2_AC009120_6', 'RP11_252C15_1', 'RP11_257K9_8', 'RP11_258F1_1', 'RP11_259A24_1', 'RP11_260O18_1', 'RP11_261C10_3', 'RP11_262H14_1', 'RP11_262H14_3', 'RP11_262H14_4', 'RP11_264C15_2', 'RP11_265P11_2', 'RP11_266L9_2', 'RP11_266L9_5', 'RP11_266O8_1', 'RP11_267C16_1', 'RP11_268G12_1', 'RP11_26J3_1', 'RP11_273G15_2', 'RP11_274B21_4_RP11_274B21_3_RP11_274B21_2', 'RP11_276H19_1', 'RP11_276H19_2', 'RP11_277P12_20', 'RP11_278H7_1', 'RP11_279F6_1', 'RP11_279F6_3', 'RP11_27I1_4', 'RP11_280G9_1', 'RP11_280O1_2', 'RP11_284J1_1', 'RP11_286B14_1', 'RP11_286E11_1', 'RP11_287D1_3', 'RP11_288H12_3', 'RP11_290F20_1', 'RP11_290F20_3', 'RP11_290F5_1', 'RP11_290F5_2', 'RP11_290H9_4', 'RP11_292B8_1', 'RP11_293M10_5', 'RP11_294O2_2', 'RP11_295G24_4', 'RP11_295M18_2', 'RP11_295P9_3', 'RP11_296I10_3', 'RP11_296I10_6', 'RP11_296O14_3', 'RP11_297H3_4', 'RP11_298H24_1', 'RP11_298O21_5', 'RP11_299H21_1', 'RP11_29H23_5', 'RP11_2A4_3', 'RP11_2O17_2', 'RP11_300J18_3', 'RP11_301G19_1', 'RP11_301H24_3', 'RP11_303G3_6', 'RP11_305P22_9', 'RP11_307C19_3', 'RP11_307E17_8', 'RP11_307O10_1', 'RP11_308N19_1', 'RP11_308N19_4', 'RP11_309E23_2', 'RP11_309I15_1', 'RP11_30L15_6', 'RP11_30P6_6', 'RP11_310E22_4', 'RP11_313J2_1', 'RP11_313P13_3', 'RP11_313P13_3_RP11_313P13_4', 'RP11_313P13_4', 'RP11_314O13_1', 'RP11_315I14_2', 'RP11_316P17_2', 'RP11_318C4_2', 'RP11_318K12_1', 'RP11_318M2_2', 'RP11_319E12_1', 'RP11_319E16_1', 'RP11_31F15_1', 'RP11_31F15_2', 'RP11_31F19_1', 'RP11_31I22_1', 'RP11_31I22_3', 'RP11_321F6_1', 'RP11_322L20_1', 'RP11_324H6_5', 'RP11_325F22_2', 'RP11_325F22_5', 'RP11_325I22_2', 'RP11_325L7_1', 'RP11_326C3_11', 'RP11_327I22_5', 'RP11_327I22_6', 'RP11_328M4_3', 'RP11_32B5_1', 'RP11_332O19_5', 'RP11_333E1_1', 'RP11_333E13_4', 'RP11_334A14_8', 'RP11_335E6_4', 'RP11_335K5_2', 'RP11_338C15_5', 'RP11_33A14_1', 'RP11_33B1_1', 'RP11_33G16_1', 'RP11_340I6_8', 'RP11_341A22_2', 'RP11_341G5_1', 'RP11_343J18_1', 'RP11_344E13_3', 'RP11_344E13_3_AC090774_2_RP11_381P6_1', 'RP11_344E13_3_RP11_381P6_1', 'RP11_344E13_3_RP11_746M1_2_RP11_381P6_1', 'RP11_344G13_1', 'RP11_344J7_2', 'RP11_345F18_1', 'RP11_345J4_3', 'RP11_345J4_6', 'RP11_345J4_8', 'RP11_346D14_1', 'RP11_346D6_6', 'RP11_347C12_1', 'RP11_347C12_2', 'RP11_347C12_2_RP11_347C12_1', 'RP11_347C12_3', 'RP11_347D21_2', 'RP11_347E10_1', 'RP11_347H15_5', 'RP11_348J24_2', 'RP11_349A22_5', 'RP11_350D23_4', 'RP11_351J23_1', 'RP11_351J23_2', 'RP11_353N14_4', 'RP11_353N4_2', 'RP11_353N4_6', 'RP11_353N4_7', 'RP11_353N4_7_RP11_353N4_8', 'RP11_353N4_8', 'RP11_354E11_2', 'RP11_355N15_1', 'RP11_356I2_4', 'RP11_359G22_2', 'RP11_35G9_5_RP11_35G9_3', 'RP11_35J10_5_RP11_494M8_4', 'RP11_360P21_2', 'RP11_362F19_1', 'RP11_363G10_2', 'RP11_363N22_2', 'RP11_364P22_1', 'RP11_365D23_4', 'RP11_366L20_2', 'RP11_366M4_3', 'RP11_367J11_3', 'RP11_367N14_2', 'RP11_368I7_4', 'RP11_368J21_3', 'RP11_368M16_4', 'RP11_371I1_2', 'RP11_372E1_4', 'RP11_373N22_3', 'RP11_377D9_3', 'RP11_378A12_1', 'RP11_378I13_1', 'RP11_379F4_4', 'RP11_379H18_1', 'RP11_379K17_4', 'RP11_381O7_3', 'RP11_383C5_3', 'RP11_383C5_4', 'RP11_383H13_1', 'RP11_383M4_2_RP11_383M4_6', 'RP11_383M4_6', 'RP11_384F7_1', 'RP11_384K6_2_RP11_384K6_6', 'RP11_384K6_6', 'RP11_385D13_1', 'RP11_385J1_2', 'RP11_386B13_3', 'RP11_386G11_10', 'RP11_386M24_3', 'RP11_386M24_4', 'RP11_387D10_3', 'RP11_388M20_9', 'RP11_389E17_1', 'RP11_38F22_1', 'RP11_390F4_3', 'RP11_390P2_4', 'RP11_391M20_1', 'RP11_392B6_1', 'RP11_392P7_6', 'RP11_394A14_2', 'RP11_395B7_2', 'RP11_395L14_4', 'RP11_395L14_5', 'RP11_395P17_3', 'RP11_396C23_2', 'RP11_396K3_1', 'RP11_397A16_2', 'RP11_398G24_2', 'RP11_398K22_12', 'RP11_399D6_2', 'RP11_399J13_3_SNX15', 'RP11_3B12_1', 'RP11_3B12_3', 'RP11_3N2_13_ZNF727', 'RP11_400D2_2', 'RP11_400K9_4', 'RP11_401P9_5', 'RP11_402L6_1', 'RP11_403B2_7', 'RP11_403I13_5', 'RP11_404K5_2', 'RP11_404O13_1', 'RP11_404O13_5', 'RP11_407B7_1', 'RP11_408E5_5', 'RP11_408H1_3', 'RP11_408H20_3', 'RP11_410N8_4', 'RP11_411K7_1', 'RP11_413G15_1', 'RP11_416A17_6', 'RP11_416O18_1', 'RP11_417E7_2', 'RP11_417F21_1', 'RP11_417J8_3', 'RP11_417J8_6', 'RP11_417J8_6_ANKRD20A12P', 'RP11_418J17_1', 'RP11_420A23_1', 'RP11_420G6_4', 'RP11_420N3_2', 'RP11_421L10_1', 'RP11_421L21_3', 'RP11_422J15_1', 'RP11_422N16_3', 'RP11_423H2_1', 'RP11_423H2_3', 'RP11_423O2_5', 'RP11_425I13_3', 'RP11_426A6_5', 'RP11_426L16_8', 'RP11_428J1_5', 'RP11_429E11_3', 'RP11_429H9_4', 'RP11_429J17_2', 'RP11_430B1_2', 'RP11_430C7_4', 'RP11_430H10_2', 'RP11_431M7_3', 'RP11_432J24_5', 'RP11_433J20_1', 'RP11_434C1_1', 'RP11_434D2_3', 'RP11_434D9_1', 'RP11_434I12_2', 'RP11_435B5_4', 'RP11_436I24_1', 'RP11_436K8_1', 'RP11_438J1_1_GHRLOS', 'RP11_438N16_1', 'RP11_439E19_3', 'RP11_439L18_3', 'RP11_439L8_4', 'RP11_43F13_1', 'RP11_43N5_1', 'RP11_440G9_1', 'RP11_443A13_5', 'RP11_443B7_1', 'RP11_443P15_2', 'RP11_444D3_1', 'RP11_445F12_1', 'RP11_445H22_3', 'RP11_445H22_3_RP11_445H22_4', 'RP11_445H22_4', 'RP11_445N18_7', 'RP11_446E24_4_CDCP2', 'RP11_449D8_1', 'RP11_44F21_3', 'RP11_451G4_1', 'RP11_451G4_2', 'RP11_451H23_3', 'RP11_451M19_3', 'RP11_451O13_1', 'RP11_452N4_1', 'RP11_453E2_2', 'RP11_454P21_1', 'RP11_455G16_1', 'RP11_456O19_4', 'RP11_458D21_1', 'RP11_458K10_2', 'RP11_45M22_4', 'RP11_45P15_4', 'RP11_460E7_9', 'RP11_460N16_1', 'RP11_461O7_1', 'RP11_464F9_1_AGAP5', 'RP11_464F9_1_BMS1P4_RP11_574K11_28', 'RP11_464F9_1_RP11_574K11_29_RP11_574K11_28', 'RP11_464O2_2', 'RP11_465B22_3', 'RP11_465B22_5', 'RP11_466F5_6', 'RP11_466F5_8', 'RP11_466L17_1', 'RP11_467L19_8', 'RP11_467L20_10', 'RP11_467N20_5', 'RP11_468B6_1', 'RP11_468E2_9', 'RP11_469A15_2', 'RP11_46A10_5', 'RP11_470E16_1', 'RP11_473M20_14', 'RP11_473M20_7', 'RP11_474D1_3', 'RP11_475I24_8', 'RP11_475O6_1', 'RP11_477D19_2', 'RP11_478K7_2', 'RP11_47I22_3', 'RP11_480C22_1', 'RP11_480D4_1', 'RP11_480D4_1_RP11_480D4_2', 'RP11_480I12_4', 'RP11_480I12_5', 'RP11_480I12_7', 'RP11_480I12_7_RP11_480I12_9', 'RP11_481G8_2', 'RP11_481J13_1', 'RP11_482D24_2', 'RP11_482H16_1_RP11_481J13_1', 'RP11_482M8_1', 'RP11_483E23_2', 'RP11_483I13_2', 'RP11_485M7_3', 'RP11_486L19_2', 'RP11_488C13_5', 'RP11_488I20_3', 'RP11_488P3_1', 'RP11_48F14_1', 'RP11_492A10_1', 'RP11_492E3_2', 'RP11_493K19_3', 'RP11_494M8_4', 'RP11_495K9_3', 'RP11_495P10_1', 'RP11_495P10_2', 'RP11_495P10_3', 'RP11_496I9_1', 'RP11_497E19_1', 'RP11_497H16_2', 'RP11_497H16_5', 'RP11_497H16_7', 'RP11_497H16_8', 'RP11_497K21_1', 'RP11_498P14_3', 'RP11_498P14_5', 'RP11_499P20_2', 'RP11_49I11_1', 'RP11_4F22_2', 'RP11_500K19_1', 'RP11_503N18_1', 'RP11_503N18_1_RP11_503N18_3', 'RP11_504P24_4_RP11_504P24_3', 'RP11_504P24_4_RP11_504P24_6', 'RP11_504P24_8', 'RP11_506B6_6_RFPL4B', 'RP11_507M3_1', 'RP11_508N12_2', 'RP11_508N22_8', 'RP11_508N22_9_RP11_508N22_8', 'RP11_50C13_2', 'RP11_50E11_3', 'RP11_510C10_3', 'RP11_510D19_1', 'RP11_510H23_1', 'RP11_510M2_2', 'RP11_512H23_2_AMDP1_RP11_453F18_B_1_TRPC6P_TCEB1P24_DDX11L16_WASIR1', 'RP11_513O17_2', 'RP11_514P8_6', 'RP11_514P8_8', 'RP11_517H2_6', 'RP11_519G16_3', 'RP11_519M16_1', 'RP11_51M18_1', 'RP11_520B13_4', 'RP11_522D2_1', 'RP11_522I20_3', 'RP11_526A4_1', 'RP11_526D8_7_ANKRD19P', 'RP11_526I2_1', 'RP11_528A4_2', 'RP11_529H20_6', 'RP11_529K1_2', 'RP11_532F6_3', 'RP11_532N4_2', 'RP11_535M15_2', 'RP11_536C5_7', 'RP11_536O18_2', 'RP11_538P18_2', 'RP11_539G18_2', 'RP11_539I5_1', 'RP11_540A21_2', 'RP11_540D4_3', 'RP11_540K16_1', 'RP11_540O11_1', 'RP11_542B15_1', 'RP11_542K23_9', 'RP11_542P2_1', 'RP11_544L8_B_4', 'RP11_545I5_3', 'RP11_547D24_1', 'RP11_547I7_2', 'RP11_548O1_3', 'RP11_54D18_2', 'RP11_54D18_3', 'RP11_54O7_1', 'RP11_54O7_1_RP11_54O7_2', 'RP11_54O7_3', 'RP11_550P17_5', 'RP11_551L14_1', 'RP11_553A10_1', 'RP11_553A21_3', 'RP11_553L6_2', 'RP11_554A11_6', 'RP11_554D15_1', 'RP11_554F20_1', 'RP11_555F9_2', 'RP11_555J4_4', 'RP11_556N21_1', 'RP11_556N21_1_PSPC1P2', 'RP11_557H15_3', 'RP11_557H15_4', 'RP11_557H15_5', 'RP11_558F24_4', 'RP11_559N14_5', 'RP11_559N14_5_DNAH17_AS1', 'RP11_55K22_5', 'RP11_560G2_1', 'RP11_561C5_4', 'RP11_562A8_5', 'RP11_562F9_2', 'RP11_564D11_3', 'RP11_566K19_6', 'RP11_567J24_4', 'RP11_568K15_1', 'RP11_569G13_2', 'RP11_56A10_1', 'RP11_56L13_1', 'RP11_56M3_1', 'RP11_571M6_15_METTL21B', 'RP11_574K11_28', 'RP11_574M7_2', 'RP11_575F12_1', 'RP11_576D8_4', 'RP11_576E20_1', 'RP11_576I22_2', 'RP11_578F21_12', 'RP11_578F21_4', 'RP11_579E24_1', 'RP11_57A19_2', 'RP11_57H12_3', 'RP11_57H12_6', 'RP11_582J16_4', 'RP11_584P21_2', 'RP11_586D19_1', 'RP11_588G21_2', 'RP11_588H23_3', 'RP11_589F5_4', 'RP11_58E21_3', 'RP11_58E21_3_RP11_58E21_5', 'RP11_58E21_4', 'RP11_58G13_1', 'RP11_592B15_4', 'RP11_592B15_4_RP11_592B15_3_AGAP8', 'RP11_594N15_2', 'RP11_597D13_7', 'RP11_597D13_9', 'RP11_597K23_2', 'RP11_598D12_4', 'RP11_598F7_1', 'RP11_598F7_4', 'RP11_59E19_1', 'RP11_59J16_1', 'RP11_600K15_1', 'RP11_60I3_5', 'RP11_611D20_2', 'RP11_613D13_5', 'RP11_613D13_8', 'RP11_613M10_9_EXOSC3', 'RP11_613M10_9_SHB', 'RP11_617D20_1', 'RP11_617D20_1_AC021860_1', 'RP11_61A14_1', 'RP11_61I13_3', 'RP11_61L23_2', 'RP11_620J15_3', 'RP11_622K12_1', 'RP11_624J12_1', 'RP11_624M8_1', 'RP11_625H11_1', 'RP11_626I20_3', 'RP11_627G23_1', 'RP11_629G13_1', 'RP11_632K20_7', 'RP11_632K5_3', 'RP11_636O21_1', 'RP11_637A17_2', 'RP11_638F5_1', 'RP11_63P12_6', 'RP11_640M9_1', 'RP11_640M9_2', 'RP11_642P15_1', 'RP11_643M14_1', 'RP11_645C24_2', 'RP11_646E20_6_TMPRSS11BNL', 'RP11_647F2_2', 'RP11_64D22_2', 'RP11_653G8_2', 'RP11_656G20_1', 'RP11_65J3_1', 'RP11_661G16_2', 'RP11_661P17_1', 'RP11_664D7_4', 'RP11_666I19_2', 'RP11_669N7_2', 'RP11_66B24_4', 'RP11_66N24_3', 'RP11_66N24_4', 'RP11_670E13_3', 'RP11_670E13_5', 'RP11_672A2_1', 'RP11_673C5_2', 'RP11_673E1_1', 'RP11_677M14_7', 'RP11_678G14_4', 'RP11_680E19_1', 'RP11_680F20_6', 'RP11_680F8_1', 'RP11_682N22_1', 'RP11_68L18_1', 'RP11_693J15_5', 'RP11_693J15_5_RP11_693J15_4', 'RP11_693N9_2', 'RP11_696N14_1', 'RP11_698N11_4', 'RP11_69E11_4', 'RP11_69H14_6', 'RP11_6L6_3', 'RP11_6N17_1', 'RP11_6N17_2', 'RP11_701P16_1', 'RP11_701P16_4', 'RP11_701P16_5', 'RP11_702L6_4', 'RP11_704C2_1', 'RP11_704M14_1', 'RP11_704M14_1_U3', 'RP11_705C15_2', 'RP11_705C15_2_RP11_705C15_5', 'RP11_706O15_1', 'RP11_706O15_3', 'RP11_706O15_5', 'RP11_707M1_1', 'RP11_707O23_5', 'RP11_709D24_6', 'RP11_70F11_11', 'RP11_70F11_8', 'RP11_712B9_2', 'RP11_713M15_1', 'RP11_713P17_3', 'RP11_716D16_1', 'RP11_716O23_1', 'RP11_716O23_2', 'RP11_719J20_1', 'RP11_71E19_5', 'RP11_71N10_1', 'RP11_723O4_6', 'RP11_726G1_1', 'RP11_727A23_10', 'RP11_727A23_5', 'RP11_72L22_1', 'RP11_72M17_1', 'RP11_730K11_1', 'RP11_731F5_1_IGHE', 'RP11_736K20_6', 'RP11_739N10_1', 'RP11_73G16_1', 'RP11_744K17_9', 'RP11_744N12_3', 'RP11_749H17_1', 'RP11_74C13_3', 'RP11_74E24_2', 'RP11_752D24_2', 'RP11_752G15_9', 'RP11_756K15_2', 'RP11_758M4_1', 'RP11_758M4_4', 'RP11_758N13_1', 'RP11_75C9_1', 'RP11_75N4_2', 'RP11_760D2_1', 'RP11_760D2_11', 'RP11_760D2_5', 'RP11_760N9_1', 'RP11_761B3_1', 'RP11_763B22_9', 'RP11_766F14_2', 'RP11_766N7_3', 'RP11_767I20_1', 'RP11_768F21_1', 'RP11_76E12_1', 'RP11_76N22_2', 'RP11_771K4_1', 'RP11_774D14_1', 'RP11_774O3_3', 'RP11_778J15_1', 'RP11_778O17_4', 'RP11_77C3_3', 'RP11_77K12_7_TMEM231_RP11_77K12_8', 'RP11_782C8_1', 'RP11_783K16_14', 'RP11_785F11_1', 'RP11_788M5_3', 'RP11_789C17_3', 'RP11_792D21_2', 'RP11_793H13_3', 'RP11_794M8_1', 'RP11_794P6_2', 'RP11_795J1_1', 'RP11_796E2_4', 'RP11_796G6_2', 'RP11_798K23_3', 'RP11_799N11_1_CTC_297N7_11', 'RP11_799P8_1', 'RP11_79E3_3', 'RP11_7F17_3', 'RP11_7F17_4', 'RP11_804F13_1', 'RP11_804N13_1', 'RP11_806K15_1', 'RP11_807H7_1', 'RP11_809M12_1', 'RP11_80A15_1', 'RP11_80F22_9', 'RP11_80G7_1', 'RP11_80H5_7', 'RP11_80H5_9_RP11_80H5_7', 'RP11_813N20_1', 'RP11_814P5_1', 'RP11_81H3_2', 'RP11_81N13_1', 'RP11_820L6_1', 'RP11_822E23_8_RP11_822E23_6', 'RP11_829H16_3', 'RP11_834C11_3', 'RP11_834C11_4', 'RP11_834C11_7', 'RP11_835E18_5', 'RP11_835E18_5_LINC00526', 'RP11_838N2_4', 'RP11_843A23_1', 'RP11_844P9_2', 'RP11_845M18_6', 'RP11_848G14_2', 'RP11_848G14_5', 'RP11_848P1_9', 'RP11_849H4_2', 'RP11_84C10_2', 'RP11_84E24_3', 'RP11_855O10_2', 'RP11_85O21_2', 'RP11_862G15_1', 'RP11_863K10_2', 'RP11_863K10_7', 'RP11_863P13_4', 'RP11_867G23_3', 'RP11_872D17_8', 'RP11_875O11_1', 'RP11_875O11_2', 'RP11_87E22_2', 'RP11_87H9_2', 'RP11_887P2_5', 'RP11_88H9_2', 'RP11_88I21_2', 'RP11_88L24_4', 'RP11_890B15_2', 'RP11_894P9_1', 'RP11_89M16_1', 'RP11_89N17_1', 'RP11_8L2_1', 'RP11_902B17_1', 'RP11_909B2_1', 'RP11_90K6_1', 'RP11_91J19_4', 'RP11_91K9_1', 'RP11_928F19_5', 'RP11_933H2_4', 'RP11_93B14_5', 'RP11_93H12_4', 'RP11_93I21_3', 'RP11_93L9_1', 'RP11_93O17_2', 'RP11_945C19_1', 'RP11_94M14_2', 'RP11_958N24_2', 'RP11_95P2_1', 'RP11_960L18_1', 'RP11_966I7_2', 'RP11_96C23_14', 'RP11_96C23_5', 'RP11_96P7_1', 'RP11_96P7_1_RP11_58C22_1', 'RP11_97O12_2', 'RP11_97O12_7_RP11_97O12_6', 'RP11_983C2_2', 'RP11_983P16_4', 'RP11_986E7_7', 'RP11_98D18_9', 'RP11_98I9_4', 'RP11_98J23_2', 'RP11_98L5_2', 'RP11_996F15_2', 'RP11_9G1_3', 'RP11_9M16_2', 'RP13_1039J1_2_LIMS3L', 'RP13_1039J1_2_RP13_1039J1_4_LIMS3L', 'RP13_137A17_6', 'RP13_143G15_3', 'RP13_143G15_4', 'RP13_15E13_1', 'RP13_20L14_1', 'RP13_395E19_3', 'RP13_39P12_2', 'RP13_452N2_1', 'RP13_507P19_2', 'RP13_507P19_2_RP13_507P19_1', 'RP13_516M14_4', 'RP13_539F13_3', 'RP13_580F15_2', 'RP13_608F4_1', 'RP13_60M5_2', 'RP13_614K11_1', 'RP13_890H12_2', 'RP13_895J2_2', 'RP13_895J2_3', 'RP13_895J2_3_RP13_895J2_2', 'RP13_98N21_3', 'RP13_996F3_3', 'RP13_996F3_4', 'RP13_996F3_5', 'RP1L1', 'RP2', 'RP3_323P13_2', 'RP3_326I13_1', 'RP3_332B22_1', 'RP3_365O12_2', 'RP3_393E18_2', 'RP3_395M20_8', 'RP3_399L15_3', 'RP3_400B16_1', 'RP3_418C23_2', 'RP3_449O17_1', 'RP3_462D8_2', 'RP3_467K16_2', 'RP3_468B3_2', 'RP3_470B24_5', 'RP3_476K8_3', 'RP3_477O4_5', 'RP3_508I15_9', 'RP3_510D11_1', 'RP3_510O8_4', 'RP3_513G18_2', 'RP3_522P13_3', 'RP4_529N6_1', 'RP4_544H6_2', 'RP4_555D20_2', 'RP4_564F22_5', 'RP4_568F9_6', 'RP4_569M23_2', 'RP4_583P15_11', 'RP4_595K12_2', 'RP4_598G3_1', 'RP4_604G5_3', 'RP4_607J23_2', 'RP4_612J11_1', 'RP4_625H18_2', 'RP4_630C24_3', 'RP4_647C14_2', 'RP4_662A9_2', 'RP4_665J23_1', 'RP4_668G5_1', 'RP4_669B10_3', 'RP4_669H2_1', 'RP4_669L17_10', 'RP4_682C21_5', 'RP4_684O24_5', 'RP4_694A7_4', 'RP4_694B14_5', 'RP4_705O1_1', 'RP4_717I23_3', 'RP4_728D4_2', 'RP4_737A23_2', 'RP4_737E23_2', 'RP4_738P15_1', 'RP4_739H11_4', 'RP4_740C4_5_RP4_740C4_6', 'RP4_749H3_1', 'RP4_753D10_5', 'RP4_756G23_5', 'RP4_758J18_2', 'RP4_760C5_5', 'RP4_773A18_4', 'RP4_777D9_2', 'RP4_779E11_3', 'RP4_781K5_4', 'RP4_781K5_8', 'RP4_782L23_1', 'RP4_784A16_5', 'RP4_791M13_3', 'RP4_794H19_2', 'RP4_798P15_3', 'RP4_798P15_3_RP11_568K15_1', 'RP4_799P18_2', 'RP4_800G7_2', 'RP4_803A2_2_RP1_117O3_2', 'RP4_806M20_5', 'RP4_813D12_3', 'RP5_1004I9_1', 'RP5_1007G16_1', 'RP5_1007M22_2', 'RP5_1021I20_2', 'RP5_1021I20_4', 'RP5_1024G6_5', 'RP5_1027G4_3', 'RP5_1033H22_2', 'RP5_1043L13_1', 'RP5_1052I5_1', 'RP5_1052I5_2_HS2ST1', 'RP5_1052I5_2_HS2ST1_RP5_1052I5_1', 'RP5_1063M23_1', 'RP5_1063M23_2', 'RP5_1071N3_1', 'RP5_1073O3_7', 'RP5_1074L1_1', 'RP5_1077H22_1', 'RP5_1086L22_1', 'RP5_1100I6_2', 'RP5_1120P11_1', 'RP5_1142A6_2', 'RP5_1142A6_8', 'RP5_1157M23_2', 'RP5_1158E12_3', 'RP5_1166F10_1', 'RP5_1172A22_1', 'RP5_1180C10_2', 'RP5_1185I7_1', 'RP5_1186N24_3', 'RP5_1198O20_4', 'RP5_823G15_5', 'RP5_828H9_1', 'RP5_828K20_2', 'RP5_836N10_1', 'RP5_850E9_3', 'RP5_855F14_1', 'RP5_858B6_3', 'RP5_872K7_7_RP4_777D9_2', 'RP5_874C20_3', 'RP5_881L22_4', 'RP5_881L22_6', 'RP5_884G6_2', 'RP5_886K2_3', 'RP5_896L10_1', 'RP5_899B16_1', 'RP5_921G16_1', 'RP5_921G16_2', 'RP5_933E2_1', 'RP5_940J5_6', 'RP5_944M2_3', 'RP5_952N6_1', 'RP5_971N18_3', 'RP5_977B1_7', 'RP5_988G17_1', 'RP5_991C6_3', 'RP5_991G20_1', 'RP5_994D16_3', 'RP6_109B7_2', 'RP6_109B7_3', 'RP6_206I17_1', 'RP6_206I17_2', 'RP6_206I17_3', 'RP6_74O6_2', 'RP9', 'RP9P', 'RPA1', 'RPA2', 'RPA3', 'RPA3_AS1', 'RPAIN', 'RPAP1', 'RPAP2', 'RPAP3', 'RPE', 'RPE65', 'RPF1', 'RPF2', 'RPGR', 'RPGRIP1', 'RPGRIP1L', 'RPH3A', 'RPH3AL', 'RPIA', 'RPL10A', 'RPL11', 'RPL12', 'RPL12P38', 'RPL13', 'RPL13_SNORD68', 'RPL13A', 'RPL13A_CTD_3148I10_15', 'RPL13AP17', 'RPL13AP6', 'RPL14', 'RPL15', 'RPL17_RPL17_C18orf32', 'RPL18', 'RPL18A', 'RPL18A_SNORA68', 'RPL19', 'RPL19P12', 'RPL21', 'RPL21_SNORA27', 'RPL21_SNORD102', 'RPL22', 'RPL22L1', 'RPL22P19', 'RPL23', 'RPL23_SNORA21', 'RPL23A', 'RPL23A_SNORD42A', 'RPL23A_SNORD42B', 'RPL23A_SNORD4B', 'RPL23AP53', 'RPL23AP7', 'RPL23AP79', 'RPL23AP79_AC016629_7', 'RPL23P8', 'RPL24', 'RPL26', 'RPL26_RP11_849F2_7', 'RPL26L1', 'RPL27', 'RPL27A', 'RPL27A_SNORA3', 'RPL27A_SNORA45', 'RPL28', 'RPL29', 'RPL3', 'RPL3_SNORD43', 'RPL30', 'RPL31', 'RPL32', 'RPL32_SNORA7A', 'RPL32P3', 'RPL34', 'RPL34_AS1', 'RPL35', 'RPL35A', 'RPL36', 'RPL36_HSD11B1L', 'RPL36AL', 'RPL37', 'RPL37A', 'RPL38', 'RPL39_AMDP1_TRPC6P_TCEB1P24_DDX11L16_WASIR1', 'RPL39L', 'RPL3L', 'RPL4', 'RPL4_SNORD18A', 'RPL4_SNORD18B', 'RPL4_SNORD18C', 'RPL41', 'RPL5', 'RPL5_SNORD21', 'RPL6', 'RPL7', 'RPL7A', 'RPL7L1', 'RPL8', 'RPL9', 'RPL9_Y_RNA', 'RPLP0', 'RPLP0P2', 'RPLP1', 'RPLP2', 'RPLP2_SNORA52', 'RPN1', 'RPN2', 'RPP14', 'RPP21_TRIM39_RPP21', 'RPP25', 'RPP30', 'RPP38', 'RPP40', 'RPPH1', 'RPRD1A', 'RPRD1B', 'RPRD2', 'RPRM', 'RPS10_RPS10_NUDT3', 'RPS11', 'RPS11P6', 'RPS12', 'RPS12_SNORA33_SNORD101_SNORD100', 'RPS13', 'RPS14', 'RPS15', 'RPS15A', 'RPS15A_RP11_1035H13_3', 'RPS15AP10', 'RPS16', 'RPS17', 'RPS17L', 'RPS18', 'RPS18P6', 'RPS19', 'RPS19BP1', 'RPS2', 'RPS2_SNORA10', 'RPS20', 'RPS20_SNORD54', 'RPS21', 'RPS23', 'RPS24', 'RPS25', 'RPS26', 'RPS27', 'RPS27A', 'RPS27L', 'RPS28', 'RPS29', 'RPS3', 'RPS3_SNORD15A', 'RPS3A', 'RPS3A_SNORD73A', 'RPS4X_AMDP1_TRPC6P_TCEB1P24_DDX11L16_WASIR1', 'RPS4XP16', 'RPS4Y2', 'RPS5', 'RPS6', 'RPS6KA1', 'RPS6KA2', 'RPS6KA2_RP11_514O12_4', 'RPS6KA3', 'RPS6KA4', 'RPS6KA5', 'RPS6KA6_AMDP1_TRPC6P_TCEB1P24_DDX11L16_WASIR1', 'RPS6KB1', 'RPS6KB1_RP11_178C3_1', 'RPS6KB2', 'RPS6KC1', 'RPS6KL1', 'RPS7', 'RPS8', 'RPS8_SNORD55', 'RPS9', 'RPSA', 'RPSA_SNORA6', 'RPSAP52', 'RPSAP58_RP11_255H23_2', 'RPSAP9', 'RPTN', 'RPTOR', 'RPUSD1', 'RPUSD2', 'RPUSD3', 'RPUSD4', 'RQCD1', 'RRAD', 'RRAGB', 'RRAGC', 'RRAGD', 'RRAS', 'RRAS2', 'RRBP1', 'RREB1', 'RRH', 'RRM1', 'RRM2', 'RRM2B', 'RRN3', 'RRN3P1', 'RRN3P2', 'RRN3P3', 'RRNAD1', 'RRP1', 'RRP12', 'RRP15', 'RRP1B', 'RRP36', 'RRP7A', 'RRP7B', 'RRP8', 'RRP9', 'RS1', 'RSAD1', 'RSAD2', 'RSBN1', 'RSBN1L', 'RSBN1L_AS1', 'RSF1', 'RSG1', 'RSL1D1', 'RSL24D1', 'RSPH1', 'RSPH10B', 'RSPH10B2', 'RSPH3', 'RSPH4A', 'RSPH6A', 'RSPH9', 'RSPO1', 'RSPO2', 'RSPO3', 'RSPO4', 'RSPRY1', 'RSRC1', 'RSRC2', 'RSU1', 'RTBDN', 'RTBDN_HOOK2', 'RTCA', 'RTCB', 'RTDR1', 'RTEL1_RTEL1_TNFRSF6B', 'RTEL1_RTEL1_TNFRSF6B_TNFRSF6B', 'RTEL1_TNFRSF6B_TNFRSF6B', 'RTF1', 'RTFDC1', 'RTFDC1_FAM209A', 'RTKN', 'RTKN2', 'RTN1', 'RTN2', 'RTN3', 'RTN4', 'RTN4IP1', 'RTN4R', 'RTN4RL1', 'RTN4RL2', 'RTP1', 'RTP2', 'RTP3', 'RTP4', 'RTTN', 'RTTN_Y_RNA', 'RUFY1', 'RUFY2', 'RUFY3', 'RUFY4', 'RUNDC1', 'RUNDC3A', 'RUNDC3B', 'RUNX1', 'RUNX1T1', 'RUNX2', 'RUNX3', 'RUSC1', 'RUSC1_AS1', 'RUSC2', 'RUVBL1', 'RUVBL2', 'RWDD1', 'RWDD2A', 'RWDD2B', 'RWDD3', 'RWDD4', 'RXFP1', 'RXFP2', 'RXFP2_snoU13', 'RXRA', 'RXRB', 'RXRG', 'RYBP', 'RYK', 'RYR1', 'RYR2', 'RYR3', 'S100A1', 'S100A10', 'S100A11', 'S100A12', 'S100A13', 'S100A13_RP1_178F15_4_RP1_178F15_5', 'S100A13_RP1_178F15_5', 'S100A14', 'S100A16', 'S100A2', 'S100A3', 'S100A4', 'S100A5', 'S100A6', 'S100A7', 'S100A7A', 'S100A7L2', 'S100A8', 'S100A9', 'S100B', 'S100G', 'S100P', 'S100PBP', 'S100Z', 'S1PR1', 'S1PR3_C9orf47', 'SAA1', 'SAA2_SAA2_SAA4', 'SAA3P', 'SAA4_SAA2_SAA4', 'SAAL1', 'SACM1L', 'SACS', 'SACS_AS1', 'SAE1', 'SAFB', 'SAFB2', 'SAG', 'SALL1', 'SALL2', 'SALL3', 'SALL4', 'SAMD1', 'SAMD10', 'SAMD11', 'SAMD12', 'SAMD13', 'SAMD13_RP11_376N17_4', 'SAMD14', 'SAMD15', 'SAMD3', 'SAMD4A', 'SAMD4B', 'SAMD5', 'SAMD7', 'SAMD8', 'SAMD9', 'SAMD9L', 'SAMHD1', 'SAMM50', 'SAMSN1', 'SAP130', 'SAP18', 'SAP30', 'SAP30BP', 'SAP30L', 'SAP30L_AS1', 'SAPCD2', 'SAR1A', 'SAR1B', 'SARDH', 'SARM1', 'SARNP', 'SARNP_RP11_762I7_5', 'SARS', 'SARS2', 'SARS2_CTC_360G5_8', 'SARS2_FBXO17_CTC_360G5_8', 'SART1', 'SART3', 'SASH1', 'SASH3_IL9R_SPRY3_VAMP7_WASH6P_DPH3P2_AJ271736_10', 'SASS6', 'SAT1', 'SAT2', 'SATB1', 'SATB2', 'SATB2_AS1', 'SATL1_AMDP1_TRPC6P_TCEB1P24_DDX11L16_WASIR1', 'SAV1', 'SAYSD1', 'SBDS', 'SBDSP1', 'SBF1', 'SBF2', 'SBF2_AS1', 'SBK1', 'SBK2', 'SBNO1', 'SBNO2', 'SBSN', 'SBSPON', 'SC5D', 'SCAF1', 'SCAF11', 'SCAF4', 'SCAF8', 'SCAF8_TIAM2', 'SCAI', 'SCAMP1', 'SCAMP2', 'SCAMP3', 'SCAMP4', 'SCAMP5', 'SCAND1', 'SCAND2P', 'SCAND2P_EGLN1P1', 'SCAND3', 'SCAP', 'SCAPER', 'SCARA3', 'SCARA5', 'SCARB1', 'SCARB2', 'SCARF1', 'SCARF2', 'SCARF2_KLHL22', 'SCARNA1', 'SCARNA10', 'SCARNA11', 'SCARNA14', 'SCARNA17_SCARNA18', 'SCARNA2', 'SCARNA21', 'SCARNA23', 'SCARNA3', 'SCARNA4', 'SCARNA5', 'SCARNA6', 'SCARNA8', 'SCCPDH', 'SCD', 'SCD5', 'SCEL', 'SCFD1', 'SCFD2', 'SCG3', 'SCG5', 'SCGB1A1', 'SCGB1B2P', 'SCGB1C1', 'SCGB1D1', 'SCGB1D2', 'SCGB1D4', 'SCGB2A1', 'SCGB2A2', 'SCGB2B2', 'SCGB3A1', 'SCGB3A2', 'SCGN', 'SCHIP1_IQCJ_SCHIP1', 'SCIMP', 'SCIN', 'SCLT1', 'SCLY_UBE2F_SCLY', 'SCMH1', 'SCML1', 'SCML2', 'SCML2P2', 'SCML4', 'SCN10A', 'SCN11A', 'SCN1A', 'SCN1B', 'SCN2A', 'SCN2B', 'SCN3A', 'SCN3B', 'SCN4A', 'SCN4B', 'SCN5A', 'SCN5A_Y_RNA', 'SCN7A', 'SCN8A', 'SCN8A_AC068987_1', 'SCN9A', 'SCNM1', 'SCNM1_TNFAIP8L2', 'SCNN1A', 'SCNN1B', 'SCNN1D', 'SCNN1G', 'SCO1', 'SCO2', 'SCOC', 'SCP2', 'SCP2_TUBBP10', 'SCPEP1', 'SCRG1', 'SCRIB', 'SCRIB_MIR937', 'SCRN1', 'SCRN2', 'SCRN3', 'SCRT1', 'SCRT2_RP5_850E9_3', 'SCT', 'SCTR', 'SCUBE1', 'SCUBE2', 'SCUBE3', 'SCXA', 'SCXB', 'SCYL1', 'SCYL2', 'SCYL3', 'SDAD1', 'SDAD1P1', 'SDC1', 'SDC2', 'SDC3', 'SDC4', 'SDC4P', 'SDCBP', 'SDCBP2', 'SDCBP2_AS1', 'SDCCAG3', 'SDCCAG8', 'SDE2', 'SDF2', 'SDF2L1', 'SDF4', 'SDHA', 'SDHAF2_RP11_286N22_8', 'SDHAP1', 'SDHAP3', 'SDHB', 'SDHC', 'SDHD', 'SDK1', 'SDK2', 'SDR16C5', 'SDR39U1', 'SDR42E1', 'SDR9C7', 'SDS', 'SDSL', 'SEC11A', 'SEC11C', 'SEC13', 'SEC14L1', 'SEC14L1_LINC00338', 'SEC14L2', 'SEC14L2_RP4_539M6_19', 'SEC14L3', 'SEC14L4', 'SEC14L5', 'SEC14L5_RP11_165E7_1', 'SEC16A', 'SEC16B', 'SEC16B_RP4_798P15_3', 'SEC1P', 'SEC22A', 'SEC22A_PDIA5', 'SEC22B', 'SEC22C', 'SEC23A', 'SEC23B', 'SEC23IP', 'SEC24A', 'SEC24B', 'SEC24B_AS1', 'SEC24C', 'SEC24D', 'SEC31A', 'SEC31A_THAP9_AS1', 'SEC31B', 'SEC61A1', 'SEC61A2', 'SEC61B', 'SEC61G', 'SEC62', 'SEC63', 'SECISBP2', 'SECISBP2L', 'SECTM1', 'SEH1L', 'SEL1L', 'SEL1L2', 'SEL1L3', 'SELE', 'SELENBP1', 'SELK', 'SELL', 'SELM', 'SELO', 'SELP', 'SELPLG', 'SELRC1', 'SELT', 'SELV', 'SEMA3A', 'SEMA3B', 'SEMA3C', 'SEMA3D', 'SEMA3E', 'SEMA3F', 'SEMA3G', 'SEMA4A', 'SEMA4B', 'SEMA4C', 'SEMA4D', 'SEMA4F', 'SEMA4G', 'SEMA5A', 'SEMA5B', 'SEMA6A', 'SEMA6B', 'SEMA6C', 'SEMA6D', 'SEMA7A', 'SEMG1', 'SEMG2', 'SENP1', 'SENP2', 'SENP3_SENP3_EIF4A1', 'SENP5', 'SENP6', 'SENP7', 'SEP15', 'SEPHS1', 'SEPN1', 'SEPN1_RP1_317E23_6', 'SEPP1', 'SEPSECS', 'SEPT1', 'SEPT10', 'SEPT11', 'SEPT12', 'SEPT14', 'SEPT14_Y_RNA', 'SEPT2', 'SEPT3', 'SEPT4', 'SEPT5', 'SEPT6_AMDP1_TRPC6P_TCEB1P24_DDX11L16_WASIR1', 'SEPT7', 'SEPT7P2', 'SEPT7P9', 'SEPT8', 'SEPT9', 'SEPW1', 'SERAC1', 'SERBP1', 'SERF1A', 'SERF1B', 'SERF2', 'SERF2_HYPK', 'SERGEF', 'SERGEF_RP1_59M18_2', 'SERHL', 'SERHL2', 'SERINC1', 'SERINC2', 'SERINC3', 'SERINC4', 'SERINC4_RP11_296A16_1', 'SERINC5', 'SERP1', 'SERP2', 'SERPINA1', 'SERPINA10', 'SERPINA11', 'SERPINA12', 'SERPINA13P', 'SERPINA3_RP11_986E7_7', 'SERPINA4', 'SERPINA5', 'SERPINA5_RP11_986E7_7', 'SERPINA5_SERPINA4', 'SERPINA6', 'SERPINA7_AMDP1_TRPC6P_TCEB1P24_DDX11L16_WASIR1', 'SERPINA9', 'SERPINB1', 'SERPINB10', 'SERPINB10_SERPINB2', 'SERPINB11', 'SERPINB12', 'SERPINB13', 'SERPINB2', 'SERPINB3', 'SERPINB4', 'SERPINB5', 'SERPINB6', 'SERPINB7', 'SERPINB8', 'SERPINB8_HMSD', 'SERPINB9', 'SERPINC1', 'SERPIND1', 'SERPINE1', 'SERPINE2', 'SERPINE3', 'SERPINF1', 'SERPINF2', 'SERPING1', 'SERPINH1', 'SERPINI1', 'SERPINI2', 'SERPINI2_WDR49', 'SERTAD1', 'SERTAD2', 'SERTAD3', 'SERTAD4', 'SERTAD4_AS1', 'SERTM1', 'SESN1', 'SESN2', 'SESN3', 'SESTD1', 'SET', 'SETBP1', 'SETD1A', 'SETD1B', 'SETD2', 'SETD3', 'SETD4', 'SETD5', 'SETD5_AS1', 'SETD6', 'SETD7', 'SETD8', 'SETD9', 'SETDB1', 'SETDB2', 'SETMAR', 'SETX', 'SEZ6', 'SEZ6L', 'SEZ6L2', 'SF1', 'SF3A1', 'SF3A2', 'SF3A3', 'SF3B1', 'SF3B14', 'SF3B2', 'SF3B3', 'SF3B4', 'SF3B5', 'SFI1', 'SFMBT1', 'SFMBT1_RP11_894J14_5', 'SFMBT2', 'SFN', 'SFPQ', 'SFR1', 'SFRP1', 'SFRP2', 'SFRP4', 'SFRP5', 'SFSWAP', 'SFT2D1', 'SFT2D2', 'SFTA1P', 'SFTA2', 'SFTA3', 'SFTA3_RP11_896J10_3', 'SFTPA1', 'SFTPA2', 'SFTPB', 'SFTPC', 'SFTPD', 'SFXN1', 'SFXN2', 'SFXN3', 'SFXN4', 'SFXN5', 'SGCA', 'SGCB', 'SGCD', 'SGCE', 'SGCG', 'SGCZ', 'SGIP1', 'SGK1', 'SGK2', 'SGK223', 'SGK3_C8orf44_SGK3', 'SGK494', 'SGK494_RP11_192H23_4', 'SGMS1', 'SGMS2', 'SGOL1', 'SGOL2', 'SGPL1', 'SGPP1', 'SGPP2', 'SGSH', 'SGSM1', 'SGSM2', 'SGSM3', 'SGTA', 'SGTB', 'SH2B1', 'SH2B2', 'SH2B3', 'SH2D1B', 'SH2D2A', 'SH2D3A', 'SH2D3C', 'SH2D4A', 'SH2D4B', 'SH2D5', 'SH2D6', 'SH2D7', 'SH3BGR', 'SH3BGRL2', 'SH3BGRL3', 'SH3BP1', 'SH3BP2', 'SH3BP4', 'SH3BP5', 'SH3BP5_AS1', 'SH3BP5L', 'SH3D19', 'SH3D21', 'SH3D21_RP11_268J15_5', 'SH3GL1', 'SH3GL2', 'SH3GL3', 'SH3GLB1', 'SH3GLB2', 'SH3KBP1', 'SH3PXD2A', 'SH3PXD2B', 'SH3RF1', 'SH3RF2', 'SH3RF3', 'SH3TC1', 'SH3TC2', 'SH3YL1', 'SHANK1', 'SHANK2', 'SHANK2_AS1', 'SHANK2_AS3', 'SHANK3', 'SHARPIN', 'SHBG', 'SHBG_AC007421_1', 'SHC1', 'SHC2', 'SHC3', 'SHC4', 'SHCBP1', 'SHCBP1L', 'SHD', 'SHE', 'SHF', 'SHF_CTD_2651B20_7', 'SHFM1', 'SHFM1_C7orf76', 'SHH', 'SHISA2', 'SHISA3', 'SHISA4', 'SHISA5', 'SHISA6', 'SHISA7', 'SHISA9', 'SHKBP1', 'SHMT1', 'SHMT2', 'SHOC2', 'SHOX', 'SHOX2', 'SHPK', 'SHPRH', 'SHQ1', 'SHROOM1', 'SHROOM2', 'SHROOM3', 'SHROOM4', 'SI', 'SIAE', 'SIAH1', 'SIAH1_RP11_44I10_6', 'SIAH2', 'SIAH3', 'SIDT1', 'SIDT2', 'SIGIRR', 'SIGLEC1', 'SIGLEC1_Y_RNA', 'SIGLEC10', 'SIGLEC11', 'SIGLEC11_CTC_326K19_6', 'SIGLEC12', 'SIGLEC14', 'SIGLEC15', 'SIGLEC16', 'SIGLEC17P', 'SIGLEC5', 'SIGLEC5_SIGLEC14', 'SIGLEC6', 'SIGLEC7', 'SIGLEC8', 'SIGLEC9', 'SIGLECL1', 'SIGMAR1', 'SIK1', 'SIK2', 'SIK3', 'SIKE1', 'SIL1', 'SIM1', 'SIM2', 'SIMC1', 'SIN3A', 'SIN3B', 'SIPA1', 'SIPA1L1', 'SIPA1L2', 'SIPA1L3', 'SIRPA', 'SIRPB1', 'SIRPB1_RP4_576H24_4', 'SIRPB2', 'SIRPD', 'SIRPD_RP4_576H24_2_RP4_576H24_4', 'SIRPG', 'SIRT1', 'SIRT2', 'SIRT3', 'SIRT4', 'SIRT5', 'SIRT6', 'SIRT7', 'SIT1', 'SIVA1', 'SIX1', 'SIX3', 'SIX4', 'SIX5', 'SIX6', 'SKA1', 'SKA2', 'SKA3', 'SKAP1', 'SKAP2', 'SKI', 'SKIDA1', 'SKIL', 'SKINTL', 'SKIV2L', 'SKIV2L2', 'SKIV2L2_U3', 'SKOR1', 'SKOR1_RP11_34F13_3', 'SKOR2', 'SKP1', 'SKP1_CTD_2410N18_5', 'SKP2', 'SLA', 'SLA2', 'SLAIN1', 'SLAIN2', 'SLAMF1', 'SLAMF6', 'SLAMF7', 'SLAMF8', 'SLAMF9', 'SLBP', 'SLC10A1', 'SLC10A2', 'SLC10A3_AMDP1_TRPC6P_TCEB1P24_DDX11L16_WASIR1', 'SLC10A4', 'SLC10A6', 'SLC10A7', 'SLC11A1', 'SLC11A2', 'SLC12A1', 'SLC12A1_CTXN2', 'SLC12A2', 'SLC12A3', 'SLC12A4', 'SLC12A5', 'SLC12A6', 'SLC12A7', 'SLC12A8', 'SLC12A9', 'SLC13A1', 'SLC13A2', 'SLC13A3', 'SLC13A4', 'SLC13A5', 'SLC14A1', 'SLC14A2', 'SLC15A1', 'SLC15A2', 'SLC15A3', 'SLC15A4', 'SLC16A1', 'SLC16A10', 'SLC16A11', 'SLC16A12', 'SLC16A13', 'SLC16A14', 'SLC16A3', 'SLC16A4', 'SLC16A5', 'SLC16A5_snoU13', 'SLC16A6', 'SLC16A7', 'SLC16A8', 'SLC16A9', 'SLC17A1', 'SLC17A2', 'SLC17A3', 'SLC17A4', 'SLC17A5', 'SLC17A6', 'SLC17A7', 'SLC17A7_Y_RNA', 'SLC17A8', 'SLC17A9', 'SLC18A1', 'SLC18A2', 'SLC18B1', 'SLC19A1', 'SLC19A2', 'SLC19A3', 'SLC1A1', 'SLC1A2', 'SLC1A3', 'SLC1A4', 'SLC1A5', 'SLC1A6', 'SLC1A7', 'SLC20A1', 'SLC20A1P1', 'SLC20A1P2', 'SLC20A2', 'SLC22A1', 'SLC22A10', 'SLC22A11', 'SLC22A12', 'SLC22A13', 'SLC22A14', 'SLC22A15', 'SLC22A16', 'SLC22A17', 'SLC22A18', 'SLC22A18AS', 'SLC22A2', 'SLC22A20', 'SLC22A23', 'SLC22A24', 'SLC22A25', 'SLC22A3', 'SLC22A4', 'SLC22A5', 'SLC22A6', 'SLC22A7', 'SLC22A8', 'SLC22A9', 'SLC23A1', 'SLC23A2', 'SLC23A3', 'SLC23A3_NHEJ1', 'SLC24A1', 'SLC24A2', 'SLC24A3', 'SLC24A4', 'SLC24A5', 'SLC25A1', 'SLC25A10', 'SLC25A10_MRPL12', 'SLC25A11', 'SLC25A12', 'SLC25A13', 'SLC25A15', 'SLC25A16', 'SLC25A17', 'SLC25A17_Y_RNA', 'SLC25A18', 'SLC25A19', 'SLC25A20', 'SLC25A21', 'SLC25A22', 'SLC25A23', 'SLC25A24', 'SLC25A25', 'SLC25A26', 'SLC25A27', 'SLC25A28', 'SLC25A29', 'SLC25A3', 'SLC25A3_SNORA53', 'SLC25A30', 'SLC25A31', 'SLC25A32', 'SLC25A33', 'SLC25A33_snoU13', 'SLC25A34', 'SLC25A35', 'SLC25A36', 'SLC25A37', 'SLC25A38', 'SLC25A39', 'SLC25A3P1', 'SLC25A4', 'SLC25A40', 'SLC25A41', 'SLC25A42', 'SLC25A44', 'SLC25A45', 'SLC25A46', 'SLC25A47', 'SLC25A48', 'SLC25A51', 'SLC25A51_RP11_613M10_9', 'SLC25A52', 'SLC25A53_AMDP1_TRPC6P_TCEB1P24_DDX11L16_WASIR1', 'SLC26A1', 'SLC26A10', 'SLC26A11', 'SLC26A2', 'SLC26A3', 'SLC26A4', 'SLC26A4_AS1', 'SLC26A5', 'SLC26A6', 'SLC26A7', 'SLC26A7_LRRC69', 'SLC26A8', 'SLC26A9', 'SLC27A1', 'SLC27A2', 'SLC27A3', 'SLC27A4', 'SLC27A5', 'SLC27A6', 'SLC28A1', 'SLC28A2', 'SLC28A3', 'SLC29A1', 'SLC29A2', 'SLC29A3', 'SLC29A4', 'SLC2A1', 'SLC2A1_AS1', 'SLC2A10', 'SLC2A11', 'SLC2A11_AP000350_10', 'SLC2A12', 'SLC2A13', 'SLC2A14', 'SLC2A2', 'SLC2A3', 'SLC2A4', 'SLC2A4RG', 'SLC2A4RG_RP4_583P15_14', 'SLC2A5', 'SLC2A6', 'SLC2A7', 'SLC2A8', 'SLC2A9', 'SLC30A1', 'SLC30A10', 'SLC30A2', 'SLC30A3', 'SLC30A4', 'SLC30A5', 'SLC30A6', 'SLC30A7', 'SLC30A7_snoU13', 'SLC30A8', 'SLC30A9', 'SLC31A1', 'SLC31A2', 'SLC32A1', 'SLC33A1', 'SLC34A1', 'SLC34A2', 'SLC34A3', 'SLC35A1', 'SLC35A1_C6orf165', 'SLC35A2', 'SLC35A3', 'SLC35A4', 'SLC35A5', 'SLC35B1', 'SLC35B2', 'SLC35B3', 'SLC35B4', 'SLC35C1', 'SLC35C2', 'SLC35D1', 'SLC35D2', 'SLC35D3', 'SLC35E1', 'SLC35E1_CTD_3222D19_2', 'SLC35E2', 'SLC35E2_RP1_283E3_8', 'SLC35E2B', 'SLC35E3', 'SLC35E4', 'SLC35F1', 'SLC35F2', 'SLC35F3', 'SLC35F4', 'SLC35F5', 'SLC35F6', 'SLC35G1', 'SLC35G2', 'SLC35G3', 'SLC35G5', 'SLC35G6', 'SLC36A1', 'SLC36A2', 'SLC36A3', 'SLC36A4', 'SLC37A1', 'SLC37A2', 'SLC37A3', 'SLC37A4', 'SLC38A1', 'SLC38A10', 'SLC38A11', 'SLC38A2', 'SLC38A3', 'SLC38A4', 'SLC38A5', 'SLC38A6', 'SLC38A6_RP11_193F5_1', 'SLC38A7', 'SLC38A8', 'SLC38A9', 'SLC39A1', 'SLC39A10', 'SLC39A11', 'SLC39A12', 'SLC39A12_AS1', 'SLC39A13', 'SLC39A14', 'SLC39A2', 'SLC39A3', 'SLC39A3_AC006538_4', 'SLC39A4', 'SLC39A5', 'SLC39A6', 'SLC39A7', 'SLC39A8', 'SLC39A9', 'SLC3A1', 'SLC3A2', 'SLC40A1', 'SLC41A1', 'SLC41A2', 'SLC41A3', 'SLC43A1', 'SLC43A2', 'SLC43A3', 'SLC43A3_RP11_872D17_8', 'SLC44A1', 'SLC44A2', 'SLC44A3', 'SLC44A4', 'SLC44A5', 'SLC45A1', 'SLC45A2', 'SLC45A3', 'SLC45A4', 'SLC46A1', 'SLC46A2', 'SLC46A3', 'SLC47A1', 'SLC47A2', 'SLC48A1', 'SLC4A1', 'SLC4A10', 'SLC4A11', 'SLC4A1AP', 'SLC4A2', 'SLC4A3', 'SLC4A4', 'SLC4A5', 'SLC4A5_RP11_287D1_3', 'SLC4A7', 'SLC4A8', 'SLC4A9', 'SLC50A1', 'SLC51A', 'SLC51B', 'SLC52A1', 'SLC52A2', 'SLC52A3', 'SLC5A1', 'SLC5A10', 'SLC5A11', 'SLC5A12', 'SLC5A2', 'SLC5A3_AP000320_7_MRPS6', 'SLC5A4', 'SLC5A5', 'SLC5A6', 'SLC5A7', 'SLC5A8', 'SLC5A9', 'SLC6A1', 'SLC6A10P', 'SLC6A11', 'SLC6A12', 'SLC6A13', 'SLC6A14_IL9R_SPRY3_VAMP7_WASH6P_DPH3P2_AJ271736_10', 'SLC6A15', 'SLC6A16', 'SLC6A17', 'SLC6A18', 'SLC6A19', 'SLC6A2', 'SLC6A20', 'SLC6A3', 'SLC6A4', 'SLC6A5', 'SLC6A6', 'SLC6A7', 'SLC6A9', 'SLC7A1', 'SLC7A10', 'SLC7A11', 'SLC7A11_AS1', 'SLC7A13', 'SLC7A14', 'SLC7A2', 'SLC7A3_AMDP1_TRPC6P_TCEB1P24_DDX11L16_WASIR1', 'SLC7A4', 'SLC7A5', 'SLC7A5P1', 'SLC7A6', 'SLC7A6OS', 'SLC7A7', 'SLC7A8', 'SLC7A9', 'SLC8A1', 'SLC8A1_AS1', 'SLC8A2', 'SLC8A3', 'SLC8B1', 'SLC9A1', 'SLC9A2', 'SLC9A3', 'SLC9A3R1', 'SLC9A3R2', 'SLC9A4', 'SLC9A5', 'SLC9A5_CTC_277H1_7', 'SLC9A7', 'SLC9A8', 'SLC9A9', 'SLC9B1', 'SLC9B2', 'SLC9B2_BDH2', 'SLC9C1', 'SLC9C2', 'SLCO1A2', 'SLCO1B1', 'SLCO1B1_RP11_125O5_2', 'SLCO1B3', 'SLCO1B3_LST3', 'SLCO1B3_LST3_SLCO1B7', 'SLCO1B3_LST3_SLCO1B7_RP11_125O5_2', 'SLCO1B7', 'SLCO1C1', 'SLCO2A1', 'SLCO2A1_Y_RNA', 'SLCO2B1', 'SLCO3A1', 'SLCO4A1', 'SLCO4C1', 'SLCO5A1', 'SLCO6A1', 'SLFN11', 'SLFN12', 'SLFN12L', 'SLFN13', 'SLFN14', 'SLFN5', 'SLFNL1', 'SLIRP', 'SLIT1', 'SLIT1_ARHGAP19_SLIT1', 'SLIT2', 'SLIT2_IT1', 'SLIT3', 'SLITRK3', 'SLITRK4_AMDP1_TRPC6P_TCEB1P24_DDX11L16_WASIR1', 'SLITRK5', 'SLITRK6', 'SLK', 'SLMAP', 'SLMO1', 'SLMO2', 'SLN', 'SLPI', 'SLTM', 'SLU7', 'SLURP1', 'SLX1A_SULT1A3_SULT1A3', 'SLX1A_SULT1A3_SULT1A3_SLX1A', 'SLX4', 'SLX4IP', 'SMAD1', 'SMAD2', 'SMAD3', 'SMAD4', 'SMAD4_RP11_729L2_2', 'SMAD4_snoU13', 'SMAD5', 'SMAD5_AS1', 'SMAD6', 'SMAD7', 'SMAD9', 'SMAGP', 'SMAP1', 'SMAP2', 'SMARCA1_AMDP1_TRPC6P_TCEB1P24_DDX11L16_WASIR1', 'SMARCA2', 'SMARCA4', 'SMARCA5', 'SMARCA5_AS1', 'SMARCAD1', 'SMARCAL1', 'SMARCB1', 'SMARCC1', 'SMARCC2', 'SMARCD1', 'SMARCD2', 'SMARCD3', 'SMARCE1', 'SMARCE1_KRT222', 'SMARCE1_Y_RNA_KRT222', 'SMC1A', 'SMC1B', 'SMC2', 'SMC3', 'SMC4', 'SMC5', 'SMC5_AS1', 'SMC6', 'SMCHD1', 'SMCO1', 'SMCO2', 'SMCO3', 'SMCO4', 'SMCP', 'SMCR5', 'SMCR8', 'SMDT1', 'SMEK1', 'SMEK2', 'SMEK3P', 'SMG1', 'SMG1P1', 'SMG1P1_NPIPB5', 'SMG5', 'SMG6', 'SMG7', 'SMG7_AS1', 'SMG8', 'SMG9', 'SMIM1', 'SMIM11', 'SMIM13', 'SMIM14', 'SMIM15', 'SMIM17', 'SMIM19', 'SMIM2', 'SMIM20', 'SMIM21', 'SMIM22', 'SMIM4', 'SMIM5', 'SMIM6', 'SMIM7_CTC_429P9_4', 'SMIM8', 'SMIM8_RP1_102H19_8', 'SMKR1', 'SMN1', 'SMN2', 'SMNDC1', 'SMO', 'SMOC1', 'SMOC2', 'SMOX', 'SMPD1', 'SMPD2', 'SMPD3', 'SMPD4', 'SMPD4P1', 'SMPDL3A', 'SMPDL3B', 'SMPX', 'SMR3A', 'SMR3B', 'SMS', 'SMTN', 'SMTNL1', 'SMTNL2', 'SMU1', 'SMU1_AL162590_1', 'SMUG1', 'SMURF1', 'SMURF2', 'SMYD1', 'SMYD2', 'SMYD3', 'SMYD4', 'SMYD4_AC130689_1', 'SMYD4_Y_RNA', 'SMYD5', 'SNAI1', 'SNAI2', 'SNAI3', 'SNAI3_AS1', 'SNAP23', 'SNAP25', 'SNAP25_AS1', 'SNAP29', 'SNAP47', 'SNAP91', 'SNAPC1', 'SNAPC1_RP11_618G20_1', 'SNAPC2', 'SNAPC3', 'SNAPC4', 'SNAPC5', 'SNAPC5_CTD_3185P2_1', 'SNAPIN', 'SNCA', 'SNCAIP', 'SNCB', 'SNCG', 'SND1', 'SNED1', 'SNF8', 'SNHG1', 'SNHG11', 'SNHG12', 'SNHG14', 'SNHG14_RP11_701H24_10', 'SNHG14_SNURF', 'SNHG15', 'SNHG16', 'SNHG17', 'SNHG5', 'SNHG6', 'SNHG6_SNORD87', 'SNHG7', 'SNHG8', 'SNHG9', 'SNIP1', 'SNORA11C', 'SNORA12', 'SNORA12_AC140481_1', 'SNORA13', 'SNORA14A', 'SNORA14B', 'SNORA15', 'SNORA16B', 'SNORA23', 'SNORA25_SLC35A3', 'SNORA28', 'SNORA2A', 'SNORA2B', 'SNORA30', 'SNORA37', 'SNORA42', 'SNORA47', 'SNORA48_CTD_2116N17_1', 'SNORA54', 'SNORA55', 'SNORA57_METTL12', 'SNORA59A', 'SNORA59B', 'SNORA5C', 'SNORA65', 'SNORA70', 'SNORA70_ZSCAN16_AS1', 'SNORA70B', 'SNORA71A', 'SNORA71B', 'SNORA71C', 'SNORA71D', 'SNORA72', 'SNORA74A', 'SNORA74B', 'SNORA75', 'SNORA77', 'SNORA79', 'SNORA7B_RPL32P3', 'SNORD103A', 'SNORD103B', 'SNORD104', 'SNORD105', 'SNORD105B', 'SNORD109A', 'SNORD109B', 'SNORD11', 'SNORD113_1', 'SNORD113_5', 'SNORD114_15', 'SNORD114_20', 'SNORD114_24', 'SNORD114_25', 'SNORD114_29', 'SNORD114_7', 'SNORD115_1', 'SNORD115_10', 'SNORD115_11', 'SNORD115_12', 'SNORD115_14', 'SNORD115_16', 'SNORD115_17', 'SNORD115_18', 'SNORD115_19', 'SNORD115_2', 'SNORD115_20', 'SNORD115_22', 'SNORD115_23_SNHG14', 'SNORD115_24', 'SNORD115_25', 'SNORD115_27', 'SNORD115_28', 'SNORD115_29', 'SNORD115_3', 'SNORD115_30', 'SNORD115_31', 'SNORD115_32', 'SNORD115_33', 'SNORD115_34', 'SNORD115_35', 'SNORD115_36', 'SNORD115_37', 'SNORD115_38', 'SNORD115_39', 'SNORD115_4', 'SNORD115_40', 'SNORD115_41', 'SNORD115_42', 'SNORD115_43', 'SNORD115_44', 'SNORD115_47', 'SNORD115_48', 'SNORD115_5', 'SNORD115_6', 'SNORD115_8', 'SNORD115_9', 'SNORD116_12', 'SNORD116_19', 'SNORD117', 'SNORD119', 'SNORD11B', 'SNORD12', 'SNORD123', 'SNORD126', 'SNORD12B', 'SNORD15B', 'SNORD17', 'SNORD19', 'SNORD1B', 'SNORD20', 'SNORD32A_RPL13A', 'SNORD34_RPL13A', 'SNORD35A_RPL13A', 'SNORD36B_RPL7A', 'SNORD3D', 'SNORD41', 'SNORD46', 'SNORD48_C6orf48', 'SNORD4A', 'SNORD51', 'SNORD53', 'SNORD58A_RPL17', 'SNORD58C_RPL17', 'SNORD59A', 'SNORD60', 'SNORD61_AMDP1_TRPC6P_TCEB1P24_DDX11L16_RBMX_WASIR1', 'SNORD64_SNORD108', 'SNORD69', 'SNORD7', 'SNORD71', 'SNORD72', 'SNORD8', 'SNORD82', 'SNORD85', 'SNORD88A', 'SNORD89', 'SNORD9', 'SNORD90', 'SNORD91A', 'SNORD91B', 'SNORD92', 'SNORD94', 'SNORD96B_AMDP1_TRPC6P_TCEB1P24_DDX11L16_WASIR1', 'SNORD99', 'SNPH', 'SNRK', 'SNRNP200', 'SNRNP25', 'SNRNP27', 'SNRNP35', 'SNRNP40', 'SNRNP48', 'SNRNP70', 'SNRPA', 'SNRPA1', 'SNRPB', 'SNRPB_RP4_734P14_4', 'SNRPB2', 'SNRPC', 'SNRPD1', 'SNRPD1_RP11_13N13_2', 'SNRPD2', 'SNRPD3', 'SNRPE', 'SNRPF', 'SNRPG', 'SNRPN', 'SNRPN_SNURF', 'SNTA1', 'SNTB1', 'SNTB2', 'SNTB2_RP11_343C2_11', 'SNTG1', 'SNTG2', 'SNTN', 'SNUPN', 'SNUPN_CTD_2323K18_1', 'SNW1', 'SNX1', 'SNX10', 'SNX11', 'SNX12_AMDP1_TRPC6P_TCEB1P24_DDX11L16_WASIR1', 'SNX13', 'SNX14', 'SNX14_RP11_321N4_5', 'SNX16', 'SNX17', 'SNX18P3', 'SNX19', 'SNX2', 'SNX20', 'SNX21', 'SNX22', 'SNX24', 'SNX25', 'SNX27', 'SNX27_snoU13', 'SNX29', 'SNX29P2', 'SNX29P2_RP11_231C14_6', 'SNX3', 'SNX30', 'SNX31', 'SNX32', 'SNX33', 'SNX4', 'SNX5', 'SNX5_OVOL2', 'SNX6', 'SNX7', 'SNX8', 'SNX9', 'SOAT1', 'SOAT2', 'SOBP', 'SOCS1', 'SOCS2', 'SOCS2_AS1', 'SOCS3', 'SOCS4', 'SOCS5', 'SOCS6', 'SOCS7', 'SOD1', 'SOD2', 'SOD3', 'SOGA1', 'SOGA2', 'SOGA3', 'SOGA3_KIAA0408', 'SOHLH1', 'SOHLH2', 'SOHLH2_CCDC169_SOHLH2', 'SON', 'SORBS1', 'SORBS2', 'SORBS3', 'SORCS1', 'SORCS2', 'SORCS3', 'SORCS3_AS1', 'SORD', 'SORL1', 'SORT1', 'SOS1', 'SOS2', 'SOST', 'SOSTDC1', 'SOX1', 'SOX10', 'SOX13', 'SOX15', 'SOX17', 'SOX18', 'SOX2_OT', 'SOX21_AS1', 'SOX3_AMDP1_TRPC6P_TCEB1P24_DDX11L16_WASIR1', 'SOX30', 'SOX5', 'SOX6', 'SOX7', 'SOX8', 'SOX9', 'SP1', 'SP100', 'SP110', 'SP140', 'SP140_SP140L', 'SP140L', 'SP2', 'SP3', 'SP4', 'SP5', 'SP6', 'SP7', 'SP8', 'SP9', 'SPA17', 'SPACA1', 'SPACA3', 'SPACA5', 'SPACA5B', 'SPACA7', 'SPAG1', 'SPAG11A', 'SPAG11B', 'SPAG16', 'SPAG17', 'SPAG4', 'SPAG5', 'SPAG5_RP11_192H23_4', 'SPAG6', 'SPAG7', 'SPAG8', 'SPAG8_AL133410_1', 'SPAG9', 'SPAM1', 'SPANXN2_AMDP1_TRPC6P_TCEB1P24_DDX11L16_WASIR1', 'SPANXN3_AMDP1_TRPC6P_TCEB1P24_DDX11L16_WASIR1', 'SPANXN5', 'SPARC', 'SPARCL1', 'SPAST', 'SPATA1', 'SPATA12', 'SPATA13', 'SPATA13_RP11_307N16_6', 'SPATA13_RP11_309I15_1_RP11_307N16_6', 'SPATA16', 'SPATA17', 'SPATA18', 'SPATA19', 'SPATA2', 'SPATA20', 'SPATA21', 'SPATA22', 'SPATA24', 'SPATA25', 'SPATA2L', 'SPATA3', 'SPATA31A1', 'SPATA31A2', 'SPATA31A3', 'SPATA31A4', 'SPATA31A5', 'SPATA31A6', 'SPATA31A7', 'SPATA31C1', 'SPATA31C1_snoU13', 'SPATA31C2', 'SPATA31D1', 'SPATA31D3', 'SPATA31D4', 'SPATA31D5P', 'SPATA31E1', 'SPATA32', 'SPATA33', 'SPATA4', 'SPATA41', 'SPATA42', 'SPATA5', 'SPATA5L1', 'SPATA6', 'SPATA6L', 'SPATA7', 'SPATA8', 'SPATA8_AS1', 'SPATA9', 'SPATC1', 'SPATC1L', 'SPATS1', 'SPATS1_RP11_444E17_6', 'SPATS2', 'SPATS2L', 'SPC24', 'SPC25', 'SPCS1', 'SPCS2', 'SPCS2P4', 'SPCS3', 'SPDEF', 'SPDL1', 'SPDYA', 'SPDYA_PPP1CB', 'SPDYC', 'SPDYE1', 'SPDYE2', 'SPDYE2B', 'SPDYE3', 'SPDYE4', 'SPDYE6', 'SPDYE7P', 'SPDYE8P', 'SPECC1', 'SPECC1L_SPECC1L_ADORA2A', 'SPECC1L_ADORA2A_ADORA2A', 'SPEF1', 'SPEF2', 'SPEG', 'SPEM1', 'SPEM1_RP11_104H15_7', 'SPEN', 'SPERT', 'SPG11', 'SPG20', 'SPG21', 'SPG7', 'SPHK1', 'SPHK2', 'SPHKAP', 'SPI1', 'SPIB', 'SPIB_CTD_2545M3_6', 'SPIC', 'SPICE1', 'SPIDR', 'SPIN1', 'SPIN2A', 'SPIN2B', 'SPIN3', 'SPINK1', 'SPINK13', 'SPINK14', 'SPINK2', 'SPINK4', 'SPINK5', 'SPINK6', 'SPINK7', 'SPINK8', 'SPINK9', 'SPINT1', 'SPINT2', 'SPINT2_CTB_102L5_4', 'SPINT3', 'SPINT4', 'SPIRE1', 'SPIRE2', 'SPN', 'SPNS1_LAT_RP11_264B17_3', 'SPNS1_RP11_264B17_3', 'SPNS2', 'SPNS3', 'SPO11', 'SPOCD1', 'SPOCK1', 'SPOCK2', 'SPOCK3', 'SPON1', 'SPON2', 'SPOP', 'SPOPL', 'SPP1', 'SPP2', 'SPPL2A', 'SPPL2B', 'SPPL2B_AC004410_3', 'SPPL3', 'SPR', 'SPRED1', 'SPRED2', 'SPRED3', 'SPRN', 'SPRR1B', 'SPRR2A', 'SPRR2B', 'SPRR2D', 'SPRR2E', 'SPRR2F', 'SPRR2G', 'SPRR3', 'SPRR4', 'SPRTN', 'SPRY1', 'SPRY2', 'SPRY4', 'SPRYD3', 'SPRYD4', 'SPRYD7', 'SPSB1', 'SPSB3', 'SPSB4', 'SPTA1', 'SPTAN1', 'SPTB', 'SPTBN1', 'SPTBN2', 'SPTBN4', 'SPTBN5', 'SPTBN5_Y_RNA', 'SPTLC1', 'SPTLC2', 'SPTLC3', 'SPTSSA', 'SPTSSB', 'SPTY2D1', 'SPTY2D1_AS1', 'SQLE', 'SQRDL', 'SQRDL_RP11_96O20_4', 'SQSTM1', 'SRA1', 'SRBD1', 'SRC', 'SRCAP', 'SRCAP_RP11_2C24_4', 'SRCIN1', 'SRCRB4D', 'SRD5A1', 'SRD5A2', 'SRD5A3', 'SRD5A3_AS1', 'SREBF1', 'SREBF2', 'SREK1', 'SREK1IP1', 'SRF', 'SRFBP1', 'SRGAP1', 'SRGAP2', 'SRGAP2B', 'SRGAP2C', 'SRGAP3', 'SRGAP3_AS2', 'SRGN', 'SRI', 'SRL', 'SRM', 'SRMS', 'SRP14', 'SRP14_Y_RNA', 'SRP14_AS1', 'SRP19_CTC_487M23_8_CTC_554D6_1', 'SRP54', 'SRP68', 'SRP72', 'SRP9', 'SRPK1', 'SRPK2', 'SRPR', 'SRPRB', 'SRPX', 'SRPX2_IL9R_SPRY3_VAMP7_WASH6P_DPH3P2_AJ271736_10', 'SRR', 'SRRD', 'SRRM1', 'SRRM2', 'SRRM2_AS1', 'SRRM3', 'SRRM4', 'SRRT', 'SRSF1', 'SRSF10', 'SRSF11', 'SRSF12', 'SRSF3', 'SRSF4', 'SRSF5', 'SRSF6', 'SRSF7', 'SRSF8', 'SRSF9', 'SRXN1', 'SRY', 'SS18', 'SS18L1', 'SS18L2', 'SSB', 'SSBP1', 'SSBP2', 'SSBP3', 'SSBP4', 'SSC5D', 'SSFA2', 'SSH1', 'SSH2', 'SSH3', 'SSMEM1', 'SSNA1', 'SSPN', 'SSPO', 'SSR1', 'SSR1_CAGE1', 'SSR2', 'SSR3', 'SSRP1', 'SSSCA1', 'SSSCA1_FAM89B', 'SST', 'SSTR1', 'SSTR2_RP11_143K11_5', 'SSTR3', 'SSTR4', 'SSTR5_AS1', 'SSU72', 'SSU72_AL645728_2', 'SSUH2', 'SSX1', 'SSX2', 'SSX2B', 'SSX2IP', 'SSX3', 'SSX4', 'SSX4B', 'SSX5', 'SSX6', 'SSX7', 'SSX8', 'SSX9', 'ST13', 'ST14', 'ST18', 'ST20', 'ST3GAL1', 'ST3GAL2', 'ST3GAL3', 'ST3GAL4', 'ST3GAL5', 'ST3GAL6', 'ST5', 'ST6GAL1', 'ST6GAL2', 'ST6GALNAC1', 'ST6GALNAC2', 'ST6GALNAC3', 'ST6GALNAC4', 'ST6GALNAC5', 'ST6GALNAC6', 'ST6GALNAC6_RP11_203J24_9', 'ST7', 'ST7_ST7_OT4', 'ST7_AS2', 'ST7_OT4', 'ST7L', 'ST8SIA1', 'ST8SIA2', 'ST8SIA3', 'ST8SIA4', 'ST8SIA5', 'ST8SIA6', 'ST8SIA6_AS1', 'STAB1', 'STAB2', 'STAC', 'STAC2', 'STAC3', 'STAC3_R3HDM2_RP11_123K3_4', 'STAG1', 'STAG3', 'STAG3L1', 'STAG3L2', 'STAG3L3', 'STAG3L4', 'STAG3L5P_PVRIG2P_PILRB_PILRB', 'STAG3L5P_PVRIG2P_PILRB_PILRB_PVRIG2P', 'STAG3L5P_PVRIG2P_PILRB_STAG3L5P_PILRB', 'STAM', 'STAM2', 'STAMBP', 'STAMBPL1', 'STAP1', 'STAP2', 'STAR', 'STARD10', 'STARD10_ARAP1', 'STARD13', 'STARD3', 'STARD3NL', 'STARD4', 'STARD5', 'STARD6', 'STARD7', 'STARD9', 'STAT1', 'STAT2', 'STAT3', 'STAT4', 'STAT5A', 'STAT5B', 'STAT6', 'STATH', 'STAU1', 'STAU2', 'STAU2_RP11_463D19_2', 'STAU2_AS1', 'STC1', 'STC2', 'STEAP1', 'STEAP1B', 'STEAP2', 'STEAP3', 'STEAP4', 'STH', 'STIL', 'STIL_Y_RNA', 'STIM1', 'STIM1_MIR4687', 'STIM2', 'STIP1', 'STK10', 'STK11', 'STK11IP', 'STK16', 'STK17A', 'STK17B', 'STK19', 'STK19P', 'STK24', 'STK25', 'STK3', 'STK31', 'STK32A', 'STK32B', 'STK32C', 'STK33', 'STK35', 'STK36', 'STK38', 'STK38L', 'STK39', 'STK4', 'STK4_AS1', 'STK40', 'STMN1', 'STMN2', 'STMN3', 'STMN4', 'STMND1', 'STOM', 'STOML1', 'STOML2', 'STOML3', 'STON1', 'STON1_GTF2A1L', 'STON1_GTF2A1L_GTF2A1L', 'STON1_GTF2A1L_STON1', 'STON2', 'STOX1', 'STOX2', 'STPG1', 'STPG2', 'STRA13', 'STRA6', 'STRA8', 'STRADA', 'STRADA_RP11_51F16_8', 'STRADB', 'STRAP', 'STRBP', 'STRC', 'STRC_STRCP1', 'STRCP1', 'STRIP1', 'STRIP2', 'STRN', 'STRN3', 'STRN4', 'STS', 'STT3A', 'STT3B', 'STUB1', 'STX10', 'STX11', 'STX12', 'STX16_STX16_NPEPL1', 'STX17', 'STX18', 'STX18_AS1', 'STX19', 'STX1A', 'STX1B', 'STX2', 'STX3', 'STX4', 'STX5', 'STX6', 'STX7', 'STX8', 'STXBP1', 'STXBP2', 'STXBP2_CTD_3214H19_4', 'STXBP3', 'STXBP4', 'STXBP5', 'STXBP5_AS1', 'STXBP5L', 'STXBP6', 'STYK1', 'STYX', 'STYXL1', 'SUB1', 'SUCLA2', 'SUCLG1', 'SUCLG2', 'SUCNR1', 'SUCO', 'SUDS3', 'SUFU', 'SUGP1', 'SUGP2', 'SUGT1', 'SUGT1P', 'SUGT1P3_TPTE2P5', 'SULF1', 'SULF2', 'SULT1A1', 'SULT1A2', 'SULT1A4_SLX1B_SLX1B_SULT1A4', 'SULT1A4_SLX1B_SULT1A4', 'SULT1B1', 'SULT1C2', 'SULT1C3', 'SULT1C4', 'SULT1E1', 'SULT2A1', 'SULT2B1', 'SULT4A1', 'SULT6B1', 'SUMF1', 'SUMF2', 'SUMO1', 'SUMO2', 'SUMO3', 'SUN1', 'SUN1_GET4', 'SUN2', 'SUN3', 'SUN5', 'SUOX', 'SUPT16H', 'SUPT20H', 'SUPT3H', 'SUPT4H1', 'SUPT5H', 'SUPT6H', 'SUPT7L', 'SUPV3L1', 'SURF1', 'SURF2', 'SURF4', 'SURF6', 'SUSD1', 'SUSD2', 'SUSD3', 'SUSD4', 'SUSD5', 'SUSD5_SNORD112', 'SUSD5_Y_RNA', 'SUV39H1', 'SUV39H2', 'SUV420H1', 'SUV420H2', 'SUV420H2_AC020922_1', 'SUZ12', 'SUZ12P', 'SV2A', 'SV2B', 'SV2C', 'SVEP1', 'SVIL', 'SVILP1', 'SVIP', 'SVOP', 'SVOPL', 'SWAP70', 'SWI5', 'SWSAP1', 'SWT1', 'SYAP1', 'SYBU', 'SYCE1', 'SYCE1_SPRN', 'SYCE1L', 'SYCE2', 'SYCE3', 'SYCN', 'SYCP1', 'SYCP2', 'SYCP2L', 'SYCP2L_RP11_637O19_3', 'SYCP2L_TMEM14B_RP11_637O19_3', 'SYCP3', 'SYDE1', 'SYDE2', 'SYF2', 'SYK', 'SYMPK', 'SYN1', 'SYN2', 'SYN3', 'SYNC', 'SYNCRIP', 'SYNCRIP_RP11_321N4_5', 'SYNDIG1', 'SYNDIG1L', 'SYNE1', 'SYNE2', 'SYNE3', 'SYNE4', 'SYNE4_AC002116_8', 'SYNGAP1', 'SYNGAP1_MIR5004', 'SYNGR1', 'SYNGR2', 'SYNGR3', 'SYNGR4', 'SYNJ1', 'SYNJ2', 'SYNJ2BP', 'SYNJ2BP_SYNJ2BP_COX16', 'SYNM', 'SYNPO', 'SYNPO2', 'SYNPO2L', 'SYNPR', 'SYNRG', 'SYP', 'SYPL1', 'SYPL2', 'SYPL2_SNORA51', 'SYS1_SYS1_DBNDD2', 'SYT1', 'SYT10', 'SYT11', 'SYT12', 'SYT13', 'SYT14', 'SYT15', 'SYT16', 'SYT17', 'SYT17_CTD_2349B8_1', 'SYT2', 'SYT3', 'SYT3_SHANK1', 'SYT4', 'SYT5', 'SYT6', 'SYT7', 'SYT7_RP11_794G24_1', 'SYT8', 'SYT9', 'SYTL1', 'SYTL2', 'SYTL3', 'SYTL4_AMDP1_TRPC6P_TCEB1P24_DDX11L16_WASIR1', 'SYTL5', 'SYVN1', 'SZRD1', 'SZT2', 'SZT2_U3', 'T', 'TAAR1', 'TAAR2', 'TAAR5', 'TAAR9', 'TAB1', 'TAB2', 'TAB2_RP1_111D6_3', 'TAB3', 'TAC1', 'TAC3', 'TAC4', 'TACC1', 'TACC2', 'TACC3', 'TACO1', 'TACR1', 'TACR1_Y_RNA', 'TACR2', 'TACR3', 'TADA1', 'TADA2A', 'TADA2B', 'TADA3', 'TAF10', 'TAF11', 'TAF12', 'TAF13', 'TAF15', 'TAF1A', 'TAF1B', 'TAF1C', 'TAF1D', 'TAF1D_SNORA32', 'TAF1D_SNORA40_MIR1304_SNORA8_SNORD5', 'TAF1D_SNORD5', 'TAF2', 'TAF3', 'TAF4', 'TAF4B', 'TAF5', 'TAF5L', 'TAF6', 'TAF6L', 'TAF7L_AMDP1_TRPC6P_TCEB1P24_DDX11L16_WASIR1', 'TAF8', 'TAF9', 'TAGAP', 'TAGLN', 'TAGLN2', 'TAGLN3', 'TAL1', 'TALDO1', 'TAMM41', 'TANC1', 'TANC2', 'TANGO2', 'TANGO6', 'TANK', 'TAOK1', 'TAOK2', 'TAOK3', 'TAP1', 'TAP2', 'TAPBP', 'TAPBPL', 'TAPT1', 'TAPT1_AS1', 'TARBP1', 'TARBP2', 'TARDBP', 'TARM1', 'TARS', 'TARS2', 'TARSL2', 'TAS1R1', 'TAS1R2', 'TAS1R2_RP13_279N23_2', 'TAS1R3', 'TAS2R1', 'TAS2R1_CTD_2143L24_1', 'TAS2R10', 'TAS2R13', 'TAS2R16', 'TAS2R20', 'TAS2R3', 'TAS2R30', 'TAS2R31', 'TAS2R38', 'TAS2R4', 'TAS2R41', 'TAS2R42', 'TAS2R43', 'TAS2R46', 'TAS2R5', 'TAS2R50', 'TASP1', 'TAT', 'TATDN1', 'TATDN2', 'TATDN2_RP11_438J1_1', 'TATDN3', 'TAX1BP1', 'TAX1BP3', 'TAX1BP3_P2RX5_TAX1BP3', 'TBATA', 'TBC1D1', 'TBC1D10A', 'TBC1D10A_RP1_130H16_18', 'TBC1D10B', 'TBC1D10C', 'TBC1D12', 'TBC1D13', 'TBC1D14', 'TBC1D15', 'TBC1D16', 'TBC1D16_AC100791_1', 'TBC1D17', 'TBC1D17_snoU13', 'TBC1D19', 'TBC1D2', 'TBC1D20', 'TBC1D21', 'TBC1D22A', 'TBC1D22A_snoU13', 'TBC1D22B', 'TBC1D23', 'TBC1D24', 'TBC1D24_RP11_20I23_1', 'TBC1D25', 'TBC1D25_snoU13', 'TBC1D26', 'TBC1D27', 'TBC1D28', 'TBC1D28_RP11_815I9_3', 'TBC1D28_ZNF286B', 'TBC1D29', 'TBC1D2B', 'TBC1D3', 'TBC1D30', 'TBC1D31', 'TBC1D32', 'TBC1D3B', 'TBC1D3C', 'TBC1D3F', 'TBC1D3G', 'TBC1D3H', 'TBC1D3H_TBC1D3C', 'TBC1D3H_TBC1D3G', 'TBC1D3H_TBC1D3G_CTB_91J4_3', 'TBC1D3P1_DHX40P1', 'TBC1D3P1_DHX40P1_DHX40P1', 'TBC1D3P1_DHX40P1_TBC1D3P1', 'TBC1D3P2', 'TBC1D3P2_RP11_51L5_7', 'TBC1D3P5', 'TBC1D4', 'TBC1D5', 'TBC1D7', 'TBC1D7_RP1_257A7_4', 'TBC1D8', 'TBC1D9', 'TBC1D9B', 'TBCA', 'TBCB', 'TBCCD1', 'TBCD', 'TBCE', 'TBCE_RP11_293G6_A_3', 'TBCEL', 'TBCK', 'TBK1', 'TBKBP1', 'TBL1X', 'TBL1XR1', 'TBL1Y', 'TBL2', 'TBL3', 'TBP', 'TBPL1', 'TBPL2', 'TBR1', 'TBR1_SLC4A10_AC009487_5', 'TBRG1', 'TBRG4', 'TBRG4_SNORA5B', 'TBX1', 'TBX10', 'TBX15', 'TBX18', 'TBX19', 'TBX2', 'TBX20', 'TBX21', 'TBX22_IL9R_SPRY3_VAMP7_WASH6P_DPH3P2_AJ271736_10', 'TBX3', 'TBX4', 'TBX5', 'TBX5_AS1', 'TBX6', 'TBXA2R', 'TBXAS1', 'TC2N', 'TCAIM', 'TCAM1P', 'TCAP', 'TCEA1', 'TCEA2', 'TCEA3', 'TCEAL3_IL9R_SPRY3_VAMP7_TCEAL1_WASH6P_DPH3P2_AJ271736_10', 'TCEAL3_IL9R_SPRY3_VAMP7_WASH6P_DPH3P2_AJ271736_10', 'TCEAL5_AMDP1_TRPC6P_TCEB1P24_DDX11L16_WASIR1', 'TCEAL6_AMDP1_TRPC6P_TCEB1P24_DDX11L16_WASIR1', 'TCEAL8_AMDP1_TRPC6P_TCEB1P24_DDX11L16_WASIR1', 'TCEANC', 'TCEANC2', 'TCEB1', 'TCEB2', 'TCEB3', 'TCEB3B', 'TCERG1', 'TCERG1L', 'TCF12', 'TCF15', 'TCF19', 'TCF20', 'TCF21', 'TCF23', 'TCF25', 'TCF25_RP11_566K11_7', 'TCF3', 'TCF4', 'TCF7', 'TCF7L1', 'TCF7L2', 'TCFL5', 'TCHH', 'TCHHL1', 'TCHP', 'TCIRG1', 'TCL1A', 'TCL1B_RP11_1070N10_6', 'TCL6', 'TCL6_RP11_1070N10_6', 'TCN1', 'TCN2', 'TCOF1', 'TCP1', 'TCP1_SNORA20', 'TCP1_SNORA29', 'TCP10', 'TCP10L', 'TCP10L_AP000275_65', 'TCP10L2', 'TCP11', 'TCP11L1', 'TCP11L2', 'TCTA', 'TCTE1', 'TCTE3', 'TCTEX1D1', 'TCTEX1D2', 'TCTEX1D2_RP11_447L10_1', 'TCTEX1D4', 'TCTN1', 'TCTN2', 'TCTN3', 'TDG', 'TDGF1', 'TDGF1_AC104304_1', 'TDH', 'TDO2', 'TDP1', 'TDP2', 'TDRD1', 'TDRD10', 'TDRD12', 'TDRD3', 'TDRD5', 'TDRD6', 'TDRD7', 'TDRD9', 'TDRG1', 'TDRKH', 'TDRP', 'TEAD1', 'TEAD2', 'TEAD3', 'TEAD4', 'TEC', 'TECPR1', 'TECPR2', 'TECR', 'TECRL', 'TECTA', 'TECTB', 'TEF', 'TEFM', 'TEK', 'TEKT1', 'TEKT2', 'TEKT3', 'TEKT4', 'TEKT4P2', 'TEKT5', 'TELO2', 'TEN1_CDK3_TEN1_CDK3', 'TEN1_TEN1_CDK3', 'TENC1', 'TENM1_AMDP1_TRPC6P_TCEB1P24_DDX11L16_WASIR1', 'TENM2', 'TENM3', 'TENM4', 'TEP1', 'TEP1_Y_RNA', 'TEPP', 'TERC', 'TERF1', 'TERF2', 'TERF2IP', 'TERT', 'TES', 'TESC', 'TESK1', 'TESK2', 'TESPA1', 'TET1', 'TET2', 'TET2_snoU13', 'TET3', 'TEX10', 'TEX101', 'TEX11_AMDP1_TRPC6P_TCEB1P24_DDX11L16_WASIR1', 'TEX12_SDHD', 'TEX13A_AMDP1_TRPC6P_TCEB1P24_DDX11L16_WASIR1', 'TEX13B_AMDP1_TRPC6P_TCEB1P24_DDX11L16_WASIR1', 'TEX14', 'TEX15', 'TEX15_Y_RNA', 'TEX2', 'TEX22', 'TEX26', 'TEX26_AS1', 'TEX261_AC007040_11', 'TEX264', 'TEX28_AMDP1_TRPC6P_TCEB1P24_DDX11L16_WASIR1', 'TEX29', 'TEX30', 'TEX33', 'TEX35', 'TEX35_C1orf220_C1ORF220', 'TEX36', 'TEX37', 'TEX40_RP11_783K16_10', 'TEX41', 'TEX9', 'TF', 'TF_TFP1', 'TFAM', 'TFAP2A', 'TFAP2A_AS1', 'TFAP2B', 'TFAP2C', 'TFAP2D', 'TFAP2E', 'TFAP4', 'TFB1M', 'TFB2M', 'TFCP2', 'TFCP2L1', 'TFDP1', 'TFDP2', 'TFDP3_AMDP1_TRPC6P_TCEB1P24_DDX11L16_WASIR1', 'TFE3', 'TFEB', 'TFEC', 'TFF1', 'TFF2', 'TFF3', 'TFG', 'TFIP11', 'TFP1', 'TFPI', 'TFPI2', 'TFPT', 'TFR2', 'TFRC', 'TG', 'TGDS', 'TGFA', 'TGFB1', 'TGFB1I1', 'TGFB2', 'TGFB3', 'TGFBI', 'TGFBR1', 'TGFBR2', 'TGFBR3', 'TGFBRAP1', 'TGIF1', 'TGIF2_TGIF2_C20orf24', 'TGIF2LY', 'TGM1', 'TGM2', 'TGM3', 'TGM4', 'TGM5', 'TGM6', 'TGM7', 'TGOLN2', 'TGS1', 'TH', 'THADA', 'THADA_Y_RNA', 'THAP1', 'THAP10', 'THAP2_RP11_293I14_2', 'THAP3', 'THAP4', 'THAP5', 'THAP6', 'THAP7', 'THAP7_AS1', 'THAP8', 'THAP9', 'THAP9_AS1', 'THBS1', 'THBS2', 'THBS3', 'THBS4', 'THEG', 'THEM4', 'THEM5', 'THEM6', 'THEMIS', 'THEMIS2', 'THG1L', 'THNSL1', 'THNSL2', 'THOC1', 'THOC2_AMDP1_TRPC6P_TCEB1P24_DDX11L16_WASIR1', 'THOC3', 'THOC5', 'THOC6', 'THOC7', 'THOP1', 'THPO', 'THRA', 'THRAP3', 'THRB', 'THRSP', 'THSD1', 'THSD4', 'THSD7A', 'THSD7B', 'THSD7B_SNORA51', 'THTPA_RP11_66N24_4', 'THUMPD1', 'THUMPD2', 'THUMPD3', 'THY1', 'THYN1', 'TIA1', 'TIAL1', 'TIAM1', 'TIAM2', 'TICAM1', 'TICRR', 'TIE1', 'TIFA', 'TIFAB', 'TIGD1_MIR5001', 'TIGD3', 'TIGD7', 'TIGIT', 'TIMD4', 'TIMELESS', 'TIMELESS_Y_RNA', 'TIMM10', 'TIMM10B', 'TIMM10B_DNHD1', 'TIMM13', 'TIMM13_LMNB2', 'TIMM17A', 'TIMM17B', 'TIMM21', 'TIMM22', 'TIMM23', 'TIMM23B', 'TIMM44', 'TIMM44_Y_RNA', 'TIMM50', 'TIMM8A_AMDP1_TRPC6P_TCEB1P24_DDX11L16_WASIR1', 'TIMM8B', 'TIMM9', 'TIMMDC1', 'TIMP1', 'TIMP2', 'TIMP2_DDC8', 'TIMP3', 'TIMP4', 'TINAG', 'TINAGL1', 'TINCR', 'TINF2', 'TIPARP', 'TIPIN', 'TIPRL', 'TIRAP', 'TJAP1', 'TJP1', 'TJP2', 'TJP3', 'TK1', 'TK2', 'TK2_RP11_403P17_5', 'TK2_Y_RNA', 'TKT', 'TKTL1_IL9R_SPRY3_VAMP7_WASH6P_DPH3P2_AJ271736_10', 'TLCD1', 'TLDC1', 'TLDC2', 'TLE1', 'TLE2', 'TLE2_SNORA70', 'TLE3', 'TLE4', 'TLE6', 'TLK1', 'TLK2', 'TLL1', 'TLL2', 'TLN1', 'TLN2', 'TLR1', 'TLR1_TLR6', 'TLR10', 'TLR3', 'TLR4', 'TLR5', 'TLR7', 'TLR8', 'TLR9', 'TLX1', 'TLX1NB', 'TLX2', 'TLX3', 'TM2D1', 'TM2D2', 'TM2D3', 'TM4SF1', 'TM4SF18', 'TM4SF19', 'TM4SF19_TCTEX1D2_RP11_447L10_1', 'TM4SF19_AS1', 'TM4SF20', 'TM4SF4', 'TM4SF5', 'TM6SF1', 'TM6SF2', 'TM6SF2_AC138430_4', 'TM7SF2', 'TM7SF3', 'TM9SF1', 'TM9SF1_CHMP4A_AL136419_6', 'TM9SF1_IPO4_RP11_468E2_2', 'TM9SF1_MDP1_CHMP4A_AL136419_6_NEDD8_MDP1', 'TM9SF2', 'TM9SF3', 'TM9SF4', 'TMA16', 'TMA7', 'TMBIM1', 'TMBIM4', 'TMBIM4_LLPH', 'TMBIM6', 'TMC1', 'TMC2', 'TMC3', 'TMC4', 'TMC5', 'TMC6', 'TMC7', 'TMC8', 'TMCC1', 'TMCC1_AS1', 'TMCC2', 'TMCC3', 'TMCO1', 'TMCO2', 'TMCO2_snoU13', 'TMCO3', 'TMCO4', 'TMCO5A', 'TMCO6', 'TMED1', 'TMED10', 'TMED2', 'TMED3', 'TMED4', 'TMED5', 'TMED6_RP11_343C2_7_RP11_343C2_9', 'TMED7_TICAM2_TICAM2_TMED7', 'TMED8', 'TMED9', 'TMED9_SNORA51', 'TMEFF1_MSANTD3_MSANTD3_TMEFF1', 'TMEFF1_MSANTD3_TMEFF1', 'TMEFF2', 'TMEM100', 'TMEM101', 'TMEM102', 'TMEM104', 'TMEM105', 'TMEM106A', 'TMEM106B', 'TMEM106C', 'TMEM107', 'TMEM108', 'TMEM109', 'TMEM11', 'TMEM110_TMEM110_MUSTN1', 'TMEM114', 'TMEM115', 'TMEM116', 'TMEM117', 'TMEM119', 'TMEM120A', 'TMEM120B', 'TMEM121', 'TMEM123', 'TMEM125', 'TMEM126A', 'TMEM126B', 'TMEM127', 'TMEM128', 'TMEM129', 'TMEM130', 'TMEM131', 'TMEM132A', 'TMEM132B', 'TMEM132C', 'TMEM132D', 'TMEM132E', 'TMEM134', 'TMEM135', 'TMEM136', 'TMEM138', 'TMEM139', 'TMEM140', 'TMEM141', 'TMEM141_RP11_216L13_17', 'TMEM143', 'TMEM144', 'TMEM144_RP11_597D13_9', 'TMEM145', 'TMEM147', 'TMEM14A', 'TMEM14B', 'TMEM14C', 'TMEM150A', 'TMEM150B', 'TMEM150C', 'TMEM151A', 'TMEM151B', 'TMEM151B_RP11_444E17_6', 'TMEM154', 'TMEM155', 'TMEM156', 'TMEM159', 'TMEM160', 'TMEM161A', 'TMEM161B', 'TMEM161B_AS1', 'TMEM163', 'TMEM165', 'TMEM167A', 'TMEM167B', 'TMEM168', 'TMEM169', 'TMEM17', 'TMEM170A', 'TMEM170A_RP11_77K12_1', 'TMEM170B', 'TMEM171', 'TMEM173', 'TMEM174', 'TMEM175', 'TMEM176A', 'TMEM176B', 'TMEM177', 'TMEM178A', 'TMEM179', 'TMEM179B', 'TMEM18', 'TMEM180', 'TMEM181', 'TMEM182', 'TMEM183A', 'TMEM184A', 'TMEM184B', 'TMEM184C', 'TMEM185A_AMDP1_TRPC6P_TCEB1P24_DDX11L16_WASIR1', 'TMEM186', 'TMEM189', 'TMEM189_TMEM189_UBE2V1', 'TMEM19', 'TMEM19_RP11_293I14_2', 'TMEM190', 'TMEM191A', 'TMEM191C', 'TMEM192', 'TMEM194A', 'TMEM194B', 'TMEM196', 'TMEM198', 'TMEM198B', 'TMEM199_CTB_96E2_3', 'TMEM199_SARM1_CTB_96E2_3', 'TMEM2', 'TMEM200A', 'TMEM200C', 'TMEM201', 'TMEM202', 'TMEM204', 'TMEM205', 'TMEM206', 'TMEM207', 'TMEM208', 'TMEM209', 'TMEM211', 'TMEM212', 'TMEM213', 'TMEM214', 'TMEM215', 'TMEM216', 'TMEM217', 'TMEM218', 'TMEM219', 'TMEM219_snoU13', 'TMEM220', 'TMEM222', 'TMEM223', 'TMEM225', 'TMEM229B', 'TMEM230', 'TMEM231_RP11_77K12_8', 'TMEM232', 'TMEM233', 'TMEM234', 'TMEM235', 'TMEM236', 'TMEM237', 'TMEM237_ENO1P4', 'TMEM239_C20orf141', 'TMEM240', 'TMEM241', 'TMEM242', 'TMEM243', 'TMEM244', 'TMEM245', 'TMEM246', 'TMEM247', 'TMEM248', 'TMEM249', 'TMEM25', 'TMEM25_TTC36', 'TMEM25_snoU13', 'TMEM251_RP11_371E8_4', 'TMEM252', 'TMEM253', 'TMEM254', 'TMEM254_AS1', 'TMEM255A_AMDP1_TRPC6P_TCEB1P24_DDX11L16_WASIR1', 'TMEM255B', 'TMEM256_TMEM256_PLSCR3_C17orf61_PLSCR3', 'TMEM256_PLSCR3_C17orf61_PLSCR3', 'TMEM258', 'TMEM258_MIR611', 'TMEM259', 'TMEM26', 'TMEM260', 'TMEM27', 'TMEM30A', 'TMEM30C', 'TMEM33', 'TMEM37', 'TMEM38A', 'TMEM38B', 'TMEM39A', 'TMEM39B', 'TMEM40', 'TMEM41A', 'TMEM41B', 'TMEM42', 'TMEM43', 'TMEM43_RP11_434D12_1', 'TMEM44', 'TMEM44_AS1', 'TMEM45A', 'TMEM45B', 'TMEM47', 'TMEM5', 'TMEM50A', 'TMEM50B', 'TMEM51', 'TMEM51_AS1', 'TMEM52', 'TMEM52B', 'TMEM53', 'TMEM54', 'TMEM55A', 'TMEM55B', 'TMEM56_RP11_57H12_6', 'TMEM57', 'TMEM59', 'TMEM59L', 'TMEM60', 'TMEM61', 'TMEM62', 'TMEM63A', 'TMEM63B', 'TMEM63C', 'TMEM63C_RP11_463C8_4', 'TMEM64', 'TMEM65', 'TMEM66', 'TMEM67', 'TMEM68', 'TMEM69', 'TMEM70', 'TMEM71', 'TMEM72', 'TMEM72_AS1', 'TMEM74', 'TMEM74B', 'TMEM75', 'TMEM79', 'TMEM80', 'TMEM82', 'TMEM86A', 'TMEM86B', 'TMEM87A', 'TMEM87B', 'TMEM88', 'TMEM88B', 'TMEM89', 'TMEM8A', 'TMEM8B', 'TMEM8C', 'TMEM9', 'TMEM91', 'TMEM91_CTC_435M10_3', 'TMEM92', 'TMEM95', 'TMEM97', 'TMEM98', 'TMEM99', 'TMEM9B', 'TMF1', 'TMIE', 'TMIGD1', 'TMIGD2', 'TMLHE_AMDP1_TRPC6P_TCEB1P24_DDX11L16_WASIR1', 'TMOD1', 'TMOD2', 'TMOD3', 'TMPO', 'TMPO_AS1', 'TMPPE', 'TMPRSS11A', 'TMPRSS11B', 'TMPRSS11D', 'TMPRSS11E', 'TMPRSS11F', 'TMPRSS11F_Y_RNA', 'TMPRSS12', 'TMPRSS13', 'TMPRSS15', 'TMPRSS2', 'TMPRSS2_Y_RNA', 'TMPRSS3', 'TMPRSS4', 'TMPRSS4_AS1', 'TMPRSS5', 'TMPRSS6', 'TMPRSS7', 'TMPRSS9', 'TMSB10', 'TMSB15A_AMDP1_TRPC6P_TCEB1P24_DDX11L16_WASIR1', 'TMSB4X', 'TMSB4XP2', 'TMSB4Y', 'TMTC1', 'TMTC2', 'TMTC3', 'TMTC4', 'TMUB1', 'TMUB2', 'TMX1', 'TMX2', 'TMX2_TMX2_CTNND1', 'TMX3', 'TMX4', 'TNC', 'TNF', 'TNFAIP1', 'TNFAIP2', 'TNFAIP3', 'TNFAIP6', 'TNFAIP8', 'TNFAIP8L2', 'TNFAIP8L3', 'TNFRSF10A', 'TNFRSF10B', 'TNFRSF10C', 'TNFRSF10D', 'TNFRSF11A', 'TNFRSF11B', 'TNFRSF12A', 'TNFRSF13B', 'TNFRSF13B_TBC1D27', 'TNFRSF13C', 'TNFRSF14', 'TNFRSF17', 'TNFRSF18', 'TNFRSF19', 'TNFRSF1A', 'TNFRSF1B', 'TNFRSF21', 'TNFRSF25', 'TNFRSF25_PLEKHG5', 'TNFRSF4', 'TNFRSF8', 'TNFRSF9', 'TNFRSF9_Y_RNA', 'TNFSF10', 'TNFSF11', 'TNFSF12', 'TNFSF12_TNFSF12_TNFSF13', 'TNFSF13', 'TNFSF13_TNFSF12_TNFSF12_TNFSF13', 'TNFSF13B', 'TNFSF14', 'TNFSF15', 'TNFSF18', 'TNFSF4', 'TNFSF8', 'TNFSF9', 'TNIK', 'TNIP1', 'TNIP2', 'TNIP3', 'TNK1', 'TNK2', 'TNK2_AS1', 'TNKS', 'TNKS1BP1', 'TNKS2', 'TNMD_IL9R_SPRY3_VAMP7_WASH6P_DPH3P2_AJ271736_10', 'TNN', 'TNNC1', 'TNNC2', 'TNNI1', 'TNNI2', 'TNNI3', 'TNNI3_CTD_2587H24_4', 'TNNT1', 'TNNT2', 'TNNT3', 'TNP1', 'TNP2', 'TNPO1', 'TNPO2', 'TNPO3', 'TNR', 'TNRC18', 'TNRC18_Y_RNA', 'TNRC6A', 'TNRC6B', 'TNRC6C', 'TNRC6C_AC021593_1', 'TNS1', 'TNS1_AC009469_1', 'TNS3', 'TNS4', 'TNXA', 'TNXB', 'TNXB_ATF6B', 'TOB1', 'TOB2', 'TOB2P1', 'TOE1', 'TOLLIP', 'TOM1', 'TOM1L1', 'TOM1L2', 'TOMM20', 'TOMM20L', 'TOMM22', 'TOMM34', 'TOMM40', 'TOMM40L', 'TOMM40L_MIR5187', 'TOMM5', 'TOMM5_RP11_613M10_8', 'TOMM7', 'TOMM70A', 'TONSL', 'TOP1', 'TOP1MT', 'TOP2A', 'TOP2B', 'TOP3A', 'TOP3B', 'TOPAZ1', 'TOPBP1', 'TOPORS', 'TOPORS_AS1', 'TOR1A', 'TOR1AIP1', 'TOR1AIP2', 'TOR1B', 'TOR2A', 'TOR3A', 'TOR4A', 'TOX', 'TOX2', 'TOX3', 'TOX4', 'TP53', 'TP53BP1', 'TP53BP2', 'TP53I11', 'TP53I13', 'TP53I3', 'TP53INP1', 'TP53INP2', 'TP53RK', 'TP53TG1', 'TP53TG3', 'TP53TG3B', 'TP53TG3C', 'TP53TG3D', 'TP53TG5', 'TP63', 'TP73', 'TP73_AS1', 'TPBG', 'TPCN1', 'TPCN2', 'TPCN2_snoU13', 'TPD52', 'TPD52L1', 'TPD52L2', 'TPD52L3', 'TPGS1', 'TPGS2', 'TPH1', 'TPH1_RP1_59M18_2', 'TPH2', 'TPI1', 'TPK1', 'TPM1', 'TPM2', 'TPM3', 'TPM3_RN7SL431P', 'TPM3P9_ZNF761', 'TPM4', 'TPMT', 'TPO', 'TPP1', 'TPP2', 'TPPP', 'TPPP2', 'TPPP3', 'TPR', 'TPRA1', 'TPRG1', 'TPRG1L', 'TPRKB', 'TPRN', 'TPRX1', 'TPRXL', 'TPRXL_FGD5P1', 'TPSAB1', 'TPSB2', 'TPSD1', 'TPSD1_RP11_616M22_5', 'TPSG1', 'TPST1', 'TPST2', 'TPT1', 'TPT1_SNORA31', 'TPT1_AS1', 'TPTE', 'TPTE_BAGE2', 'TPTE2', 'TPTE2P1', 'TPTE2P2', 'TPTE2P2_RP11_248G5_8', 'TPTE2P3', 'TPTE2P3_RP11_78J21_4', 'TPTE2P5', 'TPTE2P6_RP11_556N21_1', 'TPTEP1', 'TPX2', 'TRA2A', 'TRA2B', 'TRABD', 'TRABD2A', 'TRAC', 'TRADD', 'TRAF1', 'TRAF2', 'TRAF3', 'TRAF3IP1', 'TRAF3IP2', 'TRAF3IP2_AS1', 'TRAF3IP3', 'TRAF4', 'TRAF5', 'TRAF6', 'TRAF7', 'TRAFD1', 'TRAIP', 'TRAJ11', 'TRAJ13', 'TRAJ15', 'TRAJ18', 'TRAJ20', 'TRAJ21', 'TRAJ23', 'TRAJ27', 'TRAJ28', 'TRAJ29', 'TRAJ30', 'TRAJ32', 'TRAJ35', 'TRAJ36', 'TRAJ37', 'TRAJ4', 'TRAJ43', 'TRAJ45', 'TRAJ46', 'TRAJ48', 'TRAJ49', 'TRAJ50', 'TRAJ52', 'TRAJ53', 'TRAJ54', 'TRAJ56', 'TRAJ57', 'TRAJ58', 'TRAJ8', 'TRAK1', 'TRAK2', 'TRAM1', 'TRAM2', 'TRAM2_AS1', 'TRANK1', 'TRAP1', 'TRAPPC1', 'TRAPPC10', 'TRAPPC11', 'TRAPPC12', 'TRAPPC13', 'TRAPPC13_CTC_534A2_2', 'TRAPPC2', 'TRAPPC2L', 'TRAPPC2P1', 'TRAPPC3', 'TRAPPC3L', 'TRAPPC4', 'TRAPPC5', 'TRAPPC5_CTD_3214H19_16', 'TRAPPC6A', 'TRAPPC6B', 'TRAPPC8', 'TRAPPC9', 'TRAT1', 'TRAV1_1', 'TRAV1_2', 'TRAV10', 'TRAV12_1', 'TRAV12_2', 'TRAV12_3', 'TRAV13_1', 'TRAV13_2', 'TRAV14DV4', 'TRAV16', 'TRAV17', 'TRAV18', 'TRAV19', 'TRAV2', 'TRAV20', 'TRAV21', 'TRAV22', 'TRAV23DV6', 'TRAV24', 'TRAV25', 'TRAV26_1', 'TRAV26_2', 'TRAV27', 'TRAV29DV5', 'TRAV3', 'TRAV30', 'TRAV34', 'TRAV35', 'TRAV36DV7', 'TRAV38_1', 'TRAV38_2DV8', 'TRAV39', 'TRAV4', 'TRAV40', 'TRAV41', 'TRAV5', 'TRAV6', 'TRAV8_1', 'TRAV8_2', 'TRAV8_3', 'TRAV8_4', 'TRAV8_6', 'TRAV9_2', 'TRBC2', 'TRBJ2_1', 'TRBJ2_3', 'TRBJ2_6', 'TRBV10_1', 'TRBV10_2', 'TRBV11_1', 'TRBV11_2', 'TRBV19', 'TRBV2', 'TRBV20_1', 'TRBV21_1', 'TRBV24_1', 'TRBV25_1', 'TRBV27', 'TRBV28', 'TRBV29_1', 'TRBV3_1', 'TRBV30', 'TRBV4_1', 'TRBV4_2', 'TRBV5_1', 'TRBV5_4', 'TRBV5_5', 'TRBV5_6', 'TRBV6_1', 'TRBV6_6', 'TRBV6_7', 'TRBV6_9', 'TRBV7_1', 'TRBV7_3', 'TRBV7_6', 'TRBV7_7', 'TRBV7_8', 'TRDD3', 'TRDJ1', 'TRDJ2', 'TRDJ3', 'TRDJ4', 'TRDMT1', 'TRDN', 'TRDV1', 'TRDV2', 'TRDV3', 'TREH', 'TREM1', 'TREM2', 'TREML1', 'TREML2', 'TREML3P', 'TREML4', 'TREML5P', 'TRERF1', 'TREX1_ATRIP', 'TREX2_AMDP1_TRPC6P_TCEB1P24_DDX11L16_WASIR1', 'TREX2_HAUS7_AMDP1_TRPC6P_TCEB1P24_DDX11L16_WASIR1', 'TRGC1', 'TRGC2', 'TRGJP', 'TRGJP1', 'TRGJP2', 'TRGV10', 'TRGV11', 'TRGV2', 'TRGV3', 'TRGV7', 'TRGV8', 'TRGV9', 'TRH', 'TRHDE', 'TRHDE_AS1', 'TRIAP1', 'TRIB1', 'TRIB2', 'TRIB3', 'TRIL_AC005013_1', 'TRIM10', 'TRIM11', 'TRIM13', 'TRIM13_KCNRG', 'TRIM14', 'TRIM15', 'TRIM16', 'TRIM16_RP11_385D13_1', 'TRIM16L', 'TRIM16L_RP11_815I9_5', 'TRIM17', 'TRIM2', 'TRIM21', 'TRIM22', 'TRIM23', 'TRIM24', 'TRIM25', 'TRIM26', 'TRIM27', 'TRIM28', 'TRIM29', 'TRIM3', 'TRIM31', 'TRIM32', 'TRIM33', 'TRIM34', 'TRIM35', 'TRIM36', 'TRIM37', 'TRIM38', 'TRIM39', 'TRIM39_TRIM39_RPP21', 'TRIM4', 'TRIM4_OR2AE1', 'TRIM40', 'TRIM41', 'TRIM42', 'TRIM43', 'TRIM44', 'TRIM45', 'TRIM46', 'TRIM47', 'TRIM48', 'TRIM49', 'TRIM49C', 'TRIM49D1', 'TRIM49D2P', 'TRIM5', 'TRIM50', 'TRIM51', 'TRIM51HP', 'TRIM52', 'TRIM52_AS1', 'TRIM52_AS1_CTC_338M12_4', 'TRIM53AP', 'TRIM53BP', 'TRIM54', 'TRIM55', 'TRIM56', 'TRIM58', 'TRIM58_OR2W3', 'TRIM59_RP11_432B6_3', 'TRIM6', 'TRIM6_TRIM6_TRIM34', 'TRIM6_TRIM34_TRIM34', 'TRIM60', 'TRIM61', 'TRIM61_RP11_366M4_11', 'TRIM62', 'TRIM63', 'TRIM64', 'TRIM65', 'TRIM66', 'TRIM67', 'TRIM68', 'TRIM69', 'TRIM7', 'TRIM71', 'TRIM72', 'TRIM73', 'TRIM74', 'TRIM77', 'TRIM8', 'TRIM9', 'TRIML1', 'TRIML2', 'TRIO', 'TRIOBP', 'TRIOBP_NOL12', 'TRIP10', 'TRIP11', 'TRIP12', 'TRIP13', 'TRIP4', 'TRIP6', 'TRIQK', 'TRIT1', 'TRMT1', 'TRMT10A', 'TRMT10B', 'TRMT10C', 'TRMT11', 'TRMT112', 'TRMT13', 'TRMT1L', 'TRMT2A', 'TRMT2B_AMDP1_TRPC6P_TCEB1P24_DDX11L16_WASIR1', 'TRMT44', 'TRMT5', 'TRMT6', 'TRMT61A', 'TRMT61B', 'TRMU', 'TRNAU1AP', 'TRNP1', 'TRNT1', 'TRO', 'TROAP', 'TROVE2', 'TRPA1', 'TRPC1', 'TRPC2', 'TRPC3', 'TRPC3_Y_RNA', 'TRPC4', 'TRPC4AP', 'TRPC5_AMDP1_TRPC6P_TCEB1P24_DDX11L16_WASIR1', 'TRPC6', 'TRPC6_Y_RNA', 'TRPC7', 'TRPM1', 'TRPM2', 'TRPM2_snoZ6', 'TRPM3', 'TRPM4', 'TRPM5', 'TRPM6', 'TRPM7', 'TRPM8', 'TRPS1', 'TRPT1', 'TRPV1', 'TRPV1_SHPK', 'TRPV2', 'TRPV2_AC093484_4', 'TRPV3', 'TRPV3_SPATA22', 'TRPV4', 'TRPV5', 'TRPV6', 'TRRAP', 'TRRAP_AC004893_11', 'TRUB1', 'TRUB2', 'TSACC', 'TSC1', 'TSC2', 'TSC22D1', 'TSC22D2', 'TSC22D3_AMDP1_TRPC6P_TCEB1P24_DDX11L16_WASIR1', 'TSC22D4', 'TSC22D4_C7orf61', 'TSEN15', 'TSEN2', 'TSEN34', 'TSEN54', 'TSFM', 'TSFM_RP11_571M6_15', 'TSG101', 'TSGA10', 'TSGA10IP', 'TSGA13', 'TSGA13_COPG2', 'TSHB', 'TSHR', 'TSHZ1', 'TSHZ2', 'TSHZ3', 'TSKS', 'TSKU', 'TSLP', 'TSN', 'TSNARE1', 'TSNAX_TSNAX_DISC1', 'TSNAX_DISC1', 'TSNAXIP1', 'TSPAN1', 'TSPAN10', 'TSPAN11', 'TSPAN12', 'TSPAN13', 'TSPAN14', 'TSPAN15', 'TSPAN16', 'TSPAN17', 'TSPAN18', 'TSPAN19', 'TSPAN2', 'TSPAN3', 'TSPAN31', 'TSPAN32', 'TSPAN33', 'TSPAN4', 'TSPAN5', 'TSPAN6_AMDP1_TRPC6P_TCEB1P24_DDX11L16_WASIR1', 'TSPAN7', 'TSPAN7_TM4SF2', 'TSPAN8', 'TSPAN9', 'TSPEAR', 'TSPO', 'TSPO2', 'TSPY1', 'TSPY10', 'TSPY2', 'TSPY26P', 'TSPY3', 'TSPY3_TSPY1', 'TSPY4', 'TSPY6P', 'TSPY8', 'TSPY8_TSPY7P', 'TSPYL6', 'TSR1', 'TSR2', 'TSR3', 'TSSC1', 'TSSC2', 'TSSC4', 'TSSK1B', 'TSSK2', 'TSSK3', 'TSSK4', 'TSSK6', 'TST', 'TSTA3', 'TSTD1', 'TSTD1_F11R', 'TSTD2', 'TSTD3', 'TTBK1', 'TTBK2', 'TTC1', 'TTC12', 'TTC13', 'TTC14', 'TTC16', 'TTC17', 'TTC18', 'TTC19', 'TTC21A', 'TTC21B', 'TTC22', 'TTC23', 'TTC23L', 'TTC24', 'TTC25', 'TTC26', 'TTC27', 'TTC28', 'TTC28_AS1', 'TTC29', 'TTC3', 'TTC31', 'TTC32', 'TTC33', 'TTC36', 'TTC37', 'TTC38', 'TTC39A', 'TTC39B', 'TTC39C', 'TTC4_MROH7_TTC4', 'TTC40', 'TTC5', 'TTC6', 'TTC7A', 'TTC7B', 'TTC8', 'TTC9', 'TTC9B', 'TTC9C', 'TTF1', 'TTF2', 'TTI1', 'TTI1_Y_RNA', 'TTI2', 'TTI2_FUT10', 'TTK', 'TTL', 'TTLL1', 'TTLL10', 'TTLL10_AS1', 'TTLL11', 'TTLL11_IT1', 'TTLL12', 'TTLL13', 'TTLL13_RP11_697E2_6', 'TTLL2', 'TTLL3', 'TTLL4', 'TTLL5', 'TTLL5_IFT43', 'TTLL6', 'TTLL7', 'TTLL9', 'TTN', 'TTN_AS1', 'TTPA', 'TTPAL', 'TTR', 'TTTY1', 'TTTY10', 'TTTY11', 'TTTY12', 'TTTY13', 'TTTY14', 'TTTY15', 'TTTY16', 'TTTY17A', 'TTTY17B', 'TTTY17C', 'TTTY18', 'TTTY19', 'TTTY1B', 'TTTY2', 'TTTY20', 'TTTY21', 'TTTY21B', 'TTTY22', 'TTTY23', 'TTTY23B', 'TTTY23B_AC006335_6_AC006335_2', 'TTTY2B', 'TTTY3', 'TTTY4', 'TTTY4B', 'TTTY4C', 'TTTY5', 'TTTY6', 'TTTY6B', 'TTTY7', 'TTTY7B', 'TTTY8', 'TTTY8B', 'TTTY9B', 'TTYH1', 'TTYH2', 'TTYH3', 'TUB', 'TUBA1A', 'TUBA1B', 'TUBA1C', 'TUBA3C', 'TUBA3D', 'TUBA3E', 'TUBA3FP', 'TUBA4A', 'TUBA4B', 'TUBAL3', 'TUBB', 'TUBB1', 'TUBB2A', 'TUBB2B', 'TUBB3', 'TUBB4A', 'TUBB4B', 'TUBB6', 'TUBB7P', 'TUBB8', 'TUBB8P7', 'TUBBP5', 'TUBD1', 'TUBE1', 'TUBG1', 'TUBG2', 'TUBGCP2', 'TUBGCP3', 'TUBGCP4', 'TUBGCP5', 'TUBGCP6', 'TUFM', 'TUFT1', 'TUFT1_RP11_74C1_4', 'TUG1', 'TULP1', 'TULP2', 'TULP3', 'TULP3_RHNO1', 'TULP4', 'TUSC2', 'TUSC3', 'TUSC5', 'TUSC7', 'TUT1_MIR3654', 'TVP23A', 'TVP23B', 'TVP23C_CDRT4_TVP23C_CDRT4', 'TVP23C_TVP23C_CDRT4', 'TWF1', 'TWF2_TLR9', 'TWIST1', 'TWIST2', 'TWISTNB', 'TWSG1', 'TXK', 'TXLNA', 'TXLNB', 'TXLNB_RP1_225E12_3', 'TXLNG', 'TXLNG2P', 'TXN', 'TXN2', 'TXNDC11', 'TXNDC12', 'TXNDC15', 'TXNDC16', 'TXNDC17', 'TXNDC2', 'TXNDC5_BLOC1S5_TXNDC5', 'TXNDC8', 'TXNDC9', 'TXNIP', 'TXNL1', 'TXNL4A', 'TXNL4B', 'TXNRD1', 'TXNRD2', 'TXNRD3', 'TXNRD3_TXNRD3NB', 'TYK2', 'TYMP', 'TYMP_ODF3B', 'TYMP_SCO2', 'TYMS', 'TYR', 'TYRO3', 'TYROBP', 'TYRP1', 'TYSND1', 'TYW1', 'TYW1B', 'TYW3', 'TYW5', 'U2AF1', 'U2AF1L4_AD000671_6', 'U2AF2', 'U2SURP', 'U2SURP_RP11_372E1_6', 'U3', 'U3_REPIN1', 'U3_RP11_795J1_1', 'U3_RP11_804N13_1', 'U3_TUBA4B', 'U66059_29', 'U73166_2', 'UACA', 'UAP1', 'UAP1L1', 'UBA1', 'UBA2', 'UBA3', 'UBA5', 'UBA52', 'UBA6', 'UBA6_AS1', 'UBA7', 'UBA7_MIR5193', 'UBAC1', 'UBAC2', 'UBAC2_AS1', 'UBALD1', 'UBALD2', 'UBAP1', 'UBAP1L', 'UBAP2', 'UBAP2L', 'UBASH3A', 'UBASH3B', 'UBB', 'UBBP4', 'UBC', 'UBD', 'UBE2B', 'UBE2C', 'UBE2D1', 'UBE2D2', 'UBE2D3', 'UBE2D4', 'UBE2E1', 'UBE2E2', 'UBE2E3', 'UBE2F', 'UBE2F_UBE2F_SCLY', 'UBE2F_SCLY', 'UBE2G1', 'UBE2G2', 'UBE2H', 'UBE2I', 'UBE2J1', 'UBE2J1_Y_RNA', 'UBE2J2', 'UBE2K', 'UBE2L3', 'UBE2L6', 'UBE2M', 'UBE2MP1', 'UBE2N', 'UBE2O', 'UBE2Q1', 'UBE2Q2', 'UBE2Q2P1', 'UBE2Q2P2', 'UBE2Q2P2_RP13_608F4_8', 'UBE2Q2P3', 'UBE2QL1', 'UBE2R2', 'UBE2S', 'UBE2T', 'UBE2U', 'UBE2V1', 'UBE2V1_TMEM189_TMEM189_UBE2V1', 'UBE2V2', 'UBE2W', 'UBE2W_RP11_463D19_2', 'UBE2Z', 'UBE3A', 'UBE3B', 'UBE3C', 'UBE3D', 'UBE4A', 'UBE4B', 'UBFD1', 'UBIAD1', 'UBL3', 'UBL4A_AMDP1_TRPC6P_TCEB1P24_DDX11L16_WASIR1', 'UBL5', 'UBL7', 'UBL7_AS1', 'UBLCP1', 'UBN1', 'UBN1_snoU13', 'UBN2', 'UBOX5', 'UBOX5_AS1', 'UBP1', 'UBQLN1', 'UBQLN3', 'UBQLN4', 'UBR1', 'UBR2', 'UBR3', 'UBR4', 'UBR4_RP5_1126H10_2', 'UBR5', 'UBR7', 'UBR7_RP11_371E8_4', 'UBTD1', 'UBTD2', 'UBTF', 'UBXN1', 'UBXN10', 'UBXN11', 'UBXN2A', 'UBXN2B', 'UBXN4', 'UBXN6', 'UBXN7', 'UBXN7_AS1', 'UBXN8', 'UCA1', 'UCHL1', 'UCHL3', 'UCHL3_RP11_29G8_3', 'UCHL5', 'UCK1', 'UCK2', 'UCKL1', 'UCMA', 'UCN', 'UCN2', 'UCN3', 'UCP1', 'UCP2', 'UCP3', 'UEVLD', 'UFC1', 'UFD1L', 'UFL1', 'UFM1', 'UFSP2', 'UGCG', 'UGDH', 'UGDH_AS1', 'UGGT1', 'UGGT1_snoU13', 'UGGT2', 'UGP2', 'UGT1A1', 'UGT1A1_UGT1A5', 'UGT1A10', 'UGT1A2P', 'UGT1A4', 'UGT1A6', 'UGT1A6_UGT1A1_UGT1A3', 'UGT1A6_UGT1A10_UGT1A1_UGT1A4', 'UGT1A6_UGT1A7', 'UGT1A7', 'UGT1A8_UGT1A1', 'UGT1A8_UGT1A6_UGT1A9_UGT1A10_UGT1A1_UGT1A4_UGT1A7_UGT1A3_UGT1A5', 'UGT1A9_UGT1A1', 'UGT2A1', 'UGT2A1_UGT2A2', 'UGT2A3', 'UGT2B10', 'UGT2B11', 'UGT2B15', 'UGT2B28', 'UGT2B4', 'UGT2B7', 'UGT3A1', 'UGT3A2', 'UGT8', 'UHMK1', 'UHRF1', 'UHRF1BP1', 'UHRF1BP1L', 'UHRF2', 'UIMC1', 'ULBP1', 'ULBP2', 'ULBP3', 'ULK1', 'ULK2', 'ULK3', 'ULK4', 'ULK4P1_RP13_395E19_3', 'ULK4P2', 'ULK4P3', 'UMOD', 'UMODL1', 'UMPS', 'UNC119', 'UNC119B', 'UNC13A', 'UNC13B', 'UNC13C', 'UNC13D', 'UNC45A', 'UNC45B', 'UNC50', 'UNC5A', 'UNC5B', 'UNC5C', 'UNC5CL', 'UNC5CL_OARD1', 'UNC5D', 'UNC79', 'UNC80', 'UNC93A', 'UNC93B1', 'UNCX', 'UNG', 'UNK', 'UNKL', 'UOX', 'UPB1', 'UPF1', 'UPF2', 'UPF3A', 'UPF3B_AMDP1_TRPC6P_TCEB1P24_DDX11L16_WASIR1', 'UPK1A', 'UPK1A_AS1', 'UPK1B', 'UPK1B_RP11_484M3_5', 'UPK2', 'UPK3A', 'UPK3B', 'UPK3B_DTX2P1_DTX2P1_UPK3BP1_PMS2P11', 'UPK3BL_POLR2J2_RP11_514P8_6', 'UPK3BL_RP11_514P8_6', 'UPP1', 'UPP2', 'UQCC1', 'UQCC2', 'UQCC2_SBP1', 'UQCR10', 'UQCR11', 'UQCRB', 'UQCRBP1', 'UQCRC1', 'UQCRC2', 'UQCRFS1', 'UQCRH', 'UQCRQ', 'URAD', 'URAHP', 'URB1', 'URB2', 'URGCP', 'URGCP_URGCP_MRPS24', 'URI1', 'URM1', 'UROC1', 'UROD', 'UROS', 'USB1', 'USE1', 'USF1', 'USF2', 'USH1C', 'USH1G', 'USH2A', 'USHBP1', 'USHBP1_AC010646_3', 'USMG5', 'USO1', 'USP1', 'USP10', 'USP11', 'USP12', 'USP13', 'USP14', 'USP15', 'USP16', 'USP17L2', 'USP18', 'USP19', 'USP2', 'USP2_AS1', 'USP20', 'USP21', 'USP22', 'USP24', 'USP25', 'USP26_AMDP1_TRPC6P_TCEB1P24_DDX11L16_WASIR1', 'USP27X_AS1', 'USP28', 'USP29', 'USP3', 'USP3_AS1', 'USP30', 'USP31', 'USP32', 'USP32P1', 'USP32P2_FAM106A', 'USP32P3', 'USP33', 'USP34', 'USP35', 'USP36', 'USP37', 'USP38', 'USP39', 'USP4', 'USP4_C3orf62', 'USP40', 'USP41', 'USP42', 'USP43', 'USP44', 'USP45', 'USP46', 'USP47', 'USP48', 'USP49', 'USP5', 'USP50', 'USP51', 'USP53', 'USP54', 'USP54_Y_RNA', 'USP6', 'USP6NL', 'USP7', 'USP8', 'USP9X', 'USP9Y', 'USPL1', 'UST', 'UTF1', 'UTP11L', 'UTP14A_IL9R_SPRY3_VAMP7_WASH6P_DPH3P2_AJ271736_10', 'UTP15', 'UTP18', 'UTP18_snoU13', 'UTP20', 'UTP20_snoU13', 'UTP23', 'UTP6', 'UTRN', 'UTS2', 'UTS2B', 'UTY', 'UVRAG', 'UVSSA', 'UXS1', 'UXT', 'VAC14', 'VAC14_AS1', 'VAMP1', 'VAMP2', 'VAMP2_RP11_599B13_6', 'VAMP3', 'VAMP4', 'VAMP5', 'VAMP8', 'VANGL1', 'VANGL2', 'VAPA', 'VAPB', 'VARS', 'VARS2', 'VARS2_GTF2H4', 'VASH1', 'VASH1_RP11_488C13_7', 'VASH2', 'VASN', 'VASP', 'VAT1', 'VAT1L', 'VAV1', 'VAV2', 'VAV3', 'VAX1', 'VAX2', 'VCAM1', 'VCAN', 'VCL', 'VCP', 'VCPIP1', 'VCPKMT', 'VCX', 'VCX2', 'VCX3A', 'VCX3B', 'VCY', 'VDAC1', 'VDAC2', 'VDAC3', 'VDR', 'VEGFA', 'VEGFB', 'VEGFC', 'VENTX', 'VEPH1', 'VEZF1', 'VEZT', 'VGF', 'VGLL1_IL9R_SPRY3_VAMP7_WASH6P_DPH3P2_AJ271736_10', 'VGLL2', 'VGLL3', 'VGLL4', 'VGLL4_AC090939_1', 'VHL', 'VIL1', 'VILL', 'VIM', 'VIM_AS1', 'VIMP', 'VIP', 'VIPAS39', 'VIPR1', 'VIPR2', 'VIT', 'VKORC1', 'VKORC1_RP11_196G11_1', 'VKORC1L1', 'VLDLR', 'VMAC_AC104532_2', 'VMO1', 'VMP1', 'VN1R2', 'VN1R3', 'VN1R5', 'VNN1', 'VNN2', 'VNN3', 'VOPP1', 'VPRBP', 'VPREB1', 'VPREB3', 'VPS11', 'VPS13A', 'VPS13B', 'VPS13C', 'VPS13D', 'VPS16', 'VPS18', 'VPS25', 'VPS26A', 'VPS26B', 'VPS28', 'VPS29', 'VPS33A', 'VPS33A_RP11_512M8_5', 'VPS33B', 'VPS35', 'VPS36', 'VPS37A', 'VPS37B', 'VPS37C', 'VPS37D', 'VPS39', 'VPS41', 'VPS41_Y_RNA', 'VPS45', 'VPS4A', 'VPS4A_RP11_343C2_11', 'VPS4B', 'VPS51', 'VPS52', 'VPS53', 'VPS54', 'VPS72', 'VPS72_TMOD4', 'VPS8', 'VPS9D1', 'VPS9D1_AS1', 'VRK1', 'VRK2', 'VRK3', 'VRTN', 'VSIG10', 'VSIG10L', 'VSIG2', 'VSIG2_ESAM', 'VSIG4_AMDP1_TRPC6P_TCEB1P24_DDX11L16_WASIR1', 'VSIG8', 'VSIG8_RP11_190A12_7', 'VSNL1', 'VSTM1', 'VSTM2A', 'VSTM2B', 'VSTM2L', 'VSTM4', 'VSTM5', 'VSX1', 'VSX2', 'VTA1', 'VTCN1', 'VTI1A', 'VTI1B', 'VTI1B_RP11_1012A1_4', 'VTN', 'VTN_CTB_96E2_2', 'VTRNA1_1', 'VTRNA1_2', 'VTRNA1_3', 'VWA1', 'VWA2', 'VWA3A', 'VWA3B', 'VWA5A', 'VWA5B1', 'VWA5B2', 'VWA7', 'VWA8', 'VWA9', 'VWC2', 'VWC2L', 'VWCE', 'VWDE', 'VWF', 'WAC', 'WAC_AS1', 'WAPAL', 'WARS', 'WARS2', 'WAS', 'WASF1', 'WASF2', 'WASF3', 'WASH2P', 'WASH3P', 'WASH4P', 'WASH4P_Z84812_4', 'WASH5P', 'WASH6P_AJ271736_10', 'WASH7P', 'WASL', 'WBP1_INO80B', 'WBP11', 'WBP1L', 'WBP2', 'WBP2NL', 'WBP4', 'WBSCR16', 'WBSCR17', 'WBSCR22', 'WBSCR27', 'WBSCR28', 'WDFY1', 'WDFY2', 'WDFY3', 'WDFY3_AS2', 'WDFY4', 'WDHD1', 'WDPCP', 'WDR1', 'WDR11', 'WDR11_AS1', 'WDR12', 'WDR13', 'WDR16', 'WDR17', 'WDR18', 'WDR19', 'WDR20', 'WDR24', 'WDR25', 'WDR26', 'WDR27', 'WDR3', 'WDR31', 'WDR33', 'WDR34', 'WDR35', 'WDR36', 'WDR37', 'WDR38', 'WDR4', 'WDR41', 'WDR43', 'WDR45', 'WDR45_AF196779_12', 'WDR45B', 'WDR46', 'WDR47', 'WDR48', 'WDR49', 'WDR5', 'WDR52', 'WDR53', 'WDR54', 'WDR55', 'WDR59', 'WDR5B', 'WDR6', 'WDR60', 'WDR61', 'WDR62', 'WDR63', 'WDR64', 'WDR65', 'WDR66', 'WDR66_RP11_87C12_2', 'WDR7', 'WDR7_WDR7_UT1', 'WDR70', 'WDR72', 'WDR73', 'WDR74', 'WDR74_RNU2_2P', 'WDR75', 'WDR76', 'WDR77', 'WDR78', 'WDR81', 'WDR82', 'WDR83', 'WDR83OS', 'WDR83OS_CTD_2192J16_24', 'WDR86', 'WDR86_AS1', 'WDR87', 'WDR88', 'WDR89', 'WDR90', 'WDR91', 'WDR92', 'WDR92_RP11_474G23_1', 'WDR93', 'WDR96', 'WDSUB1', 'WDTC1', 'WDYHV1', 'WEE1', 'WEE2']"
     ]
    }
   ],
   "source": [
    "import os\n",
    "import pandas as pd\n",
    "import re\n",
    "\n",
    "EXPORT_DIR = \"/Users/arujatiwary/Desktop/DL+IS-2/gene_parts_csv\"\n",
    "FINAL_CSV = \"/Users/arujatiwary/Desktop/DL+IS-2/tcga_gene_expression_final.csv\"\n",
    "\n",
    "def clean_col(c):\n",
    "    # sanitize column names to avoid merge errors\n",
    "    c = str(c)\n",
    "    c = re.sub(r'[^0-9a-zA-Z_]', '_', c)   # replace bad chars\n",
    "    c = re.sub(r'_+', '_', c)              # collapse multiple underscores\n",
    "    return c.strip('_')\n",
    "\n",
    "# Find all part CSVs\n",
    "tables = sorted(\n",
    "    [f for f in os.listdir(EXPORT_DIR) if f.startswith(\"gene_part_\") and f.endswith(\".csv\")]\n",
    ")\n",
    "print(f\"Found {len(tables)} gene_part CSV files.\")\n",
    "\n",
    "# Load base\n",
    "samples_path = os.path.join(EXPORT_DIR, \"samples_list.csv\")\n",
    "base = pd.read_csv(samples_path)\n",
    "base.set_index(\"sample_id\", inplace=True)\n",
    "print(f\"Loaded base: {base.shape}\")\n",
    "\n",
    "for i, file in enumerate(tables, 1):\n",
    "    part_path = os.path.join(EXPORT_DIR, file)\n",
    "    print(f\"[{i}/{len(tables)}] Merging {file} ...\")\n",
    "\n",
    "    part = pd.read_csv(part_path)\n",
    "\n",
    "    # Detect and fix sample ID column\n",
    "    if \"sample_id\" in part.columns:\n",
    "        part.set_index(\"sample_id\", inplace=True)\n",
    "    else:\n",
    "        first_col = part.columns[0]\n",
    "        part.rename(columns={first_col: \"sample_id\"}, inplace=True)\n",
    "        part.set_index(\"sample_id\", inplace=True)\n",
    "\n",
    "    # Clean column names\n",
    "    part.columns = [clean_col(c) for c in part.columns]\n",
    "\n",
    "    # Drop duplicate columns (happens due to alias collisions)\n",
    "    part = part.loc[:, ~part.columns.duplicated()]\n",
    "\n",
    "    # Align sample IDs\n",
    "    part = part.reindex(base.index)\n",
    "\n",
    "    # Join one batch at a time, streaming-safe\n",
    "    base = pd.concat([base, part], axis=1)\n",
    "\n",
    "    del part\n",
    "\n",
    "    # Write checkpoint every 10 merges\n",
    "    if i % 10 == 0:\n",
    "        chk_path = os.path.join(EXPORT_DIR, f\"checkpoint_{i}.parquet\")\n",
    "        base.to_parquet(chk_path)\n",
    "        print(f\"💾 Checkpoint saved ({base.shape})\")\n",
    "\n",
    "# Final cleanup of column names again\n",
    "base.columns = [clean_col(c) for c in base.columns]\n",
    "base = base.loc[:, ~base.columns.duplicated()]\n",
    "\n",
    "# Save final CSV\n",
    "base.to_csv(FINAL_CSV)\n",
    "print(f\"\\n✅ Final merged CSV written: {FINAL_CSV}\")\n",
    "print(f\"Final shape: {base.shape}\")"
   ]
  },
  {
   "cell_type": "code",
   "execution_count": null,
   "id": "aa67046a",
   "metadata": {},
   "outputs": [
    {
     "name": "stdout",
     "output_type": "stream",
     "text": [
      "Current base shape before dedupe: (10459, 20547)\n",
      "Duplicate column names detected. Collapsing by mean...\n"
     ]
    },
    {
     "name": "stderr",
     "output_type": "stream",
     "text": [
      "/var/folders/5y/zh95d1496_bg3syh_09zx1wh0000gn/T/ipykernel_13844/2610167499.py:23: FutureWarning: DataFrame.groupby with axis=1 is deprecated. Do `frame.T.groupby(...)` without axis instead.\n",
      "  base = base.groupby(base.columns, axis=1).mean()\n"
     ]
    },
    {
     "name": "stdout",
     "output_type": "stream",
     "text": [
      "After collapsing duplicates, shape: (10459, 17947)\n",
      "Wrote deduped checkpoint: /Users/arujatiwary/Desktop/DL+IS-2/gene_parts_csv/checkpoint_dedup.parquet\n",
      "Final dedupe before CSV write (just in case)...\n"
     ]
    },
    {
     "name": "stderr",
     "output_type": "stream",
     "text": [
      "/var/folders/5y/zh95d1496_bg3syh_09zx1wh0000gn/T/ipykernel_13844/2610167499.py:41: FutureWarning: DataFrame.groupby with axis=1 is deprecated. Do `frame.T.groupby(...)` without axis instead.\n",
      "  base = base.groupby(base.columns, axis=1).mean()\n"
     ]
    },
    {
     "name": "stdout",
     "output_type": "stream",
     "text": [
      "Final shape: (10459, 17947)\n",
      "Final CSV written: /Users/arujatiwary/Desktop/DL+IS-2/tcga_gene_expression_final.csv\n"
     ]
    }
   ],
   "source": [
    "import os, pandas as pd\n",
    "\n",
    "EXPORT_DIR = \"/Users/arujatiwary/Desktop/DL+IS-2/gene_parts_csv\"\n",
    "FINAL_CSV  = \"/Users/arujatiwary/Desktop/DL+IS-2/tcga_gene_expression_final.csv\"\n",
    "\n",
    "if 'base' not in globals():\n",
    "    chk_files = sorted([f for f in os.listdir(EXPORT_DIR) if f.startswith(\"checkpoint_\") and f.endswith(\".parquet\")])\n",
    "    if chk_files:\n",
    "        latest = chk_files[-1]\n",
    "        print(\"Loading latest checkpoint:\", latest)\n",
    "        base = pd.read_parquet(os.path.join(EXPORT_DIR, latest))\n",
    "    else:\n",
    "        print(\"No checkpoint found in EXPORT_DIR. Loading samples_list as base.\")\n",
    "        base = pd.read_csv(os.path.join(EXPORT_DIR, \"samples_list.csv\")).set_index(\"sample_id\")\n",
    "\n",
    "print(\"Current base shape before dedupe:\", base.shape)\n",
    "\n",
    "# collapse duplicate-named columns by taking mean across duplicates\n",
    "if base.columns.duplicated().any():\n",
    "    print(\"Duplicate column names detected. Collapsing by mean...\")\n",
    "    base = base.groupby(base.columns, axis=1).mean()\n",
    "    print(\"After collapsing duplicates, shape:\", base.shape)\n",
    "else:\n",
    "    print(\"No duplicate column names detected; nothing to collapse.\")\n",
    "\n",
    "# Save a safe checkpoint (parquet) after deduping\n",
    "safe_chk = os.path.join(EXPORT_DIR, \"checkpoint_dedup.parquet\")\n",
    "base.to_parquet(safe_chk)\n",
    "print(\"Wrote deduped checkpoint:\", safe_chk)\n",
    "\n",
    "\n",
    "if any(f.startswith(\"gene_part_\") for f in os.listdir(EXPORT_DIR)):\n",
    "    # if merging is complete, this will simply re-export final CSV\n",
    "    pass\n",
    "\n",
    "# Final write \n",
    "print(\"Final dedupe before CSV write (just in case)...\")\n",
    "base = base.groupby(base.columns, axis=1).mean()\n",
    "print(\"Final shape:\", base.shape)\n",
    "base.to_csv(FINAL_CSV)\n",
    "print(\"Final CSV written:\", FINAL_CSV)"
   ]
  },
  {
   "cell_type": "code",
   "execution_count": 25,
   "id": "12e97799",
   "metadata": {},
   "outputs": [
    {
     "name": "stdout",
     "output_type": "stream",
     "text": [
      "Loading expression data (this may take a minute)...\n",
      "Expression shape: (10459, 17948)\n",
      "Loading labels in streamed mode...\n",
      "Labels loaded: (10459, 5)\n",
      "Aligned samples: 10459\n",
      "Dropping all-NaN and zero-variance columns...\n",
      "Remaining genes: 17947\n",
      "Imputing missing values...\n",
      "Normalizing features...\n",
      "✅ Preprocessed data saved to /Users/arujatiwary/Desktop/DL+IS-2/tcga_preprocessed.csv\n",
      "Final shape: (10459, 17949)\n",
      "\n",
      "Sanity check:\n",
      "Binary label distribution:\n",
      "binary_label\n",
      "1    9732\n",
      "0     727\n",
      "Name: count, dtype: int64\n",
      "\n",
      "Cancer type counts (top 10):\n",
      "cancer_type\n",
      "TCGA-BRCA    1217\n",
      "TCGA-KIRC     606\n",
      "TCGA-LUAD     576\n",
      "TCGA-THCA     572\n",
      "TCGA-HNSC     566\n",
      "TCGA-LUSC     552\n",
      "TCGA-PRAD     550\n",
      "TCGA-LGG      530\n",
      "TCGA-SKCM     473\n",
      "TCGA-STAD     450\n",
      "Name: count, dtype: int64\n"
     ]
    }
   ],
   "source": [
    "import pandas as pd\n",
    "import numpy as np\n",
    "from sklearn.preprocessing import StandardScaler\n",
    "\n",
    "# ---------- FILE PATHS ----------\n",
    "EXPR_FILE = \"/Users/arujatiwary/Desktop/DL+IS-2/tcga_gene_expression_final.csv\"\n",
    "LABELS_FILE = \"/Users/arujatiwary/Desktop/DL+IS-2/tcga_sample_labels_with_cancer_type.csv\"  # your label file\n",
    "OUT_FILE = \"/Users/arujatiwary/Desktop/DL+IS-2/tcga_preprocessed.csv\"\n",
    "# --------------------------------\n",
    "\n",
    "print(\"Loading expression data (this may take a minute)...\")\n",
    "expr = pd.read_csv(EXPR_FILE, low_memory=False)\n",
    "print(f\"Expression shape: {expr.shape}\")\n",
    "\n",
    "# If sample_id is not an index, make it one\n",
    "if 'sample_id' in expr.columns:\n",
    "    expr.set_index('sample_id', inplace=True)\n",
    "\n",
    "import pandas as pd\n",
    "\n",
    "print(\"Loading labels in streamed mode...\")\n",
    "chunks = pd.read_csv(\n",
    "    LABELS_FILE,\n",
    "    chunksize=5000,      # read 5k rows at a time\n",
    "    low_memory=False\n",
    ")\n",
    "labels = pd.concat(chunks, ignore_index=True)\n",
    "print(f\"Labels loaded: {labels.shape}\")\n",
    "\n",
    "\n",
    "# Use normalized_sample_id to align\n",
    "labels.set_index('normalized_sample_id', inplace=True)\n",
    "\n",
    "# Align expression and labels\n",
    "expr = expr.loc[expr.index.intersection(labels.index)]\n",
    "labels = labels.loc[expr.index]\n",
    "print(f\"Aligned samples: {expr.shape[0]}\")\n",
    "\n",
    "# 1️⃣ Drop columns (genes) that are entirely missing or constant\n",
    "print(\"Dropping all-NaN and zero-variance columns...\")\n",
    "expr = expr.dropna(axis=1, how='all')\n",
    "expr = expr.loc[:, expr.nunique() > 1]\n",
    "print(f\"Remaining genes: {expr.shape[1]}\")\n",
    "\n",
    "# 2️⃣ Impute missing values (median per column)\n",
    "print(\"Imputing missing values...\")\n",
    "expr = expr.fillna(expr.median())\n",
    "\n",
    "# 3️⃣ Normalize each gene (Z-score)\n",
    "print(\"Normalizing features...\")\n",
    "scaler = StandardScaler()\n",
    "expr_scaled = pd.DataFrame(\n",
    "    scaler.fit_transform(expr),\n",
    "    index=expr.index,\n",
    "    columns=expr.columns\n",
    ")\n",
    "\n",
    "# 4️⃣ Reattach labels\n",
    "expr_scaled['binary_label'] = labels['binary_label']\n",
    "expr_scaled['cancer_type'] = labels['project_id']\n",
    "\n",
    "# 5️⃣ Save clean file\n",
    "expr_scaled.to_csv(OUT_FILE)\n",
    "print(f\"✅ Preprocessed data saved to {OUT_FILE}\")\n",
    "print(f\"Final shape: {expr_scaled.shape}\")\n",
    "\n",
    "# 6️⃣ Basic sanity checks\n",
    "print(\"\\nSanity check:\")\n",
    "print(\"Binary label distribution:\")\n",
    "print(expr_scaled['binary_label'].value_counts())\n",
    "print(\"\\nCancer type counts (top 10):\")\n",
    "print(expr_scaled['cancer_type'].value_counts().head(10))"
   ]
  },
  {
   "cell_type": "code",
   "execution_count": 27,
   "id": "15cb821a",
   "metadata": {},
   "outputs": [
    {
     "name": "stdout",
     "output_type": "stream",
     "text": [
      "\n",
      "🧪 Loading data...\n",
      "Data shape after sampling: (2092, 17950)\n",
      "Numeric features retained: 17947\n",
      "\n",
      "Label distribution (train): Counter({1: 1547, 0: 126})\n",
      "Label distribution (val): Counter({1: 387, 0: 32})\n",
      "\n",
      "🌲 Running RandomForest sanity check...\n",
      "✅ RandomForest Accuracy: 0.9642\n",
      "\n",
      "Classification Report:\n",
      "              precision    recall  f1-score   support\n",
      "\n",
      "           0       0.95      0.56      0.71        32\n",
      "           1       0.96      1.00      0.98       387\n",
      "\n",
      "    accuracy                           0.96       419\n",
      "   macro avg       0.96      0.78      0.84       419\n",
      "weighted avg       0.96      0.96      0.96       419\n",
      "\n"
     ]
    }
   ],
   "source": [
    "import pandas as pd\n",
    "import numpy as np\n",
    "from sklearn.model_selection import train_test_split\n",
    "from sklearn.preprocessing import StandardScaler\n",
    "from sklearn.ensemble import RandomForestClassifier\n",
    "from sklearn.metrics import accuracy_score, classification_report\n",
    "from collections import Counter\n",
    "\n",
    "# ---- CONFIG ----\n",
    "DATA_PATH = \"/Users/arujatiwary/Desktop/DL+IS-2/tcga_preprocessed.csv\"\n",
    "LABEL_COLUMN = \"binary_label\"     # or 'cancer_type'\n",
    "SAMPLE_FRACTION = 0.2\n",
    "# ----------------\n",
    "\n",
    "print(\"\\n🧪 Loading data...\")\n",
    "df = pd.read_csv(DATA_PATH)\n",
    "if SAMPLE_FRACTION < 1.0:\n",
    "    df = df.sample(frac=SAMPLE_FRACTION, random_state=42)\n",
    "print(f\"Data shape after sampling: {df.shape}\")\n",
    "\n",
    "# Ensure label exists\n",
    "if LABEL_COLUMN not in df.columns:\n",
    "    raise ValueError(f\"Label column '{LABEL_COLUMN}' not found in CSV.\")\n",
    "\n",
    "# Separate features and labels\n",
    "y = df[LABEL_COLUMN]\n",
    "X = df.drop(columns=[\"binary_label\", \"cancer_type\"], errors=\"ignore\")\n",
    "\n",
    "# Keep only numeric columns\n",
    "X = X.select_dtypes(include=[np.number])\n",
    "print(f\"Numeric features retained: {X.shape[1]}\")\n",
    "\n",
    "# Split\n",
    "X_train, X_val, y_train, y_val = train_test_split(\n",
    "    X, y, test_size=0.2, random_state=42, stratify=y\n",
    ")\n",
    "\n",
    "# Scale\n",
    "scaler = StandardScaler()\n",
    "X_train_scaled = scaler.fit_transform(X_train)\n",
    "X_val_scaled = scaler.transform(X_val)\n",
    "\n",
    "# Print label balance\n",
    "print(\"\\nLabel distribution (train):\", Counter(y_train))\n",
    "print(\"Label distribution (val):\", Counter(y_val))\n",
    "\n",
    "# RandomForest sanity check\n",
    "print(\"\\n🌲 Running RandomForest sanity check...\")\n",
    "rf = RandomForestClassifier(\n",
    "    n_estimators=100,\n",
    "    random_state=42,\n",
    "    n_jobs=-1,\n",
    "    class_weight=\"balanced\" if len(np.unique(y_train)) == 2 else None\n",
    ")\n",
    "\n",
    "rf.fit(X_train_scaled, y_train)\n",
    "rf_preds = rf.predict(X_val_scaled)\n",
    "acc = accuracy_score(y_val, rf_preds)\n",
    "\n",
    "print(f\"✅ RandomForest Accuracy: {acc:.4f}\")\n",
    "print(\"\\nClassification Report:\")\n",
    "print(classification_report(y_val, rf_preds))"
   ]
  },
  {
   "cell_type": "code",
   "execution_count": 29,
   "id": "6cb8dc79",
   "metadata": {},
   "outputs": [
    {
     "name": "stdout",
     "output_type": "stream",
     "text": [
      "\n",
      "🧪 Loading data...\n",
      "Data shape after sampling: (2092, 17950)\n",
      "After dropping samples with missing label: (2091, 17950)\n",
      "Numeric features retained: 17947\n",
      "Label distribution (train): Counter({'TCGA-BRCA': 201, 'TCGA-HNSC': 106, 'TCGA-THCA': 106, 'TCGA-KIRC': 99, 'TCGA-LUSC': 93, 'TCGA-LUAD': 93, 'TCGA-LGG': 83, 'TCGA-PRAD': 78, 'TCGA-STAD': 75, 'TCGA-SKCM': 73, 'TCGA-BLCA': 67, 'TCGA-LIHC': 63, 'TCGA-KIRP': 51, 'TCGA-COAD': 50, 'TCGA-SARC': 42, 'TCGA-CESC': 41, 'TCGA-OV': 40, 'TCGA-UCEC': 36, 'TCGA-ESCA': 33, 'TCGA-PCPG': 28, 'TCGA-PAAD': 26, 'TCGA-GBM': 25, 'TCGA-TGCT': 25, 'TCGA-LAML': 23, 'TCGA-THYM': 20, 'TCGA-READ': 15, 'TCGA-KICH': 14, 'TCGA-MESO': 14, 'TCGA-ACC': 14, 'TCGA-UCS': 10, 'TCGA-CHOL': 10, 'TCGA-UVM': 9, 'TCGA-DLBC': 9})\n",
      "Label distribution (val): Counter({'TCGA-BRCA': 50, 'TCGA-HNSC': 26, 'TCGA-THCA': 26, 'TCGA-KIRC': 25, 'TCGA-LUSC': 23, 'TCGA-LUAD': 23, 'TCGA-LGG': 21, 'TCGA-PRAD': 20, 'TCGA-STAD': 19, 'TCGA-SKCM': 18, 'TCGA-BLCA': 17, 'TCGA-LIHC': 16, 'TCGA-COAD': 13, 'TCGA-KIRP': 13, 'TCGA-CESC': 10, 'TCGA-OV': 10, 'TCGA-SARC': 10, 'TCGA-UCEC': 9, 'TCGA-ESCA': 8, 'TCGA-PCPG': 7, 'TCGA-PAAD': 7, 'TCGA-TGCT': 6, 'TCGA-LAML': 6, 'TCGA-GBM': 6, 'TCGA-THYM': 5, 'TCGA-KICH': 4, 'TCGA-MESO': 4, 'TCGA-READ': 4, 'TCGA-CHOL': 3, 'TCGA-ACC': 3, 'TCGA-UCS': 3, 'TCGA-DLBC': 2, 'TCGA-UVM': 2})\n",
      "\n",
      "🌲 Running Multiclass RandomForest sanity check...\n",
      "✅ Multiclass RandomForest Accuracy: 0.9236\n",
      "\n",
      "Classification Report:\n",
      "              precision    recall  f1-score   support\n",
      "\n",
      "    TCGA-ACC       1.00      1.00      1.00         3\n",
      "   TCGA-BLCA       0.80      0.94      0.86        17\n",
      "   TCGA-BRCA       0.96      1.00      0.98        50\n",
      "   TCGA-CESC       0.88      0.70      0.78        10\n",
      "   TCGA-CHOL       1.00      0.33      0.50         3\n",
      "   TCGA-COAD       0.71      0.92      0.80        13\n",
      "   TCGA-DLBC       1.00      1.00      1.00         2\n",
      "   TCGA-ESCA       0.71      0.62      0.67         8\n",
      "    TCGA-GBM       0.86      1.00      0.92         6\n",
      "   TCGA-HNSC       0.93      0.96      0.94        26\n",
      "   TCGA-KICH       0.80      1.00      0.89         4\n",
      "   TCGA-KIRC       1.00      0.92      0.96        25\n",
      "   TCGA-KIRP       1.00      0.92      0.96        13\n",
      "   TCGA-LAML       1.00      1.00      1.00         6\n",
      "    TCGA-LGG       1.00      0.95      0.98        21\n",
      "   TCGA-LIHC       0.94      1.00      0.97        16\n",
      "   TCGA-LUAD       0.90      0.78      0.84        23\n",
      "   TCGA-LUSC       0.83      0.83      0.83        23\n",
      "   TCGA-MESO       1.00      1.00      1.00         4\n",
      "     TCGA-OV       1.00      1.00      1.00        10\n",
      "   TCGA-PAAD       0.88      1.00      0.93         7\n",
      "   TCGA-PCPG       1.00      1.00      1.00         7\n",
      "   TCGA-PRAD       1.00      1.00      1.00        20\n",
      "   TCGA-READ       0.00      0.00      0.00         4\n",
      "   TCGA-SARC       0.91      1.00      0.95        10\n",
      "   TCGA-SKCM       1.00      1.00      1.00        18\n",
      "   TCGA-STAD       0.85      0.89      0.87        19\n",
      "   TCGA-TGCT       1.00      0.83      0.91         6\n",
      "   TCGA-THCA       1.00      1.00      1.00        26\n",
      "   TCGA-THYM       1.00      0.80      0.89         5\n",
      "   TCGA-UCEC       0.90      1.00      0.95         9\n",
      "    TCGA-UCS       1.00      1.00      1.00         3\n",
      "    TCGA-UVM       1.00      1.00      1.00         2\n",
      "\n",
      "    accuracy                           0.92       419\n",
      "   macro avg       0.90      0.89      0.89       419\n",
      "weighted avg       0.92      0.92      0.92       419\n",
      "\n"
     ]
    }
   ],
   "source": [
    "import pandas as pd\n",
    "import numpy as np\n",
    "from sklearn.model_selection import train_test_split\n",
    "from sklearn.preprocessing import StandardScaler\n",
    "from sklearn.ensemble import RandomForestClassifier\n",
    "from sklearn.metrics import accuracy_score, classification_report, confusion_matrix\n",
    "from collections import Counter\n",
    "\n",
    "# ---- CONFIG ----\n",
    "DATA_PATH = \"/Users/arujatiwary/Desktop/DL+IS-2/tcga_preprocessed.csv\"\n",
    "LABEL_COLUMN = \"cancer_type\"     # multiclass label\n",
    "SAMPLE_FRACTION = 0.2\n",
    "RANDOM_STATE = 42\n",
    "# ----------------\n",
    "\n",
    "print(\"\\n🧪 Loading data...\")\n",
    "df = pd.read_csv(DATA_PATH)\n",
    "if SAMPLE_FRACTION < 1.0:\n",
    "    df = df.sample(frac=SAMPLE_FRACTION, random_state=RANDOM_STATE)\n",
    "print(f\"Data shape after sampling: {df.shape}\")\n",
    "\n",
    "# 1) Ensure label exists and drop rows with missing labels\n",
    "if LABEL_COLUMN not in df.columns:\n",
    "    raise ValueError(f\"Label column '{LABEL_COLUMN}' not found in data.\")\n",
    "\n",
    "df = df[~df[LABEL_COLUMN].isna()].copy()\n",
    "print(f\"After dropping samples with missing label: {df.shape}\")\n",
    "\n",
    "# 2) Separate y and numeric X\n",
    "y = df[LABEL_COLUMN].astype(str)   # ensure categorical string labels\n",
    "X = df.drop(columns=[\"binary_label\", \"cancer_type\"], errors=\"ignore\")\n",
    "X = X.select_dtypes(include=[np.number])   # numeric features only\n",
    "print(f\"Numeric features retained: {X.shape[1]}\")\n",
    "\n",
    "# 3) Impute numeric NaNs with column medians (in-place)\n",
    "if X.isna().any().any():\n",
    "    print(\"Imputing numeric NaNs with column medians...\")\n",
    "    medians = X.median()\n",
    "    X = X.fillna(medians)\n",
    "    print(\"Imputation done.\")\n",
    "\n",
    "# 4) Final check for NaNs\n",
    "if X.isna().any().any() or y.isna().any():\n",
    "    raise RuntimeError(\"Unexpected NaNs remain in X or y after cleaning.\")\n",
    "\n",
    "# 5) Train/val split (stratified)\n",
    "X_train, X_val, y_train, y_val = train_test_split(\n",
    "    X, y, test_size=0.2, random_state=RANDOM_STATE, stratify=y\n",
    ")\n",
    "print(\"Label distribution (train):\", Counter(y_train))\n",
    "print(\"Label distribution (val):\", Counter(y_val))\n",
    "\n",
    "# 6) Scale features\n",
    "scaler = StandardScaler()\n",
    "X_train_scaled = scaler.fit_transform(X_train)\n",
    "X_val_scaled = scaler.transform(X_val)\n",
    "\n",
    "# 7) Train RandomForest (multiclass)\n",
    "print(\"\\n🌲 Running Multiclass RandomForest sanity check...\")\n",
    "rf = RandomForestClassifier(\n",
    "    n_estimators=200,\n",
    "    random_state=RANDOM_STATE,\n",
    "    n_jobs=-1\n",
    ")\n",
    "rf.fit(X_train_scaled, y_train)\n",
    "rf_preds = rf.predict(X_val_scaled)\n",
    "acc = accuracy_score(y_val, rf_preds)\n",
    "\n",
    "print(f\"✅ Multiclass RandomForest Accuracy: {acc:.4f}\")\n",
    "print(\"\\nClassification Report:\")\n",
    "print(classification_report(y_val, rf_preds, zero_division=0))"
   ]
  },
  {
   "cell_type": "code",
   "execution_count": 3,
   "id": "59c53ae6",
   "metadata": {},
   "outputs": [
    {
     "name": "stdout",
     "output_type": "stream",
     "text": [
      "(10459, 17950)\n"
     ]
    }
   ],
   "source": [
    "import pandas as pd\n",
    "DATA_PATH = \"/Users/arujatiwary/Desktop/DL+IS-2/tcga_preprocessed.csv\"\n",
    "df = pd.read_csv(DATA_PATH)\n",
    "print(df.shape)"
   ]
  }
 ],
 "metadata": {
  "kernelspec": {
   "display_name": "Python 3",
   "language": "python",
   "name": "python3"
  },
  "language_info": {
   "codemirror_mode": {
    "name": "ipython",
    "version": 3
   },
   "file_extension": ".py",
   "mimetype": "text/x-python",
   "name": "python",
   "nbconvert_exporter": "python",
   "pygments_lexer": "ipython3",
   "version": "3.12.8"
  }
 },
 "nbformat": 4,
 "nbformat_minor": 5
}
